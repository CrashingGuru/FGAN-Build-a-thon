{
  "nbformat": 4,
  "nbformat_minor": 0,
  "metadata": {
    "colab": {
      "name": "build-a-thon-graph-v1.ipynb",
      "provenance": [],
      "collapsed_sections": [],
      "authorship_tag": "ABX9TyM0m0MkY2iCtqBddm1XXaXP",
      "include_colab_link": true
    },
    "kernelspec": {
      "name": "python3",
      "display_name": "Python 3"
    },
    "language_info": {
      "name": "python"
    }
  },
  "cells": [
    {
      "cell_type": "markdown",
      "metadata": {
        "id": "view-in-github",
        "colab_type": "text"
      },
      "source": [
        "<a href=\"https://colab.research.google.com/github/vrra/Students-mentoring-2022/blob/main/Build-a-thon-2022/build_a_thon_graph_v1.ipynb\" target=\"_parent\"><img src=\"https://colab.research.google.com/assets/colab-badge.svg\" alt=\"Open In Colab\"/></a>"
      ]
    },
    {
      "cell_type": "markdown",
      "source": [
        "Created: 14 Apr 2022.   \n",
        "Contact: Vishnu Ram OV.   \n",
        "vishnu.n@ieee.org.   \n",
        "Licence: available for all purposes under the sun\n"
      ],
      "metadata": {
        "id": "xvVYTJnpc8NW"
      }
    },
    {
      "cell_type": "markdown",
      "source": [
        "Refer: https://neo4j.com/docs/aura/auradb/getting-started/create-database/"
      ],
      "metadata": {
        "id": "TOxLkcQAfFsO"
      }
    },
    {
      "cell_type": "markdown",
      "source": [
        "step-1: install neo4j"
      ],
      "metadata": {
        "id": "Seq4Lm-HdDJY"
      }
    },
    {
      "cell_type": "code",
      "execution_count": 1,
      "metadata": {
        "colab": {
          "base_uri": "https://localhost:8080/"
        },
        "id": "hKFE_mBLcWJL",
        "outputId": "f5b31cec-8e77-4233-9f04-a7b1a0f29a9e"
      },
      "outputs": [
        {
          "output_type": "stream",
          "name": "stdout",
          "text": [
            "Collecting neo4j\n",
            "  Downloading neo4j-4.4.2.tar.gz (89 kB)\n",
            "\u001b[?25l\r\u001b[K     |███▋                            | 10 kB 17.0 MB/s eta 0:00:01\r\u001b[K     |███████▎                        | 20 kB 22.8 MB/s eta 0:00:01\r\u001b[K     |███████████                     | 30 kB 17.0 MB/s eta 0:00:01\r\u001b[K     |██████████████▋                 | 40 kB 8.2 MB/s eta 0:00:01\r\u001b[K     |██████████████████▎             | 51 kB 6.4 MB/s eta 0:00:01\r\u001b[K     |██████████████████████          | 61 kB 7.5 MB/s eta 0:00:01\r\u001b[K     |█████████████████████████▋      | 71 kB 8.5 MB/s eta 0:00:01\r\u001b[K     |█████████████████████████████▎  | 81 kB 8.6 MB/s eta 0:00:01\r\u001b[K     |████████████████████████████████| 89 kB 4.9 MB/s \n",
            "\u001b[?25hRequirement already satisfied: pytz in /usr/local/lib/python3.7/dist-packages (from neo4j) (2018.9)\n",
            "Building wheels for collected packages: neo4j\n",
            "  Building wheel for neo4j (setup.py) ... \u001b[?25l\u001b[?25hdone\n",
            "  Created wheel for neo4j: filename=neo4j-4.4.2-py3-none-any.whl size=115365 sha256=3dadc90feaef0be43e4f66be7b0f729490d2a159bd01ae53379b4c9326283143\n",
            "  Stored in directory: /root/.cache/pip/wheels/10/d6/28/95029d7f69690dbc3b93e4933197357987de34fbd44b50a0e4\n",
            "Successfully built neo4j\n",
            "Installing collected packages: neo4j\n",
            "Successfully installed neo4j-4.4.2\n"
          ]
        }
      ],
      "source": [
        "pip install neo4j\n"
      ]
    },
    {
      "cell_type": "markdown",
      "source": [
        "step-2: imports"
      ],
      "metadata": {
        "id": "P49wR7FPejI6"
      }
    },
    {
      "cell_type": "code",
      "source": [
        "from neo4j import GraphDatabase\n",
        "import logging\n",
        "from neo4j.exceptions import ServiceUnavailable"
      ],
      "metadata": {
        "id": "CMXk5yZcd-Jt"
      },
      "execution_count": 2,
      "outputs": []
    },
    {
      "cell_type": "markdown",
      "source": [
        "step-3: define helper class"
      ],
      "metadata": {
        "id": "QJsfeO0Ve03C"
      }
    },
    {
      "cell_type": "code",
      "source": [
        "\n",
        "\n",
        "class App:\n",
        "\n",
        "    def __init__(self, uri, user, password):\n",
        "        self.driver = GraphDatabase.driver(uri, auth=(user, password))\n",
        "\n",
        "    def close(self):\n",
        "        # Don't forget to close the driver connection when you are finished with it\n",
        "        self.driver.close()\n",
        "\n",
        "    def create_friendship(self, actor1_name, actor2_name):\n",
        "        with self.driver.session() as session:\n",
        "            # Write transactions allow the driver to handle retries and transient errors\n",
        "            result = session.write_transaction(\n",
        "                self._create_and_return_friendship, actor1_name, actor2_name)\n",
        "            for row in result:\n",
        "                print(\"Created friendship between: {n1}, {n2}\".format(n1=row['n1'], n2=row['n2']))\n",
        "\n",
        "    @staticmethod\n",
        "    def _create_and_return_friendship(tx, actor1_name, actor2_name):\n",
        "        # To learn more about the Cypher syntax, see https://neo4j.com/docs/cypher-manual/current/\n",
        "        # The Reference Card is also a good resource for keywords https://neo4j.com/docs/cypher-refcard/current/\n",
        "        query = (\n",
        "            \"CREATE (n1:Actor { name: $actor1_name }) \"\n",
        "            \"CREATE (n2:Actor { name: $actor2_name }) \"\n",
        "            \"CREATE (n1)-[:USECAP]->(n2) \"\n",
        "            \"RETURN n1, n2\"\n",
        "        )\n",
        "        result = tx.run(query, actor1_name=actor1_name, actor2_name=actor2_name)\n",
        "        try:\n",
        "            return [{\"n1\": row[\"n1\"][\"name\"], \"n2\": row[\"n2\"][\"name\"]}\n",
        "                    for row in result]\n",
        "        # Capture any errors along with the query and data for traceability\n",
        "        except ServiceUnavailable as exception:\n",
        "            logging.error(\"{query} raised an error: \\n {exception}\".format(\n",
        "                query=query, exception=exception))\n",
        "            raise\n",
        "\n",
        "    def find_actor(self, actor_name):\n",
        "        with self.driver.session() as session:\n",
        "            result = session.read_transaction(self._find_and_return_actor, actor_name)\n",
        "            for row in result:\n",
        "                print(\"Found actor: {row}\".format(row=row))\n",
        "\n",
        "    @staticmethod\n",
        "    def _find_and_return_actor(tx, actor_name):\n",
        "        query = (\n",
        "            \"MATCH (n:Actor) \"\n",
        "            \"WHERE n.name = $actor_name \"\n",
        "            \"RETURN n.name AS name\"\n",
        "        )\n",
        "        result = tx.run(query, actor_name=actor_name)\n",
        "        return [row[\"name\"] for row in result]"
      ],
      "metadata": {
        "id": "FccBUxEIeKf_"
      },
      "execution_count": 10,
      "outputs": []
    },
    {
      "cell_type": "markdown",
      "source": [
        "step-4: connect to DB"
      ],
      "metadata": {
        "id": "Pjilh9vPe4LY"
      }
    },
    {
      "cell_type": "code",
      "source": [
        "# Aura queries use an encrypted connection using the \"neo4j+s\" URI scheme\n",
        "uri = \"neo4j+s://a4270446.databases.neo4j.io\"\n",
        "user = \"neo4j\"\n",
        "password = \"secret\"\n",
        "app = App(uri, user, password)"
      ],
      "metadata": {
        "id": "6p2nMvmodNw4"
      },
      "execution_count": 11,
      "outputs": []
    },
    {
      "cell_type": "markdown",
      "source": [
        "Step-5: Create relations"
      ],
      "metadata": {
        "id": "v_PlujdPvtcN"
      }
    },
    {
      "cell_type": "code",
      "source": [
        "app.create_friendship(\"Experimentation Controller\", \"Sandbox\")\n"
      ],
      "metadata": {
        "id": "aiKGLHItvp2g"
      },
      "execution_count": null,
      "outputs": []
    },
    {
      "cell_type": "markdown",
      "source": [
        "Step-6: Query actors"
      ],
      "metadata": {
        "id": "5VEb2wKlwakG"
      }
    },
    {
      "cell_type": "code",
      "source": [
        "app.find_actor(\"Experimentation Controller\")"
      ],
      "metadata": {
        "colab": {
          "base_uri": "https://localhost:8080/"
        },
        "id": "QXv630w8wdEc",
        "outputId": "698d0962-200a-46d8-8e61-6928423579b5"
      },
      "execution_count": 13,
      "outputs": [
        {
          "output_type": "stream",
          "name": "stdout",
          "text": [
            "Found actor: Experimentation Controller\n"
          ]
        }
      ]
    },
    {
      "cell_type": "markdown",
      "source": [
        "Step-6: Close the database connection"
      ],
      "metadata": {
        "id": "eBr7q13XvyeB"
      }
    },
    {
      "cell_type": "code",
      "source": [
        "app.close()"
      ],
      "metadata": {
        "id": "J2ak5OTtvrLd"
      },
      "execution_count": null,
      "outputs": []
    }
  ]
}