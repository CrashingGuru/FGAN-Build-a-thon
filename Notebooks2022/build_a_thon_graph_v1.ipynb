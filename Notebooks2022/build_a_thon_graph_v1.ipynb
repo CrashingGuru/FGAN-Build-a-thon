{
  "cells": [
    {
      "cell_type": "markdown",
      "metadata": {
        "id": "view-in-github",
        "colab_type": "text"
      },
      "source": [
        "<a href=\"https://colab.research.google.com/github/vrra/FGAN-Build-a-thon-2022/blob/main/Notebooks2022/build_a_thon_graph_v1.ipynb\" target=\"_parent\"><img src=\"https://colab.research.google.com/assets/colab-badge.svg\" alt=\"Open In Colab\"/></a>"
      ]
    },
    {
      "cell_type": "markdown",
      "metadata": {
        "id": "xvVYTJnpc8NW"
      },
      "source": [
        "Created: 14 Apr 2022.   \n",
        "Contact: Vishnu Ram OV.   \n",
        "vishnu.n@ieee.org.   \n",
        "Licence: available for all purposes under the sun\n"
      ]
    },
    {
      "cell_type": "markdown",
      "metadata": {
        "id": "TOxLkcQAfFsO"
      },
      "source": [
        "Refer: https://neo4j.com/docs/aura/auradb/getting-started/create-database/"
      ]
    },
    {
      "cell_type": "markdown",
      "metadata": {
        "id": "Seq4Lm-HdDJY"
      },
      "source": [
        "step-1: install neo4j"
      ]
    },
    {
      "cell_type": "code",
      "execution_count": 1,
      "metadata": {
        "colab": {
          "base_uri": "https://localhost:8080/"
        },
        "id": "hKFE_mBLcWJL",
        "outputId": "a527ac09-a078-417a-fcb0-1ca3fa01a7ae"
      },
      "outputs": [
        {
          "output_type": "stream",
          "name": "stdout",
          "text": [
            "Looking in indexes: https://pypi.org/simple, https://us-python.pkg.dev/colab-wheels/public/simple/\n",
            "Collecting neo4j\n",
            "  Downloading neo4j-4.4.3.tar.gz (90 kB)\n",
            "\u001b[K     |████████████████████████████████| 90 kB 4.4 MB/s \n",
            "\u001b[?25hRequirement already satisfied: pytz in /usr/local/lib/python3.7/dist-packages (from neo4j) (2022.1)\n",
            "Building wheels for collected packages: neo4j\n",
            "  Building wheel for neo4j (setup.py) ... \u001b[?25l\u001b[?25hdone\n",
            "  Created wheel for neo4j: filename=neo4j-4.4.3-py3-none-any.whl size=116069 sha256=5fe9fc26fd2291765067079f74358f5dd929f5680797ead39f6531b38e82a6b6\n",
            "  Stored in directory: /root/.cache/pip/wheels/db/dd/76/acacd519878f133f2f869aec70db548d89e04013209c3c62bc\n",
            "Successfully built neo4j\n",
            "Installing collected packages: neo4j\n",
            "Successfully installed neo4j-4.4.3\n"
          ]
        }
      ],
      "source": [
        "pip install neo4j\n"
      ]
    },
    {
      "cell_type": "markdown",
      "metadata": {
        "id": "P49wR7FPejI6"
      },
      "source": [
        "step-2: imports"
      ]
    },
    {
      "cell_type": "code",
      "execution_count": 2,
      "metadata": {
        "id": "CMXk5yZcd-Jt"
      },
      "outputs": [],
      "source": [
        "from neo4j import GraphDatabase\n",
        "import logging\n",
        "from neo4j.exceptions import ServiceUnavailable"
      ]
    },
    {
      "cell_type": "markdown",
      "metadata": {
        "id": "QJsfeO0Ve03C"
      },
      "source": [
        "step-3: define helper class"
      ]
    },
    {
      "cell_type": "code",
      "execution_count": 36,
      "metadata": {
        "id": "FccBUxEIeKf_"
      },
      "outputs": [],
      "source": [
        "\n",
        "\n",
        "class App:\n",
        "\n",
        "    def __init__(self, uri, user, password):\n",
        "        self.driver = GraphDatabase.driver(uri, auth=(user, password))\n",
        "\n",
        "    def close(self):\n",
        "        # Don't forget to close the driver connection when you are finished with it\n",
        "        self.driver.close()\n",
        "\n",
        "    #Vishnu: 1 Jun 2022: created this f() to create nodes with usecase label\n",
        "    #Vishnu: 2 Jun 2022: added- check if it already exists.\n",
        "    #Vishnu: 2 Jun 2022: added- check the label duplication, adds a label if it doesnt exist.\n",
        "    #otherwise ignores the command.\n",
        "    #uses _add_label_and_return_existing_node()\n",
        "    def create_node_with_label(self, actor_name, usecase_id):\n",
        "        with self.driver.session() as session:\n",
        "            # Write transactions allow the driver to handle retries and transient errors\n",
        "            node_already_exists = session.write_transaction(\n",
        "                self._find_and_return_existing_node, actor_name)\n",
        "            if not node_already_exists:  \n",
        "                result = session.write_transaction(\n",
        "                    self._create_and_return_node, actor_name, usecase_id)\n",
        "                for row in result:\n",
        "                    print(\"Created node: {n1}\".format(n1=row['n1']))\n",
        "            else:\n",
        "                for row in node_already_exists:\n",
        "                    print(\"Node already exists: {name} in {usecase}\".format(name=row['name'], \n",
        "                                                                 usecase=row['label']))\n",
        "                    if not any(usecase_id in s for s in row['label']):\n",
        "                      print(\"adding label \"+usecase_id+ \"...\")\n",
        "                      result = session.write_transaction(\n",
        "                                self._add_label_and_return_existing_node, actor_name, usecase_id)\n",
        "                    else:\n",
        "                      print(\"ignoring ...\")\n",
        "\n",
        "\n",
        "    #Vishnu: 2 Jun 2022: created this f() to query nodes and return with usecase label\n",
        "    @staticmethod\n",
        "    def _find_and_return_existing_node(tx, actor_name):\n",
        "        query = (\n",
        "            \"MATCH (n:Actor) \"\n",
        "            \"WHERE (n.name ='\" + actor_name + \"') \"\n",
        "            \"RETURN n.name as name, labels(n) as label\"\n",
        "        )\n",
        "        result = tx.run(query)\n",
        "        try:\n",
        "            return [{\"name\": row[\"name\"],\"label\": row[\"label\"]} \n",
        "                    for row in result]\n",
        "        # Capture any errors along with the query and data for traceability\n",
        "        except ServiceUnavailable as exception:\n",
        "            logging.error(\"{query} raised an error: \\n {exception}\".format(\n",
        "                query=query, exception=exception))\n",
        "            raise\n",
        "\n",
        "    @staticmethod\n",
        "    def _create_and_return_node(tx, actor_name, usecase_id):\n",
        "        # To learn more about the Cypher syntax, see https://neo4j.com/docs/cypher-manual/current/\n",
        "        # The Reference Card is also a good resource for keywords https://neo4j.com/docs/cypher-refcard/current/\n",
        "        query = (\n",
        "            \"CREATE (n1:Actor:\"+usecase_id+\"{ name: $actor_name }) \"\n",
        "            \"RETURN n1\"\n",
        "        )\n",
        "        result = tx.run(query, actor_name=actor_name)\n",
        "        try:\n",
        "            return [{\"n1\": row[\"n1\"][\"name\"]}\n",
        "                    for row in result]\n",
        "        # Capture any errors along with the query and data for traceability\n",
        "        except ServiceUnavailable as exception:\n",
        "            logging.error(\"{query} raised an error: \\n {exception}\".format(\n",
        "                query=query, exception=exception))\n",
        "            raise\n",
        "\n",
        "    #Vishnu: 1 Jun 2022: created this f() to add use case label to existing nodes \n",
        "    #CAUTION: does not check for duplication, use create_node_with_label instead.\n",
        "    def add_label_existing_node(self, actor_name, usecase_id):\n",
        "        with self.driver.session() as session:\n",
        "            # Write transactions allow the driver to handle retries and transient errors\n",
        "            result = session.write_transaction(\n",
        "                self._add_label_and_return_existing_node, actor_name, usecase_id)\n",
        "            \n",
        "            # we expect only 1 node. Do we need the for loop below?\n",
        "            for row in result:\n",
        "                print(\"added label to node: {n1}\".format(n1=row['n1']))\n",
        "\n",
        "    @staticmethod\n",
        "    def _add_label_and_return_existing_node(tx, actor_name, usecase_id):\n",
        "        # To learn more about the Cypher syntax, see https://neo4j.com/docs/cypher-manual/current/\n",
        "        # The Reference Card is also a good resource for keywords https://neo4j.com/docs/cypher-refcard/current/\n",
        "        query = (\n",
        "            \"MATCH \"\n",
        "            \"(n1:Actor) \"\n",
        "            \"WHERE n1.name = '\" + actor_name +\"' \"\n",
        "            \"set n1 :\"+usecase_id +\" \"\n",
        "            \"return n1\"\n",
        "        )\n",
        "        result = tx.run(query, actor_name=actor_name)\n",
        "        try:\n",
        "            return [{\"n1\": row[\"n1\"][\"name\"]}\n",
        "                    for row in result]\n",
        "        # Capture any errors along with the query and data for traceability\n",
        "        except ServiceUnavailable as exception:\n",
        "            logging.error(\"{query} raised an error: \\n {exception}\".format(\n",
        "                query=query, exception=exception))\n",
        "            raise\n",
        "\n",
        "    #Vishnu: 1 Jun 2022: created this f() to create relation between 2 existing nodes\n",
        "    def create_rel_with_type_existing_nodes(self, actor1_name, rel_type, actor2_name):\n",
        "        with self.driver.session() as session:\n",
        "            # Write transactions allow the driver to handle retries and transient errors\n",
        "            result = session.write_transaction(\n",
        "                self._create_and_return_rel_with_type_existing_nodes, rel_type, actor1_name, actor2_name)\n",
        "            for row in result:\n",
        "                print(\"Created relation between: {n1}, {n2}\".format(n1=row['n1'], n2=row['n2']))\n",
        "\n",
        "    @staticmethod\n",
        "    def _create_and_return_rel_with_type_existing_nodes(tx, rel_type, actor1_name, actor2_name):\n",
        "        # To learn more about the Cypher syntax, see https://neo4j.com/docs/cypher-manual/current/\n",
        "        # The Reference Card is also a good resource for keywords https://neo4j.com/docs/cypher-refcard/current/\n",
        "        query = (\n",
        "            \"MATCH \"\n",
        "            \"(n1:Actor), \"\n",
        "            \"(n2:Actor) \"\n",
        "            \"WHERE n1.name = '\" + actor1_name + \"' AND n2.name = '\"+actor2_name+\"' \"\n",
        "            \"CREATE (n1)-[r:\" +rel_type+ \"]->(n2) \"\n",
        "            \"RETURN n1, n2\"\n",
        "        )\n",
        "        result = tx.run(query)\n",
        "        try:\n",
        "            return [{\"n1\": row[\"n1\"][\"name\"], \"n2\": row[\"n2\"][\"name\"]}\n",
        "                    for row in result]\n",
        "        # Capture any errors along with the query and data for traceability\n",
        "        except ServiceUnavailable as exception:\n",
        "            logging.error(\"{query} raised an error: \\n {exception}\".format(\n",
        "                query=query, exception=exception))\n",
        "            raise\n",
        "\n",
        "    #Vishnu: 1 Jun 2022: added relationships names\n",
        "    #Vishnu: CAUTION: side-effect: this f() creates the nodes too.\n",
        "    #NOTE: we use labels and properties for nodes\n",
        "    #NOTE: we use relationtypes only (vs. properties or names or something)\n",
        "    #NOTE: usecase id is just a string (vs. a list of properties or something)\n",
        "    #TBD - to search for existing nodes and reuse them.\n",
        "    #TBD - add properties to relationships\n",
        "    def create_nodes_with_friendship(self, actor1_name, actor2_name, rel_type, usecase_id):\n",
        "        with self.driver.session() as session:\n",
        "            # Write transactions allow the driver to handle retries and transient errors\n",
        "            result = session.write_transaction(\n",
        "                self._create_and_return_friendship, actor1_name, actor2_name, rel_type, usecase_id)\n",
        "            for row in result:\n",
        "                print(\"Created friendship between: {n1}, {n2}\".format(n1=row['n1'], n2=row['n2']))\n",
        "    \n",
        "    @staticmethod\n",
        "    def _create_and_return_friendship(tx, actor1_name, actor2_name, rel_type, usecase_id):\n",
        "        # To learn more about the Cypher syntax, see https://neo4j.com/docs/cypher-manual/current/\n",
        "        # The Reference Card is also a good resource for keywords https://neo4j.com/docs/cypher-refcard/current/\n",
        "        query = (\n",
        "            \"CREATE (n1:Actor:\"+usecase_id+\"{ name: $actor1_name }) \"\n",
        "            \"CREATE (n2:Actor:\"+usecase_id+\"{ name: $actor2_name }) \"\n",
        "            \"CREATE (n1)-[:\" + rel_type + \"]->(n2) \"\n",
        "            \"RETURN n1, n2\"\n",
        "        )\n",
        "        result = tx.run(query, actor1_name=actor1_name, actor2_name=actor2_name)\n",
        "        try:\n",
        "            return [{\"n1\": row[\"n1\"][\"name\"], \"n2\": row[\"n2\"][\"name\"]}\n",
        "                    for row in result]\n",
        "        # Capture any errors along with the query and data for traceability\n",
        "        except ServiceUnavailable as exception:\n",
        "            logging.error(\"{query} raised an error: \\n {exception}\".format(\n",
        "                query=query, exception=exception))\n",
        "            raise\n",
        "\n",
        "    #Vishnu: 1 Jun 2022: created this f() to list all nodes with usecase label\n",
        "    def find_all_usecase_actors(self, usecase_id):\n",
        "        with self.driver.session() as session:\n",
        "            result = session.read_transaction(self._find_and_return_all_usecase_actors, usecase_id)\n",
        "            i=0\n",
        "            for row in result:\n",
        "                i=i+1\n",
        "                print(\"Found actor-\"+ str(i) +\": {row}\".format(row=row))\n",
        "\n",
        "    @staticmethod\n",
        "    def _find_and_return_all_usecase_actors(tx, usecase_id):\n",
        "        query = (\n",
        "            \"MATCH (n:Actor:\"+usecase_id+\") \"\n",
        "            \"RETURN n.name AS name\"\n",
        "        )\n",
        "        result = tx.run(query)\n",
        "        return [row[\"name\"] for row in result]"
      ]
    },
    {
      "cell_type": "markdown",
      "metadata": {
        "id": "Pjilh9vPe4LY"
      },
      "source": [
        "step-4: connect to DB"
      ]
    },
    {
      "cell_type": "code",
      "execution_count": 37,
      "metadata": {
        "id": "6p2nMvmodNw4"
      },
      "outputs": [],
      "source": [
        "#Vishnu: 1 Jun 2022: use the details from https://console.neo4j.io\n",
        "#especially use your own DB instance and corresponding passwd.\n",
        "\n",
        "uri = \"neo4j+s://a4270446.databases.neo4j.io\"\n",
        "user = \"neo4j\"\n",
        "password = \"secret\"\n",
        "\n",
        "app = App(uri, user, password)"
      ]
    },
    {
      "cell_type": "markdown",
      "metadata": {
        "id": "v_PlujdPvtcN"
      },
      "source": [
        "Example-1: Create individual nodes with labels"
      ]
    },
    {
      "cell_type": "code",
      "execution_count": 38,
      "metadata": {
        "id": "aiKGLHItvp2g",
        "colab": {
          "base_uri": "https://localhost:8080/"
        },
        "outputId": "309a8835-3167-4ef2-9edb-7381b2a9ff8d"
      },
      "outputs": [
        {
          "output_type": "stream",
          "name": "stdout",
          "text": [
            "Created node: Experimentation Controller\n",
            "Created node: Sandbox\n"
          ]
        }
      ],
      "source": [
        "app.create_node_with_label(\"Experimentation Controller\", \"usecase_001\")\n",
        "app.create_node_with_label(\"Sandbox\", \"usecase_001\")\n"
      ]
    },
    {
      "cell_type": "markdown",
      "source": [
        "Example-1a: try to create duplicate node under different use case"
      ],
      "metadata": {
        "id": "IlzAm-ApdU_t"
      }
    },
    {
      "cell_type": "code",
      "source": [
        "app.create_node_with_label(\"Sandbox\", \"usecase_003\")\n"
      ],
      "metadata": {
        "colab": {
          "base_uri": "https://localhost:8080/"
        },
        "id": "5PMotSRCdRdZ",
        "outputId": "5ea3ad2c-ee95-4cd6-cfd6-7e1308dcec8b"
      },
      "execution_count": 44,
      "outputs": [
        {
          "output_type": "stream",
          "name": "stdout",
          "text": [
            "Node already exists: Sandbox in ['Actor', 'usecase_001', 'usecase_002', 'usecase_003']\n",
            "ignoring ...\n"
          ]
        }
      ]
    },
    {
      "cell_type": "markdown",
      "source": [
        "Example-2: Create relation between 2 existing nodes"
      ],
      "metadata": {
        "id": "0DR2Zu-rQr-9"
      }
    },
    {
      "cell_type": "code",
      "source": [
        "app.create_rel_with_type_existing_nodes(\"Experimentation Controller\", \"my_best_buddy\", \"Sandbox\")\n"
      ],
      "metadata": {
        "colab": {
          "base_uri": "https://localhost:8080/"
        },
        "id": "9FZGjCA0DmXT",
        "outputId": "9208b9f4-dd89-4293-f850-fca9633c538f"
      },
      "execution_count": null,
      "outputs": [
        {
          "output_type": "stream",
          "name": "stdout",
          "text": [
            "Created relation between: Experimentation Controller, Sandbox\n"
          ]
        }
      ]
    },
    {
      "cell_type": "markdown",
      "source": [
        "Example-3: add a use case label to existing node"
      ],
      "metadata": {
        "id": "R1K3tcccQyxj"
      }
    },
    {
      "cell_type": "code",
      "source": [
        "app.add_label_existing_node(\"Experimentation Controller\", \"usecase_002\")"
      ],
      "metadata": {
        "colab": {
          "base_uri": "https://localhost:8080/"
        },
        "id": "EZjZmOquOxK2",
        "outputId": "3b963641-2efb-4525-f831-82ff0c43098e"
      },
      "execution_count": null,
      "outputs": [
        {
          "output_type": "stream",
          "name": "stdout",
          "text": [
            "added label to node: Experimentation Controller\n"
          ]
        }
      ]
    },
    {
      "cell_type": "markdown",
      "metadata": {
        "id": "5VEb2wKlwakG"
      },
      "source": [
        "Example-4: Find all nodes with a use case label"
      ]
    },
    {
      "cell_type": "code",
      "execution_count": null,
      "metadata": {
        "colab": {
          "base_uri": "https://localhost:8080/"
        },
        "id": "QXv630w8wdEc",
        "outputId": "4a070780-86e1-405c-d7b6-ce09b467693d"
      },
      "outputs": [
        {
          "output_type": "stream",
          "name": "stdout",
          "text": [
            "Found actor-1: Experimentation Controller\n",
            "Found actor-2: Sandbox\n"
          ]
        }
      ],
      "source": [
        "app.find_all_usecase_actors(\"usecase_001\")"
      ]
    },
    {
      "cell_type": "code",
      "source": [
        "app.find_all_usecase_actors(\"usecase_002\")"
      ],
      "metadata": {
        "colab": {
          "base_uri": "https://localhost:8080/"
        },
        "id": "XjfqC7ywQK4x",
        "outputId": "4fc5c798-122d-4df5-ce67-c0226866001d"
      },
      "execution_count": null,
      "outputs": [
        {
          "output_type": "stream",
          "name": "stdout",
          "text": [
            "Found actor-1: Experimentation Controller\n"
          ]
        }
      ]
    },
    {
      "cell_type": "markdown",
      "source": [
        "CAUTION: Remember to clean up the DB before executing the next steps. (so that all examples above are not leftover in the use case data below)."
      ],
      "metadata": {
        "id": "spwwNfDnSDsf"
      }
    },
    {
      "cell_type": "markdown",
      "source": [
        "FG-AN-USECASE-001"
      ],
      "metadata": {
        "id": "2NKgB7ZSRqXL"
      }
    },
    {
      "cell_type": "code",
      "source": [
        "app.create_node_with_label(\"Knowledge Base\", \"usecase_001\")\n",
        "app.create_node_with_label(\"Knowledge Base Manager\", \"usecase_001\")\n",
        "app.create_node_with_label(\"AN Orchestrator\", \"usecase_001\")\n",
        "app.create_node_with_label(\"Use case description\", \"usecase_001\")\n",
        "app.create_node_with_label(\"TOSCA format\", \"usecase_001\")\n",
        "app.create_node_with_label(\"Auto controller generator\", \"usecase_001\")\n",
        "app.create_node_with_label(\"controller repository\", \"usecase_001\")\n",
        "app.create_node_with_label(\"controllers\", \"usecase_001\")\n",
        "app.create_node_with_label(\"ML model\", \"usecase_001\")\n",
        "app.create_node_with_label(\"Human operator\", \"usecase_001\")\n",
        "app.create_node_with_label(\"reports\", \"usecase_001\")\n",
        "\n"
      ],
      "metadata": {
        "id": "g3-zNw1qR--U"
      },
      "execution_count": null,
      "outputs": []
    },
    {
      "cell_type": "code",
      "source": [
        "app.create_rel_with_type_existing_nodes(\"Knowledge Base\", \"import\", \"Knowledge Base\")\n",
        "app.create_rel_with_type_existing_nodes(\"Knowledge Base\", \"export\", \"Knowledge Base\")\n",
        "\n",
        "app.create_rel_with_type_existing_nodes(\"Knowledge Base Manager\", \"optimizes\", \"Knowledge Base\")\n",
        "app.create_rel_with_type_existing_nodes(\"Knowledge Base Manager\", \"export\", \"Knowledge Base\")\n",
        "\n",
        "app.create_rel_with_type_existing_nodes(\"AN Orchestrator\", \"refer\", \"Knowledge Base\")\n",
        "app.create_rel_with_type_existing_nodes(\"AN Orchestrator\", \"input\", \"Use case description\")\n",
        "app.create_rel_with_type_existing_nodes(\"AN Orchestrator\", \"output\", \"TOSCA format\")\n",
        "\n",
        "app.create_rel_with_type_existing_nodes(\"Auto controller generator\", \"refer\", \"Knowledge Base\")\n",
        "app.create_rel_with_type_existing_nodes(\"Auto controller generator\", \"output\", \"TOSCA format\")\n",
        "\n",
        "app.create_rel_with_type_existing_nodes(\"controller repository\", \"stores\", \"controllers\")\n",
        "app.create_rel_with_type_existing_nodes(\"ML model\", \"recommends\", \"controllers\")\n",
        "\n",
        "app.create_rel_with_type_existing_nodes(\"Human operator\", \"input\", \"reports\")\n",
        "\n",
        "\n",
        "\n"
      ],
      "metadata": {
        "colab": {
          "base_uri": "https://localhost:8080/"
        },
        "id": "w6w8dt-QUUX8",
        "outputId": "84739184-8e10-48cf-ddc0-2b42e876a85f"
      },
      "execution_count": 6,
      "outputs": [
        {
          "output_type": "stream",
          "name": "stdout",
          "text": [
            "Created relation between: Knowledge Base, Knowledge Base\n",
            "Created relation between: Knowledge Base, Knowledge Base\n",
            "Created relation between: Knowledge Base Manager, Knowledge Base\n",
            "Created relation between: Knowledge Base Manager, Knowledge Base\n",
            "Created relation between: AN Orchestrator, Knowledge Base\n",
            "Created relation between: AN Orchestrator, Use case description\n",
            "Created relation between: AN Orchestrator, TOSCA format\n",
            "Created relation between: Auto controller generator, Knowledge Base\n",
            "Created relation between: Auto controller generator, TOSCA format\n",
            "Created relation between: controller repository, controllers\n",
            "Created relation between: ML model, controllers\n",
            "Created relation between: Human operator, reports\n"
          ]
        }
      ]
    },
    {
      "cell_type": "code",
      "source": [
        "app.find_all_usecase_actors(\"usecase_001\")"
      ],
      "metadata": {
        "colab": {
          "base_uri": "https://localhost:8080/"
        },
        "id": "dD7NR950Ry-N",
        "outputId": "dc1766a9-5f80-4aa4-f5ab-074ec2f94db8"
      },
      "execution_count": 7,
      "outputs": [
        {
          "output_type": "stream",
          "name": "stdout",
          "text": [
            "Found actor-1: Knowledge Base Manager\n",
            "Found actor-2: AN Orchestrator\n",
            "Found actor-3: Knowledge Base\n",
            "Found actor-4: Use case description\n",
            "Found actor-5: TOSCA format\n",
            "Found actor-6: Auto controller generator\n",
            "Found actor-7: controller repository\n",
            "Found actor-8: controllers\n",
            "Found actor-9: ML model\n",
            "Found actor-10: Human operator\n",
            "Found actor-11: reports\n"
          ]
        }
      ]
    },
    {
      "cell_type": "markdown",
      "metadata": {
        "id": "eBr7q13XvyeB"
      },
      "source": [
        "Step-5: Close the database connection"
      ]
    },
    {
      "cell_type": "code",
      "execution_count": null,
      "metadata": {
        "id": "J2ak5OTtvrLd"
      },
      "outputs": [],
      "source": [
        "app.close()"
      ]
    }
  ],
  "metadata": {
    "colab": {
      "collapsed_sections": [],
      "name": "build-a-thon-graph-v1.ipynb",
      "provenance": [],
      "authorship_tag": "ABX9TyPXmMJkVV4BLg3opDsSfUfi",
      "include_colab_link": true
    },
    "interpreter": {
      "hash": "59112f1abec8676be8d8e5b557dd5f2474aba6f718d70c26d8ed3f852164eaa0"
    },
    "kernelspec": {
      "display_name": "Python 3.8.12 ('myenv38')",
      "language": "python",
      "name": "python3"
    },
    "language_info": {
      "codemirror_mode": {
        "name": "ipython",
        "version": 3
      },
      "file_extension": ".py",
      "mimetype": "text/x-python",
      "name": "python",
      "nbconvert_exporter": "python",
      "pygments_lexer": "ipython3",
      "version": "3.8.12"
    }
  },
  "nbformat": 4,
  "nbformat_minor": 0
}