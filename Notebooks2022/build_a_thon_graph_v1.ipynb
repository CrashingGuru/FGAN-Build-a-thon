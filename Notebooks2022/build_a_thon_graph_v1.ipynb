{
  "cells": [
    {
      "cell_type": "markdown",
      "metadata": {
        "id": "view-in-github",
        "colab_type": "text"
      },
      "source": [
        "<a href=\"https://colab.research.google.com/github/vrra/FGAN-Build-a-thon-2022/blob/main/Notebooks2022/build_a_thon_graph_v1.ipynb\" target=\"_parent\"><img src=\"https://colab.research.google.com/assets/colab-badge.svg\" alt=\"Open In Colab\"/></a>"
      ]
    },
    {
      "cell_type": "markdown",
      "metadata": {
        "id": "xvVYTJnpc8NW"
      },
      "source": [
        "Created: 14 Apr 2022.   \n",
        "Contact: Vishnu Ram OV.   \n",
        "vishnu.n@ieee.org.   \n",
        "Licence: available for all purposes under the sun\n"
      ]
    },
    {
      "cell_type": "markdown",
      "metadata": {
        "id": "TOxLkcQAfFsO"
      },
      "source": [
        "Refer: https://neo4j.com/docs/aura/auradb/getting-started/create-database/"
      ]
    },
    {
      "cell_type": "markdown",
      "metadata": {
        "id": "Seq4Lm-HdDJY"
      },
      "source": [
        "step-1: install neo4j"
      ]
    },
    {
      "cell_type": "code",
      "execution_count": 27,
      "metadata": {
        "colab": {
          "base_uri": "https://localhost:8080/"
        },
        "id": "hKFE_mBLcWJL",
        "outputId": "c9b41640-c888-4041-9bb9-1f2c4a39ec0b"
      },
      "outputs": [
        {
          "output_type": "stream",
          "name": "stdout",
          "text": [
            "Looking in indexes: https://pypi.org/simple, https://us-python.pkg.dev/colab-wheels/public/simple/\n",
            "Requirement already satisfied: neo4j in /usr/local/lib/python3.7/dist-packages (4.4.3)\n",
            "Requirement already satisfied: pytz in /usr/local/lib/python3.7/dist-packages (from neo4j) (2022.1)\n"
          ]
        }
      ],
      "source": [
        "pip install neo4j\n"
      ]
    },
    {
      "cell_type": "markdown",
      "metadata": {
        "id": "P49wR7FPejI6"
      },
      "source": [
        "step-2: imports"
      ]
    },
    {
      "cell_type": "code",
      "execution_count": 28,
      "metadata": {
        "id": "CMXk5yZcd-Jt"
      },
      "outputs": [],
      "source": [
        "from neo4j import GraphDatabase\n",
        "import logging\n",
        "from neo4j.exceptions import ServiceUnavailable"
      ]
    },
    {
      "cell_type": "markdown",
      "metadata": {
        "id": "QJsfeO0Ve03C"
      },
      "source": [
        "step-3: define helper class"
      ]
    },
    {
      "cell_type": "code",
      "execution_count": 128,
      "metadata": {
        "id": "FccBUxEIeKf_"
      },
      "outputs": [],
      "source": [
        "\n",
        "\n",
        "class App:\n",
        "\n",
        "    def __init__(self, uri, user, password):\n",
        "        self.driver = GraphDatabase.driver(uri, auth=(user, password))\n",
        "\n",
        "    def close(self):\n",
        "        # Don't forget to close the driver connection when you are finished with it\n",
        "        self.driver.close()\n",
        "\n",
        "    #Vishnu: 1 Jun 2022: created this f() to create nodes with usecase label\n",
        "    #TBD: check if it already exists.\n",
        "    def create_node_with_label(self, actor_name, usecase_id):\n",
        "        with self.driver.session() as session:\n",
        "            # Write transactions allow the driver to handle retries and transient errors\n",
        "            result = session.write_transaction(\n",
        "                self._create_and_return_node, actor_name, usecase_id)\n",
        "            for row in result:\n",
        "                print(\"Created node: {n1}\".format(n1=row['n1']))\n",
        "\n",
        "    @staticmethod\n",
        "    def _create_and_return_node(tx, actor_name, usecase_id):\n",
        "        # To learn more about the Cypher syntax, see https://neo4j.com/docs/cypher-manual/current/\n",
        "        # The Reference Card is also a good resource for keywords https://neo4j.com/docs/cypher-refcard/current/\n",
        "        query = (\n",
        "            \"CREATE (n1:Actor:\"+usecase_id+\"{ name: $actor_name }) \"\n",
        "            \"RETURN n1\"\n",
        "        )\n",
        "        result = tx.run(query, actor_name=actor_name)\n",
        "        try:\n",
        "            return [{\"n1\": row[\"n1\"][\"name\"]}\n",
        "                    for row in result]\n",
        "        # Capture any errors along with the query and data for traceability\n",
        "        except ServiceUnavailable as exception:\n",
        "            logging.error(\"{query} raised an error: \\n {exception}\".format(\n",
        "                query=query, exception=exception))\n",
        "            raise\n",
        "\n",
        "    #Vishnu: 1 Jun 2022: created this f() to add use case label to existing nodes \n",
        "    #TBD: check if it already exists.\n",
        "    def add_label_existing_node(self, actor_name, usecase_id):\n",
        "        with self.driver.session() as session:\n",
        "            # Write transactions allow the driver to handle retries and transient errors\n",
        "            result = session.write_transaction(\n",
        "                self._add_label_and_return_existing_node, actor_name, usecase_id)\n",
        "            for row in result:\n",
        "                print(\"added label to node: {n1}\".format(n1=row['n1']))\n",
        "\n",
        "    @staticmethod\n",
        "    def _add_label_and_return_existing_node(tx, actor_name, usecase_id):\n",
        "        # To learn more about the Cypher syntax, see https://neo4j.com/docs/cypher-manual/current/\n",
        "        # The Reference Card is also a good resource for keywords https://neo4j.com/docs/cypher-refcard/current/\n",
        "        query = (\n",
        "            \"MATCH \"\n",
        "            \"(n1:Actor) \"\n",
        "            \"WHERE n1.name = '\" + actor_name +\"' \"\n",
        "            \"set n1 :\"+usecase_id +\" \"\n",
        "            \"return n1\"\n",
        "        )\n",
        "        result = tx.run(query, actor_name=actor_name)\n",
        "        try:\n",
        "            return [{\"n1\": row[\"n1\"][\"name\"]}\n",
        "                    for row in result]\n",
        "        # Capture any errors along with the query and data for traceability\n",
        "        except ServiceUnavailable as exception:\n",
        "            logging.error(\"{query} raised an error: \\n {exception}\".format(\n",
        "                query=query, exception=exception))\n",
        "            raise\n",
        "\n",
        "    #Vishnu: 1 Jun 2022: created this f() to create relation between 2 existing nodes\n",
        "    def create_rel_with_type_existing_nodes(self, rel_type, actor1_name, actor2_name):\n",
        "        with self.driver.session() as session:\n",
        "            # Write transactions allow the driver to handle retries and transient errors\n",
        "            result = session.write_transaction(\n",
        "                self._create_and_return_rel_with_type_existing_nodes, rel_type, actor1_name, actor2_name)\n",
        "            for row in result:\n",
        "                print(\"Created relation between: {n1}, {n2}\".format(n1=row['n1'], n2=row['n2']))\n",
        "\n",
        "    @staticmethod\n",
        "    def _create_and_return_rel_with_type_existing_nodes(tx, rel_type, actor1_name, actor2_name):\n",
        "        # To learn more about the Cypher syntax, see https://neo4j.com/docs/cypher-manual/current/\n",
        "        # The Reference Card is also a good resource for keywords https://neo4j.com/docs/cypher-refcard/current/\n",
        "        query = (\n",
        "            \"MATCH \"\n",
        "            \"(n1:Actor), \"\n",
        "            \"(n2:Actor) \"\n",
        "            \"WHERE n1.name = '\" + actor1_name + \"' AND n2.name = '\"+actor2_name+\"' \"\n",
        "            \"CREATE (n1)-[r:\" +rel_type+ \"]->(n2) \"\n",
        "            \"RETURN n1, n2\"\n",
        "        )\n",
        "        result = tx.run(query)\n",
        "        try:\n",
        "            return [{\"n1\": row[\"n1\"][\"name\"], \"n2\": row[\"n2\"][\"name\"]}\n",
        "                    for row in result]\n",
        "        # Capture any errors along with the query and data for traceability\n",
        "        except ServiceUnavailable as exception:\n",
        "            logging.error(\"{query} raised an error: \\n {exception}\".format(\n",
        "                query=query, exception=exception))\n",
        "            raise\n",
        "\n",
        "    #Vishnu: 1 Jun 2022: added relationships names\n",
        "    #Vishnu: CAUTION: side-effect: this f() creates the nodes too.\n",
        "    #NOTE: we use labels and properties for nodes\n",
        "    #NOTE: we use relationtypes only (vs. properties or names or something)\n",
        "    #NOTE: usecase id is just a string (vs. a list of properties or something)\n",
        "    #TBD - to search for existing nodes and reuse them.\n",
        "    #TBD - add properties to relationships\n",
        "    def create_nodes_with_friendship(self, actor1_name, actor2_name, rel_type, usecase_id):\n",
        "        with self.driver.session() as session:\n",
        "            # Write transactions allow the driver to handle retries and transient errors\n",
        "            result = session.write_transaction(\n",
        "                self._create_and_return_friendship, actor1_name, actor2_name, rel_type, usecase_id)\n",
        "            for row in result:\n",
        "                print(\"Created friendship between: {n1}, {n2}\".format(n1=row['n1'], n2=row['n2']))\n",
        "    \n",
        "    @staticmethod\n",
        "    def _create_and_return_friendship(tx, actor1_name, actor2_name, rel_type, usecase_id):\n",
        "        # To learn more about the Cypher syntax, see https://neo4j.com/docs/cypher-manual/current/\n",
        "        # The Reference Card is also a good resource for keywords https://neo4j.com/docs/cypher-refcard/current/\n",
        "        query = (\n",
        "            \"CREATE (n1:Actor:\"+usecase_id+\"{ name: $actor1_name }) \"\n",
        "            \"CREATE (n2:Actor:\"+usecase_id+\"{ name: $actor2_name }) \"\n",
        "            \"CREATE (n1)-[:\" + rel_type + \"]->(n2) \"\n",
        "            \"RETURN n1, n2\"\n",
        "        )\n",
        "        result = tx.run(query, actor1_name=actor1_name, actor2_name=actor2_name)\n",
        "        try:\n",
        "            return [{\"n1\": row[\"n1\"][\"name\"], \"n2\": row[\"n2\"][\"name\"]}\n",
        "                    for row in result]\n",
        "        # Capture any errors along with the query and data for traceability\n",
        "        except ServiceUnavailable as exception:\n",
        "            logging.error(\"{query} raised an error: \\n {exception}\".format(\n",
        "                query=query, exception=exception))\n",
        "            raise\n",
        "\n",
        "    #Vishnu: 1 Jun 2022: created this f() to list all nodes with usecase label\n",
        "    def find_all_usecase_actors(self, usecase_id):\n",
        "        with self.driver.session() as session:\n",
        "            result = session.read_transaction(self._find_and_return_all_usecase_actors, usecase_id)\n",
        "            i=0\n",
        "            for row in result:\n",
        "                i=i+1\n",
        "                print(\"Found actor-\"+ str(i) +\": {row}\".format(row=row))\n",
        "\n",
        "    @staticmethod\n",
        "    def _find_and_return_all_usecase_actors(tx, usecase_id):\n",
        "        query = (\n",
        "            \"MATCH (n:Actor:\"+usecase_id+\") \"\n",
        "            \"RETURN n.name AS name\"\n",
        "        )\n",
        "        result = tx.run(query)\n",
        "        return [row[\"name\"] for row in result]"
      ]
    },
    {
      "cell_type": "markdown",
      "metadata": {
        "id": "Pjilh9vPe4LY"
      },
      "source": [
        "step-4: connect to DB"
      ]
    },
    {
      "cell_type": "code",
      "execution_count": 129,
      "metadata": {
        "id": "6p2nMvmodNw4"
      },
      "outputs": [],
      "source": [
        "#Vishnu: 1 Jun 2022: use the details from https://console.neo4j.io\n",
        "#especially use your own DB instance and corresponding passwd.\n",
        "\n",
        "uri = \"neo4j+s://a4270446.databases.neo4j.io\"\n",
        "user = \"neo4j\"\n",
        "password = \"secret\"\n",
        "\n",
        "app = App(uri, user, password)"
      ]
    },
    {
      "cell_type": "markdown",
      "metadata": {
        "id": "v_PlujdPvtcN"
      },
      "source": [
        "Example-1: Create individual nodes with labels"
      ]
    },
    {
      "cell_type": "code",
      "execution_count": 131,
      "metadata": {
        "id": "aiKGLHItvp2g",
        "colab": {
          "base_uri": "https://localhost:8080/"
        },
        "outputId": "214473b7-2e7c-4a10-8639-501d0cd21920"
      },
      "outputs": [
        {
          "output_type": "stream",
          "name": "stdout",
          "text": [
            "Created node: Experimentation Controller\n",
            "Created node: Sandbox\n"
          ]
        }
      ],
      "source": [
        "app.create_node_with_label(\"Experimentation Controller\", \"usecase_001\")\n",
        "app.create_node_with_label(\"Sandbox\", \"usecase_001\")\n"
      ]
    },
    {
      "cell_type": "markdown",
      "source": [
        "Example-2: Create relation between 2 existing nodes"
      ],
      "metadata": {
        "id": "0DR2Zu-rQr-9"
      }
    },
    {
      "cell_type": "code",
      "source": [
        "app.create_rel_with_type_existing_nodes(\"my_best_buddy\", \"Experimentation Controller\", \"Sandbox\")\n"
      ],
      "metadata": {
        "id": "9FZGjCA0DmXT",
        "outputId": "9208b9f4-dd89-4293-f850-fca9633c538f",
        "colab": {
          "base_uri": "https://localhost:8080/"
        }
      },
      "execution_count": 132,
      "outputs": [
        {
          "output_type": "stream",
          "name": "stdout",
          "text": [
            "Created relation between: Experimentation Controller, Sandbox\n"
          ]
        }
      ]
    },
    {
      "cell_type": "markdown",
      "source": [
        "Example-3: add a use case label to existing node"
      ],
      "metadata": {
        "id": "R1K3tcccQyxj"
      }
    },
    {
      "cell_type": "code",
      "source": [
        "app.add_label_existing_node(\"Experimentation Controller\", \"usecase_002\")"
      ],
      "metadata": {
        "id": "EZjZmOquOxK2",
        "outputId": "3b963641-2efb-4525-f831-82ff0c43098e",
        "colab": {
          "base_uri": "https://localhost:8080/"
        }
      },
      "execution_count": 133,
      "outputs": [
        {
          "output_type": "stream",
          "name": "stdout",
          "text": [
            "added label to node: Experimentation Controller\n"
          ]
        }
      ]
    },
    {
      "cell_type": "markdown",
      "metadata": {
        "id": "5VEb2wKlwakG"
      },
      "source": [
        "Example-4: Find all nodes with a use case label"
      ]
    },
    {
      "cell_type": "code",
      "execution_count": 134,
      "metadata": {
        "colab": {
          "base_uri": "https://localhost:8080/"
        },
        "id": "QXv630w8wdEc",
        "outputId": "4a070780-86e1-405c-d7b6-ce09b467693d"
      },
      "outputs": [
        {
          "output_type": "stream",
          "name": "stdout",
          "text": [
            "Found actor-1: Experimentation Controller\n",
            "Found actor-2: Sandbox\n"
          ]
        }
      ],
      "source": [
        "app.find_all_usecase_actors(\"usecase_001\")"
      ]
    },
    {
      "cell_type": "code",
      "source": [
        "app.find_all_usecase_actors(\"usecase_002\")"
      ],
      "metadata": {
        "id": "XjfqC7ywQK4x",
        "outputId": "4fc5c798-122d-4df5-ce67-c0226866001d",
        "colab": {
          "base_uri": "https://localhost:8080/"
        }
      },
      "execution_count": 135,
      "outputs": [
        {
          "output_type": "stream",
          "name": "stdout",
          "text": [
            "Found actor-1: Experimentation Controller\n"
          ]
        }
      ]
    },
    {
      "cell_type": "markdown",
      "source": [
        "CAUTION: Remember to clean up the DB before executing the next steps. (so that all examples above are not leftover in the use case data below)."
      ],
      "metadata": {
        "id": "spwwNfDnSDsf"
      }
    },
    {
      "cell_type": "markdown",
      "source": [
        "FG-AN-USECASE-001"
      ],
      "metadata": {
        "id": "2NKgB7ZSRqXL"
      }
    },
    {
      "cell_type": "code",
      "source": [
        "app.create_node_with_label(\"Knowledge Base\", \"usecase_001\")\n",
        "app.create_node_with_label(\"Knowledge Base Manager\", \"usecase_001\")\n",
        "app.create_node_with_label(\"AN Orchestrator\", \"usecase_001\")\n",
        "app.create_node_with_label(\"Use case description\", \"usecase_001\")\n",
        "app.create_node_with_label(\"TOSCA format\", \"usecase_001\")\n",
        "app.create_node_with_label(\"Auto controller generator\", \"usecase_001\")\n",
        "app.create_node_with_label(\"controller repository\", \"usecase_001\")\n",
        "app.create_node_with_label(\"controllers\", \"usecase_001\")\n",
        "app.create_node_with_label(\"ML model\", \"usecase_001\")\n",
        "app.create_node_with_label(\"Human operator\", \"usecase_001\")\n",
        "app.create_node_with_label(\"reports\", \"usecase_001\")\n",
        "\n"
      ],
      "metadata": {
        "id": "g3-zNw1qR--U",
        "outputId": "c4e80d13-5702-42c9-97c4-e9a17ef57e2d",
        "colab": {
          "base_uri": "https://localhost:8080/"
        }
      },
      "execution_count": 137,
      "outputs": [
        {
          "output_type": "stream",
          "name": "stdout",
          "text": [
            "Created node: Knowledge Base\n",
            "Created node: Knowledge Base Manager\n",
            "Created node: AN Orchestrator\n",
            "Created node: Use case description\n",
            "Created node: TOSCA format\n",
            "Created node: Auto controller generator\n",
            "Created node: controller repository\n",
            "Created node: controllers\n",
            "Created node: ML model\n",
            "Created node: Human operator\n",
            "Created node: reports\n"
          ]
        }
      ]
    },
    {
      "cell_type": "code",
      "source": [
        "app.create_rel_with_type_existing_nodes(\"import\", \"Knowledge Base\", \"Knowledge Base\")\n",
        "app.create_rel_with_type_existing_nodes(\"export\", \"Knowledge Base\", \"Knowledge Base\")\n",
        "\n",
        "app.create_rel_with_type_existing_nodes(\"optimizes\", \"Knowledge Base Manager\", \"Knowledge Base\")\n",
        "app.create_rel_with_type_existing_nodes(\"export\", \"Knowledge Base Manager\", \"Knowledge Base\")\n",
        "\n",
        "\n"
      ],
      "metadata": {
        "id": "w6w8dt-QUUX8"
      },
      "execution_count": null,
      "outputs": []
    },
    {
      "cell_type": "markdown",
      "metadata": {
        "id": "eBr7q13XvyeB"
      },
      "source": [
        "Step-5: Close the database connection"
      ]
    },
    {
      "cell_type": "code",
      "execution_count": 136,
      "metadata": {
        "id": "J2ak5OTtvrLd"
      },
      "outputs": [],
      "source": [
        "app.close()"
      ]
    }
  ],
  "metadata": {
    "colab": {
      "collapsed_sections": [],
      "name": "build-a-thon-graph-v1.ipynb",
      "provenance": [],
      "authorship_tag": "ABX9TyO6XOWdmSZuaKp+rrLNTX3e",
      "include_colab_link": true
    },
    "interpreter": {
      "hash": "59112f1abec8676be8d8e5b557dd5f2474aba6f718d70c26d8ed3f852164eaa0"
    },
    "kernelspec": {
      "display_name": "Python 3.8.12 ('myenv38')",
      "language": "python",
      "name": "python3"
    },
    "language_info": {
      "codemirror_mode": {
        "name": "ipython",
        "version": 3
      },
      "file_extension": ".py",
      "mimetype": "text/x-python",
      "name": "python",
      "nbconvert_exporter": "python",
      "pygments_lexer": "ipython3",
      "version": "3.8.12"
    }
  },
  "nbformat": 4,
  "nbformat_minor": 0
}