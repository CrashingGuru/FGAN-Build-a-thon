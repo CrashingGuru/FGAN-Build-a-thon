{
  "cells": [
    {
      "cell_type": "markdown",
      "metadata": {},
      "source": [
        "[![Open In Colab](https://colab.research.google.com/assets/colab-badge.svg)](https://colab.research.google.com/github/vrra/FGAN-Build-a-thon-2022/blob/main/Notebooks2022/build_a_thon_graph_v1.ipynb)"
      ]
    },
    {
      "cell_type": "markdown",
      "metadata": {},
      "source": [
        "## Build-a-thon 2022, Hoist the colors?"
      ]
    },
    {
      "cell_type": "code",
      "execution_count": 1,
      "metadata": {
        "id": "S2lCDXuLveAV"
      },
      "outputs": [
        {
          "name": "stdout",
          "output_type": "stream",
          "text": [
            "Cloning into '/tmp/FGAN-Build-a-thon-2022'...\n",
            "remote: Enumerating objects: 339, done.\u001b[K\n",
            "remote: Counting objects: 100% (70/70), done.\u001b[K\n",
            "remote: Compressing objects: 100% (11/11), done.\u001b[K\n",
            "remote: Total 339 (delta 63), reused 63 (delta 59), pack-reused 269\u001b[K\n",
            "Receiving objects: 100% (339/339), 2.54 MiB | 3.40 MiB/s, done.\n",
            "Resolving deltas: 100% (172/172), done.\n"
          ]
        }
      ],
      "source": [
        "!rm -rf /tmp/FGAN-Build-a-thon-2022/\n",
        "!git clone https://github.com/vrra/FGAN-Build-a-thon-2022.git /tmp/FGAN-Build-a-thon-2022\n"
      ]
    },
    {
      "cell_type": "code",
      "execution_count": 2,
      "metadata": {
        "colab": {
          "base_uri": "https://localhost:8080/",
          "height": 298
        },
        "id": "KD4Roac3nWHm",
        "outputId": "e2e442f1-e194-4afa-a5a1-348b5ce04a55"
      },
      "outputs": [
        {
          "ename": "FileNotFoundError",
          "evalue": "[Errno 2] No such file or directory: '/tmp/FGAN-Build-a-thon-2022/Banner/1920x1080-FG_AN-buildathon_Sep02-01.png'",
          "output_type": "error",
          "traceback": [
            "\u001b[0;31m---------------------------------------------------------------------------\u001b[0m",
            "\u001b[0;31mFileNotFoundError\u001b[0m                         Traceback (most recent call last)",
            "\u001b[1;32m/Users/vishnu/Desktop/TDs/1.Code.VSC/FGAN-Build-a-thon-2022/Notebooks2022/build_a_thon_graph_v1.ipynb Cell 4\u001b[0m in \u001b[0;36m<cell line: 2>\u001b[0;34m()\u001b[0m\n\u001b[1;32m      <a href='vscode-notebook-cell:/Users/vishnu/Desktop/TDs/1.Code.VSC/FGAN-Build-a-thon-2022/Notebooks2022/build_a_thon_graph_v1.ipynb#W3sZmlsZQ%3D%3D?line=0'>1</a>\u001b[0m \u001b[39mfrom\u001b[39;00m \u001b[39mIPython\u001b[39;00m\u001b[39m.\u001b[39;00m\u001b[39mdisplay\u001b[39;00m \u001b[39mimport\u001b[39;00m Image\n\u001b[0;32m----> <a href='vscode-notebook-cell:/Users/vishnu/Desktop/TDs/1.Code.VSC/FGAN-Build-a-thon-2022/Notebooks2022/build_a_thon_graph_v1.ipynb#W3sZmlsZQ%3D%3D?line=1'>2</a>\u001b[0m Image(filename\u001b[39m=\u001b[39;49m\u001b[39m'\u001b[39;49m\u001b[39m/tmp/FGAN-Build-a-thon-2022/Banner/1920x1080-FG_AN-buildathon_Sep02-01.png\u001b[39;49m\u001b[39m'\u001b[39;49m, width\u001b[39m=\u001b[39;49m\u001b[39m500\u001b[39;49m)\n",
            "File \u001b[0;32m/opt/homebrew/Caskroom/miniforge/base/envs/myenv38b/lib/python3.8/site-packages/IPython/core/display.py:957\u001b[0m, in \u001b[0;36mImage.__init__\u001b[0;34m(self, data, url, filename, format, embed, width, height, retina, unconfined, metadata, alt)\u001b[0m\n\u001b[1;32m    955\u001b[0m \u001b[39mself\u001b[39m\u001b[39m.\u001b[39munconfined \u001b[39m=\u001b[39m unconfined\n\u001b[1;32m    956\u001b[0m \u001b[39mself\u001b[39m\u001b[39m.\u001b[39malt \u001b[39m=\u001b[39m alt\n\u001b[0;32m--> 957\u001b[0m \u001b[39msuper\u001b[39;49m(Image, \u001b[39mself\u001b[39;49m)\u001b[39m.\u001b[39;49m\u001b[39m__init__\u001b[39;49m(data\u001b[39m=\u001b[39;49mdata, url\u001b[39m=\u001b[39;49murl, filename\u001b[39m=\u001b[39;49mfilename,\n\u001b[1;32m    958\u001b[0m         metadata\u001b[39m=\u001b[39;49mmetadata)\n\u001b[1;32m    960\u001b[0m \u001b[39mif\u001b[39;00m \u001b[39mself\u001b[39m\u001b[39m.\u001b[39mwidth \u001b[39mis\u001b[39;00m \u001b[39mNone\u001b[39;00m \u001b[39mand\u001b[39;00m \u001b[39mself\u001b[39m\u001b[39m.\u001b[39mmetadata\u001b[39m.\u001b[39mget(\u001b[39m'\u001b[39m\u001b[39mwidth\u001b[39m\u001b[39m'\u001b[39m, {}):\n\u001b[1;32m    961\u001b[0m     \u001b[39mself\u001b[39m\u001b[39m.\u001b[39mwidth \u001b[39m=\u001b[39m metadata[\u001b[39m'\u001b[39m\u001b[39mwidth\u001b[39m\u001b[39m'\u001b[39m]\n",
            "File \u001b[0;32m/opt/homebrew/Caskroom/miniforge/base/envs/myenv38b/lib/python3.8/site-packages/IPython/core/display.py:327\u001b[0m, in \u001b[0;36mDisplayObject.__init__\u001b[0;34m(self, data, url, filename, metadata)\u001b[0m\n\u001b[1;32m    324\u001b[0m \u001b[39melif\u001b[39;00m \u001b[39mself\u001b[39m\u001b[39m.\u001b[39mmetadata \u001b[39mis\u001b[39;00m \u001b[39mNone\u001b[39;00m:\n\u001b[1;32m    325\u001b[0m     \u001b[39mself\u001b[39m\u001b[39m.\u001b[39mmetadata \u001b[39m=\u001b[39m {}\n\u001b[0;32m--> 327\u001b[0m \u001b[39mself\u001b[39;49m\u001b[39m.\u001b[39;49mreload()\n\u001b[1;32m    328\u001b[0m \u001b[39mself\u001b[39m\u001b[39m.\u001b[39m_check_data()\n",
            "File \u001b[0;32m/opt/homebrew/Caskroom/miniforge/base/envs/myenv38b/lib/python3.8/site-packages/IPython/core/display.py:992\u001b[0m, in \u001b[0;36mImage.reload\u001b[0;34m(self)\u001b[0m\n\u001b[1;32m    990\u001b[0m \u001b[39m\"\"\"Reload the raw data from file or URL.\"\"\"\u001b[39;00m\n\u001b[1;32m    991\u001b[0m \u001b[39mif\u001b[39;00m \u001b[39mself\u001b[39m\u001b[39m.\u001b[39membed:\n\u001b[0;32m--> 992\u001b[0m     \u001b[39msuper\u001b[39;49m(Image,\u001b[39mself\u001b[39;49m)\u001b[39m.\u001b[39;49mreload()\n\u001b[1;32m    993\u001b[0m     \u001b[39mif\u001b[39;00m \u001b[39mself\u001b[39m\u001b[39m.\u001b[39mretina:\n\u001b[1;32m    994\u001b[0m         \u001b[39mself\u001b[39m\u001b[39m.\u001b[39m_retina_shape()\n",
            "File \u001b[0;32m/opt/homebrew/Caskroom/miniforge/base/envs/myenv38b/lib/python3.8/site-packages/IPython/core/display.py:353\u001b[0m, in \u001b[0;36mDisplayObject.reload\u001b[0;34m(self)\u001b[0m\n\u001b[1;32m    351\u001b[0m \u001b[39mif\u001b[39;00m \u001b[39mself\u001b[39m\u001b[39m.\u001b[39mfilename \u001b[39mis\u001b[39;00m \u001b[39mnot\u001b[39;00m \u001b[39mNone\u001b[39;00m:\n\u001b[1;32m    352\u001b[0m     encoding \u001b[39m=\u001b[39m \u001b[39mNone\u001b[39;00m \u001b[39mif\u001b[39;00m \u001b[39m\"\u001b[39m\u001b[39mb\u001b[39m\u001b[39m\"\u001b[39m \u001b[39min\u001b[39;00m \u001b[39mself\u001b[39m\u001b[39m.\u001b[39m_read_flags \u001b[39melse\u001b[39;00m \u001b[39m\"\u001b[39m\u001b[39mutf-8\u001b[39m\u001b[39m\"\u001b[39m\n\u001b[0;32m--> 353\u001b[0m     \u001b[39mwith\u001b[39;00m \u001b[39mopen\u001b[39;49m(\u001b[39mself\u001b[39;49m\u001b[39m.\u001b[39;49mfilename, \u001b[39mself\u001b[39;49m\u001b[39m.\u001b[39;49m_read_flags, encoding\u001b[39m=\u001b[39;49mencoding) \u001b[39mas\u001b[39;00m f:\n\u001b[1;32m    354\u001b[0m         \u001b[39mself\u001b[39m\u001b[39m.\u001b[39mdata \u001b[39m=\u001b[39m f\u001b[39m.\u001b[39mread()\n\u001b[1;32m    355\u001b[0m \u001b[39melif\u001b[39;00m \u001b[39mself\u001b[39m\u001b[39m.\u001b[39murl \u001b[39mis\u001b[39;00m \u001b[39mnot\u001b[39;00m \u001b[39mNone\u001b[39;00m:\n\u001b[1;32m    356\u001b[0m     \u001b[39m# Deferred import\u001b[39;00m\n",
            "\u001b[0;31mFileNotFoundError\u001b[0m: [Errno 2] No such file or directory: '/tmp/FGAN-Build-a-thon-2022/Banner/1920x1080-FG_AN-buildathon_Sep02-01.png'"
          ]
        }
      ],
      "source": [
        "from IPython.display import Image\n",
        "Image(filename='/tmp/FGAN-Build-a-thon-2022/Banner/1920x1080-FG_AN-buildathon_Sep02-01.png', width=500) \n"
      ]
    },
    {
      "cell_type": "code",
      "execution_count": null,
      "metadata": {},
      "outputs": [],
      "source": [
        "!rm -rf /tmp/FGAN-Build-a-thon-2022/"
      ]
    },
    {
      "cell_type": "markdown",
      "metadata": {
        "id": "RhHOWZlCnPDk"
      },
      "source": [
        "## Introduction"
      ]
    },
    {
      "cell_type": "markdown",
      "metadata": {
        "id": "xvVYTJnpc8NW"
      },
      "source": [
        "Created: 14 Apr 2022.   \n",
        "Author: Vishnu Ram OV.   \n",
        "vishnu.n@ieee.org.   \n",
        "Licence: available for all purposes under the sun  \n",
        "but with acknowledgement and citation to \"ITU FG AN Build-a-thon 2022\"\n"
      ]
    },
    {
      "cell_type": "markdown",
      "metadata": {
        "id": "TOxLkcQAfFsO"
      },
      "source": [
        "## References \n",
        "[1] Neo4j Docs, \"Creating an instance\", https://neo4j.com/docs/aura/auradb/getting-started/create-database/   \n",
        "[2] ITU-T Focus Group Autonomous Networks, \"Use cases for Autonomous Networks\", https://extranet.itu.int/sites/itu-t/focusgroups/an/output/FGAN-O-013-R1.docx  \n",
        "[3] Build-a-thon github, https://github.com/vrra/FGAN-Build-a-thon-2022"
      ]
    },
    {
      "cell_type": "markdown",
      "metadata": {},
      "source": [
        "## Prerequisite: \n",
        "create a free account at https://console.neo4j.io  \n",
        "Follow steps at https://extranet.itu.int/sites/itu-t/focusgroups/an/input/FGAN-I-253.pdf  \n",
        "\n",
        "\n",
        "## General cautions\n",
        "Property names have strict conventions and rules in neo4j (apparently)"
      ]
    },
    {
      "cell_type": "markdown",
      "metadata": {},
      "source": [
        "### For Colab users:\n",
        "\n",
        "If you are using colab, add your credentials here and uncomment these  \n",
        "and skip to step-1 below."
      ]
    },
    {
      "cell_type": "code",
      "execution_count": null,
      "metadata": {},
      "outputs": [],
      "source": [
        "#uri = \"your uri from console.neo4j.io\"  \n",
        "#user = \"your username from console.neo4j.io\"  \n",
        "#password = \"your passwd from console.neo4j.io\"  "
      ]
    },
    {
      "cell_type": "markdown",
      "metadata": {},
      "source": [
        "### For non-colab users:\n",
        "Create a local file .env with   \n",
        "neo4j_uri=\"your uri from console.neo4j.io\"  \n",
        "neo4j_user=\"your username from console.neo4j.io\"  \n",
        "neo4j_password=\"your passwd from console.neo4j.io\"  "
      ]
    },
    {
      "cell_type": "markdown",
      "metadata": {},
      "source": [
        "#### Read the neo4j URI, username, passwd\n"
      ]
    },
    {
      "cell_type": "code",
      "execution_count": 3,
      "metadata": {},
      "outputs": [
        {
          "name": "stdout",
          "output_type": "stream",
          "text": [
            "Requirement already satisfied: python-dotenv in /opt/homebrew/Caskroom/miniforge/base/envs/myenv38b/lib/python3.8/site-packages (0.20.0)\n",
            "Note: you may need to restart the kernel to use updated packages.\n"
          ]
        },
        {
          "data": {
            "text/plain": [
              "True"
            ]
          },
          "execution_count": 3,
          "metadata": {},
          "output_type": "execute_result"
        }
      ],
      "source": [
        "import os\n",
        "%pip install python-dotenv\n",
        "from dotenv import load_dotenv\n",
        "load_dotenv()"
      ]
    },
    {
      "cell_type": "code",
      "execution_count": 4,
      "metadata": {},
      "outputs": [],
      "source": [
        "\n",
        "#Vishnu: 1 Jun 2022: use the details from https://console.neo4j.io\n",
        "#especially use your own DB instance and corresponding passwd.\n",
        "#if you dont have a .env file, replace here with your credentials.\n",
        "\n",
        "uri = os.getenv('neo4j_uri')\n",
        "user = os.getenv('neo4j_user')\n",
        "password = os.getenv('neo4j_password')"
      ]
    },
    {
      "cell_type": "markdown",
      "metadata": {
        "id": "Seq4Lm-HdDJY"
      },
      "source": [
        "## step-1: install neo4j"
      ]
    },
    {
      "cell_type": "code",
      "execution_count": 5,
      "metadata": {
        "colab": {
          "base_uri": "https://localhost:8080/"
        },
        "id": "hKFE_mBLcWJL",
        "outputId": "a83f3001-1e21-42ff-e147-6bd048b33363"
      },
      "outputs": [
        {
          "name": "stdout",
          "output_type": "stream",
          "text": [
            "Requirement already satisfied: neo4j in /opt/homebrew/Caskroom/miniforge/base/envs/myenv38b/lib/python3.8/site-packages (4.4.5)\n",
            "Requirement already satisfied: pytz in /opt/homebrew/Caskroom/miniforge/base/envs/myenv38b/lib/python3.8/site-packages (from neo4j) (2022.2.1)\n",
            "Note: you may need to restart the kernel to use updated packages.\n"
          ]
        }
      ],
      "source": [
        "%pip install neo4j"
      ]
    },
    {
      "cell_type": "markdown",
      "metadata": {
        "id": "P49wR7FPejI6"
      },
      "source": [
        "## step-2: imports and init"
      ]
    },
    {
      "cell_type": "code",
      "execution_count": 6,
      "metadata": {
        "id": "CMXk5yZcd-Jt"
      },
      "outputs": [],
      "source": [
        "from neo4j import GraphDatabase\n",
        "import logging\n",
        "from neo4j.exceptions import ServiceUnavailable"
      ]
    },
    {
      "cell_type": "markdown",
      "metadata": {
        "id": "QJsfeO0Ve03C"
      },
      "source": [
        "## step-3: define helper class"
      ]
    },
    {
      "cell_type": "code",
      "execution_count": 7,
      "metadata": {
        "id": "FccBUxEIeKf_"
      },
      "outputs": [],
      "source": [
        "\n",
        "\n",
        "class App:\n",
        "\n",
        "    def __init__(self, uri, user, password):\n",
        "        self.driver = GraphDatabase.driver(uri, auth=(user, password))\n",
        "\n",
        "    def close(self):\n",
        "        # Don't forget to close the driver connection when you are finished with it\n",
        "        self.driver.close()\n",
        "\n",
        "    #Vishnu: 1 Aug 2022: uses labels instead of properties\n",
        "    #Vishnu: 1 Aug 2022: Invariant: only 1 actor with 1 name.\n",
        "    #        (Note that rel still uses properties and not labels)\n",
        "    def create_node_with_usecase_label(self, actor_name, usecase_id):\n",
        "        with self.driver.session() as session:\n",
        "            node_already_exists = session.read_transaction(\n",
        "                self._find_and_return_existing_node_label, actor_name)\n",
        "            if not node_already_exists:  \n",
        "                #node itself doesnt exist (not to mention the use case label), Lets add.\n",
        "                result = session.write_transaction(\n",
        "                    self._create_and_return_node_label, actor_name, usecase_id)\n",
        "                for row in result:\n",
        "                    print(\"Created node: {n1}\".format(n1=row['n1name']))\n",
        "            else:\n",
        "                for row in node_already_exists:\n",
        "                    print(\"Node already exists: {name} in {usecase}\".format(name=row['n1name'], \n",
        "                                                                 usecase=row['n1usecase']))\n",
        "                    if not (usecase_id in row['n1usecase']):\n",
        "                      print(\"adding label \"\n",
        "                                +usecase_id+ \n",
        "                                \" in addition to {usecase}\".format(usecase=row['n1usecase']))\n",
        "                      result = session.write_transaction(\n",
        "                                self._add_usecase_and_return_existing_node_label, actor_name, usecase_id)\n",
        "                    else:\n",
        "                      print(\"ignoring ...\")\n",
        "                    #row has only 1 entry due to invariant. So break here. and exit f()\n",
        "                    break\n",
        "    \n",
        "    #Vishnu: 1 Aug 2022: created this f() to query nodes based on a name\n",
        "    #                    and return with usecase labels\n",
        "    @staticmethod\n",
        "    def _find_and_return_existing_node_label(tx, actor_name):\n",
        "        query = (\n",
        "            \"MATCH (n1) \"\n",
        "            \"WHERE (n1.name ='\" + actor_name + \"') \"\n",
        "            \"RETURN n1.name as n1name, labels(n1) as n1usecase\"\n",
        "        )\n",
        "        result = tx.run(query)\n",
        "        try:\n",
        "            return [{\"n1name\": row[\"n1name\"],\"n1usecase\": row[\"n1usecase\"]} \n",
        "                    for row in result]\n",
        "        # Capture any errors along with the query and data for traceability\n",
        "        except ServiceUnavailable as exception:\n",
        "            logging.error(\"{query} raised an error: \\n {exception}\".format(\n",
        "                query=query, exception=exception))\n",
        "            raise\n",
        "\n",
        "    #Vishnu: 1 Aug 2022: created this f() to create nodes with usecase label\n",
        "    @staticmethod\n",
        "    def _create_and_return_node_label(tx, actor_name, usecase_id):\n",
        "            query = (\n",
        "            \"CREATE (n1 :\" + usecase_id + \" { name: '\" + actor_name + \"'}) \"\n",
        "            \"RETURN n1\"\n",
        "            )\n",
        "            result = tx.run(query, actor_name=actor_name)\n",
        "            try:\n",
        "                return [{\"n1name\": row[\"n1\"][\"name\"]}\n",
        "                        for row in result]\n",
        "            # Capture any errors along with the query and data for traceability\n",
        "            except ServiceUnavailable as exception:\n",
        "                logging.error(\"{query} raised an error: \\n {exception}\".format(\n",
        "                    query=query, exception=exception))\n",
        "                raise\n",
        "\n",
        "    #Vishnu: 1 Aug 2022: created this f() to add use case labels to existing nodes\n",
        "    #                    Note that the existing labels are left there.\n",
        "    @staticmethod\n",
        "    def _add_usecase_and_return_existing_node_label(tx, actor_name, usecase_id):\n",
        "        query = (\n",
        "            \"MATCH \"\n",
        "            \"(n1) \"\n",
        "            \"WHERE n1.name = '\" + actor_name +\"' \"\n",
        "            \"set n1 :\" + usecase_id +\" \"\n",
        "            \"return n1\"\n",
        "        )\n",
        "        result = tx.run(query, actor_name=actor_name)\n",
        "        try:\n",
        "            return [{\"n1\": row[\"n1\"][\"name\"]}\n",
        "                    for row in result]\n",
        "        # Capture any errors along with the query and data for traceability\n",
        "        except ServiceUnavailable as exception:\n",
        "            logging.error(\"{query} raised an error: \\n {exception}\".format(\n",
        "                query=query, exception=exception))\n",
        "            raise\n",
        "\n",
        "    #Vishnu: 1 Aug 2022: created this f() to return all use case actors based on labels\n",
        "    #                    as against properties\n",
        "    @staticmethod\n",
        "    def _find_and_return_all_usecase_actors_label(tx, usecase_id):\n",
        "        query = (\n",
        "            \"MATCH (n) \"\n",
        "            \"WHERE '\" +usecase_id+ \"' in labels(n) \"\n",
        "            \"RETURN n.name AS name\"\n",
        "        )\n",
        "        result = tx.run(query)\n",
        "        return [row[\"name\"] for row in result]\n",
        "\n",
        "    #Vishnu: 1 Aug 2022: created this f() to list all nodes with usecase label\n",
        "    #                    instead of properties\n",
        "    def find_all_usecase_actors_label(self, usecase_id):\n",
        "        with self.driver.session() as session:\n",
        "            result = session.read_transaction(self._find_and_return_all_usecase_actors_label, usecase_id)\n",
        "            i=0\n",
        "            for row in result:\n",
        "                i=i+1\n",
        "                print(\"Found actor-\"+ str(i) +\": {row}\".format(row=row))\n",
        "\n",
        "    #Vishnu: 1 Aug 2022: Created to use label for use case.\n",
        "    #CAUTION: Assumes that actors already exists with label as use case.\n",
        "    #So, this has to be called only in conjunction with create_node_with_usecase\n",
        "    #otherwise you may end up with actors not having use case prop\n",
        "    #but rels will have use case prop. not a good idea.\n",
        "    def create_rel_with_usecase_label(self, actor1_name, rel_name, actor2_name, usecase_id):\n",
        "        with self.driver.session() as session:\n",
        "            this_rel_already_exists = session.read_transaction(\n",
        "                self._find_and_return_this_existing_rels, actor1_name, rel_name, actor2_name, usecase_id)\n",
        "            if (this_rel_already_exists):\n",
        "                print(rel_name + \" already exists with \"+ usecase_id + \" between \"+ actor1_name + \" and \"+ actor2_name)\n",
        "                return\n",
        "            else:\n",
        "                #we are pretty sure something didnt match\n",
        "                #this relation does not exist currently between the nodes under the use case, \n",
        "                #add it.\n",
        "                result3 = session.write_transaction(\n",
        "                    self._create_and_return_rel_label, actor1_name, rel_name, actor2_name, usecase_id)\n",
        "                #if (not retult3)\n",
        "                for row in result3:\n",
        "                    print(\"Created relation: {actor1} - {rel} - {actor2} in {usecase}\".\n",
        "                            format(actor1=row['n1name'], \n",
        "                            rel=row['r1name'],\n",
        "                            actor2=row['n2name'],\n",
        "                            usecase=row['r1usecase']))\n",
        "\n",
        "    #Vishnu: 1 Aug 2022 \n",
        "    #assumption: nodes already exist\n",
        "    #modified from _create_and_return_rel to use labels for n.usecase\n",
        "    @staticmethod\n",
        "    def _create_and_return_rel_label(tx, actor1_name, rel_name, actor2_name, usecaseid):\n",
        "            query = (\n",
        "            \"MATCH \"\n",
        "            \"(n1), \"\n",
        "            \"(n2) \"\n",
        "            \"WHERE n1.name = '\" + actor1_name + \"' AND n2.name = '\"+actor2_name+\"' \"\n",
        "            \" AND '\"+ usecaseid+\"' in labels(n1) \"\n",
        "            \" AND '\"+ usecaseid+\"' in labels(n2) \"\n",
        "            \"CREATE (n1)-[r1:Relation \" + \"{name: '\"+rel_name+\"', usecase: '\"+usecaseid+\"'} ]->(n2) \"\n",
        "            \"RETURN n1, r1, n2\"\n",
        "            )\n",
        "            result = tx.run(query)\n",
        "            try:\n",
        "                return [{\"n1name\": row[\"n1\"][\"name\"], \n",
        "                        \"r1name\": row[\"r1\"][\"name\"],\n",
        "                        \"n2name\": row[\"n2\"][\"name\"],\n",
        "                        \"r1usecase\": row[\"r1\"][\"usecase\"]}\n",
        "                        for row in result]\n",
        "            # Capture any errors along with the query and data for traceability\n",
        "            except ServiceUnavailable as exception:\n",
        "                logging.error(\"{query} raised an error: \\n {exception}\".format(\n",
        "                    query=query, exception=exception))\n",
        "                raise\n",
        "\n",
        "    #Vishnu: 1 Aug 2022: This approach uses properties instead of labels for n.usecases.\n",
        "    #Vishnu: 1 Aug 2022: Invariant: only 1 actor with 1 name.\n",
        "    #Vishnu: 22 Jun 2022: refactored, uses properties instead of labels\n",
        "    #Vishnu: 1 Jun 2022: created this f() to create nodes with usecase label\n",
        "    #Vishnu: 2 Jun 2022: added- check if it already exists.\n",
        "    #Vishnu: 2 Jun 2022: added- check the usecase duplication, adds a usecase if it doesnt exist.\n",
        "    #otherwise ignores the command.\n",
        "    def create_node_with_usecase(self, actor_name, usecase_id):\n",
        "        with self.driver.session() as session:\n",
        "            node_already_exists = session.read_transaction(\n",
        "                self._find_and_return_existing_node, actor_name)\n",
        "            if not node_already_exists:  \n",
        "                result = session.write_transaction(\n",
        "                    self._create_and_return_node, actor_name, usecase_id)\n",
        "                for row in result:\n",
        "                    print(\"Created node: {n1}\".format(n1=row['n1name']))\n",
        "            else:\n",
        "                for row in node_already_exists:\n",
        "                    print(\"Node already exists: {name} in {usecase}\".format(name=row['n1name'], \n",
        "                                                                 usecase=row['n1usecase']))\n",
        "                    s=row['n1usecase'].split(',')\n",
        "                    if not (usecase_id in s):\n",
        "                      print(\"adding prop \"+usecase_id+ \" in addition to \"+row['n1usecase'])\n",
        "                      result = session.write_transaction(\n",
        "                                self._add_usecase_and_return_existing_node, actor_name, usecase_id)\n",
        "                    else:\n",
        "                      print(\"ignoring ...\")\n",
        "                    #row has only 1 entry due to invariant. So break here. and exit f()\n",
        "                    break\n",
        "\n",
        "    #Vishnu: 1 Aug 2022: This approach uses properties instead of labels for usecases.\n",
        "    #Vishnu: 2 Jun 2022: created this f() to query nodes and return with usecase prop\n",
        "    @staticmethod\n",
        "    def _find_and_return_existing_node(tx, actor_name):\n",
        "        query = (\n",
        "            \"MATCH (n1) \"\n",
        "            \"WHERE (n1.name ='\" + actor_name + \"') \"\n",
        "            \"RETURN n1.name as n1name, n1.usecase as n1usecase\"\n",
        "        )\n",
        "        result = tx.run(query)\n",
        "        try:\n",
        "            return [{\"n1name\": row[\"n1name\"],\"n1usecase\": row[\"n1usecase\"]} \n",
        "                    for row in result]\n",
        "        # Capture any errors along with the query and data for traceability\n",
        "        except ServiceUnavailable as exception:\n",
        "            logging.error(\"{query} raised an error: \\n {exception}\".format(\n",
        "                query=query, exception=exception))\n",
        "            raise\n",
        "\n",
        "    #Vishnu: 1 Aug 2022: This approach uses properties instead of labels for usecases.\n",
        "    @staticmethod\n",
        "    def _create_and_return_node(tx, actor_name, usecase_id):\n",
        "            query = (\n",
        "            \"CREATE (n1 \"+\"{ name: '\"+actor_name+\"', usecase: '\"+usecase_id+\"'}) \"\n",
        "            \"RETURN n1\"\n",
        "            )\n",
        "            result = tx.run(query, actor_name=actor_name)\n",
        "            try:\n",
        "                return [{\"n1name\": row[\"n1\"][\"name\"]}\n",
        "                        for row in result]\n",
        "            # Capture any errors along with the query and data for traceability\n",
        "            except ServiceUnavailable as exception:\n",
        "                logging.error(\"{query} raised an error: \\n {exception}\".format(\n",
        "                    query=query, exception=exception))\n",
        "                raise\n",
        "\n",
        "    #Vishnu: 1 Aug 2022: This approach uses properties instead of labels for usecases.\n",
        "    #Vishnu: 1 Jun 2022: created this f() to add use case prop to existing nodes \n",
        "    #CAUTION: does not check for duplication, use create_node_with_prop instead.\n",
        "    def add_usecase_existing_node(self, actor_name, usecase_id):\n",
        "        with self.driver.session() as session:\n",
        "            # Write transactions allow the driver to handle retries and transient errors\n",
        "            result = session.write_transaction(\n",
        "                self._add_usecase_and_return_existing_node, actor_name, usecase_id)\n",
        "            \n",
        "            # we expect only 1 node. Do we need the for loop below?\n",
        "            for row in result:\n",
        "                print(\"added usecase to node: {n1}\".format(n1=row['n1']))\n",
        "\n",
        "    #Vishnu: 1 Aug 2022: This approach uses properties instead of labels for usecases.\n",
        "    @staticmethod\n",
        "    def _add_usecase_and_return_existing_node(tx, actor_name, usecase_id):\n",
        "        # To learn more about the Cypher syntax, see https://neo4j.com/docs/cypher-manual/current/\n",
        "        # The Reference Card is also a good resource for keywords https://neo4j.com/docs/cypher-refcard/current/\n",
        "        query = (\n",
        "            \"MATCH \"\n",
        "            \"(n1) \"\n",
        "            \"WHERE n1.name = '\" + actor_name +\"' \"\n",
        "            \"set n1.usecase = n1.usecase + '\" + \",\" + \"'\"+ \"+ '\"+usecase_id +\"' \"\n",
        "            \"return n1\"\n",
        "        )\n",
        "        result = tx.run(query, actor_name=actor_name)\n",
        "        try:\n",
        "            return [{\"n1\": row[\"n1\"][\"name\"]}\n",
        "                    for row in result]\n",
        "        # Capture any errors along with the query and data for traceability\n",
        "        except ServiceUnavailable as exception:\n",
        "            logging.error(\"{query} raised an error: \\n {exception}\".format(\n",
        "                query=query, exception=exception))\n",
        "            raise\n",
        "\n",
        "    #Vishnu: 1 Aug 2022: This approach uses properties instead of labels for usecases.\n",
        "    #CAUTION: Assumes that actors already exists with property as n.use case.\n",
        "    #So, this has to be called only in conjunction with create_node_with_usecase\n",
        "    #otherwise you may end up with actors not having use case prop\n",
        "    #but rels will have use case prop. not a good idea.\n",
        "    def create_rel_with_usecase(self, actor1_name, rel_name, actor2_name, usecase_id):\n",
        "        with self.driver.session() as session:\n",
        "            this_rel_already_exists = session.read_transaction(\n",
        "                self._find_and_return_this_existing_rels, actor1_name, rel_name, actor2_name, usecase_id)\n",
        "            if (this_rel_already_exists):\n",
        "                print(rel_name + \" already exists with \"+ usecase_id + \" between \"+ actor1_name + \" and \"+ actor2_name)\n",
        "                return\n",
        "            else:\n",
        "                #we are pretty sure something didnt match\n",
        "                #this relation does not exist currently between the nodes under the use case, \n",
        "                #add it.\n",
        "                result3 = session.write_transaction(\n",
        "                    self._create_and_return_rel, actor1_name, rel_name, actor2_name, usecase_id)\n",
        "                #if (not retult3)\n",
        "                for row in result3:\n",
        "                    print(\"Created relation: {actor1} - {rel} - {actor2} in {usecase}\".\n",
        "                            format(actor1=row['n1name'], \n",
        "                            rel=row['r1name'],\n",
        "                            actor2=row['n2name'],\n",
        "                            usecase=row['r1usecase']))\n",
        "    \n",
        "    #Vishnu: 1 Aug 2022: at this moment this f() uses labels instead of properties for n.usecases.\n",
        "    #                    Note that rels still uses properties.\n",
        "    #        1 Aug 2022: TBD: create a property-version (as against label) of the same thing.\n",
        "    #Vishnu: 21 Jun 2022: created this f() to create relationships with usecase label\n",
        "    #if this works, this is the only function that needed to be called.\n",
        "    def create_actors_relationship_with_usecase(self, actor1_name, rel_name, actor2_name, usecase_id):\n",
        "            #process actor1\n",
        "            self.create_node_with_usecase_label(actor1_name, usecase_id)\n",
        "            #process actor2\n",
        "            self.create_node_with_usecase_label(actor2_name, usecase_id)\n",
        "            #process relation\n",
        "            self.create_rel_with_usecase_label(actor1_name, rel_name, actor2_name, usecase_id)\n",
        "\n",
        "    #Vishnu: 23 June 2022: created\n",
        "    #looks for a rel under a use case between 2 given nodes.\n",
        "    #normally, we expect only 0 or 1 unique entry.\n",
        "    @staticmethod                \n",
        "    def _find_and_return_this_existing_rels(tx, actor1_name, rel_name, actor2_name, usecase_id):\n",
        "        query = (\n",
        "            \"MATCH (n1)-[r1]-(n2) \"\n",
        "            \"WHERE (n1.name ='\" + actor1_name + \"') \"\n",
        "            \"and   (n2.name ='\" + actor2_name + \"') \"\n",
        "            \"and   (r1.usecase CONTAINS '\"+ usecase_id+ \"') \"\n",
        "            \"and   (r1.name ='\" + rel_name + \"') \"\n",
        "            \"RETURN n1.name as n1name, r1.name as r1name, n2.name as n2name, r1.usecase as r1usecase\"\n",
        "        )\n",
        "        result = tx.run(query)\n",
        "        return [row[\"r1name\"] for row in result]\n",
        "        \n",
        "    \n",
        "    #Vishnu: 21 June 2022: created this supporting f()\n",
        "    #return for all relationship between given two nodes.\n",
        "    @staticmethod                \n",
        "    def _find_and_return_all_existing_rels_for_uc(tx, actor1_name, actor2_name, usecase_id):\n",
        "        query = (\n",
        "            \"MATCH (n1)-[r1]-(n2) \"\n",
        "            \"WHERE (n1.name ='\" + actor1_name + \"') \"\n",
        "            \"and   (n2.name ='\" + actor2_name + \"') \"\n",
        "            \"and   (r1.usecase CONTAINS '\"+ usecase_id+ \"') \"\n",
        "            \"RETURN n1.name as n1name, r1.name as r1name, n2.name as n2name, r1.usecase as r1usecase\"\n",
        "        )\n",
        "        result = tx.run(query)\n",
        "        try:\n",
        "            return [{\n",
        "                        \"n1name\": row[\"n1name\"],\n",
        "                        \"n2name\": row[\"n2name\"],\n",
        "                        \"r1name\": row[\"r1name\"],\n",
        "                        \"r1usecase\": row[\"r1usecase\"],\n",
        "                    } \n",
        "                    for row in result]\n",
        "        # Capture any errors along with the query and data for traceability\n",
        "        except ServiceUnavailable as exception:\n",
        "            logging.error(\"{query} raised an error: \\n {exception}\".format(\n",
        "                query=query, exception=exception))\n",
        "            raise\n",
        "\n",
        "    #Vishnu: 21 June 2022: created this supporting f()\n",
        "    #adds a name for an existing relationship between given two nodes.\n",
        "    @staticmethod                \n",
        "    def _add_usecase_and_return_existing_rel(tx, actor1_name, rel_name, actor2_name, usecase_id):\n",
        "        query = (\n",
        "            \"MATCH (n1)-[r1]-(n2) \"\n",
        "            \"WHERE (n1.name ='\" + actor1_name + \"') \"\n",
        "            \"and   (n2.name ='\" + actor2_name + \"')\"\n",
        "            \"set    r1.usecase = r1.usecase + '\" + \",\" + \"'\"+ \"+ '\"+usecase_id +\"' \"\n",
        "        )\n",
        "        result = tx.run(query)\n",
        "\n",
        "    \n",
        "    #Vishnu: 30 june 2022: created\n",
        "    #CAUTION: if the property already exists, \n",
        "    #this overwrites the current value.\n",
        "    @staticmethod\n",
        "    def _write_property_and_return_existing_node(tx, actor_name, propertyName, propertyVal):\n",
        "        query = (\n",
        "            \"MATCH \"\n",
        "            \"(n1) \"\n",
        "            \"WHERE n1.name = '\" + actor_name +\"' \"\n",
        "            \"set n1.\"+propertyName+\" = '\"+propertyVal +\"' \"\n",
        "            \"return n1\"\n",
        "        )\n",
        "        result = tx.run(query, actor_name=actor_name)\n",
        "        try:\n",
        "            return [{\"n1\": row[\"n1\"][\"name\"]}\n",
        "                    for row in result]\n",
        "        # Capture any errors along with the query and data for traceability\n",
        "        except ServiceUnavailable as exception:\n",
        "            logging.error(\"{query} raised an error: \\n {exception}\".format(\n",
        "                query=query, exception=exception))\n",
        "            raise\n",
        "\n",
        "    #Vishnu: 30 june 2022: created\n",
        "    #CAUTION: if the property already exists, \n",
        "    #this overwrites the current value.\n",
        "    @staticmethod\n",
        "    def _write_property_and_return_existing_rel(tx, actor1_name, rel_name, actor2_name, \n",
        "                                                propertyName, propertyVal):\n",
        "        query = (\n",
        "            \"MATCH (n1)-[r1]-(n2) \"\n",
        "            \"WHERE (n1.name ='\" + actor1_name + \"') \"\n",
        "            \"and   (n2.name ='\" + actor2_name + \"') \"\n",
        "            \"and   (r1.name ='\" + rel_name + \"') \"\n",
        "            \"set   r1.\"+propertyName+\" = '\"+propertyVal +\"' \"\n",
        "            \"return r1\"\n",
        "        )\n",
        "        result = tx.run(query)\n",
        "        try:\n",
        "            return [{\"r1\": row[\"r1\"][\"name\"]}\n",
        "                    for row in result]\n",
        "        # Capture any errors along with the query and data for traceability\n",
        "        except ServiceUnavailable as exception:\n",
        "            logging.error(\"{query} raised an error: \\n {exception}\".format(\n",
        "                query=query, exception=exception))\n",
        "            raise\n",
        "\n",
        "    #Vishnu: 22 June 2022: created\n",
        "    #assumption: nodes already exist\n",
        "    @staticmethod\n",
        "    def _create_and_return_rel(tx, actor1_name, rel_name, actor2_name, usecaseid):\n",
        "            query = (\n",
        "            \"MATCH \"\n",
        "            \"(n1), \"\n",
        "            \"(n2) \"\n",
        "            \"WHERE n1.name = '\" + actor1_name + \"' AND n2.name = '\"+actor2_name+\"' \"\n",
        "            \" AND n1.usecase CONTAINS '\"+ usecaseid+\"' \"\n",
        "            \" AND n2.usecase CONTAINS '\"+ usecaseid+\"' \"\n",
        "            \"CREATE (n1)-[r1:Relation \" + \"{name: '\"+rel_name+\"', usecase: '\"+usecaseid+\"'} ]->(n2) \"\n",
        "            \"RETURN n1, r1, n2\"\n",
        "            )\n",
        "            result = tx.run(query)\n",
        "            try:\n",
        "                return [{\"n1name\": row[\"n1\"][\"name\"], \n",
        "                        \"r1name\": row[\"r1\"][\"name\"],\n",
        "                        \"n2name\": row[\"n2\"][\"name\"],\n",
        "                        \"r1usecase\": row[\"r1\"][\"usecase\"]}\n",
        "                        for row in result]\n",
        "            # Capture any errors along with the query and data for traceability\n",
        "            except ServiceUnavailable as exception:\n",
        "                logging.error(\"{query} raised an error: \\n {exception}\".format(\n",
        "                    query=query, exception=exception))\n",
        "                raise\n",
        "\n",
        "    #Vishnu: 1 Jun 2022: created this f() to list all nodes with usecase label\n",
        "    def find_all_usecase_actors(self, usecase_id):\n",
        "        with self.driver.session() as session:\n",
        "            result = session.read_transaction(self._find_and_return_all_usecase_actors, usecase_id)\n",
        "            i=0\n",
        "            for row in result:\n",
        "                i=i+1\n",
        "                print(\"Found actor-\"+ str(i) +\": {row}\".format(row=row))\n",
        "\n",
        "    @staticmethod\n",
        "    def _find_and_return_all_usecase_actors(tx, usecase_id):\n",
        "        query = (\n",
        "            \"MATCH (n) \"\n",
        "            \"WHERE (n.usecase = '\"+usecase_id+\"') \"\n",
        "            \"RETURN n.name AS name\"\n",
        "        )\n",
        "        result = tx.run(query)\n",
        "        return [row[\"name\"] for row in result]\n",
        "\n",
        "    #Vishnu: 21 Jun 2022: created this f() to cleanup the DB\n",
        "    #CAUTION: will delete everything\n",
        "    def cleanup_db(self):\n",
        "        with self.driver.session() as session:\n",
        "            result = session.read_transaction(\n",
        "                self._count_nodes_in_db)\n",
        "            for row in result:\n",
        "                print(\"Found {row} actors, deleting! \".format(row=row['count']))\n",
        "            result = session.write_transaction(\n",
        "                self._cleanup_db)\n",
        "\n",
        "    #Vishnu: 22 June 2022: created this f() \n",
        "    #(over)writes a prop to a node\n",
        "    def writePropToNode(self, actor_name, propertyName, propertyVal):\n",
        "        with self.driver.session() as session:\n",
        "            result = session.write_transaction(\n",
        "                self._write_property_and_return_existing_node, \n",
        "                    actor_name, \n",
        "                    propertyName, \n",
        "                    propertyVal)\n",
        "        \n",
        "            # we expect only 1 node. Do we need the for loop below?\n",
        "            for row in result:\n",
        "                print(\"added prop \"+\n",
        "                        propertyName+\n",
        "                        \" = \"+\n",
        "                        propertyVal+\n",
        "                        \" to node: {n1}\".format(n1=row['n1']))\n",
        "\n",
        "    #Vishnu: 22 June 2022: created this f() \n",
        "    #(over)writes a prop to a rel\n",
        "    def writePropToRel(self, a1, rel_name, a2, propertyName, propertyVal):\n",
        "        with self.driver.session() as session:\n",
        "            result = session.write_transaction(\n",
        "                self._write_property_and_return_existing_rel, \n",
        "                    a1, rel_name, a2,\n",
        "                    propertyName, \n",
        "                    propertyVal)\n",
        "        \n",
        "            # we expect only 1 node. Do we need the for loop below?\n",
        "            for row in result:\n",
        "                print(\"added prop \"+\n",
        "                        propertyName+\n",
        "                        \" = \"+\n",
        "                        propertyVal+\n",
        "                        \" to rel: {r1}\".format(r1=row['r1']))\n",
        "\n",
        "    @staticmethod\n",
        "    def _cleanup_db(tx):\n",
        "        query = (\n",
        "            \"MATCH (n) \"\n",
        "            \"detach delete n\"\n",
        "        )\n",
        "        result = tx.run(query)\n",
        "        try:\n",
        "            return \n",
        "        # Capture any errors along with the query and data for traceability\n",
        "        except ServiceUnavailable as exception:\n",
        "            logging.error(\"{query} raised an error: \\n {exception}\".format(\n",
        "                query=query, exception=exception))\n",
        "            raise\n",
        "\n",
        "    @staticmethod\n",
        "    def _count_nodes_in_db(tx):\n",
        "        query = (\n",
        "            \"MATCH (n) \"\n",
        "            \"return count(n) as count\"\n",
        "        )\n",
        "        result = tx.run(query)\n",
        "        try:\n",
        "            return [{\"count\": row[\"count\"]} \n",
        "                    for row in result]\n",
        "        # Capture any errors along with the query and data for traceability\n",
        "        except ServiceUnavailable as exception:\n",
        "            logging.error(\"{query} raised an error: \\n {exception}\".format(\n",
        "                query=query, exception=exception))\n",
        "            raise"
      ]
    },
    {
      "cell_type": "markdown",
      "metadata": {
        "id": "Pjilh9vPe4LY"
      },
      "source": [
        "## step-4: instantiate the helper class to DB. \n",
        "CAUTION: this uses the username/passwd assigned already in step-2 above."
      ]
    },
    {
      "cell_type": "code",
      "execution_count": 8,
      "metadata": {
        "id": "6p2nMvmodNw4"
      },
      "outputs": [],
      "source": [
        "app = App(uri, user, password)"
      ]
    },
    {
      "cell_type": "markdown",
      "metadata": {},
      "source": [
        "## step-5 clean up DB\n",
        "#Caution: lose data\n"
      ]
    },
    {
      "cell_type": "code",
      "execution_count": null,
      "metadata": {},
      "outputs": [],
      "source": [
        "app.cleanup_db()"
      ]
    },
    {
      "cell_type": "markdown",
      "metadata": {
        "id": "W4siCdsInsxH"
      },
      "source": [
        "## Examples"
      ]
    },
    {
      "cell_type": "code",
      "execution_count": null,
      "metadata": {},
      "outputs": [],
      "source": [
        "app.create_actors_relationship_with_usecase(\"Experimentation Controller\", \n",
        "                                            \"myrel\", \n",
        "                                            \"Sandbox\",\n",
        "                                            \"usecase_001\")"
      ]
    },
    {
      "cell_type": "markdown",
      "metadata": {
        "id": "v_PlujdPvtcN"
      },
      "source": [
        "### Example-1: Create individual nodes with usecase\n",
        "(and add a node property)\n",
        "(and add a rel property)"
      ]
    },
    {
      "cell_type": "code",
      "execution_count": null,
      "metadata": {
        "id": "aiKGLHItvp2g"
      },
      "outputs": [],
      "source": [
        "app.create_node_with_usecase(\"Experimentation Controller\", \"usecase_001\")\n",
        "app.create_node_with_usecase(\"Sandbox\", \"usecase_001\")\n"
      ]
    },
    {
      "cell_type": "code",
      "execution_count": null,
      "metadata": {},
      "outputs": [],
      "source": [
        "app.writePropToNode(\"Sandbox\", \"capability\", \"import knowledge\")\n"
      ]
    },
    {
      "cell_type": "code",
      "execution_count": null,
      "metadata": {},
      "outputs": [],
      "source": [
        "app.writePropToNode(\"Sandbox\", \"requirement\", \"integrate controllers\")\n"
      ]
    },
    {
      "cell_type": "markdown",
      "metadata": {
        "id": "IlzAm-ApdU_t"
      },
      "source": [
        "### Example-1a: try to create duplicate node under different use case"
      ]
    },
    {
      "cell_type": "code",
      "execution_count": null,
      "metadata": {
        "id": "5PMotSRCdRdZ"
      },
      "outputs": [],
      "source": [
        "app.create_node_with_usecase(\"Sandbox\", \"usecase_003\")\n",
        "app.create_node_with_usecase(\"Sandbox\", \"usecase_004\")\n",
        "app.create_node_with_usecase(\"Sandbox\", \"usecase_005\")\n",
        "app.create_node_with_usecase(\"Sandbox\", \"usecase_006\")\n"
      ]
    },
    {
      "cell_type": "markdown",
      "metadata": {},
      "source": [
        "### Example-1b: use create_node_with_usecase_label (instead of properties)"
      ]
    },
    {
      "cell_type": "code",
      "execution_count": null,
      "metadata": {},
      "outputs": [],
      "source": [
        "app.create_node_with_usecase_label(\"Sandbox\", \"usecase_003\")\n",
        "app.create_node_with_usecase_label(\"Sandbox\", \"usecase_003\")\n",
        "app.create_node_with_usecase_label(\"Sandbox\", \"usecase_004\")\n",
        "app.create_node_with_usecase_label(\"Sandbox\", \"usecase_004\")\n",
        "app.create_node_with_usecase_label(\"Sandbox\", \"usecase_005\")\n",
        "\n"
      ]
    },
    {
      "cell_type": "markdown",
      "metadata": {
        "id": "0DR2Zu-rQr-9"
      },
      "source": [
        "### Example-2: Create relation between 2 existing nodes"
      ]
    },
    {
      "cell_type": "code",
      "execution_count": null,
      "metadata": {
        "id": "9FZGjCA0DmXT"
      },
      "outputs": [],
      "source": [
        "app.create_rel_with_usecase(\"Experimentation Controller\", \"my_best_buddy\", \"Sandbox\", \"usecase_001\")\n",
        "app.create_rel_with_usecase(\"Experimentation Controller\", \"my_best_buddy\", \"Sandbox\", \"usecase_002\")\n",
        "app.create_rel_with_usecase(\"Experimentation Controller\", \"my_best_buddy\", \"Sandbox\", \"usecase_003\")\n"
      ]
    },
    {
      "cell_type": "code",
      "execution_count": null,
      "metadata": {},
      "outputs": [],
      "source": [
        "app.writePropToRel(\"Experimentation Controller\", \"my_best_buddy\", \"Sandbox\", \n",
        "                    \"my_rel_prop_name\", \n",
        "                    \"my-rel-prop-val\")"
      ]
    },
    {
      "cell_type": "markdown",
      "metadata": {
        "id": "spwwNfDnSDsf"
      },
      "source": [
        "## Cleanup DB \n",
        "CAUTION: Remember to clean up the DB before executing the next steps. (so that all examples above are not leftover in the use case data below)."
      ]
    },
    {
      "cell_type": "code",
      "execution_count": null,
      "metadata": {},
      "outputs": [],
      "source": [
        "app.cleanup_db()"
      ]
    },
    {
      "cell_type": "markdown",
      "metadata": {
        "id": "Onme80CYn8O7"
      },
      "source": [
        "## USECASES"
      ]
    },
    {
      "cell_type": "markdown",
      "metadata": {
        "id": "2NKgB7ZSRqXL"
      },
      "source": [
        "### FG-AN-USECASE-001"
      ]
    },
    {
      "cell_type": "code",
      "execution_count": null,
      "metadata": {
        "id": "w6w8dt-QUUX8"
      },
      "outputs": [],
      "source": [
        "\n",
        "app.create_actors_relationship_with_usecase(\"Knowledge Base\", \"import\", \"Knowledge Base\", \"usecase_001\")\n",
        "app.create_actors_relationship_with_usecase(\"Knowledge Base\", \"export\", \"Knowledge Base\", \"usecase_001\")\n",
        "\n",
        "app.create_actors_relationship_with_usecase(\"Knowledge Base Manager\", \"optimizes\", \"Knowledge Base\", \"usecase_001\")\n",
        "app.create_actors_relationship_with_usecase(\"Knowledge Base Manager\", \"export\", \"Knowledge Base\", \"usecase_001\")\n",
        "\n",
        "app.create_actors_relationship_with_usecase(\"AN Orchestrator\", \"refer\", \"Knowledge Base\", \"usecase_001\")\n",
        "app.create_actors_relationship_with_usecase(\"AN Orchestrator\", \"input\", \"Use case description\", \"usecase_001\")\n",
        "app.create_actors_relationship_with_usecase(\"AN Orchestrator\", \"output\", \"TOSCA format\", \"usecase_001\")\n",
        "\n",
        "app.create_actors_relationship_with_usecase(\"Auto controller generator\", \"refer\", \"Knowledge Base\", \"usecase_001\")\n",
        "app.create_actors_relationship_with_usecase(\"Auto controller generator\", \"output\", \"TOSCA format\", \"usecase_001\")\n",
        "\n",
        "app.create_actors_relationship_with_usecase(\"controller repository\", \"stores\", \"controllers\", \"usecase_001\")\n",
        "app.create_actors_relationship_with_usecase(\"ML model\", \"recommends\", \"controllers\", \"usecase_001\")\n",
        "\n",
        "app.create_actors_relationship_with_usecase(\"Human operator\", \"input\", \"reports\", \"usecase_001\")\n",
        "app.create_actors_relationship_with_usecase(\"Human operator\", \"monitors\", \"reports\", \"usecase_001\")"
      ]
    },
    {
      "cell_type": "code",
      "execution_count": 6,
      "metadata": {
        "id": "dD7NR950Ry-N"
      },
      "outputs": [
        {
          "name": "stdout",
          "output_type": "stream",
          "text": [
            "Found actor-1: Knowledge Base\n",
            "Found actor-2: Knowledge Base Manager\n",
            "Found actor-3: AN Orchestrator\n",
            "Found actor-4: Use case description\n",
            "Found actor-5: TOSCA format\n",
            "Found actor-6: Auto controller generator\n",
            "Found actor-7: controller repository\n",
            "Found actor-8: controllers\n",
            "Found actor-9: ML model\n",
            "Found actor-10: Human operator\n",
            "Found actor-11: reports\n"
          ]
        }
      ],
      "source": [
        "app.find_all_usecase_actors_label(\"usecase_001\")"
      ]
    },
    {
      "cell_type": "markdown",
      "metadata": {
        "id": "xAXqmO5Bu_ki"
      },
      "source": [
        "### FG-AN-USECASE-002\n"
      ]
    },
    {
      "cell_type": "code",
      "execution_count": null,
      "metadata": {
        "id": "hIFRfkDQzZhz"
      },
      "outputs": [],
      "source": [
        "app.create_actors_relationship_with_usecase(\"Experimentation controller\", \"decides\", \n",
        "                                        \"scenarios for experimentation\", \"usecase_002\")\n",
        "app.create_actors_relationship_with_usecase(\"AN sandbox\", \"hosts\", \n",
        "                                        \"simulators\", \"usecase_002\")\n",
        "app.create_actors_relationship_with_usecase(\"AN sandbox\", \"manages\", \n",
        "                                        \"simulators\", \"usecase_002\")\n",
        "app.create_actors_relationship_with_usecase(\"AN sandbox\", \"output\", \n",
        "                                        \"reports\", \"usecase_002\")\n",
        "app.create_actors_relationship_with_usecase(\"Experimentation controller\", \"triggers\", \n",
        "                                        \"experiments\", \"usecase_002\")\n",
        "app.create_actors_relationship_with_usecase(\"Experimentation controller\", \"output\", \n",
        "                                        \"reports\", \"usecase_002\")\n",
        "app.create_actors_relationship_with_usecase(\"Experimentation controller\", \"executes\", \n",
        "                                        \"experiments\", \"usecase_002\")\n",
        "app.create_actors_relationship_with_usecase(\"Experimentation controller\", \"monitors\", \n",
        "                                        \"experiments\", \"usecase_002\")\n",
        "app.create_actors_relationship_with_usecase(\"Experimentation controller\", \"uses\", \n",
        "                                        \"AN sandbox\", \"usecase_002\")\n",
        "app.create_actors_relationship_with_usecase(\"Experimentation controller\", \"updates\", \n",
        "                                        \"Knowledge Base\", \"usecase_002\")\n",
        "app.create_actors_relationship_with_usecase(\"experiments\", \"has\", \n",
        "                                        \"scenarios for experimentation\", \"usecase_002\")"
      ]
    },
    {
      "cell_type": "code",
      "execution_count": 7,
      "metadata": {
        "id": "kESuu7StzBZC"
      },
      "outputs": [
        {
          "name": "stdout",
          "output_type": "stream",
          "text": [
            "Found actor-1: Knowledge Base\n",
            "Found actor-2: reports\n",
            "Found actor-3: Experimentation controller\n",
            "Found actor-4: scenarios for experimentation\n",
            "Found actor-5: AN sandbox\n",
            "Found actor-6: simulators\n",
            "Found actor-7: experiments\n"
          ]
        }
      ],
      "source": [
        "app.find_all_usecase_actors_label(\"usecase_002\")"
      ]
    },
    {
      "cell_type": "markdown",
      "metadata": {
        "id": "kYop_NWy2upE"
      },
      "source": [
        "### FG-AN-USECASE-003\n"
      ]
    },
    {
      "cell_type": "code",
      "execution_count": null,
      "metadata": {
        "id": "ZlYgiEEd5W4L"
      },
      "outputs": [],
      "source": [
        "app.create_actors_relationship_with_usecase(\"AN Orchestrator\", \"queries\", \n",
        "                                        \"AN Orchestrator\", \"usecase_003\")\n",
        "app.create_actors_relationship_with_usecase(\"AN Orchestrator\", \"queries\", \n",
        "                                        \"Human operator\", \"usecase_003\")\n",
        "app.create_actors_relationship_with_usecase(\"AN Orchestrator\", \"accept\", \n",
        "                                        \"feedback\", \"usecase_003\")\n",
        "app.create_actors_relationship_with_usecase(\"AN Orchestrator\", \"configures\", \n",
        "                                        \"AN components\", \"usecase_003\")\n",
        "app.create_actors_relationship_with_usecase(\"AN Orchestrator\", \"updates\", \n",
        "                                        \"Knowledge Base\", \"usecase_003\")\n"
      ]
    },
    {
      "cell_type": "code",
      "execution_count": 8,
      "metadata": {},
      "outputs": [
        {
          "name": "stdout",
          "output_type": "stream",
          "text": [
            "Found actor-1: Knowledge Base\n",
            "Found actor-2: AN Orchestrator\n",
            "Found actor-3: Human operator\n",
            "Found actor-4: feedback\n",
            "Found actor-5: AN components\n"
          ]
        }
      ],
      "source": [
        "app.find_all_usecase_actors_label(\"usecase_003\")"
      ]
    },
    {
      "cell_type": "markdown",
      "metadata": {
        "id": "_niHmj2zA-8o"
      },
      "source": [
        "### FG-AN-USECASE-004"
      ]
    },
    {
      "cell_type": "code",
      "execution_count": null,
      "metadata": {
        "id": "ks473AsjKtw0"
      },
      "outputs": [],
      "source": [
        "app.create_actors_relationship_with_usecase(\"Adaptation controller\", \"discovers\", \n",
        "                                        \"controllers\", \"usecase_004\")\n",
        "app.create_actors_relationship_with_usecase(\"Adaptation controller\", \"deploy\", \n",
        "                                        \"controllers\", \"usecase_004\")\n",
        "app.create_actors_relationship_with_usecase(\"Adaptation controller\", \"configures\", \n",
        "                                        \"controllers\", \"usecase_004\")\n",
        "app.create_actors_relationship_with_usecase(\"Adaptation controller\", \"queries\", \n",
        "                                        \"controller repository\", \"usecase_004\")          \n",
        "app.create_actors_relationship_with_usecase(\"Adaptation controller\", \"updates\", \n",
        "                                        \"Knowledge Base\", \"usecase_004\")  \n",
        "app.create_actors_relationship_with_usecase(\"controllers\", \"is\", \n",
        "                                        \"undeployed controllers\", \"usecase_004\")  \n",
        "app.create_actors_relationship_with_usecase(\"controllers\", \"is\", \n",
        "                                        \"deployed controllers\", \"usecase_004\")                                         "
      ]
    },
    {
      "cell_type": "code",
      "execution_count": 9,
      "metadata": {},
      "outputs": [
        {
          "name": "stdout",
          "output_type": "stream",
          "text": [
            "Found actor-1: Knowledge Base\n",
            "Found actor-2: controller repository\n",
            "Found actor-3: controllers\n",
            "Found actor-4: Adaptation controller\n",
            "Found actor-5: undeployed controllers\n",
            "Found actor-6: deployed controllers\n"
          ]
        }
      ],
      "source": [
        "app.find_all_usecase_actors_label(\"usecase_004\")"
      ]
    },
    {
      "cell_type": "markdown",
      "metadata": {},
      "source": [
        "### FG-AN-USECASE-005"
      ]
    },
    {
      "cell_type": "code",
      "execution_count": null,
      "metadata": {},
      "outputs": [],
      "source": [
        "app.create_actors_relationship_with_usecase(\"Service management framework\", \"is\", \n",
        "                                        \"underlay\", \"usecase_005\")\n",
        "app.create_actors_relationship_with_usecase(\"Adaptation controller\", \"discover\", \n",
        "                                        \"Service management framework\", \"usecase_005\")     \n",
        "app.create_actors_relationship_with_usecase(\"Adaptation controller\", \"influence\", \n",
        "                                        \"Service management framework\", \"usecase_005\")  \n",
        "app.create_actors_relationship_with_usecase(\"intent\", \"is\", \n",
        "                                        \"influence\", \"usecase_005\")  \n",
        "app.create_actors_relationship_with_usecase(\"policy\", \"is\", \n",
        "                                        \"influence\", \"usecase_005\")                                         "
      ]
    },
    {
      "cell_type": "code",
      "execution_count": 10,
      "metadata": {},
      "outputs": [
        {
          "name": "stdout",
          "output_type": "stream",
          "text": [
            "Found actor-1: Adaptation controller\n",
            "Found actor-2: Service management framework\n",
            "Found actor-3: underlay\n",
            "Found actor-4: intent\n",
            "Found actor-5: influence\n",
            "Found actor-6: policy\n"
          ]
        }
      ],
      "source": [
        "app.find_all_usecase_actors_label(\"usecase_005\")"
      ]
    },
    {
      "cell_type": "markdown",
      "metadata": {},
      "source": [
        "### FG-AN-USECASE-006 cat1"
      ]
    },
    {
      "cell_type": "code",
      "execution_count": null,
      "metadata": {},
      "outputs": [],
      "source": [
        "app.create_actors_relationship_with_usecase(\"Evolution controller\", \"monitors\", \n",
        "                                        \"controllers\", \"usecase_006_cat1\")\n",
        "app.create_actors_relationship_with_usecase(\"Evolution controller\", \"discovers\", \n",
        "                                        \"use cases\", \"usecase_006_cat1\")     \n",
        "app.create_actors_relationship_with_usecase(\"Evolution controller\", \"recommends\", \n",
        "                                        \"controllers\", \"usecase_006_cat1\")  \n",
        "app.create_actors_relationship_with_usecase(\"Evolution controller\", \"refers\", \n",
        "                                        \"Knowledge Base\", \"usecase_006_cat1\")  "
      ]
    },
    {
      "cell_type": "code",
      "execution_count": 11,
      "metadata": {},
      "outputs": [
        {
          "name": "stdout",
          "output_type": "stream",
          "text": [
            "Found actor-1: Knowledge Base\n",
            "Found actor-2: controllers\n",
            "Found actor-3: Evolution controller\n",
            "Found actor-4: use cases\n"
          ]
        }
      ],
      "source": [
        "app.find_all_usecase_actors_label(\"usecase_006_cat1\")"
      ]
    },
    {
      "cell_type": "markdown",
      "metadata": {},
      "source": [
        "### FG-AN-USECASE-006 cat2"
      ]
    },
    {
      "cell_type": "code",
      "execution_count": null,
      "metadata": {},
      "outputs": [],
      "source": [
        "app.create_actors_relationship_with_usecase(\"Data collector\", \"consumes\", \n",
        "                                        \"data\", \"usecase_006_cat2\")\n",
        "app.create_actors_relationship_with_usecase(\"Management domain\", \"produces\", \n",
        "                                        \"data\", \"usecase_006_cat2\")     \n",
        "app.create_actors_relationship_with_usecase(\"Management domain\", \"has\", \n",
        "                                        \"RAN cell\", \"usecase_006_cat2\")  \n",
        "app.create_actors_relationship_with_usecase(\"Data collector\", \"produces\", \n",
        "                                        \"data\", \"usecase_006_cat2\") \n",
        "\n",
        "app.create_actors_relationship_with_usecase(\"data\", \"has\", \n",
        "                                        \"real time\", \"usecase_006_cat2\")     \n",
        "app.create_actors_relationship_with_usecase(\"data\", \"has\", \n",
        "                                        \"data quality\", \"usecase_006_cat2\")  \n",
        "app.create_actors_relationship_with_usecase(\"data\", \"has\", \n",
        "                                        \"KPI\", \"usecase_006_cat2\") \n",
        "\n",
        "app.create_actors_relationship_with_usecase(\"Data monitor\", \"consumes\", \n",
        "                                        \"data\", \"usecase_006_cat2\")     \n",
        "app.create_actors_relationship_with_usecase(\"Data monitor\", \"has\", \n",
        "                                        \"data monitoring\", \"usecase_006_cat2\")  \n",
        "app.create_actors_relationship_with_usecase(\"Data monitor\", \"produces\", \n",
        "                                        \"reports\", \"usecase_006_cat2\") \n",
        "app.create_actors_relationship_with_usecase(\"reports\", \"has\", \n",
        "                                        \"visualizations\", \"usecase_006_cat2\")                                         \n",
        "app.create_actors_relationship_with_usecase(\"Data analytics\", \"consumes\", \n",
        "                                        \"data\", \"usecase_006_cat2\")    \n",
        "app.create_actors_relationship_with_usecase(\"Data analytics\", \"produces\", \n",
        "                                        \"inference\", \"usecase_006_cat2\")                                           \n",
        "app.create_actors_relationship_with_usecase(\"Data analytics\", \"has\", \n",
        "                                        \"ML model\", \"usecase_006_cat2\") \n",
        "app.create_actors_relationship_with_usecase(\"inference\", \"has\", \n",
        "                                        \"periodicity\", \"usecase_006_cat2\")      \n",
        "app.create_actors_relationship_with_usecase(\"ML model\", \"has\", \n",
        "                                        \"model training\", \"usecase_006_cat2\")"
      ]
    },
    {
      "cell_type": "code",
      "execution_count": 12,
      "metadata": {},
      "outputs": [
        {
          "name": "stdout",
          "output_type": "stream",
          "text": [
            "Found actor-1: ML model\n",
            "Found actor-2: reports\n",
            "Found actor-3: Data collector\n",
            "Found actor-4: data\n",
            "Found actor-5: Management domain\n",
            "Found actor-6: RAN cell\n",
            "Found actor-7: real time\n",
            "Found actor-8: data quality\n",
            "Found actor-9: KPI\n",
            "Found actor-10: Data monitor\n",
            "Found actor-11: data monitoring\n",
            "Found actor-12: visualizations\n",
            "Found actor-13: Data analytics\n",
            "Found actor-14: inference\n",
            "Found actor-15: periodicity\n",
            "Found actor-16: model training\n"
          ]
        }
      ],
      "source": [
        "app.find_all_usecase_actors_label(\"usecase_006_cat2\")"
      ]
    },
    {
      "cell_type": "markdown",
      "metadata": {},
      "source": [
        "### FG-AN-USECASE-007 cat1"
      ]
    },
    {
      "cell_type": "code",
      "execution_count": null,
      "metadata": {},
      "outputs": [],
      "source": [
        "app.create_actors_relationship_with_usecase(\"Adaptation controller\", \"discovers deployed\", \n",
        "                                        \"CL automation framework\", \"usecase_007_cat1\")\n",
        "app.create_actors_relationship_with_usecase(\"CL automation framework\", \"deploys\", \n",
        "                                        \"controllers\", \"usecase_007_cat1\")\n",
        "app.create_actors_relationship_with_usecase(\"controllers\", \"has\", \n",
        "                                        \"automatic data acquisition\", \"usecase_007_cat1\")\n",
        "app.create_actors_relationship_with_usecase(\"controllers\", \"has\", \n",
        "                                        \"ML model\", \"usecase_007_cat1\")\n",
        "app.create_actors_relationship_with_usecase(\"controllers\", \"has\", \n",
        "                                        \"policy\", \"usecase_007_cat1\")\n",
        "app.create_actors_relationship_with_usecase(\"controllers\", \"has\", \n",
        "                                        \"action implementation\", \"usecase_007_cat1\")\n",
        "app.create_actors_relationship_with_usecase(\"policy\", \"need\", \n",
        "                                        \"optimization\", \"usecase_007_cat1\")\n",
        "app.create_actors_relationship_with_usecase(\"Adaptation controller\", \"configures\", \n",
        "                                        \"controllers\", \"usecase_007_cat1\")\n",
        "app.create_actors_relationship_with_usecase(\"Adaptation controller\", \"monitors\", \n",
        "                                        \"controllers\", \"usecase_007_cat1\")                                       \n",
        "app.create_actors_relationship_with_usecase(\"Adaptation controller\", \"adapts\", \n",
        "                                        \"controllers\", \"usecase_007_cat1\") \n",
        "app.create_actors_relationship_with_usecase(\"Adaptation controller\", \"interfaces with\", \n",
        "                                        \"underlay orchestrator\", \"usecase_007_cat1\")   "
      ]
    },
    {
      "cell_type": "code",
      "execution_count": 13,
      "metadata": {},
      "outputs": [
        {
          "name": "stdout",
          "output_type": "stream",
          "text": [
            "Found actor-1: controllers\n",
            "Found actor-2: ML model\n",
            "Found actor-3: Adaptation controller\n",
            "Found actor-4: policy\n",
            "Found actor-5: CL automation framework\n",
            "Found actor-6: automatic data acquisition\n",
            "Found actor-7: action implementation\n",
            "Found actor-8: optimization\n",
            "Found actor-9: underlay orchestrator\n"
          ]
        }
      ],
      "source": [
        "app.find_all_usecase_actors_label(\"usecase_007_cat1\")"
      ]
    },
    {
      "cell_type": "markdown",
      "metadata": {},
      "source": [
        "### FG-AN-USECASE-007 cat2"
      ]
    },
    {
      "cell_type": "code",
      "execution_count": null,
      "metadata": {},
      "outputs": [],
      "source": [
        "app.create_actors_relationship_with_usecase(\"Energy saving controller\", \"uses\", \n",
        "                                        \"modules\", \"usecase_007_cat2\")\n",
        "app.create_actors_relationship_with_usecase(\"controllers\", \"has\", \n",
        "                                        \"modules\", \"usecase_007_cat2\")    \n",
        "app.create_actors_relationship_with_usecase(\"data acquisition\", \"is\", \n",
        "                                        \"modules\", \"usecase_007_cat2\")\n",
        "app.create_actors_relationship_with_usecase(\"policy\", \"is\", \n",
        "                                        \"modules\", \"usecase_007_cat2\")  \n",
        "app.create_actors_relationship_with_usecase(\"Action implementation\", \"is\", \n",
        "                                        \"modules\", \"usecase_007_cat2\")        \n",
        "app.create_actors_relationship_with_usecase(\"Data acquisition\", \"uses\", \n",
        "                                        \"data center APIs\", \"usecase_007_cat2\")   \n",
        "app.create_actors_relationship_with_usecase(\"policy\", \"has\", \n",
        "                                        \"data center policy\", \"usecase_007_cat2\")   \n",
        "app.create_actors_relationship_with_usecase(\"Action implementation\", \"uses\", \n",
        "                                        \"data center APIs\", \"usecase_007_cat2\")        \n",
        "app.create_actors_relationship_with_usecase(\"controllers\", \"need\", \n",
        "                                        \"evaluation\", \"usecase_007_cat2\")                \n",
        "app.create_actors_relationship_with_usecase(\"evaluation\", \"has\", \n",
        "                                        \"metrics\", \"usecase_007_cat2\")        \n",
        "app.create_actors_relationship_with_usecase(\"metrics\", \"are\", \n",
        "                                        \"data center metrics\", \"usecase_007_cat2\") \n",
        "app.create_actors_relationship_with_usecase(\"controllers\", \"need\", \n",
        "                                        \"optimization\", \"usecase_007_cat2\")     \n",
        "app.create_actors_relationship_with_usecase(\"optimization\", \"uses\", \n",
        "                                        \"evaluation\", \"usecase_007_cat2\")                                                "
      ]
    },
    {
      "cell_type": "code",
      "execution_count": 14,
      "metadata": {},
      "outputs": [
        {
          "name": "stdout",
          "output_type": "stream",
          "text": [
            "Found actor-1: controllers\n",
            "Found actor-2: policy\n",
            "Found actor-3: optimization\n",
            "Found actor-4: Energy saving controller\n",
            "Found actor-5: modules\n",
            "Found actor-6: data acquisition\n",
            "Found actor-7: Action implementation\n",
            "Found actor-8: Data acquisition\n",
            "Found actor-9: data center APIs\n",
            "Found actor-10: data center policy\n",
            "Found actor-11: evaluation\n",
            "Found actor-12: metrics\n",
            "Found actor-13: data center metrics\n"
          ]
        }
      ],
      "source": [
        "app.find_all_usecase_actors_label(\"usecase_007_cat2\")"
      ]
    },
    {
      "cell_type": "markdown",
      "metadata": {},
      "source": [
        "### FG-AN-USECASE-008 cat1"
      ]
    },
    {
      "cell_type": "code",
      "execution_count": null,
      "metadata": {},
      "outputs": [],
      "source": [
        "app.create_actors_relationship_with_usecase(\"CL automation framework\", \"discovers\", \"network parameters\", \"usecase_008_cat1\")\n",
        "app.create_actors_relationship_with_usecase(\"CL automation framework\", \"discovers\", \"data\", \"usecase_008_cat1\")\n",
        "app.create_actors_relationship_with_usecase(\"CL automation framework\", \"discovers\", \"KPI\", \"usecase_008_cat1\")\n",
        "app.create_actors_relationship_with_usecase(\"CL automation framework\", \"deploys\", \"controllers\", \"usecase_008_cat1\")\n",
        "app.create_actors_relationship_with_usecase(\"controllers\", \"provide\", \"optimization\", \"usecase_008_cat1\")\n",
        "app.create_actors_relationship_with_usecase(\"KPI\", \"need\", \"optimization\", \"usecase_008_cat1\")\n",
        "app.create_actors_relationship_with_usecase(\"use cases\", \"has\", \"KPI\", \"usecase_008_cat1\")\n",
        "          "
      ]
    },
    {
      "cell_type": "code",
      "execution_count": null,
      "metadata": {},
      "outputs": [],
      "source": [
        "app.create_actors_relationship_with_usecase(\"Evolution controller\", \"discovers\", \"use cases\", \"usecase_008_cat1\")\n",
        "app.create_actors_relationship_with_usecase(\"Evolution controller\", \"composes\", \"controllers\", \"usecase_008_cat1\")\n",
        "app.create_actors_relationship_with_usecase(\"use cases\", \"has\", \"data\", \"usecase_008_cat1\")\n",
        "app.create_actors_relationship_with_usecase(\"data\", \"has\", \"parameters\", \"usecase_008_cat1\")\n"
      ]
    },
    {
      "cell_type": "code",
      "execution_count": 15,
      "metadata": {},
      "outputs": [
        {
          "name": "stdout",
          "output_type": "stream",
          "text": [
            "Found actor-1: controllers\n",
            "Found actor-2: Evolution controller\n",
            "Found actor-3: use cases\n",
            "Found actor-4: data\n",
            "Found actor-5: KPI\n",
            "Found actor-6: CL automation framework\n",
            "Found actor-7: optimization\n",
            "Found actor-8: network parameters\n",
            "Found actor-9: parameters\n"
          ]
        }
      ],
      "source": [
        "app.find_all_usecase_actors_label(\"usecase_008_cat1\")"
      ]
    },
    {
      "cell_type": "markdown",
      "metadata": {},
      "source": [
        "### FG-AN-USECASE-008 cat2"
      ]
    },
    {
      "cell_type": "code",
      "execution_count": null,
      "metadata": {},
      "outputs": [],
      "source": [
        "app.create_actors_relationship_with_usecase(\"base station\", \"has\", \"UE location\", \"usecase_008_cat2\")\n",
        "app.create_actors_relationship_with_usecase(\"mMiMO controller\", \"needs\", \"UE location\", \"usecase_008_cat2\")\n",
        "app.create_actors_relationship_with_usecase(\"mMiMO controller\", \"has\", \"optimization\", \"usecase_008_cat2\") \n",
        "app.create_actors_relationship_with_usecase(\"optimization\", \"has\", \"goals\", \"usecase_008_cat2\")\n",
        "app.create_actors_relationship_with_usecase(\"goals\", \"are\", \"system utilization\", \"usecase_008_cat2\")\n",
        "app.create_actors_relationship_with_usecase(\"goals\", \"are\", \"user experience\", \"usecase_008_cat2\")\n",
        "app.create_actors_relationship_with_usecase(\"goals\", \"are\", \"target RSRP/SINR distribution\", \"usecase_008_cat2\")\n",
        "app.create_actors_relationship_with_usecase(\"goals\", \"are\", \"optimal antenna parameters\", \"usecase_008_cat2\")"
      ]
    },
    {
      "cell_type": "code",
      "execution_count": 16,
      "metadata": {},
      "outputs": [
        {
          "name": "stdout",
          "output_type": "stream",
          "text": [
            "Found actor-1: optimization\n",
            "Found actor-2: base station\n",
            "Found actor-3: UE location\n",
            "Found actor-4: mMiMO controller\n",
            "Found actor-5: goals\n",
            "Found actor-6: system utilization\n",
            "Found actor-7: user experience\n",
            "Found actor-8: target RSRP/SINR distribution\n",
            "Found actor-9: optimal antenna parameters\n"
          ]
        }
      ],
      "source": [
        "app.find_all_usecase_actors_label(\"usecase_008_cat2\")"
      ]
    },
    {
      "cell_type": "markdown",
      "metadata": {},
      "source": [
        "### FG-AN-USECASE-009 cat1"
      ]
    },
    {
      "cell_type": "code",
      "execution_count": null,
      "metadata": {},
      "outputs": [],
      "source": [
        "app.create_actors_relationship_with_usecase(\"Adaptation controller\", \"discovers\", \"controller characteristics\", \"usecase_009_cat1\")\n",
        "app.create_actors_relationship_with_usecase(\"Evolution controller\", \"accepts\", \"intent\", \"usecase_009_cat1\")\n",
        "app.create_actors_relationship_with_usecase(\"Evolution controller\", \"composes\", \"controllers\", \"usecase_009_cat1\")\n",
        "app.create_actors_relationship_with_usecase(\"Evolution controller\", \"recommends\", \"controllers\", \"usecase_009_cat1\")\n",
        "app.create_actors_relationship_with_usecase(\"Evolution controller\", \"evolves\", \"controllers\", \"usecase_009_cat1\")\n",
        "app.create_actors_relationship_with_usecase(\"Evolution controller\", \"evolves\", \"modules\", \"usecase_009_cat1\")\n",
        "app.create_actors_relationship_with_usecase(\"Evolution controller\", \"implements\", \"evolution algorithms\", \"usecase_009_cat1\")\n",
        "app.create_actors_relationship_with_usecase(\"Evolution controller\", \"recommends\", \"modules\", \"usecase_009_cat1\")\n",
        "app.create_actors_relationship_with_usecase(\"Evolution controller\", \"composes\", \"controllers\", \"usecase_009_cat1\")\n",
        "app.create_actors_relationship_with_usecase(\"Adaptation controller\", \"deploys\", \"controllers\", \"usecase_009_cat1\")\n",
        "app.create_actors_relationship_with_usecase(\"controllers\", \"utilizes\", \"underlay specific APIs\", \"usecase_009_cat1\")\n",
        "app.create_actors_relationship_with_usecase(\"edge controllers\", \"are\", \"controllers\", \"usecase_009_cat1\")\n"
      ]
    },
    {
      "cell_type": "code",
      "execution_count": 17,
      "metadata": {},
      "outputs": [
        {
          "name": "stdout",
          "output_type": "stream",
          "text": [
            "Found actor-1: controllers\n",
            "Found actor-2: Adaptation controller\n",
            "Found actor-3: intent\n",
            "Found actor-4: Evolution controller\n",
            "Found actor-5: modules\n",
            "Found actor-6: controller characteristics\n",
            "Found actor-7: evolution algorithms\n",
            "Found actor-8: underlay specific APIs\n",
            "Found actor-9: edge controllers\n"
          ]
        }
      ],
      "source": [
        "app.find_all_usecase_actors_label(\"usecase_009_cat1\")"
      ]
    },
    {
      "cell_type": "markdown",
      "metadata": {},
      "source": [
        "### FG-AN-USECASE-009 cat2\n"
      ]
    },
    {
      "cell_type": "code",
      "execution_count": null,
      "metadata": {},
      "outputs": [],
      "source": [
        "app.create_actors_relationship_with_usecase(\"Emergency management controller\", \"uses\", \"controllers\", \"usecase_009_cat2\")\n",
        "app.create_actors_relationship_with_usecase(\"controllers\", \"detect\", \"emergencies\", \"usecase_009_cat2\")\n",
        "app.create_actors_relationship_with_usecase(\"controllers\", \"optimize\", \"network resource allocation\", \"usecase_009_cat2\")\n",
        "app.create_actors_relationship_with_usecase(\"Emergency management controller\", \"instantiates\", \"controllers\", \"usecase_009_cat2\")\n",
        "app.create_actors_relationship_with_usecase(\"Emergency management controller\", \"input\", \"intent\", \"usecase_009_cat2\")\n",
        "app.create_actors_relationship_with_usecase(\"Emergency management controller\", \"output\", \"intent\", \"usecase_009_cat2\")\n",
        "app.create_actors_relationship_with_usecase(\"controllers\", \"need\", \"network domain\", \"usecase_009_cat2\")\n",
        "app.create_actors_relationship_with_usecase(\"intent\", \"has\", \"ml pipeline\", \"usecase_009_cat2\")\n"
      ]
    },
    {
      "cell_type": "code",
      "execution_count": 18,
      "metadata": {},
      "outputs": [
        {
          "name": "stdout",
          "output_type": "stream",
          "text": [
            "Found actor-1: controllers\n",
            "Found actor-2: intent\n",
            "Found actor-3: Emergency management controller\n",
            "Found actor-4: emergencies\n",
            "Found actor-5: network resource allocation\n",
            "Found actor-6: network domain\n",
            "Found actor-7: ml pipeline\n"
          ]
        }
      ],
      "source": [
        "app.find_all_usecase_actors_label(\"usecase_009_cat2\")"
      ]
    },
    {
      "cell_type": "markdown",
      "metadata": {},
      "source": [
        "### FG-AN-USECASE-010 cat1"
      ]
    },
    {
      "cell_type": "code",
      "execution_count": null,
      "metadata": {},
      "outputs": [],
      "source": [
        "app.create_actors_relationship_with_usecase(\"AN orchestrator\", \"accepts\", \"intent\", \"usecase_010_cat1\")\n",
        "app.create_actors_relationship_with_usecase(\"AN orchestrator\", \"configures\", \"Evolution controller\", \"usecase_010_cat1\")\n",
        "app.create_actors_relationship_with_usecase(\"AN orchestrator\", \"configures\", \"Adaptation controller\", \"usecase_010_cat1\")\n",
        "app.create_actors_relationship_with_usecase(\"AN orchestrator\", \"configures\", \"Experimentation controller\", \"usecase_010_cat1\")\n",
        "app.create_actors_relationship_with_usecase(\"intent\", \"has\", \"vertical specific inputs\", \"usecase_010_cat1\")\n",
        "app.create_actors_relationship_with_usecase(\"Experimentation controller\", \"validates\", \"controllers\", \"usecase_010_cat1\")\n",
        "app.create_actors_relationship_with_usecase(\"Adaptation controller\", \"monitors\", \"controllers\", \"usecase_010_cat1\")\n",
        "app.create_actors_relationship_with_usecase(\"AN orchestrator\", \"produces\", \"reports\", \"usecase_010_cat1\")\n",
        "app.create_actors_relationship_with_usecase(\"underlay\", \"are\", \"CI/CD pipeline\", \"usecase_010_cat1\")\n",
        "app.create_actors_relationship_with_usecase(\"Adaptation controller\", \"discovers\", \"reference points\", \"usecase_010_cat1\")\n",
        "app.create_actors_relationship_with_usecase(\"underlay\", \"has\", \"reference points\", \"usecase_010_cat1\")\n",
        "app.create_actors_relationship_with_usecase(\"Evolution controller\", \"recommends\", \"controllers\", \"usecase_010_cat1\")\n",
        "app.create_actors_relationship_with_usecase(\"Adaptation controller\", \"discovers\", \"underlay capabilities\", \"usecase_010_cat1\")\n",
        "app.create_actors_relationship_with_usecase(\"underlay\", \"has\", \"underlay capabilities\", \"usecase_010_cat1\")\n",
        "\n"
      ]
    },
    {
      "cell_type": "code",
      "execution_count": 19,
      "metadata": {},
      "outputs": [
        {
          "name": "stdout",
          "output_type": "stream",
          "text": [
            "Found actor-1: controllers\n",
            "Found actor-2: reports\n",
            "Found actor-3: Experimentation controller\n",
            "Found actor-4: Adaptation controller\n",
            "Found actor-5: underlay\n",
            "Found actor-6: intent\n",
            "Found actor-7: Evolution controller\n",
            "Found actor-8: AN orchestrator\n",
            "Found actor-9: vertical specific inputs\n",
            "Found actor-10: CI/CD pipeline\n",
            "Found actor-11: reference points\n",
            "Found actor-12: underlay capabilities\n"
          ]
        }
      ],
      "source": [
        "app.find_all_usecase_actors_label(\"usecase_010_cat1\")"
      ]
    },
    {
      "cell_type": "markdown",
      "metadata": {},
      "source": [
        "### FG-AN-USECASE-010 cat2"
      ]
    },
    {
      "cell_type": "code",
      "execution_count": null,
      "metadata": {},
      "outputs": [],
      "source": [
        "app.create_actors_relationship_with_usecase(\"Cloud service controller\", \"uses\", \"controllers\", \"usecase_010_cat2\")\n",
        "app.create_actors_relationship_with_usecase(\"controllers\", \"needs\", \"intent\", \"usecase_010_cat2\")\n",
        "app.create_actors_relationship_with_usecase(\"controllers\", \"needs\", \"simulation\", \"usecase_010_cat2\")\n",
        "app.create_actors_relationship_with_usecase(\"controllers\", \"needs\", \"validation\", \"usecase_010_cat2\")\n",
        "app.create_actors_relationship_with_usecase(\"validation\", \"needs\", \"KPI\", \"usecase_010_cat2\")\n",
        "app.create_actors_relationship_with_usecase(\"validation\", \"needs\", \"AN sandbox\", \"usecase_010_cat2\")\n",
        "app.create_actors_relationship_with_usecase(\"controllers\", \"output\", \"cloud service deployment\", \"usecase_010_cat2\")\n",
        "app.create_actors_relationship_with_usecase(\"cloud service deployment\", \"needs\", \"optimization\", \"usecase_010_cat2\")\n",
        "app.create_actors_relationship_with_usecase(\"controllers\", \"output\", \"network service deployment\", \"usecase_010_cat2\")\n",
        "app.create_actors_relationship_with_usecase(\"network service deployment\", \"needs\", \"optimization\", \"usecase_010_cat2\")\n",
        "app.create_actors_relationship_with_usecase(\"controllers\", \"needs\", \"monitors\", \"usecase_010_cat2\")\n",
        "app.create_actors_relationship_with_usecase(\"monitors\", \"output\", \"reports\", \"usecase_010_cat2\")\n",
        "app.create_actors_relationship_with_usecase(\"network service deployment\", \"needs\", \"technology migration\", \"usecase_010_cat2\")\n",
        "app.create_actors_relationship_with_usecase(\"cloud service deployment\", \"needs\", \"technology migration\", \"usecase_010_cat2\")\n",
        "\n",
        "\n"
      ]
    },
    {
      "cell_type": "code",
      "execution_count": 20,
      "metadata": {},
      "outputs": [
        {
          "name": "stdout",
          "output_type": "stream",
          "text": [
            "Found actor-1: cloud service deployment\n",
            "Found actor-2: network service deployment\n",
            "Found actor-3: monitors\n",
            "Found actor-4: technology migration\n",
            "Found actor-5: controllers\n",
            "Found actor-6: reports\n",
            "Found actor-7: AN sandbox\n",
            "Found actor-8: intent\n",
            "Found actor-9: KPI\n",
            "Found actor-10: optimization\n",
            "Found actor-11: Cloud service controller\n",
            "Found actor-12: simulation\n",
            "Found actor-13: validation\n"
          ]
        }
      ],
      "source": [
        "app.find_all_usecase_actors_label(\"usecase_010_cat2\")"
      ]
    },
    {
      "cell_type": "markdown",
      "metadata": {},
      "source": [
        "### FG-AN-USECASE-011 cat1"
      ]
    },
    {
      "cell_type": "code",
      "execution_count": null,
      "metadata": {},
      "outputs": [],
      "source": [
        "app.create_actors_relationship_with_usecase(\"AN orchestrator\", \"input\", \"intent\", \"usecase_011_cat1\")\n",
        "app.create_actors_relationship_with_usecase(\"AN orchestrator\", \"configures\", \"domain orchestrator\", \"usecase_011_cat1\")\n",
        "app.create_actors_relationship_with_usecase(\"AN orchestrator\", \"configures\", \"Evolution controller\", \"usecase_011_cat1\")\n",
        "app.create_actors_relationship_with_usecase(\"AN orchestrator\", \"configures\", \"Adaptation controller\", \"usecase_011_cat1\")\n",
        "\n",
        "app.create_actors_relationship_with_usecase(\"intent\", \"has\", \"controller design\", \"usecase_011_cat1\")\n",
        "app.create_actors_relationship_with_usecase(\"intent\", \"has\", \"controller deployment\", \"usecase_011_cat1\")\n",
        "app.create_actors_relationship_with_usecase(\"intent\", \"has\", \"controller management\", \"usecase_011_cat1\")\n",
        "\n",
        "app.create_actors_relationship_with_usecase(\"controllers\", \"monitors\", \"inter-domain-connectivity\", \"usecase_011_cat1\")\n",
        "app.create_actors_relationship_with_usecase(\"controllers\", \"configures\", \"inter-domain-connectivity\", \"usecase_011_cat1\")\n",
        "app.create_actors_relationship_with_usecase(\"controllers\", \"manages\", \"inter-domain-connectivity\", \"usecase_011_cat1\")\n",
        "\n",
        "app.create_actors_relationship_with_usecase(\"Evolution controller\", \"implements\", \"evolution algorithms\", \"usecase_011_cat1\")\n",
        "app.create_actors_relationship_with_usecase(\"evolution algorithms\", \"implements\", \"evolution\", \"usecase_011_cat1\")\n",
        "app.create_actors_relationship_with_usecase(\"controllers\", \"need\", \"evolution\", \"usecase_011_cat1\")\n",
        "\n",
        "app.create_actors_relationship_with_usecase(\"underlay\", \"are\", \"inter-domain-connectivity\", \"usecase_011_cat1\")\n",
        "app.create_actors_relationship_with_usecase(\"Evolution controller\", \"recommends\", \"controllers\", \"usecase_011_cat1\")"
      ]
    },
    {
      "cell_type": "code",
      "execution_count": 21,
      "metadata": {},
      "outputs": [
        {
          "name": "stdout",
          "output_type": "stream",
          "text": [
            "Found actor-1: domain orchestrator\n",
            "Found actor-2: controller design\n",
            "Found actor-3: controller deployment\n",
            "Found actor-4: controller management\n",
            "Found actor-5: inter-domain-connectivity\n",
            "Found actor-6: evolution\n",
            "Found actor-7: controllers\n",
            "Found actor-8: Adaptation controller\n",
            "Found actor-9: underlay\n",
            "Found actor-10: intent\n",
            "Found actor-11: Evolution controller\n",
            "Found actor-12: evolution algorithms\n",
            "Found actor-13: AN orchestrator\n"
          ]
        }
      ],
      "source": [
        "app.find_all_usecase_actors_label(\"usecase_011_cat1\")"
      ]
    },
    {
      "cell_type": "markdown",
      "metadata": {},
      "source": [
        "### FG-AN-USECASE-011 cat2"
      ]
    },
    {
      "cell_type": "code",
      "execution_count": 23,
      "metadata": {},
      "outputs": [
        {
          "name": "stdout",
          "output_type": "stream",
          "text": [
            "Node already exists: inter-domain-connectivity in ['usecase_011_cat1', 'usecase_011_cat2']\n",
            "ignoring ...\n",
            "Node already exists: alternatives in ['usecase_011_cat2']\n",
            "ignoring ...\n",
            "has already exists with usecase_011_cat2 between inter-domain-connectivity and alternatives\n",
            "Created node: verticals\n",
            "Node already exists: service in ['usecase_011_cat2']\n",
            "ignoring ...\n",
            "Created relation: verticals - provide - service in usecase_011_cat2\n",
            "Node already exists: Rural sites in ['usecase_011_cat2']\n",
            "ignoring ...\n",
            "Node already exists: service in ['usecase_011_cat2']\n",
            "ignoring ...\n",
            "requirement already exists with usecase_011_cat2 between Rural sites and service\n",
            "Node already exists: verticals in ['usecase_011_cat2']\n",
            "ignoring ...\n",
            "Node already exists: inter-domain-connectivity in ['usecase_011_cat1', 'usecase_011_cat2']\n",
            "ignoring ...\n",
            "Created relation: verticals - requirement - inter-domain-connectivity in usecase_011_cat2\n",
            "Node already exists: Rural sites in ['usecase_011_cat2']\n",
            "ignoring ...\n",
            "Node already exists: inter-domain-connectivity in ['usecase_011_cat1', 'usecase_011_cat2']\n",
            "ignoring ...\n",
            "requirement already exists with usecase_011_cat2 between Rural sites and inter-domain-connectivity\n",
            "Node already exists: inter-domain-connectivity in ['usecase_011_cat1', 'usecase_011_cat2']\n",
            "ignoring ...\n",
            "Node already exists: shared in ['usecase_011_cat2']\n",
            "ignoring ...\n",
            "is already exists with usecase_011_cat2 between inter-domain-connectivity and shared\n",
            "Node already exists: inter-domain-connectivity in ['usecase_011_cat1', 'usecase_011_cat2']\n",
            "ignoring ...\n",
            "Node already exists: edge compute in ['usecase_011_cat2']\n",
            "ignoring ...\n",
            "requirement already exists with usecase_011_cat2 between inter-domain-connectivity and edge compute\n",
            "Node already exists: inter-domain-connectivity in ['usecase_011_cat1', 'usecase_011_cat2']\n",
            "ignoring ...\n",
            "Node already exists: CL automation framework in ['usecase_007_cat1', 'usecase_008_cat1', 'usecase_011_cat2']\n",
            "ignoring ...\n",
            "requirement already exists with usecase_011_cat2 between inter-domain-connectivity and CL automation framework\n",
            "Node already exists: edge compute in ['usecase_011_cat2']\n",
            "ignoring ...\n",
            "Node already exists: CL automation framework in ['usecase_007_cat1', 'usecase_008_cat1', 'usecase_011_cat2']\n",
            "ignoring ...\n",
            "requirement already exists with usecase_011_cat2 between edge compute and CL automation framework\n",
            "Node already exists: edge compute in ['usecase_011_cat2']\n",
            "ignoring ...\n",
            "Node already exists: micro service in ['usecase_011_cat2']\n",
            "ignoring ...\n",
            "has already exists with usecase_011_cat2 between edge compute and micro service\n",
            "Node already exists: alternatives in ['usecase_011_cat2']\n",
            "ignoring ...\n",
            "Node already exists: heterogeneous in ['usecase_011_cat2']\n",
            "ignoring ...\n",
            "has already exists with usecase_011_cat2 between alternatives and heterogeneous\n",
            "Node already exists: underlay orchestrator in ['usecase_007_cat1', 'usecase_011_cat2']\n",
            "ignoring ...\n",
            "Node already exists: controllers in ['usecase_001', 'usecase_004', 'usecase_006_cat1', 'usecase_007_cat1', 'usecase_007_cat2', 'usecase_008_cat1', 'usecase_009_cat1', 'usecase_009_cat2', 'usecase_010_cat1', 'usecase_010_cat2', 'usecase_011_cat1', 'usecase_011_cat2']\n",
            "ignoring ...\n",
            "has already exists with usecase_011_cat2 between underlay orchestrator and controllers\n",
            "Node already exists: inter-domain-connectivity in ['usecase_011_cat1', 'usecase_011_cat2']\n",
            "ignoring ...\n",
            "Node already exists: management in ['usecase_011_cat2']\n",
            "ignoring ...\n",
            "requirement already exists with usecase_011_cat2 between inter-domain-connectivity and management\n",
            "Node already exists: underlay orchestrator in ['usecase_007_cat1', 'usecase_011_cat2']\n",
            "ignoring ...\n",
            "Node already exists: onboarding in ['usecase_011_cat2']\n",
            "ignoring ...\n",
            "has already exists with usecase_011_cat2 between underlay orchestrator and onboarding\n",
            "Node already exists: applications in ['usecase_011_cat2']\n",
            "ignoring ...\n",
            "Node already exists: onboarding in ['usecase_011_cat2']\n",
            "ignoring ...\n",
            "requirement already exists with usecase_011_cat2 between applications and onboarding\n",
            "Node already exists: underlay orchestrator in ['usecase_007_cat1', 'usecase_011_cat2']\n",
            "ignoring ...\n",
            "Node already exists: monitoring in ['usecase_011_cat2']\n",
            "ignoring ...\n",
            "has already exists with usecase_011_cat2 between underlay orchestrator and monitoring\n",
            "Node already exists: applications in ['usecase_011_cat2']\n",
            "ignoring ...\n",
            "Node already exists: monitoring in ['usecase_011_cat2']\n",
            "ignoring ...\n",
            "requirement already exists with usecase_011_cat2 between applications and monitoring\n",
            "Node already exists: underlay orchestrator in ['usecase_007_cat1', 'usecase_011_cat2']\n",
            "ignoring ...\n",
            "Node already exists: report in ['usecase_011_cat2']\n",
            "ignoring ...\n",
            "has already exists with usecase_011_cat2 between underlay orchestrator and report\n",
            "Node already exists: human operator in ['usecase_011_cat2']\n",
            "ignoring ...\n",
            "Node already exists: report in ['usecase_011_cat2']\n",
            "ignoring ...\n",
            "requirement already exists with usecase_011_cat2 between human operator and report\n"
          ]
        }
      ],
      "source": [
        "app.create_actors_relationship_with_usecase(\"inter-domain-connectivity\", \"has\", \"alternatives\", \"usecase_011_cat2\")\n",
        "app.create_actors_relationship_with_usecase(\"verticals\", \"provide\", \"service\", \"usecase_011_cat2\")\n",
        "app.create_actors_relationship_with_usecase(\"Rural sites\", \"requirement\", \"service\", \"usecase_011_cat2\")\n",
        "app.create_actors_relationship_with_usecase(\"verticals\", \"requirement\", \"inter-domain-connectivity\", \"usecase_011_cat2\")\n",
        "app.create_actors_relationship_with_usecase(\"Rural sites\", \"requirement\", \"inter-domain-connectivity\", \"usecase_011_cat2\")\n",
        "app.create_actors_relationship_with_usecase(\"inter-domain-connectivity\", \"is\", \"shared\", \"usecase_011_cat2\")\n",
        "app.create_actors_relationship_with_usecase(\"inter-domain-connectivity\", \"requirement\", \"edge compute\", \"usecase_011_cat2\")\n",
        "app.create_actors_relationship_with_usecase(\"inter-domain-connectivity\", \"requirement\", \"CL automation framework\", \"usecase_011_cat2\")\n",
        "app.create_actors_relationship_with_usecase(\"edge compute\", \"requirement\", \"CL automation framework\", \"usecase_011_cat2\")\n",
        "app.create_actors_relationship_with_usecase(\"edge compute\", \"has\", \"micro service\", \"usecase_011_cat2\")\n",
        "app.create_actors_relationship_with_usecase(\"alternatives\", \"has\", \"heterogeneous\", \"usecase_011_cat2\")\n",
        "app.create_actors_relationship_with_usecase(\"underlay orchestrator\", \"has\", \"controllers\", \"usecase_011_cat2\")\n",
        "app.create_actors_relationship_with_usecase(\"inter-domain-connectivity\", \"requirement\", \"management\", \"usecase_011_cat2\")\n",
        "app.create_actors_relationship_with_usecase(\"underlay orchestrator\", \"has\", \"onboarding\", \"usecase_011_cat2\")\n",
        "app.create_actors_relationship_with_usecase(\"applications\", \"requirement\", \"onboarding\", \"usecase_011_cat2\")\n",
        "app.create_actors_relationship_with_usecase(\"underlay orchestrator\", \"has\", \"monitoring\", \"usecase_011_cat2\")\n",
        "app.create_actors_relationship_with_usecase(\"applications\", \"requirement\", \"monitoring\", \"usecase_011_cat2\")\n",
        "app.create_actors_relationship_with_usecase(\"underlay orchestrator\", \"has\", \"report\", \"usecase_011_cat2\")\n",
        "app.create_actors_relationship_with_usecase(\"human operator\", \"requirement\", \"report\", \"usecase_011_cat2\")"
      ]
    },
    {
      "cell_type": "code",
      "execution_count": 24,
      "metadata": {},
      "outputs": [
        {
          "name": "stdout",
          "output_type": "stream",
          "text": [
            "Found actor-1: inter-domain-connectivity\n",
            "Found actor-2: alternatives\n",
            "Found actor-3: controllers\n",
            "Found actor-4: CL automation framework\n",
            "Found actor-5: underlay orchestrator\n",
            "Found actor-6: service\n",
            "Found actor-7: Rural sites\n",
            "Found actor-8: verticals\n",
            "Found actor-9: shared\n",
            "Found actor-10: edge compute\n",
            "Found actor-11: micro service\n",
            "Found actor-12: heterogeneous\n",
            "Found actor-13: management\n",
            "Found actor-14: onboarding\n",
            "Found actor-15: applications\n",
            "Found actor-16: monitoring\n",
            "Found actor-17: report\n",
            "Found actor-18: human operator\n"
          ]
        }
      ],
      "source": [
        "app.find_all_usecase_actors_label(\"usecase_011_cat2\")"
      ]
    },
    {
      "cell_type": "markdown",
      "metadata": {},
      "source": [
        "### FG-AN-USECASE-012 cat1"
      ]
    },
    {
      "cell_type": "code",
      "execution_count": 10,
      "metadata": {},
      "outputs": [
        {
          "name": "stdout",
          "output_type": "stream",
          "text": [
            "Node already exists: Adaptation controller in ['usecase_004', 'usecase_005', 'usecase_007_cat1', 'usecase_009_cat1', 'usecase_010_cat1', 'usecase_011_cat1']\n",
            "adding label usecase_012_cat1 in addition to ['usecase_004', 'usecase_005', 'usecase_007_cat1', 'usecase_009_cat1', 'usecase_010_cat1', 'usecase_011_cat1']\n",
            "Node already exists: underlay capabilities in ['usecase_010_cat1']\n",
            "adding label usecase_012_cat1 in addition to ['usecase_010_cat1']\n",
            "Created relation: Adaptation controller - monitors - underlay capabilities in usecase_012_cat1\n",
            "Node already exists: Adaptation controller in ['usecase_004', 'usecase_005', 'usecase_007_cat1', 'usecase_009_cat1', 'usecase_010_cat1', 'usecase_011_cat1', 'usecase_012_cat1']\n",
            "ignoring ...\n",
            "Node already exists: underlay capabilities in ['usecase_010_cat1', 'usecase_012_cat1']\n",
            "ignoring ...\n",
            "Created relation: Adaptation controller - discovers - underlay capabilities in usecase_012_cat1\n",
            "Node already exists: underlay capabilities in ['usecase_010_cat1', 'usecase_012_cat1']\n",
            "ignoring ...\n",
            "Created node: underlay configuration\n",
            "Created relation: underlay capabilities - is - underlay configuration in usecase_012_cat1\n",
            "Node already exists: underlay capabilities in ['usecase_010_cat1', 'usecase_012_cat1']\n",
            "ignoring ...\n",
            "Node already exists: monitoring in ['usecase_011_cat2']\n",
            "adding label usecase_012_cat1 in addition to ['usecase_011_cat2']\n",
            "Created relation: underlay capabilities - is - monitoring in usecase_012_cat1\n",
            "Node already exists: Evolution controller in ['usecase_006_cat1', 'usecase_008_cat1', 'usecase_009_cat1', 'usecase_010_cat1', 'usecase_011_cat1']\n",
            "adding label usecase_012_cat1 in addition to ['usecase_006_cat1', 'usecase_008_cat1', 'usecase_009_cat1', 'usecase_010_cat1', 'usecase_011_cat1']\n",
            "Created node: recommendation\n",
            "Created relation: Evolution controller - capability - recommendation in usecase_012_cat1\n",
            "Node already exists: recommendation in ['usecase_012_cat1']\n",
            "ignoring ...\n",
            "Node already exists: underlay capabilities in ['usecase_010_cat1', 'usecase_012_cat1']\n",
            "ignoring ...\n",
            "Created relation: recommendation - is - underlay capabilities in usecase_012_cat1\n"
          ]
        }
      ],
      "source": [
        "app.create_actors_relationship_with_usecase(\"Adaptation controller\", \"monitors\", \"underlay capabilities\", \"usecase_012_cat1\")\n",
        "app.create_actors_relationship_with_usecase(\"Adaptation controller\", \"discovers\", \"underlay capabilities\", \"usecase_012_cat1\")\n",
        "app.create_actors_relationship_with_usecase(\"underlay capabilities\", \"is\", \"underlay configuration\", \"usecase_012_cat1\")\n",
        "app.create_actors_relationship_with_usecase(\"underlay capabilities\", \"is\", \"monitoring\", \"usecase_012_cat1\")\n",
        "app.create_actors_relationship_with_usecase(\"Evolution controller\", \"capability\", \"recommendation\", \"usecase_012_cat1\")\n",
        "app.create_actors_relationship_with_usecase(\"recommendation\", \"is\", \"underlay capabilities\", \"usecase_012_cat1\")"
      ]
    },
    {
      "cell_type": "code",
      "execution_count": 11,
      "metadata": {},
      "outputs": [
        {
          "name": "stdout",
          "output_type": "stream",
          "text": [
            "Found actor-1: Adaptation controller\n",
            "Found actor-2: Evolution controller\n",
            "Found actor-3: underlay capabilities\n",
            "Found actor-4: underlay configuration\n",
            "Found actor-5: monitoring\n",
            "Found actor-6: recommendation\n"
          ]
        }
      ],
      "source": [
        "app.find_all_usecase_actors_label(\"usecase_012_cat1\")"
      ]
    },
    {
      "cell_type": "markdown",
      "metadata": {},
      "source": [
        "### FG-AN-USECASE-012 cat2"
      ]
    },
    {
      "cell_type": "code",
      "execution_count": 14,
      "metadata": {},
      "outputs": [
        {
          "name": "stdout",
          "output_type": "stream",
          "text": [
            "Node already exists: Data analysis function in ['usecase_012_cat2']\n",
            "ignoring ...\n",
            "Node already exists: data collector in ['usecase_012_cat2']\n",
            "ignoring ...\n",
            "capability already exists with usecase_012_cat2 between Data analysis function and data collector\n",
            "Node already exists: Network function in ['usecase_012_cat2']\n",
            "ignoring ...\n",
            "Node already exists: event report in ['usecase_012_cat2']\n",
            "ignoring ...\n",
            "capability already exists with usecase_012_cat2 between Network function and event report\n",
            "Node already exists: event report in ['usecase_012_cat2']\n",
            "ignoring ...\n",
            "Node already exists: UE IP address change in ['usecase_012_cat2']\n",
            "ignoring ...\n",
            "is already exists with usecase_012_cat2 between event report and UE IP address change\n",
            "Node already exists: event report in ['usecase_012_cat2']\n",
            "ignoring ...\n",
            "Node already exists: UP path change in ['usecase_012_cat2']\n",
            "ignoring ...\n",
            "is already exists with usecase_012_cat2 between event report and UP path change\n",
            "Node already exists: event report in ['usecase_012_cat2']\n",
            "ignoring ...\n",
            "Node already exists: PDU Session Establishment in ['usecase_012_cat2']\n",
            "ignoring ...\n",
            "is already exists with usecase_012_cat2 between event report and PDU Session Establishment\n",
            "Node already exists: event report in ['usecase_012_cat2']\n",
            "ignoring ...\n",
            "Node already exists: PDU Session Release in ['usecase_012_cat2']\n",
            "ignoring ...\n",
            "is already exists with usecase_012_cat2 between event report and PDU Session Release\n",
            "Node already exists: Data analysis function in ['usecase_012_cat2']\n",
            "ignoring ...\n",
            "Node already exists: Data analytics in ['usecase_006_cat2', 'usecase_012_cat2']\n",
            "ignoring ...\n",
            "capability already exists with usecase_012_cat2 between Data analysis function and Data analytics\n",
            "Node already exists: Data analytics in ['usecase_006_cat2', 'usecase_012_cat2']\n",
            "ignoring ...\n",
            "Node already exists: Load information of UPF in ['usecase_012_cat2']\n",
            "ignoring ...\n",
            "is already exists with usecase_012_cat2 between Data analytics and Load information of UPF\n",
            "Node already exists: event report in ['usecase_012_cat2']\n",
            "ignoring ...\n",
            "Node already exists: data in ['usecase_006_cat2', 'usecase_008_cat1']\n",
            "adding label usecase_012_cat2 in addition to ['usecase_006_cat2', 'usecase_008_cat1']\n",
            "Created relation: event report - is - data in usecase_012_cat2\n"
          ]
        }
      ],
      "source": [
        "app.create_actors_relationship_with_usecase(\"Data analysis function\", \"capability\", \"data collector\", \"usecase_012_cat2\")\n",
        "app.create_actors_relationship_with_usecase(\"Network function\", \"capability\", \"event report\", \"usecase_012_cat2\")\n",
        "app.create_actors_relationship_with_usecase(\"event report\", \"is\", \"UE IP address change\", \"usecase_012_cat2\")\n",
        "app.create_actors_relationship_with_usecase(\"event report\", \"is\", \"UP path change\", \"usecase_012_cat2\")\n",
        "app.create_actors_relationship_with_usecase(\"event report\", \"is\", \"PDU Session Establishment\", \"usecase_012_cat2\")\n",
        "app.create_actors_relationship_with_usecase(\"event report\", \"is\", \"PDU Session Release\", \"usecase_012_cat2\")\n",
        "app.create_actors_relationship_with_usecase(\"Data analysis function\", \"capability\", \"Data analytics\", \"usecase_012_cat2\")\n",
        "app.create_actors_relationship_with_usecase(\"Data analytics\", \"is\", \"Load information of UPF\", \"usecase_012_cat2\")\n",
        "app.create_actors_relationship_with_usecase(\"event report\", \"is\", \"data\", \"usecase_012_cat2\")"
      ]
    },
    {
      "cell_type": "code",
      "execution_count": 15,
      "metadata": {},
      "outputs": [
        {
          "name": "stdout",
          "output_type": "stream",
          "text": [
            "Found actor-1: data\n",
            "Found actor-2: Data analytics\n",
            "Found actor-3: Data analysis function\n",
            "Found actor-4: data collector\n",
            "Found actor-5: Network function\n",
            "Found actor-6: event report\n",
            "Found actor-7: UE IP address change\n",
            "Found actor-8: UP path change\n",
            "Found actor-9: PDU Session Establishment\n",
            "Found actor-10: PDU Session Release\n",
            "Found actor-11: Load information of UPF\n"
          ]
        }
      ],
      "source": [
        "app.find_all_usecase_actors_label(\"usecase_012_cat2\")"
      ]
    },
    {
      "cell_type": "markdown",
      "metadata": {},
      "source": [
        "### FG-AN-USECASE-013 cat1"
      ]
    },
    {
      "cell_type": "code",
      "execution_count": 16,
      "metadata": {},
      "outputs": [
        {
          "name": "stdout",
          "output_type": "stream",
          "text": [
            "Node already exists: Network function in ['usecase_012_cat2']\n",
            "adding label usecase_013_cat1 in addition to ['usecase_012_cat2']\n",
            "Node already exists: underlay capabilities in ['usecase_010_cat1', 'usecase_012_cat1']\n",
            "adding label usecase_013_cat1 in addition to ['usecase_010_cat1', 'usecase_012_cat1']\n",
            "Created relation: Network function - has - underlay capabilities in usecase_013_cat1\n",
            "Node already exists: Adaptation controller in ['usecase_004', 'usecase_005', 'usecase_007_cat1', 'usecase_009_cat1', 'usecase_010_cat1', 'usecase_011_cat1', 'usecase_012_cat1']\n",
            "adding label usecase_013_cat1 in addition to ['usecase_004', 'usecase_005', 'usecase_007_cat1', 'usecase_009_cat1', 'usecase_010_cat1', 'usecase_011_cat1', 'usecase_012_cat1']\n",
            "Node already exists: underlay capabilities in ['usecase_010_cat1', 'usecase_012_cat1', 'usecase_013_cat1']\n",
            "ignoring ...\n",
            "Created relation: Adaptation controller - monitors - underlay capabilities in usecase_013_cat1\n",
            "Node already exists: Adaptation controller in ['usecase_004', 'usecase_005', 'usecase_007_cat1', 'usecase_009_cat1', 'usecase_010_cat1', 'usecase_011_cat1', 'usecase_012_cat1', 'usecase_013_cat1']\n",
            "ignoring ...\n",
            "Node already exists: underlay capabilities in ['usecase_010_cat1', 'usecase_012_cat1', 'usecase_013_cat1']\n",
            "ignoring ...\n",
            "Created relation: Adaptation controller - discovers - underlay capabilities in usecase_013_cat1\n",
            "Node already exists: Adaptation controller in ['usecase_004', 'usecase_005', 'usecase_007_cat1', 'usecase_009_cat1', 'usecase_010_cat1', 'usecase_011_cat1', 'usecase_012_cat1', 'usecase_013_cat1']\n",
            "ignoring ...\n",
            "Created node: underlay requirements\n",
            "Created relation: Adaptation controller - discovers - underlay requirements in usecase_013_cat1\n",
            "Node already exists: Evolution controller in ['usecase_006_cat1', 'usecase_008_cat1', 'usecase_009_cat1', 'usecase_010_cat1', 'usecase_011_cat1', 'usecase_012_cat1']\n",
            "adding label usecase_013_cat1 in addition to ['usecase_006_cat1', 'usecase_008_cat1', 'usecase_009_cat1', 'usecase_010_cat1', 'usecase_011_cat1', 'usecase_012_cat1']\n",
            "Node already exists: recommendation in ['usecase_012_cat1']\n",
            "adding label usecase_013_cat1 in addition to ['usecase_012_cat1']\n",
            "Created relation: Evolution controller - capability - recommendation in usecase_013_cat1\n",
            "Node already exists: recommendation in ['usecase_012_cat1', 'usecase_013_cat1']\n",
            "ignoring ...\n",
            "Node already exists: underlay capabilities in ['usecase_010_cat1', 'usecase_012_cat1', 'usecase_013_cat1']\n",
            "ignoring ...\n",
            "Created relation: recommendation - is - underlay capabilities in usecase_013_cat1\n",
            "Node already exists: recommendation in ['usecase_012_cat1', 'usecase_013_cat1']\n",
            "ignoring ...\n",
            "Node already exists: underlay requirements in ['usecase_013_cat1']\n",
            "ignoring ...\n",
            "Created relation: recommendation - is - underlay requirements in usecase_013_cat1\n"
          ]
        }
      ],
      "source": [
        "\n",
        "app.create_actors_relationship_with_usecase(\"Network function\", \"has\", \"underlay capabilities\", \"usecase_013_cat1\")\n",
        "app.create_actors_relationship_with_usecase(\"Adaptation controller\", \"monitors\", \"underlay capabilities\", \"usecase_013_cat1\")\n",
        "app.create_actors_relationship_with_usecase(\"Adaptation controller\", \"discovers\", \"underlay capabilities\", \"usecase_013_cat1\")\n",
        "app.create_actors_relationship_with_usecase(\"Adaptation controller\", \"discovers\", \"underlay requirements\", \"usecase_013_cat1\")\n",
        "app.create_actors_relationship_with_usecase(\"Evolution controller\", \"capability\", \"recommendation\", \"usecase_013_cat1\")\n",
        "app.create_actors_relationship_with_usecase(\"recommendation\", \"is\", \"underlay capabilities\", \"usecase_013_cat1\")\n",
        "app.create_actors_relationship_with_usecase(\"recommendation\", \"is\", \"underlay requirements\", \"usecase_013_cat1\")"
      ]
    },
    {
      "cell_type": "code",
      "execution_count": 17,
      "metadata": {},
      "outputs": [
        {
          "name": "stdout",
          "output_type": "stream",
          "text": [
            "Found actor-1: Adaptation controller\n",
            "Found actor-2: Evolution controller\n",
            "Found actor-3: underlay capabilities\n",
            "Found actor-4: recommendation\n",
            "Found actor-5: Network function\n",
            "Found actor-6: underlay requirements\n"
          ]
        }
      ],
      "source": [
        "app.find_all_usecase_actors_label(\"usecase_013_cat1\")"
      ]
    },
    {
      "cell_type": "markdown",
      "metadata": {},
      "source": [
        "### FG-AN-USECASE-013 cat2"
      ]
    },
    {
      "cell_type": "code",
      "execution_count": 18,
      "metadata": {},
      "outputs": [
        {
          "name": "stdout",
          "output_type": "stream",
          "text": [
            "Node already exists: controllers in ['usecase_001', 'usecase_004', 'usecase_006_cat1', 'usecase_007_cat1', 'usecase_007_cat2', 'usecase_008_cat1', 'usecase_009_cat1', 'usecase_009_cat2', 'usecase_010_cat1', 'usecase_010_cat2', 'usecase_011_cat1', 'usecase_011_cat2']\n",
            "adding label usecase_013_cat2 in addition to ['usecase_001', 'usecase_004', 'usecase_006_cat1', 'usecase_007_cat1', 'usecase_007_cat2', 'usecase_008_cat1', 'usecase_009_cat1', 'usecase_009_cat2', 'usecase_010_cat1', 'usecase_010_cat2', 'usecase_011_cat1', 'usecase_011_cat2']\n",
            "Created node: provisioning\n",
            "Created relation: controllers - requirement - provisioning in usecase_013_cat2\n",
            "Node already exists: provisioning in ['usecase_013_cat2']\n",
            "ignoring ...\n",
            "Created node: multi-domain\n",
            "Created relation: provisioning - is - multi-domain in usecase_013_cat2\n",
            "Node already exists: provisioning in ['usecase_013_cat2']\n",
            "ignoring ...\n",
            "Node already exists: underlay capabilities in ['usecase_010_cat1', 'usecase_012_cat1', 'usecase_013_cat1']\n",
            "adding label usecase_013_cat2 in addition to ['usecase_010_cat1', 'usecase_012_cat1', 'usecase_013_cat1']\n",
            "Created relation: provisioning - requirement - underlay capabilities in usecase_013_cat2\n",
            "Created node: network instance\n",
            "Created node: plug and play\n",
            "Created relation: network instance - requirement - plug and play in usecase_013_cat2\n",
            "Node already exists: network instance in ['usecase_013_cat2']\n",
            "ignoring ...\n",
            "Node already exists: Network function in ['usecase_012_cat2', 'usecase_013_cat1']\n",
            "adding label usecase_013_cat2 in addition to ['usecase_012_cat2', 'usecase_013_cat1']\n",
            "Created relation: network instance - is - Network function in usecase_013_cat2\n",
            "Node already exists: network instance in ['usecase_013_cat2']\n",
            "ignoring ...\n",
            "Created node: network slice\n",
            "Created relation: network instance - is - network slice in usecase_013_cat2\n",
            "Node already exists: network instance in ['usecase_013_cat2']\n",
            "ignoring ...\n",
            "Created node: network service\n",
            "Created relation: network instance - is - network service in usecase_013_cat2\n",
            "Node already exists: network instance in ['usecase_013_cat2']\n",
            "ignoring ...\n",
            "Created node: data collection\n",
            "Created relation: network instance - capability - data collection in usecase_013_cat2\n",
            "Node already exists: controllers in ['usecase_001', 'usecase_004', 'usecase_006_cat1', 'usecase_007_cat1', 'usecase_007_cat2', 'usecase_008_cat1', 'usecase_009_cat1', 'usecase_009_cat2', 'usecase_010_cat1', 'usecase_010_cat2', 'usecase_011_cat1', 'usecase_011_cat2', 'usecase_013_cat2']\n",
            "ignoring ...\n",
            "Created node: bootstrap\n",
            "Created relation: controllers - requirement - bootstrap in usecase_013_cat2\n",
            "Created node: network infrastructure\n",
            "Node already exists: bootstrap in ['usecase_013_cat2']\n",
            "ignoring ...\n",
            "Created relation: network infrastructure - requirement - bootstrap in usecase_013_cat2\n",
            "Node already exists: network service in ['usecase_013_cat2']\n",
            "ignoring ...\n",
            "Node already exists: bootstrap in ['usecase_013_cat2']\n",
            "ignoring ...\n",
            "Created relation: network service - requirement - bootstrap in usecase_013_cat2\n",
            "Node already exists: applications in ['usecase_011_cat2']\n",
            "adding label usecase_013_cat2 in addition to ['usecase_011_cat2']\n",
            "Node already exists: bootstrap in ['usecase_013_cat2']\n",
            "ignoring ...\n",
            "Created relation: applications - requirement - bootstrap in usecase_013_cat2\n"
          ]
        }
      ],
      "source": [
        "app.create_actors_relationship_with_usecase(\"controllers\", \"requirement\", \"provisioning\", \"usecase_013_cat2\")\n",
        "app.create_actors_relationship_with_usecase(\"provisioning\", \"is\", \"multi-domain\", \"usecase_013_cat2\")\n",
        "app.create_actors_relationship_with_usecase(\"provisioning\", \"requirement\", \"underlay capabilities\", \"usecase_013_cat2\")\n",
        "app.create_actors_relationship_with_usecase(\"network instance\", \"requirement\", \"plug and play\", \"usecase_013_cat2\")\n",
        "app.create_actors_relationship_with_usecase(\"network instance\", \"is\", \"Network function\", \"usecase_013_cat2\")\n",
        "app.create_actors_relationship_with_usecase(\"network instance\", \"is\", \"network slice\", \"usecase_013_cat2\")\n",
        "app.create_actors_relationship_with_usecase(\"network instance\", \"is\", \"network service\", \"usecase_013_cat2\")\n",
        "app.create_actors_relationship_with_usecase(\"network instance\", \"capability\", \"data collection\", \"usecase_013_cat2\")\n",
        "app.create_actors_relationship_with_usecase(\"controllers\", \"requirement\", \"bootstrap\", \"usecase_013_cat2\")\n",
        "app.create_actors_relationship_with_usecase(\"network infrastructure\", \"requirement\", \"bootstrap\", \"usecase_013_cat2\")\n",
        "app.create_actors_relationship_with_usecase(\"network service\", \"requirement\", \"bootstrap\", \"usecase_013_cat2\")\n",
        "app.create_actors_relationship_with_usecase(\"applications\", \"requirement\", \"bootstrap\", \"usecase_013_cat2\")"
      ]
    },
    {
      "cell_type": "code",
      "execution_count": 19,
      "metadata": {},
      "outputs": [
        {
          "name": "stdout",
          "output_type": "stream",
          "text": [
            "Found actor-1: controllers\n",
            "Found actor-2: underlay capabilities\n",
            "Found actor-3: applications\n",
            "Found actor-4: Network function\n",
            "Found actor-5: provisioning\n",
            "Found actor-6: multi-domain\n",
            "Found actor-7: network instance\n",
            "Found actor-8: plug and play\n",
            "Found actor-9: network slice\n",
            "Found actor-10: network service\n",
            "Found actor-11: data collection\n",
            "Found actor-12: bootstrap\n",
            "Found actor-13: network infrastructure\n"
          ]
        }
      ],
      "source": [
        "app.find_all_usecase_actors_label(\"usecase_013_cat2\")"
      ]
    },
    {
      "cell_type": "markdown",
      "metadata": {},
      "source": [
        "### FG-AN-USECASE-014"
      ]
    },
    {
      "cell_type": "code",
      "execution_count": 21,
      "metadata": {},
      "outputs": [
        {
          "name": "stdout",
          "output_type": "stream",
          "text": [
            "Node already exists: underlay in ['usecase_005', 'usecase_010_cat1', 'usecase_011_cat1']\n",
            "adding label usecase_014 in addition to ['usecase_005', 'usecase_010_cat1', 'usecase_011_cat1']\n",
            "Created node: hybrid\n",
            "Created relation: underlay - are - hybrid in usecase_014\n",
            "Node already exists: hybrid in ['usecase_014']\n",
            "ignoring ...\n",
            "Node already exists: simulators in ['usecase_002']\n",
            "adding label usecase_014 in addition to ['usecase_002']\n",
            "Created relation: hybrid - capability - simulators in usecase_014\n",
            "Node already exists: hybrid in ['usecase_014']\n",
            "ignoring ...\n",
            "Created node: test network\n",
            "Created relation: hybrid - capability - test network in usecase_014\n",
            "Node already exists: hybrid in ['usecase_014']\n",
            "ignoring ...\n",
            "Created node: real network\n",
            "Created relation: hybrid - capability - real network in usecase_014\n",
            "Node already exists: multi-domain in ['usecase_013_cat2']\n",
            "adding label usecase_014 in addition to ['usecase_013_cat2']\n",
            "Node already exists: hybrid in ['usecase_014']\n",
            "ignoring ...\n",
            "Created relation: multi-domain - capability - hybrid in usecase_014\n"
          ]
        }
      ],
      "source": [
        "app.create_actors_relationship_with_usecase(\"underlay\", \"are\", \"hybrid\", \"usecase_014\")\n",
        "app.create_actors_relationship_with_usecase(\"hybrid\", \"capability\", \"simulators\", \"usecase_014\")\n",
        "app.create_actors_relationship_with_usecase(\"hybrid\", \"capability\", \"test network\", \"usecase_014\")\n",
        "app.create_actors_relationship_with_usecase(\"hybrid\", \"capability\", \"real network\", \"usecase_014\")\n",
        "app.create_actors_relationship_with_usecase(\"multi-domain\", \"capability\", \"hybrid\", \"usecase_014\")"
      ]
    },
    {
      "cell_type": "code",
      "execution_count": 22,
      "metadata": {},
      "outputs": [
        {
          "name": "stdout",
          "output_type": "stream",
          "text": [
            "Found actor-1: simulators\n",
            "Found actor-2: underlay\n",
            "Found actor-3: multi-domain\n",
            "Found actor-4: hybrid\n",
            "Found actor-5: test network\n",
            "Found actor-6: real network\n"
          ]
        }
      ],
      "source": [
        "app.find_all_usecase_actors_label(\"usecase_014\")"
      ]
    },
    {
      "cell_type": "markdown",
      "metadata": {},
      "source": [
        "### FG-AN-USECASE-015"
      ]
    },
    {
      "cell_type": "code",
      "execution_count": null,
      "metadata": {},
      "outputs": [],
      "source": [
        "app.create_actors_relationship_with_usecase(\"data\", \"is\", \"logs\", \"usecase_015\")\n",
        "app.create_actors_relationship_with_usecase(\"Network instance\", \"capability\", \"logs\", \"usecase_015\")\n",
        "app.create_actors_relationship_with_usecase(\"model repository\", \"capability\", \"ML model\", \"usecase_015\")\n",
        "app.create_actors_relationship_with_usecase(\"model repository\", \"is\", \"3rd party\", \"usecase_015\")\n"
      ]
    },
    {
      "cell_type": "code",
      "execution_count": null,
      "metadata": {},
      "outputs": [],
      "source": [
        "app.find_all_usecase_actors_label(\"usecase_015\")"
      ]
    },
    {
      "cell_type": "markdown",
      "metadata": {
        "id": "eBr7q13XvyeB"
      },
      "source": [
        "## Final Step: close the database connection"
      ]
    },
    {
      "cell_type": "code",
      "execution_count": null,
      "metadata": {
        "id": "J2ak5OTtvrLd"
      },
      "outputs": [],
      "source": [
        "app.close()"
      ]
    }
  ],
  "metadata": {
    "colab": {
      "authorship_tag": "ABX9TyMfoUUUlANqe1pLt2gRa7nw",
      "collapsed_sections": [],
      "include_colab_link": true,
      "name": "build-a-thon-graph-v1.ipynb",
      "provenance": [],
      "toc_visible": true
    },
    "kernelspec": {
      "display_name": "Python 3.8.13 ('myenv38b')",
      "language": "python",
      "name": "python3"
    },
    "language_info": {
      "codemirror_mode": {
        "name": "ipython",
        "version": 3
      },
      "file_extension": ".py",
      "mimetype": "text/x-python",
      "name": "python",
      "nbconvert_exporter": "python",
      "pygments_lexer": "ipython3",
      "version": "3.8.13"
    },
    "vscode": {
      "interpreter": {
        "hash": "b0ccdf644f691f804a1730b15f45eec8ab8f72a9dbd0363d61152d7c15fc1bc6"
      }
    }
  },
  "nbformat": 4,
  "nbformat_minor": 0
}
