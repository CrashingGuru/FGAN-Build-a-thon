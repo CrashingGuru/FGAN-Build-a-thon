{
  "cells": [
    {
      "cell_type": "markdown",
      "metadata": {},
      "source": [
        "[![Open In Colab](https://colab.research.google.com/assets/colab-badge.svg)](https://colab.research.google.com/github/vrra/FGAN-Build-a-thon-2022/blob/main/Notebooks2022/build_a_thon_graph_v1.ipynb)"
      ]
    },
    {
      "cell_type": "markdown",
      "metadata": {},
      "source": [
        "## Build-a-thon 2022, Hoist the colors?"
      ]
    },
    {
      "cell_type": "code",
      "execution_count": null,
      "metadata": {
        "id": "S2lCDXuLveAV"
      },
      "outputs": [],
      "source": [
        "!rm -rf /tmp/FGAN-Build-a-thon-2022/\n",
        "!git clone https://github.com/vrra/FGAN-Build-a-thon-2022.git /tmp/FGAN-Build-a-thon-2022\n"
      ]
    },
    {
      "cell_type": "code",
      "execution_count": null,
      "metadata": {
        "colab": {
          "base_uri": "https://localhost:8080/",
          "height": 298
        },
        "id": "KD4Roac3nWHm",
        "outputId": "e2e442f1-e194-4afa-a5a1-348b5ce04a55"
      },
      "outputs": [],
      "source": [
        "from IPython.display import Image\n",
        "Image(filename='/tmp/FGAN-Build-a-thon-2022/Banner/1920x1080-FG_AN-buildathon_Sep02-01.png', width=500) \n"
      ]
    },
    {
      "cell_type": "code",
      "execution_count": null,
      "metadata": {},
      "outputs": [],
      "source": [
        "!rm -rf /tmp/FGAN-Build-a-thon-2022/"
      ]
    },
    {
      "cell_type": "markdown",
      "metadata": {
        "id": "RhHOWZlCnPDk"
      },
      "source": [
        "## Introduction"
      ]
    },
    {
      "cell_type": "markdown",
      "metadata": {
        "id": "xvVYTJnpc8NW"
      },
      "source": [
        "Created: 14 Apr 2022.   \n",
        "Author: Vishnu Ram OV.   \n",
        "vishnu.n@ieee.org.   \n",
        "Licence: available for all purposes under the sun  \n",
        "but with acknowledgement and citation to \"ITU FG AN Build-a-thon 2022\"\n"
      ]
    },
    {
      "cell_type": "markdown",
      "metadata": {
        "id": "TOxLkcQAfFsO"
      },
      "source": [
        "## References \n",
        "[1] Neo4j Docs, \"Creating an instance\", https://neo4j.com/docs/aura/auradb/getting-started/create-database/   \n",
        "[2] ITU-T Focus Group Autonomous Networks, \"Use cases for Autonomous Networks\", https://extranet.itu.int/sites/itu-t/focusgroups/an/output/FGAN-O-013-R1.docx  \n",
        "[3] Build-a-thon github, https://github.com/vrra/FGAN-Build-a-thon-2022"
      ]
    },
    {
      "cell_type": "markdown",
      "metadata": {},
      "source": [
        "## Prerequisite: \n",
        "create a free account at https://console.neo4j.io  \n",
        "Follow steps at https://extranet.itu.int/sites/itu-t/focusgroups/an/input/FGAN-I-253.pdf  \n",
        "\n",
        "\n",
        "## General cautions\n",
        "Property names have strict conventions and rules in neo4j (apparently)"
      ]
    },
    {
      "cell_type": "markdown",
      "metadata": {},
      "source": [
        "### For Colab users:\n",
        "\n",
        "If you are using colab, add your credentials here and uncomment these  \n",
        "and skip to step-1 below."
      ]
    },
    {
      "cell_type": "code",
      "execution_count": null,
      "metadata": {},
      "outputs": [],
      "source": [
        "#uri = \"your uri from console.neo4j.io\"  \n",
        "#user = \"your username from console.neo4j.io\"  \n",
        "#password = \"your passwd from console.neo4j.io\"  "
      ]
    },
    {
      "cell_type": "markdown",
      "metadata": {},
      "source": [
        "### For non-colab users:\n",
        "Create a local file .env with   \n",
        "neo4j_uri=\"your uri from console.neo4j.io\"  \n",
        "neo4j_user=\"your username from console.neo4j.io\"  \n",
        "neo4j_password=\"your passwd from console.neo4j.io\"  "
      ]
    },
    {
      "cell_type": "markdown",
      "metadata": {},
      "source": [
        "#### Read the neo4j URI, username, passwd\n"
      ]
    },
    {
      "cell_type": "code",
      "execution_count": 6,
      "metadata": {},
      "outputs": [
        {
          "name": "stdout",
          "output_type": "stream",
          "text": [
            "Requirement already satisfied: python-dotenv in /opt/homebrew/Caskroom/miniforge/base/envs/myenv38b/lib/python3.8/site-packages (0.20.0)\n",
            "Note: you may need to restart the kernel to use updated packages.\n"
          ]
        },
        {
          "data": {
            "text/plain": [
              "True"
            ]
          },
          "execution_count": 6,
          "metadata": {},
          "output_type": "execute_result"
        }
      ],
      "source": [
        "import os\n",
        "%pip install python-dotenv\n",
        "from dotenv import load_dotenv\n",
        "load_dotenv()"
      ]
    },
    {
      "cell_type": "code",
      "execution_count": 7,
      "metadata": {},
      "outputs": [],
      "source": [
        "\n",
        "#Vishnu: 1 Jun 2022: use the details from https://console.neo4j.io\n",
        "#especially use your own DB instance and corresponding passwd.\n",
        "#if you dont have a .env file, replace here with your credentials.\n",
        "\n",
        "uri = os.getenv('neo4j_uri')\n",
        "user = os.getenv('neo4j_user')\n",
        "password = os.getenv('neo4j_password')"
      ]
    },
    {
      "cell_type": "markdown",
      "metadata": {
        "id": "Seq4Lm-HdDJY"
      },
      "source": [
        "## step-1: install neo4j"
      ]
    },
    {
      "cell_type": "code",
      "execution_count": null,
      "metadata": {
        "colab": {
          "base_uri": "https://localhost:8080/"
        },
        "id": "hKFE_mBLcWJL",
        "outputId": "a83f3001-1e21-42ff-e147-6bd048b33363"
      },
      "outputs": [],
      "source": [
        "%pip install neo4j"
      ]
    },
    {
      "cell_type": "markdown",
      "metadata": {
        "id": "P49wR7FPejI6"
      },
      "source": [
        "## step-2: imports and init"
      ]
    },
    {
      "cell_type": "code",
      "execution_count": 4,
      "metadata": {
        "id": "CMXk5yZcd-Jt"
      },
      "outputs": [],
      "source": [
        "from neo4j import GraphDatabase\n",
        "import logging\n",
        "from neo4j.exceptions import ServiceUnavailable"
      ]
    },
    {
      "cell_type": "markdown",
      "metadata": {
        "id": "QJsfeO0Ve03C"
      },
      "source": [
        "## step-3: define helper class"
      ]
    },
    {
      "cell_type": "code",
      "execution_count": 3,
      "metadata": {
        "id": "FccBUxEIeKf_"
      },
      "outputs": [],
      "source": [
        "\n",
        "\n",
        "class App:\n",
        "\n",
        "    def __init__(self, uri, user, password):\n",
        "        self.driver = GraphDatabase.driver(uri, auth=(user, password))\n",
        "\n",
        "    def close(self):\n",
        "        # Don't forget to close the driver connection when you are finished with it\n",
        "        self.driver.close()\n",
        "\n",
        "    #Vishnu: 1 Aug 2022: uses labels instead of properties\n",
        "    #Vishnu: 1 Aug 2022: Invariant: only 1 actor with 1 name.\n",
        "    #        (Note that rel still uses properties and not labels)\n",
        "    def create_node_with_usecase_label(self, actor_name, usecase_id):\n",
        "        with self.driver.session() as session:\n",
        "            node_already_exists = session.read_transaction(\n",
        "                self._find_and_return_existing_node_label, actor_name)\n",
        "            if not node_already_exists:  \n",
        "                #node itself doesnt exist (not to mention the use case label), Lets add.\n",
        "                result = session.write_transaction(\n",
        "                    self._create_and_return_node_label, actor_name, usecase_id)\n",
        "                for row in result:\n",
        "                    print(\"Created node: {n1}\".format(n1=row['n1name']))\n",
        "            else:\n",
        "                for row in node_already_exists:\n",
        "                    print(\"Node already exists: {name} in {usecase}\".format(name=row['n1name'], \n",
        "                                                                 usecase=row['n1usecase']))\n",
        "                    if not (usecase_id in row['n1usecase']):\n",
        "                      print(\"adding label \"\n",
        "                                +usecase_id+ \n",
        "                                \" in addition to {usecase}\".format(usecase=row['n1usecase']))\n",
        "                      result = session.write_transaction(\n",
        "                                self._add_usecase_and_return_existing_node_label, actor_name, usecase_id)\n",
        "                    else:\n",
        "                      print(\"ignoring ...\")\n",
        "                    #row has only 1 entry due to invariant. So break here. and exit f()\n",
        "                    break\n",
        "    \n",
        "    #Vishnu: 1 Aug 2022: created this f() to query nodes based on a name\n",
        "    #                    and return with usecase labels\n",
        "    @staticmethod\n",
        "    def _find_and_return_existing_node_label(tx, actor_name):\n",
        "        query = (\n",
        "            \"MATCH (n1) \"\n",
        "            \"WHERE (n1.name ='\" + actor_name + \"') \"\n",
        "            \"RETURN n1.name as n1name, labels(n1) as n1usecase\"\n",
        "        )\n",
        "        result = tx.run(query)\n",
        "        try:\n",
        "            return [{\"n1name\": row[\"n1name\"],\"n1usecase\": row[\"n1usecase\"]} \n",
        "                    for row in result]\n",
        "        # Capture any errors along with the query and data for traceability\n",
        "        except ServiceUnavailable as exception:\n",
        "            logging.error(\"{query} raised an error: \\n {exception}\".format(\n",
        "                query=query, exception=exception))\n",
        "            raise\n",
        "\n",
        "    #Vishnu: 1 Aug 2022: created this f() to create nodes with usecase label\n",
        "    @staticmethod\n",
        "    def _create_and_return_node_label(tx, actor_name, usecase_id):\n",
        "            query = (\n",
        "            \"CREATE (n1 :\" + usecase_id + \" { name: '\" + actor_name + \"'}) \"\n",
        "            \"RETURN n1\"\n",
        "            )\n",
        "            result = tx.run(query, actor_name=actor_name)\n",
        "            try:\n",
        "                return [{\"n1name\": row[\"n1\"][\"name\"]}\n",
        "                        for row in result]\n",
        "            # Capture any errors along with the query and data for traceability\n",
        "            except ServiceUnavailable as exception:\n",
        "                logging.error(\"{query} raised an error: \\n {exception}\".format(\n",
        "                    query=query, exception=exception))\n",
        "                raise\n",
        "\n",
        "    #Vishnu: 1 Aug 2022: created this f() to add use case labels to existing nodes\n",
        "    #                    Note that the existing labels are left there.\n",
        "    @staticmethod\n",
        "    def _add_usecase_and_return_existing_node_label(tx, actor_name, usecase_id):\n",
        "        query = (\n",
        "            \"MATCH \"\n",
        "            \"(n1) \"\n",
        "            \"WHERE n1.name = '\" + actor_name +\"' \"\n",
        "            \"set n1 :\" + usecase_id +\" \"\n",
        "            \"return n1\"\n",
        "        )\n",
        "        result = tx.run(query, actor_name=actor_name)\n",
        "        try:\n",
        "            return [{\"n1\": row[\"n1\"][\"name\"]}\n",
        "                    for row in result]\n",
        "        # Capture any errors along with the query and data for traceability\n",
        "        except ServiceUnavailable as exception:\n",
        "            logging.error(\"{query} raised an error: \\n {exception}\".format(\n",
        "                query=query, exception=exception))\n",
        "            raise\n",
        "\n",
        "    #Vishnu: 1 Aug 2022: created this f() to return all use case actors based on labels\n",
        "    #                    as against properties\n",
        "    @staticmethod\n",
        "    def _find_and_return_all_usecase_actors_label(tx, usecase_id):\n",
        "        query = (\n",
        "            \"MATCH (n) \"\n",
        "            \"WHERE '\" +usecase_id+ \"' in labels(n) \"\n",
        "            \"RETURN n.name AS name\"\n",
        "        )\n",
        "        result = tx.run(query)\n",
        "        return [row[\"name\"] for row in result]\n",
        "\n",
        "    #Vishnu: 1 Aug 2022: created this f() to list all nodes with usecase label\n",
        "    #                    instead of properties\n",
        "    def find_all_usecase_actors_label(self, usecase_id):\n",
        "        with self.driver.session() as session:\n",
        "            result = session.read_transaction(self._find_and_return_all_usecase_actors_label, usecase_id)\n",
        "            i=0\n",
        "            for row in result:\n",
        "                i=i+1\n",
        "                print(\"Found actor-\"+ str(i) +\": {row}\".format(row=row))\n",
        "\n",
        "    #Vishnu: 1 Aug 2022: Created to use label for use case.\n",
        "    #CAUTION: Assumes that actors already exists with label as use case.\n",
        "    #So, this has to be called only in conjunction with create_node_with_usecase\n",
        "    #otherwise you may end up with actors not having use case prop\n",
        "    #but rels will have use case prop. not a good idea.\n",
        "    def create_rel_with_usecase_label(self, actor1_name, rel_name, actor2_name, usecase_id):\n",
        "        with self.driver.session() as session:\n",
        "            this_rel_already_exists = session.read_transaction(\n",
        "                self._find_and_return_this_existing_rels, actor1_name, rel_name, actor2_name, usecase_id)\n",
        "            if (this_rel_already_exists):\n",
        "                print(rel_name + \" already exists with \"+ usecase_id + \" between \"+ actor1_name + \" and \"+ actor2_name)\n",
        "                return\n",
        "            else:\n",
        "                #we are pretty sure something didnt match\n",
        "                #this relation does not exist currently between the nodes under the use case, \n",
        "                #add it.\n",
        "                result3 = session.write_transaction(\n",
        "                    self._create_and_return_rel_label, actor1_name, rel_name, actor2_name, usecase_id)\n",
        "                #if (not retult3)\n",
        "                for row in result3:\n",
        "                    print(\"Created relation: {actor1} - {rel} - {actor2} in {usecase}\".\n",
        "                            format(actor1=row['n1name'], \n",
        "                            rel=row['r1name'],\n",
        "                            actor2=row['n2name'],\n",
        "                            usecase=row['r1usecase']))\n",
        "\n",
        "    #Vishnu: 1 Aug 2022 \n",
        "    #assumption: nodes already exist\n",
        "    #modified from _create_and_return_rel to use labels for n.usecase\n",
        "    @staticmethod\n",
        "    def _create_and_return_rel_label(tx, actor1_name, rel_name, actor2_name, usecaseid):\n",
        "            query = (\n",
        "            \"MATCH \"\n",
        "            \"(n1), \"\n",
        "            \"(n2) \"\n",
        "            \"WHERE n1.name = '\" + actor1_name + \"' AND n2.name = '\"+actor2_name+\"' \"\n",
        "            \" AND '\"+ usecaseid+\"' in labels(n1) \"\n",
        "            \" AND '\"+ usecaseid+\"' in labels(n2) \"\n",
        "            \"CREATE (n1)-[r1:Relation \" + \"{name: '\"+rel_name+\"', usecase: '\"+usecaseid+\"'} ]->(n2) \"\n",
        "            \"RETURN n1, r1, n2\"\n",
        "            )\n",
        "            result = tx.run(query)\n",
        "            try:\n",
        "                return [{\"n1name\": row[\"n1\"][\"name\"], \n",
        "                        \"r1name\": row[\"r1\"][\"name\"],\n",
        "                        \"n2name\": row[\"n2\"][\"name\"],\n",
        "                        \"r1usecase\": row[\"r1\"][\"usecase\"]}\n",
        "                        for row in result]\n",
        "            # Capture any errors along with the query and data for traceability\n",
        "            except ServiceUnavailable as exception:\n",
        "                logging.error(\"{query} raised an error: \\n {exception}\".format(\n",
        "                    query=query, exception=exception))\n",
        "                raise\n",
        "\n",
        "    #Vishnu: 1 Aug 2022: This approach uses properties instead of labels for n.usecases.\n",
        "    #Vishnu: 1 Aug 2022: Invariant: only 1 actor with 1 name.\n",
        "    #Vishnu: 22 Jun 2022: refactored, uses properties instead of labels\n",
        "    #Vishnu: 1 Jun 2022: created this f() to create nodes with usecase label\n",
        "    #Vishnu: 2 Jun 2022: added- check if it already exists.\n",
        "    #Vishnu: 2 Jun 2022: added- check the usecase duplication, adds a usecase if it doesnt exist.\n",
        "    #otherwise ignores the command.\n",
        "    def create_node_with_usecase(self, actor_name, usecase_id):\n",
        "        with self.driver.session() as session:\n",
        "            node_already_exists = session.read_transaction(\n",
        "                self._find_and_return_existing_node, actor_name)\n",
        "            if not node_already_exists:  \n",
        "                result = session.write_transaction(\n",
        "                    self._create_and_return_node, actor_name, usecase_id)\n",
        "                for row in result:\n",
        "                    print(\"Created node: {n1}\".format(n1=row['n1name']))\n",
        "            else:\n",
        "                for row in node_already_exists:\n",
        "                    print(\"Node already exists: {name} in {usecase}\".format(name=row['n1name'], \n",
        "                                                                 usecase=row['n1usecase']))\n",
        "                    s=row['n1usecase'].split(',')\n",
        "                    if not (usecase_id in s):\n",
        "                      print(\"adding prop \"+usecase_id+ \" in addition to \"+row['n1usecase'])\n",
        "                      result = session.write_transaction(\n",
        "                                self._add_usecase_and_return_existing_node, actor_name, usecase_id)\n",
        "                    else:\n",
        "                      print(\"ignoring ...\")\n",
        "                    #row has only 1 entry due to invariant. So break here. and exit f()\n",
        "                    break\n",
        "\n",
        "    #Vishnu: 1 Aug 2022: This approach uses properties instead of labels for usecases.\n",
        "    #Vishnu: 2 Jun 2022: created this f() to query nodes and return with usecase prop\n",
        "    @staticmethod\n",
        "    def _find_and_return_existing_node(tx, actor_name):\n",
        "        query = (\n",
        "            \"MATCH (n1) \"\n",
        "            \"WHERE (n1.name ='\" + actor_name + \"') \"\n",
        "            \"RETURN n1.name as n1name, n1.usecase as n1usecase\"\n",
        "        )\n",
        "        result = tx.run(query)\n",
        "        try:\n",
        "            return [{\"n1name\": row[\"n1name\"],\"n1usecase\": row[\"n1usecase\"]} \n",
        "                    for row in result]\n",
        "        # Capture any errors along with the query and data for traceability\n",
        "        except ServiceUnavailable as exception:\n",
        "            logging.error(\"{query} raised an error: \\n {exception}\".format(\n",
        "                query=query, exception=exception))\n",
        "            raise\n",
        "\n",
        "    #Vishnu: 1 Aug 2022: This approach uses properties instead of labels for usecases.\n",
        "    @staticmethod\n",
        "    def _create_and_return_node(tx, actor_name, usecase_id):\n",
        "            query = (\n",
        "            \"CREATE (n1 \"+\"{ name: '\"+actor_name+\"', usecase: '\"+usecase_id+\"'}) \"\n",
        "            \"RETURN n1\"\n",
        "            )\n",
        "            result = tx.run(query, actor_name=actor_name)\n",
        "            try:\n",
        "                return [{\"n1name\": row[\"n1\"][\"name\"]}\n",
        "                        for row in result]\n",
        "            # Capture any errors along with the query and data for traceability\n",
        "            except ServiceUnavailable as exception:\n",
        "                logging.error(\"{query} raised an error: \\n {exception}\".format(\n",
        "                    query=query, exception=exception))\n",
        "                raise\n",
        "\n",
        "    #Vishnu: 1 Aug 2022: This approach uses properties instead of labels for usecases.\n",
        "    #Vishnu: 1 Jun 2022: created this f() to add use case prop to existing nodes \n",
        "    #CAUTION: does not check for duplication, use create_node_with_prop instead.\n",
        "    def add_usecase_existing_node(self, actor_name, usecase_id):\n",
        "        with self.driver.session() as session:\n",
        "            # Write transactions allow the driver to handle retries and transient errors\n",
        "            result = session.write_transaction(\n",
        "                self._add_usecase_and_return_existing_node, actor_name, usecase_id)\n",
        "            \n",
        "            # we expect only 1 node. Do we need the for loop below?\n",
        "            for row in result:\n",
        "                print(\"added usecase to node: {n1}\".format(n1=row['n1']))\n",
        "\n",
        "    #Vishnu: 1 Aug 2022: This approach uses properties instead of labels for usecases.\n",
        "    @staticmethod\n",
        "    def _add_usecase_and_return_existing_node(tx, actor_name, usecase_id):\n",
        "        # To learn more about the Cypher syntax, see https://neo4j.com/docs/cypher-manual/current/\n",
        "        # The Reference Card is also a good resource for keywords https://neo4j.com/docs/cypher-refcard/current/\n",
        "        query = (\n",
        "            \"MATCH \"\n",
        "            \"(n1) \"\n",
        "            \"WHERE n1.name = '\" + actor_name +\"' \"\n",
        "            \"set n1.usecase = n1.usecase + '\" + \",\" + \"'\"+ \"+ '\"+usecase_id +\"' \"\n",
        "            \"return n1\"\n",
        "        )\n",
        "        result = tx.run(query, actor_name=actor_name)\n",
        "        try:\n",
        "            return [{\"n1\": row[\"n1\"][\"name\"]}\n",
        "                    for row in result]\n",
        "        # Capture any errors along with the query and data for traceability\n",
        "        except ServiceUnavailable as exception:\n",
        "            logging.error(\"{query} raised an error: \\n {exception}\".format(\n",
        "                query=query, exception=exception))\n",
        "            raise\n",
        "\n",
        "    #Vishnu: 1 Aug 2022: This approach uses properties instead of labels for usecases.\n",
        "    #CAUTION: Assumes that actors already exists with property as n.use case.\n",
        "    #So, this has to be called only in conjunction with create_node_with_usecase\n",
        "    #otherwise you may end up with actors not having use case prop\n",
        "    #but rels will have use case prop. not a good idea.\n",
        "    def create_rel_with_usecase(self, actor1_name, rel_name, actor2_name, usecase_id):\n",
        "        with self.driver.session() as session:\n",
        "            this_rel_already_exists = session.read_transaction(\n",
        "                self._find_and_return_this_existing_rels, actor1_name, rel_name, actor2_name, usecase_id)\n",
        "            if (this_rel_already_exists):\n",
        "                print(rel_name + \" already exists with \"+ usecase_id + \" between \"+ actor1_name + \" and \"+ actor2_name)\n",
        "                return\n",
        "            else:\n",
        "                #we are pretty sure something didnt match\n",
        "                #this relation does not exist currently between the nodes under the use case, \n",
        "                #add it.\n",
        "                result3 = session.write_transaction(\n",
        "                    self._create_and_return_rel, actor1_name, rel_name, actor2_name, usecase_id)\n",
        "                #if (not retult3)\n",
        "                for row in result3:\n",
        "                    print(\"Created relation: {actor1} - {rel} - {actor2} in {usecase}\".\n",
        "                            format(actor1=row['n1name'], \n",
        "                            rel=row['r1name'],\n",
        "                            actor2=row['n2name'],\n",
        "                            usecase=row['r1usecase']))\n",
        "    \n",
        "    #Vishnu: 1 Aug 2022: at this moment this f() uses labels instead of properties for n.usecases.\n",
        "    #                    Note that rels still uses properties.\n",
        "    #        1 Aug 2022: TBD: create a property-version (as against label) of the same thing.\n",
        "    #Vishnu: 21 Jun 2022: created this f() to create relationships with usecase label\n",
        "    #if this works, this is the only function that needed to be called.\n",
        "    def create_actors_relationship_with_usecase(self, actor1_name, rel_name, actor2_name, usecase_id):\n",
        "            #process actor1\n",
        "            self.create_node_with_usecase_label(actor1_name, usecase_id)\n",
        "            #process actor2\n",
        "            self.create_node_with_usecase_label(actor2_name, usecase_id)\n",
        "            #process relation\n",
        "            self.create_rel_with_usecase_label(actor1_name, rel_name, actor2_name, usecase_id)\n",
        "\n",
        "    #Vishnu: 23 June 2022: created\n",
        "    #looks for a rel under a use case between 2 given nodes.\n",
        "    #normally, we expect only 0 or 1 unique entry.\n",
        "    @staticmethod                \n",
        "    def _find_and_return_this_existing_rels(tx, actor1_name, rel_name, actor2_name, usecase_id):\n",
        "        query = (\n",
        "            \"MATCH (n1)-[r1]-(n2) \"\n",
        "            \"WHERE (n1.name ='\" + actor1_name + \"') \"\n",
        "            \"and   (n2.name ='\" + actor2_name + \"') \"\n",
        "            \"and   (r1.usecase CONTAINS '\"+ usecase_id+ \"') \"\n",
        "            \"and   (r1.name ='\" + rel_name + \"') \"\n",
        "            \"RETURN n1.name as n1name, r1.name as r1name, n2.name as n2name, r1.usecase as r1usecase\"\n",
        "        )\n",
        "        result = tx.run(query)\n",
        "        return [row[\"r1name\"] for row in result]\n",
        "        \n",
        "    \n",
        "    #Vishnu: 21 June 2022: created this supporting f()\n",
        "    #return for all relationship between given two nodes.\n",
        "    @staticmethod                \n",
        "    def _find_and_return_all_existing_rels_for_uc(tx, actor1_name, actor2_name, usecase_id):\n",
        "        query = (\n",
        "            \"MATCH (n1)-[r1]-(n2) \"\n",
        "            \"WHERE (n1.name ='\" + actor1_name + \"') \"\n",
        "            \"and   (n2.name ='\" + actor2_name + \"') \"\n",
        "            \"and   (r1.usecase CONTAINS '\"+ usecase_id+ \"') \"\n",
        "            \"RETURN n1.name as n1name, r1.name as r1name, n2.name as n2name, r1.usecase as r1usecase\"\n",
        "        )\n",
        "        result = tx.run(query)\n",
        "        try:\n",
        "            return [{\n",
        "                        \"n1name\": row[\"n1name\"],\n",
        "                        \"n2name\": row[\"n2name\"],\n",
        "                        \"r1name\": row[\"r1name\"],\n",
        "                        \"r1usecase\": row[\"r1usecase\"],\n",
        "                    } \n",
        "                    for row in result]\n",
        "        # Capture any errors along with the query and data for traceability\n",
        "        except ServiceUnavailable as exception:\n",
        "            logging.error(\"{query} raised an error: \\n {exception}\".format(\n",
        "                query=query, exception=exception))\n",
        "            raise\n",
        "\n",
        "    #Vishnu: 21 June 2022: created this supporting f()\n",
        "    #adds a name for an existing relationship between given two nodes.\n",
        "    @staticmethod                \n",
        "    def _add_usecase_and_return_existing_rel(tx, actor1_name, rel_name, actor2_name, usecase_id):\n",
        "        query = (\n",
        "            \"MATCH (n1)-[r1]-(n2) \"\n",
        "            \"WHERE (n1.name ='\" + actor1_name + \"') \"\n",
        "            \"and   (n2.name ='\" + actor2_name + \"')\"\n",
        "            \"set    r1.usecase = r1.usecase + '\" + \",\" + \"'\"+ \"+ '\"+usecase_id +\"' \"\n",
        "        )\n",
        "        result = tx.run(query)\n",
        "\n",
        "    \n",
        "    #Vishnu: 30 june 2022: created\n",
        "    #CAUTION: if the property already exists, \n",
        "    #this overwrites the current value.\n",
        "    @staticmethod\n",
        "    def _write_property_and_return_existing_node(tx, actor_name, propertyName, propertyVal):\n",
        "        query = (\n",
        "            \"MATCH \"\n",
        "            \"(n1) \"\n",
        "            \"WHERE n1.name = '\" + actor_name +\"' \"\n",
        "            \"set n1.\"+propertyName+\" = '\"+propertyVal +\"' \"\n",
        "            \"return n1\"\n",
        "        )\n",
        "        result = tx.run(query, actor_name=actor_name)\n",
        "        try:\n",
        "            return [{\"n1\": row[\"n1\"][\"name\"]}\n",
        "                    for row in result]\n",
        "        # Capture any errors along with the query and data for traceability\n",
        "        except ServiceUnavailable as exception:\n",
        "            logging.error(\"{query} raised an error: \\n {exception}\".format(\n",
        "                query=query, exception=exception))\n",
        "            raise\n",
        "\n",
        "    #Vishnu: 30 june 2022: created\n",
        "    #CAUTION: if the property already exists, \n",
        "    #this overwrites the current value.\n",
        "    @staticmethod\n",
        "    def _write_property_and_return_existing_rel(tx, actor1_name, rel_name, actor2_name, \n",
        "                                                propertyName, propertyVal):\n",
        "        query = (\n",
        "            \"MATCH (n1)-[r1]-(n2) \"\n",
        "            \"WHERE (n1.name ='\" + actor1_name + \"') \"\n",
        "            \"and   (n2.name ='\" + actor2_name + \"') \"\n",
        "            \"and   (r1.name ='\" + rel_name + \"') \"\n",
        "            \"set   r1.\"+propertyName+\" = '\"+propertyVal +\"' \"\n",
        "            \"return r1\"\n",
        "        )\n",
        "        result = tx.run(query)\n",
        "        try:\n",
        "            return [{\"r1\": row[\"r1\"][\"name\"]}\n",
        "                    for row in result]\n",
        "        # Capture any errors along with the query and data for traceability\n",
        "        except ServiceUnavailable as exception:\n",
        "            logging.error(\"{query} raised an error: \\n {exception}\".format(\n",
        "                query=query, exception=exception))\n",
        "            raise\n",
        "\n",
        "    #Vishnu: 22 June 2022: created\n",
        "    #assumption: nodes already exist\n",
        "    @staticmethod\n",
        "    def _create_and_return_rel(tx, actor1_name, rel_name, actor2_name, usecaseid):\n",
        "            query = (\n",
        "            \"MATCH \"\n",
        "            \"(n1), \"\n",
        "            \"(n2) \"\n",
        "            \"WHERE n1.name = '\" + actor1_name + \"' AND n2.name = '\"+actor2_name+\"' \"\n",
        "            \" AND n1.usecase CONTAINS '\"+ usecaseid+\"' \"\n",
        "            \" AND n2.usecase CONTAINS '\"+ usecaseid+\"' \"\n",
        "            \"CREATE (n1)-[r1:Relation \" + \"{name: '\"+rel_name+\"', usecase: '\"+usecaseid+\"'} ]->(n2) \"\n",
        "            \"RETURN n1, r1, n2\"\n",
        "            )\n",
        "            result = tx.run(query)\n",
        "            try:\n",
        "                return [{\"n1name\": row[\"n1\"][\"name\"], \n",
        "                        \"r1name\": row[\"r1\"][\"name\"],\n",
        "                        \"n2name\": row[\"n2\"][\"name\"],\n",
        "                        \"r1usecase\": row[\"r1\"][\"usecase\"]}\n",
        "                        for row in result]\n",
        "            # Capture any errors along with the query and data for traceability\n",
        "            except ServiceUnavailable as exception:\n",
        "                logging.error(\"{query} raised an error: \\n {exception}\".format(\n",
        "                    query=query, exception=exception))\n",
        "                raise\n",
        "\n",
        "    #Vishnu: 1 Jun 2022: created this f() to list all nodes with usecase label\n",
        "    def find_all_usecase_actors(self, usecase_id):\n",
        "        with self.driver.session() as session:\n",
        "            result = session.read_transaction(self._find_and_return_all_usecase_actors, usecase_id)\n",
        "            i=0\n",
        "            for row in result:\n",
        "                i=i+1\n",
        "                print(\"Found actor-\"+ str(i) +\": {row}\".format(row=row))\n",
        "\n",
        "    @staticmethod\n",
        "    def _find_and_return_all_usecase_actors(tx, usecase_id):\n",
        "        query = (\n",
        "            \"MATCH (n) \"\n",
        "            \"WHERE (n.usecase = '\"+usecase_id+\"') \"\n",
        "            \"RETURN n.name AS name\"\n",
        "        )\n",
        "        result = tx.run(query)\n",
        "        return [row[\"name\"] for row in result]\n",
        "\n",
        "    #Vishnu: 21 Jun 2022: created this f() to cleanup the DB\n",
        "    #CAUTION: will delete everything\n",
        "    def cleanup_db(self):\n",
        "        with self.driver.session() as session:\n",
        "            result = session.read_transaction(\n",
        "                self._count_nodes_in_db)\n",
        "            for row in result:\n",
        "                print(\"Found {row} actors, deleting! \".format(row=row['count']))\n",
        "            result = session.write_transaction(\n",
        "                self._cleanup_db)\n",
        "\n",
        "    #Vishnu: 22 June 2022: created this f() \n",
        "    #(over)writes a prop to a node\n",
        "    def writePropToNode(self, actor_name, propertyName, propertyVal):\n",
        "        with self.driver.session() as session:\n",
        "            result = session.write_transaction(\n",
        "                self._write_property_and_return_existing_node, \n",
        "                    actor_name, \n",
        "                    propertyName, \n",
        "                    propertyVal)\n",
        "        \n",
        "            # we expect only 1 node. Do we need the for loop below?\n",
        "            for row in result:\n",
        "                print(\"added prop \"+\n",
        "                        propertyName+\n",
        "                        \" = \"+\n",
        "                        propertyVal+\n",
        "                        \" to node: {n1}\".format(n1=row['n1']))\n",
        "\n",
        "    #Vishnu: 22 June 2022: created this f() \n",
        "    #(over)writes a prop to a rel\n",
        "    def writePropToRel(self, a1, rel_name, a2, propertyName, propertyVal):\n",
        "        with self.driver.session() as session:\n",
        "            result = session.write_transaction(\n",
        "                self._write_property_and_return_existing_rel, \n",
        "                    a1, rel_name, a2,\n",
        "                    propertyName, \n",
        "                    propertyVal)\n",
        "        \n",
        "            # we expect only 1 node. Do we need the for loop below?\n",
        "            for row in result:\n",
        "                print(\"added prop \"+\n",
        "                        propertyName+\n",
        "                        \" = \"+\n",
        "                        propertyVal+\n",
        "                        \" to rel: {r1}\".format(r1=row['r1']))\n",
        "\n",
        "    @staticmethod\n",
        "    def _cleanup_db(tx):\n",
        "        query = (\n",
        "            \"MATCH (n) \"\n",
        "            \"detach delete n\"\n",
        "        )\n",
        "        result = tx.run(query)\n",
        "        try:\n",
        "            return \n",
        "        # Capture any errors along with the query and data for traceability\n",
        "        except ServiceUnavailable as exception:\n",
        "            logging.error(\"{query} raised an error: \\n {exception}\".format(\n",
        "                query=query, exception=exception))\n",
        "            raise\n",
        "\n",
        "    @staticmethod\n",
        "    def _count_nodes_in_db(tx):\n",
        "        query = (\n",
        "            \"MATCH (n) \"\n",
        "            \"return count(n) as count\"\n",
        "        )\n",
        "        result = tx.run(query)\n",
        "        try:\n",
        "            return [{\"count\": row[\"count\"]} \n",
        "                    for row in result]\n",
        "        # Capture any errors along with the query and data for traceability\n",
        "        except ServiceUnavailable as exception:\n",
        "            logging.error(\"{query} raised an error: \\n {exception}\".format(\n",
        "                query=query, exception=exception))\n",
        "            raise"
      ]
    },
    {
      "cell_type": "markdown",
      "metadata": {
        "id": "Pjilh9vPe4LY"
      },
      "source": [
        "## step-4: instantiate the helper class to DB. \n",
        "CAUTION: this uses the username/passwd assigned already in step-2 above."
      ]
    },
    {
      "cell_type": "code",
      "execution_count": 8,
      "metadata": {
        "id": "6p2nMvmodNw4"
      },
      "outputs": [],
      "source": [
        "app = App(uri, user, password)"
      ]
    },
    {
      "cell_type": "markdown",
      "metadata": {},
      "source": [
        "## step-5 clean up DB\n",
        "#Caution: lose data\n"
      ]
    },
    {
      "cell_type": "code",
      "execution_count": null,
      "metadata": {},
      "outputs": [],
      "source": [
        "app.cleanup_db()"
      ]
    },
    {
      "cell_type": "markdown",
      "metadata": {
        "id": "W4siCdsInsxH"
      },
      "source": [
        "## Examples"
      ]
    },
    {
      "cell_type": "code",
      "execution_count": null,
      "metadata": {},
      "outputs": [],
      "source": [
        "app.create_actors_relationship_with_usecase(\"Experimentation Controller\", \n",
        "                                            \"myrel\", \n",
        "                                            \"Sandbox\",\n",
        "                                            \"usecase_001\")"
      ]
    },
    {
      "cell_type": "markdown",
      "metadata": {
        "id": "v_PlujdPvtcN"
      },
      "source": [
        "### Example-1: Create individual nodes with usecase\n",
        "(and add a node property)\n",
        "(and add a rel property)"
      ]
    },
    {
      "cell_type": "code",
      "execution_count": null,
      "metadata": {
        "id": "aiKGLHItvp2g"
      },
      "outputs": [],
      "source": [
        "app.create_node_with_usecase(\"Experimentation Controller\", \"usecase_001\")\n",
        "app.create_node_with_usecase(\"Sandbox\", \"usecase_001\")\n"
      ]
    },
    {
      "cell_type": "code",
      "execution_count": null,
      "metadata": {},
      "outputs": [],
      "source": [
        "app.writePropToNode(\"Sandbox\", \"capability\", \"import knowledge\")\n"
      ]
    },
    {
      "cell_type": "code",
      "execution_count": null,
      "metadata": {},
      "outputs": [],
      "source": [
        "app.writePropToNode(\"Sandbox\", \"requirement\", \"integrate controllers\")\n"
      ]
    },
    {
      "cell_type": "markdown",
      "metadata": {
        "id": "IlzAm-ApdU_t"
      },
      "source": [
        "### Example-1a: try to create duplicate node under different use case"
      ]
    },
    {
      "cell_type": "code",
      "execution_count": null,
      "metadata": {
        "id": "5PMotSRCdRdZ"
      },
      "outputs": [],
      "source": [
        "app.create_node_with_usecase(\"Sandbox\", \"usecase_003\")\n",
        "app.create_node_with_usecase(\"Sandbox\", \"usecase_004\")\n",
        "app.create_node_with_usecase(\"Sandbox\", \"usecase_005\")\n",
        "app.create_node_with_usecase(\"Sandbox\", \"usecase_006\")\n"
      ]
    },
    {
      "cell_type": "markdown",
      "metadata": {},
      "source": [
        "### Example-1b: use create_node_with_usecase_label (instead of properties)"
      ]
    },
    {
      "cell_type": "code",
      "execution_count": null,
      "metadata": {},
      "outputs": [],
      "source": [
        "app.create_node_with_usecase_label(\"Sandbox\", \"usecase_003\")\n",
        "app.create_node_with_usecase_label(\"Sandbox\", \"usecase_003\")\n",
        "app.create_node_with_usecase_label(\"Sandbox\", \"usecase_004\")\n",
        "app.create_node_with_usecase_label(\"Sandbox\", \"usecase_004\")\n",
        "app.create_node_with_usecase_label(\"Sandbox\", \"usecase_005\")\n",
        "\n"
      ]
    },
    {
      "cell_type": "markdown",
      "metadata": {
        "id": "0DR2Zu-rQr-9"
      },
      "source": [
        "### Example-2: Create relation between 2 existing nodes"
      ]
    },
    {
      "cell_type": "code",
      "execution_count": null,
      "metadata": {
        "id": "9FZGjCA0DmXT"
      },
      "outputs": [],
      "source": [
        "app.create_rel_with_usecase(\"Experimentation Controller\", \"my_best_buddy\", \"Sandbox\", \"usecase_001\")\n",
        "app.create_rel_with_usecase(\"Experimentation Controller\", \"my_best_buddy\", \"Sandbox\", \"usecase_002\")\n",
        "app.create_rel_with_usecase(\"Experimentation Controller\", \"my_best_buddy\", \"Sandbox\", \"usecase_003\")\n"
      ]
    },
    {
      "cell_type": "code",
      "execution_count": null,
      "metadata": {},
      "outputs": [],
      "source": [
        "app.writePropToRel(\"Experimentation Controller\", \"my_best_buddy\", \"Sandbox\", \n",
        "                    \"my_rel_prop_name\", \n",
        "                    \"my-rel-prop-val\")"
      ]
    },
    {
      "cell_type": "markdown",
      "metadata": {
        "id": "spwwNfDnSDsf"
      },
      "source": [
        "## Cleanup DB \n",
        "CAUTION: Remember to clean up the DB before executing the next steps. (so that all examples above are not leftover in the use case data below)."
      ]
    },
    {
      "cell_type": "code",
      "execution_count": null,
      "metadata": {},
      "outputs": [],
      "source": [
        "app.cleanup_db()"
      ]
    },
    {
      "cell_type": "markdown",
      "metadata": {
        "id": "Onme80CYn8O7"
      },
      "source": [
        "## USECASES"
      ]
    },
    {
      "cell_type": "markdown",
      "metadata": {
        "id": "2NKgB7ZSRqXL"
      },
      "source": [
        "### FG-AN-USECASE-001"
      ]
    },
    {
      "cell_type": "code",
      "execution_count": null,
      "metadata": {
        "id": "w6w8dt-QUUX8"
      },
      "outputs": [],
      "source": [
        "\n",
        "app.create_actors_relationship_with_usecase(\"Knowledge Base\", \"import\", \"Knowledge Base\", \"usecase_001\")\n",
        "app.create_actors_relationship_with_usecase(\"Knowledge Base\", \"export\", \"Knowledge Base\", \"usecase_001\")\n",
        "\n",
        "app.create_actors_relationship_with_usecase(\"Knowledge Base Manager\", \"optimizes\", \"Knowledge Base\", \"usecase_001\")\n",
        "app.create_actors_relationship_with_usecase(\"Knowledge Base Manager\", \"export\", \"Knowledge Base\", \"usecase_001\")\n",
        "\n",
        "app.create_actors_relationship_with_usecase(\"AN Orchestrator\", \"refer\", \"Knowledge Base\", \"usecase_001\")\n",
        "app.create_actors_relationship_with_usecase(\"AN Orchestrator\", \"input\", \"Use case description\", \"usecase_001\")\n",
        "app.create_actors_relationship_with_usecase(\"AN Orchestrator\", \"output\", \"TOSCA format\", \"usecase_001\")\n",
        "\n",
        "app.create_actors_relationship_with_usecase(\"Auto controller generator\", \"refer\", \"Knowledge Base\", \"usecase_001\")\n",
        "app.create_actors_relationship_with_usecase(\"Auto controller generator\", \"output\", \"TOSCA format\", \"usecase_001\")\n",
        "\n",
        "app.create_actors_relationship_with_usecase(\"controller repository\", \"stores\", \"controllers\", \"usecase_001\")\n",
        "app.create_actors_relationship_with_usecase(\"ML model\", \"recommends\", \"controllers\", \"usecase_001\")\n",
        "\n",
        "app.create_actors_relationship_with_usecase(\"Human operator\", \"input\", \"reports\", \"usecase_001\")\n",
        "app.create_actors_relationship_with_usecase(\"Human operator\", \"monitors\", \"reports\", \"usecase_001\")"
      ]
    },
    {
      "cell_type": "code",
      "execution_count": null,
      "metadata": {
        "id": "dD7NR950Ry-N"
      },
      "outputs": [],
      "source": [
        "app.find_all_usecase_actors_label(\"usecase_001\")"
      ]
    },
    {
      "cell_type": "markdown",
      "metadata": {
        "id": "xAXqmO5Bu_ki"
      },
      "source": [
        "### FG-AN-USECASE-002\n"
      ]
    },
    {
      "cell_type": "code",
      "execution_count": null,
      "metadata": {
        "id": "hIFRfkDQzZhz"
      },
      "outputs": [],
      "source": [
        "app.create_actors_relationship_with_usecase(\"Experimentation controller\", \"decides\", \n",
        "                                        \"scenarios for experimentation\", \"usecase_002\")\n",
        "app.create_actors_relationship_with_usecase(\"AN sandbox\", \"hosts\", \n",
        "                                        \"simulators\", \"usecase_002\")\n",
        "app.create_actors_relationship_with_usecase(\"AN sandbox\", \"manages\", \n",
        "                                        \"simulators\", \"usecase_002\")\n",
        "app.create_actors_relationship_with_usecase(\"AN sandbox\", \"output\", \n",
        "                                        \"reports\", \"usecase_002\")\n",
        "app.create_actors_relationship_with_usecase(\"Experimentation controller\", \"triggers\", \n",
        "                                        \"experiments\", \"usecase_002\")\n",
        "app.create_actors_relationship_with_usecase(\"Experimentation controller\", \"output\", \n",
        "                                        \"reports\", \"usecase_002\")\n",
        "app.create_actors_relationship_with_usecase(\"Experimentation controller\", \"executes\", \n",
        "                                        \"experiments\", \"usecase_002\")\n",
        "app.create_actors_relationship_with_usecase(\"Experimentation controller\", \"monitors\", \n",
        "                                        \"experiments\", \"usecase_002\")\n",
        "app.create_actors_relationship_with_usecase(\"Experimentation controller\", \"uses\", \n",
        "                                        \"AN sandbox\", \"usecase_002\")\n",
        "app.create_actors_relationship_with_usecase(\"Experimentation controller\", \"updates\", \n",
        "                                        \"Knowledge Base\", \"usecase_002\")\n",
        "app.create_actors_relationship_with_usecase(\"experiments\", \"has\", \n",
        "                                        \"scenarios for experimentation\", \"usecase_002\")"
      ]
    },
    {
      "cell_type": "code",
      "execution_count": null,
      "metadata": {
        "id": "kESuu7StzBZC"
      },
      "outputs": [],
      "source": [
        "app.find_all_usecase_actors_label(\"usecase_002\")"
      ]
    },
    {
      "cell_type": "markdown",
      "metadata": {
        "id": "kYop_NWy2upE"
      },
      "source": [
        "### FG-AN-USECASE-003\n"
      ]
    },
    {
      "cell_type": "code",
      "execution_count": null,
      "metadata": {
        "id": "ZlYgiEEd5W4L"
      },
      "outputs": [],
      "source": [
        "app.create_actors_relationship_with_usecase(\"AN Orchestrator\", \"queries\", \n",
        "                                        \"AN Orchestrator\", \"usecase_003\")\n",
        "app.create_actors_relationship_with_usecase(\"AN Orchestrator\", \"queries\", \n",
        "                                        \"Human operator\", \"usecase_003\")\n",
        "app.create_actors_relationship_with_usecase(\"AN Orchestrator\", \"accept\", \n",
        "                                        \"feedback\", \"usecase_003\")\n",
        "app.create_actors_relationship_with_usecase(\"AN Orchestrator\", \"configures\", \n",
        "                                        \"AN components\", \"usecase_003\")\n",
        "app.create_actors_relationship_with_usecase(\"AN Orchestrator\", \"updates\", \n",
        "                                        \"Knowledge Base\", \"usecase_003\")\n"
      ]
    },
    {
      "cell_type": "code",
      "execution_count": null,
      "metadata": {},
      "outputs": [],
      "source": [
        "app.find_all_usecase_actors_label(\"usecase_003\")"
      ]
    },
    {
      "cell_type": "markdown",
      "metadata": {
        "id": "_niHmj2zA-8o"
      },
      "source": [
        "### FG-AN-USECASE-004"
      ]
    },
    {
      "cell_type": "code",
      "execution_count": null,
      "metadata": {
        "id": "ks473AsjKtw0"
      },
      "outputs": [],
      "source": [
        "app.create_actors_relationship_with_usecase(\"Adaptation controller\", \"discovers\", \n",
        "                                        \"controllers\", \"usecase_004\")\n",
        "app.create_actors_relationship_with_usecase(\"Adaptation controller\", \"deploy\", \n",
        "                                        \"controllers\", \"usecase_004\")\n",
        "app.create_actors_relationship_with_usecase(\"Adaptation controller\", \"configures\", \n",
        "                                        \"controllers\", \"usecase_004\")\n",
        "app.create_actors_relationship_with_usecase(\"Adaptation controller\", \"queries\", \n",
        "                                        \"controller repository\", \"usecase_004\")          \n",
        "app.create_actors_relationship_with_usecase(\"Adaptation controller\", \"updates\", \n",
        "                                        \"Knowledge Base\", \"usecase_004\")  \n",
        "app.create_actors_relationship_with_usecase(\"controllers\", \"is\", \n",
        "                                        \"undeployed controllers\", \"usecase_004\")  \n",
        "app.create_actors_relationship_with_usecase(\"controllers\", \"is\", \n",
        "                                        \"deployed controllers\", \"usecase_004\")                                         "
      ]
    },
    {
      "cell_type": "code",
      "execution_count": null,
      "metadata": {},
      "outputs": [],
      "source": [
        "app.find_all_usecase_actors_label(\"usecase_004\")"
      ]
    },
    {
      "cell_type": "markdown",
      "metadata": {},
      "source": [
        "### FG-AN-USECASE-005"
      ]
    },
    {
      "cell_type": "code",
      "execution_count": null,
      "metadata": {},
      "outputs": [],
      "source": [
        "app.create_actors_relationship_with_usecase(\"Service management framework\", \"is\", \n",
        "                                        \"underlay\", \"usecase_005\")\n",
        "app.create_actors_relationship_with_usecase(\"Adaptation controller\", \"discover\", \n",
        "                                        \"Service management framework\", \"usecase_005\")     \n",
        "app.create_actors_relationship_with_usecase(\"Adaptation controller\", \"influence\", \n",
        "                                        \"Service management framework\", \"usecase_005\")  \n",
        "app.create_actors_relationship_with_usecase(\"intent\", \"is\", \n",
        "                                        \"influence\", \"usecase_005\")  \n",
        "app.create_actors_relationship_with_usecase(\"policy\", \"is\", \n",
        "                                        \"influence\", \"usecase_005\")                                         "
      ]
    },
    {
      "cell_type": "code",
      "execution_count": null,
      "metadata": {},
      "outputs": [],
      "source": [
        "app.find_all_usecase_actors_label(\"usecase_005\")"
      ]
    },
    {
      "cell_type": "markdown",
      "metadata": {},
      "source": [
        "### FG-AN-USECASE-006 cat1"
      ]
    },
    {
      "cell_type": "code",
      "execution_count": null,
      "metadata": {},
      "outputs": [],
      "source": [
        "app.create_actors_relationship_with_usecase(\"Evolution controller\", \"monitors\", \n",
        "                                        \"controllers\", \"usecase_006_cat1\")\n",
        "app.create_actors_relationship_with_usecase(\"Evolution controller\", \"discovers\", \n",
        "                                        \"use cases\", \"usecase_006_cat1\")     \n",
        "app.create_actors_relationship_with_usecase(\"Evolution controller\", \"recommends\", \n",
        "                                        \"controllers\", \"usecase_006_cat1\")  \n",
        "app.create_actors_relationship_with_usecase(\"Evolution controller\", \"refers\", \n",
        "                                        \"Knowledge Base\", \"usecase_006_cat1\")  "
      ]
    },
    {
      "cell_type": "code",
      "execution_count": null,
      "metadata": {},
      "outputs": [],
      "source": [
        "app.find_all_usecase_actors_label(\"usecase_006_cat1\")"
      ]
    },
    {
      "cell_type": "markdown",
      "metadata": {},
      "source": [
        "### FG-AN-USECASE-006 cat2"
      ]
    },
    {
      "cell_type": "code",
      "execution_count": null,
      "metadata": {},
      "outputs": [],
      "source": [
        "app.create_actors_relationship_with_usecase(\"Data collector\", \"consumes\", \n",
        "                                        \"data\", \"usecase_006_cat2\")\n",
        "app.create_actors_relationship_with_usecase(\"Management domain\", \"produces\", \n",
        "                                        \"data\", \"usecase_006_cat2\")     \n",
        "app.create_actors_relationship_with_usecase(\"Management domain\", \"has\", \n",
        "                                        \"RAN cell\", \"usecase_006_cat2\")  \n",
        "app.create_actors_relationship_with_usecase(\"Data collector\", \"produces\", \n",
        "                                        \"data\", \"usecase_006_cat2\") \n",
        "\n",
        "app.create_actors_relationship_with_usecase(\"data\", \"has\", \n",
        "                                        \"real time\", \"usecase_006_cat2\")     \n",
        "app.create_actors_relationship_with_usecase(\"data\", \"has\", \n",
        "                                        \"data quality\", \"usecase_006_cat2\")  \n",
        "app.create_actors_relationship_with_usecase(\"data\", \"has\", \n",
        "                                        \"KPI\", \"usecase_006_cat2\") \n",
        "\n",
        "app.create_actors_relationship_with_usecase(\"Data monitor\", \"consumes\", \n",
        "                                        \"data\", \"usecase_006_cat2\")     \n",
        "app.create_actors_relationship_with_usecase(\"Data monitor\", \"has\", \n",
        "                                        \"data monitoring\", \"usecase_006_cat2\")  \n",
        "app.create_actors_relationship_with_usecase(\"Data monitor\", \"produces\", \n",
        "                                        \"reports\", \"usecase_006_cat2\") \n",
        "app.create_actors_relationship_with_usecase(\"reports\", \"has\", \n",
        "                                        \"visualizations\", \"usecase_006_cat2\")                                         \n",
        "app.create_actors_relationship_with_usecase(\"Data analytics\", \"consumes\", \n",
        "                                        \"data\", \"usecase_006_cat2\")    \n",
        "app.create_actors_relationship_with_usecase(\"Data analytics\", \"produces\", \n",
        "                                        \"inference\", \"usecase_006_cat2\")                                           \n",
        "app.create_actors_relationship_with_usecase(\"Data analytics\", \"has\", \n",
        "                                        \"ML model\", \"usecase_006_cat2\") \n",
        "app.create_actors_relationship_with_usecase(\"inference\", \"has\", \n",
        "                                        \"periodicity\", \"usecase_006_cat2\")      \n",
        "app.create_actors_relationship_with_usecase(\"ML model\", \"has\", \n",
        "                                        \"model training\", \"usecase_006_cat2\")"
      ]
    },
    {
      "cell_type": "code",
      "execution_count": null,
      "metadata": {},
      "outputs": [],
      "source": [
        "app.find_all_usecase_actors_label(\"usecase_006_cat2\")"
      ]
    },
    {
      "cell_type": "markdown",
      "metadata": {},
      "source": [
        "### FG-AN-USECASE-007 cat1"
      ]
    },
    {
      "cell_type": "code",
      "execution_count": null,
      "metadata": {},
      "outputs": [],
      "source": [
        "app.create_actors_relationship_with_usecase(\"Adaptation controller\", \"discovers deployed\", \n",
        "                                        \"CL automation framework\", \"usecase_007_cat1\")\n",
        "app.create_actors_relationship_with_usecase(\"CL automation framework\", \"deploys\", \n",
        "                                        \"controllers\", \"usecase_007_cat1\")\n",
        "app.create_actors_relationship_with_usecase(\"controllers\", \"has\", \n",
        "                                        \"automatic data acquisition\", \"usecase_007_cat1\")\n",
        "app.create_actors_relationship_with_usecase(\"controllers\", \"has\", \n",
        "                                        \"ML model\", \"usecase_007_cat1\")\n",
        "app.create_actors_relationship_with_usecase(\"controllers\", \"has\", \n",
        "                                        \"policy\", \"usecase_007_cat1\")\n",
        "app.create_actors_relationship_with_usecase(\"controllers\", \"has\", \n",
        "                                        \"action implementation\", \"usecase_007_cat1\")\n",
        "app.create_actors_relationship_with_usecase(\"policy\", \"need\", \n",
        "                                        \"optimization\", \"usecase_007_cat1\")\n",
        "app.create_actors_relationship_with_usecase(\"Adaptation controller\", \"configures\", \n",
        "                                        \"controllers\", \"usecase_007_cat1\")\n",
        "app.create_actors_relationship_with_usecase(\"Adaptation controller\", \"monitors\", \n",
        "                                        \"controllers\", \"usecase_007_cat1\")                                       \n",
        "app.create_actors_relationship_with_usecase(\"Adaptation controller\", \"adapts\", \n",
        "                                        \"controllers\", \"usecase_007_cat1\") \n",
        "app.create_actors_relationship_with_usecase(\"Adaptation controller\", \"interfaces with\", \n",
        "                                        \"underlay orchestrator\", \"usecase_007_cat1\")   "
      ]
    },
    {
      "cell_type": "code",
      "execution_count": null,
      "metadata": {},
      "outputs": [],
      "source": [
        "app.find_all_usecase_actors_label(\"usecase_007_cat1\")"
      ]
    },
    {
      "cell_type": "markdown",
      "metadata": {},
      "source": [
        "### FG-AN-USECASE-007 cat2"
      ]
    },
    {
      "cell_type": "code",
      "execution_count": null,
      "metadata": {},
      "outputs": [],
      "source": [
        "app.create_actors_relationship_with_usecase(\"Energy saving controller\", \"uses\", \n",
        "                                        \"modules\", \"usecase_007_cat2\")\n",
        "app.create_actors_relationship_with_usecase(\"controllers\", \"has\", \n",
        "                                        \"modules\", \"usecase_007_cat2\")    \n",
        "app.create_actors_relationship_with_usecase(\"data acquisition\", \"is\", \n",
        "                                        \"modules\", \"usecase_007_cat2\")\n",
        "app.create_actors_relationship_with_usecase(\"policy\", \"is\", \n",
        "                                        \"modules\", \"usecase_007_cat2\")  \n",
        "app.create_actors_relationship_with_usecase(\"Action implementation\", \"is\", \n",
        "                                        \"modules\", \"usecase_007_cat2\")        \n",
        "app.create_actors_relationship_with_usecase(\"Data acquisition\", \"uses\", \n",
        "                                        \"data center APIs\", \"usecase_007_cat2\")   \n",
        "app.create_actors_relationship_with_usecase(\"policy\", \"has\", \n",
        "                                        \"data center policy\", \"usecase_007_cat2\")   \n",
        "app.create_actors_relationship_with_usecase(\"Action implementation\", \"uses\", \n",
        "                                        \"data center APIs\", \"usecase_007_cat2\")        \n",
        "app.create_actors_relationship_with_usecase(\"controllers\", \"need\", \n",
        "                                        \"evaluation\", \"usecase_007_cat2\")                \n",
        "app.create_actors_relationship_with_usecase(\"evaluation\", \"has\", \n",
        "                                        \"metrics\", \"usecase_007_cat2\")        \n",
        "app.create_actors_relationship_with_usecase(\"metrics\", \"are\", \n",
        "                                        \"data center metrics\", \"usecase_007_cat2\") \n",
        "app.create_actors_relationship_with_usecase(\"controllers\", \"need\", \n",
        "                                        \"optimization\", \"usecase_007_cat2\")     \n",
        "app.create_actors_relationship_with_usecase(\"optimization\", \"uses\", \n",
        "                                        \"evaluation\", \"usecase_007_cat2\")                                                "
      ]
    },
    {
      "cell_type": "code",
      "execution_count": null,
      "metadata": {},
      "outputs": [],
      "source": [
        "app.find_all_usecase_actors_label(\"usecase_007_cat2\")"
      ]
    },
    {
      "cell_type": "markdown",
      "metadata": {},
      "source": [
        "### FG-AN-USECASE-008 cat1"
      ]
    },
    {
      "cell_type": "code",
      "execution_count": null,
      "metadata": {},
      "outputs": [],
      "source": [
        "app.create_actors_relationship_with_usecase(\"CL automation framework\", \"discovers\", \"network parameters\", \"usecase_008_cat1\")\n",
        "app.create_actors_relationship_with_usecase(\"CL automation framework\", \"discovers\", \"data\", \"usecase_008_cat1\")\n",
        "app.create_actors_relationship_with_usecase(\"CL automation framework\", \"discovers\", \"KPI\", \"usecase_008_cat1\")\n",
        "app.create_actors_relationship_with_usecase(\"CL automation framework\", \"deploys\", \"controllers\", \"usecase_008_cat1\")\n",
        "app.create_actors_relationship_with_usecase(\"controllers\", \"provide\", \"optimization\", \"usecase_008_cat1\")\n",
        "app.create_actors_relationship_with_usecase(\"KPI\", \"need\", \"optimization\", \"usecase_008_cat1\")\n",
        "app.create_actors_relationship_with_usecase(\"use cases\", \"has\", \"KPI\", \"usecase_008_cat1\")\n",
        "          "
      ]
    },
    {
      "cell_type": "code",
      "execution_count": null,
      "metadata": {},
      "outputs": [],
      "source": [
        "app.create_actors_relationship_with_usecase(\"Evolution controller\", \"discovers\", \"use cases\", \"usecase_008_cat1\")\n",
        "app.create_actors_relationship_with_usecase(\"Evolution controller\", \"composes\", \"controllers\", \"usecase_008_cat1\")\n",
        "app.create_actors_relationship_with_usecase(\"use cases\", \"has\", \"data\", \"usecase_008_cat1\")\n",
        "app.create_actors_relationship_with_usecase(\"data\", \"has\", \"parameters\", \"usecase_008_cat1\")\n"
      ]
    },
    {
      "cell_type": "code",
      "execution_count": null,
      "metadata": {},
      "outputs": [],
      "source": [
        "app.find_all_usecase_actors_label(\"usecase_008_cat1\")"
      ]
    },
    {
      "cell_type": "markdown",
      "metadata": {},
      "source": [
        "### FG-AN-USECASE-008 cat2"
      ]
    },
    {
      "cell_type": "code",
      "execution_count": null,
      "metadata": {},
      "outputs": [],
      "source": [
        "app.create_actors_relationship_with_usecase(\"base station\", \"has\", \"UE location\", \"usecase_008_cat2\")\n",
        "app.create_actors_relationship_with_usecase(\"mMiMO controller\", \"needs\", \"UE location\", \"usecase_008_cat2\")\n",
        "app.create_actors_relationship_with_usecase(\"mMiMO controller\", \"has\", \"optimization\", \"usecase_008_cat2\") \n",
        "app.create_actors_relationship_with_usecase(\"optimization\", \"has\", \"goals\", \"usecase_008_cat2\")\n",
        "app.create_actors_relationship_with_usecase(\"goals\", \"are\", \"system utilization\", \"usecase_008_cat2\")\n",
        "app.create_actors_relationship_with_usecase(\"goals\", \"are\", \"user experience\", \"usecase_008_cat2\")\n",
        "app.create_actors_relationship_with_usecase(\"goals\", \"are\", \"target RSRP/SINR distribution\", \"usecase_008_cat2\")\n",
        "app.create_actors_relationship_with_usecase(\"goals\", \"are\", \"optimal antenna parameters\", \"usecase_008_cat2\")"
      ]
    },
    {
      "cell_type": "code",
      "execution_count": null,
      "metadata": {},
      "outputs": [],
      "source": [
        "app.find_all_usecase_actors_label(\"usecase_008_cat2\")"
      ]
    },
    {
      "cell_type": "markdown",
      "metadata": {},
      "source": [
        "### FG-AN-USECASE-009 cat1"
      ]
    },
    {
      "cell_type": "code",
      "execution_count": null,
      "metadata": {},
      "outputs": [],
      "source": [
        "app.create_actors_relationship_with_usecase(\"Adaptation controller\", \"discovers\", \"controller characteristics\", \"usecase_009_cat1\")\n",
        "app.create_actors_relationship_with_usecase(\"Evolution controller\", \"accepts\", \"AN intent\", \"usecase_009_cat1\")\n",
        "app.create_actors_relationship_with_usecase(\"Evolution controller\", \"composes\", \"controllers\", \"usecase_009_cat1\")\n",
        "app.create_actors_relationship_with_usecase(\"Evolution controller\", \"recommends\", \"controllers\", \"usecase_009_cat1\")\n",
        "app.create_actors_relationship_with_usecase(\"Evolution controller\", \"evolves\", \"controllers\", \"usecase_009_cat1\")\n",
        "app.create_actors_relationship_with_usecase(\"Evolution controller\", \"evolves\", \"modules\", \"usecase_009_cat1\")\n",
        "app.create_actors_relationship_with_usecase(\"Evolution controller\", \"implements\", \"evolution algorithms\", \"usecase_009_cat1\")\n",
        "app.create_actors_relationship_with_usecase(\"Evolution controller\", \"recommends\", \"modules\", \"usecase_009_cat1\")\n",
        "app.create_actors_relationship_with_usecase(\"Evolution controller\", \"composes\", \"controllers\", \"usecase_009_cat1\")\n",
        "app.create_actors_relationship_with_usecase(\"Adaptation controller\", \"deploys\", \"controllers\", \"usecase_009_cat1\")\n",
        "app.create_actors_relationship_with_usecase(\"controllers\", \"utilizes\", \"underlay specific APIs\", \"usecase_009_cat1\")\n",
        "app.create_actors_relationship_with_usecase(\"edge controllers\", \"are\", \"controllers\", \"usecase_009_cat1\")\n"
      ]
    },
    {
      "cell_type": "code",
      "execution_count": null,
      "metadata": {},
      "outputs": [],
      "source": [
        "app.find_all_usecase_actors_label(\"usecase_009_cat1\")"
      ]
    },
    {
      "cell_type": "markdown",
      "metadata": {},
      "source": [
        "### FG-AN-USECASE-009 cat2\n"
      ]
    },
    {
      "cell_type": "code",
      "execution_count": null,
      "metadata": {},
      "outputs": [],
      "source": [
        "app.create_actors_relationship_with_usecase(\"Emergency management controller\", \"uses\", \"controllers\", \"usecase_009_cat2\")\n",
        "app.create_actors_relationship_with_usecase(\"controllers\", \"detect\", \"emergencies\", \"usecase_009_cat2\")\n",
        "app.create_actors_relationship_with_usecase(\"controllers\", \"optimize\", \"network resource allocation\", \"usecase_009_cat2\")\n",
        "app.create_actors_relationship_with_usecase(\"Emergency management controller\", \"instantiates\", \"controllers\", \"usecase_009_cat2\")\n",
        "app.create_actors_relationship_with_usecase(\"Emergency management controller\", \"input\", \"intent\", \"usecase_009_cat2\")\n",
        "app.create_actors_relationship_with_usecase(\"Emergency management controller\", \"output\", \"intent\", \"usecase_009_cat2\")\n",
        "app.create_actors_relationship_with_usecase(\"controllers\", \"need\", \"network domain\", \"usecase_009_cat2\")\n",
        "app.create_actors_relationship_with_usecase(\"intent\", \"has\", \"ml pipeline\", \"usecase_009_cat2\")\n"
      ]
    },
    {
      "cell_type": "code",
      "execution_count": null,
      "metadata": {},
      "outputs": [],
      "source": [
        "app.find_all_usecase_actors_label(\"usecase_009_cat2\")"
      ]
    },
    {
      "cell_type": "markdown",
      "metadata": {},
      "source": [
        "### FG-AN-USECASE-010 cat1"
      ]
    },
    {
      "cell_type": "code",
      "execution_count": null,
      "metadata": {},
      "outputs": [],
      "source": [
        "app.create_actors_relationship_with_usecase(\"AN orchestrator\", \"accepts\", \"AN intent\", \"usecase_010_cat1\")\n",
        "app.create_actors_relationship_with_usecase(\"AN orchestrator\", \"configures\", \"Evolution controller\", \"usecase_010_cat1\")\n",
        "app.create_actors_relationship_with_usecase(\"AN orchestrator\", \"configures\", \"Adaptation controller\", \"usecase_010_cat1\")\n",
        "app.create_actors_relationship_with_usecase(\"AN orchestrator\", \"configures\", \"Experimentation controller\", \"usecase_010_cat1\")\n",
        "app.create_actors_relationship_with_usecase(\"AN intent\", \"has\", \"vertical specific inputs\", \"usecase_010_cat1\")\n",
        "app.create_actors_relationship_with_usecase(\"Experimentation controller\", \"validates\", \"controllers\", \"usecase_010_cat1\")\n",
        "app.create_actors_relationship_with_usecase(\"Adaptation controller\", \"monitors\", \"controllers\", \"usecase_010_cat1\")\n",
        "app.create_actors_relationship_with_usecase(\"AN orchestrator\", \"produces\", \"reports\", \"usecase_010_cat1\")\n",
        "app.create_actors_relationship_with_usecase(\"underlay\", \"are\", \"CI/CD pipeline\", \"usecase_010_cat1\")\n",
        "app.create_actors_relationship_with_usecase(\"Adaptation controller\", \"discovers\", \"reference points\", \"usecase_010_cat1\")\n",
        "app.create_actors_relationship_with_usecase(\"underlay\", \"has\", \"reference points\", \"usecase_010_cat1\")\n",
        "app.create_actors_relationship_with_usecase(\"Evolution controller\", \"recommends\", \"controllers\", \"usecase_010_cat1\")\n",
        "app.create_actors_relationship_with_usecase(\"Adaptation controller\", \"discovers\", \"underlay capabilities\", \"usecase_010_cat1\")\n",
        "app.create_actors_relationship_with_usecase(\"underlay\", \"has\", \"underlay capabilities\", \"usecase_010_cat1\")\n",
        "\n"
      ]
    },
    {
      "cell_type": "code",
      "execution_count": null,
      "metadata": {},
      "outputs": [],
      "source": [
        "app.find_all_usecase_actors_label(\"usecase_010_cat1\")"
      ]
    },
    {
      "cell_type": "markdown",
      "metadata": {},
      "source": [
        "### FG-AN-USECASE-010 cat2"
      ]
    },
    {
      "cell_type": "code",
      "execution_count": null,
      "metadata": {},
      "outputs": [],
      "source": [
        "app.create_actors_relationship_with_usecase(\"Cloud service controller\", \"uses\", \"controllers\", \"usecase_010_cat2\")\n",
        "app.create_actors_relationship_with_usecase(\"controllers\", \"needs\", \"intent\", \"usecase_010_cat2\")\n",
        "app.create_actors_relationship_with_usecase(\"controllers\", \"needs\", \"simulation\", \"usecase_010_cat2\")\n",
        "app.create_actors_relationship_with_usecase(\"controllers\", \"needs\", \"validation\", \"usecase_010_cat2\")\n",
        "app.create_actors_relationship_with_usecase(\"validation\", \"needs\", \"KPI\", \"usecase_010_cat2\")\n",
        "app.create_actors_relationship_with_usecase(\"validation\", \"needs\", \"AN sandbox\", \"usecase_010_cat2\")\n",
        "app.create_actors_relationship_with_usecase(\"controllers\", \"output\", \"cloud service deployment\", \"usecase_010_cat2\")\n",
        "app.create_actors_relationship_with_usecase(\"cloud service deployment\", \"needs\", \"optimization\", \"usecase_010_cat2\")\n",
        "app.create_actors_relationship_with_usecase(\"controllers\", \"output\", \"network service deployment\", \"usecase_010_cat2\")\n",
        "app.create_actors_relationship_with_usecase(\"network service deployment\", \"needs\", \"optimization\", \"usecase_010_cat2\")\n",
        "app.create_actors_relationship_with_usecase(\"controllers\", \"needs\", \"monitors\", \"usecase_010_cat2\")\n",
        "app.create_actors_relationship_with_usecase(\"monitors\", \"output\", \"reports\", \"usecase_010_cat2\")\n",
        "app.create_actors_relationship_with_usecase(\"network service deployment\", \"needs\", \"technology migration\", \"usecase_010_cat2\")\n",
        "app.create_actors_relationship_with_usecase(\"cloud service deployment\", \"needs\", \"technology migration\", \"usecase_010_cat2\")\n",
        "\n",
        "\n"
      ]
    },
    {
      "cell_type": "code",
      "execution_count": null,
      "metadata": {},
      "outputs": [],
      "source": [
        "app.find_all_usecase_actors_label(\"usecase_010_cat2\")"
      ]
    },
    {
      "cell_type": "markdown",
      "metadata": {},
      "source": [
        "### FG-AN-USECASE-011 cat1"
      ]
    },
    {
      "cell_type": "code",
      "execution_count": null,
      "metadata": {},
      "outputs": [],
      "source": [
        "app.create_actors_relationship_with_usecase(\"AN orchestrator\", \"input\", \"intent\", \"usecase_011_cat1\")\n",
        "app.create_actors_relationship_with_usecase(\"AN orchestrator\", \"configures\", \"domain orchestrator\", \"usecase_011_cat1\")\n",
        "app.create_actors_relationship_with_usecase(\"AN orchestrator\", \"configures\", \"Evolution controller\", \"usecase_011_cat1\")\n",
        "app.create_actors_relationship_with_usecase(\"AN orchestrator\", \"configures\", \"Adaptation controller\", \"usecase_011_cat1\")\n",
        "\n",
        "app.create_actors_relationship_with_usecase(\"intent\", \"has\", \"controller design\", \"usecase_011_cat1\")\n",
        "app.create_actors_relationship_with_usecase(\"intent\", \"has\", \"controller deployment\", \"usecase_011_cat1\")\n",
        "app.create_actors_relationship_with_usecase(\"intent\", \"has\", \"controller management\", \"usecase_011_cat1\")\n",
        "\n",
        "app.create_actors_relationship_with_usecase(\"controllers\", \"monitors\", \"inter-domain-connectivity\", \"usecase_011_cat1\")\n",
        "app.create_actors_relationship_with_usecase(\"controllers\", \"configures\", \"inter-domain-connectivity\", \"usecase_011_cat1\")\n",
        "app.create_actors_relationship_with_usecase(\"controllers\", \"manages\", \"inter-domain-connectivity\", \"usecase_011_cat1\")\n",
        "\n",
        "app.create_actors_relationship_with_usecase(\"Evolution controller\", \"implements\", \"evolution algorithms\", \"usecase_011_cat1\")\n",
        "app.create_actors_relationship_with_usecase(\"evolution algorithms\", \"implements\", \"evolution\", \"usecase_011_cat1\")\n",
        "app.create_actors_relationship_with_usecase(\"controllers\", \"need\", \"evolution\", \"usecase_011_cat1\")\n",
        "\n",
        "app.create_actors_relationship_with_usecase(\"underlay\", \"are\", \"inter-domain-connectivity\", \"usecase_011_cat1\")\n",
        "app.create_actors_relationship_with_usecase(\"Evolution controller\", \"recommends\", \"controllers\", \"usecase_011_cat1\")"
      ]
    },
    {
      "cell_type": "code",
      "execution_count": null,
      "metadata": {},
      "outputs": [],
      "source": [
        "app.find_all_usecase_actors_label(\"usecase_011_cat1\")"
      ]
    },
    {
      "cell_type": "markdown",
      "metadata": {},
      "source": [
        "### FG-AN-USECASE-011 cat2"
      ]
    },
    {
      "cell_type": "code",
      "execution_count": null,
      "metadata": {},
      "outputs": [],
      "source": [
        "app.create_actors_relationship_with_usecase(\"inter-domain-connectivity\", \"has\", \"alternatives\", \"usecase_011_cat2\")\n",
        "app.create_actors_relationship_with_usecase(\"verticals\", \"provide\", \"service\", \"usecase_011_cat2\")\n",
        "app.create_actors_relationship_with_usecase(\"Rural sites\", \"requirement\", \"service\", \"usecase_011_cat2\")\n",
        "app.create_actors_relationship_with_usecase(\"verticals\", \"requirement\", \"inter-domain-connectivity\", \"usecase_011_cat2\")\n",
        "app.create_actors_relationship_with_usecase(\"Rural sites\", \"requirement\", \"inter-domain-connectivity\", \"usecase_011_cat2\")\n",
        "app.create_actors_relationship_with_usecase(\"inter-domain-connectivity\", \"is\", \"shared\", \"usecase_011_cat2\")\n",
        "app.create_actors_relationship_with_usecase(\"inter-domain-connectivity\", \"requirement\", \"edge compute\", \"usecase_011_cat2\")\n",
        "app.create_actors_relationship_with_usecase(\"inter-domain-connectivity\", \"requirement\", \"CL automation framework\", \"usecase_011_cat2\")\n",
        "app.create_actors_relationship_with_usecase(\"edge compute\", \"requirement\", \"CL automation framework\", \"usecase_011_cat2\")\n",
        "app.create_actors_relationship_with_usecase(\"edge compute\", \"has\", \"micro service\", \"usecase_011_cat2\")\n",
        "app.create_actors_relationship_with_usecase(\"alternatives\", \"has\", \"heterogeneous\", \"usecase_011_cat2\")\n",
        "app.create_actors_relationship_with_usecase(\"underlay orchestrator\", \"has\", \"controllers\", \"usecase_011_cat2\")\n",
        "app.create_actors_relationship_with_usecase(\"inter-domain-connectivity\", \"requirement\", \"management\", \"usecase_011_cat2\")\n",
        "app.create_actors_relationship_with_usecase(\"underlay orchestrator\", \"has\", \"onboarding\", \"usecase_011_cat2\")\n",
        "app.create_actors_relationship_with_usecase(\"applications\", \"requirement\", \"onboarding\", \"usecase_011_cat2\")\n",
        "app.create_actors_relationship_with_usecase(\"underlay orchestrator\", \"has\", \"monitoring\", \"usecase_011_cat2\")\n",
        "app.create_actors_relationship_with_usecase(\"applications\", \"requirement\", \"monitoring\", \"usecase_011_cat2\")\n",
        "app.create_actors_relationship_with_usecase(\"underlay orchestrator\", \"has\", \"report\", \"usecase_011_cat2\")\n",
        "app.create_actors_relationship_with_usecase(\"human operator\", \"requirement\", \"report\", \"usecase_011_cat2\")"
      ]
    },
    {
      "cell_type": "code",
      "execution_count": null,
      "metadata": {},
      "outputs": [],
      "source": [
        "app.find_all_usecase_actors_label(\"usecase_011_cat2\")"
      ]
    },
    {
      "cell_type": "markdown",
      "metadata": {},
      "source": [
        "### FG-AN-USECASE-012 cat1"
      ]
    },
    {
      "cell_type": "code",
      "execution_count": null,
      "metadata": {},
      "outputs": [],
      "source": [
        "app.create_actors_relationship_with_usecase(\"Adaptation controller\", \"monitors\", \"underlay capabilities\", \"usecase_012_cat1\")\n",
        "app.create_actors_relationship_with_usecase(\"Adaptation controller\", \"discovers\", \"underlay capabilities\", \"usecase_012_cat1\")\n",
        "app.create_actors_relationship_with_usecase(\"underlay capabilities\", \"is\", \"underlay configuration\", \"usecase_012_cat1\")\n",
        "app.create_actors_relationship_with_usecase(\"underlay capabilities\", \"is\", \"monitoring\", \"usecase_012_cat1\")\n",
        "app.create_actors_relationship_with_usecase(\"Evolution controller\", \"capability\", \"recommendation\", \"usecase_012_cat1\")\n",
        "app.create_actors_relationship_with_usecase(\"recommendation\", \"is\", \"underlay capabilities\", \"usecase_012_cat1\")"
      ]
    },
    {
      "cell_type": "code",
      "execution_count": null,
      "metadata": {},
      "outputs": [],
      "source": [
        "app.find_all_usecase_actors_label(\"usecase_012_cat1\")"
      ]
    },
    {
      "cell_type": "markdown",
      "metadata": {},
      "source": [
        "### FG-AN-USECASE-012 cat2"
      ]
    },
    {
      "cell_type": "code",
      "execution_count": null,
      "metadata": {},
      "outputs": [],
      "source": [
        "app.create_actors_relationship_with_usecase(\"Data analysis function\", \"capability\", \"data collector\", \"usecase_012_cat2\")\n",
        "app.create_actors_relationship_with_usecase(\"Network function\", \"capability\", \"event report\", \"usecase_012_cat2\")\n",
        "app.create_actors_relationship_with_usecase(\"event report\", \"is\", \"UE IP address change\", \"usecase_012_cat2\")\n",
        "app.create_actors_relationship_with_usecase(\"event report\", \"is\", \"UP path change\", \"usecase_012_cat2\")\n",
        "app.create_actors_relationship_with_usecase(\"event report\", \"is\", \"PDU Session Establishment\", \"usecase_012_cat2\")\n",
        "app.create_actors_relationship_with_usecase(\"event report\", \"is\", \"PDU Session Release\", \"usecase_012_cat2\")\n",
        "app.create_actors_relationship_with_usecase(\"Data analysis function\", \"capability\", \"Data analytics\", \"usecase_012_cat2\")\n",
        "app.create_actors_relationship_with_usecase(\"Data analytics\", \"is\", \"Load information of UPF\", \"usecase_012_cat2\")\n",
        "app.create_actors_relationship_with_usecase(\"event report\", \"is\", \"data\", \"usecase_012_cat2\")"
      ]
    },
    {
      "cell_type": "code",
      "execution_count": null,
      "metadata": {},
      "outputs": [],
      "source": [
        "app.find_all_usecase_actors_label(\"usecase_012_cat2\")"
      ]
    },
    {
      "cell_type": "markdown",
      "metadata": {},
      "source": [
        "### FG-AN-USECASE-013 cat1"
      ]
    },
    {
      "cell_type": "code",
      "execution_count": null,
      "metadata": {},
      "outputs": [],
      "source": [
        "\n",
        "app.create_actors_relationship_with_usecase(\"Network function\", \"has\", \"underlay capabilities\", \"usecase_013_cat1\")\n",
        "app.create_actors_relationship_with_usecase(\"Adaptation controller\", \"monitors\", \"underlay capabilities\", \"usecase_013_cat1\")\n",
        "app.create_actors_relationship_with_usecase(\"Adaptation controller\", \"discovers\", \"underlay capabilities\", \"usecase_013_cat1\")\n",
        "app.create_actors_relationship_with_usecase(\"Adaptation controller\", \"discovers\", \"underlay requirements\", \"usecase_013_cat1\")\n",
        "app.create_actors_relationship_with_usecase(\"Evolution controller\", \"capability\", \"recommendation\", \"usecase_013_cat1\")\n",
        "app.create_actors_relationship_with_usecase(\"recommendation\", \"is\", \"underlay capabilities\", \"usecase_013_cat1\")\n",
        "app.create_actors_relationship_with_usecase(\"recommendation\", \"is\", \"underlay requirements\", \"usecase_013_cat1\")"
      ]
    },
    {
      "cell_type": "code",
      "execution_count": null,
      "metadata": {},
      "outputs": [],
      "source": [
        "app.find_all_usecase_actors_label(\"usecase_013_cat1\")"
      ]
    },
    {
      "cell_type": "markdown",
      "metadata": {},
      "source": [
        "### FG-AN-USECASE-013 cat2"
      ]
    },
    {
      "cell_type": "code",
      "execution_count": null,
      "metadata": {},
      "outputs": [],
      "source": [
        "app.create_actors_relationship_with_usecase(\"controllers\", \"requirement\", \"provisioning\", \"usecase_013_cat2\")\n",
        "app.create_actors_relationship_with_usecase(\"provisioning\", \"is\", \"multi-domain\", \"usecase_013_cat2\")\n",
        "app.create_actors_relationship_with_usecase(\"provisioning\", \"requirement\", \"underlay capabilities\", \"usecase_013_cat2\")\n",
        "app.create_actors_relationship_with_usecase(\"network instance\", \"requirement\", \"plug and play\", \"usecase_013_cat2\")\n",
        "app.create_actors_relationship_with_usecase(\"network instance\", \"is\", \"Network function\", \"usecase_013_cat2\")\n",
        "app.create_actors_relationship_with_usecase(\"network instance\", \"is\", \"network slice\", \"usecase_013_cat2\")\n",
        "app.create_actors_relationship_with_usecase(\"network instance\", \"is\", \"network service\", \"usecase_013_cat2\")\n",
        "app.create_actors_relationship_with_usecase(\"network instance\", \"capability\", \"data collection\", \"usecase_013_cat2\")\n",
        "app.create_actors_relationship_with_usecase(\"controllers\", \"requirement\", \"bootstrap\", \"usecase_013_cat2\")\n",
        "app.create_actors_relationship_with_usecase(\"network infrastructure\", \"requirement\", \"bootstrap\", \"usecase_013_cat2\")\n",
        "app.create_actors_relationship_with_usecase(\"network service\", \"requirement\", \"bootstrap\", \"usecase_013_cat2\")\n",
        "app.create_actors_relationship_with_usecase(\"applications\", \"requirement\", \"bootstrap\", \"usecase_013_cat2\")"
      ]
    },
    {
      "cell_type": "code",
      "execution_count": null,
      "metadata": {},
      "outputs": [],
      "source": [
        "app.find_all_usecase_actors_label(\"usecase_013_cat2\")"
      ]
    },
    {
      "cell_type": "markdown",
      "metadata": {},
      "source": [
        "### FG-AN-USECASE-014"
      ]
    },
    {
      "cell_type": "code",
      "execution_count": null,
      "metadata": {},
      "outputs": [],
      "source": [
        "app.create_actors_relationship_with_usecase(\"underlay\", \"are\", \"hybrid\", \"usecase_014\")\n",
        "app.create_actors_relationship_with_usecase(\"hybrid\", \"capability\", \"simulators\", \"usecase_014\")\n",
        "app.create_actors_relationship_with_usecase(\"hybrid\", \"capability\", \"test network\", \"usecase_014\")\n",
        "app.create_actors_relationship_with_usecase(\"hybrid\", \"capability\", \"real network\", \"usecase_014\")\n",
        "app.create_actors_relationship_with_usecase(\"multi-domain\", \"capability\", \"hybrid\", \"usecase_014\")"
      ]
    },
    {
      "cell_type": "code",
      "execution_count": null,
      "metadata": {},
      "outputs": [],
      "source": [
        "app.find_all_usecase_actors_label(\"usecase_014\")"
      ]
    },
    {
      "cell_type": "markdown",
      "metadata": {},
      "source": [
        "### FG-AN-USECASE-015"
      ]
    },
    {
      "cell_type": "markdown",
      "metadata": {},
      "source": [
        "*detailed implementation of this UC may be provided by Team \"Avengers\"*"
      ]
    },
    {
      "cell_type": "code",
      "execution_count": null,
      "metadata": {},
      "outputs": [],
      "source": [
        "app.create_actors_relationship_with_usecase(\"data\", \"is\", \"logs\", \"usecase_015\")\n",
        "app.create_actors_relationship_with_usecase(\"network instance\", \"capability\", \"logs\", \"usecase_015\")\n",
        "app.create_actors_relationship_with_usecase(\"model repository\", \"capability\", \"ML model\", \"usecase_015\")\n",
        "app.create_actors_relationship_with_usecase(\"model repository\", \"is\", \"3rd party\", \"usecase_015\")\n"
      ]
    },
    {
      "cell_type": "code",
      "execution_count": null,
      "metadata": {},
      "outputs": [],
      "source": [
        "app.find_all_usecase_actors_label(\"usecase_015\")"
      ]
    },
    {
      "cell_type": "markdown",
      "metadata": {},
      "source": [
        "### FG-AN-USECASE-016"
      ]
    },
    {
      "cell_type": "code",
      "execution_count": null,
      "metadata": {},
      "outputs": [],
      "source": [
        "app.create_actors_relationship_with_usecase(\"underlay orchestrator\", \"process\", \"underlay intent\", \"usecase_016\")\n",
        "app.create_actors_relationship_with_usecase(\"underlay intent\", \"has\", \"network instance\", \"usecase_016\")\n",
        "app.create_actors_relationship_with_usecase(\"intent\", \"is\", \"underlay intent\", \"usecase_016\")\n",
        "app.create_actors_relationship_with_usecase(\"intent\", \"is\", \"AN intent\", \"usecase_016\")\n",
        "app.create_actors_relationship_with_usecase(\"underlay orchestrator\", \"interfaces\", \"AN orchestrator\", \"usecase_016\")\n",
        "app.create_actors_relationship_with_usecase(\"controllers\", \"is\", \"multi-domain\", \"usecase_016\")\n",
        "app.create_actors_relationship_with_usecase(\"underlay orchestrator\", \"manages\", \"network instance\", \"usecase_016\")\n",
        "app.create_actors_relationship_with_usecase(\"orchestrator\", \"export\", \"intent\", \"usecase_016\")\n",
        "app.create_actors_relationship_with_usecase(\"orchestrator\", \"import\", \"intent\", \"usecase_016\")\n",
        "\n",
        "app.create_actors_relationship_with_usecase(\"orchestrator\", \"is\", \"AN orchestrator\", \"usecase_016\")\n",
        "app.create_actors_relationship_with_usecase(\"orchestrator\", \"is\", \"underlay orchestrator\", \"usecase_016\")\n",
        "app.create_actors_relationship_with_usecase(\"AN intent\", \"has\", \"controller  definitions\", \"usecase_016\")\n",
        "app.create_actors_relationship_with_usecase(\"underlay intent\", \"has\", \"network instance definitions\", \"usecase_016\")"
      ]
    },
    {
      "cell_type": "code",
      "execution_count": null,
      "metadata": {},
      "outputs": [],
      "source": [
        "app.find_all_usecase_actors_label(\"usecase_016\")"
      ]
    },
    {
      "cell_type": "markdown",
      "metadata": {},
      "source": [
        "### FG-AN-USECASE-017"
      ]
    },
    {
      "cell_type": "code",
      "execution_count": null,
      "metadata": {},
      "outputs": [],
      "source": [
        "app.create_actors_relationship_with_usecase(\"data\", \"is\", \"user experience\", \"usecase_017\")\n",
        "app.create_actors_relationship_with_usecase(\"data collection\", \"capability\", \"subjective tests\", \"usecase_017\")\n",
        "app.create_actors_relationship_with_usecase(\"user experience\", \"requirement\", \"subjective tests\", \"usecase_017\")\n",
        "app.create_actors_relationship_with_usecase(\"subjective tests\", \"capability\", \"user selection\", \"usecase_017\")\n",
        "app.create_actors_relationship_with_usecase(\"subjective tests\", \"capability\", \"location selection\", \"usecase_017\")\n",
        "app.create_actors_relationship_with_usecase(\"applications\", \"requirement\", \"subjective tests\", \"usecase_017\")\n",
        "app.create_actors_relationship_with_usecase(\"applications\", \"capability\", \"KPI\", \"usecase_017\")\n",
        "app.create_actors_relationship_with_usecase(\"underlay\", \"capability\", \"measurements\", \"usecase_017\")\n",
        "app.create_actors_relationship_with_usecase(\"subjective tests\", \"capability\",\"user opinion\", \"usecase_017\")\n",
        "\n",
        "\n",
        "app.create_actors_relationship_with_usecase(\"QoE prediction\", \"is\", \"controllers\", \"usecase_017\")\n",
        "app.create_actors_relationship_with_usecase(\"QoE prediction\", \"requirement\", \"KPI\", \"usecase_017\")\n",
        "app.create_actors_relationship_with_usecase(\"QoE prediction\", \"capability\", \"optimization\", \"usecase_017\")\n",
        "app.create_actors_relationship_with_usecase(\"QoE prediction\", \"requirement\", \"user behavior\", \"usecase_017\")\n",
        "app.create_actors_relationship_with_usecase(\"QoE prediction\", \"requirement\", \"KPI\", \"usecase_017\")\n",
        "app.create_actors_relationship_with_usecase(\"QoE prediction\", \"requirement\", \"ML model\", \"usecase_017\")\n",
        "app.create_actors_relationship_with_usecase(\"QoE prediction\", \"requirement\", \"subjective tests\", \"usecase_017\")\n",
        "\n",
        "app.create_actors_relationship_with_usecase(\"ML model\", \"maps\", \"QoE metrics\", \"usecase_017\")\n",
        "app.create_actors_relationship_with_usecase(\"ML model\", \"maps\", \"measurements\", \"usecase_017\")\n",
        "app.create_actors_relationship_with_usecase(\"underlay orchestrator\", \"discover\", \"measurements\", \"usecase_017\")\n"
      ]
    },
    {
      "cell_type": "code",
      "execution_count": null,
      "metadata": {},
      "outputs": [],
      "source": [
        "app.find_all_usecase_actors_label(\"usecase_017\")"
      ]
    },
    {
      "cell_type": "markdown",
      "metadata": {},
      "source": [
        "### FG-AN-USECASE-018"
      ]
    },
    {
      "cell_type": "code",
      "execution_count": null,
      "metadata": {},
      "outputs": [],
      "source": [
        "app.create_actors_relationship_with_usecase(\"AN intent\", \"has\", \"outer loop\", \"usecase_018\")\n",
        "app.create_actors_relationship_with_usecase(\"AN intent\", \"has\", \"deployment preferences\", \"usecase_018\")\n",
        "app.create_actors_relationship_with_usecase(\"AN orchestrator\", \"requires\", \"AN intent\", \"usecase_018\")\n",
        "app.create_actors_relationship_with_usecase(\"AN orchestrator\", \"derives\", \"sub-intent\", \"usecase_018\")\n",
        "app.create_actors_relationship_with_usecase(\"sub-intent\", \"is\", \"intent\", \"usecase_018\")\n",
        "app.create_actors_relationship_with_usecase(\"sub-intent\", \"has\", \"inner loop\", \"usecase_018\")\n",
        "app.create_actors_relationship_with_usecase(\"inner loop\", \"is\", \"controller\", \"usecase_018\")\n",
        "app.create_actors_relationship_with_usecase(\"outer loop\", \"is\", \"controller\", \"usecase_018\")\n",
        "app.create_actors_relationship_with_usecase(\"AN orchestrator\", \"optimizes\", \"intent\", \"usecase_018\")\n",
        "app.create_actors_relationship_with_usecase(\"AN orchestrator\", \"requires\", \"feedback\", \"usecase_018\")\n",
        "app.create_actors_relationship_with_usecase(\"Adaptation controller\", \"provides\", \"feedback\", \"usecase_018\")\n",
        "\n",
        "app.create_actors_relationship_with_usecase(\"outer loop\", \"has\", \"QoS QoE metrics\", \"usecase_018\")\n",
        "app.create_actors_relationship_with_usecase(\"outer loop\", \"has\", \"deployment preferences\", \"usecase_018\")\n",
        "app.create_actors_relationship_with_usecase(\"outer loop\", \"has\", \"ML model\", \"usecase_018\")\n",
        "app.create_actors_relationship_with_usecase(\"outer loop\", \"has\", \"cache policy\", \"usecase_018\")\n",
        "app.create_actors_relationship_with_usecase(\"outer loop\", \"has\", \"scaling policy\", \"usecase_018\")\n",
        "app.create_actors_relationship_with_usecase(\"outer loop\", \"has\", \"edge selection\", \"usecase_018\")\n",
        "app.create_actors_relationship_with_usecase(\"outer loop\", \"has\", \"storage configuration\", \"usecase_018\")\n",
        "app.create_actors_relationship_with_usecase(\"outer loop\", \"has\", \"API selection\", \"usecase_018\")\n",
        "app.create_actors_relationship_with_usecase(\"outer loop\", \"has\", \"concurrency selection\", \"usecase_018\")\n",
        "app.create_actors_relationship_with_usecase(\"experiments\", \"is\", \"data measurement\", \"usecase_018\")\n",
        "app.create_actors_relationship_with_usecase(\"experiments\", \"is\", \"policy selection\", \"usecase_018\")\n",
        "app.create_actors_relationship_with_usecase(\"inner loop\", \"has\", \"CDN configuration\", \"usecase_018\")\n",
        "app.create_actors_relationship_with_usecase(\"inner loop\", \"has\", \"QoE control\", \"usecase_018\")\n",
        "app.create_actors_relationship_with_usecase(\"Evolution controller\", \"evolve\", \"intent\", \"usecase_018\")"
      ]
    },
    {
      "cell_type": "code",
      "execution_count": null,
      "metadata": {},
      "outputs": [],
      "source": [
        "app.find_all_usecase_actors_label(\"usecase_018\")"
      ]
    },
    {
      "cell_type": "markdown",
      "metadata": {},
      "source": [
        "### FG-AN-USECASE-019"
      ]
    },
    {
      "cell_type": "code",
      "execution_count": null,
      "metadata": {},
      "outputs": [],
      "source": [
        "app.create_actors_relationship_with_usecase(\"underlay\", \"has\", \"underlay specific APIs\", \"usecase_019\")\n",
        "app.create_actors_relationship_with_usecase(\"underlay\", \"has\", \"underlay specific configurations\", \"usecase_019\")\n",
        "app.create_actors_relationship_with_usecase(\"underlay\", \"has\", \"multi-domain\", \"usecase_019\")\n",
        "app.create_actors_relationship_with_usecase(\"underlay\", \"has\", \"network instance\", \"usecase_019\")\n",
        "app.create_actors_relationship_with_usecase(\"underlay\", \"has\", \"network instance\", \"usecase_019\")\n",
        "app.create_actors_relationship_with_usecase(\"Adaptation controller\", \"discovers\", \"underlay specific configurations\", \"usecase_019\")\n",
        "\n",
        "app.create_actors_relationship_with_usecase(\"underlay\", \"has\", \"architecture options\", \"usecase_019\")\n",
        "app.create_actors_relationship_with_usecase(\"underlay\", \"has\", \"deployment options\", \"usecase_019\")\n",
        "app.create_actors_relationship_with_usecase(\"underlay\", \"has\", \"data model\", \"usecase_019\")\n",
        "app.create_actors_relationship_with_usecase(\"underlay\", \"has\", \"applications\", \"usecase_019\")\n",
        "app.create_actors_relationship_with_usecase(\"applications\", \"requirement\", \"multi-domain\", \"usecase_019\")\n",
        "app.create_actors_relationship_with_usecase(\"applications\", \"requirement\", \"real time\", \"usecase_019\")\n",
        "app.create_actors_relationship_with_usecase(\"applications\", \"requirement\", \"non real time\", \"usecase_019\")\n",
        "app.create_actors_relationship_with_usecase(\"underlay orchestrator\", \"capability\", \"controller placement\", \"usecase_019\")\n",
        "app.create_actors_relationship_with_usecase(\"controller placement\", \"is\", \"multi-domain\", \"usecase_019\")"
      ]
    },
    {
      "cell_type": "code",
      "execution_count": null,
      "metadata": {},
      "outputs": [],
      "source": [
        "app.find_all_usecase_actors_label(\"usecase_019\")"
      ]
    },
    {
      "cell_type": "markdown",
      "metadata": {},
      "source": [
        "### FG-AN-USECASE-020"
      ]
    },
    {
      "cell_type": "code",
      "execution_count": null,
      "metadata": {},
      "outputs": [],
      "source": [
        "app.create_actors_relationship_with_usecase(\"edge network\", \"is\", \"underlay\", \"usecase_020\")\n",
        "app.create_actors_relationship_with_usecase(\"edge network\", \"has\", \"Data analytics\", \"usecase_020\")\n",
        "app.create_actors_relationship_with_usecase(\"Data analytics\", \"is\", \"real time\", \"usecase_020\")\n",
        "app.create_actors_relationship_with_usecase(\"Data analytics\", \"is\", \"non real time\", \"usecase_020\")\n",
        "app.create_actors_relationship_with_usecase(\"verticals\", \"require\", \"Data analytics\", \"usecase_020\")\n",
        "app.create_actors_relationship_with_usecase(\"edge network\", \"has\", \"applications\", \"usecase_020\")\n",
        "app.create_actors_relationship_with_usecase(\"verticals\", \"require\", \"applications\", \"usecase_020\")\n",
        "app.create_actors_relationship_with_usecase(\"applications\", \"require\", \"optimization\", \"usecase_020\")"
      ]
    },
    {
      "cell_type": "code",
      "execution_count": null,
      "metadata": {},
      "outputs": [],
      "source": [
        "app.find_all_usecase_actors_label(\"usecase_020\")"
      ]
    },
    {
      "cell_type": "markdown",
      "metadata": {},
      "source": [
        "### FG-AN-USECASE-021"
      ]
    },
    {
      "cell_type": "code",
      "execution_count": null,
      "metadata": {},
      "outputs": [],
      "source": [
        "app.create_actors_relationship_with_usecase(\"Experimentation controller\", \"creates\", \"experimentation strategies\", \"usecase_021\")\n",
        "app.create_actors_relationship_with_usecase(\"Experimentation controller\", \"executes\", \"experimentation strategies\", \"usecase_021\")\n",
        "app.create_actors_relationship_with_usecase(\"Experimentation controller\", \"optimizes\", \"experimentation strategies\", \"usecase_021\")\n",
        "app.create_actors_relationship_with_usecase(\"Experimentation controller\", \"optimizes\", \"experimentation strategies\", \"usecase_021\")\n",
        "app.create_actors_relationship_with_usecase(\"AN sandbox\", \"is\", \"underlay\", \"usecase_021\")\n",
        "app.create_actors_relationship_with_usecase(\"Experimentation controller\", \"monitors\", \"experiments\", \"usecase_021\")\n",
        "\n",
        "app.create_actors_relationship_with_usecase(\"Experimentation controller\", \"requirement\", \"data\", \"usecase_021\")\n",
        "app.create_actors_relationship_with_usecase(\"rare scenarios\", \"is\", \"experiments\", \"usecase_021\")\n",
        "app.create_actors_relationship_with_usecase(\"Experimentation controller\", \"creates\", \"optimization\", \"usecase_021\")"
      ]
    },
    {
      "cell_type": "code",
      "execution_count": null,
      "metadata": {},
      "outputs": [],
      "source": [
        "app.find_all_usecase_actors_label(\"usecase_021\")"
      ]
    },
    {
      "cell_type": "markdown",
      "metadata": {},
      "source": [
        "### FG-AN-USECASE-022"
      ]
    },
    {
      "cell_type": "code",
      "execution_count": 10,
      "metadata": {},
      "outputs": [
        {
          "name": "stdout",
          "output_type": "stream",
          "text": [
            "Node already exists: underlay capabilities in ['usecase_010_cat1', 'usecase_012_cat1', 'usecase_013_cat1', 'usecase_013_cat2']\n",
            "adding label usecase_022 in addition to ['usecase_010_cat1', 'usecase_012_cat1', 'usecase_013_cat1', 'usecase_013_cat2']\n",
            "Created node: domain specific aspects\n",
            "Created relation: underlay capabilities - has - domain specific aspects in usecase_022\n",
            "Node already exists: underlay capabilities in ['usecase_010_cat1', 'usecase_012_cat1', 'usecase_013_cat1', 'usecase_013_cat2', 'usecase_022']\n",
            "ignoring ...\n",
            "Created node: network service specific aspects\n",
            "Created relation: underlay capabilities - has - network service specific aspects in usecase_022\n",
            "Node already exists: domain specific aspects in ['usecase_022']\n",
            "ignoring ...\n",
            "Node already exists: multi-domain in ['usecase_013_cat2', 'usecase_014', 'usecase_016', 'usecase_019']\n",
            "adding label usecase_022 in addition to ['usecase_013_cat2', 'usecase_014', 'usecase_016', 'usecase_019']\n",
            "Created relation: domain specific aspects - has - multi-domain in usecase_022\n",
            "Node already exists: domain specific aspects in ['usecase_022']\n",
            "ignoring ...\n",
            "Created node: unknown\n",
            "Created relation: domain specific aspects - has - unknown in usecase_022\n",
            "Node already exists: underlay capabilities in ['usecase_010_cat1', 'usecase_012_cat1', 'usecase_013_cat1', 'usecase_013_cat2', 'usecase_022']\n",
            "ignoring ...\n",
            "Created node: service specific aspects\n",
            "Created relation: underlay capabilities - has - service specific aspects in usecase_022\n",
            "Node already exists: service specific aspects in ['usecase_022']\n",
            "ignoring ...\n",
            "Created node: E2E\n",
            "Created relation: service specific aspects - has - E2E in usecase_022\n",
            "Node already exists: service specific aspects in ['usecase_022']\n",
            "ignoring ...\n",
            "Node already exists: domain specific aspects in ['usecase_022']\n",
            "ignoring ...\n",
            "Created relation: service specific aspects - has - domain specific aspects in usecase_022\n",
            "Created node: service description\n",
            "Node already exists: service specific aspects in ['usecase_022']\n",
            "ignoring ...\n",
            "Created relation: service description - has - service specific aspects in usecase_022\n",
            "Node already exists: service specific aspects in ['usecase_022']\n",
            "ignoring ...\n",
            "Created node: sub-problems\n",
            "Created relation: service specific aspects - has - sub-problems in usecase_022\n",
            "Node already exists: underlay orchestrator in ['usecase_007_cat1', 'usecase_011_cat2', 'usecase_016', 'usecase_017', 'usecase_019']\n",
            "adding label usecase_022 in addition to ['usecase_007_cat1', 'usecase_011_cat2', 'usecase_016', 'usecase_017', 'usecase_019']\n",
            "Node already exists: service specific aspects in ['usecase_022']\n",
            "ignoring ...\n",
            "Created relation: underlay orchestrator - discovers - service specific aspects in usecase_022\n",
            "Created node: service evolution\n",
            "Node already exists: sub-problems in ['usecase_022']\n",
            "ignoring ...\n",
            "Created relation: service evolution - solve - sub-problems in usecase_022\n",
            "Node already exists: Evolution controller in ['usecase_006_cat1', 'usecase_008_cat1', 'usecase_009_cat1', 'usecase_010_cat1', 'usecase_011_cat1', 'usecase_012_cat1', 'usecase_013_cat1', 'usecase_018']\n",
            "adding label usecase_022 in addition to ['usecase_006_cat1', 'usecase_008_cat1', 'usecase_009_cat1', 'usecase_010_cat1', 'usecase_011_cat1', 'usecase_012_cat1', 'usecase_013_cat1', 'usecase_018']\n",
            "Node already exists: service evolution in ['usecase_022']\n",
            "ignoring ...\n",
            "Created relation: Evolution controller - has - service evolution in usecase_022\n",
            "Node already exists: service evolution in ['usecase_022']\n",
            "ignoring ...\n",
            "Created node: service design\n",
            "Created relation: service evolution - has - service design in usecase_022\n",
            "Node already exists: service evolution in ['usecase_022']\n",
            "ignoring ...\n",
            "Created node: service optimization\n",
            "Created relation: service evolution - has - service optimization in usecase_022\n"
          ]
        }
      ],
      "source": [
        "app.create_actors_relationship_with_usecase(\"underlay capabilities\", \"has\", \"domain specific aspects\", \"usecase_022\")\n",
        "app.create_actors_relationship_with_usecase(\"underlay capabilities\", \"has\", \"network service specific aspects\", \"usecase_022\")\n",
        "app.create_actors_relationship_with_usecase(\"domain specific aspects\", \"has\", \"multi-domain\", \"usecase_022\")\n",
        "app.create_actors_relationship_with_usecase(\"domain specific aspects\", \"has\", \"unknown\", \"usecase_022\")\n",
        "app.create_actors_relationship_with_usecase(\"underlay capabilities\", \"has\", \"service specific aspects\", \"usecase_022\")\n",
        "app.create_actors_relationship_with_usecase(\"service specific aspects\", \"has\", \"E2E\", \"usecase_022\")\n",
        "app.create_actors_relationship_with_usecase(\"service specific aspects\", \"has\", \"domain specific aspects\", \"usecase_022\")\n",
        "app.create_actors_relationship_with_usecase(\"service description\", \"has\", \"service specific aspects\", \"usecase_022\")\n",
        "app.create_actors_relationship_with_usecase(\"service specific aspects\", \"has\", \"sub-problems\", \"usecase_022\")\n",
        "app.create_actors_relationship_with_usecase(\"underlay orchestrator\", \"discovers\", \"service specific aspects\", \"usecase_022\")\n",
        "\n",
        "app.create_actors_relationship_with_usecase(\"service evolution\", \"solve\", \"sub-problems\", \"usecase_022\")\n",
        "app.create_actors_relationship_with_usecase(\"Evolution controller\", \"has\", \"service evolution\", \"usecase_022\")\n",
        "app.create_actors_relationship_with_usecase(\"service evolution\", \"has\", \"service design\", \"usecase_022\")\n",
        "app.create_actors_relationship_with_usecase(\"service evolution\", \"has\", \"service optimization\", \"usecase_022\")\n"
      ]
    },
    {
      "cell_type": "code",
      "execution_count": 11,
      "metadata": {},
      "outputs": [
        {
          "name": "stdout",
          "output_type": "stream",
          "text": [
            "Found actor-1: Evolution controller\n",
            "Found actor-2: underlay orchestrator\n",
            "Found actor-3: underlay capabilities\n",
            "Found actor-4: multi-domain\n",
            "Found actor-5: domain specific aspects\n",
            "Found actor-6: network service specific aspects\n",
            "Found actor-7: unknown\n",
            "Found actor-8: service specific aspects\n",
            "Found actor-9: E2E\n",
            "Found actor-10: service description\n",
            "Found actor-11: sub-problems\n",
            "Found actor-12: service evolution\n",
            "Found actor-13: service design\n",
            "Found actor-14: service optimization\n"
          ]
        }
      ],
      "source": [
        "app.find_all_usecase_actors_label(\"usecase_022\")"
      ]
    },
    {
      "cell_type": "markdown",
      "metadata": {},
      "source": [
        "### FG-AN-USECASE-023\n",
        "*detailed implementation of this UC may be provided by Team Costa Rica*"
      ]
    },
    {
      "cell_type": "code",
      "execution_count": 13,
      "metadata": {},
      "outputs": [
        {
          "name": "stdout",
          "output_type": "stream",
          "text": [
            "Node already exists: controllers in ['usecase_001', 'usecase_004', 'usecase_006_cat1', 'usecase_007_cat1', 'usecase_007_cat2', 'usecase_008_cat1', 'usecase_009_cat1', 'usecase_009_cat2', 'usecase_010_cat1', 'usecase_010_cat2', 'usecase_011_cat1', 'usecase_011_cat2', 'usecase_013_cat2', 'usecase_016', 'usecase_017']\n",
            "adding label usecase_023 in addition to ['usecase_001', 'usecase_004', 'usecase_006_cat1', 'usecase_007_cat1', 'usecase_007_cat2', 'usecase_008_cat1', 'usecase_009_cat1', 'usecase_009_cat2', 'usecase_010_cat1', 'usecase_010_cat2', 'usecase_011_cat1', 'usecase_011_cat2', 'usecase_013_cat2', 'usecase_016', 'usecase_017']\n",
            "Node already exists: ML model in ['usecase_001', 'usecase_006_cat2', 'usecase_007_cat1', 'usecase_015', 'usecase_017', 'usecase_018']\n",
            "adding label usecase_023 in addition to ['usecase_001', 'usecase_006_cat2', 'usecase_007_cat1', 'usecase_015', 'usecase_017', 'usecase_018']\n",
            "Created relation: controllers - has - ML model in usecase_023\n",
            "Node already exists: controllers in ['usecase_001', 'usecase_004', 'usecase_006_cat1', 'usecase_007_cat1', 'usecase_007_cat2', 'usecase_008_cat1', 'usecase_009_cat1', 'usecase_009_cat2', 'usecase_010_cat1', 'usecase_010_cat2', 'usecase_011_cat1', 'usecase_011_cat2', 'usecase_013_cat2', 'usecase_016', 'usecase_017', 'usecase_023']\n",
            "ignoring ...\n",
            "Created node: SINK\n",
            "Created relation: controllers - has - SINK in usecase_023\n",
            "Node already exists: controllers in ['usecase_001', 'usecase_004', 'usecase_006_cat1', 'usecase_007_cat1', 'usecase_007_cat2', 'usecase_008_cat1', 'usecase_009_cat1', 'usecase_009_cat2', 'usecase_010_cat1', 'usecase_010_cat2', 'usecase_011_cat1', 'usecase_011_cat2', 'usecase_013_cat2', 'usecase_016', 'usecase_017', 'usecase_023']\n",
            "ignoring ...\n",
            "Created node: autonomous\n",
            "Created relation: controllers - is - autonomous in usecase_023\n",
            "Node already exists: data in ['usecase_006_cat2', 'usecase_008_cat1', 'usecase_012_cat2', 'usecase_015', 'usecase_017', 'usecase_021']\n",
            "adding label usecase_023 in addition to ['usecase_006_cat2', 'usecase_008_cat1', 'usecase_012_cat2', 'usecase_015', 'usecase_017', 'usecase_021']\n",
            "Created node: environment data\n",
            "Created relation: data - is - environment data in usecase_023\n",
            "Node already exists: SINK in ['usecase_023']\n",
            "ignoring ...\n",
            "Node already exists: underlay specific configurations in ['usecase_019']\n",
            "adding label usecase_023 in addition to ['usecase_019']\n",
            "Created relation: SINK - has - underlay specific configurations in usecase_023\n",
            "Node already exists: underlay specific configurations in ['usecase_019', 'usecase_023']\n",
            "ignoring ...\n",
            "Created node: tx power\n",
            "Created relation: underlay specific configurations - is - tx power in usecase_023\n",
            "Node already exists: data in ['usecase_006_cat2', 'usecase_008_cat1', 'usecase_012_cat2', 'usecase_015', 'usecase_017', 'usecase_021', 'usecase_023']\n",
            "ignoring ...\n",
            "Created node: multi mode\n",
            "Created relation: data - is - multi mode in usecase_023\n",
            "Node already exists: data in ['usecase_006_cat2', 'usecase_008_cat1', 'usecase_012_cat2', 'usecase_015', 'usecase_017', 'usecase_021', 'usecase_023']\n",
            "ignoring ...\n",
            "Created node: multi-mode\n",
            "Created relation: data - is - multi-mode in usecase_023\n",
            "Node already exists: multi-mode in ['usecase_023']\n",
            "ignoring ...\n",
            "Created node: image\n",
            "Created relation: multi-mode - is - image in usecase_023\n",
            "Node already exists: controllers in ['usecase_001', 'usecase_004', 'usecase_006_cat1', 'usecase_007_cat1', 'usecase_007_cat2', 'usecase_008_cat1', 'usecase_009_cat1', 'usecase_009_cat2', 'usecase_010_cat1', 'usecase_010_cat2', 'usecase_011_cat1', 'usecase_011_cat2', 'usecase_013_cat2', 'usecase_016', 'usecase_017', 'usecase_023']\n",
            "ignoring ...\n",
            "Created node: SRC\n",
            "Created relation: controllers - has - SRC in usecase_023\n",
            "Node already exists: controllers in ['usecase_001', 'usecase_004', 'usecase_006_cat1', 'usecase_007_cat1', 'usecase_007_cat2', 'usecase_008_cat1', 'usecase_009_cat1', 'usecase_009_cat2', 'usecase_010_cat1', 'usecase_010_cat2', 'usecase_011_cat1', 'usecase_011_cat2', 'usecase_013_cat2', 'usecase_016', 'usecase_017', 'usecase_023']\n",
            "ignoring ...\n",
            "Node already exists: SRC in ['usecase_023']\n",
            "ignoring ...\n",
            "Created relation: controllers - discover - SRC in usecase_023\n",
            "Created node: root cause analysis\n",
            "Node already exists: ML model in ['usecase_001', 'usecase_006_cat2', 'usecase_007_cat1', 'usecase_015', 'usecase_017', 'usecase_018', 'usecase_023']\n",
            "ignoring ...\n",
            "Created relation: root cause analysis - is - ML model in usecase_023\n",
            "Node already exists: root cause analysis in ['usecase_023']\n",
            "ignoring ...\n",
            "Created node: failure\n",
            "Created relation: root cause analysis - has - failure in usecase_023\n",
            "Node already exists: failure in ['usecase_023']\n",
            "ignoring ...\n",
            "Created node: software failure\n",
            "Created relation: failure - has - software failure in usecase_023\n",
            "Node already exists: failure in ['usecase_023']\n",
            "ignoring ...\n",
            "Created node: hardware failure\n",
            "Created relation: failure - has - hardware failure in usecase_023\n",
            "Node already exists: failure in ['usecase_023']\n",
            "ignoring ...\n",
            "Created node: middleware failure\n",
            "Created relation: failure - has - middleware failure in usecase_023\n",
            "Node already exists: underlay in ['usecase_005', 'usecase_010_cat1', 'usecase_011_cat1', 'usecase_014', 'usecase_019', 'usecase_020', 'usecase_021']\n",
            "adding label usecase_023 in addition to ['usecase_005', 'usecase_010_cat1', 'usecase_011_cat1', 'usecase_014', 'usecase_019', 'usecase_020', 'usecase_021']\n",
            "Created node: version\n",
            "Created relation: underlay - has - version in usecase_023\n",
            "Node already exists: controllers in ['usecase_001', 'usecase_004', 'usecase_006_cat1', 'usecase_007_cat1', 'usecase_007_cat2', 'usecase_008_cat1', 'usecase_009_cat1', 'usecase_009_cat2', 'usecase_010_cat1', 'usecase_010_cat2', 'usecase_011_cat1', 'usecase_011_cat2', 'usecase_013_cat2', 'usecase_016', 'usecase_017', 'usecase_023']\n",
            "ignoring ...\n",
            "Node already exists: version in ['usecase_023']\n",
            "ignoring ...\n",
            "Created relation: controllers - has - version in usecase_023\n"
          ]
        }
      ],
      "source": [
        "app.create_actors_relationship_with_usecase(\"controllers\", \"has\", \"ML model\", \"usecase_023\")\n",
        "app.create_actors_relationship_with_usecase(\"controllers\", \"has\", \"SINK\", \"usecase_023\")\n",
        "app.create_actors_relationship_with_usecase(\"controllers\", \"is\", \"autonomous\", \"usecase_023\")\n",
        "app.create_actors_relationship_with_usecase(\"data\", \"is\", \"environment data\", \"usecase_023\")\n",
        "app.create_actors_relationship_with_usecase(\"SINK\", \"has\", \"underlay specific configurations\", \"usecase_023\")\n",
        "app.create_actors_relationship_with_usecase(\"underlay specific configurations\", \"is\", \"tx power\", \"usecase_023\")\n",
        "app.create_actors_relationship_with_usecase(\"data\", \"is\", \"multi mode\", \"usecase_023\")\n",
        "app.create_actors_relationship_with_usecase(\"data\", \"is\", \"multi-mode\", \"usecase_023\")\n",
        "app.create_actors_relationship_with_usecase(\"multi-mode\", \"is\", \"image\", \"usecase_023\")\n",
        "app.create_actors_relationship_with_usecase(\"controllers\", \"has\", \"SRC\", \"usecase_023\")\n",
        "app.create_actors_relationship_with_usecase(\"controllers\", \"discover\", \"SRC\", \"usecase_023\")\n",
        "app.create_actors_relationship_with_usecase(\"root cause analysis\", \"is\", \"ML model\", \"usecase_023\")\n",
        "app.create_actors_relationship_with_usecase(\"root cause analysis\", \"has\", \"failure\", \"usecase_023\")\n",
        "app.create_actors_relationship_with_usecase(\"failure\", \"has\", \"software failure\", \"usecase_023\")\n",
        "app.create_actors_relationship_with_usecase(\"failure\", \"has\", \"hardware failure\", \"usecase_023\")\n",
        "app.create_actors_relationship_with_usecase(\"failure\", \"has\", \"middleware failure\", \"usecase_023\")\n",
        "app.create_actors_relationship_with_usecase(\"underlay\", \"has\", \"version\", \"usecase_023\")\n",
        "app.create_actors_relationship_with_usecase(\"controllers\", \"has\", \"version\", \"usecase_023\")\n",
        "\n",
        "app.create_actors_relationship_with_usecase(\"sub-problems\", \"has\", \"runtime\", \"usecase_023\")\n"
      ]
    },
    {
      "cell_type": "code",
      "execution_count": 14,
      "metadata": {},
      "outputs": [
        {
          "name": "stdout",
          "output_type": "stream",
          "text": [
            "Found actor-1: controllers\n",
            "Found actor-2: ML model\n",
            "Found actor-3: underlay\n",
            "Found actor-4: data\n",
            "Found actor-5: underlay specific configurations\n",
            "Found actor-6: SINK\n",
            "Found actor-7: autonomous\n",
            "Found actor-8: environment data\n",
            "Found actor-9: tx power\n",
            "Found actor-10: multi mode\n",
            "Found actor-11: multi-mode\n",
            "Found actor-12: image\n",
            "Found actor-13: SRC\n",
            "Found actor-14: root cause analysis\n",
            "Found actor-15: failure\n",
            "Found actor-16: software failure\n",
            "Found actor-17: hardware failure\n",
            "Found actor-18: middleware failure\n",
            "Found actor-19: version\n"
          ]
        }
      ],
      "source": [
        "app.find_all_usecase_actors_label(\"usecase_023\")"
      ]
    },
    {
      "cell_type": "markdown",
      "metadata": {},
      "source": [
        "### FG-AN-USECASE-024"
      ]
    },
    {
      "cell_type": "code",
      "execution_count": 16,
      "metadata": {},
      "outputs": [
        {
          "name": "stderr",
          "output_type": "stream",
          "text": [
            "Failed to read from defunct connection ResolvedIPv4Address(('34.126.114.186', 7687)) (IPv4Address(('34.126.114.186', 7687)))\n",
            "Unable to retrieve routing information\n",
            "Transaction failed and will be retried in 1.041727741733592s (Unable to retrieve routing information)\n"
          ]
        },
        {
          "name": "stdout",
          "output_type": "stream",
          "text": [
            "Node already exists: underlay in ['usecase_005', 'usecase_010_cat1', 'usecase_011_cat1', 'usecase_014', 'usecase_019', 'usecase_020', 'usecase_021', 'usecase_023']\n",
            "adding label usecase_024 in addition to ['usecase_005', 'usecase_010_cat1', 'usecase_011_cat1', 'usecase_014', 'usecase_019', 'usecase_020', 'usecase_021', 'usecase_023']\n",
            "Created node: adaptive hardware\n",
            "Created relation: underlay - is - adaptive hardware in usecase_024\n",
            "Created node: design\n",
            "Created node: design tradeoff\n",
            "Created relation: design - has - design tradeoff in usecase_024\n",
            "Node already exists: controller in ['usecase_018']\n",
            "adding label usecase_024 in addition to ['usecase_018']\n",
            "Node already exists: design in ['usecase_024']\n",
            "ignoring ...\n",
            "Created relation: controller - has - design in usecase_024\n",
            "Node already exists: Evolution controller in ['usecase_006_cat1', 'usecase_008_cat1', 'usecase_009_cat1', 'usecase_010_cat1', 'usecase_011_cat1', 'usecase_012_cat1', 'usecase_013_cat1', 'usecase_018', 'usecase_022']\n",
            "adding label usecase_024 in addition to ['usecase_006_cat1', 'usecase_008_cat1', 'usecase_009_cat1', 'usecase_010_cat1', 'usecase_011_cat1', 'usecase_012_cat1', 'usecase_013_cat1', 'usecase_018', 'usecase_022']\n",
            "Node already exists: design in ['usecase_024']\n",
            "ignoring ...\n",
            "Created relation: Evolution controller - optimizes - design in usecase_024\n",
            "Node already exists: edge network in ['usecase_020']\n",
            "adding label usecase_024 in addition to ['usecase_020']\n",
            "Node already exists: ML model in ['usecase_001', 'usecase_006_cat2', 'usecase_007_cat1', 'usecase_015', 'usecase_017', 'usecase_018', 'usecase_023']\n",
            "adding label usecase_024 in addition to ['usecase_001', 'usecase_006_cat2', 'usecase_007_cat1', 'usecase_015', 'usecase_017', 'usecase_018', 'usecase_023']\n",
            "Created relation: edge network - has - ML model in usecase_024\n",
            "Node already exists: edge network in ['usecase_020', 'usecase_024']\n",
            "ignoring ...\n",
            "Created node: low latency\n",
            "Created relation: edge network - requirement - low latency in usecase_024\n",
            "Node already exists: edge network in ['usecase_020', 'usecase_024']\n",
            "ignoring ...\n",
            "Created node: low power consumption\n",
            "Created relation: edge network - requirement - low power consumption in usecase_024\n",
            "Node already exists: edge network in ['usecase_020', 'usecase_024']\n",
            "ignoring ...\n",
            "Created node: low memory\n",
            "Created relation: edge network - requirement - low memory in usecase_024\n",
            "Created node: FPGA\n",
            "Node already exists: adaptive hardware in ['usecase_024']\n",
            "ignoring ...\n",
            "Created relation: FPGA - is - adaptive hardware in usecase_024\n",
            "Created node: adaptive System-on-Chip\n",
            "Node already exists: adaptive hardware in ['usecase_024']\n",
            "ignoring ...\n",
            "Created relation: adaptive System-on-Chip - is - adaptive hardware in usecase_024\n",
            "Node already exists: adaptive hardware in ['usecase_024']\n",
            "ignoring ...\n",
            "Created node: customization\n",
            "Created relation: adaptive hardware - capability - customization in usecase_024\n",
            "Node already exists: design tradeoff in ['usecase_024']\n",
            "ignoring ...\n",
            "Created node: concurrency\n",
            "Created relation: design tradeoff - is - concurrency in usecase_024\n",
            "Node already exists: design tradeoff in ['usecase_024']\n",
            "ignoring ...\n",
            "Created node: buffering between layers\n",
            "Created relation: design tradeoff - is - buffering between layers in usecase_024\n",
            "Node already exists: design tradeoff in ['usecase_024']\n",
            "ignoring ...\n",
            "Created node: offloading of layers\n",
            "Created relation: design tradeoff - is - offloading of layers in usecase_024\n",
            "Node already exists: design tradeoff in ['usecase_024']\n",
            "ignoring ...\n",
            "Created node: precision\n",
            "Created relation: design tradeoff - is - precision in usecase_024\n",
            "Node already exists: design tradeoff in ['usecase_024']\n",
            "ignoring ...\n",
            "Created node: performance\n",
            "Created relation: design tradeoff - is - performance in usecase_024\n",
            "Node already exists: design tradeoff in ['usecase_024']\n",
            "ignoring ...\n",
            "Created node: energy efficiency\n",
            "Created relation: design tradeoff - is - energy efficiency in usecase_024\n",
            "Node already exists: ML model in ['usecase_001', 'usecase_006_cat2', 'usecase_007_cat1', 'usecase_015', 'usecase_017', 'usecase_018', 'usecase_023', 'usecase_024']\n",
            "ignoring ...\n",
            "Created node: model architecture\n",
            "Created relation: ML model - has - model architecture in usecase_024\n",
            "Node already exists: ML model in ['usecase_001', 'usecase_006_cat2', 'usecase_007_cat1', 'usecase_015', 'usecase_017', 'usecase_018', 'usecase_023', 'usecase_024']\n",
            "ignoring ...\n",
            "Created node: intermediate representation \n",
            "Created relation: ML model - has - intermediate representation  in usecase_024\n",
            "Node already exists: ML model in ['usecase_001', 'usecase_006_cat2', 'usecase_007_cat1', 'usecase_015', 'usecase_017', 'usecase_018', 'usecase_023', 'usecase_024']\n",
            "ignoring ...\n",
            "Node already exists: optimization in ['usecase_007_cat1', 'usecase_007_cat2', 'usecase_008_cat1', 'usecase_008_cat2', 'usecase_010_cat2', 'usecase_017', 'usecase_020', 'usecase_021']\n",
            "adding label usecase_024 in addition to ['usecase_007_cat1', 'usecase_007_cat2', 'usecase_008_cat1', 'usecase_008_cat2', 'usecase_010_cat2', 'usecase_017', 'usecase_020', 'usecase_021']\n",
            "Created relation: ML model - requirement - optimization in usecase_024\n",
            "Node already exists: ML model in ['usecase_001', 'usecase_006_cat2', 'usecase_007_cat1', 'usecase_015', 'usecase_017', 'usecase_018', 'usecase_023', 'usecase_024']\n",
            "ignoring ...\n",
            "Created node: hardware adaptation\n",
            "Created relation: ML model - requirement - hardware adaptation in usecase_024\n",
            "Node already exists: ML model in ['usecase_001', 'usecase_006_cat2', 'usecase_007_cat1', 'usecase_015', 'usecase_017', 'usecase_018', 'usecase_023', 'usecase_024']\n",
            "ignoring ...\n",
            "Created node: training\n",
            "Created relation: ML model - requirement - training in usecase_024\n",
            "Node already exists: ML model in ['usecase_001', 'usecase_006_cat2', 'usecase_007_cat1', 'usecase_015', 'usecase_017', 'usecase_018', 'usecase_023', 'usecase_024']\n",
            "ignoring ...\n",
            "Node already exists: evaluation in ['usecase_007_cat2']\n",
            "adding label usecase_024 in addition to ['usecase_007_cat2']\n",
            "Created relation: ML model - requirement - evaluation in usecase_024\n"
          ]
        }
      ],
      "source": [
        "app.create_actors_relationship_with_usecase(\"underlay\", \"is\", \"adaptive hardware\", \"usecase_024\")\n",
        "app.create_actors_relationship_with_usecase(\"design\", \"has\", \"design tradeoff\", \"usecase_024\")\n",
        "app.create_actors_relationship_with_usecase(\"controller\", \"has\", \"design\", \"usecase_024\")\n",
        "app.create_actors_relationship_with_usecase(\"Evolution controller\", \"optimizes\", \"design\", \"usecase_024\")\n",
        "\n",
        "app.create_actors_relationship_with_usecase(\"edge network\", \"has\", \"ML model\", \"usecase_024\")\n",
        "app.create_actors_relationship_with_usecase(\"edge network\", \"requirement\", \"low latency\", \"usecase_024\")\n",
        "app.create_actors_relationship_with_usecase(\"edge network\", \"requirement\", \"low power consumption\", \"usecase_024\")\n",
        "app.create_actors_relationship_with_usecase(\"edge network\", \"requirement\", \"low memory\", \"usecase_024\")\n",
        "\n",
        "app.create_actors_relationship_with_usecase(\"FPGA\", \"is\", \"adaptive hardware\", \"usecase_024\")\n",
        "app.create_actors_relationship_with_usecase(\"adaptive System-on-Chip\", \"is\", \"adaptive hardware\", \"usecase_024\")\n",
        "app.create_actors_relationship_with_usecase(\"adaptive hardware\", \"capability\", \"customization\", \"usecase_024\")\n",
        "app.create_actors_relationship_with_usecase(\"design tradeoff\", \"is\", \"concurrency\", \"usecase_024\")\n",
        "app.create_actors_relationship_with_usecase(\"design tradeoff\", \"is\", \"buffering between layers\", \"usecase_024\")\n",
        "app.create_actors_relationship_with_usecase(\"design tradeoff\", \"is\", \"offloading of layers\", \"usecase_024\")\n",
        "app.create_actors_relationship_with_usecase(\"design tradeoff\", \"is\", \"precision\", \"usecase_024\")\n",
        "app.create_actors_relationship_with_usecase(\"design tradeoff\", \"is\", \"performance\", \"usecase_024\")\n",
        "app.create_actors_relationship_with_usecase(\"design tradeoff\", \"is\", \"energy efficiency\", \"usecase_024\")\n",
        "app.create_actors_relationship_with_usecase(\"ML model\", \"has\", \"model architecture\", \"usecase_024\")\n",
        "app.create_actors_relationship_with_usecase(\"ML model\", \"has\", \"intermediate representation \", \"usecase_024\")\n",
        "app.create_actors_relationship_with_usecase(\"ML model\", \"requirement\", \"optimization\", \"usecase_024\")\n",
        "app.create_actors_relationship_with_usecase(\"ML model\", \"requirement\", \"hardware adaptation\", \"usecase_024\")\n",
        "app.create_actors_relationship_with_usecase(\"ML model\", \"requirement\", \"training\", \"usecase_024\")\n",
        "app.create_actors_relationship_with_usecase(\"ML model\", \"requirement\", \"evaluation\", \"usecase_024\")"
      ]
    },
    {
      "cell_type": "code",
      "execution_count": 17,
      "metadata": {},
      "outputs": [
        {
          "name": "stdout",
          "output_type": "stream",
          "text": [
            "Found actor-1: ML model\n",
            "Found actor-2: underlay\n",
            "Found actor-3: Evolution controller\n",
            "Found actor-4: optimization\n",
            "Found actor-5: evaluation\n",
            "Found actor-6: controller\n",
            "Found actor-7: edge network\n",
            "Found actor-8: adaptive hardware\n",
            "Found actor-9: design\n",
            "Found actor-10: design tradeoff\n",
            "Found actor-11: low latency\n",
            "Found actor-12: low power consumption\n",
            "Found actor-13: low memory\n",
            "Found actor-14: FPGA\n",
            "Found actor-15: adaptive System-on-Chip\n",
            "Found actor-16: customization\n",
            "Found actor-17: concurrency\n",
            "Found actor-18: buffering between layers\n",
            "Found actor-19: offloading of layers\n",
            "Found actor-20: precision\n",
            "Found actor-21: performance\n",
            "Found actor-22: energy efficiency\n",
            "Found actor-23: model architecture\n",
            "Found actor-24: intermediate representation \n",
            "Found actor-25: hardware adaptation\n",
            "Found actor-26: training\n"
          ]
        }
      ],
      "source": [
        "app.find_all_usecase_actors_label(\"usecase_024\")"
      ]
    },
    {
      "cell_type": "markdown",
      "metadata": {},
      "source": [
        "### FG-AN-USECASE-025"
      ]
    },
    {
      "cell_type": "code",
      "execution_count": null,
      "metadata": {},
      "outputs": [],
      "source": [
        "app.create_actors_relationship_with_usecase(\"evolution algorithms\", \"requirement\", \"ML model\", \"usecase_025\")\n",
        "app.create_actors_relationship_with_usecase(\"ML models\", \"requirement\", \"transfer learning\", \"usecase_025\")\n",
        "app.create_actors_relationship_with_usecase(\"Knowledge Base\", \"capability\", \"transfer learning\", \"usecase_025\")\n",
        "app.create_actors_relationship_with_usecase(\"AN orchestrator\", \"manages\", \"Knowledge Base\", \"usecase_025\")\n",
        "\n",
        "app.create_actors_relationship_with_usecase(\"environment data\", \"is\", \"data\", \"usecase_025\")\n",
        "app.create_actors_relationship_with_usecase(\"environment data\", \"is\", \"signal strength\", \"usecase_025\")\n",
        "app.create_actors_relationship_with_usecase(\"environment data\", \"is\", \"mobility data\", \"usecase_025\")\n",
        "app.create_actors_relationship_with_usecase(\"user model\", \"is\", \"data\", \"usecase_025\")\n",
        "app.create_actors_relationship_with_usecase(\"Adaptation controller\", \"requirement\", \"adaptation algorithms\", \"usecase_025\")\n",
        "app.create_actors_relationship_with_usecase(\"adaptation algorithms\", \"requirement\", \"validation\", \"usecase_025\")\n",
        "app.create_actors_relationship_with_usecase(\"controllers\", \"requirement\", \"adaptation algorithms\", \"usecase_025\")\n",
        "app.create_actors_relationship_with_usecase(\"underlay specific configurations\", \"is\", \"coverage parameters\", \"usecase_025\")\n",
        "app.create_actors_relationship_with_usecase(\"underlay specific configurations\", \"is\", \"beam parameters\", \"usecase_025\")\n",
        "app.create_actors_relationship_with_usecase(\"ML model\", \"requirement\", \"retraining\", \"usecase_025\")\n",
        "app.create_actors_relationship_with_usecase(\"simulators\", \"requirement\", \"controllers\", \"usecase_025\")\n",
        "\n",
        "\n"
      ]
    },
    {
      "cell_type": "code",
      "execution_count": 18,
      "metadata": {},
      "outputs": [],
      "source": [
        "app.find_all_usecase_actors_label(\"usecase_025\")"
      ]
    },
    {
      "cell_type": "markdown",
      "metadata": {
        "id": "eBr7q13XvyeB"
      },
      "source": [
        "## Final Step: close the database connection"
      ]
    },
    {
      "cell_type": "code",
      "execution_count": null,
      "metadata": {
        "id": "J2ak5OTtvrLd"
      },
      "outputs": [],
      "source": [
        "app.close()"
      ]
    }
  ],
  "metadata": {
    "colab": {
      "authorship_tag": "ABX9TyMfoUUUlANqe1pLt2gRa7nw",
      "collapsed_sections": [],
      "include_colab_link": true,
      "name": "build-a-thon-graph-v1.ipynb",
      "provenance": [],
      "toc_visible": true
    },
    "kernelspec": {
      "display_name": "Python 3.8.13 ('myenv38b')",
      "language": "python",
      "name": "python3"
    },
    "language_info": {
      "codemirror_mode": {
        "name": "ipython",
        "version": 3
      },
      "file_extension": ".py",
      "mimetype": "text/x-python",
      "name": "python",
      "nbconvert_exporter": "python",
      "pygments_lexer": "ipython3",
      "version": "3.8.13"
    },
    "vscode": {
      "interpreter": {
        "hash": "b0ccdf644f691f804a1730b15f45eec8ab8f72a9dbd0363d61152d7c15fc1bc6"
      }
    }
  },
  "nbformat": 4,
  "nbformat_minor": 0
}
