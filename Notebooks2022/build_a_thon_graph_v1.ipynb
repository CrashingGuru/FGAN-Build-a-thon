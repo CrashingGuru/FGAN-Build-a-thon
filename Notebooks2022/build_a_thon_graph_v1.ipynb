{
  "cells": [
    {
      "cell_type": "markdown",
      "metadata": {
        "colab_type": "text",
        "id": "view-in-github"
      },
      "source": [
        "<a href=\"https://colab.research.google.com/github/vrra/Students-mentoring-2022/blob/main/Build-a-thon-2022/build_a_thon_graph_v1.ipynb\" target=\"_parent\"><img src=\"https://colab.research.google.com/assets/colab-badge.svg\" alt=\"Open In Colab\"/></a>"
      ]
    },
    {
      "cell_type": "markdown",
      "metadata": {
        "id": "xvVYTJnpc8NW"
      },
      "source": [
        "Created: 14 Apr 2022.   \n",
        "Contact: Vishnu Ram OV.   \n",
        "vishnu.n@ieee.org.   \n",
        "Licence: available for all purposes under the sun\n"
      ]
    },
    {
      "cell_type": "markdown",
      "metadata": {
        "id": "TOxLkcQAfFsO"
      },
      "source": [
        "Refer: https://neo4j.com/docs/aura/auradb/getting-started/create-database/"
      ]
    },
    {
      "cell_type": "markdown",
      "metadata": {
        "id": "Seq4Lm-HdDJY"
      },
      "source": [
        "step-1: install neo4j"
      ]
    },
    {
      "cell_type": "code",
      "execution_count": 1,
      "metadata": {
        "colab": {
          "base_uri": "https://localhost:8080/"
        },
        "id": "hKFE_mBLcWJL",
        "outputId": "f5b31cec-8e77-4233-9f04-a7b1a0f29a9e"
      },
      "outputs": [
        {
          "name": "stdout",
          "output_type": "stream",
          "text": [
            "Collecting neo4j\n",
            "  Downloading neo4j-4.4.3.tar.gz (90 kB)\n",
            "     |████████████████████████████████| 90 kB 81 kB/s             \n",
            "\u001b[?25h  Preparing metadata (setup.py) ... \u001b[?25ldone\n",
            "\u001b[?25hRequirement already satisfied: pytz in /opt/homebrew/Caskroom/miniforge/base/envs/myenv38/lib/python3.8/site-packages (from neo4j) (2021.3)\n",
            "Building wheels for collected packages: neo4j\n",
            "  Building wheel for neo4j (setup.py) ... \u001b[?25ldone\n",
            "\u001b[?25h  Created wheel for neo4j: filename=neo4j-4.4.3-py3-none-any.whl size=116070 sha256=fa1f755066cfb694f856d5d17faab014c731b8262f4373f12476c0c1ecb7711d\n",
            "  Stored in directory: /Users/vishnu/Library/Caches/pip/wheels/90/fd/09/1de626b67971e1769f5e1f09c532f6a7117cc1b12c58d41601\n",
            "Successfully built neo4j\n",
            "Installing collected packages: neo4j\n",
            "Successfully installed neo4j-4.4.3\n",
            "Note: you may need to restart the kernel to use updated packages.\n"
          ]
        }
      ],
      "source": [
        "pip install neo4j\n"
      ]
    },
    {
      "cell_type": "markdown",
      "metadata": {
        "id": "P49wR7FPejI6"
      },
      "source": [
        "step-2: imports"
      ]
    },
    {
      "cell_type": "code",
      "execution_count": 2,
      "metadata": {
        "id": "CMXk5yZcd-Jt"
      },
      "outputs": [],
      "source": [
        "from neo4j import GraphDatabase\n",
        "import logging\n",
        "from neo4j.exceptions import ServiceUnavailable"
      ]
    },
    {
      "cell_type": "markdown",
      "metadata": {
        "id": "QJsfeO0Ve03C"
      },
      "source": [
        "step-3: define helper class"
      ]
    },
    {
      "cell_type": "code",
      "execution_count": 5,
      "metadata": {
        "id": "FccBUxEIeKf_"
      },
      "outputs": [],
      "source": [
        "\n",
        "\n",
        "class App:\n",
        "\n",
        "    def __init__(self, uri, user, password):\n",
        "        self.driver = GraphDatabase.driver(uri, auth=(user, password))\n",
        "\n",
        "    def close(self):\n",
        "        # Don't forget to close the driver connection when you are finished with it\n",
        "        self.driver.close()\n",
        "\n",
        "    def create_friendship(self, actor1_name, actor2_name):\n",
        "        with self.driver.session() as session:\n",
        "            # Write transactions allow the driver to handle retries and transient errors\n",
        "            result = session.write_transaction(\n",
        "                self._create_and_return_friendship, actor1_name, actor2_name)\n",
        "            for row in result:\n",
        "                print(\"Created friendship between: {n1}, {n2}\".format(n1=row['n1'], n2=row['n2']))\n",
        "\n",
        "    @staticmethod\n",
        "    def _create_and_return_friendship(tx, actor1_name, actor2_name):\n",
        "        # To learn more about the Cypher syntax, see https://neo4j.com/docs/cypher-manual/current/\n",
        "        # The Reference Card is also a good resource for keywords https://neo4j.com/docs/cypher-refcard/current/\n",
        "        query = (\n",
        "            \"CREATE (n1:Actor { name: $actor1_name }) \"\n",
        "            \"CREATE (n2:Actor { name: $actor2_name }) \"\n",
        "            \"CREATE (n1)-[:USECAP]->(n2) \"\n",
        "            \"RETURN n1, n2\"\n",
        "        )\n",
        "        result = tx.run(query, actor1_name=actor1_name, actor2_name=actor2_name)\n",
        "        try:\n",
        "            return [{\"n1\": row[\"n1\"][\"name\"], \"n2\": row[\"n2\"][\"name\"]}\n",
        "                    for row in result]\n",
        "        # Capture any errors along with the query and data for traceability\n",
        "        except ServiceUnavailable as exception:\n",
        "            logging.error(\"{query} raised an error: \\n {exception}\".format(\n",
        "                query=query, exception=exception))\n",
        "            raise\n",
        "\n",
        "    def find_actor(self, actor_name):\n",
        "        with self.driver.session() as session:\n",
        "            result = session.read_transaction(self._find_and_return_actor, actor_name)\n",
        "            for row in result:\n",
        "                print(\"Found actor: {row}\".format(row=row))\n",
        "\n",
        "    @staticmethod\n",
        "    def _find_and_return_actor(tx, actor_name):\n",
        "        query = (\n",
        "            \"MATCH (n:Actor) \"\n",
        "            \"WHERE n.name = $actor_name \"\n",
        "            \"RETURN n.name AS name\"\n",
        "        )\n",
        "        result = tx.run(query, actor_name=actor_name)\n",
        "        return [row[\"name\"] for row in result]"
      ]
    },
    {
      "cell_type": "markdown",
      "metadata": {
        "id": "Pjilh9vPe4LY"
      },
      "source": [
        "step-4: connect to DB"
      ]
    },
    {
      "cell_type": "code",
      "execution_count": 8,
      "metadata": {
        "id": "6p2nMvmodNw4"
      },
      "outputs": [],
      "source": [
        "# Aura queries use an encrypted connection using the \"neo4j+s\" URI scheme\n",
        "uri = \"neo4j+s://a4270446.databases.neo4j.io\"\n",
        "user = \"neo4j\"\n",
        "password = \"Pn8T12EjCxRLRfaHClsJIaCFAdWcER4pEeIp4dRKyzg\"\n",
        "app = App(uri, user, password)"
      ]
    },
    {
      "cell_type": "markdown",
      "metadata": {
        "id": "v_PlujdPvtcN"
      },
      "source": [
        "Step-5: Create relations"
      ]
    },
    {
      "cell_type": "code",
      "execution_count": 9,
      "metadata": {
        "id": "aiKGLHItvp2g"
      },
      "outputs": [
        {
          "name": "stdout",
          "output_type": "stream",
          "text": [
            "Created friendship between: Experimentation Controller, Sandbox\n"
          ]
        }
      ],
      "source": [
        "app.create_friendship(\"Experimentation Controller\", \"Sandbox\")\n"
      ]
    },
    {
      "cell_type": "markdown",
      "metadata": {
        "id": "5VEb2wKlwakG"
      },
      "source": [
        "Step-6: Query actors"
      ]
    },
    {
      "cell_type": "code",
      "execution_count": 10,
      "metadata": {
        "colab": {
          "base_uri": "https://localhost:8080/"
        },
        "id": "QXv630w8wdEc",
        "outputId": "698d0962-200a-46d8-8e61-6928423579b5"
      },
      "outputs": [
        {
          "name": "stdout",
          "output_type": "stream",
          "text": [
            "Found actor: Experimentation Controller\n"
          ]
        }
      ],
      "source": [
        "app.find_actor(\"Experimentation Controller\")"
      ]
    },
    {
      "cell_type": "markdown",
      "metadata": {
        "id": "eBr7q13XvyeB"
      },
      "source": [
        "Step-6: Close the database connection"
      ]
    },
    {
      "cell_type": "code",
      "execution_count": null,
      "metadata": {
        "id": "J2ak5OTtvrLd"
      },
      "outputs": [],
      "source": [
        "app.close()"
      ]
    }
  ],
  "metadata": {
    "colab": {
      "authorship_tag": "ABX9TyM0m0MkY2iCtqBddm1XXaXP",
      "collapsed_sections": [],
      "include_colab_link": true,
      "name": "build-a-thon-graph-v1.ipynb",
      "provenance": []
    },
    "kernelspec": {
      "display_name": "Python 3",
      "name": "python3"
    },
    "language_info": {
      "codemirror_mode": {
        "name": "ipython",
        "version": 3
      },
      "file_extension": ".py",
      "mimetype": "text/x-python",
      "name": "python",
      "nbconvert_exporter": "python",
      "pygments_lexer": "ipython3",
      "version": "3.8.12"
    }
  },
  "nbformat": 4,
  "nbformat_minor": 0
}
