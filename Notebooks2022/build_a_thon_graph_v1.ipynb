{
  "cells": [
    {
      "cell_type": "markdown",
      "metadata": {
        "colab_type": "text",
        "id": "view-in-github"
      },
      "source": [
        "<a href=\"https://colab.research.google.com/github/vrra/FGAN-Build-a-thon-2022/blob/main/Notebooks2022/build_a_thon_graph_v1.ipynb\" target=\"_parent\"><img src=\"https://colab.research.google.com/assets/colab-badge.svg\" alt=\"Open In Colab\"/></a>"
      ]
    },
    {
      "cell_type": "markdown",
      "metadata": {},
      "source": [
        "## Build-a-thon 2022, Hoist the colors?"
      ]
    },
    {
      "cell_type": "code",
      "execution_count": null,
      "metadata": {
        "id": "S2lCDXuLveAV"
      },
      "outputs": [],
      "source": [
        "!git clone https://github.com/vrra/FGAN-Build-a-thon-2022.git /tmp/FGAN-Build-a-thon-2022"
      ]
    },
    {
      "cell_type": "code",
      "execution_count": null,
      "metadata": {
        "colab": {
          "base_uri": "https://localhost:8080/",
          "height": 298
        },
        "id": "KD4Roac3nWHm",
        "outputId": "e2e442f1-e194-4afa-a5a1-348b5ce04a55"
      },
      "outputs": [],
      "source": [
        "from IPython.display import Image\n",
        "Image(filename='/tmp/FGAN-Build-a-thon-2022/Banner/1920x1080-FG_AN-buildathon.png', width=500) \n"
      ]
    },
    {
      "cell_type": "code",
      "execution_count": null,
      "metadata": {},
      "outputs": [],
      "source": [
        "!rm -rf /tmp/FGAN-Build-a-thon-2022/"
      ]
    },
    {
      "cell_type": "markdown",
      "metadata": {
        "id": "RhHOWZlCnPDk"
      },
      "source": [
        "## Introduction"
      ]
    },
    {
      "cell_type": "markdown",
      "metadata": {
        "id": "xvVYTJnpc8NW"
      },
      "source": [
        "Created: 14 Apr 2022.   \n",
        "Author: Vishnu Ram OV.   \n",
        "vishnu.n@ieee.org.   \n",
        "Licence: available for all purposes under the sun  \n",
        "but with acknowledgement and citation to \"ITU FG AN Build-a-thon 2022\"\n"
      ]
    },
    {
      "cell_type": "markdown",
      "metadata": {
        "id": "TOxLkcQAfFsO"
      },
      "source": [
        "##References \n",
        "[1] Neo4j Docs, \"Creating an instance\", https://neo4j.com/docs/aura/auradb/getting-started/create-database/   \n",
        "[2] ITU-T Focus Group Autonomous Networks, \"Use cases for Autonomous Networks\", https://extranet.itu.int/sites/itu-t/focusgroups/an/output/FGAN-O-013-R1.docx  \n",
        "[3] Build-a-thon github, https://github.com/vrra/FGAN-Build-a-thon-2022"
      ]
    },
    {
      "cell_type": "markdown",
      "metadata": {},
      "source": [
        "## Prerequisite: \n",
        "create a free account at https://console.neo4j.io \n",
        "Follow steps at https://extranet.itu.int/sites/itu-t/focusgroups/an/input/FGAN-I-253.pdf  "
      ]
    },
    {
      "cell_type": "markdown",
      "metadata": {
        "id": "Seq4Lm-HdDJY"
      },
      "source": [
        "## step-1: install neo4j"
      ]
    },
    {
      "cell_type": "code",
      "execution_count": null,
      "metadata": {
        "colab": {
          "base_uri": "https://localhost:8080/"
        },
        "id": "hKFE_mBLcWJL",
        "outputId": "a83f3001-1e21-42ff-e147-6bd048b33363"
      },
      "outputs": [],
      "source": [
        "pip install neo4j"
      ]
    },
    {
      "cell_type": "markdown",
      "metadata": {
        "id": "P49wR7FPejI6"
      },
      "source": [
        "## step-2: imports and init"
      ]
    },
    {
      "cell_type": "code",
      "execution_count": null,
      "metadata": {
        "id": "CMXk5yZcd-Jt"
      },
      "outputs": [],
      "source": [
        "from neo4j import GraphDatabase\n",
        "import logging\n",
        "from neo4j.exceptions import ServiceUnavailable\n",
        "import os\n",
        "\n",
        "#Vishnu: 1 Jun 2022: use the details from https://console.neo4j.io\n",
        "#especially use your own DB instance and corresponding passwd.\n",
        "\n",
        "uri = os.environ.get('neo4j_uri')\n",
        "user = os.environ.get('neo4j_user')\n",
        "password = os.environ.get('neo4j_password')\n",
        "\n",
        "#CAUTION: mask the instance and passwd after assignment.\n",
        "#for demo purposes :)"
      ]
    },
    {
      "cell_type": "markdown",
      "metadata": {
        "id": "QJsfeO0Ve03C"
      },
      "source": [
        "## step-3: define helper class"
      ]
    },
    {
      "cell_type": "code",
      "execution_count": null,
      "metadata": {
        "id": "FccBUxEIeKf_"
      },
      "outputs": [],
      "source": [
        "\n",
        "\n",
        "class App:\n",
        "\n",
        "    def __init__(self, uri, user, password):\n",
        "        self.driver = GraphDatabase.driver(uri, auth=(user, password))\n",
        "\n",
        "    def close(self):\n",
        "        # Don't forget to close the driver connection when you are finished with it\n",
        "        self.driver.close()\n",
        "\n",
        "    #Vishnu: 1 Jun 2022: created this f() to create nodes with usecase label\n",
        "    #Vishnu: 2 Jun 2022: added- check if it already exists.\n",
        "    #Vishnu: 2 Jun 2022: added- check the label duplication, adds a label if it doesnt exist.\n",
        "    #otherwise ignores the command.\n",
        "    #uses _add_label_and_return_existing_node()\n",
        "    def create_node_with_label(self, actor_name, usecase_id):\n",
        "        with self.driver.session() as session:\n",
        "            # Write transactions allow the driver to handle retries and transient errors\n",
        "            node_already_exists = session.write_transaction(\n",
        "                self._find_and_return_existing_node, actor_name)\n",
        "            if not node_already_exists:  \n",
        "                result = session.write_transaction(\n",
        "                    self._create_and_return_node, actor_name, usecase_id)\n",
        "                for row in result:\n",
        "                    print(\"Created node: {n1}\".format(n1=row['n1']))\n",
        "            else:\n",
        "                for row in node_already_exists:\n",
        "                    print(\"Node already exists: {name} in {usecase}\".format(name=row['name'], \n",
        "                                                                 usecase=row['label']))\n",
        "                    if not any(usecase_id in s for s in row['label']):\n",
        "                      print(\"adding label \"+usecase_id+ \"...\")\n",
        "                      result = session.write_transaction(\n",
        "                                self._add_label_and_return_existing_node, actor_name, usecase_id)\n",
        "                    else:\n",
        "                      print(\"ignoring ...\")\n",
        "\n",
        "\n",
        "    #Vishnu: 2 Jun 2022: created this f() to query nodes and return with usecase label\n",
        "    @staticmethod\n",
        "    def _find_and_return_existing_node(tx, actor_name):\n",
        "        query = (\n",
        "            \"MATCH (n:Actor) \"\n",
        "            \"WHERE (n.name ='\" + actor_name + \"') \"\n",
        "            \"RETURN n.name as name, labels(n) as label\"\n",
        "        )\n",
        "        result = tx.run(query)\n",
        "        try:\n",
        "            return [{\"name\": row[\"name\"],\"label\": row[\"label\"]} \n",
        "                    for row in result]\n",
        "        # Capture any errors along with the query and data for traceability\n",
        "        except ServiceUnavailable as exception:\n",
        "            logging.error(\"{query} raised an error: \\n {exception}\".format(\n",
        "                query=query, exception=exception))\n",
        "            raise\n",
        "\n",
        "    @staticmethod\n",
        "    def _create_and_return_node(tx, actor_name, usecase_id):\n",
        "        # To learn more about the Cypher syntax, see https://neo4j.com/docs/cypher-manual/current/\n",
        "        # The Reference Card is also a good resource for keywords https://neo4j.com/docs/cypher-refcard/current/\n",
        "        query = (\n",
        "            \"CREATE (n1:Actor:\"+usecase_id+\"{ name: $actor_name }) \"\n",
        "            \"RETURN n1\"\n",
        "        )\n",
        "        result = tx.run(query, actor_name=actor_name)\n",
        "        try:\n",
        "            return [{\"n1\": row[\"n1\"][\"name\"]}\n",
        "                    for row in result]\n",
        "        # Capture any errors along with the query and data for traceability\n",
        "        except ServiceUnavailable as exception:\n",
        "            logging.error(\"{query} raised an error: \\n {exception}\".format(\n",
        "                query=query, exception=exception))\n",
        "            raise\n",
        "\n",
        "    #Vishnu: 1 Jun 2022: created this f() to add use case label to existing nodes \n",
        "    #CAUTION: does not check for duplication, use create_node_with_label instead.\n",
        "    def add_label_existing_node(self, actor_name, usecase_id):\n",
        "        with self.driver.session() as session:\n",
        "            # Write transactions allow the driver to handle retries and transient errors\n",
        "            result = session.write_transaction(\n",
        "                self._add_label_and_return_existing_node, actor_name, usecase_id)\n",
        "            \n",
        "            # we expect only 1 node. Do we need the for loop below?\n",
        "            for row in result:\n",
        "                print(\"added label to node: {n1}\".format(n1=row['n1']))\n",
        "\n",
        "    @staticmethod\n",
        "    def _add_label_and_return_existing_node(tx, actor_name, usecase_id):\n",
        "        # To learn more about the Cypher syntax, see https://neo4j.com/docs/cypher-manual/current/\n",
        "        # The Reference Card is also a good resource for keywords https://neo4j.com/docs/cypher-refcard/current/\n",
        "        query = (\n",
        "            \"MATCH \"\n",
        "            \"(n1:Actor) \"\n",
        "            \"WHERE n1.name = '\" + actor_name +\"' \"\n",
        "            \"set n1 :\"+usecase_id +\" \"\n",
        "            \"return n1\"\n",
        "        )\n",
        "        result = tx.run(query, actor_name=actor_name)\n",
        "        try:\n",
        "            return [{\"n1\": row[\"n1\"][\"name\"]}\n",
        "                    for row in result]\n",
        "        # Capture any errors along with the query and data for traceability\n",
        "        except ServiceUnavailable as exception:\n",
        "            logging.error(\"{query} raised an error: \\n {exception}\".format(\n",
        "                query=query, exception=exception))\n",
        "            raise\n",
        "\n",
        "    #Vishnu: 1 Jun 2022: created this f() to create relation between 2 existing nodes\n",
        "    def create_rel_with_type_existing_nodes(self, actor1_name, rel_type, actor2_name):\n",
        "        with self.driver.session() as session:\n",
        "            # Write transactions allow the driver to handle retries and transient errors\n",
        "            result = session.write_transaction(\n",
        "                self._create_and_return_rel_with_type_existing_nodes, rel_type, actor1_name, actor2_name)\n",
        "            for row in result:\n",
        "                print(\"Created relation between: {n1}, {n2}\".format(n1=row['n1'], n2=row['n2']))\n",
        "\n",
        "    @staticmethod\n",
        "    def _create_and_return_rel_with_type_existing_nodes(tx, rel_type, actor1_name, actor2_name):\n",
        "        # To learn more about the Cypher syntax, see https://neo4j.com/docs/cypher-manual/current/\n",
        "        # The Reference Card is also a good resource for keywords https://neo4j.com/docs/cypher-refcard/current/\n",
        "        query = (\n",
        "            \"MATCH \"\n",
        "            \"(n1:Actor), \"\n",
        "            \"(n2:Actor) \"\n",
        "            \"WHERE n1.name = '\" + actor1_name + \"' AND n2.name = '\"+actor2_name+\"' \"\n",
        "            \"CREATE (n1)-[r:\" +rel_type+ \"]->(n2) \"\n",
        "            \"RETURN n1, n2\"\n",
        "        )\n",
        "        result = tx.run(query)\n",
        "        try:\n",
        "            return [{\"n1\": row[\"n1\"][\"name\"], \"n2\": row[\"n2\"][\"name\"]}\n",
        "                    for row in result]\n",
        "        # Capture any errors along with the query and data for traceability\n",
        "        except ServiceUnavailable as exception:\n",
        "            logging.error(\"{query} raised an error: \\n {exception}\".format(\n",
        "                query=query, exception=exception))\n",
        "            raise\n",
        "\n",
        "    #Vishnu: 1 Jun 2022: added relationships names\n",
        "    #Vishnu: CAUTION: side-effect: this f() creates the nodes too.\n",
        "    #NOTE: we use labels and properties for nodes\n",
        "    #NOTE: we use relationtypes only (vs. properties or names or something)\n",
        "    #NOTE: usecase id is just a string (vs. a list of properties or something)\n",
        "    #TBD - to search for existing nodes and reuse them.\n",
        "    #TBD - add properties to relationships\n",
        "    def create_nodes_with_friendship(self, actor1_name, actor2_name, rel_type, usecase_id):\n",
        "        with self.driver.session() as session:\n",
        "            # Write transactions allow the driver to handle retries and transient errors\n",
        "            result = session.write_transaction(\n",
        "                self._create_and_return_friendship, actor1_name, actor2_name, rel_type, usecase_id)\n",
        "            for row in result:\n",
        "                print(\"Created friendship between: {n1}, {n2}\".format(n1=row['n1'], n2=row['n2']))\n",
        "    \n",
        "    @staticmethod\n",
        "    def _create_and_return_friendship(tx, actor1_name, actor2_name, rel_type, usecase_id):\n",
        "        # To learn more about the Cypher syntax, see https://neo4j.com/docs/cypher-manual/current/\n",
        "        # The Reference Card is also a good resource for keywords https://neo4j.com/docs/cypher-refcard/current/\n",
        "        query = (\n",
        "            \"CREATE (n1:Actor:\"+usecase_id+\"{ name: $actor1_name }) \"\n",
        "            \"CREATE (n2:Actor:\"+usecase_id+\"{ name: $actor2_name }) \"\n",
        "            \"CREATE (n1)-[:\" + rel_type + \"]->(n2) \"\n",
        "            \"RETURN n1, n2\"\n",
        "        )\n",
        "        result = tx.run(query, actor1_name=actor1_name, actor2_name=actor2_name)\n",
        "        try:\n",
        "            return [{\"n1\": row[\"n1\"][\"name\"], \"n2\": row[\"n2\"][\"name\"]}\n",
        "                    for row in result]\n",
        "        # Capture any errors along with the query and data for traceability\n",
        "        except ServiceUnavailable as exception:\n",
        "            logging.error(\"{query} raised an error: \\n {exception}\".format(\n",
        "                query=query, exception=exception))\n",
        "            raise\n",
        "\n",
        "    #Vishnu: 1 Jun 2022: created this f() to list all nodes with usecase label\n",
        "    def find_all_usecase_actors(self, usecase_id):\n",
        "        with self.driver.session() as session:\n",
        "            result = session.read_transaction(self._find_and_return_all_usecase_actors, usecase_id)\n",
        "            i=0\n",
        "            for row in result:\n",
        "                i=i+1\n",
        "                print(\"Found actor-\"+ str(i) +\": {row}\".format(row=row))\n",
        "\n",
        "    @staticmethod\n",
        "    def _find_and_return_all_usecase_actors(tx, usecase_id):\n",
        "        query = (\n",
        "            \"MATCH (n:Actor:\"+usecase_id+\") \"\n",
        "            \"RETURN n.name AS name\"\n",
        "        )\n",
        "        result = tx.run(query)\n",
        "        return [row[\"name\"] for row in result]"
      ]
    },
    {
      "cell_type": "markdown",
      "metadata": {
        "id": "Pjilh9vPe4LY"
      },
      "source": [
        "## step-4: instantiate the helper class to DB. \n",
        "CAUTION: this uses the username/passwd assigned already in step-2 above."
      ]
    },
    {
      "cell_type": "code",
      "execution_count": null,
      "metadata": {
        "id": "6p2nMvmodNw4"
      },
      "outputs": [],
      "source": [
        "app = App(uri, user, password)"
      ]
    },
    {
      "cell_type": "markdown",
      "metadata": {
        "id": "W4siCdsInsxH"
      },
      "source": [
        "## Examples"
      ]
    },
    {
      "cell_type": "markdown",
      "metadata": {
        "id": "v_PlujdPvtcN"
      },
      "source": [
        "### Example-1: Create individual nodes with labels"
      ]
    },
    {
      "cell_type": "code",
      "execution_count": null,
      "metadata": {
        "id": "aiKGLHItvp2g"
      },
      "outputs": [],
      "source": [
        "app.create_node_with_label(\"Experimentation Controller\", \"usecase_001\")\n",
        "app.create_node_with_label(\"Sandbox\", \"usecase_001\")\n"
      ]
    },
    {
      "cell_type": "markdown",
      "metadata": {
        "id": "IlzAm-ApdU_t"
      },
      "source": [
        "### Example-1a: try to create duplicate node under different use case"
      ]
    },
    {
      "cell_type": "code",
      "execution_count": null,
      "metadata": {
        "id": "5PMotSRCdRdZ"
      },
      "outputs": [],
      "source": [
        "app.create_node_with_label(\"Sandbox\", \"usecase_003\")\n"
      ]
    },
    {
      "cell_type": "markdown",
      "metadata": {
        "id": "0DR2Zu-rQr-9"
      },
      "source": [
        "### Example-2: Create relation between 2 existing nodes"
      ]
    },
    {
      "cell_type": "code",
      "execution_count": null,
      "metadata": {
        "id": "9FZGjCA0DmXT"
      },
      "outputs": [],
      "source": [
        "app.create_rel_with_type_existing_nodes(\"Experimentation Controller\", \"my_best_buddy\", \"Sandbox\")\n"
      ]
    },
    {
      "cell_type": "markdown",
      "metadata": {
        "id": "R1K3tcccQyxj"
      },
      "source": [
        "### Example-3: add a use case label to existing node"
      ]
    },
    {
      "cell_type": "code",
      "execution_count": null,
      "metadata": {
        "id": "EZjZmOquOxK2"
      },
      "outputs": [],
      "source": [
        "app.add_label_existing_node(\"Experimentation Controller\", \"usecase_002\")"
      ]
    },
    {
      "cell_type": "markdown",
      "metadata": {
        "id": "5VEb2wKlwakG"
      },
      "source": [
        "### Example-4: Find all nodes with a use case label"
      ]
    },
    {
      "cell_type": "code",
      "execution_count": null,
      "metadata": {
        "id": "QXv630w8wdEc"
      },
      "outputs": [],
      "source": [
        "app.find_all_usecase_actors(\"usecase_001\")"
      ]
    },
    {
      "cell_type": "code",
      "execution_count": null,
      "metadata": {
        "id": "XjfqC7ywQK4x"
      },
      "outputs": [],
      "source": [
        "app.find_all_usecase_actors(\"usecase_002\")"
      ]
    },
    {
      "cell_type": "markdown",
      "metadata": {
        "id": "spwwNfDnSDsf"
      },
      "source": [
        "CAUTION: Remember to clean up the DB before executing the next steps. (so that all examples above are not leftover in the use case data below)."
      ]
    },
    {
      "cell_type": "markdown",
      "metadata": {
        "id": "xE5HNPHcoSYr"
      },
      "source": [
        "\n",
        "\n",
        "---\n",
        "\n"
      ]
    },
    {
      "cell_type": "markdown",
      "metadata": {
        "id": "Onme80CYn8O7"
      },
      "source": [
        "## USECASES"
      ]
    },
    {
      "cell_type": "markdown",
      "metadata": {
        "id": "2NKgB7ZSRqXL"
      },
      "source": [
        "### FG-AN-USECASE-001"
      ]
    },
    {
      "cell_type": "code",
      "execution_count": null,
      "metadata": {
        "id": "g3-zNw1qR--U"
      },
      "outputs": [],
      "source": [
        "app.create_node_with_label(\"Knowledge Base\", \"usecase_001\")\n",
        "app.create_node_with_label(\"Knowledge Base Manager\", \"usecase_001\")\n",
        "app.create_node_with_label(\"AN Orchestrator\", \"usecase_001\")\n",
        "app.create_node_with_label(\"Use case description\", \"usecase_001\")\n",
        "app.create_node_with_label(\"TOSCA format\", \"usecase_001\")\n",
        "app.create_node_with_label(\"Auto controller generator\", \"usecase_001\")\n",
        "app.create_node_with_label(\"controller repository\", \"usecase_001\")\n",
        "app.create_node_with_label(\"controllers\", \"usecase_001\")\n",
        "app.create_node_with_label(\"ML model\", \"usecase_001\")\n",
        "app.create_node_with_label(\"Human operator\", \"usecase_001\")\n",
        "app.create_node_with_label(\"reports\", \"usecase_001\")\n",
        "\n"
      ]
    },
    {
      "cell_type": "code",
      "execution_count": null,
      "metadata": {
        "id": "w6w8dt-QUUX8"
      },
      "outputs": [],
      "source": [
        "app.create_rel_with_type_existing_nodes(\"Knowledge Base\", \"import\", \"Knowledge Base\")\n",
        "app.create_rel_with_type_existing_nodes(\"Knowledge Base\", \"export\", \"Knowledge Base\")\n",
        "\n",
        "app.create_rel_with_type_existing_nodes(\"Knowledge Base Manager\", \"optimizes\", \"Knowledge Base\")\n",
        "app.create_rel_with_type_existing_nodes(\"Knowledge Base Manager\", \"export\", \"Knowledge Base\")\n",
        "\n",
        "app.create_rel_with_type_existing_nodes(\"AN Orchestrator\", \"refer\", \"Knowledge Base\")\n",
        "app.create_rel_with_type_existing_nodes(\"AN Orchestrator\", \"input\", \"Use case description\")\n",
        "app.create_rel_with_type_existing_nodes(\"AN Orchestrator\", \"output\", \"TOSCA format\")\n",
        "\n",
        "app.create_rel_with_type_existing_nodes(\"Auto controller generator\", \"refer\", \"Knowledge Base\")\n",
        "app.create_rel_with_type_existing_nodes(\"Auto controller generator\", \"output\", \"TOSCA format\")\n",
        "\n",
        "app.create_rel_with_type_existing_nodes(\"controller repository\", \"stores\", \"controllers\")\n",
        "app.create_rel_with_type_existing_nodes(\"ML model\", \"recommends\", \"controllers\")\n",
        "\n",
        "app.create_rel_with_type_existing_nodes(\"Human operator\", \"input\", \"reports\")\n",
        "app.create_rel_with_type_existing_nodes(\"Human operator\", \"monitors\", \"reports\")\n",
        "\n",
        "\n",
        "\n"
      ]
    },
    {
      "cell_type": "markdown",
      "metadata": {
        "id": "PZp-UEPFu194"
      },
      "source": [
        "NOTE- verify atleast the actors.   \n",
        "Also verify from the console of neo4j"
      ]
    },
    {
      "cell_type": "code",
      "execution_count": null,
      "metadata": {
        "id": "dD7NR950Ry-N"
      },
      "outputs": [],
      "source": [
        "app.find_all_usecase_actors(\"usecase_001\")"
      ]
    },
    {
      "cell_type": "markdown",
      "metadata": {
        "id": "xAXqmO5Bu_ki"
      },
      "source": [
        "###FG-AN-USECASE-002\n"
      ]
    },
    {
      "cell_type": "markdown",
      "metadata": {
        "id": "pyDqgvFSDvkp"
      },
      "source": [
        "NOTE- in case of duplicate actors, only the use case label will be added.  \n",
        "So, to help search based on use case label, make sure to add the actor, even if there is duplication among use cases."
      ]
    },
    {
      "cell_type": "code",
      "execution_count": null,
      "metadata": {
        "id": "IoJAMw2DvEj0"
      },
      "outputs": [],
      "source": [
        "app.create_node_with_label(\"Experimentation controller\", \"usecase_002\")\n",
        "app.create_node_with_label(\"scenarios for experimentation\", \"usecase_002\")\n",
        "app.create_node_with_label(\"AN sandbox\", \"usecase_002\")\n",
        "app.create_node_with_label(\"simulators\", \"usecase_002\")\n",
        "app.create_node_with_label(\"reports\", \"usecase_002\")\n",
        "app.create_node_with_label(\"experiments\", \"usecase_002\")\n",
        "app.create_node_with_label(\"Knowledge Base\", \"usecase_002\")\n",
        "\n"
      ]
    },
    {
      "cell_type": "code",
      "execution_count": null,
      "metadata": {
        "id": "hIFRfkDQzZhz"
      },
      "outputs": [],
      "source": [
        "app.create_rel_with_type_existing_nodes(\"Experimentation controller\", \"decides\", \n",
        "                                        \"scenarios for experimentation\")\n",
        "\n",
        "app.create_rel_with_type_existing_nodes(\"AN sandbox\", \"hosts\", \n",
        "                                        \"simulators\")\n",
        "app.create_rel_with_type_existing_nodes(\"AN sandbox\", \"manages\", \n",
        "                                        \"simulators\")\n",
        "app.create_rel_with_type_existing_nodes(\"AN sandbox\", \"output\", \n",
        "                                        \"reports\")\n",
        "\n",
        "app.create_rel_with_type_existing_nodes(\"Experimentation controller\", \"triggers\", \n",
        "                                        \"experiments\")\n",
        "app.create_rel_with_type_existing_nodes(\"Experimentation controller\", \"output\", \n",
        "                                        \"reports\")\n",
        "app.create_rel_with_type_existing_nodes(\"Experimentation controller\", \"executes\", \n",
        "                                        \"experiments\")\n",
        "app.create_rel_with_type_existing_nodes(\"Experimentation controller\", \"monitors\", \n",
        "                                        \"experiments\")\n",
        "app.create_rel_with_type_existing_nodes(\"Experimentation controller\", \"uses\", \n",
        "                                        \"AN sandbox\")\n",
        "app.create_rel_with_type_existing_nodes(\"Experimentation controller\", \"updates\", \n",
        "                                        \"Knowledge Base\")\n",
        "\n",
        "app.create_rel_with_type_existing_nodes(\"experiments\", \"has\", \n",
        "                                        \"scenarios for experimentation\")"
      ]
    },
    {
      "cell_type": "code",
      "execution_count": null,
      "metadata": {
        "id": "kESuu7StzBZC"
      },
      "outputs": [],
      "source": [
        "app.find_all_usecase_actors(\"usecase_002\")"
      ]
    },
    {
      "cell_type": "markdown",
      "metadata": {
        "id": "kYop_NWy2upE"
      },
      "source": [
        "###FG-AN-USECASE-003\n"
      ]
    },
    {
      "cell_type": "code",
      "execution_count": null,
      "metadata": {
        "id": "HRpliynu2v-x"
      },
      "outputs": [],
      "source": [
        "app.create_node_with_label(\"AN Orchestrator\", \"usecase_003\")\n",
        "app.create_node_with_label(\"Human operator\", \"usecase_003\")\n",
        "app.create_node_with_label(\"feedback\", \"usecase_003\")\n",
        "app.create_node_with_label(\"Knowledge Base\", \"usecase_003\")\n",
        "app.create_node_with_label(\"AN components\", \"usecase_003\")\n"
      ]
    },
    {
      "cell_type": "code",
      "execution_count": null,
      "metadata": {
        "id": "ZlYgiEEd5W4L"
      },
      "outputs": [],
      "source": [
        "app.create_rel_with_type_existing_nodes(\"AN Orchestrator\", \"queries\", \n",
        "                                        \"AN Orchestrator\")\n",
        "app.create_rel_with_type_existing_nodes(\"AN Orchestrator\", \"queries\", \n",
        "                                        \"Human operator\")\n",
        "app.create_rel_with_type_existing_nodes(\"AN Orchestrator\", \"accept\", \n",
        "                                        \"feedback\")\n",
        "app.create_rel_with_type_existing_nodes(\"AN Orchestrator\", \"configures\", \n",
        "                                        \"AN components\")\n",
        "app.create_rel_with_type_existing_nodes(\"AN Orchestrator\", \"updates\", \n",
        "                                        \"Knowledge Base\")\n"
      ]
    },
    {
      "cell_type": "markdown",
      "metadata": {
        "id": "_niHmj2zA-8o"
      },
      "source": [
        "###FG-AN-USECASE-004\n"
      ]
    },
    {
      "cell_type": "code",
      "execution_count": null,
      "metadata": {
        "id": "vtN4lneABHTa"
      },
      "outputs": [],
      "source": [
        "app.create_node_with_label(\"Adaptation controller\", \"usecase_004\")\n",
        "app.create_node_with_label(\"controllers\", \"usecase_004\")\n",
        "app.create_node_with_label(\"controller repository\", \"usecase_004\")\n",
        "app.create_node_with_label(\"Knowledge Base\", \"usecase_004\")\n",
        "\n"
      ]
    },
    {
      "cell_type": "code",
      "execution_count": null,
      "metadata": {
        "id": "ks473AsjKtw0"
      },
      "outputs": [],
      "source": [
        "app.create_rel_with_type_existing_nodes(\"AN Orchestrator\", \"queries\", \n",
        "                                        \"AN Orchestrator\")"
      ]
    },
    {
      "cell_type": "markdown",
      "metadata": {
        "id": "y4gZH6d2oNMD"
      },
      "source": [
        "\n",
        "\n",
        "---\n",
        "\n"
      ]
    },
    {
      "cell_type": "markdown",
      "metadata": {
        "id": "eBr7q13XvyeB"
      },
      "source": [
        "Step-5: Close the database connection"
      ]
    },
    {
      "cell_type": "code",
      "execution_count": null,
      "metadata": {
        "id": "J2ak5OTtvrLd"
      },
      "outputs": [],
      "source": [
        "app.close()"
      ]
    },
    {
      "cell_type": "markdown",
      "metadata": {
        "id": "_CeqehVSoN5P"
      },
      "source": []
    }
  ],
  "metadata": {
    "colab": {
      "authorship_tag": "ABX9TyMfoUUUlANqe1pLt2gRa7nw",
      "collapsed_sections": [],
      "include_colab_link": true,
      "name": "build-a-thon-graph-v1.ipynb",
      "provenance": [],
      "toc_visible": true
    },
    "interpreter": {
      "hash": "59112f1abec8676be8d8e5b557dd5f2474aba6f718d70c26d8ed3f852164eaa0"
    },
    "kernelspec": {
      "display_name": "Python 3.8.12 ('myenv38')",
      "language": "python",
      "name": "python3"
    },
    "language_info": {
      "codemirror_mode": {
        "name": "ipython",
        "version": 3
      },
      "file_extension": ".py",
      "mimetype": "text/x-python",
      "name": "python",
      "nbconvert_exporter": "python",
      "pygments_lexer": "ipython3",
      "version": "3.8.12"
    }
  },
  "nbformat": 4,
  "nbformat_minor": 0
}
