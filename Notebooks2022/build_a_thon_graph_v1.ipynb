{
  "cells": [
    {
      "cell_type": "markdown",
      "metadata": {},
      "source": [
        "[![Open In Colab](https://colab.research.google.com/assets/colab-badge.svg)](https://colab.research.google.com/github/vrra/FGAN-Build-a-thon-2022/blob/main/Notebooks2022/build_a_thon_graph_v1.ipynb)"
      ]
    },
    {
      "cell_type": "markdown",
      "metadata": {},
      "source": [
        "## Build-a-thon 2022, Hoist the colors?\n",
        "v1.0 release on 24 Aug 2022\n",
        "Metrics: 335 nodes, 595 relations"
      ]
    },
    {
      "cell_type": "code",
      "execution_count": null,
      "metadata": {
        "id": "S2lCDXuLveAV"
      },
      "outputs": [],
      "source": [
        "!rm -rf /tmp/FGAN-Build-a-thon-2022/\n",
        "!git clone https://github.com/vrra/FGAN-Build-a-thon-2022.git /tmp/FGAN-Build-a-thon-2022\n"
      ]
    },
    {
      "cell_type": "code",
      "execution_count": 1,
      "metadata": {
        "colab": {
          "base_uri": "https://localhost:8080/",
          "height": 298
        },
        "id": "KD4Roac3nWHm",
        "outputId": "e2e442f1-e194-4afa-a5a1-348b5ce04a55"
      },
      "outputs": [
        {
          "ename": "FileNotFoundError",
          "evalue": "[Errno 2] No such file or directory: '/tmp/FGAN-Build-a-thon-2022/Banner/1920x1080-FG_AN-buildathon_Sep02-01.png'",
          "output_type": "error",
          "traceback": [
            "\u001b[0;31m---------------------------------------------------------------------------\u001b[0m",
            "\u001b[0;31mFileNotFoundError\u001b[0m                         Traceback (most recent call last)",
            "\u001b[1;32m/Users/vishnu/Desktop/TDs/1.Code.VSC/FGAN-Build-a-thon-2022/Notebooks2022/build_a_thon_graph_v1.ipynb Cell 4\u001b[0m in \u001b[0;36m<cell line: 2>\u001b[0;34m()\u001b[0m\n\u001b[1;32m      <a href='vscode-notebook-cell:/Users/vishnu/Desktop/TDs/1.Code.VSC/FGAN-Build-a-thon-2022/Notebooks2022/build_a_thon_graph_v1.ipynb#W3sZmlsZQ%3D%3D?line=0'>1</a>\u001b[0m \u001b[39mfrom\u001b[39;00m \u001b[39mIPython\u001b[39;00m\u001b[39m.\u001b[39;00m\u001b[39mdisplay\u001b[39;00m \u001b[39mimport\u001b[39;00m Image\n\u001b[0;32m----> <a href='vscode-notebook-cell:/Users/vishnu/Desktop/TDs/1.Code.VSC/FGAN-Build-a-thon-2022/Notebooks2022/build_a_thon_graph_v1.ipynb#W3sZmlsZQ%3D%3D?line=1'>2</a>\u001b[0m Image(filename\u001b[39m=\u001b[39;49m\u001b[39m'\u001b[39;49m\u001b[39m/tmp/FGAN-Build-a-thon-2022/Banner/1920x1080-FG_AN-buildathon_Sep02-01.png\u001b[39;49m\u001b[39m'\u001b[39;49m, width\u001b[39m=\u001b[39;49m\u001b[39m500\u001b[39;49m)\n",
            "File \u001b[0;32m/opt/homebrew/Caskroom/miniforge/base/envs/myenv38b/lib/python3.8/site-packages/IPython/core/display.py:957\u001b[0m, in \u001b[0;36mImage.__init__\u001b[0;34m(self, data, url, filename, format, embed, width, height, retina, unconfined, metadata, alt)\u001b[0m\n\u001b[1;32m    955\u001b[0m \u001b[39mself\u001b[39m\u001b[39m.\u001b[39munconfined \u001b[39m=\u001b[39m unconfined\n\u001b[1;32m    956\u001b[0m \u001b[39mself\u001b[39m\u001b[39m.\u001b[39malt \u001b[39m=\u001b[39m alt\n\u001b[0;32m--> 957\u001b[0m \u001b[39msuper\u001b[39;49m(Image, \u001b[39mself\u001b[39;49m)\u001b[39m.\u001b[39;49m\u001b[39m__init__\u001b[39;49m(data\u001b[39m=\u001b[39;49mdata, url\u001b[39m=\u001b[39;49murl, filename\u001b[39m=\u001b[39;49mfilename,\n\u001b[1;32m    958\u001b[0m         metadata\u001b[39m=\u001b[39;49mmetadata)\n\u001b[1;32m    960\u001b[0m \u001b[39mif\u001b[39;00m \u001b[39mself\u001b[39m\u001b[39m.\u001b[39mwidth \u001b[39mis\u001b[39;00m \u001b[39mNone\u001b[39;00m \u001b[39mand\u001b[39;00m \u001b[39mself\u001b[39m\u001b[39m.\u001b[39mmetadata\u001b[39m.\u001b[39mget(\u001b[39m'\u001b[39m\u001b[39mwidth\u001b[39m\u001b[39m'\u001b[39m, {}):\n\u001b[1;32m    961\u001b[0m     \u001b[39mself\u001b[39m\u001b[39m.\u001b[39mwidth \u001b[39m=\u001b[39m metadata[\u001b[39m'\u001b[39m\u001b[39mwidth\u001b[39m\u001b[39m'\u001b[39m]\n",
            "File \u001b[0;32m/opt/homebrew/Caskroom/miniforge/base/envs/myenv38b/lib/python3.8/site-packages/IPython/core/display.py:327\u001b[0m, in \u001b[0;36mDisplayObject.__init__\u001b[0;34m(self, data, url, filename, metadata)\u001b[0m\n\u001b[1;32m    324\u001b[0m \u001b[39melif\u001b[39;00m \u001b[39mself\u001b[39m\u001b[39m.\u001b[39mmetadata \u001b[39mis\u001b[39;00m \u001b[39mNone\u001b[39;00m:\n\u001b[1;32m    325\u001b[0m     \u001b[39mself\u001b[39m\u001b[39m.\u001b[39mmetadata \u001b[39m=\u001b[39m {}\n\u001b[0;32m--> 327\u001b[0m \u001b[39mself\u001b[39;49m\u001b[39m.\u001b[39;49mreload()\n\u001b[1;32m    328\u001b[0m \u001b[39mself\u001b[39m\u001b[39m.\u001b[39m_check_data()\n",
            "File \u001b[0;32m/opt/homebrew/Caskroom/miniforge/base/envs/myenv38b/lib/python3.8/site-packages/IPython/core/display.py:992\u001b[0m, in \u001b[0;36mImage.reload\u001b[0;34m(self)\u001b[0m\n\u001b[1;32m    990\u001b[0m \u001b[39m\"\"\"Reload the raw data from file or URL.\"\"\"\u001b[39;00m\n\u001b[1;32m    991\u001b[0m \u001b[39mif\u001b[39;00m \u001b[39mself\u001b[39m\u001b[39m.\u001b[39membed:\n\u001b[0;32m--> 992\u001b[0m     \u001b[39msuper\u001b[39;49m(Image,\u001b[39mself\u001b[39;49m)\u001b[39m.\u001b[39;49mreload()\n\u001b[1;32m    993\u001b[0m     \u001b[39mif\u001b[39;00m \u001b[39mself\u001b[39m\u001b[39m.\u001b[39mretina:\n\u001b[1;32m    994\u001b[0m         \u001b[39mself\u001b[39m\u001b[39m.\u001b[39m_retina_shape()\n",
            "File \u001b[0;32m/opt/homebrew/Caskroom/miniforge/base/envs/myenv38b/lib/python3.8/site-packages/IPython/core/display.py:353\u001b[0m, in \u001b[0;36mDisplayObject.reload\u001b[0;34m(self)\u001b[0m\n\u001b[1;32m    351\u001b[0m \u001b[39mif\u001b[39;00m \u001b[39mself\u001b[39m\u001b[39m.\u001b[39mfilename \u001b[39mis\u001b[39;00m \u001b[39mnot\u001b[39;00m \u001b[39mNone\u001b[39;00m:\n\u001b[1;32m    352\u001b[0m     encoding \u001b[39m=\u001b[39m \u001b[39mNone\u001b[39;00m \u001b[39mif\u001b[39;00m \u001b[39m\"\u001b[39m\u001b[39mb\u001b[39m\u001b[39m\"\u001b[39m \u001b[39min\u001b[39;00m \u001b[39mself\u001b[39m\u001b[39m.\u001b[39m_read_flags \u001b[39melse\u001b[39;00m \u001b[39m\"\u001b[39m\u001b[39mutf-8\u001b[39m\u001b[39m\"\u001b[39m\n\u001b[0;32m--> 353\u001b[0m     \u001b[39mwith\u001b[39;00m \u001b[39mopen\u001b[39;49m(\u001b[39mself\u001b[39;49m\u001b[39m.\u001b[39;49mfilename, \u001b[39mself\u001b[39;49m\u001b[39m.\u001b[39;49m_read_flags, encoding\u001b[39m=\u001b[39;49mencoding) \u001b[39mas\u001b[39;00m f:\n\u001b[1;32m    354\u001b[0m         \u001b[39mself\u001b[39m\u001b[39m.\u001b[39mdata \u001b[39m=\u001b[39m f\u001b[39m.\u001b[39mread()\n\u001b[1;32m    355\u001b[0m \u001b[39melif\u001b[39;00m \u001b[39mself\u001b[39m\u001b[39m.\u001b[39murl \u001b[39mis\u001b[39;00m \u001b[39mnot\u001b[39;00m \u001b[39mNone\u001b[39;00m:\n\u001b[1;32m    356\u001b[0m     \u001b[39m# Deferred import\u001b[39;00m\n",
            "\u001b[0;31mFileNotFoundError\u001b[0m: [Errno 2] No such file or directory: '/tmp/FGAN-Build-a-thon-2022/Banner/1920x1080-FG_AN-buildathon_Sep02-01.png'"
          ]
        }
      ],
      "source": [
        "from IPython.display import Image\n",
        "Image(filename='/tmp/FGAN-Build-a-thon-2022/Banner/1920x1080-FG_AN-buildathon_Sep02-01.png', width=500) \n"
      ]
    },
    {
      "cell_type": "code",
      "execution_count": null,
      "metadata": {},
      "outputs": [],
      "source": [
        "!rm -rf /tmp/FGAN-Build-a-thon-2022/"
      ]
    },
    {
      "cell_type": "markdown",
      "metadata": {
        "id": "RhHOWZlCnPDk"
      },
      "source": [
        "## Introduction"
      ]
    },
    {
      "cell_type": "markdown",
      "metadata": {
        "id": "xvVYTJnpc8NW"
      },
      "source": [
        "Created: 14 Apr 2022.   \n",
        "Author: Vishnu Ram OV.   \n",
        "vishnu.n@ieee.org.   \n",
        "Licence: available for all purposes under the sun  \n",
        "but with acknowledgement and citation to \"ITU FG AN Build-a-thon 2022\"\n"
      ]
    },
    {
      "cell_type": "markdown",
      "metadata": {
        "id": "TOxLkcQAfFsO"
      },
      "source": [
        "## References \n",
        "[1] Neo4j Docs, \"Creating an instance\", https://neo4j.com/docs/aura/auradb/getting-started/create-database/   \n",
        "[2] ITU-T Focus Group Autonomous Networks, \"Use cases for Autonomous Networks\", https://extranet.itu.int/sites/itu-t/focusgroups/an/output/FGAN-O-013-R1.docx  \n",
        "[3] Build-a-thon github, https://github.com/vrra/FGAN-Build-a-thon-2022"
      ]
    },
    {
      "cell_type": "markdown",
      "metadata": {},
      "source": [
        "## Prerequisite: \n",
        "create a free account at https://console.neo4j.io  \n",
        "Follow steps at https://extranet.itu.int/sites/itu-t/focusgroups/an/input/FGAN-I-253.pdf  \n",
        "\n",
        "\n",
        "## General cautions\n",
        "Property names have strict conventions and rules in neo4j (apparently)"
      ]
    },
    {
      "cell_type": "markdown",
      "metadata": {},
      "source": [
        "### For Colab users:\n",
        "\n",
        "If you are using colab, add your credentials here and uncomment these  \n",
        "and skip to step-1 below."
      ]
    },
    {
      "cell_type": "code",
      "execution_count": null,
      "metadata": {},
      "outputs": [],
      "source": [
        "#uri = \"your uri from console.neo4j.io\"  \n",
        "#user = \"your username from console.neo4j.io\"  \n",
        "#password = \"your passwd from console.neo4j.io\"  "
      ]
    },
    {
      "cell_type": "markdown",
      "metadata": {},
      "source": [
        "### For non-colab users:\n",
        "Create a local file .env with   \n",
        "neo4j_uri=\"your uri from console.neo4j.io\"  \n",
        "neo4j_user=\"your username from console.neo4j.io\"  \n",
        "neo4j_password=\"your passwd from console.neo4j.io\"  "
      ]
    },
    {
      "cell_type": "markdown",
      "metadata": {},
      "source": [
        "#### Read the neo4j URI, username, passwd\n"
      ]
    },
    {
      "cell_type": "code",
      "execution_count": 2,
      "metadata": {},
      "outputs": [
        {
          "name": "stdout",
          "output_type": "stream",
          "text": [
            "Requirement already satisfied: python-dotenv in /opt/homebrew/Caskroom/miniforge/base/envs/myenv38b/lib/python3.8/site-packages (0.20.0)\n",
            "Note: you may need to restart the kernel to use updated packages.\n"
          ]
        },
        {
          "data": {
            "text/plain": [
              "True"
            ]
          },
          "execution_count": 2,
          "metadata": {},
          "output_type": "execute_result"
        }
      ],
      "source": [
        "import os\n",
        "%pip install python-dotenv\n",
        "from dotenv import load_dotenv\n",
        "load_dotenv()"
      ]
    },
    {
      "cell_type": "code",
      "execution_count": 3,
      "metadata": {},
      "outputs": [],
      "source": [
        "\n",
        "#Vishnu: 1 Jun 2022: use the details from https://console.neo4j.io\n",
        "#especially use your own DB instance and corresponding passwd.\n",
        "#if you dont have a .env file, replace here with your credentials.\n",
        "\n",
        "uri = os.getenv('neo4j_uri')\n",
        "user = os.getenv('neo4j_user')\n",
        "password = os.getenv('neo4j_password')"
      ]
    },
    {
      "cell_type": "markdown",
      "metadata": {
        "id": "Seq4Lm-HdDJY"
      },
      "source": [
        "## step-1: install neo4j"
      ]
    },
    {
      "cell_type": "code",
      "execution_count": 4,
      "metadata": {
        "colab": {
          "base_uri": "https://localhost:8080/"
        },
        "id": "hKFE_mBLcWJL",
        "outputId": "a83f3001-1e21-42ff-e147-6bd048b33363"
      },
      "outputs": [
        {
          "name": "stdout",
          "output_type": "stream",
          "text": [
            "Requirement already satisfied: neo4j in /opt/homebrew/Caskroom/miniforge/base/envs/myenv38b/lib/python3.8/site-packages (4.4.5)\n",
            "Requirement already satisfied: pytz in /opt/homebrew/Caskroom/miniforge/base/envs/myenv38b/lib/python3.8/site-packages (from neo4j) (2022.2.1)\n",
            "Note: you may need to restart the kernel to use updated packages.\n"
          ]
        }
      ],
      "source": [
        "%pip install neo4j"
      ]
    },
    {
      "cell_type": "markdown",
      "metadata": {
        "id": "P49wR7FPejI6"
      },
      "source": [
        "## step-2: imports and init"
      ]
    },
    {
      "cell_type": "code",
      "execution_count": 5,
      "metadata": {
        "id": "CMXk5yZcd-Jt"
      },
      "outputs": [],
      "source": [
        "from neo4j import GraphDatabase\n",
        "import logging\n",
        "from neo4j.exceptions import ServiceUnavailable"
      ]
    },
    {
      "cell_type": "markdown",
      "metadata": {
        "id": "QJsfeO0Ve03C"
      },
      "source": [
        "## step-3: define helper class"
      ]
    },
    {
      "cell_type": "code",
      "execution_count": 19,
      "metadata": {
        "id": "FccBUxEIeKf_"
      },
      "outputs": [],
      "source": [
        "\n",
        "\n",
        "class App:\n",
        "\n",
        "    def __init__(self, uri, user, password):\n",
        "        self.driver = GraphDatabase.driver(uri, auth=(user, password))\n",
        "\n",
        "    def close(self):\n",
        "        # Don't forget to close the driver connection when you are finished with it\n",
        "        self.driver.close()\n",
        "\n",
        "    #Vishnu: 1 Aug 2022: uses labels instead of properties\n",
        "    #Vishnu: 1 Aug 2022: Invariant: only 1 actor with 1 name.\n",
        "    #        (Note that rel still uses properties and not labels)\n",
        "    def create_node_with_usecase_label(self, actor_name, usecase_id):\n",
        "        with self.driver.session() as session:\n",
        "            node_already_exists = session.read_transaction(\n",
        "                self._find_and_return_existing_node_label, actor_name)\n",
        "            if not node_already_exists:  \n",
        "                #node itself doesnt exist (not to mention the use case label), Lets add.\n",
        "                result = session.write_transaction(\n",
        "                    self._create_and_return_node_label, actor_name, usecase_id)\n",
        "                for row in result:\n",
        "                    print(\"Created node: {n1}\".format(n1=row['n1name']))\n",
        "            else:\n",
        "                for row in node_already_exists:\n",
        "                    print(\"Node already exists: {name} in {usecase}\".format(name=row['n1name'], \n",
        "                                                                 usecase=row['n1usecase']))\n",
        "                    if not (usecase_id in row['n1usecase']):\n",
        "                      print(\"adding label \"\n",
        "                                +usecase_id+ \n",
        "                                \" in addition to {usecase}\".format(usecase=row['n1usecase']))\n",
        "                      result = session.write_transaction(\n",
        "                                self._add_usecase_and_return_existing_node_label, actor_name, usecase_id)\n",
        "                    else:\n",
        "                      print(\"ignoring ...\")\n",
        "                    #row has only 1 entry due to invariant. So break here. and exit f()\n",
        "                    break\n",
        "    \n",
        "    #Vishnu: 1 Aug 2022: created this f() to query nodes based on a name\n",
        "    #                    and return with usecase labels\n",
        "    @staticmethod\n",
        "    def _find_and_return_existing_node_label(tx, actor_name):\n",
        "        query = (\n",
        "            \"MATCH (n1) \"\n",
        "            \"WHERE (n1.name ='\" + actor_name + \"') \"\n",
        "            \"RETURN n1.name as n1name, labels(n1) as n1usecase\"\n",
        "        )\n",
        "        result = tx.run(query)\n",
        "        try:\n",
        "            return [{\"n1name\": row[\"n1name\"],\"n1usecase\": row[\"n1usecase\"]} \n",
        "                    for row in result]\n",
        "        # Capture any errors along with the query and data for traceability\n",
        "        except ServiceUnavailable as exception:\n",
        "            logging.error(\"{query} raised an error: \\n {exception}\".format(\n",
        "                query=query, exception=exception))\n",
        "            raise\n",
        "\n",
        "    #Vishnu: 1 Aug 2022: created this f() to create nodes with usecase label\n",
        "    @staticmethod\n",
        "    def _create_and_return_node_label(tx, actor_name, usecase_id):\n",
        "            query = (\n",
        "            \"CREATE (n1 :\" + usecase_id + \" { name: '\" + actor_name + \"'}) \"\n",
        "            \"RETURN n1\"\n",
        "            )\n",
        "            result = tx.run(query, actor_name=actor_name)\n",
        "            try:\n",
        "                return [{\"n1name\": row[\"n1\"][\"name\"]}\n",
        "                        for row in result]\n",
        "            # Capture any errors along with the query and data for traceability\n",
        "            except ServiceUnavailable as exception:\n",
        "                logging.error(\"{query} raised an error: \\n {exception}\".format(\n",
        "                    query=query, exception=exception))\n",
        "                raise\n",
        "\n",
        "    #Vishnu: 1 Aug 2022: created this f() to add use case labels to existing nodes\n",
        "    #                    Note that the existing labels are left there.\n",
        "    @staticmethod\n",
        "    def _add_usecase_and_return_existing_node_label(tx, actor_name, usecase_id):\n",
        "        query = (\n",
        "            \"MATCH \"\n",
        "            \"(n1) \"\n",
        "            \"WHERE n1.name = '\" + actor_name +\"' \"\n",
        "            \"set n1 :\" + usecase_id +\" \"\n",
        "            \"return n1\"\n",
        "        )\n",
        "        result = tx.run(query, actor_name=actor_name)\n",
        "        try:\n",
        "            return [{\"n1\": row[\"n1\"][\"name\"]}\n",
        "                    for row in result]\n",
        "        # Capture any errors along with the query and data for traceability\n",
        "        except ServiceUnavailable as exception:\n",
        "            logging.error(\"{query} raised an error: \\n {exception}\".format(\n",
        "                query=query, exception=exception))\n",
        "            raise\n",
        "\n",
        "    #Vishnu: 1 Aug 2022: created this f() to return all use case actors based on labels\n",
        "    #                    as against properties\n",
        "    @staticmethod\n",
        "    def _find_and_return_all_usecase_actors_label(tx, usecase_id):\n",
        "        query = (\n",
        "            \"MATCH (n) \"\n",
        "            \"WHERE '\" +usecase_id+ \"' in labels(n) \"\n",
        "            \"RETURN n.name AS name\"\n",
        "        )\n",
        "        result = tx.run(query)\n",
        "        return [row[\"name\"] for row in result]\n",
        "\n",
        "    #Vishnu: 1 Aug 2022: created this f() to list all nodes with usecase label\n",
        "    #                    instead of properties\n",
        "    def find_all_usecase_actors_label(self, usecase_id):\n",
        "        with self.driver.session() as session:\n",
        "            result = session.read_transaction(self._find_and_return_all_usecase_actors_label, usecase_id)\n",
        "            i=0\n",
        "            for row in result:\n",
        "                i=i+1\n",
        "                print(\"Found actor-\"+ str(i) +\": {row}\".format(row=row))\n",
        "\n",
        "    #Vishnu: 1 Aug 2022: Created to use label for use case.\n",
        "    #CAUTION: Assumes that actors already exists with label as use case.\n",
        "    #So, this has to be called only in conjunction with create_node_with_usecase\n",
        "    #otherwise you may end up with actors not having use case prop\n",
        "    #but rels will have use case prop. not a good idea.\n",
        "    def create_rel_with_usecase_label(self, actor1_name, rel_name, actor2_name, usecase_id):\n",
        "        with self.driver.session() as session:\n",
        "            this_rel_already_exists = session.read_transaction(\n",
        "                self._find_and_return_this_existing_rels, actor1_name, rel_name, actor2_name, usecase_id)\n",
        "            if (this_rel_already_exists):\n",
        "                print(rel_name + \" already exists with \"+ usecase_id + \" between \"+ actor1_name + \" and \"+ actor2_name)\n",
        "                return\n",
        "            else:\n",
        "                #we are pretty sure something didnt match\n",
        "                #this relation does not exist currently between the nodes under the use case, \n",
        "                #add it.\n",
        "                result3 = session.write_transaction(\n",
        "                    self._create_and_return_rel_label, actor1_name, rel_name, actor2_name, usecase_id)\n",
        "                #if (not retult3)\n",
        "                for row in result3:\n",
        "                    print(\"Created relation: {actor1} - {rel} - {actor2} in {usecase}\".\n",
        "                            format(actor1=row['n1name'], \n",
        "                            rel=row['r1name'],\n",
        "                            actor2=row['n2name'],\n",
        "                            usecase=row['r1usecase']))\n",
        "\n",
        "    #Vishnu: 1 Aug 2022 \n",
        "    #assumption: nodes already exist\n",
        "    #modified from _create_and_return_rel to use labels for n.usecase\n",
        "    @staticmethod\n",
        "    def _create_and_return_rel_label(tx, actor1_name, rel_name, actor2_name, usecaseid):\n",
        "            query = (\n",
        "            \"MATCH \"\n",
        "            \"(n1), \"\n",
        "            \"(n2) \"\n",
        "            \"WHERE n1.name = '\" + actor1_name + \"' AND n2.name = '\"+actor2_name+\"' \"\n",
        "            \" AND '\"+ usecaseid+\"' in labels(n1) \"\n",
        "            \" AND '\"+ usecaseid+\"' in labels(n2) \"\n",
        "            \"CREATE (n1)-[r1:Relation \" + \"{name: '\"+rel_name+\"', usecase: '\"+usecaseid+\"'} ]->(n2) \"\n",
        "            \"RETURN n1, r1, n2\"\n",
        "            )\n",
        "            result = tx.run(query)\n",
        "            try:\n",
        "                return [{\"n1name\": row[\"n1\"][\"name\"], \n",
        "                        \"r1name\": row[\"r1\"][\"name\"],\n",
        "                        \"n2name\": row[\"n2\"][\"name\"],\n",
        "                        \"r1usecase\": row[\"r1\"][\"usecase\"]}\n",
        "                        for row in result]\n",
        "            # Capture any errors along with the query and data for traceability\n",
        "            except ServiceUnavailable as exception:\n",
        "                logging.error(\"{query} raised an error: \\n {exception}\".format(\n",
        "                    query=query, exception=exception))\n",
        "                raise\n",
        "\n",
        "    #Vishnu: 1 Aug 2022: Deprecated: This approach uses properties instead of labels for n.usecases.\n",
        "    #Vishnu: 1 Aug 2022: Invariant: only 1 actor with 1 name.\n",
        "    #Vishnu: 22 Jun 2022: refactored, uses properties instead of labels\n",
        "    #Vishnu: 1 Jun 2022: created this f() to create nodes with usecase label\n",
        "    #Vishnu: 2 Jun 2022: added- check if it already exists.\n",
        "    #Vishnu: 2 Jun 2022: added- check the usecase duplication, adds a usecase if it doesnt exist.\n",
        "    #otherwise ignores the command.\n",
        "    def create_node_with_usecase(self, actor_name, usecase_id):\n",
        "        with self.driver.session() as session:\n",
        "            node_already_exists = session.read_transaction(\n",
        "                self._find_and_return_existing_node, actor_name)\n",
        "            if not node_already_exists:  \n",
        "                result = session.write_transaction(\n",
        "                    self._create_and_return_node, actor_name, usecase_id)\n",
        "                for row in result:\n",
        "                    print(\"Created node: {n1}\".format(n1=row['n1name']))\n",
        "            else:\n",
        "                for row in node_already_exists:\n",
        "                    print(\"Node already exists: {name} in {usecase}\".format(name=row['n1name'], \n",
        "                                                                 usecase=row['n1usecase']))\n",
        "                    s=row['n1usecase'].split(',')\n",
        "                    if not (usecase_id in s):\n",
        "                      print(\"adding prop \"+usecase_id+ \" in addition to \"+row['n1usecase'])\n",
        "                      result = session.write_transaction(\n",
        "                                self._add_usecase_and_return_existing_node, actor_name, usecase_id)\n",
        "                    else:\n",
        "                      print(\"ignoring ...\")\n",
        "                    #row has only 1 entry due to invariant. So break here. and exit f()\n",
        "                    break\n",
        "\n",
        "    #Vishnu: 1 Aug 2022: Deprecated: This approach uses properties instead of labels for usecases.\n",
        "    #Vishnu: 2 Jun 2022: created this f() to query nodes and return with usecase prop\n",
        "    @staticmethod\n",
        "    def _find_and_return_existing_node(tx, actor_name):\n",
        "        query = (\n",
        "            \"MATCH (n1) \"\n",
        "            \"WHERE (n1.name ='\" + actor_name + \"') \"\n",
        "            \"RETURN n1.name as n1name, n1.usecase as n1usecase\"\n",
        "        )\n",
        "        result = tx.run(query)\n",
        "        try:\n",
        "            return [{\"n1name\": row[\"n1name\"],\"n1usecase\": row[\"n1usecase\"]} \n",
        "                    for row in result]\n",
        "        # Capture any errors along with the query and data for traceability\n",
        "        except ServiceUnavailable as exception:\n",
        "            logging.error(\"{query} raised an error: \\n {exception}\".format(\n",
        "                query=query, exception=exception))\n",
        "            raise\n",
        "\n",
        "    #Vishnu: 1 Aug 2022: Deprecated: This approach uses properties instead of labels for usecases.\n",
        "    @staticmethod\n",
        "    def _create_and_return_node(tx, actor_name, usecase_id):\n",
        "            query = (\n",
        "            \"CREATE (n1 \"+\"{ name: '\"+actor_name+\"', usecase: '\"+usecase_id+\"'}) \"\n",
        "            \"RETURN n1\"\n",
        "            )\n",
        "            result = tx.run(query, actor_name=actor_name)\n",
        "            try:\n",
        "                return [{\"n1name\": row[\"n1\"][\"name\"]}\n",
        "                        for row in result]\n",
        "            # Capture any errors along with the query and data for traceability\n",
        "            except ServiceUnavailable as exception:\n",
        "                logging.error(\"{query} raised an error: \\n {exception}\".format(\n",
        "                    query=query, exception=exception))\n",
        "                raise\n",
        "\n",
        "    #Vishnu: 1 Aug 2022: Deprecated: This approach uses properties instead of labels for usecases.\n",
        "    #Vishnu: 1 Jun 2022: created this f() to add use case prop to existing nodes \n",
        "    #CAUTION: does not check for duplication, use create_node_with_prop instead.\n",
        "    def add_usecase_existing_node(self, actor_name, usecase_id):\n",
        "        with self.driver.session() as session:\n",
        "            # Write transactions allow the driver to handle retries and transient errors\n",
        "            result = session.write_transaction(\n",
        "                self._add_usecase_and_return_existing_node, actor_name, usecase_id)\n",
        "            \n",
        "            # we expect only 1 node. Do we need the for loop below?\n",
        "            for row in result:\n",
        "                print(\"added usecase to node: {n1}\".format(n1=row['n1']))\n",
        "\n",
        "    #Vishnu: 1 Aug 2022: Deprecated: This approach uses properties instead of labels for usecases.\n",
        "    @staticmethod\n",
        "    def _add_usecase_and_return_existing_node(tx, actor_name, usecase_id):\n",
        "        # To learn more about the Cypher syntax, see https://neo4j.com/docs/cypher-manual/current/\n",
        "        # The Reference Card is also a good resource for keywords https://neo4j.com/docs/cypher-refcard/current/\n",
        "        query = (\n",
        "            \"MATCH \"\n",
        "            \"(n1) \"\n",
        "            \"WHERE n1.name = '\" + actor_name +\"' \"\n",
        "            \"set n1.usecase = n1.usecase + '\" + \",\" + \"'\"+ \"+ '\"+usecase_id +\"' \"\n",
        "            \"return n1\"\n",
        "        )\n",
        "        result = tx.run(query, actor_name=actor_name)\n",
        "        try:\n",
        "            return [{\"n1\": row[\"n1\"][\"name\"]}\n",
        "                    for row in result]\n",
        "        # Capture any errors along with the query and data for traceability\n",
        "        except ServiceUnavailable as exception:\n",
        "            logging.error(\"{query} raised an error: \\n {exception}\".format(\n",
        "                query=query, exception=exception))\n",
        "            raise\n",
        "\n",
        "    #Vishnu: 1 Aug 2022: Deprecated: This approach uses properties instead of labels for usecases.\n",
        "    #CAUTION: Assumes that actors already exists with property as n.use case.\n",
        "    #So, this has to be called only in conjunction with create_node_with_usecase\n",
        "    #otherwise you may end up with actors not having use case prop\n",
        "    #but rels will have use case prop. not a good idea.\n",
        "    def create_rel_with_usecase(self, actor1_name, rel_name, actor2_name, usecase_id):\n",
        "        with self.driver.session() as session:\n",
        "            this_rel_already_exists = session.read_transaction(\n",
        "                self._find_and_return_this_existing_rels, actor1_name, rel_name, actor2_name, usecase_id)\n",
        "            if (this_rel_already_exists):\n",
        "                print(rel_name + \" already exists with \"+ usecase_id + \" between \"+ actor1_name + \" and \"+ actor2_name)\n",
        "                return\n",
        "            else:\n",
        "                #we are pretty sure something didnt match\n",
        "                #this relation does not exist currently between the nodes under the use case, \n",
        "                #add it.\n",
        "                result3 = session.write_transaction(\n",
        "                    self._create_and_return_rel, actor1_name, rel_name, actor2_name, usecase_id)\n",
        "                #if (not retult3)\n",
        "                for row in result3:\n",
        "                    print(\"Created relation: {actor1} - {rel} - {actor2} in {usecase}\".\n",
        "                            format(actor1=row['n1name'], \n",
        "                            rel=row['r1name'],\n",
        "                            actor2=row['n2name'],\n",
        "                            usecase=row['r1usecase']))\n",
        "    \n",
        "    #Vishnu: 1 Aug 2022: at this moment this f() uses labels instead of properties for n.usecases.\n",
        "    #                    Note that rels still uses properties.\n",
        "    #        1 Aug 2022: TBD: create a property-version (as against label) of the same thing.\n",
        "    #Vishnu: 21 Jun 2022: created this f() to create relationships with usecase label\n",
        "    #if this works, this is the only function that needed to be called.\n",
        "    def create_actors_relationship_with_usecase(self, actor1_name, rel_name, actor2_name, usecase_id):\n",
        "            #process actor1\n",
        "            self.create_node_with_usecase_label(actor1_name, usecase_id)\n",
        "            #process actor2\n",
        "            self.create_node_with_usecase_label(actor2_name, usecase_id)\n",
        "            #process relation\n",
        "            self.create_rel_with_usecase_label(actor1_name, rel_name, actor2_name, usecase_id)\n",
        "\n",
        "    #Vishnu: 23 June 2022: created\n",
        "    #looks for a rel under a use case between 2 given nodes.\n",
        "    #normally, we expect only 0 or 1 unique entry.\n",
        "    @staticmethod                \n",
        "    def _find_and_return_this_existing_rels(tx, actor1_name, rel_name, actor2_name, usecase_id):\n",
        "        query = (\n",
        "            \"MATCH (n1)-[r1]-(n2) \"\n",
        "            \"WHERE (n1.name ='\" + actor1_name + \"') \"\n",
        "            \"and   (n2.name ='\" + actor2_name + \"') \"\n",
        "            \"and   (r1.usecase CONTAINS '\"+ usecase_id+ \"') \"\n",
        "            \"and   (r1.name ='\" + rel_name + \"') \"\n",
        "            \"RETURN n1.name as n1name, r1.name as r1name, n2.name as n2name, r1.usecase as r1usecase\"\n",
        "        )\n",
        "        result = tx.run(query)\n",
        "        return [row[\"r1name\"] for row in result]\n",
        "        \n",
        "    \n",
        "    #Vishnu: 21 June 2022: created this supporting f()\n",
        "    #return for all relationship between given two nodes.\n",
        "    @staticmethod                \n",
        "    def _find_and_return_all_existing_rels_for_uc(tx, actor1_name, actor2_name, usecase_id):\n",
        "        query = (\n",
        "            \"MATCH (n1)-[r1]-(n2) \"\n",
        "            \"WHERE (n1.name ='\" + actor1_name + \"') \"\n",
        "            \"and   (n2.name ='\" + actor2_name + \"') \"\n",
        "            \"and   (r1.usecase CONTAINS '\"+ usecase_id+ \"') \"\n",
        "            \"RETURN n1.name as n1name, r1.name as r1name, n2.name as n2name, r1.usecase as r1usecase\"\n",
        "        )\n",
        "        result = tx.run(query)\n",
        "        try:\n",
        "            return [{\n",
        "                        \"n1name\": row[\"n1name\"],\n",
        "                        \"n2name\": row[\"n2name\"],\n",
        "                        \"r1name\": row[\"r1name\"],\n",
        "                        \"r1usecase\": row[\"r1usecase\"],\n",
        "                    } \n",
        "                    for row in result]\n",
        "        # Capture any errors along with the query and data for traceability\n",
        "        except ServiceUnavailable as exception:\n",
        "            logging.error(\"{query} raised an error: \\n {exception}\".format(\n",
        "                query=query, exception=exception))\n",
        "            raise\n",
        "\n",
        "    #Vishnu: 21 June 2022: created this supporting f()\n",
        "    #adds a name for an existing relationship between given two nodes.\n",
        "    @staticmethod                \n",
        "    def _add_usecase_and_return_existing_rel(tx, actor1_name, rel_name, actor2_name, usecase_id):\n",
        "        query = (\n",
        "            \"MATCH (n1)-[r1]-(n2) \"\n",
        "            \"WHERE (n1.name ='\" + actor1_name + \"') \"\n",
        "            \"and   (n2.name ='\" + actor2_name + \"')\"\n",
        "            \"set    r1.usecase = r1.usecase + '\" + \",\" + \"'\"+ \"+ '\"+usecase_id +\"' \"\n",
        "        )\n",
        "        result = tx.run(query)\n",
        "\n",
        "    \n",
        "    #Vishnu: 30 june 2022: created\n",
        "    #CAUTION: if the property already exists, \n",
        "    #this overwrites the current value.\n",
        "    @staticmethod\n",
        "    def _write_property_and_return_existing_node(tx, actor_name, propertyName, propertyVal):\n",
        "        query = (\n",
        "            \"MATCH \"\n",
        "            \"(n1) \"\n",
        "            \"WHERE n1.name = '\" + actor_name +\"' \"\n",
        "            \"set n1.\"+propertyName+\" = '\"+propertyVal +\"' \"\n",
        "            \"return n1\"\n",
        "        )\n",
        "        result = tx.run(query, actor_name=actor_name)\n",
        "        try:\n",
        "            return [{\"n1\": row[\"n1\"][\"name\"]}\n",
        "                    for row in result]\n",
        "        # Capture any errors along with the query and data for traceability\n",
        "        except ServiceUnavailable as exception:\n",
        "            logging.error(\"{query} raised an error: \\n {exception}\".format(\n",
        "                query=query, exception=exception))\n",
        "            raise\n",
        "\n",
        "    #Vishnu: 30 june 2022: created\n",
        "    #CAUTION: if the property already exists, \n",
        "    #this overwrites the current value.\n",
        "    @staticmethod\n",
        "    def _write_property_and_return_existing_rel(tx, actor1_name, rel_name, actor2_name, \n",
        "                                                propertyName, propertyVal):\n",
        "        query = (\n",
        "            \"MATCH (n1)-[r1]-(n2) \"\n",
        "            \"WHERE (n1.name ='\" + actor1_name + \"') \"\n",
        "            \"and   (n2.name ='\" + actor2_name + \"') \"\n",
        "            \"and   (r1.name ='\" + rel_name + \"') \"\n",
        "            \"set   r1.\"+propertyName+\" = '\"+propertyVal +\"' \"\n",
        "            \"return r1\"\n",
        "        )\n",
        "        result = tx.run(query)\n",
        "        try:\n",
        "            return [{\"r1\": row[\"r1\"][\"name\"]}\n",
        "                    for row in result]\n",
        "        # Capture any errors along with the query and data for traceability\n",
        "        except ServiceUnavailable as exception:\n",
        "            logging.error(\"{query} raised an error: \\n {exception}\".format(\n",
        "                query=query, exception=exception))\n",
        "            raise\n",
        "\n",
        "    #Vishnu: 22 June 2022: created\n",
        "    #assumption: nodes already exist\n",
        "    @staticmethod\n",
        "    def _create_and_return_rel(tx, actor1_name, rel_name, actor2_name, usecaseid):\n",
        "            query = (\n",
        "            \"MATCH \"\n",
        "            \"(n1), \"\n",
        "            \"(n2) \"\n",
        "            \"WHERE n1.name = '\" + actor1_name + \"' AND n2.name = '\"+actor2_name+\"' \"\n",
        "            \" AND n1.usecase CONTAINS '\"+ usecaseid+\"' \"\n",
        "            \" AND n2.usecase CONTAINS '\"+ usecaseid+\"' \"\n",
        "            \"CREATE (n1)-[r1:Relation \" + \"{name: '\"+rel_name+\"', usecase: '\"+usecaseid+\"'} ]->(n2) \"\n",
        "            \"RETURN n1, r1, n2\"\n",
        "            )\n",
        "            result = tx.run(query)\n",
        "            try:\n",
        "                return [{\"n1name\": row[\"n1\"][\"name\"], \n",
        "                        \"r1name\": row[\"r1\"][\"name\"],\n",
        "                        \"n2name\": row[\"n2\"][\"name\"],\n",
        "                        \"r1usecase\": row[\"r1\"][\"usecase\"]}\n",
        "                        for row in result]\n",
        "            # Capture any errors along with the query and data for traceability\n",
        "            except ServiceUnavailable as exception:\n",
        "                logging.error(\"{query} raised an error: \\n {exception}\".format(\n",
        "                    query=query, exception=exception))\n",
        "                raise\n",
        "\n",
        "    #Vishnu: 1 Jun 2022: created this f() to list all nodes with usecase label\n",
        "    def find_all_usecase_actors(self, usecase_id):\n",
        "        with self.driver.session() as session:\n",
        "            result = session.read_transaction(self._find_and_return_all_usecase_actors, usecase_id)\n",
        "            i=0\n",
        "            for row in result:\n",
        "                i=i+1\n",
        "                print(\"Found actor-\"+ str(i) +\": {row}\".format(row=row))\n",
        "\n",
        "    @staticmethod\n",
        "    def _find_and_return_all_usecase_actors(tx, usecase_id):\n",
        "        query = (\n",
        "            \"MATCH (n) \"\n",
        "            \"WHERE (n.usecase = '\"+usecase_id+\"') \"\n",
        "            \"RETURN n.name AS name\"\n",
        "        )\n",
        "        result = tx.run(query)\n",
        "        return [row[\"name\"] for row in result]\n",
        "\n",
        "    #Vishnu: 21 Jun 2022: created this f() to cleanup the DB\n",
        "    #CAUTION: will delete everything\n",
        "    def cleanup_db(self):\n",
        "        with self.driver.session() as session:\n",
        "            result = session.read_transaction(\n",
        "                self._count_nodes_in_db)\n",
        "            for row in result:\n",
        "                print(\"Found {row} actors, deleting! \".format(row=row['count']))\n",
        "            result = session.write_transaction(\n",
        "                self._cleanup_db)\n",
        "\n",
        "    #Vishnu: 22 June 2022: created this f() \n",
        "    #(over)writes a prop to a node\n",
        "    def writePropToNode(self, actor_name, propertyName, propertyVal):\n",
        "        with self.driver.session() as session:\n",
        "            result = session.write_transaction(\n",
        "                self._write_property_and_return_existing_node, \n",
        "                    actor_name, \n",
        "                    propertyName, \n",
        "                    propertyVal)\n",
        "        \n",
        "            # we expect only 1 node. Do we need the for loop below?\n",
        "            for row in result:\n",
        "                print(\"added prop \"+\n",
        "                        propertyName+\n",
        "                        \" = \"+\n",
        "                        propertyVal+\n",
        "                        \" to node: {n1}\".format(n1=row['n1']))\n",
        "\n",
        "    #Vishnu: 22 June 2022: created this f() \n",
        "    #(over)writes a prop to a rel\n",
        "    def writePropToRel(self, a1, rel_name, a2, propertyName, propertyVal):\n",
        "        with self.driver.session() as session:\n",
        "            result = session.write_transaction(\n",
        "                self._write_property_and_return_existing_rel, \n",
        "                    a1, rel_name, a2,\n",
        "                    propertyName, \n",
        "                    propertyVal)\n",
        "        \n",
        "            # we expect only 1 node. Do we need the for loop below?\n",
        "            for row in result:\n",
        "                print(\"added prop \"+\n",
        "                        propertyName+\n",
        "                        \" = \"+\n",
        "                        propertyVal+\n",
        "                        \" to rel: {r1}\".format(r1=row['r1']))\n",
        "\n",
        "    @staticmethod\n",
        "    def _cleanup_db(tx):\n",
        "        query = (\n",
        "            \"MATCH (n) \"\n",
        "            \"detach delete n\"\n",
        "        )\n",
        "        result = tx.run(query)\n",
        "        try:\n",
        "            return \n",
        "        # Capture any errors along with the query and data for traceability\n",
        "        except ServiceUnavailable as exception:\n",
        "            logging.error(\"{query} raised an error: \\n {exception}\".format(\n",
        "                query=query, exception=exception))\n",
        "            raise\n",
        "    \n",
        "    #Vishnu: 29 Aug 2022\n",
        "    #https://github.com/vrra/FGAN-Build-a-thon-2022/issues/52\n",
        "    def del_node_in_db(self, node_name):\n",
        "        with self.driver.session() as session:\n",
        "            node_already_exists = session.read_transaction(\n",
        "                self._find_and_return_existing_node_label, node_name)\n",
        "            if not node_already_exists:\n",
        "                print(f\"\\\"{node_name}\\\" does not exist! \")\n",
        "            result = session.write_transaction(\n",
        "                self._del_node_in_db, node_name)\n",
        "            for row in result:\n",
        "                    print(\"Deleted node: {n1}\".format(n1=row['name']))\n",
        "            \n",
        "    #Vishnu: 29 Aug 2022\n",
        "    #https://github.com/vrra/FGAN-Build-a-thon-2022/issues/52\n",
        "    @staticmethod\n",
        "    def _del_node_in_db(tx, actor1_name):\n",
        "        query = (\n",
        "            \"MATCH (n) \"\n",
        "            \"WHERE (n.name = '\"+actor1_name+\"') \"\n",
        "            \"with n, n.name as name \"\n",
        "            \"detach delete n \"\n",
        "            \"return name\"\n",
        "        )\n",
        "        result = tx.run(query)\n",
        "        try:\n",
        "            return [{\"name\": row[\"name\"]} \n",
        "                    for row in result]\n",
        "        # Capture any errors along with the query and data for traceability\n",
        "        except ServiceUnavailable as exception:\n",
        "            logging.error(\"{query} raised an error: \\n {exception}\".format(\n",
        "                query=query, exception=exception))\n",
        "            raise"
      ]
    },
    {
      "cell_type": "markdown",
      "metadata": {
        "id": "Pjilh9vPe4LY"
      },
      "source": [
        "## step-4: instantiate the helper class to DB. \n",
        "CAUTION: this uses the username/passwd assigned already in step-2 above."
      ]
    },
    {
      "cell_type": "code",
      "execution_count": 20,
      "metadata": {
        "id": "6p2nMvmodNw4"
      },
      "outputs": [],
      "source": [
        "app = App(uri, user, password)"
      ]
    },
    {
      "cell_type": "markdown",
      "metadata": {},
      "source": [
        "## step-5 clean up DB\n",
        "#Caution: lose data\n"
      ]
    },
    {
      "cell_type": "code",
      "execution_count": null,
      "metadata": {},
      "outputs": [],
      "source": [
        "app.cleanup_db()"
      ]
    },
    {
      "cell_type": "markdown",
      "metadata": {
        "id": "W4siCdsInsxH"
      },
      "source": [
        "## Examples"
      ]
    },
    {
      "cell_type": "code",
      "execution_count": 23,
      "metadata": {},
      "outputs": [
        {
          "name": "stdout",
          "output_type": "stream",
          "text": [
            "\"traffic offload controller\" does not exist! \n",
            "\"supply chain management controller\" does not exist! \n"
          ]
        }
      ],
      "source": [
        "app.del_node_in_db(\"traffic offload controller\")\n",
        "app.del_node_in_db(\"supply chain management controller\")\n"
      ]
    },
    {
      "cell_type": "code",
      "execution_count": null,
      "metadata": {},
      "outputs": [],
      "source": [
        "app.create_actors_relationship_with_usecase(\"Experimentation Controller\", \n",
        "                                            \"myrel\", \n",
        "                                            \"Sandbox\",\n",
        "                                            \"usecase_001\")"
      ]
    },
    {
      "cell_type": "markdown",
      "metadata": {
        "id": "v_PlujdPvtcN"
      },
      "source": [
        "### Example-1: Create individual nodes with usecase\n",
        "(and add a node property)\n",
        "(and add a rel property)"
      ]
    },
    {
      "cell_type": "code",
      "execution_count": null,
      "metadata": {
        "id": "aiKGLHItvp2g"
      },
      "outputs": [],
      "source": [
        "app.create_node_with_usecase(\"Experimentation Controller\", \"usecase_001\")\n",
        "app.create_node_with_usecase(\"Sandbox\", \"usecase_001\")\n"
      ]
    },
    {
      "cell_type": "code",
      "execution_count": null,
      "metadata": {},
      "outputs": [],
      "source": [
        "app.writePropToNode(\"Sandbox\", \"provide\", \"import knowledge\")\n"
      ]
    },
    {
      "cell_type": "code",
      "execution_count": null,
      "metadata": {},
      "outputs": [],
      "source": [
        "app.writePropToNode(\"Sandbox\", \"need\", \"integrate controllers\")\n"
      ]
    },
    {
      "cell_type": "markdown",
      "metadata": {
        "id": "IlzAm-ApdU_t"
      },
      "source": [
        "### Example-1a: try to create duplicate node under different use case"
      ]
    },
    {
      "cell_type": "code",
      "execution_count": null,
      "metadata": {
        "id": "5PMotSRCdRdZ"
      },
      "outputs": [],
      "source": [
        "app.create_node_with_usecase(\"Sandbox\", \"usecase_003\")\n",
        "app.create_node_with_usecase(\"Sandbox\", \"usecase_004\")\n",
        "app.create_node_with_usecase(\"Sandbox\", \"usecase_005\")\n",
        "app.create_node_with_usecase(\"Sandbox\", \"usecase_006\")\n"
      ]
    },
    {
      "cell_type": "markdown",
      "metadata": {},
      "source": [
        "### Example-1b: use create_node_with_usecase_label (instead of properties)"
      ]
    },
    {
      "cell_type": "code",
      "execution_count": null,
      "metadata": {},
      "outputs": [],
      "source": [
        "app.create_node_with_usecase_label(\"Sandbox\", \"usecase_003\")\n",
        "app.create_node_with_usecase_label(\"Sandbox\", \"usecase_003\")\n",
        "app.create_node_with_usecase_label(\"Sandbox\", \"usecase_004\")\n",
        "app.create_node_with_usecase_label(\"Sandbox\", \"usecase_004\")\n",
        "app.create_node_with_usecase_label(\"Sandbox\", \"usecase_005\")\n",
        "\n"
      ]
    },
    {
      "cell_type": "markdown",
      "metadata": {
        "id": "0DR2Zu-rQr-9"
      },
      "source": [
        "### Example-2: Create relation between 2 existing nodes"
      ]
    },
    {
      "cell_type": "code",
      "execution_count": null,
      "metadata": {
        "id": "9FZGjCA0DmXT"
      },
      "outputs": [],
      "source": [
        "app.create_rel_with_usecase(\"Experimentation Controller\", \"my_best_buddy\", \"Sandbox\", \"usecase_001\")\n",
        "app.create_rel_with_usecase(\"Experimentation Controller\", \"my_best_buddy\", \"Sandbox\", \"usecase_002\")\n",
        "app.create_rel_with_usecase(\"Experimentation Controller\", \"my_best_buddy\", \"Sandbox\", \"usecase_003\")\n"
      ]
    },
    {
      "cell_type": "code",
      "execution_count": null,
      "metadata": {},
      "outputs": [],
      "source": [
        "app.writePropToRel(\"Experimentation Controller\", \"my_best_buddy\", \"Sandbox\", \n",
        "                    \"my_rel_prop_name\", \n",
        "                    \"my-rel-prop-val\")"
      ]
    },
    {
      "cell_type": "markdown",
      "metadata": {
        "id": "spwwNfDnSDsf"
      },
      "source": [
        "## Cleanup DB \n",
        "CAUTION: Remember to clean up the DB before executing the next steps. (so that all examples above are not leftover in the use case data below)."
      ]
    },
    {
      "cell_type": "code",
      "execution_count": null,
      "metadata": {},
      "outputs": [],
      "source": [
        "app.cleanup_db()"
      ]
    },
    {
      "cell_type": "markdown",
      "metadata": {
        "id": "Onme80CYn8O7"
      },
      "source": [
        "## USECASES"
      ]
    },
    {
      "cell_type": "markdown",
      "metadata": {
        "id": "2NKgB7ZSRqXL"
      },
      "source": [
        "### FG-AN-USECASE-001"
      ]
    },
    {
      "cell_type": "code",
      "execution_count": null,
      "metadata": {
        "id": "w6w8dt-QUUX8"
      },
      "outputs": [],
      "source": [
        "\n",
        "app.create_actors_relationship_with_usecase(\"Knowledge Base\", \"import\", \"Knowledge Base\", \"usecase_001\")\n",
        "app.create_actors_relationship_with_usecase(\"Knowledge Base\", \"export\", \"Knowledge Base\", \"usecase_001\")\n",
        "\n",
        "app.create_actors_relationship_with_usecase(\"Knowledge Base Manager\", \"optimizes\", \"Knowledge Base\", \"usecase_001\")\n",
        "app.create_actors_relationship_with_usecase(\"Knowledge Base Manager\", \"export\", \"Knowledge Base\", \"usecase_001\")\n",
        "\n",
        "app.create_actors_relationship_with_usecase(\"AN Orchestrator\", \"refer\", \"Knowledge Base\", \"usecase_001\")\n",
        "app.create_actors_relationship_with_usecase(\"AN Orchestrator\", \"input\", \"Use case description\", \"usecase_001\")\n",
        "app.create_actors_relationship_with_usecase(\"AN Orchestrator\", \"output\", \"TOSCA format\", \"usecase_001\")\n",
        "\n",
        "app.create_actors_relationship_with_usecase(\"Auto controller generator\", \"refer\", \"Knowledge Base\", \"usecase_001\")\n",
        "app.create_actors_relationship_with_usecase(\"Auto controller generator\", \"output\", \"TOSCA format\", \"usecase_001\")\n",
        "\n",
        "app.create_actors_relationship_with_usecase(\"controller repository\", \"stores\", \"controllers\", \"usecase_001\")\n",
        "app.create_actors_relationship_with_usecase(\"ML model\", \"recommends\", \"controllers\", \"usecase_001\")\n",
        "\n",
        "app.create_actors_relationship_with_usecase(\"Human operator\", \"input\", \"reports\", \"usecase_001\")\n",
        "app.create_actors_relationship_with_usecase(\"Human operator\", \"monitors\", \"reports\", \"usecase_001\")"
      ]
    },
    {
      "cell_type": "code",
      "execution_count": null,
      "metadata": {
        "id": "dD7NR950Ry-N"
      },
      "outputs": [],
      "source": [
        "app.find_all_usecase_actors_label(\"usecase_001\")"
      ]
    },
    {
      "cell_type": "markdown",
      "metadata": {
        "id": "xAXqmO5Bu_ki"
      },
      "source": [
        "### FG-AN-USECASE-002\n"
      ]
    },
    {
      "cell_type": "code",
      "execution_count": null,
      "metadata": {
        "id": "hIFRfkDQzZhz"
      },
      "outputs": [],
      "source": [
        "app.create_actors_relationship_with_usecase(\"Experimentation controller\", \"decides\", \n",
        "                                        \"scenarios for experimentation\", \"usecase_002\")\n",
        "app.create_actors_relationship_with_usecase(\"AN sandbox\", \"hosts\", \n",
        "                                        \"simulators\", \"usecase_002\")\n",
        "app.create_actors_relationship_with_usecase(\"AN sandbox\", \"manages\", \n",
        "                                        \"simulators\", \"usecase_002\")\n",
        "app.create_actors_relationship_with_usecase(\"AN sandbox\", \"output\", \n",
        "                                        \"reports\", \"usecase_002\")\n",
        "app.create_actors_relationship_with_usecase(\"Experimentation controller\", \"triggers\", \n",
        "                                        \"experiments\", \"usecase_002\")\n",
        "app.create_actors_relationship_with_usecase(\"Experimentation controller\", \"output\", \n",
        "                                        \"reports\", \"usecase_002\")\n",
        "app.create_actors_relationship_with_usecase(\"Experimentation controller\", \"executes\", \n",
        "                                        \"experiments\", \"usecase_002\")\n",
        "app.create_actors_relationship_with_usecase(\"Experimentation controller\", \"monitors\", \n",
        "                                        \"experiments\", \"usecase_002\")\n",
        "app.create_actors_relationship_with_usecase(\"Experimentation controller\", \"uses\", \n",
        "                                        \"AN sandbox\", \"usecase_002\")\n",
        "app.create_actors_relationship_with_usecase(\"Experimentation controller\", \"updates\", \n",
        "                                        \"Knowledge Base\", \"usecase_002\")\n",
        "app.create_actors_relationship_with_usecase(\"experiments\", \"has\", \n",
        "                                        \"scenarios for experimentation\", \"usecase_002\")"
      ]
    },
    {
      "cell_type": "code",
      "execution_count": null,
      "metadata": {
        "id": "kESuu7StzBZC"
      },
      "outputs": [],
      "source": [
        "app.find_all_usecase_actors_label(\"usecase_002\")"
      ]
    },
    {
      "cell_type": "markdown",
      "metadata": {
        "id": "kYop_NWy2upE"
      },
      "source": [
        "### FG-AN-USECASE-003\n"
      ]
    },
    {
      "cell_type": "code",
      "execution_count": null,
      "metadata": {
        "id": "ZlYgiEEd5W4L"
      },
      "outputs": [],
      "source": [
        "app.create_actors_relationship_with_usecase(\"AN Orchestrator\", \"queries\", \n",
        "                                        \"AN Orchestrator\", \"usecase_003\")\n",
        "app.create_actors_relationship_with_usecase(\"AN Orchestrator\", \"queries\", \n",
        "                                        \"Human operator\", \"usecase_003\")\n",
        "app.create_actors_relationship_with_usecase(\"AN Orchestrator\", \"accept\", \n",
        "                                        \"feedback\", \"usecase_003\")\n",
        "app.create_actors_relationship_with_usecase(\"AN Orchestrator\", \"configures\", \n",
        "                                        \"AN components\", \"usecase_003\")\n",
        "app.create_actors_relationship_with_usecase(\"AN Orchestrator\", \"updates\", \n",
        "                                        \"Knowledge Base\", \"usecase_003\")\n"
      ]
    },
    {
      "cell_type": "code",
      "execution_count": null,
      "metadata": {},
      "outputs": [],
      "source": [
        "app.find_all_usecase_actors_label(\"usecase_003\")"
      ]
    },
    {
      "cell_type": "markdown",
      "metadata": {
        "id": "_niHmj2zA-8o"
      },
      "source": [
        "### FG-AN-USECASE-004"
      ]
    },
    {
      "cell_type": "code",
      "execution_count": null,
      "metadata": {
        "id": "ks473AsjKtw0"
      },
      "outputs": [],
      "source": [
        "app.create_actors_relationship_with_usecase(\"Adaptation controller\", \"discovers\", \n",
        "                                        \"controllers\", \"usecase_004\")\n",
        "app.create_actors_relationship_with_usecase(\"Adaptation controller\", \"deploy\", \n",
        "                                        \"controllers\", \"usecase_004\")\n",
        "app.create_actors_relationship_with_usecase(\"Adaptation controller\", \"configures\", \n",
        "                                        \"controllers\", \"usecase_004\")\n",
        "app.create_actors_relationship_with_usecase(\"Adaptation controller\", \"queries\", \n",
        "                                        \"controller repository\", \"usecase_004\")          \n",
        "app.create_actors_relationship_with_usecase(\"Adaptation controller\", \"updates\", \n",
        "                                        \"Knowledge Base\", \"usecase_004\")  \n",
        "app.create_actors_relationship_with_usecase(\"controllers\", \"is\", \n",
        "                                        \"undeployed controllers\", \"usecase_004\")  \n",
        "app.create_actors_relationship_with_usecase(\"controllers\", \"is\", \n",
        "                                        \"deployed controllers\", \"usecase_004\")                                         "
      ]
    },
    {
      "cell_type": "code",
      "execution_count": null,
      "metadata": {},
      "outputs": [],
      "source": [
        "app.find_all_usecase_actors_label(\"usecase_004\")"
      ]
    },
    {
      "cell_type": "markdown",
      "metadata": {},
      "source": [
        "### FG-AN-USECASE-005"
      ]
    },
    {
      "cell_type": "code",
      "execution_count": null,
      "metadata": {},
      "outputs": [],
      "source": [
        "app.create_actors_relationship_with_usecase(\"Service management framework\", \"is\", \n",
        "                                        \"underlay\", \"usecase_005\")\n",
        "app.create_actors_relationship_with_usecase(\"Adaptation controller\", \"discover\", \n",
        "                                        \"Service management framework\", \"usecase_005\")     \n",
        "app.create_actors_relationship_with_usecase(\"Adaptation controller\", \"influence\", \n",
        "                                        \"Service management framework\", \"usecase_005\")  \n",
        "app.create_actors_relationship_with_usecase(\"intent\", \"is\", \n",
        "                                        \"influence\", \"usecase_005\")  \n",
        "app.create_actors_relationship_with_usecase(\"policy\", \"is\", \n",
        "                                        \"influence\", \"usecase_005\")                                         "
      ]
    },
    {
      "cell_type": "code",
      "execution_count": null,
      "metadata": {},
      "outputs": [],
      "source": [
        "app.find_all_usecase_actors_label(\"usecase_005\")"
      ]
    },
    {
      "cell_type": "markdown",
      "metadata": {},
      "source": [
        "### FG-AN-USECASE-006 cat1"
      ]
    },
    {
      "cell_type": "code",
      "execution_count": null,
      "metadata": {},
      "outputs": [],
      "source": [
        "app.create_actors_relationship_with_usecase(\"Evolution controller\", \"monitors\", \n",
        "                                        \"controllers\", \"usecase_006_cat1\")\n",
        "app.create_actors_relationship_with_usecase(\"Evolution controller\", \"discovers\", \n",
        "                                        \"use cases\", \"usecase_006_cat1\")     \n",
        "app.create_actors_relationship_with_usecase(\"Evolution controller\", \"recommends\", \n",
        "                                        \"controllers\", \"usecase_006_cat1\")  \n",
        "app.create_actors_relationship_with_usecase(\"Evolution controller\", \"refers\", \n",
        "                                        \"Knowledge Base\", \"usecase_006_cat1\")  "
      ]
    },
    {
      "cell_type": "code",
      "execution_count": null,
      "metadata": {},
      "outputs": [],
      "source": [
        "app.find_all_usecase_actors_label(\"usecase_006_cat1\")"
      ]
    },
    {
      "cell_type": "markdown",
      "metadata": {},
      "source": [
        "### FG-AN-USECASE-006 cat2"
      ]
    },
    {
      "cell_type": "code",
      "execution_count": null,
      "metadata": {},
      "outputs": [],
      "source": [
        "app.create_actors_relationship_with_usecase(\"Data collector\", \"consumes\", \n",
        "                                        \"data\", \"usecase_006_cat2\")\n",
        "app.create_actors_relationship_with_usecase(\"Management domain\", \"produces\", \n",
        "                                        \"data\", \"usecase_006_cat2\")     \n",
        "app.create_actors_relationship_with_usecase(\"Management domain\", \"has\", \n",
        "                                        \"RAN cell\", \"usecase_006_cat2\")  \n",
        "app.create_actors_relationship_with_usecase(\"Data collector\", \"produces\", \n",
        "                                        \"data\", \"usecase_006_cat2\") \n",
        "\n",
        "app.create_actors_relationship_with_usecase(\"data\", \"has\", \n",
        "                                        \"real time\", \"usecase_006_cat2\")     \n",
        "app.create_actors_relationship_with_usecase(\"data\", \"has\", \n",
        "                                        \"data quality\", \"usecase_006_cat2\")  \n",
        "app.create_actors_relationship_with_usecase(\"data\", \"has\", \n",
        "                                        \"KPI\", \"usecase_006_cat2\") \n",
        "\n",
        "app.create_actors_relationship_with_usecase(\"Data monitor\", \"consumes\", \n",
        "                                        \"data\", \"usecase_006_cat2\")     \n",
        "app.create_actors_relationship_with_usecase(\"Data monitor\", \"has\", \n",
        "                                        \"data monitoring\", \"usecase_006_cat2\")  \n",
        "app.create_actors_relationship_with_usecase(\"Data monitor\", \"produces\", \n",
        "                                        \"reports\", \"usecase_006_cat2\") \n",
        "app.create_actors_relationship_with_usecase(\"reports\", \"has\", \n",
        "                                        \"visualizations\", \"usecase_006_cat2\")                                         \n",
        "app.create_actors_relationship_with_usecase(\"Data analytics\", \"consumes\", \n",
        "                                        \"data\", \"usecase_006_cat2\")    \n",
        "app.create_actors_relationship_with_usecase(\"Data analytics\", \"produces\", \n",
        "                                        \"inference\", \"usecase_006_cat2\")                                           \n",
        "app.create_actors_relationship_with_usecase(\"Data analytics\", \"has\", \n",
        "                                        \"ML model\", \"usecase_006_cat2\") \n",
        "app.create_actors_relationship_with_usecase(\"inference\", \"has\", \n",
        "                                        \"periodicity\", \"usecase_006_cat2\")      \n",
        "app.create_actors_relationship_with_usecase(\"ML model\", \"has\", \n",
        "                                        \"model training\", \"usecase_006_cat2\")"
      ]
    },
    {
      "cell_type": "code",
      "execution_count": null,
      "metadata": {},
      "outputs": [],
      "source": [
        "app.find_all_usecase_actors_label(\"usecase_006_cat2\")"
      ]
    },
    {
      "cell_type": "markdown",
      "metadata": {},
      "source": [
        "### FG-AN-USECASE-007 cat1"
      ]
    },
    {
      "cell_type": "code",
      "execution_count": null,
      "metadata": {},
      "outputs": [],
      "source": [
        "app.create_actors_relationship_with_usecase(\"Adaptation controller\", \"discovers deployed\", \n",
        "                                        \"CL automation framework\", \"usecase_007_cat1\")\n",
        "app.create_actors_relationship_with_usecase(\"CL automation framework\", \"deploys\", \n",
        "                                        \"controllers\", \"usecase_007_cat1\")\n",
        "app.create_actors_relationship_with_usecase(\"controllers\", \"has\", \n",
        "                                        \"automatic data acquisition\", \"usecase_007_cat1\")\n",
        "app.create_actors_relationship_with_usecase(\"controllers\", \"has\", \n",
        "                                        \"ML model\", \"usecase_007_cat1\")\n",
        "app.create_actors_relationship_with_usecase(\"controllers\", \"has\", \n",
        "                                        \"policy\", \"usecase_007_cat1\")\n",
        "app.create_actors_relationship_with_usecase(\"controllers\", \"has\", \n",
        "                                        \"action implementation\", \"usecase_007_cat1\")\n",
        "app.create_actors_relationship_with_usecase(\"policy\", \"need\", \n",
        "                                        \"optimization\", \"usecase_007_cat1\")\n",
        "app.create_actors_relationship_with_usecase(\"Adaptation controller\", \"configures\", \n",
        "                                        \"controllers\", \"usecase_007_cat1\")\n",
        "app.create_actors_relationship_with_usecase(\"Adaptation controller\", \"monitors\", \n",
        "                                        \"controllers\", \"usecase_007_cat1\")                                       \n",
        "app.create_actors_relationship_with_usecase(\"Adaptation controller\", \"adapts\", \n",
        "                                        \"controllers\", \"usecase_007_cat1\") \n",
        "app.create_actors_relationship_with_usecase(\"Adaptation controller\", \"interfaces with\", \n",
        "                                        \"underlay orchestrator\", \"usecase_007_cat1\")   "
      ]
    },
    {
      "cell_type": "code",
      "execution_count": null,
      "metadata": {},
      "outputs": [],
      "source": [
        "app.find_all_usecase_actors_label(\"usecase_007_cat1\")"
      ]
    },
    {
      "cell_type": "markdown",
      "metadata": {},
      "source": [
        "### FG-AN-USECASE-007 cat2"
      ]
    },
    {
      "cell_type": "code",
      "execution_count": null,
      "metadata": {},
      "outputs": [],
      "source": [
        "app.create_actors_relationship_with_usecase(\"Energy saving controller\", \"uses\", \n",
        "                                        \"modules\", \"usecase_007_cat2\")\n",
        "app.create_actors_relationship_with_usecase(\"controllers\", \"has\", \n",
        "                                        \"modules\", \"usecase_007_cat2\")    \n",
        "app.create_actors_relationship_with_usecase(\"data acquisition\", \"is\", \n",
        "                                        \"modules\", \"usecase_007_cat2\")\n",
        "app.create_actors_relationship_with_usecase(\"policy\", \"is\", \n",
        "                                        \"modules\", \"usecase_007_cat2\")  \n",
        "app.create_actors_relationship_with_usecase(\"Action implementation\", \"is\", \n",
        "                                        \"modules\", \"usecase_007_cat2\")        \n",
        "app.create_actors_relationship_with_usecase(\"Data acquisition\", \"uses\", \n",
        "                                        \"data center APIs\", \"usecase_007_cat2\")   \n",
        "app.create_actors_relationship_with_usecase(\"policy\", \"has\", \n",
        "                                        \"data center policy\", \"usecase_007_cat2\")   \n",
        "app.create_actors_relationship_with_usecase(\"Action implementation\", \"uses\", \n",
        "                                        \"data center APIs\", \"usecase_007_cat2\")        \n",
        "app.create_actors_relationship_with_usecase(\"controllers\", \"need\", \n",
        "                                        \"evaluation\", \"usecase_007_cat2\")                \n",
        "app.create_actors_relationship_with_usecase(\"evaluation\", \"has\", \n",
        "                                        \"metrics\", \"usecase_007_cat2\")        \n",
        "app.create_actors_relationship_with_usecase(\"metrics\", \"are\", \n",
        "                                        \"data center metrics\", \"usecase_007_cat2\") \n",
        "app.create_actors_relationship_with_usecase(\"controllers\", \"need\", \n",
        "                                        \"optimization\", \"usecase_007_cat2\")     \n",
        "app.create_actors_relationship_with_usecase(\"optimization\", \"uses\", \n",
        "                                        \"evaluation\", \"usecase_007_cat2\")                                                "
      ]
    },
    {
      "cell_type": "code",
      "execution_count": null,
      "metadata": {},
      "outputs": [],
      "source": [
        "app.find_all_usecase_actors_label(\"usecase_007_cat2\")"
      ]
    },
    {
      "cell_type": "markdown",
      "metadata": {},
      "source": [
        "### FG-AN-USECASE-008 cat1"
      ]
    },
    {
      "cell_type": "code",
      "execution_count": null,
      "metadata": {},
      "outputs": [],
      "source": [
        "app.create_actors_relationship_with_usecase(\"CL automation framework\", \"discovers\", \"network parameters\", \"usecase_008_cat1\")\n",
        "app.create_actors_relationship_with_usecase(\"CL automation framework\", \"discovers\", \"data\", \"usecase_008_cat1\")\n",
        "app.create_actors_relationship_with_usecase(\"CL automation framework\", \"discovers\", \"KPI\", \"usecase_008_cat1\")\n",
        "app.create_actors_relationship_with_usecase(\"CL automation framework\", \"deploys\", \"controllers\", \"usecase_008_cat1\")\n",
        "app.create_actors_relationship_with_usecase(\"controllers\", \"provide\", \"optimization\", \"usecase_008_cat1\")\n",
        "app.create_actors_relationship_with_usecase(\"KPI\", \"need\", \"optimization\", \"usecase_008_cat1\")\n",
        "app.create_actors_relationship_with_usecase(\"use cases\", \"has\", \"KPI\", \"usecase_008_cat1\")\n",
        "          "
      ]
    },
    {
      "cell_type": "code",
      "execution_count": null,
      "metadata": {},
      "outputs": [],
      "source": [
        "app.create_actors_relationship_with_usecase(\"Evolution controller\", \"discovers\", \"use cases\", \"usecase_008_cat1\")\n",
        "app.create_actors_relationship_with_usecase(\"Evolution controller\", \"composes\", \"controllers\", \"usecase_008_cat1\")\n",
        "app.create_actors_relationship_with_usecase(\"use cases\", \"has\", \"data\", \"usecase_008_cat1\")\n",
        "app.create_actors_relationship_with_usecase(\"data\", \"has\", \"parameters\", \"usecase_008_cat1\")\n"
      ]
    },
    {
      "cell_type": "code",
      "execution_count": null,
      "metadata": {},
      "outputs": [],
      "source": [
        "app.find_all_usecase_actors_label(\"usecase_008_cat1\")"
      ]
    },
    {
      "cell_type": "markdown",
      "metadata": {},
      "source": [
        "### FG-AN-USECASE-008 cat2"
      ]
    },
    {
      "cell_type": "code",
      "execution_count": null,
      "metadata": {},
      "outputs": [],
      "source": [
        "app.create_actors_relationship_with_usecase(\"base station\", \"has\", \"UE location\", \"usecase_008_cat2\")\n",
        "app.create_actors_relationship_with_usecase(\"mMiMO controller\", \"needs\", \"UE location\", \"usecase_008_cat2\")\n",
        "app.create_actors_relationship_with_usecase(\"mMiMO controller\", \"has\", \"optimization\", \"usecase_008_cat2\") \n",
        "app.create_actors_relationship_with_usecase(\"optimization\", \"has\", \"goals\", \"usecase_008_cat2\")\n",
        "app.create_actors_relationship_with_usecase(\"goals\", \"are\", \"system utilization\", \"usecase_008_cat2\")\n",
        "app.create_actors_relationship_with_usecase(\"goals\", \"are\", \"user experience\", \"usecase_008_cat2\")\n",
        "app.create_actors_relationship_with_usecase(\"goals\", \"are\", \"target RSRP/SINR distribution\", \"usecase_008_cat2\")\n",
        "app.create_actors_relationship_with_usecase(\"goals\", \"are\", \"optimal antenna parameters\", \"usecase_008_cat2\")"
      ]
    },
    {
      "cell_type": "code",
      "execution_count": null,
      "metadata": {},
      "outputs": [],
      "source": [
        "app.find_all_usecase_actors_label(\"usecase_008_cat2\")"
      ]
    },
    {
      "cell_type": "markdown",
      "metadata": {},
      "source": [
        "### FG-AN-USECASE-009 cat1"
      ]
    },
    {
      "cell_type": "code",
      "execution_count": null,
      "metadata": {},
      "outputs": [],
      "source": [
        "app.create_actors_relationship_with_usecase(\"Adaptation controller\", \"discovers\", \"controller characteristics\", \"usecase_009_cat1\")\n",
        "app.create_actors_relationship_with_usecase(\"Evolution controller\", \"accepts\", \"AN intent\", \"usecase_009_cat1\")\n",
        "app.create_actors_relationship_with_usecase(\"Evolution controller\", \"composes\", \"controllers\", \"usecase_009_cat1\")\n",
        "app.create_actors_relationship_with_usecase(\"Evolution controller\", \"recommends\", \"controllers\", \"usecase_009_cat1\")\n",
        "app.create_actors_relationship_with_usecase(\"Evolution controller\", \"evolves\", \"controllers\", \"usecase_009_cat1\")\n",
        "app.create_actors_relationship_with_usecase(\"Evolution controller\", \"evolves\", \"modules\", \"usecase_009_cat1\")\n",
        "app.create_actors_relationship_with_usecase(\"Evolution controller\", \"implements\", \"evolution algorithms\", \"usecase_009_cat1\")\n",
        "app.create_actors_relationship_with_usecase(\"Evolution controller\", \"recommends\", \"modules\", \"usecase_009_cat1\")\n",
        "app.create_actors_relationship_with_usecase(\"Evolution controller\", \"composes\", \"controllers\", \"usecase_009_cat1\")\n",
        "app.create_actors_relationship_with_usecase(\"Adaptation controller\", \"deploys\", \"controllers\", \"usecase_009_cat1\")\n",
        "app.create_actors_relationship_with_usecase(\"controllers\", \"utilizes\", \"underlay specific APIs\", \"usecase_009_cat1\")\n",
        "app.create_actors_relationship_with_usecase(\"edge controllers\", \"are\", \"controllers\", \"usecase_009_cat1\")\n"
      ]
    },
    {
      "cell_type": "code",
      "execution_count": null,
      "metadata": {},
      "outputs": [],
      "source": [
        "app.find_all_usecase_actors_label(\"usecase_009_cat1\")"
      ]
    },
    {
      "cell_type": "markdown",
      "metadata": {},
      "source": [
        "### FG-AN-USECASE-009 cat2\n"
      ]
    },
    {
      "cell_type": "code",
      "execution_count": null,
      "metadata": {},
      "outputs": [],
      "source": [
        "app.create_actors_relationship_with_usecase(\"Emergency management controller\", \"uses\", \"controllers\", \"usecase_009_cat2\")\n",
        "app.create_actors_relationship_with_usecase(\"controllers\", \"detect\", \"emergencies\", \"usecase_009_cat2\")\n",
        "app.create_actors_relationship_with_usecase(\"controllers\", \"optimize\", \"network resource allocation\", \"usecase_009_cat2\")\n",
        "app.create_actors_relationship_with_usecase(\"Emergency management controller\", \"instantiates\", \"controllers\", \"usecase_009_cat2\")\n",
        "app.create_actors_relationship_with_usecase(\"Emergency management controller\", \"input\", \"intent\", \"usecase_009_cat2\")\n",
        "app.create_actors_relationship_with_usecase(\"Emergency management controller\", \"output\", \"intent\", \"usecase_009_cat2\")\n",
        "app.create_actors_relationship_with_usecase(\"controllers\", \"need\", \"network domain\", \"usecase_009_cat2\")\n",
        "app.create_actors_relationship_with_usecase(\"intent\", \"has\", \"ml pipeline\", \"usecase_009_cat2\")\n"
      ]
    },
    {
      "cell_type": "code",
      "execution_count": null,
      "metadata": {},
      "outputs": [],
      "source": [
        "app.find_all_usecase_actors_label(\"usecase_009_cat2\")"
      ]
    },
    {
      "cell_type": "markdown",
      "metadata": {},
      "source": [
        "### FG-AN-USECASE-010 cat1"
      ]
    },
    {
      "cell_type": "code",
      "execution_count": null,
      "metadata": {},
      "outputs": [],
      "source": [
        "app.create_actors_relationship_with_usecase(\"AN orchestrator\", \"accepts\", \"AN intent\", \"usecase_010_cat1\")\n",
        "app.create_actors_relationship_with_usecase(\"AN orchestrator\", \"configures\", \"Evolution controller\", \"usecase_010_cat1\")\n",
        "app.create_actors_relationship_with_usecase(\"AN orchestrator\", \"configures\", \"Adaptation controller\", \"usecase_010_cat1\")\n",
        "app.create_actors_relationship_with_usecase(\"AN orchestrator\", \"configures\", \"Experimentation controller\", \"usecase_010_cat1\")\n",
        "app.create_actors_relationship_with_usecase(\"AN intent\", \"has\", \"vertical specific inputs\", \"usecase_010_cat1\")\n",
        "app.create_actors_relationship_with_usecase(\"Experimentation controller\", \"validates\", \"controllers\", \"usecase_010_cat1\")\n",
        "app.create_actors_relationship_with_usecase(\"Adaptation controller\", \"monitors\", \"controllers\", \"usecase_010_cat1\")\n",
        "app.create_actors_relationship_with_usecase(\"AN orchestrator\", \"produces\", \"reports\", \"usecase_010_cat1\")\n",
        "app.create_actors_relationship_with_usecase(\"underlay\", \"are\", \"CI/CD pipeline\", \"usecase_010_cat1\")\n",
        "app.create_actors_relationship_with_usecase(\"Adaptation controller\", \"discovers\", \"reference points\", \"usecase_010_cat1\")\n",
        "app.create_actors_relationship_with_usecase(\"underlay\", \"has\", \"reference points\", \"usecase_010_cat1\")\n",
        "app.create_actors_relationship_with_usecase(\"Evolution controller\", \"recommends\", \"controllers\", \"usecase_010_cat1\")\n",
        "app.create_actors_relationship_with_usecase(\"Adaptation controller\", \"discovers\", \"underlay capabilities\", \"usecase_010_cat1\")\n",
        "app.create_actors_relationship_with_usecase(\"underlay\", \"has\", \"underlay capabilities\", \"usecase_010_cat1\")\n",
        "\n"
      ]
    },
    {
      "cell_type": "code",
      "execution_count": null,
      "metadata": {},
      "outputs": [],
      "source": [
        "app.find_all_usecase_actors_label(\"usecase_010_cat1\")"
      ]
    },
    {
      "cell_type": "markdown",
      "metadata": {},
      "source": [
        "### FG-AN-USECASE-010 cat2"
      ]
    },
    {
      "cell_type": "code",
      "execution_count": null,
      "metadata": {},
      "outputs": [],
      "source": [
        "app.create_actors_relationship_with_usecase(\"Cloud service controller\", \"uses\", \"controllers\", \"usecase_010_cat2\")\n",
        "app.create_actors_relationship_with_usecase(\"controllers\", \"needs\", \"intent\", \"usecase_010_cat2\")\n",
        "app.create_actors_relationship_with_usecase(\"controllers\", \"needs\", \"simulation\", \"usecase_010_cat2\")\n",
        "app.create_actors_relationship_with_usecase(\"controllers\", \"needs\", \"validation\", \"usecase_010_cat2\")\n",
        "app.create_actors_relationship_with_usecase(\"validation\", \"needs\", \"KPI\", \"usecase_010_cat2\")\n",
        "app.create_actors_relationship_with_usecase(\"validation\", \"needs\", \"AN sandbox\", \"usecase_010_cat2\")\n",
        "app.create_actors_relationship_with_usecase(\"controllers\", \"output\", \"cloud service deployment\", \"usecase_010_cat2\")\n",
        "app.create_actors_relationship_with_usecase(\"cloud service deployment\", \"needs\", \"optimization\", \"usecase_010_cat2\")\n",
        "app.create_actors_relationship_with_usecase(\"controllers\", \"output\", \"network service deployment\", \"usecase_010_cat2\")\n",
        "app.create_actors_relationship_with_usecase(\"network service deployment\", \"needs\", \"optimization\", \"usecase_010_cat2\")\n",
        "app.create_actors_relationship_with_usecase(\"controllers\", \"needs\", \"monitors\", \"usecase_010_cat2\")\n",
        "app.create_actors_relationship_with_usecase(\"monitors\", \"output\", \"reports\", \"usecase_010_cat2\")\n",
        "app.create_actors_relationship_with_usecase(\"network service deployment\", \"needs\", \"technology migration\", \"usecase_010_cat2\")\n",
        "app.create_actors_relationship_with_usecase(\"cloud service deployment\", \"needs\", \"technology migration\", \"usecase_010_cat2\")\n",
        "\n",
        "\n"
      ]
    },
    {
      "cell_type": "code",
      "execution_count": null,
      "metadata": {},
      "outputs": [],
      "source": [
        "app.find_all_usecase_actors_label(\"usecase_010_cat2\")"
      ]
    },
    {
      "cell_type": "markdown",
      "metadata": {},
      "source": [
        "### FG-AN-USECASE-011 cat1"
      ]
    },
    {
      "cell_type": "code",
      "execution_count": null,
      "metadata": {},
      "outputs": [],
      "source": [
        "app.create_actors_relationship_with_usecase(\"AN orchestrator\", \"input\", \"intent\", \"usecase_011_cat1\")\n",
        "app.create_actors_relationship_with_usecase(\"AN orchestrator\", \"configures\", \"domain orchestrator\", \"usecase_011_cat1\")\n",
        "app.create_actors_relationship_with_usecase(\"AN orchestrator\", \"configures\", \"Evolution controller\", \"usecase_011_cat1\")\n",
        "app.create_actors_relationship_with_usecase(\"AN orchestrator\", \"configures\", \"Adaptation controller\", \"usecase_011_cat1\")\n",
        "\n",
        "app.create_actors_relationship_with_usecase(\"intent\", \"has\", \"controller design\", \"usecase_011_cat1\")\n",
        "app.create_actors_relationship_with_usecase(\"intent\", \"has\", \"controller deployment\", \"usecase_011_cat1\")\n",
        "app.create_actors_relationship_with_usecase(\"intent\", \"has\", \"controller management\", \"usecase_011_cat1\")\n",
        "\n",
        "app.create_actors_relationship_with_usecase(\"controllers\", \"monitors\", \"inter-domain-connectivity\", \"usecase_011_cat1\")\n",
        "app.create_actors_relationship_with_usecase(\"controllers\", \"configures\", \"inter-domain-connectivity\", \"usecase_011_cat1\")\n",
        "app.create_actors_relationship_with_usecase(\"controllers\", \"manages\", \"inter-domain-connectivity\", \"usecase_011_cat1\")\n",
        "\n",
        "app.create_actors_relationship_with_usecase(\"Evolution controller\", \"implements\", \"evolution algorithms\", \"usecase_011_cat1\")\n",
        "app.create_actors_relationship_with_usecase(\"evolution algorithms\", \"implements\", \"evolution\", \"usecase_011_cat1\")\n",
        "app.create_actors_relationship_with_usecase(\"controllers\", \"need\", \"evolution\", \"usecase_011_cat1\")\n",
        "\n",
        "app.create_actors_relationship_with_usecase(\"underlay\", \"are\", \"inter-domain-connectivity\", \"usecase_011_cat1\")\n",
        "app.create_actors_relationship_with_usecase(\"Evolution controller\", \"recommends\", \"controllers\", \"usecase_011_cat1\")"
      ]
    },
    {
      "cell_type": "code",
      "execution_count": null,
      "metadata": {},
      "outputs": [],
      "source": [
        "app.find_all_usecase_actors_label(\"usecase_011_cat1\")"
      ]
    },
    {
      "cell_type": "markdown",
      "metadata": {},
      "source": [
        "### FG-AN-USECASE-011 cat2"
      ]
    },
    {
      "cell_type": "code",
      "execution_count": null,
      "metadata": {},
      "outputs": [],
      "source": [
        "app.create_actors_relationship_with_usecase(\"inter-domain-connectivity\", \"has\", \"alternatives\", \"usecase_011_cat2\")\n",
        "app.create_actors_relationship_with_usecase(\"verticals\", \"provide\", \"service\", \"usecase_011_cat2\")\n",
        "app.create_actors_relationship_with_usecase(\"Rural sites\", \"need\", \"service\", \"usecase_011_cat2\")\n",
        "app.create_actors_relationship_with_usecase(\"verticals\", \"need\", \"inter-domain-connectivity\", \"usecase_011_cat2\")\n",
        "app.create_actors_relationship_with_usecase(\"Rural sites\", \"need\", \"inter-domain-connectivity\", \"usecase_011_cat2\")\n",
        "app.create_actors_relationship_with_usecase(\"inter-domain-connectivity\", \"is\", \"shared\", \"usecase_011_cat2\")\n",
        "app.create_actors_relationship_with_usecase(\"inter-domain-connectivity\", \"need\", \"edge compute\", \"usecase_011_cat2\")\n",
        "app.create_actors_relationship_with_usecase(\"inter-domain-connectivity\", \"need\", \"CL automation framework\", \"usecase_011_cat2\")\n",
        "app.create_actors_relationship_with_usecase(\"edge compute\", \"need\", \"CL automation framework\", \"usecase_011_cat2\")\n",
        "app.create_actors_relationship_with_usecase(\"edge compute\", \"has\", \"micro service\", \"usecase_011_cat2\")\n",
        "app.create_actors_relationship_with_usecase(\"alternatives\", \"has\", \"heterogeneous\", \"usecase_011_cat2\")\n",
        "app.create_actors_relationship_with_usecase(\"underlay orchestrator\", \"has\", \"controllers\", \"usecase_011_cat2\")\n",
        "app.create_actors_relationship_with_usecase(\"inter-domain-connectivity\", \"need\", \"management\", \"usecase_011_cat2\")\n",
        "app.create_actors_relationship_with_usecase(\"underlay orchestrator\", \"has\", \"onboarding\", \"usecase_011_cat2\")\n",
        "app.create_actors_relationship_with_usecase(\"applications\", \"need\", \"onboarding\", \"usecase_011_cat2\")\n",
        "app.create_actors_relationship_with_usecase(\"underlay orchestrator\", \"has\", \"monitoring\", \"usecase_011_cat2\")\n",
        "app.create_actors_relationship_with_usecase(\"applications\", \"need\", \"monitoring\", \"usecase_011_cat2\")\n",
        "app.create_actors_relationship_with_usecase(\"underlay orchestrator\", \"has\", \"report\", \"usecase_011_cat2\")\n",
        "app.create_actors_relationship_with_usecase(\"human operator\", \"need\", \"report\", \"usecase_011_cat2\")"
      ]
    },
    {
      "cell_type": "code",
      "execution_count": null,
      "metadata": {},
      "outputs": [],
      "source": [
        "app.find_all_usecase_actors_label(\"usecase_011_cat2\")"
      ]
    },
    {
      "cell_type": "markdown",
      "metadata": {},
      "source": [
        "### FG-AN-USECASE-012 cat1"
      ]
    },
    {
      "cell_type": "code",
      "execution_count": null,
      "metadata": {},
      "outputs": [],
      "source": [
        "app.create_actors_relationship_with_usecase(\"Adaptation controller\", \"monitors\", \"underlay capabilities\", \"usecase_012_cat1\")\n",
        "app.create_actors_relationship_with_usecase(\"Adaptation controller\", \"discovers\", \"underlay capabilities\", \"usecase_012_cat1\")\n",
        "app.create_actors_relationship_with_usecase(\"underlay capabilities\", \"is\", \"underlay configuration\", \"usecase_012_cat1\")\n",
        "app.create_actors_relationship_with_usecase(\"underlay capabilities\", \"is\", \"monitoring\", \"usecase_012_cat1\")\n",
        "app.create_actors_relationship_with_usecase(\"Evolution controller\", \"can\", \"recommendation\", \"usecase_012_cat1\")\n",
        "app.create_actors_relationship_with_usecase(\"recommendation\", \"is\", \"underlay capabilities\", \"usecase_012_cat1\")"
      ]
    },
    {
      "cell_type": "code",
      "execution_count": null,
      "metadata": {},
      "outputs": [],
      "source": [
        "app.find_all_usecase_actors_label(\"usecase_012_cat1\")"
      ]
    },
    {
      "cell_type": "markdown",
      "metadata": {},
      "source": [
        "### FG-AN-USECASE-012 cat2"
      ]
    },
    {
      "cell_type": "code",
      "execution_count": null,
      "metadata": {},
      "outputs": [],
      "source": [
        "app.create_actors_relationship_with_usecase(\"Data analysis function\", \"has\", \"data collector\", \"usecase_012_cat2\")\n",
        "app.create_actors_relationship_with_usecase(\"Network function\", \"provide\", \"event report\", \"usecase_012_cat2\")\n",
        "app.create_actors_relationship_with_usecase(\"event report\", \"is\", \"UE IP address change\", \"usecase_012_cat2\")\n",
        "app.create_actors_relationship_with_usecase(\"event report\", \"is\", \"UP path change\", \"usecase_012_cat2\")\n",
        "app.create_actors_relationship_with_usecase(\"event report\", \"is\", \"PDU Session Establishment\", \"usecase_012_cat2\")\n",
        "app.create_actors_relationship_with_usecase(\"event report\", \"is\", \"PDU Session Release\", \"usecase_012_cat2\")\n",
        "app.create_actors_relationship_with_usecase(\"Data analysis function\", \"\", \"Data analytics\", \"usecase_012_cat2\")\n",
        "app.create_actors_relationship_with_usecase(\"Data analytics\", \"is\", \"Load information of UPF\", \"usecase_012_cat2\")\n",
        "app.create_actors_relationship_with_usecase(\"event report\", \"is\", \"data\", \"usecase_012_cat2\")"
      ]
    },
    {
      "cell_type": "code",
      "execution_count": null,
      "metadata": {},
      "outputs": [],
      "source": [
        "app.find_all_usecase_actors_label(\"usecase_012_cat2\")"
      ]
    },
    {
      "cell_type": "markdown",
      "metadata": {},
      "source": [
        "### FG-AN-USECASE-013 cat1"
      ]
    },
    {
      "cell_type": "code",
      "execution_count": null,
      "metadata": {},
      "outputs": [],
      "source": [
        "\n",
        "app.create_actors_relationship_with_usecase(\"Network function\", \"has\", \"underlay capabilities\", \"usecase_013_cat1\")\n",
        "app.create_actors_relationship_with_usecase(\"Adaptation controller\", \"monitors\", \"underlay capabilities\", \"usecase_013_cat1\")\n",
        "app.create_actors_relationship_with_usecase(\"Adaptation controller\", \"discovers\", \"underlay capabilities\", \"usecase_013_cat1\")\n",
        "app.create_actors_relationship_with_usecase(\"Adaptation controller\", \"discovers\", \"underlay requirements\", \"usecase_013_cat1\")\n",
        "app.create_actors_relationship_with_usecase(\"Evolution controller\", \"provide\", \"recommendation\", \"usecase_013_cat1\")\n",
        "app.create_actors_relationship_with_usecase(\"recommendation\", \"is\", \"underlay capabilities\", \"usecase_013_cat1\")\n",
        "app.create_actors_relationship_with_usecase(\"recommendation\", \"is\", \"underlay requirements\", \"usecase_013_cat1\")"
      ]
    },
    {
      "cell_type": "code",
      "execution_count": null,
      "metadata": {},
      "outputs": [],
      "source": [
        "app.find_all_usecase_actors_label(\"usecase_013_cat1\")"
      ]
    },
    {
      "cell_type": "markdown",
      "metadata": {},
      "source": [
        "### FG-AN-USECASE-013 cat2"
      ]
    },
    {
      "cell_type": "code",
      "execution_count": null,
      "metadata": {},
      "outputs": [],
      "source": [
        "app.create_actors_relationship_with_usecase(\"controllers\", \"need\", \"provisioning\", \"usecase_013_cat2\")\n",
        "app.create_actors_relationship_with_usecase(\"provisioning\", \"is\", \"multi-domain\", \"usecase_013_cat2\")\n",
        "app.create_actors_relationship_with_usecase(\"provisioning\", \"need\", \"underlay capabilities\", \"usecase_013_cat2\")\n",
        "app.create_actors_relationship_with_usecase(\"network instance\", \"need\", \"plug and play\", \"usecase_013_cat2\")\n",
        "app.create_actors_relationship_with_usecase(\"network instance\", \"is\", \"Network function\", \"usecase_013_cat2\")\n",
        "app.create_actors_relationship_with_usecase(\"network instance\", \"is\", \"network slice\", \"usecase_013_cat2\")\n",
        "app.create_actors_relationship_with_usecase(\"network instance\", \"is\", \"network service\", \"usecase_013_cat2\")\n",
        "app.create_actors_relationship_with_usecase(\"network instance\", \"provide\", \"data collection\", \"usecase_013_cat2\")\n",
        "app.create_actors_relationship_with_usecase(\"controllers\", \"need\", \"bootstrap\", \"usecase_013_cat2\")\n",
        "app.create_actors_relationship_with_usecase(\"network infrastructure\", \"need\", \"bootstrap\", \"usecase_013_cat2\")\n",
        "app.create_actors_relationship_with_usecase(\"network service\", \"need\", \"bootstrap\", \"usecase_013_cat2\")\n",
        "app.create_actors_relationship_with_usecase(\"applications\", \"need\", \"bootstrap\", \"usecase_013_cat2\")"
      ]
    },
    {
      "cell_type": "code",
      "execution_count": null,
      "metadata": {},
      "outputs": [],
      "source": [
        "app.find_all_usecase_actors_label(\"usecase_013_cat2\")"
      ]
    },
    {
      "cell_type": "markdown",
      "metadata": {},
      "source": [
        "### FG-AN-USECASE-014"
      ]
    },
    {
      "cell_type": "code",
      "execution_count": null,
      "metadata": {},
      "outputs": [],
      "source": [
        "app.create_actors_relationship_with_usecase(\"underlay\", \"are\", \"hybrid\", \"usecase_014\")\n",
        "app.create_actors_relationship_with_usecase(\"hybrid\", \"is\", \"simulators\", \"usecase_014\")\n",
        "app.create_actors_relationship_with_usecase(\"hybrid\", \"is\", \"test network\", \"usecase_014\")\n",
        "app.create_actors_relationship_with_usecase(\"hybrid\", \"is\", \"real network\", \"usecase_014\")\n",
        "app.create_actors_relationship_with_usecase(\"multi-domain\", \"is\", \"hybrid\", \"usecase_014\")"
      ]
    },
    {
      "cell_type": "code",
      "execution_count": null,
      "metadata": {},
      "outputs": [],
      "source": [
        "app.find_all_usecase_actors_label(\"usecase_014\")"
      ]
    },
    {
      "cell_type": "markdown",
      "metadata": {},
      "source": [
        "### FG-AN-USECASE-015"
      ]
    },
    {
      "cell_type": "markdown",
      "metadata": {},
      "source": [
        "*detailed implementation of this UC may be provided by Team \"Avengers\"*"
      ]
    },
    {
      "cell_type": "code",
      "execution_count": null,
      "metadata": {},
      "outputs": [],
      "source": [
        "app.create_actors_relationship_with_usecase(\"data\", \"is\", \"logs\", \"usecase_015\")\n",
        "app.create_actors_relationship_with_usecase(\"network instance\", \"has\", \"logs\", \"usecase_015\")\n",
        "app.create_actors_relationship_with_usecase(\"model repository\", \"has\", \"ML model\", \"usecase_015\")\n",
        "app.create_actors_relationship_with_usecase(\"model repository\", \"is\", \"3rd party\", \"usecase_015\")\n"
      ]
    },
    {
      "cell_type": "code",
      "execution_count": null,
      "metadata": {},
      "outputs": [],
      "source": [
        "app.find_all_usecase_actors_label(\"usecase_015\")"
      ]
    },
    {
      "cell_type": "markdown",
      "metadata": {},
      "source": [
        "### FG-AN-USECASE-016"
      ]
    },
    {
      "cell_type": "code",
      "execution_count": null,
      "metadata": {},
      "outputs": [],
      "source": [
        "app.create_actors_relationship_with_usecase(\"underlay orchestrator\", \"process\", \"underlay intent\", \"usecase_016\")\n",
        "app.create_actors_relationship_with_usecase(\"underlay intent\", \"has\", \"network instance\", \"usecase_016\")\n",
        "app.create_actors_relationship_with_usecase(\"intent\", \"is\", \"underlay intent\", \"usecase_016\")\n",
        "app.create_actors_relationship_with_usecase(\"intent\", \"is\", \"AN intent\", \"usecase_016\")\n",
        "app.create_actors_relationship_with_usecase(\"underlay orchestrator\", \"interfaces\", \"AN orchestrator\", \"usecase_016\")\n",
        "app.create_actors_relationship_with_usecase(\"controllers\", \"is\", \"multi-domain\", \"usecase_016\")\n",
        "app.create_actors_relationship_with_usecase(\"underlay orchestrator\", \"manages\", \"network instance\", \"usecase_016\")\n",
        "app.create_actors_relationship_with_usecase(\"orchestrator\", \"export\", \"intent\", \"usecase_016\")\n",
        "app.create_actors_relationship_with_usecase(\"orchestrator\", \"import\", \"intent\", \"usecase_016\")\n",
        "\n",
        "app.create_actors_relationship_with_usecase(\"orchestrator\", \"is\", \"AN orchestrator\", \"usecase_016\")\n",
        "app.create_actors_relationship_with_usecase(\"orchestrator\", \"is\", \"underlay orchestrator\", \"usecase_016\")\n",
        "app.create_actors_relationship_with_usecase(\"AN intent\", \"has\", \"controller  definitions\", \"usecase_016\")\n",
        "app.create_actors_relationship_with_usecase(\"underlay intent\", \"has\", \"network instance definitions\", \"usecase_016\")"
      ]
    },
    {
      "cell_type": "code",
      "execution_count": null,
      "metadata": {},
      "outputs": [],
      "source": [
        "app.find_all_usecase_actors_label(\"usecase_016\")"
      ]
    },
    {
      "cell_type": "markdown",
      "metadata": {},
      "source": [
        "### FG-AN-USECASE-017"
      ]
    },
    {
      "cell_type": "code",
      "execution_count": null,
      "metadata": {},
      "outputs": [],
      "source": [
        "app.create_actors_relationship_with_usecase(\"data\", \"is\", \"user experience\", \"usecase_017\")\n",
        "app.create_actors_relationship_with_usecase(\"data collection\", \"has\", \"subjective tests\", \"usecase_017\")\n",
        "app.create_actors_relationship_with_usecase(\"user experience\", \"need\", \"subjective tests\", \"usecase_017\")\n",
        "app.create_actors_relationship_with_usecase(\"subjective tests\", \"has\", \"user selection\", \"usecase_017\")\n",
        "app.create_actors_relationship_with_usecase(\"subjective tests\", \"has\", \"location selection\", \"usecase_017\")\n",
        "app.create_actors_relationship_with_usecase(\"applications\", \"need\", \"subjective tests\", \"usecase_017\")\n",
        "app.create_actors_relationship_with_usecase(\"applications\", \"has\", \"KPI\", \"usecase_017\")\n",
        "app.create_actors_relationship_with_usecase(\"underlay\", \"has\", \"measurements\", \"usecase_017\")\n",
        "app.create_actors_relationship_with_usecase(\"subjective tests\", \"provide\",\"user opinion\", \"usecase_017\")\n",
        "\n",
        "\n",
        "app.create_actors_relationship_with_usecase(\"QoE prediction controller\", \"is\", \"controllers\", \"usecase_017\")\n",
        "app.create_actors_relationship_with_usecase(\"QoE prediction controller\", \"need\", \"KPI\", \"usecase_017\")\n",
        "app.create_actors_relationship_with_usecase(\"QoE prediction controller\", \"provide\", \"optimization\", \"usecase_017\")\n",
        "app.create_actors_relationship_with_usecase(\"QoE prediction controller\", \"need\", \"user behavior\", \"usecase_017\")\n",
        "app.create_actors_relationship_with_usecase(\"QoE prediction controller\", \"need\", \"KPI\", \"usecase_017\")\n",
        "app.create_actors_relationship_with_usecase(\"QoE prediction controller\", \"need\", \"ML model\", \"usecase_017\")\n",
        "app.create_actors_relationship_with_usecase(\"QoE prediction controller\", \"need\", \"subjective tests\", \"usecase_017\")\n",
        "\n",
        "app.create_actors_relationship_with_usecase(\"ML model\", \"maps\", \"QoE metrics\", \"usecase_017\")\n",
        "app.create_actors_relationship_with_usecase(\"ML model\", \"maps\", \"measurements\", \"usecase_017\")\n",
        "app.create_actors_relationship_with_usecase(\"underlay orchestrator\", \"discover\", \"measurements\", \"usecase_017\")\n"
      ]
    },
    {
      "cell_type": "code",
      "execution_count": null,
      "metadata": {},
      "outputs": [],
      "source": [
        "app.find_all_usecase_actors_label(\"usecase_017\")"
      ]
    },
    {
      "cell_type": "markdown",
      "metadata": {},
      "source": [
        "### FG-AN-USECASE-018"
      ]
    },
    {
      "cell_type": "code",
      "execution_count": null,
      "metadata": {},
      "outputs": [],
      "source": [
        "app.create_actors_relationship_with_usecase(\"AN intent\", \"has\", \"outer loop\", \"usecase_018\")\n",
        "app.create_actors_relationship_with_usecase(\"AN intent\", \"has\", \"deployment preferences\", \"usecase_018\")\n",
        "app.create_actors_relationship_with_usecase(\"AN orchestrator\", \"requires\", \"AN intent\", \"usecase_018\")\n",
        "app.create_actors_relationship_with_usecase(\"AN orchestrator\", \"derives\", \"sub-intent\", \"usecase_018\")\n",
        "app.create_actors_relationship_with_usecase(\"sub-intent\", \"is\", \"intent\", \"usecase_018\")\n",
        "app.create_actors_relationship_with_usecase(\"sub-intent\", \"has\", \"inner loop\", \"usecase_018\")\n",
        "app.create_actors_relationship_with_usecase(\"inner loop\", \"is\", \"controller\", \"usecase_018\")\n",
        "app.create_actors_relationship_with_usecase(\"outer loop\", \"is\", \"controller\", \"usecase_018\")\n",
        "app.create_actors_relationship_with_usecase(\"AN orchestrator\", \"optimizes\", \"intent\", \"usecase_018\")\n",
        "app.create_actors_relationship_with_usecase(\"AN orchestrator\", \"requires\", \"feedback\", \"usecase_018\")\n",
        "app.create_actors_relationship_with_usecase(\"Adaptation controller\", \"provides\", \"feedback\", \"usecase_018\")\n",
        "\n",
        "app.create_actors_relationship_with_usecase(\"outer loop\", \"has\", \"QoS QoE metrics\", \"usecase_018\")\n",
        "app.create_actors_relationship_with_usecase(\"outer loop\", \"has\", \"deployment preferences\", \"usecase_018\")\n",
        "app.create_actors_relationship_with_usecase(\"outer loop\", \"has\", \"ML model\", \"usecase_018\")\n",
        "app.create_actors_relationship_with_usecase(\"outer loop\", \"has\", \"cache policy\", \"usecase_018\")\n",
        "app.create_actors_relationship_with_usecase(\"outer loop\", \"has\", \"scaling policy\", \"usecase_018\")\n",
        "app.create_actors_relationship_with_usecase(\"outer loop\", \"has\", \"edge selection\", \"usecase_018\")\n",
        "app.create_actors_relationship_with_usecase(\"outer loop\", \"has\", \"storage configuration\", \"usecase_018\")\n",
        "app.create_actors_relationship_with_usecase(\"outer loop\", \"has\", \"API selection\", \"usecase_018\")\n",
        "app.create_actors_relationship_with_usecase(\"outer loop\", \"has\", \"concurrency selection\", \"usecase_018\")\n",
        "app.create_actors_relationship_with_usecase(\"experiments\", \"is\", \"data measurement\", \"usecase_018\")\n",
        "app.create_actors_relationship_with_usecase(\"experiments\", \"is\", \"policy selection\", \"usecase_018\")\n",
        "app.create_actors_relationship_with_usecase(\"inner loop\", \"has\", \"CDN configuration\", \"usecase_018\")\n",
        "app.create_actors_relationship_with_usecase(\"inner loop\", \"has\", \"QoE control\", \"usecase_018\")\n",
        "app.create_actors_relationship_with_usecase(\"Evolution controller\", \"evolve\", \"intent\", \"usecase_018\")"
      ]
    },
    {
      "cell_type": "code",
      "execution_count": null,
      "metadata": {},
      "outputs": [],
      "source": [
        "app.find_all_usecase_actors_label(\"usecase_018\")"
      ]
    },
    {
      "cell_type": "markdown",
      "metadata": {},
      "source": [
        "### FG-AN-USECASE-019"
      ]
    },
    {
      "cell_type": "code",
      "execution_count": null,
      "metadata": {},
      "outputs": [],
      "source": [
        "app.create_actors_relationship_with_usecase(\"underlay\", \"has\", \"underlay specific APIs\", \"usecase_019\")\n",
        "app.create_actors_relationship_with_usecase(\"underlay\", \"has\", \"underlay specific configurations\", \"usecase_019\")\n",
        "app.create_actors_relationship_with_usecase(\"underlay\", \"has\", \"multi-domain\", \"usecase_019\")\n",
        "app.create_actors_relationship_with_usecase(\"underlay\", \"has\", \"network instance\", \"usecase_019\")\n",
        "app.create_actors_relationship_with_usecase(\"underlay\", \"has\", \"network instance\", \"usecase_019\")\n",
        "app.create_actors_relationship_with_usecase(\"Adaptation controller\", \"discovers\", \"underlay specific configurations\", \"usecase_019\")\n",
        "\n",
        "app.create_actors_relationship_with_usecase(\"underlay\", \"has\", \"architecture options\", \"usecase_019\")\n",
        "app.create_actors_relationship_with_usecase(\"underlay\", \"has\", \"deployment options\", \"usecase_019\")\n",
        "app.create_actors_relationship_with_usecase(\"underlay\", \"has\", \"data model\", \"usecase_019\")\n",
        "app.create_actors_relationship_with_usecase(\"underlay\", \"has\", \"applications\", \"usecase_019\")\n",
        "app.create_actors_relationship_with_usecase(\"applications\", \"need\", \"multi-domain\", \"usecase_019\")\n",
        "app.create_actors_relationship_with_usecase(\"applications\", \"need\", \"real time\", \"usecase_019\")\n",
        "app.create_actors_relationship_with_usecase(\"applications\", \"need\", \"non real time\", \"usecase_019\")\n",
        "app.create_actors_relationship_with_usecase(\"underlay orchestrator\", \"provide\", \"controller placement\", \"usecase_019\")\n",
        "app.create_actors_relationship_with_usecase(\"controller placement\", \"is\", \"multi-domain\", \"usecase_019\")"
      ]
    },
    {
      "cell_type": "code",
      "execution_count": null,
      "metadata": {},
      "outputs": [],
      "source": [
        "app.find_all_usecase_actors_label(\"usecase_019\")"
      ]
    },
    {
      "cell_type": "markdown",
      "metadata": {},
      "source": [
        "### FG-AN-USECASE-020"
      ]
    },
    {
      "cell_type": "code",
      "execution_count": null,
      "metadata": {},
      "outputs": [],
      "source": [
        "app.create_actors_relationship_with_usecase(\"edge network\", \"is\", \"underlay\", \"usecase_020\")\n",
        "app.create_actors_relationship_with_usecase(\"edge network\", \"has\", \"Data analytics\", \"usecase_020\")\n",
        "app.create_actors_relationship_with_usecase(\"Data analytics\", \"is\", \"real time\", \"usecase_020\")\n",
        "app.create_actors_relationship_with_usecase(\"Data analytics\", \"is\", \"non real time\", \"usecase_020\")\n",
        "app.create_actors_relationship_with_usecase(\"verticals\", \"require\", \"Data analytics\", \"usecase_020\")\n",
        "app.create_actors_relationship_with_usecase(\"edge network\", \"has\", \"applications\", \"usecase_020\")\n",
        "app.create_actors_relationship_with_usecase(\"verticals\", \"require\", \"applications\", \"usecase_020\")\n",
        "app.create_actors_relationship_with_usecase(\"applications\", \"require\", \"optimization\", \"usecase_020\")"
      ]
    },
    {
      "cell_type": "code",
      "execution_count": null,
      "metadata": {},
      "outputs": [],
      "source": [
        "app.find_all_usecase_actors_label(\"usecase_020\")"
      ]
    },
    {
      "cell_type": "markdown",
      "metadata": {},
      "source": [
        "### FG-AN-USECASE-021"
      ]
    },
    {
      "cell_type": "code",
      "execution_count": null,
      "metadata": {},
      "outputs": [],
      "source": [
        "app.create_actors_relationship_with_usecase(\"Experimentation controller\", \"creates\", \"experimentation strategies\", \"usecase_021\")\n",
        "app.create_actors_relationship_with_usecase(\"Experimentation controller\", \"executes\", \"experimentation strategies\", \"usecase_021\")\n",
        "app.create_actors_relationship_with_usecase(\"Experimentation controller\", \"optimizes\", \"experimentation strategies\", \"usecase_021\")\n",
        "app.create_actors_relationship_with_usecase(\"Experimentation controller\", \"optimizes\", \"experimentation strategies\", \"usecase_021\")\n",
        "app.create_actors_relationship_with_usecase(\"AN sandbox\", \"is\", \"underlay\", \"usecase_021\")\n",
        "app.create_actors_relationship_with_usecase(\"Experimentation controller\", \"monitors\", \"experiments\", \"usecase_021\")\n",
        "\n",
        "app.create_actors_relationship_with_usecase(\"Experimentation controller\", \"need\", \"data\", \"usecase_021\")\n",
        "app.create_actors_relationship_with_usecase(\"rare scenarios\", \"is\", \"experiments\", \"usecase_021\")\n",
        "app.create_actors_relationship_with_usecase(\"Experimentation controller\", \"creates\", \"optimization\", \"usecase_021\")"
      ]
    },
    {
      "cell_type": "code",
      "execution_count": null,
      "metadata": {},
      "outputs": [],
      "source": [
        "app.find_all_usecase_actors_label(\"usecase_021\")"
      ]
    },
    {
      "cell_type": "markdown",
      "metadata": {},
      "source": [
        "### FG-AN-USECASE-022"
      ]
    },
    {
      "cell_type": "code",
      "execution_count": null,
      "metadata": {},
      "outputs": [],
      "source": [
        "app.create_actors_relationship_with_usecase(\"underlay capabilities\", \"has\", \"domain specific aspects\", \"usecase_022\")\n",
        "app.create_actors_relationship_with_usecase(\"underlay capabilities\", \"has\", \"network service specific aspects\", \"usecase_022\")\n",
        "app.create_actors_relationship_with_usecase(\"domain specific aspects\", \"has\", \"multi-domain\", \"usecase_022\")\n",
        "app.create_actors_relationship_with_usecase(\"domain specific aspects\", \"has\", \"unknown\", \"usecase_022\")\n",
        "app.create_actors_relationship_with_usecase(\"underlay capabilities\", \"has\", \"service specific aspects\", \"usecase_022\")\n",
        "app.create_actors_relationship_with_usecase(\"service specific aspects\", \"has\", \"E2E\", \"usecase_022\")\n",
        "app.create_actors_relationship_with_usecase(\"service specific aspects\", \"has\", \"domain specific aspects\", \"usecase_022\")\n",
        "app.create_actors_relationship_with_usecase(\"service description\", \"has\", \"service specific aspects\", \"usecase_022\")\n",
        "app.create_actors_relationship_with_usecase(\"service specific aspects\", \"has\", \"sub-problems\", \"usecase_022\")\n",
        "app.create_actors_relationship_with_usecase(\"underlay orchestrator\", \"discovers\", \"service specific aspects\", \"usecase_022\")\n",
        "\n",
        "app.create_actors_relationship_with_usecase(\"service evolution\", \"solve\", \"sub-problems\", \"usecase_022\")\n",
        "app.create_actors_relationship_with_usecase(\"Evolution controller\", \"has\", \"service evolution\", \"usecase_022\")\n",
        "app.create_actors_relationship_with_usecase(\"service evolution\", \"has\", \"service design\", \"usecase_022\")\n",
        "app.create_actors_relationship_with_usecase(\"service evolution\", \"has\", \"service optimization\", \"usecase_022\")\n"
      ]
    },
    {
      "cell_type": "code",
      "execution_count": null,
      "metadata": {},
      "outputs": [],
      "source": [
        "app.find_all_usecase_actors_label(\"usecase_022\")"
      ]
    },
    {
      "cell_type": "markdown",
      "metadata": {},
      "source": [
        "### FG-AN-USECASE-023\n",
        "*detailed implementation of this UC may be provided by Team Costa Rica*"
      ]
    },
    {
      "cell_type": "code",
      "execution_count": null,
      "metadata": {},
      "outputs": [],
      "source": [
        "app.create_actors_relationship_with_usecase(\"controllers\", \"has\", \"ML model\", \"usecase_023\")\n",
        "app.create_actors_relationship_with_usecase(\"controllers\", \"has\", \"SINK\", \"usecase_023\")\n",
        "app.create_actors_relationship_with_usecase(\"controllers\", \"is\", \"autonomous\", \"usecase_023\")\n",
        "app.create_actors_relationship_with_usecase(\"data\", \"is\", \"environment data\", \"usecase_023\")\n",
        "app.create_actors_relationship_with_usecase(\"SINK\", \"has\", \"underlay specific configurations\", \"usecase_023\")\n",
        "app.create_actors_relationship_with_usecase(\"underlay specific configurations\", \"is\", \"tx power\", \"usecase_023\")\n",
        "app.create_actors_relationship_with_usecase(\"data\", \"is\", \"multi mode\", \"usecase_023\")\n",
        "app.create_actors_relationship_with_usecase(\"data\", \"is\", \"multi-mode\", \"usecase_023\")\n",
        "app.create_actors_relationship_with_usecase(\"multi-mode\", \"is\", \"image\", \"usecase_023\")\n",
        "app.create_actors_relationship_with_usecase(\"controllers\", \"has\", \"SRC\", \"usecase_023\")\n",
        "app.create_actors_relationship_with_usecase(\"controllers\", \"discover\", \"SRC\", \"usecase_023\")\n",
        "app.create_actors_relationship_with_usecase(\"root cause analysis\", \"is\", \"ML model\", \"usecase_023\")\n",
        "app.create_actors_relationship_with_usecase(\"root cause analysis\", \"has\", \"failure\", \"usecase_023\")\n",
        "app.create_actors_relationship_with_usecase(\"failure\", \"has\", \"software failure\", \"usecase_023\")\n",
        "app.create_actors_relationship_with_usecase(\"failure\", \"has\", \"hardware failure\", \"usecase_023\")\n",
        "app.create_actors_relationship_with_usecase(\"failure\", \"has\", \"middleware failure\", \"usecase_023\")\n",
        "app.create_actors_relationship_with_usecase(\"underlay\", \"has\", \"version\", \"usecase_023\")\n",
        "app.create_actors_relationship_with_usecase(\"controllers\", \"has\", \"version\", \"usecase_023\")\n",
        "\n",
        "app.create_actors_relationship_with_usecase(\"sub-problems\", \"has\", \"runtime\", \"usecase_023\")\n"
      ]
    },
    {
      "cell_type": "code",
      "execution_count": null,
      "metadata": {},
      "outputs": [],
      "source": [
        "app.find_all_usecase_actors_label(\"usecase_023\")"
      ]
    },
    {
      "cell_type": "markdown",
      "metadata": {},
      "source": [
        "### FG-AN-USECASE-024"
      ]
    },
    {
      "cell_type": "code",
      "execution_count": null,
      "metadata": {},
      "outputs": [],
      "source": [
        "app.create_actors_relationship_with_usecase(\"underlay\", \"is\", \"adaptive hardware\", \"usecase_024\")\n",
        "app.create_actors_relationship_with_usecase(\"design\", \"has\", \"tradeoff\", \"usecase_024\")\n",
        "app.create_actors_relationship_with_usecase(\"controllers\", \"has\", \"design\", \"usecase_024\")\n",
        "app.create_actors_relationship_with_usecase(\"Evolution controller\", \"optimizes\", \"design\", \"usecase_024\")\n",
        "\n",
        "app.create_actors_relationship_with_usecase(\"edge network\", \"has\", \"ML model\", \"usecase_024\")\n",
        "app.create_actors_relationship_with_usecase(\"edge network\", \"need\", \"low latency\", \"usecase_024\")\n",
        "app.create_actors_relationship_with_usecase(\"edge network\", \"need\", \"low power consumption\", \"usecase_024\")\n",
        "app.create_actors_relationship_with_usecase(\"edge network\", \"need\", \"low memory\", \"usecase_024\")\n",
        "\n",
        "app.create_actors_relationship_with_usecase(\"FPGA\", \"is\", \"adaptive hardware\", \"usecase_024\")\n",
        "app.create_actors_relationship_with_usecase(\"adaptive System-on-Chip\", \"is\", \"adaptive hardware\", \"usecase_024\")\n",
        "app.create_actors_relationship_with_usecase(\"adaptive hardware\", \"provide\", \"customization\", \"usecase_024\")\n",
        "app.create_actors_relationship_with_usecase(\"tradeoff\", \"is\", \"concurrency\", \"usecase_024\")\n",
        "app.create_actors_relationship_with_usecase(\"tradeoff\", \"is\", \"buffering between layers\", \"usecase_024\")\n",
        "app.create_actors_relationship_with_usecase(\"tradeoff\", \"is\", \"offloading of layers\", \"usecase_024\")\n",
        "app.create_actors_relationship_with_usecase(\"tradeoff\", \"is\", \"precision\", \"usecase_024\")\n",
        "app.create_actors_relationship_with_usecase(\"tradeoff\", \"is\", \"performance\", \"usecase_024\")\n",
        "app.create_actors_relationship_with_usecase(\"tradeoff\", \"is\", \"energy efficiency\", \"usecase_024\")\n",
        "app.create_actors_relationship_with_usecase(\"ML model\", \"has\", \"model architecture\", \"usecase_024\")\n",
        "app.create_actors_relationship_with_usecase(\"ML model\", \"has\", \"intermediate representation \", \"usecase_024\")\n",
        "app.create_actors_relationship_with_usecase(\"ML model\", \"need\", \"optimization\", \"usecase_024\")\n",
        "app.create_actors_relationship_with_usecase(\"ML model\", \"need\", \"hardware adaptation\", \"usecase_024\")\n",
        "app.create_actors_relationship_with_usecase(\"ML model\", \"need\", \"training\", \"usecase_024\")\n",
        "app.create_actors_relationship_with_usecase(\"ML model\", \"need\", \"evaluation\", \"usecase_024\")"
      ]
    },
    {
      "cell_type": "code",
      "execution_count": null,
      "metadata": {},
      "outputs": [],
      "source": [
        "app.find_all_usecase_actors_label(\"usecase_024\")"
      ]
    },
    {
      "cell_type": "markdown",
      "metadata": {},
      "source": [
        "### FG-AN-USECASE-025"
      ]
    },
    {
      "cell_type": "code",
      "execution_count": null,
      "metadata": {},
      "outputs": [],
      "source": [
        "app.create_actors_relationship_with_usecase(\"evolution algorithms\", \"need\", \"ML model\", \"usecase_025\")\n",
        "app.create_actors_relationship_with_usecase(\"ML models\", \"need\", \"transfer learning\", \"usecase_025\")\n",
        "app.create_actors_relationship_with_usecase(\"Knowledge Base\", \"provide\", \"transfer learning\", \"usecase_025\")\n",
        "app.create_actors_relationship_with_usecase(\"AN orchestrator\", \"manages\", \"Knowledge Base\", \"usecase_025\")\n",
        "\n",
        "app.create_actors_relationship_with_usecase(\"environment data\", \"is\", \"data\", \"usecase_025\")\n",
        "app.create_actors_relationship_with_usecase(\"environment data\", \"is\", \"signal strength\", \"usecase_025\")\n",
        "app.create_actors_relationship_with_usecase(\"environment data\", \"is\", \"mobility data\", \"usecase_025\")\n",
        "app.create_actors_relationship_with_usecase(\"user model\", \"is\", \"data\", \"usecase_025\")\n",
        "app.create_actors_relationship_with_usecase(\"Adaptation controller\", \"need\", \"adaptation algorithms\", \"usecase_025\")\n",
        "app.create_actors_relationship_with_usecase(\"adaptation algorithms\", \"need\", \"validation\", \"usecase_025\")\n",
        "app.create_actors_relationship_with_usecase(\"controllers\", \"need\", \"adaptation algorithms\", \"usecase_025\")\n",
        "app.create_actors_relationship_with_usecase(\"underlay specific configurations\", \"is\", \"coverage parameters\", \"usecase_025\")\n",
        "app.create_actors_relationship_with_usecase(\"underlay specific configurations\", \"is\", \"beam parameters\", \"usecase_025\")\n",
        "app.create_actors_relationship_with_usecase(\"ML model\", \"need\", \"retraining\", \"usecase_025\")\n",
        "app.create_actors_relationship_with_usecase(\"simulators\", \"need\", \"controllers\", \"usecase_025\")"
      ]
    },
    {
      "cell_type": "code",
      "execution_count": null,
      "metadata": {},
      "outputs": [],
      "source": [
        "app.find_all_usecase_actors_label(\"usecase_025\")"
      ]
    },
    {
      "cell_type": "markdown",
      "metadata": {},
      "source": [
        "### FG-AN-USECASE-026"
      ]
    },
    {
      "cell_type": "code",
      "execution_count": null,
      "metadata": {},
      "outputs": [],
      "source": [
        "app.create_actors_relationship_with_usecase(\"Evolution controller\", \"manage\", \"evolvable controllers\", \"usecase_026\")\n",
        "app.create_actors_relationship_with_usecase(\"evolvable controllers\", \"is\", \"network instance\", \"usecase_026\")\n",
        "app.create_actors_relationship_with_usecase(\"evolvable controllers\", \"is\", \"controllers\", \"usecase_026\")\n",
        "app.create_actors_relationship_with_usecase(\"Evolution controller\", \"uses\", \"CI/CD pipeline\", \"usecase_026\")\n",
        "app.create_actors_relationship_with_usecase(\"Evolution controller\", \"uses\", \"CL automation framework\", \"usecase_026\")\n",
        "\n",
        "app.create_actors_relationship_with_usecase(\"underlay\", \"uses\", \"Evolution as a service\", \"usecase_026\")\n",
        "app.create_actors_relationship_with_usecase(\"Evolution as a service\", \"uses\", \"Evolution controller\", \"usecase_026\")"
      ]
    },
    {
      "cell_type": "code",
      "execution_count": null,
      "metadata": {},
      "outputs": [],
      "source": [
        "app.find_all_usecase_actors_label(\"usecase_026\")"
      ]
    },
    {
      "cell_type": "markdown",
      "metadata": {},
      "source": [
        "### FG-AN-USECASE-027"
      ]
    },
    {
      "cell_type": "code",
      "execution_count": null,
      "metadata": {},
      "outputs": [],
      "source": [
        "app.create_actors_relationship_with_usecase(\"AN intent\", \"has\", \"scenarios for experimentation\", \"usecase_027\")\n",
        "app.create_actors_relationship_with_usecase(\"Experimentation controller\", \"import\", \"AN intent\", \"usecase_027\")\n",
        "app.create_actors_relationship_with_usecase(\"Experimentation controller\", \"export\", \"AN intent\", \"usecase_027\")\n",
        "app.create_actors_relationship_with_usecase(\"Experimentation controller\", \"trigger\", \"scenarios for experimentation\", \"usecase_027\")\n",
        "app.create_actors_relationship_with_usecase(\"Experimentation controller\", \"validate\", \"experimentation results\", \"usecase_027\")\n",
        "app.create_actors_relationship_with_usecase(\"Knowledge Base\", \"stores\", \"experimentation results\", \"usecase_027\")\n",
        "app.create_actors_relationship_with_usecase(\"Knowledge Base\", \"stores\", \"experimentation results\", \"usecase_027\")\n",
        "app.create_actors_relationship_with_usecase(\"underlay\", \"uses\", \"Experimentation as a service\", \"usecase_027\")\n",
        "\n",
        "app.create_actors_relationship_with_usecase(\"Experimentation as a service\", \"uses\", \"Experimentation controller\", \"usecase_027\")\n",
        "app.create_actors_relationship_with_usecase(\"Experimentation controller\", \"uses\", \"digital twin\", \"usecase_027\")\n",
        "app.create_actors_relationship_with_usecase(\"digital twin\", \"is\", \"underlay\", \"usecase_027\")\n",
        "app.create_actors_relationship_with_usecase(\"underlay specific configurations\", \"trigger\", \"Experimentation as a service\", \"usecase_027\")\n",
        "app.create_actors_relationship_with_usecase(\"Evolution controller\", \"trigger\", \"Experimentation as a service\", \"usecase_027\")\n"
      ]
    },
    {
      "cell_type": "code",
      "execution_count": null,
      "metadata": {},
      "outputs": [],
      "source": [
        "app.find_all_usecase_actors_label(\"usecase_027\")"
      ]
    },
    {
      "cell_type": "markdown",
      "metadata": {},
      "source": [
        "### FG-AN-USECASE-028"
      ]
    },
    {
      "cell_type": "code",
      "execution_count": null,
      "metadata": {},
      "outputs": [],
      "source": [
        "app.create_actors_relationship_with_usecase(\"Evolution controller\", \"select\", \"reference points\", \"usecase_028\")\n",
        "app.create_actors_relationship_with_usecase(\"reference points\", \"uses\", \"data-driven neural networks\", \"usecase_028\")\n",
        "app.create_actors_relationship_with_usecase(\"reference points\", \"uses\", \"signalling\", \"usecase_028\")\n",
        "\n",
        "app.create_actors_relationship_with_usecase(\"Experiments\", \"uses\", \"reference points\", \"usecase_028\")\n",
        "app.create_actors_relationship_with_usecase(\"Experiments\", \"are\", \"training\", \"usecase_028\")\n",
        "\n",
        "app.create_actors_relationship_with_usecase(\"ML model\", \"are\", \"data-driven neural networks\", \"usecase_028\")\n",
        "app.create_actors_relationship_with_usecase(\"AN sandbox\", \"use\", \"experimentation setup\", \"usecase_028\")\n",
        "app.create_actors_relationship_with_usecase(\"AN sandbox\", \"use\", \"ML model\", \"usecase_028\")\n",
        "app.create_actors_relationship_with_usecase(\"simulators\", \"are\", \"SRC\", \"usecase_028\")\n",
        "app.create_actors_relationship_with_usecase(\"simulators\", \"are\", \"SINK\", \"usecase_028\")\n",
        "app.create_actors_relationship_with_usecase(\"underlay\", \"has\", \"SINK\", \"usecase_028\")\n",
        "\n",
        "app.create_actors_relationship_with_usecase(\"controllers\", \"modify\", \"control flow\", \"usecase_028\")\n",
        "app.create_actors_relationship_with_usecase(\"controllers\", \"modify\", \"data flow\", \"usecase_028\")\n",
        "app.create_actors_relationship_with_usecase(\"underlay\", \"has\", \"data flow\", \"usecase_028\")\n",
        "app.create_actors_relationship_with_usecase(\"underlay\", \"has\", \"control flow\", \"usecase_028\")\n",
        "app.create_actors_relationship_with_usecase(\"training\", \"need\", \"cost\", \"usecase_028\")\n",
        "app.create_actors_relationship_with_usecase(\"data-driven neural networks\", \"reduce\", \"signalling\", \"usecase_028\")\n",
        "\n",
        "app.create_actors_relationship_with_usecase(\"5G NR beam management\", \"are\", \"controllers\", \"usecase_028\")\n",
        "app.create_actors_relationship_with_usecase(\"5G NR beam management\", \"has\", \"codebook\", \"usecase_028\")\n",
        "app.create_actors_relationship_with_usecase(\"5G NR beam management\", \"has\", \"codebook\", \"usecase_028\")\n",
        "app.create_actors_relationship_with_usecase(\"5G NR beam management\", \"need\", \"data collection\", \"usecase_028\")\n",
        "app.create_actors_relationship_with_usecase(\"5G NR beam management\", \"has\", \"antennas\", \"usecase_028\")\n",
        "app.create_actors_relationship_with_usecase(\"5G NR beam management\", \"has\", \"gains\", \"usecase_028\")\n",
        "app.create_actors_relationship_with_usecase(\"5G NR beam management\", \"has\", \"location\", \"usecase_028\")\n",
        "app.create_actors_relationship_with_usecase(\"5G NR beam management\", \"has\", \"AoA\", \"usecase_028\")\n",
        "app.create_actors_relationship_with_usecase(\"5G NR beam management\", \"has\", \"beam sweep\", \"usecase_028\")\n",
        "app.create_actors_relationship_with_usecase(\"5G NR beam management\", \"has\", \"beam measurement\", \"usecase_028\")\n",
        "app.create_actors_relationship_with_usecase(\"5G NR beam management\", \"has\", \"beam decision\", \"usecase_028\")\n",
        "app.create_actors_relationship_with_usecase(\"5G NR beam management\", \"has\", \"pilot-less estimation\", \"usecase_028\")\n",
        "app.create_actors_relationship_with_usecase(\"5G NR beam management\", \"has\", \"coordination free\", \"usecase_028\")\n",
        "app.create_actors_relationship_with_usecase(\"5G NR beam management\", \"has\", \"inference\", \"usecase_028\")\n",
        "\n",
        "app.create_actors_relationship_with_usecase(\"SRC\", \"has\", \"Signal-to-Noise-Ratio (SNR) levels\", \"usecase_028\")\n",
        "app.create_actors_relationship_with_usecase(\"SRC\", \"has\", \"beam measurement\", \"usecase_028\")"
      ]
    },
    {
      "cell_type": "code",
      "execution_count": null,
      "metadata": {},
      "outputs": [],
      "source": [
        "app.find_all_usecase_actors_label(\"usecase_028\")"
      ]
    },
    {
      "cell_type": "markdown",
      "metadata": {},
      "source": [
        "### FG-AN-USECASE-029"
      ]
    },
    {
      "cell_type": "code",
      "execution_count": null,
      "metadata": {},
      "outputs": [],
      "source": [
        "app.create_actors_relationship_with_usecase(\"Evolution controller\", \"uses\", \n",
        "                                        \"controller repository\", \"usecase_029\") \n",
        "app.create_actors_relationship_with_usecase(\"data collection\", \"need\", \n",
        "                                        \"evolution\", \"usecase_029\")    \n",
        "app.create_actors_relationship_with_usecase(\"modules\", \"need\", \n",
        "                                        \"evolution\", \"usecase_029\")  \n",
        "app.create_actors_relationship_with_usecase(\"Data analytics\", \"need\", \n",
        "                                        \"evolution\", \"usecase_029\")   \n",
        "\n",
        "app.create_actors_relationship_with_usecase(\"modules\", \"are\", \n",
        "                                        \"3rd party\", \n",
        "                                        \"usecase_029\")          \n",
        "app.create_actors_relationship_with_usecase(\"AR glasses\", \"are\", \n",
        "                                        \"data collection\", \n",
        "                                        \"usecase_029\")    \n",
        "app.create_actors_relationship_with_usecase(\"AR glasses\", \"has\", \n",
        "                                        \"QR code reading\", \n",
        "                                        \"usecase_029\")  \n",
        "app.create_actors_relationship_with_usecase(\"AR glasses\", \"has\", \n",
        "                                        \"optical character recognition\", \n",
        "                                        \"usecase_029\") \n",
        "app.create_actors_relationship_with_usecase(\"AR glasses\", \"has\", \n",
        "                                        \"device port recognition\", \n",
        "                                        \"usecase_029\")  \n",
        "app.create_actors_relationship_with_usecase(\"AR glasses\", \"has\", \n",
        "                                        \"output rendering\", \n",
        "                                        \"usecase_029\") \n",
        "\n",
        "app.create_actors_relationship_with_usecase(\"Intelligent Maintenance Assistance System\", \n",
        "                                        \"are\", \n",
        "                                        \"controllers\", \n",
        "                                        \"usecase_029\")\n",
        "app.create_actors_relationship_with_usecase(\"Intelligent Maintenance Assistance System\", \n",
        "                                        \"has\", \n",
        "                                        \"AR glasses\", \n",
        "                                        \"usecase_029\")                                    \n",
        "app.create_actors_relationship_with_usecase(\"Intelligent Maintenance Assistance System\", \n",
        "                                        \"has\", \n",
        "                                        \"ML model\", \n",
        "                                        \"usecase_029\")   \n",
        "app.create_actors_relationship_with_usecase(\"Intelligent Maintenance Assistance System\", \n",
        "                                        \"has\", \n",
        "                                        \"visual Simultaneous Localization And Mapping\", \n",
        "                                        \"usecase_029\")   \n",
        "app.create_actors_relationship_with_usecase(\"digital twin\", \n",
        "                                        \"has\", \n",
        "                                        \"visual Simultaneous Localization And Mapping\", \n",
        "                                        \"usecase_029\")  \n",
        "app.create_actors_relationship_with_usecase( \n",
        "                                        \"visual Simultaneous Localization And Mapping\", \n",
        "                                        \"need\",\n",
        "                                        \"real data\",\n",
        "                                        \"usecase_029\")\n",
        "app.create_actors_relationship_with_usecase( \n",
        "                                        \"visual Simultaneous Localization And Mapping\", \n",
        "                                        \"need\",\n",
        "                                        \"simulated data\",\n",
        "                                        \"usecase_029\")\n",
        "app.create_actors_relationship_with_usecase( \n",
        "                                        \"simulators\", \n",
        "                                        \"generate\",\n",
        "                                        \"simulated data\",\n",
        "                                        \"usecase_029\")\n",
        "app.create_actors_relationship_with_usecase( \n",
        "                                        \"underlay\", \n",
        "                                        \"generate\",\n",
        "                                        \"real data\",\n",
        "                                        \"usecase_029\")\n",
        "app.create_actors_relationship_with_usecase( \n",
        "                                        \"Intelligent Maintenance Assistance System\", \n",
        "                                        \"generate\",\n",
        "                                        \"reports\",\n",
        "                                        \"usecase_029\")\n",
        "app.create_actors_relationship_with_usecase( \n",
        "                                        \"Intelligent Maintenance Assistance System\", \n",
        "                                        \"integrate\",\n",
        "                                        \"Software development kit\",\n",
        "                                        \"usecase_029\")\n",
        "app.create_actors_relationship_with_usecase( \n",
        "                                        \"3rd party\", \n",
        "                                        \"uses\",\n",
        "                                        \"Software development kit\",\n",
        "                                        \"usecase_029\")\n"
      ]
    },
    {
      "cell_type": "code",
      "execution_count": null,
      "metadata": {},
      "outputs": [],
      "source": [
        "app.find_all_usecase_actors_label(\"usecase_029\")"
      ]
    },
    {
      "cell_type": "markdown",
      "metadata": {},
      "source": [
        "### FG-AN-USECASE-030"
      ]
    },
    {
      "cell_type": "code",
      "execution_count": null,
      "metadata": {},
      "outputs": [],
      "source": [
        "app.create_actors_relationship_with_usecase( \n",
        "                                        \"controllers\", \n",
        "                                        \"are\",\n",
        "                                        \"3rd party\",\n",
        "                                        \"usecase_030\")\n",
        "app.create_actors_relationship_with_usecase( \n",
        "                                        \"controller repository\", \n",
        "                                        \"are\",\n",
        "                                        \"3rd party\",\n",
        "                                        \"usecase_030\")\n",
        "app.create_actors_relationship_with_usecase( \n",
        "                                        \"evolution\", \n",
        "                                        \"uses\",\n",
        "                                        \"underlay capabilities\",\n",
        "                                        \"usecase_030\")\n",
        "app.create_actors_relationship_with_usecase( \n",
        "                                        \"underlay\", \n",
        "                                        \"publish\",\n",
        "                                        \"underlay capabilities\",\n",
        "                                        \"usecase_030\")\n",
        "app.create_actors_relationship_with_usecase( \n",
        "                                        \"controllers\", \n",
        "                                        \"has\",\n",
        "                                        \"controller placement\",\n",
        "                                        \"usecase_030\")\n",
        "app.create_actors_relationship_with_usecase( \n",
        "                                        \"controller placement\", \n",
        "                                        \"has\",\n",
        "                                        \"placement algorithms\",\n",
        "                                        \"usecase_030\")\n",
        "\n",
        "app.create_actors_relationship_with_usecase( \n",
        "                                        \"edge network\", \n",
        "                                        \"provides\",\n",
        "                                        \"data collection\",\n",
        "                                        \"usecase_030\")\n",
        "app.create_actors_relationship_with_usecase( \n",
        "                                        \"data collection\", \n",
        "                                        \"has\",\n",
        "                                        \"resource status\",\n",
        "                                        \"usecase_030\")\n",
        "app.create_actors_relationship_with_usecase( \n",
        "                                        \"edge network\", \n",
        "                                        \"provides\",\n",
        "                                        \"data collection\",\n",
        "                                        \"usecase_030\")\n",
        "app.create_actors_relationship_with_usecase( \n",
        "                                        \"service migration methods\", \n",
        "                                        \"is\",\n",
        "                                        \"controllers\",\n",
        "                                        \"usecase_030\")\n",
        "app.create_actors_relationship_with_usecase( \n",
        "                                        \"edge network\", \n",
        "                                        \"has\",\n",
        "                                        \"underlay specific APIs\",\n",
        "                                        \"usecase_030\")\n",
        "app.create_actors_relationship_with_usecase( \n",
        "                                        \"underlay specific APIs\", \n",
        "                                        \"enable\",\n",
        "                                        \"controller deployment\",\n",
        "                                        \"usecase_030\")\n",
        "app.create_actors_relationship_with_usecase( \n",
        "                                        \"service migration methods\", \n",
        "                                        \"has\",\n",
        "                                        \"Data analytics\",\n",
        "                                        \"usecase_030\")"
      ]
    },
    {
      "cell_type": "code",
      "execution_count": null,
      "metadata": {},
      "outputs": [],
      "source": [
        "app.find_all_usecase_actors_label(\"usecase_030\")"
      ]
    },
    {
      "cell_type": "markdown",
      "metadata": {},
      "source": [
        "### FG-AN-USECASE-031"
      ]
    },
    {
      "cell_type": "code",
      "execution_count": null,
      "metadata": {},
      "outputs": [],
      "source": [
        "app.create_actors_relationship_with_usecase( \n",
        "                                        \"Experimentation controller\", \n",
        "                                        \"input\",\n",
        "                                        \"evolvable controllers\",\n",
        "                                        \"usecase_031\")\n",
        "app.create_actors_relationship_with_usecase( \n",
        "                                        \"adaptation controller\", \n",
        "                                        \"input\",\n",
        "                                        \"evolvable controllers\",\n",
        "                                        \"usecase_031\")\n",
        "app.create_actors_relationship_with_usecase( \n",
        "                                        \"controller repository\", \n",
        "                                        \"stores\",\n",
        "                                        \"evolvable controllers\",\n",
        "                                        \"usecase_031\")\n",
        "app.create_actors_relationship_with_usecase( \n",
        "                                        \"intent\", \n",
        "                                        \"uses\",\n",
        "                                        \"standard format\",\n",
        "                                        \"usecase_031\")\n"
      ]
    },
    {
      "cell_type": "code",
      "execution_count": null,
      "metadata": {},
      "outputs": [],
      "source": [
        "app.find_all_usecase_actors_label(\"usecase_031\")"
      ]
    },
    {
      "cell_type": "markdown",
      "metadata": {},
      "source": [
        "### FG-AN-USECASE-032"
      ]
    },
    {
      "cell_type": "code",
      "execution_count": null,
      "metadata": {},
      "outputs": [],
      "source": [
        "app.create_actors_relationship_with_usecase( \n",
        "                                        \"Evolution controller\", \n",
        "                                        \"design\",\n",
        "                                        \"inter-controller interface\",\n",
        "                                        \"usecase_032\")\n",
        "app.create_actors_relationship_with_usecase( \n",
        "                                        \"3rd party\", \n",
        "                                        \"implements\",\n",
        "                                        \"inter-controller interface\",\n",
        "                                        \"usecase_032\")\n",
        "app.create_actors_relationship_with_usecase( \n",
        "                                        \"inter-controller interface\", \n",
        "                                        \"has\",\n",
        "                                        \"interaction strategies\",\n",
        "                                        \"usecase_032\")\n",
        "app.create_actors_relationship_with_usecase( \n",
        "                                        \"strategies\", \n",
        "                                        \"are\",\n",
        "                                        \"interaction strategies\",\n",
        "                                        \"usecase_032\")\n",
        "app.create_actors_relationship_with_usecase( \n",
        "                                        \"game theory\", \n",
        "                                        \"are\",\n",
        "                                        \"strategies\",\n",
        "                                        \"usecase_032\")\n",
        "app.create_actors_relationship_with_usecase( \n",
        "                                        \"strategies\", \n",
        "                                        \"need\",\n",
        "                                        \"monitoring\",\n",
        "                                        \"usecase_032\")\n",
        "app.create_actors_relationship_with_usecase( \n",
        "                                        \"strategies\", \n",
        "                                        \"need\",\n",
        "                                        \"optimization\",\n",
        "                                        \"usecase_032\")\n",
        "app.create_actors_relationship_with_usecase( \n",
        "                                        \"strategies\", \n",
        "                                        \"need\",\n",
        "                                        \"experiments\",\n",
        "                                        \"usecase_032\")\n",
        "app.create_actors_relationship_with_usecase( \n",
        "                                        \"resource allocation\", \n",
        "                                        \"is\",\n",
        "                                        \"controllers\",\n",
        "                                        \"usecase_032\")\n",
        "app.create_actors_relationship_with_usecase( \n",
        "                                        \"small cells\", \n",
        "                                        \"need\",\n",
        "                                        \"resource allocation\",\n",
        "                                        \"usecase_032\")\n",
        "app.create_actors_relationship_with_usecase( \n",
        "                                        \"resource allocation\", \n",
        "                                        \"need\",\n",
        "                                        \"subchannel allocation\",\n",
        "                                        \"usecase_032\")\n",
        "app.create_actors_relationship_with_usecase( \n",
        "                                        \"resource allocation\", \n",
        "                                        \"need\",\n",
        "                                        \"power allocation\",\n",
        "                                        \"usecase_032\")\n",
        "app.create_actors_relationship_with_usecase( \n",
        "                                        \"resource allocation\", \n",
        "                                        \"need\",\n",
        "                                        \"power allocation\",\n",
        "                                        \"usecase_032\")\n",
        "app.create_actors_relationship_with_usecase( \n",
        "                                        \"game theory\", \n",
        "                                        \"has\",\n",
        "                                        \"players\",\n",
        "                                        \"usecase_032\")\n",
        "app.create_actors_relationship_with_usecase( \n",
        "                                        \"players\", \n",
        "                                        \"need\",\n",
        "                                        \"evolution\",\n",
        "                                        \"usecase_032\")\n",
        "app.create_actors_relationship_with_usecase( \n",
        "                                        \"resource allocation\", \n",
        "                                        \"has\",\n",
        "                                        \"outer loop\",\n",
        "                                        \"usecase_032\")\n",
        "app.create_actors_relationship_with_usecase( \n",
        "                                        \"outer loop\", \n",
        "                                        \"has\",\n",
        "                                        \"equilibrium inference\",\n",
        "                                        \"usecase_032\")\n",
        "app.create_actors_relationship_with_usecase( \n",
        "                                        \"resource allocation\", \n",
        "                                        \"has\",\n",
        "                                        \"inner loop\",\n",
        "                                        \"usecase_032\")\n",
        "app.create_actors_relationship_with_usecase( \n",
        "                                        \"inner loop\", \n",
        "                                        \"has\",\n",
        "                                        \"resource optimization\",\n",
        "                                        \"usecase_032\")\n",
        "app.create_actors_relationship_with_usecase( \n",
        "                                        \"strategies\", \n",
        "                                        \"has\",\n",
        "                                        \"tradeoff\",\n",
        "                                        \"usecase_032\")\n",
        "app.create_actors_relationship_with_usecase( \n",
        "                                        \"tradeoff\", \n",
        "                                        \"is\",\n",
        "                                        \"gain\",\n",
        "                                        \"usecase_032\")\n",
        "app.create_actors_relationship_with_usecase( \n",
        "                                        \"tradeoff\", \n",
        "                                        \"is\",\n",
        "                                        \"low latency\",\n",
        "                                        \"usecase_032\")\n",
        "app.create_actors_relationship_with_usecase( \n",
        "                                        \"tradeoff\", \n",
        "                                        \"is\",\n",
        "                                        \"privacy\",\n",
        "                                        \"usecase_032\")\n",
        "app.create_actors_relationship_with_usecase( \n",
        "                                        \"players\", \n",
        "                                        \"is\",\n",
        "                                        \"cooperating\",\n",
        "                                        \"usecase_032\")\n",
        "app.create_actors_relationship_with_usecase( \n",
        "                                        \"players\", \n",
        "                                        \"is\",\n",
        "                                        \"non-cooperating\",\n",
        "                                        \"usecase_032\")"
      ]
    },
    {
      "cell_type": "code",
      "execution_count": null,
      "metadata": {},
      "outputs": [],
      "source": [
        "app.find_all_usecase_actors_label(\"usecase_032\")"
      ]
    },
    {
      "cell_type": "markdown",
      "metadata": {},
      "source": [
        "### FG-AN-USECASE-033"
      ]
    },
    {
      "cell_type": "code",
      "execution_count": null,
      "metadata": {},
      "outputs": [],
      "source": [
        "app.create_actors_relationship_with_usecase( \n",
        "                                        \"Adaptation controller\", \n",
        "                                        \"has\",\n",
        "                                        \"customization\",\n",
        "                                        \"usecase_033\")\n",
        "app.create_actors_relationship_with_usecase( \n",
        "                                        \"controllers\", \n",
        "                                        \"need\",\n",
        "                                        \"customization\",\n",
        "                                        \"usecase_033\")\n",
        "app.create_actors_relationship_with_usecase( \n",
        "                                        \"customization\", \n",
        "                                        \"are\",\n",
        "                                        \"runtime\",\n",
        "                                        \"usecase_033\")\n",
        "app.create_actors_relationship_with_usecase( \n",
        "                                        \"customization\", \n",
        "                                        \"are\",\n",
        "                                        \"underlay specific configurations\",\n",
        "                                        \"usecase_033\")\n",
        "app.create_actors_relationship_with_usecase( \n",
        "                                        \"tools\", \n",
        "                                        \"has\",\n",
        "                                        \"visualization\",\n",
        "                                        \"usecase_033\")\n",
        "app.create_actors_relationship_with_usecase( \n",
        "                                        \"tools\", \n",
        "                                        \"has\",\n",
        "                                        \"development environment\",\n",
        "                                        \"usecase_033\")\n",
        "app.create_actors_relationship_with_usecase( \n",
        "                                        \"controllers\", \n",
        "                                        \"need\",\n",
        "                                        \"tools\",\n",
        "                                        \"usecase_033\")\n",
        "app.create_actors_relationship_with_usecase( \n",
        "                                        \"Evolution controller\", \n",
        "                                        \"integrates\",\n",
        "                                        \"3rd party\",\n",
        "                                        \"usecase_033\")\n",
        "app.create_actors_relationship_with_usecase( \n",
        "                                        \"service automation\", \n",
        "                                        \"is\",\n",
        "                                        \"controllers\",\n",
        "                                        \"usecase_033\")\n",
        "app.create_actors_relationship_with_usecase( \n",
        "                                        \"service automation\", \n",
        "                                        \"has\",\n",
        "                                        \"workflows\",\n",
        "                                        \"usecase_033\")\n",
        "app.create_actors_relationship_with_usecase( \n",
        "                                        \"workflows\", \n",
        "                                        \"has\",\n",
        "                                        \"tasks\",\n",
        "                                        \"usecase_033\")\n",
        "app.create_actors_relationship_with_usecase( \n",
        "                                        \"workflows\", \n",
        "                                        \"has\",\n",
        "                                        \"definitions\",\n",
        "                                        \"usecase_033\")\n",
        "app.create_actors_relationship_with_usecase( \n",
        "                                        \"definitions\", \n",
        "                                        \"use\",\n",
        "                                        \"domain specific language\",\n",
        "                                        \"usecase_033\")\n",
        "app.create_actors_relationship_with_usecase( \n",
        "                                        \"tasks\", \n",
        "                                        \"are\",\n",
        "                                        \"control tasks\",\n",
        "                                        \"usecase_033\")\n",
        "app.create_actors_relationship_with_usecase( \n",
        "                                        \"tasks\", \n",
        "                                        \"are\",\n",
        "                                        \"application tasks\",\n",
        "                                        \"usecase_033\")\n",
        "app.create_actors_relationship_with_usecase( \n",
        "                                        \"workflows\", \n",
        "                                        \"are\",\n",
        "                                        \"preloaded\",\n",
        "                                        \"usecase_033\")\n",
        "app.create_actors_relationship_with_usecase( \n",
        "                                        \"workflows\", \n",
        "                                        \"need\",\n",
        "                                        \"composed\",\n",
        "                                        \"usecase_033\")\n",
        "app.create_actors_relationship_with_usecase( \n",
        "                                        \"workflows\", \n",
        "                                        \"need\",\n",
        "                                        \"deployment\",\n",
        "                                        \"usecase_033\")\n",
        "app.create_actors_relationship_with_usecase( \n",
        "                                        \"workflows\", \n",
        "                                        \"need\",\n",
        "                                        \"validation\",\n",
        "                                        \"usecase_033\")\n",
        "app.create_actors_relationship_with_usecase( \n",
        "                                        \"workflows\", \n",
        "                                        \"need\",\n",
        "                                        \"monitoring\",\n",
        "                                        \"usecase_033\")\n",
        "app.create_actors_relationship_with_usecase( \n",
        "                                        \"workflows\", \n",
        "                                        \"need\",\n",
        "                                        \"storage\",\n",
        "                                        \"usecase_033\")"
      ]
    },
    {
      "cell_type": "code",
      "execution_count": null,
      "metadata": {},
      "outputs": [],
      "source": [
        "app.find_all_usecase_actors_label(\"usecase_033\")"
      ]
    },
    {
      "cell_type": "markdown",
      "metadata": {},
      "source": [
        "### FG-AN-USECASE-034"
      ]
    },
    {
      "cell_type": "code",
      "execution_count": null,
      "metadata": {},
      "outputs": [],
      "source": [
        "app.create_actors_relationship_with_usecase( \n",
        "                                        \"AN orchestrator\", \n",
        "                                        \"need\",\n",
        "                                        \"intent\",\n",
        "                                        \"usecase_034\")\n",
        "app.create_actors_relationship_with_usecase( \n",
        "                                        \"AN orchestrator\", \n",
        "                                        \"trigger\",\n",
        "                                        \"Evolution controller\",\n",
        "                                        \"usecase_034\")\n",
        "app.create_actors_relationship_with_usecase( \n",
        "                                        \"Evolution controller\", \n",
        "                                        \"optimizes\",\n",
        "                                        \"controller\",\n",
        "                                        \"usecase_034\")\n",
        "app.create_actors_relationship_with_usecase( \n",
        "                                        \"Adaptation controller\", \n",
        "                                        \"need\",\n",
        "                                        \"controller\",\n",
        "                                        \"usecase_034\")\n",
        "app.create_actors_relationship_with_usecase( \n",
        "                                        \"Adaptation controller\", \n",
        "                                        \"need\",\n",
        "                                        \"underlay specific configurations\",\n",
        "                                        \"usecase_034\")\n",
        "app.create_actors_relationship_with_usecase( \n",
        "                                        \"Adaptation controller\", \n",
        "                                        \"gives\",\n",
        "                                        \"underlay integration\",\n",
        "                                        \"usecase_034\")\n",
        "app.create_actors_relationship_with_usecase( \n",
        "                                        \"Adaptation controller\", \n",
        "                                        \"monitor\",\n",
        "                                        \"underlay integration\",\n",
        "                                        \"usecase_034\")\n",
        "app.create_actors_relationship_with_usecase( \n",
        "                                        \"Adaptation controller\", \n",
        "                                        \"has\",\n",
        "                                        \"3rd party\",\n",
        "                                        \"usecase_034\")\n",
        "app.create_actors_relationship_with_usecase( \n",
        "                                        \"dataplane\", \n",
        "                                        \"is\",\n",
        "                                        \"underlay\",\n",
        "                                        \"usecase_034\")\n",
        "app.create_actors_relationship_with_usecase(\"dataplane\", \"has\", \"modules\", \"usecase_034\")\n",
        "app.create_actors_relationship_with_usecase(\"modules\", \"are\", \"Forward Error Correction\", \"usecase_034\")\n",
        "app.create_actors_relationship_with_usecase(\"modules\", \"are\", \"traffic compression\", \"usecase_034\")\n",
        "app.create_actors_relationship_with_usecase(\"modules\", \"are\", \"encapsulation\", \"usecase_034\")\n",
        "app.create_actors_relationship_with_usecase(\"modules\", \"are\", \"decapsulation\", \"usecase_034\")\n",
        "app.create_actors_relationship_with_usecase(\"dataplane\", \"need\", \"controllers\", \"usecase_034\")\n",
        "app.create_actors_relationship_with_usecase(\"Adaptation controller\", \"selects\", \"controllers\", \"usecase_034\")\n",
        "app.create_actors_relationship_with_usecase(\"Adaptation controller\", \"allocates\", \"controllers\", \"usecase_034\")\n",
        "app.create_actors_relationship_with_usecase(\"underlay\", \"deploy\", \"controllers\", \"usecase_034\")\n",
        "app.create_actors_relationship_with_usecase(\"underlay\", \"deploy\", \"controllers\", \"usecase_034\")\n",
        "\n",
        "app.create_actors_relationship_with_usecase(\"underlay orchestrator\", \"tightly coupled\", \"AN orchestrator\", \"usecase_034\")\n",
        "app.create_actors_relationship_with_usecase(\"underlay orchestrator\", \"loosely coupled\", \"AN orchestrator\", \"usecase_034\")\n",
        "\n"
      ]
    },
    {
      "cell_type": "code",
      "execution_count": null,
      "metadata": {},
      "outputs": [],
      "source": [
        "app.find_all_usecase_actors_label(\"usecase_034\")"
      ]
    },
    {
      "cell_type": "markdown",
      "metadata": {},
      "source": [
        "### FG-AN-USECASE-035"
      ]
    },
    {
      "cell_type": "code",
      "execution_count": null,
      "metadata": {},
      "outputs": [],
      "source": [
        "app.create_actors_relationship_with_usecase(\"inner loop\", \"has\", \"sub-intent\", \"usecase_035\")\n",
        "app.create_actors_relationship_with_usecase(\"inner loop\", \"has\", \"domain specific aspects\", \"usecase_035\")\n",
        "app.create_actors_relationship_with_usecase(\"Evolution controller\", \"optimizes\", \"sub-intent\", \"usecase_035\")\n",
        "app.create_actors_relationship_with_usecase(\"Evolution controller\", \"optimizes\", \"sub-intent\", \"usecase_035\")\n",
        "app.create_actors_relationship_with_usecase(\"simulators\", \"have\", \"domain specific aspects\", \"usecase_035\")\n",
        "\n",
        "app.create_actors_relationship_with_usecase(\"AutoML\", \"is\", \"underlay\", \"usecase_035\")\n",
        "app.create_actors_relationship_with_usecase(\"AutoML controller\", \"is\", \"controllers\", \"usecase_035\")\n",
        "app.create_actors_relationship_with_usecase(\"AutoML controller\", \"finds\", \"ML model optimization\", \"usecase_035\")\n",
        "app.create_actors_relationship_with_usecase(\"AN orchestrator\", \"selects\", \"underlay\", \"usecase_035\")\n",
        "app.create_actors_relationship_with_usecase(\"AutoML controller\", \"selects\", \"experiments\", \"usecase_035\")\n",
        "app.create_actors_relationship_with_usecase(\"AutoML controller\", \"optimizes\", \"hyperparameters\", \"usecase_035\")\n",
        "\n",
        "\n",
        "\n"
      ]
    },
    {
      "cell_type": "code",
      "execution_count": null,
      "metadata": {},
      "outputs": [],
      "source": [
        "app.find_all_usecase_actors_label(\"usecase_035\")"
      ]
    },
    {
      "cell_type": "markdown",
      "metadata": {},
      "source": [
        "### FG-AN-USECASE-036"
      ]
    },
    {
      "cell_type": "code",
      "execution_count": null,
      "metadata": {},
      "outputs": [],
      "source": [
        "app.create_actors_relationship_with_usecase(\"RAN slicing controller\", \"is\", \"controllers\", \"usecase_036\")\n",
        "app.create_actors_relationship_with_usecase(\"VNF placement controller\", \"is\", \"controllers\", \"usecase_036\")\n",
        "app.create_actors_relationship_with_usecase(\"SDN controller\", \"is\", \"SRC\", \"usecase_036\")\n",
        "app.create_actors_relationship_with_usecase(\"RAN controller\", \"is\", \"SRC\", \"usecase_036\")\n",
        "\n",
        "app.create_actors_relationship_with_usecase(\"SDN controller\", \"is\", \"SINK\", \"usecase_036\")\n",
        "app.create_actors_relationship_with_usecase(\"RAN controller\", \"is\", \"SINK\", \"usecase_036\")\n",
        "\n",
        "app.create_actors_relationship_with_usecase(\"controllers\", \"use\", \"AI agent\", \"usecase_036\")\n",
        "\n",
        "app.create_actors_relationship_with_usecase(\"AI agent\", \"use\", \"ML model\", \"usecase_036\")\n",
        "app.create_actors_relationship_with_usecase(\"AI agent\", \"select\", \"ML model\", \"usecase_036\")\n",
        "app.create_actors_relationship_with_usecase(\"AI agent\", \"optimize\", \"ML model\", \"usecase_036\")\n",
        "app.create_actors_relationship_with_usecase(\"AI agent\", \"tightly coupled\", \"AN orchestrator\", \"usecase_036\")\n",
        "app.create_actors_relationship_with_usecase(\"AI agent\", \"loosely coupled\", \"AN orchestrator\", \"usecase_036\")"
      ]
    },
    {
      "cell_type": "code",
      "execution_count": null,
      "metadata": {},
      "outputs": [],
      "source": [
        "app.find_all_usecase_actors_label(\"usecase_036\")"
      ]
    },
    {
      "cell_type": "markdown",
      "metadata": {},
      "source": [
        "### FG-AN-USECASE-037"
      ]
    },
    {
      "cell_type": "code",
      "execution_count": null,
      "metadata": {},
      "outputs": [],
      "source": [
        "app.create_actors_relationship_with_usecase(\"network sharing controller\", \"is\", \"controllers\", \"usecase_037\")\n",
        "app.create_actors_relationship_with_usecase(\"network sharing controller\", \"has\", \"resource scaling\", \"usecase_037\")\n",
        "\n",
        "app.create_actors_relationship_with_usecase(\"resource allocation\", \"across\", \"network operator domains\", \"usecase_037\")\n",
        "app.create_actors_relationship_with_usecase(\"resource allocation\", \"has\", \"dynamic service agreement\", \"usecase_037\")\n",
        "\n",
        "app.create_actors_relationship_with_usecase(\"network operator domains\", \"are\", \"RAN\", \"usecase_037\")\n",
        "app.create_actors_relationship_with_usecase(\"network operator domains\", \"are\", \"transport network\", \"usecase_037\")\n",
        "app.create_actors_relationship_with_usecase(\"network operator domains\", \"are\", \"Core network\", \"usecase_037\")\n",
        "\n",
        "app.create_actors_relationship_with_usecase(\"dynamic service agreement\", \"are\", \"smart contract\", \"usecase_037\")"
      ]
    },
    {
      "cell_type": "code",
      "execution_count": null,
      "metadata": {},
      "outputs": [],
      "source": [
        "app.find_all_usecase_actors_label(\"usecase_037\")"
      ]
    },
    {
      "cell_type": "markdown",
      "metadata": {},
      "source": [
        "### FG-AN-USECASE-038"
      ]
    },
    {
      "cell_type": "code",
      "execution_count": null,
      "metadata": {},
      "outputs": [],
      "source": [
        "app.create_actors_relationship_with_usecase(\"supply chain management controller\", \"is\", \"controller\", \"usecase_038\")\n",
        "app.create_actors_relationship_with_usecase(\"supply chain management controller\", \"monitors\", \"underlay\", \"usecase_038\")\n",
        "app.create_actors_relationship_with_usecase(\"supply chain management controller\", \"finds\", \"failure\", \"usecase_038\")\n",
        "app.create_actors_relationship_with_usecase(\"supply chain management controller\", \"raises\", \"purchase order\", \"usecase_038\")\n",
        "app.create_actors_relationship_with_usecase(\"supply chain management controller\", \"notify\", \"NF configure request\", \"usecase_038\")\n",
        "app.create_actors_relationship_with_usecase(\"NF configure request\", \"needs\", \"underlay specific configurations\", \"usecase_038\")\n",
        "app.create_actors_relationship_with_usecase(\"supply chain management controller\", \"triggers\", \"Experimentation controller\", \"usecase_038\")\n",
        "app.create_actors_relationship_with_usecase(\"supply chain management controller\", \"triggers\", \"Adaptation controller\", \"usecase_038\")"
      ]
    },
    {
      "cell_type": "code",
      "execution_count": null,
      "metadata": {},
      "outputs": [],
      "source": [
        "app.find_all_usecase_actors_label(\"usecase_038\")"
      ]
    },
    {
      "cell_type": "markdown",
      "metadata": {},
      "source": [
        "### FG-AN-USECASE-039"
      ]
    },
    {
      "cell_type": "code",
      "execution_count": null,
      "metadata": {},
      "outputs": [],
      "source": [
        "app.create_actors_relationship_with_usecase(\"Evolution controller\", \"discovers\", \n",
        "                                        \"use cases\", \"usecase_039\") \n",
        "app.create_actors_relationship_with_usecase(\"Evolution controller\", \"search\", \n",
        "                                        \"controller repository\", \"usecase_039\") \n",
        "app.create_actors_relationship_with_usecase(\"Evolution controller\", \"finds\", \n",
        "                                        \"controllers\", \"usecase_039\") \n",
        "app.create_actors_relationship_with_usecase(\"Evolution controller\", \"triggers\", \n",
        "                                        \"Experimentation controller\", \"usecase_039\") \n",
        "app.create_actors_relationship_with_usecase(\"Evolution controller\", \"needs\", \n",
        "                                        \"controller selection\", \"usecase_039\") \n",
        "app.create_actors_relationship_with_usecase(\"Adaptation controller\", \"providers\", \n",
        "                                        \"controller selection\", \"usecase_039\") \n",
        "app.create_actors_relationship_with_usecase(\"Adaptation controller\", \"providers\", \n",
        "                                        \"monitoring\", \"usecase_039\") \n",
        "app.create_actors_relationship_with_usecase(\"Adaptation controller\", \"providers\", \n",
        "                                        \"reports\", \"usecase_039\") "
      ]
    },
    {
      "cell_type": "code",
      "execution_count": null,
      "metadata": {},
      "outputs": [],
      "source": [
        "app.find_all_usecase_actors_label(\"usecase_039\")"
      ]
    },
    {
      "cell_type": "markdown",
      "metadata": {},
      "source": [
        "### FG-AN-USECASE-040"
      ]
    },
    {
      "cell_type": "code",
      "execution_count": null,
      "metadata": {},
      "outputs": [],
      "source": [
        "app.create_actors_relationship_with_usecase(\"traffic offload controller\", \"is\", \"controller\", \"usecase_040\") \n",
        "app.create_actors_relationship_with_usecase(\"traffic offload controller\", \"monitor\", \"underlay\", \"usecase_040\") \n",
        "app.create_actors_relationship_with_usecase(\"traffic offload controller\", \"trigger\", \"traffic offload request\", \"usecase_040\") \n",
        "app.create_actors_relationship_with_usecase(\"traffic offload controller\", \"evaluate\", \"SLA response\", \"usecase_040\") \n",
        "app.create_actors_relationship_with_usecase(\"traffic offload controller\", \"triggers\", \"Adaptation controller\", \"usecase_040\") \n",
        "app.create_actors_relationship_with_usecase(\"traffic offload controller\", \"configures\", \"traffic offload\", \"usecase_040\") \n",
        "app.create_actors_relationship_with_usecase(\"traffic offload controller\", \"discover\", \"traffic offload controller\", \"usecase_040\") "
      ]
    },
    {
      "cell_type": "code",
      "execution_count": null,
      "metadata": {},
      "outputs": [],
      "source": [
        "app.find_all_usecase_actors_label(\"usecase_040\")"
      ]
    },
    {
      "cell_type": "markdown",
      "metadata": {
        "id": "eBr7q13XvyeB"
      },
      "source": [
        "## Final Step: close the database connection"
      ]
    },
    {
      "cell_type": "code",
      "execution_count": null,
      "metadata": {
        "id": "J2ak5OTtvrLd"
      },
      "outputs": [],
      "source": [
        "app.close()"
      ]
    }
  ],
  "metadata": {
    "colab": {
      "authorship_tag": "ABX9TyMfoUUUlANqe1pLt2gRa7nw",
      "collapsed_sections": [],
      "include_colab_link": true,
      "name": "build-a-thon-graph-v1.ipynb",
      "provenance": [],
      "toc_visible": true
    },
    "kernelspec": {
      "display_name": "Python 3.8.13 ('myenv38b')",
      "language": "python",
      "name": "python3"
    },
    "language_info": {
      "codemirror_mode": {
        "name": "ipython",
        "version": 3
      },
      "file_extension": ".py",
      "mimetype": "text/x-python",
      "name": "python",
      "nbconvert_exporter": "python",
      "pygments_lexer": "ipython3",
      "version": "3.8.13"
    },
    "vscode": {
      "interpreter": {
        "hash": "b0ccdf644f691f804a1730b15f45eec8ab8f72a9dbd0363d61152d7c15fc1bc6"
      }
    }
  },
  "nbformat": 4,
  "nbformat_minor": 0
}
