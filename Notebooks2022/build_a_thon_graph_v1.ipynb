{
  "cells": [
    {
      "cell_type": "markdown",
      "metadata": {
        "id": "view-in-github",
        "colab_type": "text"
      },
      "source": [
        "<a href=\"https://colab.research.google.com/github/vrra/FGAN-Build-a-thon-2022/blob/main/Notebooks2022/build_a_thon_graph_v1.ipynb\" target=\"_parent\"><img src=\"https://colab.research.google.com/assets/colab-badge.svg\" alt=\"Open In Colab\"/></a>"
      ]
    },
    {
      "cell_type": "markdown",
      "metadata": {
        "id": "xvVYTJnpc8NW"
      },
      "source": [
        "Created: 14 Apr 2022.   \n",
        "Contact: Vishnu Ram OV.   \n",
        "vishnu.n@ieee.org.   \n",
        "Licence: available for all purposes under the sun\n"
      ]
    },
    {
      "cell_type": "markdown",
      "metadata": {
        "id": "TOxLkcQAfFsO"
      },
      "source": [
        "Refer: https://neo4j.com/docs/aura/auradb/getting-started/create-database/"
      ]
    },
    {
      "cell_type": "markdown",
      "metadata": {
        "id": "Seq4Lm-HdDJY"
      },
      "source": [
        "step-1: install neo4j"
      ]
    },
    {
      "cell_type": "code",
      "execution_count": 1,
      "metadata": {
        "colab": {
          "base_uri": "https://localhost:8080/"
        },
        "id": "hKFE_mBLcWJL",
        "outputId": "ed3858a8-9eb2-466a-b1f2-ce5461cbb40a"
      },
      "outputs": [
        {
          "output_type": "stream",
          "name": "stdout",
          "text": [
            "Looking in indexes: https://pypi.org/simple, https://us-python.pkg.dev/colab-wheels/public/simple/\n",
            "Collecting neo4j\n",
            "  Downloading neo4j-4.4.3.tar.gz (90 kB)\n",
            "\u001b[K     |████████████████████████████████| 90 kB 3.8 MB/s \n",
            "\u001b[?25hRequirement already satisfied: pytz in /usr/local/lib/python3.7/dist-packages (from neo4j) (2022.1)\n",
            "Building wheels for collected packages: neo4j\n",
            "  Building wheel for neo4j (setup.py) ... \u001b[?25l\u001b[?25hdone\n",
            "  Created wheel for neo4j: filename=neo4j-4.4.3-py3-none-any.whl size=116069 sha256=8f86de972ec6a9d0c6ad174f3f5a9b557eb4b0e8a4e62594b51c6a6448df50df\n",
            "  Stored in directory: /root/.cache/pip/wheels/db/dd/76/acacd519878f133f2f869aec70db548d89e04013209c3c62bc\n",
            "Successfully built neo4j\n",
            "Installing collected packages: neo4j\n",
            "Successfully installed neo4j-4.4.3\n"
          ]
        }
      ],
      "source": [
        "pip install neo4j\n"
      ]
    },
    {
      "cell_type": "markdown",
      "metadata": {
        "id": "P49wR7FPejI6"
      },
      "source": [
        "step-2: imports"
      ]
    },
    {
      "cell_type": "code",
      "execution_count": 2,
      "metadata": {
        "id": "CMXk5yZcd-Jt"
      },
      "outputs": [],
      "source": [
        "from neo4j import GraphDatabase\n",
        "import logging\n",
        "from neo4j.exceptions import ServiceUnavailable"
      ]
    },
    {
      "cell_type": "markdown",
      "metadata": {
        "id": "QJsfeO0Ve03C"
      },
      "source": [
        "step-3: define helper class"
      ]
    },
    {
      "cell_type": "code",
      "execution_count": 20,
      "metadata": {
        "id": "FccBUxEIeKf_"
      },
      "outputs": [],
      "source": [
        "\n",
        "\n",
        "class App:\n",
        "\n",
        "    def __init__(self, uri, user, password):\n",
        "        self.driver = GraphDatabase.driver(uri, auth=(user, password))\n",
        "\n",
        "    def close(self):\n",
        "        # Don't forget to close the driver connection when you are finished with it\n",
        "        self.driver.close()\n",
        "\n",
        "    #Vishnu: 1 Jun 2022: added relationships names\n",
        "    #Vishnu: CAUTION: side-effect: this f() creates the nodes\n",
        "    def create_nodes_with_friendship(self, actor1_name, actor2_name, rel_name):\n",
        "        with self.driver.session() as session:\n",
        "            # Write transactions allow the driver to handle retries and transient errors\n",
        "            result = session.write_transaction(\n",
        "                self._create_and_return_friendship, actor1_name, actor2_name, rel_name)\n",
        "            for row in result:\n",
        "                print(\"Created friendship between: {n1}, {n2}\".format(n1=row['n1'], n2=row['n2']))\n",
        "    \n",
        "    #Vishnu: 1 Jun 2022: added relationships names\n",
        "    #Vishnu: CAUTION: side-effect: this f() creates the nodes\n",
        "    #NOTE: we use labels and properties for nodes\n",
        "    #NOTE: we use relationtypes only \n",
        "    #TBD - to search for existing nodes and reuse them.\n",
        "    #TBD - add properties to relationships\n",
        "\n",
        "    @staticmethod\n",
        "    def _create_and_return_friendship(tx, actor1_name, actor2_name, rel_name):\n",
        "        # To learn more about the Cypher syntax, see https://neo4j.com/docs/cypher-manual/current/\n",
        "        # The Reference Card is also a good resource for keywords https://neo4j.com/docs/cypher-refcard/current/\n",
        "        query = (\n",
        "            \"CREATE (n1:Actor { name: $actor1_name }) \"\n",
        "            \"CREATE (n2:Actor { name: $actor2_name }) \"\n",
        "            \"CREATE (n1)-[:\" + rel_name + \"]->(n2) \"\n",
        "            \"RETURN n1, n2\"\n",
        "        )\n",
        "        result = tx.run(query, actor1_name=actor1_name, actor2_name=actor2_name)\n",
        "        try:\n",
        "            return [{\"n1\": row[\"n1\"][\"name\"], \"n2\": row[\"n2\"][\"name\"]}\n",
        "                    for row in result]\n",
        "        # Capture any errors along with the query and data for traceability\n",
        "        except ServiceUnavailable as exception:\n",
        "            logging.error(\"{query} raised an error: \\n {exception}\".format(\n",
        "                query=query, exception=exception))\n",
        "            raise\n",
        "\n",
        "    def find_all_actors(self):\n",
        "        with self.driver.session() as session:\n",
        "            result = session.read_transaction(self._find_and_return_all_actors)\n",
        "            i=0\n",
        "            for row in result:\n",
        "                i=i+1\n",
        "                print(\"Found actor-\"+ str(i) +\": {row}\".format(row=row))\n",
        "\n",
        "    @staticmethod\n",
        "    def _find_and_return_all_actors(tx):\n",
        "        query = (\n",
        "            \"MATCH (n:Actor) \"\n",
        "            \"RETURN n.name AS name\"\n",
        "        )\n",
        "        result = tx.run(query)\n",
        "        return [row[\"name\"] for row in result]"
      ]
    },
    {
      "cell_type": "markdown",
      "metadata": {
        "id": "Pjilh9vPe4LY"
      },
      "source": [
        "step-4: connect to DB"
      ]
    },
    {
      "cell_type": "code",
      "execution_count": 21,
      "metadata": {
        "id": "6p2nMvmodNw4"
      },
      "outputs": [],
      "source": [
        "#Vishnu: 1 Jun 2022: use the details from https://console.neo4j.io\n",
        "#especially use your own DB instance and corresponding passwd.\n",
        "\n",
        "uri = \"neo4j+s://a4270446.databases.neo4j.io\"\n",
        "user = \"neo4j\"\n",
        "password = \"secret\"\n",
        "\n",
        "app = App(uri, user, password)"
      ]
    },
    {
      "cell_type": "markdown",
      "metadata": {
        "id": "v_PlujdPvtcN"
      },
      "source": [
        "Step-5: Create nodes and relations"
      ]
    },
    {
      "cell_type": "code",
      "execution_count": 25,
      "metadata": {
        "id": "aiKGLHItvp2g",
        "colab": {
          "base_uri": "https://localhost:8080/"
        },
        "outputId": "1e195109-d3ea-4790-c2c6-5fbefa287e7a"
      },
      "outputs": [
        {
          "output_type": "stream",
          "name": "stdout",
          "text": [
            "Created friendship between: Experimentation Controller, Sandbox\n"
          ]
        }
      ],
      "source": [
        "app.create_nodes_with_friendship(\"Experimentation Controller\", \"Sandbox\", \"my_best_buddy\")\n"
      ]
    },
    {
      "cell_type": "markdown",
      "metadata": {
        "id": "5VEb2wKlwakG"
      },
      "source": [
        "Step-6: Find all actors"
      ]
    },
    {
      "cell_type": "code",
      "execution_count": 26,
      "metadata": {
        "colab": {
          "base_uri": "https://localhost:8080/"
        },
        "id": "QXv630w8wdEc",
        "outputId": "2804923d-04dd-492a-f49f-819ad398b828"
      },
      "outputs": [
        {
          "output_type": "stream",
          "name": "stdout",
          "text": [
            "Found actor-1: Experimentation Controller\n",
            "Found actor-2: Sandbox\n"
          ]
        }
      ],
      "source": [
        "app.find_all_actors()"
      ]
    },
    {
      "cell_type": "markdown",
      "metadata": {
        "id": "eBr7q13XvyeB"
      },
      "source": [
        "Step-6: Close the database connection"
      ]
    },
    {
      "cell_type": "code",
      "execution_count": 7,
      "metadata": {
        "id": "J2ak5OTtvrLd"
      },
      "outputs": [],
      "source": [
        "app.close()"
      ]
    }
  ],
  "metadata": {
    "colab": {
      "collapsed_sections": [],
      "name": "build-a-thon-graph-v1.ipynb",
      "provenance": [],
      "authorship_tag": "ABX9TyOTk2UMT7/+JmPd9r1JZT5d",
      "include_colab_link": true
    },
    "interpreter": {
      "hash": "59112f1abec8676be8d8e5b557dd5f2474aba6f718d70c26d8ed3f852164eaa0"
    },
    "kernelspec": {
      "display_name": "Python 3.8.12 ('myenv38')",
      "language": "python",
      "name": "python3"
    },
    "language_info": {
      "codemirror_mode": {
        "name": "ipython",
        "version": 3
      },
      "file_extension": ".py",
      "mimetype": "text/x-python",
      "name": "python",
      "nbconvert_exporter": "python",
      "pygments_lexer": "ipython3",
      "version": "3.8.12"
    }
  },
  "nbformat": 4,
  "nbformat_minor": 0
}