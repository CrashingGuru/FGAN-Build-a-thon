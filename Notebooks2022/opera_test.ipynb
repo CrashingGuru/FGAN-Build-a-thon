{
 "cells": [
  {
   "cell_type": "markdown",
   "id": "91d62c26",
   "metadata": {
    "colab_type": "text",
    "id": "view-in-github"
   },
   "source": [
    "<a href=\"https://colab.research.google.com/github/vrra/FGAN-Build-a-thon-2022/blob/master/Notebooks2022/opera_test.ipynb\"  target=\"_parent\"><img src=\"https://colab.research.google.com/assets/colab-badge.svg\" alt=\"Open In Colab\"/></a>"
   ]
  },
  {
   "cell_type": "code",
   "execution_count": null,
   "id": "d9079124",
   "metadata": {},
   "outputs": [
    {
     "name": "stdout",
     "output_type": "stream",
     "text": [
      "Hit:1 http://archive.ubuntu.com/ubuntu focal InRelease\n",
      "Get:2 http://security.ubuntu.com/ubuntu focal-security InRelease [114 kB]\n",
      "Get:3 http://archive.ubuntu.com/ubuntu focal-updates InRelease [114 kB]\n",
      "Get:4 http://archive.ubuntu.com/ubuntu focal-backports InRelease [108 kB][33m\n",
      "Get:5 http://archive.ubuntu.com/ubuntu focal-updates/universe amd64 Packages [1169 kB]\n",
      "Get:6 http://archive.ubuntu.com/ubuntu focal-updates/main amd64 Packages [2407 kB]\n",
      "Fetched 3912 kB in 2s (1672 kB/s)   \u001b[0m                 \u001b[0m\u001b[33m\u001b[33m\u001b[33m\u001b[33m\n",
      "Reading package lists... Done\n",
      "Building dependency tree       \n",
      "Reading state information... Done\n",
      "54 packages can be upgraded. Run 'apt list --upgradable' to see them.\n"
     ]
    }
   ],
   "source": [
    "!apt update"
   ]
  },
  {
   "cell_type": "code",
   "execution_count": 2,
   "id": "01285ec3",
   "metadata": {},
   "outputs": [
    {
     "name": "stdout",
     "output_type": "stream",
     "text": [
      "Reading package lists... Done\n",
      "Building dependency tree       \n",
      "Reading state information... Done\n",
      "python-wheel-common is already the newest version (0.34.2-1).\n",
      "python3-venv is already the newest version (3.8.2-0ubuntu2).\n",
      "python3-wheel is already the newest version (0.34.2-1).\n",
      "0 upgraded, 0 newly installed, 0 to remove and 54 not upgraded.\n"
     ]
    }
   ],
   "source": [
    "!apt install -y python3-venv python3-wheel python-wheel-common"
   ]
  },
  {
   "cell_type": "code",
   "execution_count": 21,
   "id": "79287128",
   "metadata": {},
   "outputs": [
    {
     "name": "stdout",
     "output_type": "stream",
     "text": [
      "/home/opera\n",
      "/home/opera\n"
     ]
    }
   ],
   "source": [
    "%mkdir ~/opera \n",
    "%cd ~/opera\n"
   ]
  },
  {
   "cell_type": "code",
   "execution_count": 25,
   "id": "40208acc",
   "metadata": {},
   "outputs": [
    {
     "name": "stdout",
     "output_type": "stream",
     "text": [
      "Requirement already satisfied: opera in /usr/local/lib/python3.8/dist-packages (0.6.9)\n",
      "Requirement already satisfied: shtab>=1.4.2 in /usr/local/lib/python3.8/dist-packages (from opera) (1.5.4)\n",
      "Requirement already satisfied: ansible>=4.7.0 in /usr/local/lib/python3.8/dist-packages (from opera) (5.9.0)\n",
      "Requirement already satisfied: pyyaml<=5.4.1 in /usr/local/lib/python3.8/dist-packages (from opera) (5.4.1)\n",
      "Requirement already satisfied: ansible-core~=2.12.6 in /usr/local/lib/python3.8/dist-packages (from ansible>=4.7.0->opera) (2.12.6)\n",
      "Requirement already satisfied: jinja2 in /usr/local/lib/python3.8/dist-packages (from ansible-core~=2.12.6->ansible>=4.7.0->opera) (3.0.3)\n",
      "Requirement already satisfied: packaging in /usr/local/lib/python3.8/dist-packages (from ansible-core~=2.12.6->ansible>=4.7.0->opera) (21.3)\n",
      "Requirement already satisfied: cryptography in /usr/local/lib/python3.8/dist-packages (from ansible-core~=2.12.6->ansible>=4.7.0->opera) (37.0.2)\n",
      "Requirement already satisfied: resolvelib<0.6.0,>=0.5.3 in /usr/local/lib/python3.8/dist-packages (from ansible-core~=2.12.6->ansible>=4.7.0->opera) (0.5.4)\n",
      "Requirement already satisfied: cffi>=1.12 in /usr/local/lib/python3.8/dist-packages (from cryptography->ansible-core~=2.12.6->ansible>=4.7.0->opera) (1.15.0)\n",
      "Requirement already satisfied: MarkupSafe>=2.0 in /usr/local/lib/python3.8/dist-packages (from jinja2->ansible-core~=2.12.6->ansible>=4.7.0->opera) (2.1.1)\n",
      "Requirement already satisfied: pyparsing!=3.0.5,>=2.0.2 in /usr/local/lib/python3.8/dist-packages (from packaging->ansible-core~=2.12.6->ansible>=4.7.0->opera) (3.0.7)\n",
      "Requirement already satisfied: pycparser in /usr/local/lib/python3.8/dist-packages (from cffi>=1.12->cryptography->ansible-core~=2.12.6->ansible>=4.7.0->opera) (2.21)\n",
      "\u001b[33mWARNING: Running pip as the 'root' user can result in broken permissions and conflicting behaviour with the system package manager. It is recommended to use a virtual environment instead: https://pip.pypa.io/warnings/venv\u001b[0m\u001b[33m\n",
      "\u001b[0m\u001b[33mWARNING: You are using pip version 22.0.4; however, version 22.1.2 is available.\n",
      "You should consider upgrading via the '/usr/bin/python -m pip install --upgrade pip' command.\u001b[0m\u001b[33m\n",
      "\u001b[0m"
     ]
    }
   ],
   "source": [
    "!pip install opera"
   ]
  },
  {
   "cell_type": "code",
   "execution_count": 26,
   "id": "11b85c15",
   "metadata": {},
   "outputs": [
    {
     "name": "stdout",
     "output_type": "stream",
     "text": [
      "Cloning into 'xopera-opera'...\n",
      "remote: Enumerating objects: 4165, done.\u001b[K\n",
      "remote: Counting objects: 100% (383/383), done.\u001b[K\n",
      "remote: Compressing objects: 100% (147/147), done.\u001b[K\n",
      "remote: Total 4165 (delta 276), reused 253 (delta 231), pack-reused 3782\u001b[K\n",
      "Receiving objects: 100% (4165/4165), 1.95 MiB | 6.12 MiB/s, done.\n",
      "Resolving deltas: 100% (2321/2321), done.\n"
     ]
    }
   ],
   "source": [
    "!git clone https://github.com/xlab-si/xopera-opera.git"
   ]
  },
  {
   "cell_type": "code",
   "execution_count": 28,
   "id": "e07190d1",
   "metadata": {},
   "outputs": [
    {
     "name": "stdout",
     "output_type": "stream",
     "text": [
      "/home/opera/xopera-opera/examples/hello\n"
     ]
    }
   ],
   "source": [
    "%cd xopera-opera/examples/hello"
   ]
  },
  {
   "cell_type": "code",
   "execution_count": 41,
   "id": "1d6c97d6",
   "metadata": {},
   "outputs": [
    {
     "name": "stdout",
     "output_type": "stream",
     "text": [
      "[Worker_0]   Deploying my-workstation_0\n",
      "[Worker_0]   Deployment of my-workstation_0 complete\n",
      "[Worker_0]   Deploying hello_0\n",
      "[Worker_0]     Executing create on hello_0\n",
      "[Worker_0]   Deployment of hello_0 complete\n"
     ]
    }
   ],
   "source": [
    "!opera deploy service.yaml"
   ]
  },
  {
   "cell_type": "code",
   "execution_count": 31,
   "id": "0f25f8f5",
   "metadata": {},
   "outputs": [
    {
     "name": "stdout",
     "output_type": "stream",
     "text": [
      "/home\n"
     ]
    }
   ],
   "source": [
    "%cd ~"
   ]
  },
  {
   "cell_type": "code",
   "execution_count": 32,
   "id": "cc7f694f",
   "metadata": {},
   "outputs": [
    {
     "name": "stdout",
     "output_type": "stream",
     "text": [
      "/tmp/playing-opera/hello\n"
     ]
    }
   ],
   "source": [
    "%cd /tmp/playing-opera/hello"
   ]
  },
  {
   "cell_type": "code",
   "execution_count": 33,
   "id": "a8f94c8e",
   "metadata": {},
   "outputs": [
    {
     "name": "stdout",
     "output_type": "stream",
     "text": [
      "default-marker"
     ]
    }
   ],
   "source": [
    "%cat hello.txt"
   ]
  },
  {
   "cell_type": "code",
   "execution_count": 37,
   "id": "dc3fa5e2",
   "metadata": {},
   "outputs": [
    {
     "name": "stdout",
     "output_type": "stream",
     "text": [
      "/home\n"
     ]
    }
   ],
   "source": [
    "%cd ~"
   ]
  },
  {
   "cell_type": "code",
   "execution_count": 38,
   "id": "17518671",
   "metadata": {},
   "outputs": [
    {
     "name": "stdout",
     "output_type": "stream",
     "text": [
      "/home/xopera-opera/examples/hello\n"
     ]
    }
   ],
   "source": [
    "%cd xopera-opera/examples/hello"
   ]
  },
  {
   "cell_type": "code",
   "execution_count": 42,
   "id": "1121d327",
   "metadata": {},
   "outputs": [
    {
     "name": "stdout",
     "output_type": "stream",
     "text": [
      "[Worker_0]   Undeploying hello_0\n",
      "[Worker_0]     Executing delete on hello_0\n",
      "[Worker_0]   Undeployment of hello_0 complete\n",
      "[Worker_0]   Undeploying my-workstation_0\n",
      "[Worker_0]   Undeployment of my-workstation_0 complete\n"
     ]
    }
   ],
   "source": [
    "!opera undeploy "
   ]
  }
 ],
 "metadata": {
  "kernelspec": {
   "display_name": "Python 3.7.4 64-bit",
   "language": "python",
   "name": "python3"
  },
  "language_info": {
   "codemirror_mode": {
    "name": "ipython",
    "version": 3
   },
   "file_extension": ".py",
   "mimetype": "text/x-python",
   "name": "python",
   "nbconvert_exporter": "python",
   "pygments_lexer": "ipython3",
   "version": "3.7.4"
  },
  "vscode": {
   "interpreter": {
    "hash": "da816bfb4fc193208868a0e8d5e0aadd085f9c3004d83a433cf6c0b041182abd"
   }
  }
 },
 "nbformat": 4,
 "nbformat_minor": 5
}
