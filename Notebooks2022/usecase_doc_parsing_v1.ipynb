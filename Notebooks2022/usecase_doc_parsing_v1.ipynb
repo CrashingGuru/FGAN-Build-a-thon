{
  "nbformat": 4,
  "nbformat_minor": 0,
  "metadata": {
    "colab": {
      "name": "usecase-doc-parsing-v1.ipynb",
      "provenance": [],
      "authorship_tag": "ABX9TyNNFAY2eD7S0gjKYaJuvDRX",
      "include_colab_link": true
    },
    "kernelspec": {
      "name": "python3",
      "display_name": "Python 3"
    },
    "language_info": {
      "name": "python"
    }
  },
  "cells": [
    {
      "cell_type": "markdown",
      "metadata": {
        "id": "view-in-github",
        "colab_type": "text"
      },
      "source": [
        "<a href=\"https://colab.research.google.com/github/vrra/FGAN-Build-a-thon-2022/blob/main/Notebooks2022/usecase_doc_parsing_v1.ipynb\" target=\"_parent\"><img src=\"https://colab.research.google.com/assets/colab-badge.svg\" alt=\"Open In Colab\"/></a>"
      ]
    },
    {
      "cell_type": "markdown",
      "source": [
        "Created: 25 Apr 2022.   \n",
        "Contact: Vishnu Ram OV.   \n",
        "vishnu.n@ieee.org.   \n",
        "Licence: available for all purposes under the sun.   \n",
        "Context: ITU FG AN Build-a-thon 2022"
      ],
      "metadata": {
        "id": "XfK9VJj-ojgK"
      }
    },
    {
      "cell_type": "code",
      "source": [
        ""
      ],
      "metadata": {
        "id": "8XI5Wi7to6Cb"
      },
      "execution_count": null,
      "outputs": []
    }
  ]
}