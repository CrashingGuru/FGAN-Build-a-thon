{
  "cells": [
    {
      "cell_type": "markdown",
      "metadata": {
        "colab_type": "text",
        "id": "view-in-github"
      },
      "source": [
        "<a href=\"https://colab.research.google.com/github/vrra/FGAN-Build-a-thon-2022/blob/main/Notebooks2022/build_a_thon_graph_v1.ipynb\" target=\"_parent\"><img src=\"https://colab.research.google.com/assets/colab-badge.svg\" alt=\"Open In Colab\"/></a>"
      ]
    },
    {
      "cell_type": "markdown",
      "metadata": {
        "id": "xvVYTJnpc8NW"
      },
      "source": [
        "Created: 14 Apr 2022.   \n",
        "Contact: Vishnu Ram OV.   \n",
        "vishnu.n@ieee.org.   \n",
        "Licence: available for all purposes under the sun\n"
      ]
    },
    {
      "cell_type": "markdown",
      "metadata": {
        "id": "TOxLkcQAfFsO"
      },
      "source": [
        "Refer: https://neo4j.com/docs/aura/auradb/getting-started/create-database/"
      ]
    },
    {
      "cell_type": "markdown",
      "metadata": {
        "id": "Seq4Lm-HdDJY"
      },
      "source": [
        "step-1: install neo4j"
      ]
    },
    {
      "cell_type": "code",
      "execution_count": 101,
      "metadata": {
        "colab": {
          "base_uri": "https://localhost:8080/"
        },
        "id": "hKFE_mBLcWJL",
        "outputId": "c9b41640-c888-4041-9bb9-1f2c4a39ec0b"
      },
      "outputs": [],
      "source": [
        "import pandas as pd\n",
        "from pathlib import Path\n"
      ]
    },
    {
      "cell_type": "markdown",
      "metadata": {},
      "source": [
        "Searched and replace 'Auto controller gen' with 'Auto controller generator' to ensure uniformity."
      ]
    },
    {
      "cell_type": "code",
      "execution_count": 102,
      "metadata": {},
      "outputs": [
        {
          "name": "stdout",
          "output_type": "stream",
          "text": [
            "usecase_001.csv\n",
            "usecase_002.csv\n"
          ]
        }
      ],
      "source": [
        "#Blessed 2 June 2022: read all the usecases\n",
        "all_usecases = []\n",
        "for file in Path().rglob(\"*.csv\"):\n",
        "    print(file.name)\n",
        "    current_usecase = pd.read_csv(file.name)\n",
        "    current_usecase['label']= file.name[:-4]  #Blessed 2 June 2022: attach usecase name as label to every row.\n",
        "    all_usecases.append(current_usecase)\n",
        "    "
      ]
    },
    {
      "cell_type": "code",
      "execution_count": 103,
      "metadata": {},
      "outputs": [
        {
          "data": {
            "text/html": [
              "<div>\n",
              "<style scoped>\n",
              "    .dataframe tbody tr th:only-of-type {\n",
              "        vertical-align: middle;\n",
              "    }\n",
              "\n",
              "    .dataframe tbody tr th {\n",
              "        vertical-align: top;\n",
              "    }\n",
              "\n",
              "    .dataframe thead th {\n",
              "        text-align: right;\n",
              "    }\n",
              "</style>\n",
              "<table border=\"1\" class=\"dataframe\">\n",
              "  <thead>\n",
              "    <tr style=\"text-align: right;\">\n",
              "      <th></th>\n",
              "      <th>Actor</th>\n",
              "      <th>Description</th>\n",
              "      <th>label</th>\n",
              "      <th>relation</th>\n",
              "    </tr>\n",
              "  </thead>\n",
              "  <tbody>\n",
              "    <tr>\n",
              "      <th>0</th>\n",
              "      <td>KB</td>\n",
              "      <td>Stores knowledge related to the AN.</td>\n",
              "      <td>usecase_001</td>\n",
              "      <td>x -&gt; refer -&gt; KB</td>\n",
              "    </tr>\n",
              "    <tr>\n",
              "      <th>1</th>\n",
              "      <td>NaN</td>\n",
              "      <td>Can be referred for reports or translation of ...</td>\n",
              "      <td>usecase_001</td>\n",
              "      <td>KB -&gt; export -&gt; KB</td>\n",
              "    </tr>\n",
              "    <tr>\n",
              "      <th>2</th>\n",
              "      <td>NaN</td>\n",
              "      <td>Can export parts of the KB.</td>\n",
              "      <td>usecase_001</td>\n",
              "      <td>KB -&gt; import -&gt; KB</td>\n",
              "    </tr>\n",
              "    <tr>\n",
              "      <th>3</th>\n",
              "      <td>NaN</td>\n",
              "      <td>Can import parts of the KB.</td>\n",
              "      <td>usecase_001</td>\n",
              "      <td>NaN</td>\n",
              "    </tr>\n",
              "    <tr>\n",
              "      <th>4</th>\n",
              "      <td>KB manager</td>\n",
              "      <td>Optimizes the KB</td>\n",
              "      <td>usecase_001</td>\n",
              "      <td>KB manager -&gt; optimizes -&gt; KB</td>\n",
              "    </tr>\n",
              "    <tr>\n",
              "      <th>5</th>\n",
              "      <td>NaN</td>\n",
              "      <td>Can export parts of the KB</td>\n",
              "      <td>usecase_001</td>\n",
              "      <td>KB manager -&gt; export -&gt; KB</td>\n",
              "    </tr>\n",
              "    <tr>\n",
              "      <th>6</th>\n",
              "      <td>AN orchestrator</td>\n",
              "      <td>Converts use case description to TOSCA control...</td>\n",
              "      <td>usecase_001</td>\n",
              "      <td>AN orchestrator -&gt; refer -&gt; KB</td>\n",
              "    </tr>\n",
              "    <tr>\n",
              "      <th>7</th>\n",
              "      <td>NaN</td>\n",
              "      <td>NaN</td>\n",
              "      <td>usecase_001</td>\n",
              "      <td>An orchestrator -&gt; inputs -&gt; use case desc</td>\n",
              "    </tr>\n",
              "    <tr>\n",
              "      <th>8</th>\n",
              "      <td>NaN</td>\n",
              "      <td>NaN</td>\n",
              "      <td>usecase_001</td>\n",
              "      <td>AN orchestrator -&gt; generates -&gt; TOSCA</td>\n",
              "    </tr>\n",
              "    <tr>\n",
              "      <th>9</th>\n",
              "      <td>Auto controller generator</td>\n",
              "      <td>generate controller specifications</td>\n",
              "      <td>usecase_001</td>\n",
              "      <td>Auto controller generator -&gt; refer -&gt; KB</td>\n",
              "    </tr>\n",
              "    <tr>\n",
              "      <th>10</th>\n",
              "      <td>NaN</td>\n",
              "      <td>NaN</td>\n",
              "      <td>usecase_001</td>\n",
              "      <td>Auto controller generator -&gt; generates -&gt; TOSCA</td>\n",
              "    </tr>\n",
              "    <tr>\n",
              "      <th>11</th>\n",
              "      <td>OpenCN</td>\n",
              "      <td>Stores controllers</td>\n",
              "      <td>usecase_001</td>\n",
              "      <td>OpenCN -&gt; stores -&gt; controllers</td>\n",
              "    </tr>\n",
              "    <tr>\n",
              "      <th>12</th>\n",
              "      <td>ML pipeline</td>\n",
              "      <td>Hosts analytics</td>\n",
              "      <td>usecase_001</td>\n",
              "      <td>ML pipeline -&gt; recommends -&gt; controllers</td>\n",
              "    </tr>\n",
              "    <tr>\n",
              "      <th>13</th>\n",
              "      <td>Human operator</td>\n",
              "      <td>Reads reports and monitors</td>\n",
              "      <td>usecase_001</td>\n",
              "      <td>Human operator -&gt; reads -&gt; reports</td>\n",
              "    </tr>\n",
              "    <tr>\n",
              "      <th>14</th>\n",
              "      <td>NaN</td>\n",
              "      <td>NaN</td>\n",
              "      <td>usecase_001</td>\n",
              "      <td>Human operator -&gt; monitors -&gt; x</td>\n",
              "    </tr>\n",
              "  </tbody>\n",
              "</table>\n",
              "</div>"
            ],
            "text/plain": [
              "                        Actor  \\\n",
              "0                          KB   \n",
              "1                         NaN   \n",
              "2                         NaN   \n",
              "3                         NaN   \n",
              "4                  KB manager   \n",
              "5                         NaN   \n",
              "6             AN orchestrator   \n",
              "7                         NaN   \n",
              "8                         NaN   \n",
              "9   Auto controller generator   \n",
              "10                        NaN   \n",
              "11                     OpenCN   \n",
              "12                ML pipeline   \n",
              "13             Human operator   \n",
              "14                        NaN   \n",
              "\n",
              "                                          Description        label  \\\n",
              "0                 Stores knowledge related to the AN.  usecase_001   \n",
              "1   Can be referred for reports or translation of ...  usecase_001   \n",
              "2                         Can export parts of the KB.  usecase_001   \n",
              "3                         Can import parts of the KB.  usecase_001   \n",
              "4                                    Optimizes the KB  usecase_001   \n",
              "5                          Can export parts of the KB  usecase_001   \n",
              "6   Converts use case description to TOSCA control...  usecase_001   \n",
              "7                                                 NaN  usecase_001   \n",
              "8                                                 NaN  usecase_001   \n",
              "9                 generate controller specifications   usecase_001   \n",
              "10                                                NaN  usecase_001   \n",
              "11                                 Stores controllers  usecase_001   \n",
              "12                                    Hosts analytics  usecase_001   \n",
              "13                         Reads reports and monitors  usecase_001   \n",
              "14                                                NaN  usecase_001   \n",
              "\n",
              "                                           relation  \n",
              "0                                  x -> refer -> KB  \n",
              "1                                KB -> export -> KB  \n",
              "2                                KB -> import -> KB  \n",
              "3                                               NaN  \n",
              "4                     KB manager -> optimizes -> KB  \n",
              "5                        KB manager -> export -> KB  \n",
              "6                    AN orchestrator -> refer -> KB  \n",
              "7        An orchestrator -> inputs -> use case desc  \n",
              "8             AN orchestrator -> generates -> TOSCA  \n",
              "9          Auto controller generator -> refer -> KB  \n",
              "10  Auto controller generator -> generates -> TOSCA  \n",
              "11                  OpenCN -> stores -> controllers  \n",
              "12         ML pipeline -> recommends -> controllers  \n",
              "13               Human operator -> reads -> reports  \n",
              "14                  Human operator -> monitors -> x  "
            ]
          },
          "execution_count": 103,
          "metadata": {},
          "output_type": "execute_result"
        }
      ],
      "source": [
        "all_usecases[0]"
      ]
    },
    {
      "cell_type": "code",
      "execution_count": 104,
      "metadata": {},
      "outputs": [
        {
          "data": {
            "text/html": [
              "<div>\n",
              "<style scoped>\n",
              "    .dataframe tbody tr th:only-of-type {\n",
              "        vertical-align: middle;\n",
              "    }\n",
              "\n",
              "    .dataframe tbody tr th {\n",
              "        vertical-align: top;\n",
              "    }\n",
              "\n",
              "    .dataframe thead th {\n",
              "        text-align: right;\n",
              "    }\n",
              "</style>\n",
              "<table border=\"1\" class=\"dataframe\">\n",
              "  <thead>\n",
              "    <tr style=\"text-align: right;\">\n",
              "      <th></th>\n",
              "      <th>Actor</th>\n",
              "      <th>Description</th>\n",
              "      <th>label</th>\n",
              "      <th>relation</th>\n",
              "    </tr>\n",
              "  </thead>\n",
              "  <tbody>\n",
              "    <tr>\n",
              "      <th>0</th>\n",
              "      <td>KB</td>\n",
              "      <td>Stores knowledge related to the AN.</td>\n",
              "      <td>usecase_001</td>\n",
              "      <td>x -&gt; refer -&gt; KB</td>\n",
              "    </tr>\n",
              "    <tr>\n",
              "      <th>1</th>\n",
              "      <td>KB</td>\n",
              "      <td>Can be referred for reports or translation of ...</td>\n",
              "      <td>usecase_001</td>\n",
              "      <td>KB -&gt; export -&gt; KB</td>\n",
              "    </tr>\n",
              "    <tr>\n",
              "      <th>2</th>\n",
              "      <td>KB</td>\n",
              "      <td>Can export parts of the KB.</td>\n",
              "      <td>usecase_001</td>\n",
              "      <td>KB -&gt; import -&gt; KB</td>\n",
              "    </tr>\n",
              "    <tr>\n",
              "      <th>3</th>\n",
              "      <td>KB</td>\n",
              "      <td>Can import parts of the KB.</td>\n",
              "      <td>usecase_001</td>\n",
              "      <td>NaN</td>\n",
              "    </tr>\n",
              "    <tr>\n",
              "      <th>4</th>\n",
              "      <td>KB manager</td>\n",
              "      <td>Optimizes the KB</td>\n",
              "      <td>usecase_001</td>\n",
              "      <td>KB manager -&gt; optimizes -&gt; KB</td>\n",
              "    </tr>\n",
              "    <tr>\n",
              "      <th>5</th>\n",
              "      <td>KB manager</td>\n",
              "      <td>Can export parts of the KB</td>\n",
              "      <td>usecase_001</td>\n",
              "      <td>KB manager -&gt; export -&gt; KB</td>\n",
              "    </tr>\n",
              "    <tr>\n",
              "      <th>6</th>\n",
              "      <td>AN orchestrator</td>\n",
              "      <td>Converts use case description to TOSCA control...</td>\n",
              "      <td>usecase_001</td>\n",
              "      <td>AN orchestrator -&gt; refer -&gt; KB</td>\n",
              "    </tr>\n",
              "    <tr>\n",
              "      <th>7</th>\n",
              "      <td>AN orchestrator</td>\n",
              "      <td>NaN</td>\n",
              "      <td>usecase_001</td>\n",
              "      <td>An orchestrator -&gt; inputs -&gt; use case desc</td>\n",
              "    </tr>\n",
              "    <tr>\n",
              "      <th>8</th>\n",
              "      <td>AN orchestrator</td>\n",
              "      <td>NaN</td>\n",
              "      <td>usecase_001</td>\n",
              "      <td>AN orchestrator -&gt; generates -&gt; TOSCA</td>\n",
              "    </tr>\n",
              "    <tr>\n",
              "      <th>9</th>\n",
              "      <td>Auto controller generator</td>\n",
              "      <td>generate controller specifications</td>\n",
              "      <td>usecase_001</td>\n",
              "      <td>Auto controller generator -&gt; refer -&gt; KB</td>\n",
              "    </tr>\n",
              "    <tr>\n",
              "      <th>10</th>\n",
              "      <td>Auto controller generator</td>\n",
              "      <td>NaN</td>\n",
              "      <td>usecase_001</td>\n",
              "      <td>Auto controller generator -&gt; generates -&gt; TOSCA</td>\n",
              "    </tr>\n",
              "    <tr>\n",
              "      <th>11</th>\n",
              "      <td>OpenCN</td>\n",
              "      <td>Stores controllers</td>\n",
              "      <td>usecase_001</td>\n",
              "      <td>OpenCN -&gt; stores -&gt; controllers</td>\n",
              "    </tr>\n",
              "    <tr>\n",
              "      <th>12</th>\n",
              "      <td>ML pipeline</td>\n",
              "      <td>Hosts analytics</td>\n",
              "      <td>usecase_001</td>\n",
              "      <td>ML pipeline -&gt; recommends -&gt; controllers</td>\n",
              "    </tr>\n",
              "    <tr>\n",
              "      <th>13</th>\n",
              "      <td>Human operator</td>\n",
              "      <td>Reads reports and monitors</td>\n",
              "      <td>usecase_001</td>\n",
              "      <td>Human operator -&gt; reads -&gt; reports</td>\n",
              "    </tr>\n",
              "    <tr>\n",
              "      <th>14</th>\n",
              "      <td>Human operator</td>\n",
              "      <td>NaN</td>\n",
              "      <td>usecase_001</td>\n",
              "      <td>Human operator -&gt; monitors -&gt; x</td>\n",
              "    </tr>\n",
              "  </tbody>\n",
              "</table>\n",
              "</div>"
            ],
            "text/plain": [
              "                        Actor  \\\n",
              "0                          KB   \n",
              "1                          KB   \n",
              "2                          KB   \n",
              "3                          KB   \n",
              "4                  KB manager   \n",
              "5                  KB manager   \n",
              "6             AN orchestrator   \n",
              "7             AN orchestrator   \n",
              "8             AN orchestrator   \n",
              "9   Auto controller generator   \n",
              "10  Auto controller generator   \n",
              "11                     OpenCN   \n",
              "12                ML pipeline   \n",
              "13             Human operator   \n",
              "14             Human operator   \n",
              "\n",
              "                                          Description        label  \\\n",
              "0                 Stores knowledge related to the AN.  usecase_001   \n",
              "1   Can be referred for reports or translation of ...  usecase_001   \n",
              "2                         Can export parts of the KB.  usecase_001   \n",
              "3                         Can import parts of the KB.  usecase_001   \n",
              "4                                    Optimizes the KB  usecase_001   \n",
              "5                          Can export parts of the KB  usecase_001   \n",
              "6   Converts use case description to TOSCA control...  usecase_001   \n",
              "7                                                 NaN  usecase_001   \n",
              "8                                                 NaN  usecase_001   \n",
              "9                 generate controller specifications   usecase_001   \n",
              "10                                                NaN  usecase_001   \n",
              "11                                 Stores controllers  usecase_001   \n",
              "12                                    Hosts analytics  usecase_001   \n",
              "13                         Reads reports and monitors  usecase_001   \n",
              "14                                                NaN  usecase_001   \n",
              "\n",
              "                                           relation  \n",
              "0                                  x -> refer -> KB  \n",
              "1                                KB -> export -> KB  \n",
              "2                                KB -> import -> KB  \n",
              "3                                               NaN  \n",
              "4                     KB manager -> optimizes -> KB  \n",
              "5                        KB manager -> export -> KB  \n",
              "6                    AN orchestrator -> refer -> KB  \n",
              "7        An orchestrator -> inputs -> use case desc  \n",
              "8             AN orchestrator -> generates -> TOSCA  \n",
              "9          Auto controller generator -> refer -> KB  \n",
              "10  Auto controller generator -> generates -> TOSCA  \n",
              "11                  OpenCN -> stores -> controllers  \n",
              "12         ML pipeline -> recommends -> controllers  \n",
              "13               Human operator -> reads -> reports  \n",
              "14                  Human operator -> monitors -> x  "
            ]
          },
          "execution_count": 104,
          "metadata": {},
          "output_type": "execute_result"
        }
      ],
      "source": [
        "'''Blessed: preprocessing :\n",
        "replace any NaN actor with the previous actor name'''\n",
        "for usecase in all_usecases:\n",
        "    actors = usecase['Actor'].tolist()\n",
        "    new_actors = []\n",
        "    current_actor = None\n",
        "    for actor in actors:\n",
        "        if isinstance(actor, str):\n",
        "            current_actor = actor\n",
        "        new_actors.append(current_actor)\n",
        "    usecase['Actor'] = new_actors\n",
        "\n",
        "all_usecases[0]\n",
        "\n",
        "    \n",
        "    "
      ]
    },
    {
      "cell_type": "code",
      "execution_count": 105,
      "metadata": {},
      "outputs": [
        {
          "data": {
            "text/html": [
              "<div>\n",
              "<style scoped>\n",
              "    .dataframe tbody tr th:only-of-type {\n",
              "        vertical-align: middle;\n",
              "    }\n",
              "\n",
              "    .dataframe tbody tr th {\n",
              "        vertical-align: top;\n",
              "    }\n",
              "\n",
              "    .dataframe thead th {\n",
              "        text-align: right;\n",
              "    }\n",
              "</style>\n",
              "<table border=\"1\" class=\"dataframe\">\n",
              "  <thead>\n",
              "    <tr style=\"text-align: right;\">\n",
              "      <th></th>\n",
              "      <th>Actor</th>\n",
              "      <th>Description</th>\n",
              "      <th>label</th>\n",
              "      <th>relation</th>\n",
              "    </tr>\n",
              "  </thead>\n",
              "  <tbody>\n",
              "    <tr>\n",
              "      <th>0</th>\n",
              "      <td>Scenarios for experimentation</td>\n",
              "      <td>Used for experimentation</td>\n",
              "      <td>usecase_002</td>\n",
              "      <td>Experimentation controller -&gt; decides -&gt; scena...</td>\n",
              "    </tr>\n",
              "    <tr>\n",
              "      <th>1</th>\n",
              "      <td>AN Sandbox</td>\n",
              "      <td>Hosts simulators</td>\n",
              "      <td>usecase_002</td>\n",
              "      <td>AN sandbox -&gt; hosts -&gt; simulators</td>\n",
              "    </tr>\n",
              "    <tr>\n",
              "      <th>2</th>\n",
              "      <td>AN Sandbox</td>\n",
              "      <td>Monitors the simulators and generate some repo...</td>\n",
              "      <td>usecase_002</td>\n",
              "      <td>AN sandbox -&gt; manages -&gt; simulators</td>\n",
              "    </tr>\n",
              "    <tr>\n",
              "      <th>3</th>\n",
              "      <td>AN Sandbox</td>\n",
              "      <td>NaN</td>\n",
              "      <td>usecase_002</td>\n",
              "      <td>AN sandbox -&gt; generates -&gt; reports</td>\n",
              "    </tr>\n",
              "    <tr>\n",
              "      <th>4</th>\n",
              "      <td>Experimentation controller</td>\n",
              "      <td>Triggers experiments, Executes experiments</td>\n",
              "      <td>usecase_002</td>\n",
              "      <td>Experimentation controller  -&gt; triggers -&gt; exp...</td>\n",
              "    </tr>\n",
              "    <tr>\n",
              "      <th>5</th>\n",
              "      <td>Experimentation controller</td>\n",
              "      <td>NaN</td>\n",
              "      <td>usecase_002</td>\n",
              "      <td>Experimentation controller  -&gt; generates -&gt; re...</td>\n",
              "    </tr>\n",
              "    <tr>\n",
              "      <th>6</th>\n",
              "      <td>Experimentation controller</td>\n",
              "      <td>NaN</td>\n",
              "      <td>usecase_002</td>\n",
              "      <td>Experimentation controller -&gt; executes-&gt; exper...</td>\n",
              "    </tr>\n",
              "    <tr>\n",
              "      <th>7</th>\n",
              "      <td>Experimentation controller</td>\n",
              "      <td>NaN</td>\n",
              "      <td>usecase_002</td>\n",
              "      <td>Experimentation controller -&gt; monitors -&gt; expe...</td>\n",
              "    </tr>\n",
              "    <tr>\n",
              "      <th>8</th>\n",
              "      <td>reports</td>\n",
              "      <td>NaN</td>\n",
              "      <td>usecase_002</td>\n",
              "      <td>Experimentation controller -&gt; uses  -&gt; AN Sandbox</td>\n",
              "    </tr>\n",
              "    <tr>\n",
              "      <th>9</th>\n",
              "      <td>reports</td>\n",
              "      <td>NaN</td>\n",
              "      <td>usecase_002</td>\n",
              "      <td>Experimentation controller -&gt; updates  -&gt; KB</td>\n",
              "    </tr>\n",
              "    <tr>\n",
              "      <th>10</th>\n",
              "      <td>Experiments</td>\n",
              "      <td>NaN</td>\n",
              "      <td>usecase_002</td>\n",
              "      <td>Experiments -&gt; has -&gt; scenarios for experiment...</td>\n",
              "    </tr>\n",
              "  </tbody>\n",
              "</table>\n",
              "</div>"
            ],
            "text/plain": [
              "                            Actor  \\\n",
              "0   Scenarios for experimentation   \n",
              "1                      AN Sandbox   \n",
              "2                      AN Sandbox   \n",
              "3                      AN Sandbox   \n",
              "4     Experimentation controller    \n",
              "5     Experimentation controller    \n",
              "6     Experimentation controller    \n",
              "7     Experimentation controller    \n",
              "8                         reports   \n",
              "9                         reports   \n",
              "10                    Experiments   \n",
              "\n",
              "                                          Description        label  \\\n",
              "0                           Used for experimentation   usecase_002   \n",
              "1                                    Hosts simulators  usecase_002   \n",
              "2   Monitors the simulators and generate some repo...  usecase_002   \n",
              "3                                                 NaN  usecase_002   \n",
              "4          Triggers experiments, Executes experiments  usecase_002   \n",
              "5                                                 NaN  usecase_002   \n",
              "6                                                 NaN  usecase_002   \n",
              "7                                                 NaN  usecase_002   \n",
              "8                                                 NaN  usecase_002   \n",
              "9                                                 NaN  usecase_002   \n",
              "10                                                NaN  usecase_002   \n",
              "\n",
              "                                             relation  \n",
              "0   Experimentation controller -> decides -> scena...  \n",
              "1                   AN sandbox -> hosts -> simulators  \n",
              "2                 AN sandbox -> manages -> simulators  \n",
              "3                  AN sandbox -> generates -> reports  \n",
              "4   Experimentation controller  -> triggers -> exp...  \n",
              "5   Experimentation controller  -> generates -> re...  \n",
              "6   Experimentation controller -> executes-> exper...  \n",
              "7   Experimentation controller -> monitors -> expe...  \n",
              "8   Experimentation controller -> uses  -> AN Sandbox  \n",
              "9        Experimentation controller -> updates  -> KB  \n",
              "10  Experiments -> has -> scenarios for experiment...  "
            ]
          },
          "execution_count": 105,
          "metadata": {},
          "output_type": "execute_result"
        }
      ],
      "source": [
        "all_usecases[1]"
      ]
    },
    {
      "cell_type": "code",
      "execution_count": 106,
      "metadata": {},
      "outputs": [
        {
          "name": "stdout",
          "output_type": "stream",
          "text": [
            "Requirement already satisfied: neo4j in c:\\users\\toshiba\\appdata\\local\\programs\\python\\python37\\lib\\site-packages (4.4.3)\n",
            "Requirement already satisfied: pytz in c:\\users\\toshiba\\appdata\\local\\programs\\python\\python37\\lib\\site-packages (from neo4j) (2021.3)\n",
            "Note: you may need to restart the kernel to use updated packages.\n"
          ]
        },
        {
          "name": "stderr",
          "output_type": "stream",
          "text": [
            "WARNING: You are using pip version 21.3.1; however, version 22.1.2 is available.\n",
            "You should consider upgrading via the 'c:\\Users\\Toshiba\\AppData\\Local\\Programs\\Python\\Python37\\python.exe -m pip install --upgrade pip' command.\n"
          ]
        }
      ],
      "source": [
        "pip install neo4j"
      ]
    },
    {
      "cell_type": "markdown",
      "metadata": {
        "id": "P49wR7FPejI6"
      },
      "source": [
        "step-2: imports"
      ]
    },
    {
      "cell_type": "code",
      "execution_count": 107,
      "metadata": {
        "id": "CMXk5yZcd-Jt"
      },
      "outputs": [],
      "source": [
        "from neo4j import GraphDatabase\n",
        "import logging\n",
        "from neo4j.exceptions import ServiceUnavailable"
      ]
    },
    {
      "cell_type": "markdown",
      "metadata": {
        "id": "QJsfeO0Ve03C"
      },
      "source": [
        "step-3: define helper class"
      ]
    },
    {
      "cell_type": "code",
      "execution_count": 108,
      "metadata": {
        "id": "FccBUxEIeKf_"
      },
      "outputs": [],
      "source": [
        "\n",
        "\n",
        "class App:\n",
        "\n",
        "    def __init__(self, uri, user, password):\n",
        "        self.driver = GraphDatabase.driver(uri, auth=(user, password))\n",
        "\n",
        "    def close(self):\n",
        "        # Don't forget to close the driver connection when you are finished with it\n",
        "        self.driver.close()\n",
        "\n",
        "    #Vishnu: 1 Jun 2022: created this f() to create nodes with usecase label\n",
        "    #TBD: check if it already exists.\n",
        "    def create_node_with_label(self, actor_name, usecase_id):\n",
        "        with self.driver.session() as session:\n",
        "            # Write transactions allow the driver to handle retries and transient errors\n",
        "            result = session.write_transaction(\n",
        "                self._create_and_return_node, actor_name, usecase_id)\n",
        "            for row in result:\n",
        "                print(\"Created node: {n1}\".format(n1=row['n1']))\n",
        "\n",
        "    @staticmethod\n",
        "    def _create_and_return_node(tx, actor_name, usecase_id):\n",
        "        # To learn more about the Cypher syntax, see https://neo4j.com/docs/cypher-manual/current/\n",
        "        # The Reference Card is also a good resource for keywords https://neo4j.com/docs/cypher-refcard/current/\n",
        "        query = (\n",
        "            \"CREATE (n1:Actor:\"+usecase_id+\"{ name: $actor_name }) \"\n",
        "            \"RETURN n1\"\n",
        "        )\n",
        "        result = tx.run(query, actor_name=actor_name)\n",
        "        try:\n",
        "            return [{\"n1\": row[\"n1\"][\"name\"]}\n",
        "                    for row in result]\n",
        "        # Capture any errors along with the query and data for traceability\n",
        "        except ServiceUnavailable as exception:\n",
        "            logging.error(\"{query} raised an error: \\n {exception}\".format(\n",
        "                query=query, exception=exception))\n",
        "            raise\n",
        "\n",
        "    #Vishnu: 1 Jun 2022: created this f() to add use case label to existing nodes \n",
        "    #TBD: check if it already exists.\n",
        "    def add_label_existing_node(self, actor_name, usecase_id):\n",
        "        with self.driver.session() as session:\n",
        "            # Write transactions allow the driver to handle retries and transient errors\n",
        "            result = session.write_transaction(\n",
        "                self._add_label_and_return_existing_node, actor_name, usecase_id)\n",
        "            for row in result:\n",
        "                print(\"added label to node: {n1}\".format(n1=row['n1']))\n",
        "\n",
        "    @staticmethod\n",
        "    def _add_label_and_return_existing_node(tx, actor_name, usecase_id):\n",
        "        # To learn more about the Cypher syntax, see https://neo4j.com/docs/cypher-manual/current/\n",
        "        # The Reference Card is also a good resource for keywords https://neo4j.com/docs/cypher-refcard/current/\n",
        "        query = (\n",
        "            \"MATCH \"\n",
        "            \"(n1:Actor) \"\n",
        "            \"WHERE n1.name = '\" + actor_name +\"' \"\n",
        "            \"set n1 :\"+usecase_id +\" \"\n",
        "            \"return n1\"\n",
        "        )\n",
        "        result = tx.run(query, actor_name=actor_name)\n",
        "        try:\n",
        "            return [{\"n1\": row[\"n1\"][\"name\"]}\n",
        "                    for row in result]\n",
        "        # Capture any errors along with the query and data for traceability\n",
        "        except ServiceUnavailable as exception:\n",
        "            logging.error(\"{query} raised an error: \\n {exception}\".format(\n",
        "                query=query, exception=exception))\n",
        "            raise\n",
        "\n",
        "    #Vishnu: 1 Jun 2022: created this f() to create relation between 2 existing nodes\n",
        "    def create_rel_with_type_existing_nodes(self, rel_type, actor1_name, actor2_name):\n",
        "        with self.driver.session() as session:\n",
        "            # Write transactions allow the driver to handle retries and transient errors\n",
        "            result = session.write_transaction(\n",
        "                self._create_and_return_rel_with_type_existing_nodes, rel_type, actor1_name, actor2_name)\n",
        "            for row in result:\n",
        "                print(\"Created relation between: {n1}, {n2}\".format(n1=row['n1'], n2=row['n2']))\n",
        "\n",
        "    @staticmethod\n",
        "    def _create_and_return_rel_with_type_existing_nodes(tx, rel_type, actor1_name, actor2_name):\n",
        "        # To learn more about the Cypher syntax, see https://neo4j.com/docs/cypher-manual/current/\n",
        "        # The Reference Card is also a good resource for keywords https://neo4j.com/docs/cypher-refcard/current/\n",
        "        query = (\n",
        "            \"MATCH \"\n",
        "            \"(n1:Actor), \"\n",
        "            \"(n2:Actor) \"\n",
        "            \"WHERE n1.name = '\" + actor1_name + \"' AND n2.name = '\"+actor2_name+\"' \"\n",
        "            \"CREATE (n1)-[r:\" +rel_type+ \"]->(n2) \"\n",
        "            \"RETURN n1, n2\"\n",
        "        )\n",
        "        result = tx.run(query)\n",
        "        try:\n",
        "            return [{\"n1\": row[\"n1\"][\"name\"], \"n2\": row[\"n2\"][\"name\"]}\n",
        "                    for row in result]\n",
        "        # Capture any errors along with the query and data for traceability\n",
        "        except ServiceUnavailable as exception:\n",
        "            logging.error(\"{query} raised an error: \\n {exception}\".format(\n",
        "                query=query, exception=exception))\n",
        "            raise\n",
        "\n",
        "    #Vishnu: 1 Jun 2022: added relationships names\n",
        "    #Vishnu: CAUTION: side-effect: this f() creates the nodes too.\n",
        "    #NOTE: we use labels and properties for nodes\n",
        "    #NOTE: we use relationtypes only (vs. properties or names or something)\n",
        "    #NOTE: usecase id is just a string (vs. a list of properties or something)\n",
        "    #TBD - to search for existing nodes and reuse them.\n",
        "    #TBD - add properties to relationships\n",
        "    def create_nodes_with_friendship(self, actor1_name, actor2_name, rel_type, usecase_id):\n",
        "        with self.driver.session() as session:\n",
        "            # Write transactions allow the driver to handle retries and transient errors\n",
        "            result = session.write_transaction(\n",
        "                self._create_and_return_friendship, actor1_name, actor2_name, rel_type, usecase_id)\n",
        "            for row in result:\n",
        "                print(\"Created friendship between: {n1}, {n2}\".format(n1=row['n1'], n2=row['n2']))\n",
        "    \n",
        "    @staticmethod\n",
        "    def _create_and_return_friendship(tx, actor1_name, actor2_name, rel_type, usecase_id):\n",
        "        # To learn more about the Cypher syntax, see https://neo4j.com/docs/cypher-manual/current/\n",
        "        # The Reference Card is also a good resource for keywords https://neo4j.com/docs/cypher-refcard/current/\n",
        "        query = (\n",
        "            \"CREATE (n1:Actor:\"+usecase_id+\"{ name: $actor1_name }) \"\n",
        "            \"CREATE (n2:Actor:\"+usecase_id+\"{ name: $actor2_name }) \"\n",
        "            \"CREATE (n1)-[:\" + rel_type + \"]->(n2) \"\n",
        "            \"RETURN n1, n2\"\n",
        "        )\n",
        "        result = tx.run(query, actor1_name=actor1_name, actor2_name=actor2_name)\n",
        "        try:\n",
        "            return [{\"n1\": row[\"n1\"][\"name\"], \"n2\": row[\"n2\"][\"name\"]}\n",
        "                    for row in result]\n",
        "        # Capture any errors along with the query and data for traceability\n",
        "        except ServiceUnavailable as exception:\n",
        "            logging.error(\"{query} raised an error: \\n {exception}\".format(\n",
        "                query=query, exception=exception))\n",
        "            raise\n",
        "\n",
        "    #Vishnu: 1 Jun 2022: created this f() to list all nodes with usecase label\n",
        "    def find_all_usecase_actors(self, usecase_id):\n",
        "        with self.driver.session() as session:\n",
        "            result = session.read_transaction(self._find_and_return_all_usecase_actors, usecase_id)\n",
        "            i=0\n",
        "            for row in result:\n",
        "                i=i+1\n",
        "                print(\"Found actor-\"+ str(i) +\": {row}\".format(row=row))\n",
        "\n",
        "    @staticmethod\n",
        "    def _find_and_return_all_usecase_actors(tx, usecase_id):\n",
        "        query = (\n",
        "            \"MATCH (n:Actor:\"+usecase_id+\") \"\n",
        "            \"RETURN n.name AS name\"\n",
        "        )\n",
        "        result = tx.run(query)\n",
        "        return [row[\"name\"] for row in result]"
      ]
    },
    {
      "cell_type": "markdown",
      "metadata": {
        "id": "Pjilh9vPe4LY"
      },
      "source": [
        "step-4: connect to DB"
      ]
    },
    {
      "cell_type": "code",
      "execution_count": 109,
      "metadata": {
        "id": "6p2nMvmodNw4"
      },
      "outputs": [],
      "source": [
        "#Vishnu: 1 Jun 2022: use the details from https://console.neo4j.io\n",
        "#especially use your own DB instance and corresponding passwd.\n",
        "\n",
        "uri = \"neo4j+s://443902e6.databases.neo4j.io:7687\"\n",
        "user = \"neo4j\"\n",
        "password = \"IUKexu25CPGFgZ2hh2gTjdhMvA8fwEvkAkv6qCxTTLQ\"\n",
        "\n",
        "app = App(uri, user, password)"
      ]
    },
    {
      "cell_type": "markdown",
      "metadata": {
        "id": "spwwNfDnSDsf"
      },
      "source": [
        "CAUTION: Remember to clean up the DB before executing the next steps. (so that all examples above are not leftover in the use case data below)."
      ]
    },
    {
      "cell_type": "markdown",
      "metadata": {
        "id": "2NKgB7ZSRqXL"
      },
      "source": [
        "CREATE NODES FOR ALL USECASES "
      ]
    },
    {
      "cell_type": "code",
      "execution_count": 110,
      "metadata": {},
      "outputs": [
        {
          "name": "stdout",
          "output_type": "stream",
          "text": [
            "Created node: human operator\n",
            "Created node: kb manager\n",
            "Created node: auto controller generator\n",
            "Created node: ml pipeline\n",
            "Created node: an orchestrator\n",
            "Created node: opencn\n",
            "Created node: kb\n",
            "Created node: experiments\n",
            "Created node: reports\n",
            "Created node: scenarios for experimentation\n",
            "Created node: an sandbox\n",
            "Created node: experimentation controller \n"
          ]
        }
      ],
      "source": [
        "for usecase in all_usecases:\n",
        "    actors = set(usecase['Actor'].to_list())\n",
        "    usecase_name = usecase['label'].to_list()[0]\n",
        "    for actor in actors:\n",
        "        app.create_node_with_label(actor.lower(), usecase_name.lower()) #take to small letters to avoid mismatch due to capitalization\n",
        "        # print(type(actor), type(usecase_name))\n",
        "\n"
      ]
    },
    {
      "cell_type": "code",
      "execution_count": 111,
      "metadata": {},
      "outputs": [
        {
          "name": "stdout",
          "output_type": "stream",
          "text": [
            "Created relation between: kb, kb\n",
            "Created relation between: kb, kb\n",
            "Created relation between: kb manager, kb\n",
            "Created relation between: kb manager, kb\n",
            "Created relation between: an orchestrator, kb\n",
            "Created relation between: auto controller generator, kb\n",
            "Created relation between: human operator, reports\n",
            "Created relation between: an sandbox, reports\n",
            "Created relation between: experiments, scenarios for experimentation\n"
          ]
        }
      ],
      "source": [
        "for usecase in all_usecases:\n",
        "    relationships =usecase['relation'].to_list()\n",
        "    # print(relationships)\n",
        "    for relation in relationships:\n",
        "        if isinstance(relation, str): #safe guard against relations that are empty or NaN\n",
        "            relation =  relation.split('->') # splits into actor1, rel, actor2\n",
        "            app.create_rel_with_type_existing_nodes(\"\".join(relation[1].lower().rstrip().lstrip()), \"\".join(relation[0].lower().rstrip().lstrip()), \"\".join(relation[2].lower().rstrip().lstrip())) # remove white space before and after \n",
        "            \n"
      ]
    },
    {
      "cell_type": "code",
      "execution_count": 112,
      "metadata": {},
      "outputs": [],
      "source": [
        "app.create_rel_with_type_existing_nodes(\"import\", \"Knowledge Base\", \"Knowledge Base\")"
      ]
    },
    {
      "cell_type": "code",
      "execution_count": 113,
      "metadata": {},
      "outputs": [
        {
          "name": "stdout",
          "output_type": "stream",
          "text": [
            "Found actor-1: human operator\n",
            "Found actor-2: kb manager\n",
            "Found actor-3: auto controller generator\n",
            "Found actor-4: ml pipeline\n",
            "Found actor-5: an orchestrator\n",
            "Found actor-6: opencn\n",
            "Found actor-7: kb\n"
          ]
        }
      ],
      "source": [
        "app.find_all_usecase_actors(\"usecase_001\")"
      ]
    },
    {
      "cell_type": "code",
      "execution_count": 114,
      "metadata": {},
      "outputs": [
        {
          "name": "stdout",
          "output_type": "stream",
          "text": [
            "Found actor-1: experiments\n",
            "Found actor-2: reports\n",
            "Found actor-3: scenarios for experimentation\n",
            "Found actor-4: an sandbox\n",
            "Found actor-5: experimentation controller \n"
          ]
        }
      ],
      "source": [
        "app.find_all_usecase_actors(\"usecase_002\")"
      ]
    },
    {
      "cell_type": "markdown",
      "metadata": {
        "id": "eBr7q13XvyeB"
      },
      "source": [
        "Step-5: Close the database connection"
      ]
    },
    {
      "cell_type": "code",
      "execution_count": 115,
      "metadata": {
        "id": "J2ak5OTtvrLd"
      },
      "outputs": [],
      "source": [
        "app.close()"
      ]
    }
  ],
  "metadata": {
    "colab": {
      "authorship_tag": "ABX9TyM7+l9YRXtytPgpOglHSXMq",
      "collapsed_sections": [],
      "include_colab_link": true,
      "name": "build-a-thon-graph-v1.ipynb",
      "provenance": []
    },
    "interpreter": {
      "hash": "da816bfb4fc193208868a0e8d5e0aadd085f9c3004d83a433cf6c0b041182abd"
    },
    "kernelspec": {
      "display_name": "Python 3.7.4 64-bit",
      "language": "python",
      "name": "python3"
    },
    "language_info": {
      "codemirror_mode": {
        "name": "ipython",
        "version": 3
      },
      "file_extension": ".py",
      "mimetype": "text/x-python",
      "name": "python",
      "nbconvert_exporter": "python",
      "pygments_lexer": "ipython3",
      "version": "3.7.4"
    }
  },
  "nbformat": 4,
  "nbformat_minor": 0
}
