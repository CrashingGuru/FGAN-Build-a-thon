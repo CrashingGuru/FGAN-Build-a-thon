{
 "cells": [
  {
   "attachments": {},
   "cell_type": "markdown",
   "metadata": {},
   "source": [
    "## Build-a-thon 2023\n",
    "Register here https://github.com/vrra/FGAN-Build-a-thon/issues/new/choose\n",
    "\n",
    "Created: 14 Apr 2022.   \n",
    "Author: Vishnu Ram OV.   \n",
    "vishnu.n@ieee.org.   \n",
    "Licence: available for all purposes under the sun  \n",
    "but with acknowledgement and citation to \"ITU FG AN Build-a-thon\""
   ]
  },
  {
   "attachments": {},
   "cell_type": "markdown",
   "metadata": {},
   "source": [
    "### Prerequisites\n",
    "argilla api_url  \n",
    "argilla api_key  \n",
    "argilla input_filename  \n",
    "argilla_workspace  \n",
    "huggingface hub login token  "
   ]
  },
  {
   "attachments": {},
   "cell_type": "markdown",
   "metadata": {},
   "source": [
    "### For Colab users:\n",
    "\n",
    "If you are using colab, add your credentials here and uncomment these  \n",
    "and skip to step-1 below."
   ]
  },
  {
   "cell_type": "code",
   "execution_count": null,
   "metadata": {},
   "outputs": [],
   "source": [
    "#api_url=\"your direct HF Space URL\", \n",
    "#api_key=\"your ADMIN_API_KEY\"\n",
    "#input_filename=\"your input file name\"\n",
    "#argilla_workspace=\"your argilla workspace\"\n",
    "#vishnuramov_push_to_hf_hub_token=\"huggingface hub login token\""
   ]
  },
  {
   "attachments": {},
   "cell_type": "markdown",
   "metadata": {},
   "source": [
    "### For non-colab users:\n",
    "Create a local file .env with   \n",
    "api_url=\"your direct HF Space URL\", \n",
    "api_key=\"your ADMIN_API_KEY\"  \n",
    "input_filename=\"my input filename path\""
   ]
  },
  {
   "cell_type": "code",
   "execution_count": 39,
   "metadata": {},
   "outputs": [],
   "source": [
    "import argilla as rg"
   ]
  },
  {
   "attachments": {},
   "cell_type": "markdown",
   "metadata": {},
   "source": [
    "### Read the Argilla HF Space Direct URI, api_key"
   ]
  },
  {
   "cell_type": "code",
   "execution_count": 40,
   "metadata": {},
   "outputs": [
    {
     "name": "stdout",
     "output_type": "stream",
     "text": [
      "Requirement already satisfied: python-dotenv in /opt/homebrew/Caskroom/miniforge/base/envs/myenv38c/lib/python3.8/site-packages (0.19.2)\n",
      "Note: you may need to restart the kernel to use updated packages.\n"
     ]
    },
    {
     "data": {
      "text/plain": [
       "True"
      ]
     },
     "execution_count": 40,
     "metadata": {},
     "output_type": "execute_result"
    }
   ],
   "source": [
    "import os\n",
    "%pip install python-dotenv\n",
    "from dotenv import load_dotenv\n",
    "load_dotenv()"
   ]
  },
  {
   "cell_type": "code",
   "execution_count": 41,
   "metadata": {},
   "outputs": [],
   "source": [
    "uri = os.getenv('api_url')\n",
    "key = os.getenv('api_key')\n",
    "my_input_filename = os.getenv('input_filename')\n",
    "my_argilla_workspace=os.getenv('argilla_workspace')\n",
    "my_push_to_hf_hub_token=os.getenv('vishnuramov_push_to_hf_hub_token')"
   ]
  },
  {
   "cell_type": "code",
   "execution_count": 42,
   "metadata": {},
   "outputs": [
    {
     "name": "stdout",
     "output_type": "stream",
     "text": [
      "admin\n"
     ]
    }
   ],
   "source": [
    "print(my_argilla_workspace)"
   ]
  },
  {
   "cell_type": "code",
   "execution_count": 43,
   "metadata": {},
   "outputs": [],
   "source": [
    "rg.init(    \n",
    "    api_url=uri, \n",
    "    api_key=key,\n",
    "    workspace=my_argilla_workspace\n",
    ")"
   ]
  },
  {
   "attachments": {},
   "cell_type": "markdown",
   "metadata": {},
   "source": [
    "### Read the input file \n",
    "NOTE- for this notebook we use a downloaded copy of https://www.itu.int/rec/T-REC-Y.Sup71-202207-I"
   ]
  },
  {
   "cell_type": "code",
   "execution_count": 44,
   "metadata": {},
   "outputs": [],
   "source": [
    "import PyPDF2\n",
    "pdfFileObj = open(my_input_filename, 'rb')\n",
    "mypdfReader = PyPDF2.PdfReader(pdfFileObj)"
   ]
  },
  {
   "cell_type": "code",
   "execution_count": 45,
   "metadata": {},
   "outputs": [
    {
     "name": "stdout",
     "output_type": "stream",
     "text": [
      "FG-AN\n",
      "Microsoft® Word for Microsoft 365\n",
      "macOS Version 12.5.1 (Build 21G83) Quartz PDFContext, AppendMode 1.1\n",
      "None\n",
      "Use cases for Autonomous Networks\n"
     ]
    }
   ],
   "source": [
    "pageObj = mypdfReader.pages[10]\n",
    "#print(pageObj.extract_text())\n",
    "meta = mypdfReader.metadata\n",
    "print(meta.author)\n",
    "print(meta.creator)\n",
    "print(meta.producer)\n",
    "print(meta.subject)\n",
    "print(meta.title)\n"
   ]
  },
  {
   "cell_type": "code",
   "execution_count": 46,
   "metadata": {},
   "outputs": [],
   "source": [
    "import pandas as pd\n",
    "dict=   {'author':[],\n",
    "         'subject': [],\n",
    "         'title': [],\n",
    "         'text':[],\n",
    "         'label':[],\n",
    "         'metadata':[]\n",
    "        }\n",
    "df = pd.DataFrame(dict)"
   ]
  },
  {
   "attachments": {},
   "cell_type": "markdown",
   "metadata": {},
   "source": [
    "### Configure dataset \n",
    "NOTE- we use the labels as \n",
    "* use case\n",
    "* architecture\n",
    "* poc\n",
    "* other"
   ]
  },
  {
   "cell_type": "code",
   "execution_count": 47,
   "metadata": {},
   "outputs": [],
   "source": [
    "settings = rg.TextClassificationSettings(label_schema=[\"Usecase\", \"Architecture\", \"PoC\", \"Other\"])\n",
    "rg.configure_dataset(name=\"fgan23allpages\", settings=settings)\n",
    "#Caution: the dataset name will not accept caps letters."
   ]
  },
  {
   "cell_type": "code",
   "execution_count": 48,
   "metadata": {},
   "outputs": [],
   "source": [
    "for page in mypdfReader.pages:\n",
    "    extracted_text=page.extract_text()    \n",
    "    df.loc[len(df.index)] = [\n",
    "                            meta.author, \n",
    "                            meta.subject, \n",
    "                            meta.title, \n",
    "                            extracted_text,\n",
    "                            \"\", #label\n",
    "                            \"\"] #metadata\n"
   ]
  },
  {
   "cell_type": "code",
   "execution_count": 49,
   "metadata": {},
   "outputs": [
    {
     "data": {
      "text/html": [
       "<div>\n",
       "<style scoped>\n",
       "    .dataframe tbody tr th:only-of-type {\n",
       "        vertical-align: middle;\n",
       "    }\n",
       "\n",
       "    .dataframe tbody tr th {\n",
       "        vertical-align: top;\n",
       "    }\n",
       "\n",
       "    .dataframe thead th {\n",
       "        text-align: right;\n",
       "    }\n",
       "</style>\n",
       "<table border=\"1\" class=\"dataframe\">\n",
       "  <thead>\n",
       "    <tr style=\"text-align: right;\">\n",
       "      <th></th>\n",
       "      <th>author</th>\n",
       "      <th>subject</th>\n",
       "      <th>title</th>\n",
       "      <th>text</th>\n",
       "      <th>label</th>\n",
       "      <th>metadata</th>\n",
       "    </tr>\n",
       "  </thead>\n",
       "  <tbody>\n",
       "    <tr>\n",
       "      <th>0</th>\n",
       "      <td>FG-AN</td>\n",
       "      <td>None</td>\n",
       "      <td>Use cases for Autonomous Networks</td>\n",
       "      <td>\\n \\n \\n  \\nI n t e r n a t i o n a l  T e l ...</td>\n",
       "      <td></td>\n",
       "      <td></td>\n",
       "    </tr>\n",
       "    <tr>\n",
       "      <th>1</th>\n",
       "      <td>FG-AN</td>\n",
       "      <td>None</td>\n",
       "      <td>Use cases for Autonomous Networks</td>\n",
       "      <td>\\nError! Reference source not found.  (2021 -...</td>\n",
       "      <td></td>\n",
       "      <td></td>\n",
       "    </tr>\n",
       "    <tr>\n",
       "      <th>2</th>\n",
       "      <td>FG-AN</td>\n",
       "      <td>None</td>\n",
       "      <td>Use cases for Autonomous Networks</td>\n",
       "      <td>\\nError! Reference source not found.  (2021 -...</td>\n",
       "      <td></td>\n",
       "      <td></td>\n",
       "    </tr>\n",
       "  </tbody>\n",
       "</table>\n",
       "</div>"
      ],
      "text/plain": [
       "  author subject                              title  \\\n",
       "0  FG-AN    None  Use cases for Autonomous Networks   \n",
       "1  FG-AN    None  Use cases for Autonomous Networks   \n",
       "2  FG-AN    None  Use cases for Autonomous Networks   \n",
       "\n",
       "                                                text label metadata  \n",
       "0   \\n \\n \\n  \\nI n t e r n a t i o n a l  T e l ...                 \n",
       "1   \\nError! Reference source not found.  (2021 -...                 \n",
       "2   \\nError! Reference source not found.  (2021 -...                 "
      ]
     },
     "execution_count": 49,
     "metadata": {},
     "output_type": "execute_result"
    }
   ],
   "source": [
    "df.head(3)"
   ]
  },
  {
   "attachments": {},
   "cell_type": "markdown",
   "metadata": {},
   "source": [
    "### Placeholder cells for any pandas based pre-processing\n",
    "At the moment there is no such pandas based pre-processing."
   ]
  },
  {
   "attachments": {},
   "cell_type": "markdown",
   "metadata": {},
   "source": [
    "### we will read the df row by row\n",
    "to account for any pre-processing transformations applied per row\n",
    "for example per-record metadata\n",
    "\n",
    "NOTE- this takes more than a minute to complete. \n",
    "\n",
    "Grab something."
   ]
  },
  {
   "cell_type": "code",
   "execution_count": null,
   "metadata": {},
   "outputs": [],
   "source": [
    "for index, row in df.iterrows():\n",
    "    record = rg.TextClassificationRecord(\n",
    "                text=row[\"text\"],\n",
    "                    # Extra information about this record\n",
    "                metadata={\n",
    "                        \"split\": \"train\"\n",
    "                    },\n",
    "                )\n",
    "    dataset_rg = rg.DatasetForTextClassification([record])\n",
    "    rg.log(dataset_rg, \"fgan23allpages\")"
   ]
  },
  {
   "attachments": {},
   "cell_type": "markdown",
   "metadata": {},
   "source": [
    "### push the dataset to the Hugging Face Hub"
   ]
  },
  {
   "cell_type": "code",
   "execution_count": 51,
   "metadata": {},
   "outputs": [
    {
     "name": "stdout",
     "output_type": "stream",
     "text": [
      "Token will not been saved to git credential helper. Pass `add_to_git_credential=True` if you want to set the git credential as well.\n",
      "Token is valid.\n",
      "Your token has been saved to /Users/vishnu/.cache/huggingface/token\n",
      "Login successful\n"
     ]
    }
   ],
   "source": [
    "from huggingface_hub import login\n",
    "login(token=my_push_to_hf_hub_token)"
   ]
  },
  {
   "cell_type": "code",
   "execution_count": 52,
   "metadata": {},
   "outputs": [
    {
     "name": "stderr",
     "output_type": "stream",
     "text": [
      "Upload 1 LFS files: 100%|██████████| 1/1 [00:09<00:00,  9.81s/it]00:00<?, ?it/s]\n",
      "Pushing dataset shards to the dataset hub: 100%|██████████| 1/1 [00:11<00:00, 11.37s/it]\n"
     ]
    }
   ],
   "source": [
    "from datasets import load_dataset\n",
    "dataset_rg = rg.load(\"fgan23allpages\")\n",
    "dataset_ds = dataset_rg.to_datasets()\n",
    "\n",
    "#push the dataset to the Hugging Face Hub\n",
    "dataset_ds.push_to_hub(\"ITU-T-Build-a-thon-fgan23allpages\")"
   ]
  },
  {
   "attachments": {},
   "cell_type": "markdown",
   "metadata": {},
   "source": [
    "NOTE- Pages Dataset is available from vishnuramov/ITU-T-Build-a-thon-fgan23allpages"
   ]
  },
  {
   "attachments": {},
   "cell_type": "markdown",
   "metadata": {},
   "source": [
    "### Example for loading the dataset"
   ]
  },
  {
   "cell_type": "code",
   "execution_count": 53,
   "metadata": {},
   "outputs": [
    {
     "name": "stderr",
     "output_type": "stream",
     "text": [
      "Downloading readme: 100%|██████████| 977/977 [00:00<00:00, 339kB/s]\n"
     ]
    },
    {
     "data": {
      "text/html": [
       "<pre style=\"white-space:pre;overflow-x:auto;line-height:normal;font-family:Menlo,'DejaVu Sans Mono',consolas,'Courier New',monospace\"><span style=\"color: #7fbfbf; text-decoration-color: #7fbfbf\">[05/10/23 12:37:41] </span><span style=\"color: #800000; text-decoration-color: #800000\">WARNING </span> WARNING:datasets.builder:Using custom data configuration                <a href=\"file:///opt/homebrew/Caskroom/miniforge/base/envs/myenv38c/lib/python3.8/site-packages/datasets/builder.py\" target=\"_blank\"><span style=\"color: #7f7f7f; text-decoration-color: #7f7f7f\">builder.py</span></a><span style=\"color: #7f7f7f; text-decoration-color: #7f7f7f\">:</span><a href=\"file:///opt/homebrew/Caskroom/miniforge/base/envs/myenv38c/lib/python3.8/site-packages/datasets/builder.py#496\" target=\"_blank\"><span style=\"color: #7f7f7f; text-decoration-color: #7f7f7f\">496</span></a>\n",
       "<span style=\"color: #7fbfbf; text-decoration-color: #7fbfbf\">                    </span>         vishnuramov--ITU-T-Build-a-thon-fgan23allpages-594bd03a563e4dad         <span style=\"color: #7f7f7f; text-decoration-color: #7f7f7f\">              </span>\n",
       "</pre>\n"
      ],
      "text/plain": [
       "\u001b[2;36m[05/10/23 12:37:41]\u001b[0m\u001b[2;36m \u001b[0m\u001b[31mWARNING \u001b[0m WARNING:datasets.builder:Using custom data configuration                \u001b]8;id=243796;file:///opt/homebrew/Caskroom/miniforge/base/envs/myenv38c/lib/python3.8/site-packages/datasets/builder.py\u001b\\\u001b[2mbuilder.py\u001b[0m\u001b]8;;\u001b\\\u001b[2m:\u001b[0m\u001b]8;id=75186;file:///opt/homebrew/Caskroom/miniforge/base/envs/myenv38c/lib/python3.8/site-packages/datasets/builder.py#496\u001b\\\u001b[2m496\u001b[0m\u001b]8;;\u001b\\\n",
       "\u001b[2;36m                    \u001b[0m         vishnuramov--ITU-T-Build-a-thon-fgan23allpages-594bd03a563e4dad         \u001b[2m              \u001b[0m\n"
      ]
     },
     "metadata": {},
     "output_type": "display_data"
    },
    {
     "name": "stdout",
     "output_type": "stream",
     "text": [
      "Downloading and preparing dataset None/None to /Users/vishnu/.cache/huggingface/datasets/vishnuramov___parquet/vishnuramov--ITU-T-Build-a-thon-fgan23allpages-594bd03a563e4dad/0.0.0/2a3b91fbd88a2c90d1dbbb32b460cf621d31bd5b05b934492fdef7d8d6f236ec...\n"
     ]
    },
    {
     "name": "stderr",
     "output_type": "stream",
     "text": [
      "Downloading data: 100%|██████████| 237k/237k [00:00<00:00, 605kB/s]\n",
      "Downloading data files: 100%|██████████| 1/1 [00:04<00:00,  4.45s/it]\n",
      "Extracting data files: 100%|██████████| 1/1 [00:00<00:00, 806.44it/s]\n",
      "                                                                     "
     ]
    },
    {
     "name": "stdout",
     "output_type": "stream",
     "text": [
      "Dataset parquet downloaded and prepared to /Users/vishnu/.cache/huggingface/datasets/vishnuramov___parquet/vishnuramov--ITU-T-Build-a-thon-fgan23allpages-594bd03a563e4dad/0.0.0/2a3b91fbd88a2c90d1dbbb32b460cf621d31bd5b05b934492fdef7d8d6f236ec. Subsequent calls will reuse this data.\n"
     ]
    },
    {
     "name": "stderr",
     "output_type": "stream",
     "text": [
      "\r"
     ]
    }
   ],
   "source": [
    "from datasets import load_dataset\n",
    "dataset_ds = load_dataset(\"vishnuramov/ITU-T-Build-a-thon-fgan23allpages\", split=\"train\")\n",
    "dataset_rg = rg.read_datasets(dataset_ds, task=\"TextClassification\")\n"
   ]
  },
  {
   "cell_type": "code",
   "execution_count": 54,
   "metadata": {},
   "outputs": [
    {
     "data": {
      "text/html": [
       "<pre style=\"white-space:pre;overflow-x:auto;line-height:normal;font-family:Menlo,'DejaVu Sans Mono',consolas,'Courier New',monospace\"></pre>\n"
      ],
      "text/plain": [
       "\u001b[?25l"
      ]
     },
     "metadata": {},
     "output_type": "display_data"
    },
    {
     "data": {
      "text/html": [
       "<pre style=\"white-space:pre;overflow-x:auto;line-height:normal;font-family:Menlo,'DejaVu Sans Mono',consolas,'Courier New',monospace\">\n",
       "</pre>\n"
      ],
      "text/plain": [
       "\n",
       "\u001b[?25h"
      ]
     },
     "metadata": {},
     "output_type": "display_data"
    },
    {
     "data": {
      "text/html": [
       "<pre style=\"white-space:pre;overflow-x:auto;line-height:normal;font-family:Menlo,'DejaVu Sans Mono',consolas,'Courier New',monospace\"><span style=\"color: #008080; text-decoration-color: #008080; font-weight: bold\">96</span> records logged to \n",
       "<a href=\"https://vishnuramov-build-a-thon-argilla-hf-space-01.hf.space/datasets/admin/fgan23allpages_readback\" target=\"_blank\"><span style=\"color: #0000ff; text-decoration-color: #0000ff; text-decoration: underline\">https://vishnuramov-build-a-thon-argilla-hf-space-01.hf.space/datasets/admin/fgan23allpages_readback</span></a>\n",
       "</pre>\n"
      ],
      "text/plain": [
       "\u001b[1;36m96\u001b[0m records logged to \n",
       "\u001b]8;id=717713;https://vishnuramov-build-a-thon-argilla-hf-space-01.hf.space/datasets/admin/fgan23allpages_readback\u001b\\\u001b[4;94mhttps://vishnuramov-build-a-thon-argilla-hf-space-01.hf.space/datasets/admin/fgan23allpages_readback\u001b[0m\u001b]8;;\u001b\\\n"
      ]
     },
     "metadata": {},
     "output_type": "display_data"
    },
    {
     "data": {
      "text/plain": [
       "BulkResponse(dataset='fgan23allpages_readback', processed=96, failed=0)"
      ]
     },
     "execution_count": 54,
     "metadata": {},
     "output_type": "execute_result"
    }
   ],
   "source": [
    "rg.log(dataset_rg, \"fgan23allpages_readback\")\n"
   ]
  }
 ],
 "metadata": {
  "kernelspec": {
   "display_name": "myenv38c",
   "language": "python",
   "name": "python3"
  },
  "language_info": {
   "codemirror_mode": {
    "name": "ipython",
    "version": 3
   },
   "file_extension": ".py",
   "mimetype": "text/x-python",
   "name": "python",
   "nbconvert_exporter": "python",
   "pygments_lexer": "ipython3",
   "version": "3.8.13"
  },
  "orig_nbformat": 4
 },
 "nbformat": 4,
 "nbformat_minor": 2
}
