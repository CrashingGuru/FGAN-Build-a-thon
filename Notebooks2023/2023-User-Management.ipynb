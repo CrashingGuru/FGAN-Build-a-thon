{
 "cells": [
  {
   "attachments": {},
   "cell_type": "markdown",
   "metadata": {},
   "source": [
    "## Build-a-thon 2023\n",
    "Register here https://github.com/vrra/FGAN-Build-a-thon/issues/new/choose\n",
    "\n",
    "Created: 21 May 2023\n",
    "Author: Vishnu Ram OV.   \n",
    "vishnu.n@ieee.org.   \n",
    "Licence: available for all purposes under the sun  \n",
    "but with acknowledgement and citation to \"ITU FG AN Build-a-thon\"\n",
    "\n",
    "Description: Example notebook for listing , creating and deleting users.\n",
    "Pre-requisites:\n",
    "1) user name to be created = e.g. oscar\n",
    "2) passwd to be set = e.g. secret\n",
    "3) workspace to be created = e.g. costarica"
   ]
  },
  {
   "attachments": {},
   "cell_type": "markdown",
   "metadata": {},
   "source": [
    "### Prerequisites\n",
    "argilla api_url  \n",
    "argilla api_key  \n",
    "argilla input_filename  \n",
    "argilla_workspace  \n",
    "huggingface hub login token  "
   ]
  },
  {
   "attachments": {},
   "cell_type": "markdown",
   "metadata": {},
   "source": [
    "### For Colab users:\n",
    "\n",
    "If you are using colab, add your credentials here and uncomment these  \n",
    "and skip to step-1 below."
   ]
  },
  {
   "cell_type": "code",
   "execution_count": null,
   "metadata": {},
   "outputs": [],
   "source": [
    "#api_url=\"your direct HF Space URL\", \n",
    "#api_key=\"your ADMIN_API_KEY\"\n",
    "#input_filename=\"your input file name\"\n",
    "#argilla_workspace=\"your argilla workspace\"\n",
    "#my_push_to_hf_hub_token=\"huggingface hub login token\"\n",
    "#argilla_dbname=\"argilla db name in hf space\"\n",
    "#hf_hub_name=\"hf hub name for dataset\"\n",
    "#hf_user=\"valid hf username where the dataset would be stored\""
   ]
  },
  {
   "attachments": {},
   "cell_type": "markdown",
   "metadata": {},
   "source": [
    "### For non-colab users:\n",
    "Create a local file .env with   \n",
    "api_url=\"your direct HF Space URL\", \n",
    "api_key=\"your ADMIN_API_KEY\"  \n",
    "input_filename=\"my input filename path\""
   ]
  },
  {
   "cell_type": "code",
   "execution_count": 2,
   "metadata": {},
   "outputs": [],
   "source": [
    "import argilla as rg"
   ]
  },
  {
   "attachments": {},
   "cell_type": "markdown",
   "metadata": {},
   "source": [
    "### Read the Argilla HF Space Direct URI, api_key"
   ]
  },
  {
   "cell_type": "code",
   "execution_count": 3,
   "metadata": {},
   "outputs": [
    {
     "name": "stdout",
     "output_type": "stream",
     "text": [
      "Requirement already satisfied: python-dotenv in /opt/homebrew/Caskroom/miniforge/base/envs/myenv38c/lib/python3.8/site-packages (0.19.2)\n",
      "Note: you may need to restart the kernel to use updated packages.\n"
     ]
    },
    {
     "data": {
      "text/plain": [
       "True"
      ]
     },
     "execution_count": 3,
     "metadata": {},
     "output_type": "execute_result"
    }
   ],
   "source": [
    "import os\n",
    "%pip install python-dotenv\n",
    "from dotenv import load_dotenv\n",
    "load_dotenv()"
   ]
  },
  {
   "cell_type": "code",
   "execution_count": 4,
   "metadata": {},
   "outputs": [],
   "source": [
    "uri = os.getenv('api_url')\n",
    "key = os.getenv('api_key')\n",
    "my_input_filename = os.getenv('input_filename')\n",
    "my_argilla_workspace=os.getenv('argilla_workspace')\n",
    "my_push_to_hf_hub_token=os.getenv('my_push_to_hf_hub_token')\n",
    "my_argilla_dbname=os.getenv('argilla_dbname')\n",
    "my_hf_hub_name=os.getenv('hf_hub_name')\n",
    "my_hf_user=os.getenv('hf_user')"
   ]
  },
  {
   "cell_type": "code",
   "execution_count": 5,
   "metadata": {},
   "outputs": [],
   "source": [
    "rg.init(    \n",
    "    api_url=uri, \n",
    "    api_key=key\n",
    "    #workspace=my_argilla_workspace\n",
    ")\n",
    "#in this case, we will be creating a new workspace for the user, \n",
    "#see below"
   ]
  },
  {
   "cell_type": "code",
   "execution_count": 6,
   "metadata": {},
   "outputs": [],
   "source": [
    "import httpx\n",
    "auth_headers = {\"X-Argilla-API-Key\": key}\n",
    "http = httpx.Client(base_url=uri, headers=auth_headers)\n",
    "import json\n"
   ]
  },
  {
   "attachments": {},
   "cell_type": "markdown",
   "metadata": {},
   "source": [
    "### List all the users, useful to id the user"
   ]
  },
  {
   "cell_type": "code",
   "execution_count": 8,
   "metadata": {},
   "outputs": [
    {
     "name": "stdout",
     "output_type": "stream",
     "text": [
      "***** User exists: \"oscar\" with id= a5b47ad4-1bca-4cde-a063-aed8d7a6ee56 Dont create this user again\n"
     ]
    }
   ],
   "source": [
    "users = http.get(\"/api/users\").json()\n",
    "#Input the username from the admin\n",
    "print(\"Enter the username to be created: \")\n",
    "created_username= input()\n",
    "\n",
    "for item in users:\n",
    "    if (created_username == item['username']):\n",
    "        created_username_id=item['id']\n",
    "        print(\"***** User exists: \\\"\"+ \n",
    "              created_username+ \n",
    "              \"\\\" with id= \"+\n",
    "              item['id']+\n",
    "              \" Dont create this user again\")\n"
   ]
  },
  {
   "attachments": {},
   "cell_type": "markdown",
   "metadata": {},
   "source": [
    "### List all workspaces"
   ]
  },
  {
   "cell_type": "code",
   "execution_count": 118,
   "metadata": {},
   "outputs": [
    {
     "name": "stdout",
     "output_type": "stream",
     "text": [
      "***** workspace exists: \"costarica\" with id= 0f18d550-9a65-4d7f-a9d2-12b90f4f4dda Dont create this workspace again\n"
     ]
    }
   ],
   "source": [
    "workspaces = http.get(\"/api/workspaces\").json()\n",
    "#Input the workspace from the admin\n",
    "print(\"Enter the workspace to be created: \")\n",
    "created_workspace= input()\n",
    "\n",
    "created_workspace_id = -1 #setup an invariant.\n",
    "for item in workspaces:\n",
    "    if (created_workspace == item['name']):\n",
    "        created_workspace_id = item['id']\n",
    "        print(\"***** workspace exists: \\\"\"+ \n",
    "              created_workspace+ \n",
    "              \"\\\" with id= \"+\n",
    "              created_workspace_id+ \n",
    "              \" Dont create this workspace again\")"
   ]
  },
  {
   "attachments": {},
   "cell_type": "markdown",
   "metadata": {},
   "source": [
    "### Creating user with the details.\n",
    "CAUTION: execute this only if the user does not exist already"
   ]
  },
  {
   "cell_type": "code",
   "execution_count": null,
   "metadata": {},
   "outputs": [],
   "source": [
    "created_role=\"annotator\"\n",
    "created_first_name=created_username\n",
    "created_last_name= \"None\"\n",
    "print(\"Enter the passwd to be created: \")\n",
    "created_password= input()\n",
    "\n",
    "user = http.post(\"/api/users\", \n",
    "                 json={\"role\": created_role, \n",
    "                       \"first_name\": created_first_name, \n",
    "                       \"last_name\": created_last_name, \n",
    "                       \"username\": created_username, \n",
    "                       \"password\": created_password}).json()\n",
    "\n",
    "print(json.dumps(user, indent = 1))"
   ]
  },
  {
   "attachments": {},
   "cell_type": "markdown",
   "metadata": {},
   "source": [
    "### Create workspace\n",
    "CAUTION: execute this only if the workspace doesnt exist already"
   ]
  },
  {
   "cell_type": "code",
   "execution_count": 68,
   "metadata": {},
   "outputs": [],
   "source": [
    "#created_workspace=\"costarica\"\n",
    "if (created_workspace_id != -1):\n",
    "    workspace = http.post(\"/api/workspaces\", json={\"name\": created_workspace}).json()"
   ]
  },
  {
   "attachments": {},
   "cell_type": "markdown",
   "metadata": {},
   "source": [
    "### Assign user to workspace"
   ]
  },
  {
   "cell_type": "code",
   "execution_count": 119,
   "metadata": {},
   "outputs": [
    {
     "data": {
      "text/plain": [
       "<Response [409 Conflict]>"
      ]
     },
     "execution_count": 119,
     "metadata": {},
     "output_type": "execute_result"
    }
   ],
   "source": [
    "http.post(\"/api/workspaces/\"+\n",
    "          created_workspace_id+\n",
    "          \"/users/\"+\n",
    "          created_username_id)"
   ]
  },
  {
   "attachments": {},
   "cell_type": "markdown",
   "metadata": {},
   "source": [
    "### set the workspace\n",
    "so that we can import the dataset"
   ]
  },
  {
   "cell_type": "code",
   "execution_count": 120,
   "metadata": {},
   "outputs": [],
   "source": [
    "rg.set_workspace(created_workspace)"
   ]
  },
  {
   "attachments": {},
   "cell_type": "markdown",
   "metadata": {},
   "source": [
    "### Import the dataset for the user"
   ]
  },
  {
   "cell_type": "code",
   "execution_count": null,
   "metadata": {},
   "outputs": [],
   "source": [
    "from datasets import load_dataset\n",
    "load_dataset_path=my_hf_user+'/'+my_hf_hub_name\n",
    "print(load_dataset_path)\n",
    "dataset_ds = load_dataset(load_dataset_path, split=\"train\")\n",
    "dataset_rg = rg.read_datasets(dataset_ds, task=\"TextClassification\")\n",
    "\n",
    "#the dataset is hardcoded because this is just a test code.\n",
    "my_db_name=\"fgandataset_annotate\"\n",
    "rg.log(dataset_rg, my_db_name)\n",
    "\n",
    "#Now you can go to the HF space and check if you got it."
   ]
  },
  {
   "cell_type": "code",
   "execution_count": 123,
   "metadata": {},
   "outputs": [],
   "source": [
    "settings = rg.TextClassificationSettings(label_schema=[\"Usecase\", \"Architecture\", \"PoC\", \"Other\"])\n",
    "rg.configure_dataset(name=my_db_name, settings=settings)"
   ]
  },
  {
   "attachments": {},
   "cell_type": "markdown",
   "metadata": {},
   "source": [
    "### CAUTION: Dont do! Deleting user! this needs the id from above."
   ]
  },
  {
   "cell_type": "code",
   "execution_count": null,
   "metadata": {},
   "outputs": [],
   "source": [
    "print(json.dumps(user, indent = 1))\n",
    "print(created_username_id)\n",
    "http.delete(\"/api/users/\"+\n",
    "            created_username_id\n",
    "            ).json()"
   ]
  },
  {
   "attachments": {},
   "cell_type": "markdown",
   "metadata": {},
   "source": [
    "### CAUTION: Dont do! Trying to del the workspace, but this does not work for some reason"
   ]
  },
  {
   "cell_type": "code",
   "execution_count": 96,
   "metadata": {},
   "outputs": [
    {
     "data": {
      "text/plain": [
       "{'detail': 'Method Not Allowed'}"
      ]
     },
     "execution_count": 96,
     "metadata": {},
     "output_type": "execute_result"
    }
   ],
   "source": [
    "http.delete(\"/api/workspaces/\"+created_workspace_id).json()"
   ]
  }
 ],
 "metadata": {
  "kernelspec": {
   "display_name": "myenv38c",
   "language": "python",
   "name": "python3"
  },
  "language_info": {
   "codemirror_mode": {
    "name": "ipython",
    "version": 3
   },
   "file_extension": ".py",
   "mimetype": "text/x-python",
   "name": "python",
   "nbconvert_exporter": "python",
   "pygments_lexer": "ipython3",
   "version": "3.8.13"
  },
  "orig_nbformat": 4
 },
 "nbformat": 4,
 "nbformat_minor": 2
}
