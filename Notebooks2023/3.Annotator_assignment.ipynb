{
  "cells": [
    {
      "cell_type": "markdown",
      "metadata": {
        "id": "view-in-github",
        "colab_type": "text"
      },
      "source": [
        "<a href=\"https://colab.research.google.com/github/CrashingGuru/FGAN-Build-a-thon/blob/main/Notebooks2023/3.Annotator_assignment.ipynb\" target=\"_parent\"><img src=\"https://colab.research.google.com/assets/colab-badge.svg\" alt=\"Open In Colab\"/></a>"
      ]
    },
    {
      "cell_type": "markdown",
      "source": [
        "**Created**: 20 Feb 2024\n",
        "\n",
        "Aaron, Israel, Frank, Raymond, Vishnu.\n",
        "\n",
        "Modification History:\n",
        "\n",
        "20 Feb 2024: Aaron, Israel, Frank, Raymond, Vishnu: Created\n",
        "\n",
        "\n",
        "Pre-requisites:\n",
        "\n",
        "the following notebooks are already run:\n",
        "\n",
        "1. Create the raw dataset in HF hub.\n",
        "\n",
        "2. Configure the argilla dataset using https://colab.research.google.com/github/vrra/FGAN-Build-a-thon/blob/main/Notebooks2023/Argilla_configure_dataset-v1.ipynb\n",
        "\n",
        "3. add records in the argilla dataset from the raw dataset\n",
        "\n",
        "4. partially annotate the dataset in UI - offline\n",
        "\n",
        "5. Save the annotated dataset into HF hub\n",
        "\n",
        "Description:\n",
        "Once the initial annotation is done (and dusted), this notebook configures more annotators (to join the fun)."
      ],
      "metadata": {
        "id": "6kQl8j1Rpc5B"
      },
      "id": "6kQl8j1Rpc5B"
    },
    {
      "cell_type": "markdown",
      "id": "fbc7acc7",
      "metadata": {
        "id": "fbc7acc7"
      },
      "source": [
        "\n",
        "\n",
        "```\n",
        "# This is formatted as code\n",
        "```\n",
        "\n",
        "## Install Libraries\n",
        "\n",
        "Install the latest version of Argilla in Colab, along with other libraries and models used in this notebook."
      ]
    },
    {
      "cell_type": "code",
      "execution_count": null,
      "id": "f808bb22",
      "metadata": {
        "id": "f808bb22"
      },
      "outputs": [],
      "source": [
        "!pip install argilla datasets"
      ]
    },
    {
      "cell_type": "markdown",
      "id": "00b2e199",
      "metadata": {
        "id": "00b2e199"
      },
      "source": [
        "## Secretes needed\n",
        "\n"
      ]
    },
    {
      "cell_type": "markdown",
      "id": "a93bc742",
      "metadata": {
        "id": "a93bc742"
      },
      "source": [
        "\n",
        "* `ARGILLA_API_URL`: It is the url of the Argilla Server.\n",
        "  * If you're using HF Spaces, it is constructed as `https://[your-owner-name]-[your_space_name].hf.space`.\n",
        "* `ARGILLA_API_KEY`: It is the API key of the Argilla Server. It is `owner` by default.\n",
        "* `HF_TOKEN`: It is the Hugging Face API token. It is only needed if you're using a [private HF Space](https://docs.argilla.io/en/latest/getting_started/installation/deployments/huggingface-spaces.html#deploy-argilla-on-spaces). You can configure it in your profile: [Setting > Access Tokens](https://huggingface.co/settings/tokens).\n",
        "* `workspace`: admin\n"
      ]
    },
    {
      "cell_type": "code",
      "execution_count": 2,
      "id": "215b5b39",
      "metadata": {
        "id": "215b5b39"
      },
      "outputs": [],
      "source": [
        "import argilla as rg\n",
        "from argilla._constants import DEFAULT_API_KEY"
      ]
    },
    {
      "cell_type": "code",
      "execution_count": null,
      "id": "19c56015",
      "metadata": {
        "id": "19c56015"
      },
      "outputs": [],
      "source": [
        "from google.colab import userdata\n",
        "api_url= userdata.get('my_argilla_url')\n",
        "api_key= userdata.get('my_argilla_key')\n",
        "\n",
        "# Assumption: admin doubles up as owner.\n",
        "\n",
        "import argilla as rg\n",
        "rg.init(api_url=api_url, api_key=api_key)"
      ]
    },
    {
      "cell_type": "markdown",
      "source": [
        "## Assume: the dataset is (locked and) loaded already."
      ],
      "metadata": {
        "id": "ONl6I8aARQal"
      },
      "id": "ONl6I8aARQal"
    },
    {
      "cell_type": "code",
      "source": [
        "custom_dataset = rg.FeedbackDataset.from_argilla(name=\"fgan-annotate-dataset\",\n",
        "                                                 workspace=\"admin\")"
      ],
      "metadata": {
        "id": "v7Q3ykKAOLVG"
      },
      "id": "v7Q3ykKAOLVG",
      "execution_count": 4,
      "outputs": []
    },
    {
      "cell_type": "code",
      "source": [
        "user = rg.User.me()\n",
        "print(user)"
      ],
      "metadata": {
        "colab": {
          "base_uri": "https://localhost:8080/"
        },
        "id": "LULSBfe0SdK8",
        "outputId": "e60b8f2a-d2ee-48c5-8126-d00d9f7d469f"
      },
      "id": "LULSBfe0SdK8",
      "execution_count": 14,
      "outputs": [
        {
          "output_type": "stream",
          "name": "stdout",
          "text": [
            "User(id=12fff55e-c7f3-46a9-b4dd-b21b26672ffb, username=fgan-admin, role=owner, api_key=fgan-admin.paul.apikey, first_name=Owner, last_name=None, inserted_at=2024-02-11 15:19:05.506182, updated_at=2024-02-11 15:19:05.506182)\n"
          ]
        }
      ]
    },
    {
      "cell_type": "markdown",
      "source": [
        "## Print the list of usernames with annotator permissions."
      ],
      "metadata": {
        "id": "faU5bxREGmum"
      },
      "id": "faU5bxREGmum"
    },
    {
      "cell_type": "code",
      "source": [
        "users = [u for u in rg.User.list() if u.role == \"annotator\"]\n",
        "print(\"Found \",len(users),\" users with Annotator permissions !!\")\n",
        "for u in users:\n",
        "  print(\"Deleting the annotator = \", u.username)\n",
        "  u.delete()"
      ],
      "metadata": {
        "id": "ykZLpqOJFL50",
        "outputId": "faeb7c3c-da1a-4282-9eef-cfbe0d280b41",
        "colab": {
          "base_uri": "https://localhost:8080/"
        }
      },
      "id": "ykZLpqOJFL50",
      "execution_count": 43,
      "outputs": [
        {
          "output_type": "stream",
          "name": "stdout",
          "text": [
            "Found  2  users with Annotator permissions !!\n",
            "Deleting the annotator =  annotator1\n",
            "Deleting the annotator =  annotator2\n"
          ]
        }
      ]
    },
    {
      "cell_type": "markdown",
      "source": [
        "## Create annotator-1,\n",
        "\n",
        "CAUTION - do this only if needed.\n",
        "\n",
        "CAUTION - Cannot have capital letters in the username."
      ],
      "metadata": {
        "id": "4Xp9D223G07-"
      },
      "id": "4Xp9D223G07-"
    },
    {
      "cell_type": "code",
      "source": [
        "user1=userdata.get('annotator1_username')\n",
        "pass1=userdata.get('annotator1_password')\n",
        "user = rg.User.create(\n",
        "    username=user1,\n",
        "    first_name=\"Annotator1\",\n",
        "    last_name=\"Annotator1\",\n",
        "    password=pass1,\n",
        "    role=\"annotator\",\n",
        "    workspaces=[\"admin\"]\n",
        ")\n",
        "print(user1)\n"
      ],
      "metadata": {
        "colab": {
          "base_uri": "https://localhost:8080/"
        },
        "id": "G-UIFrmOSpQ2",
        "outputId": "ec688f29-dd61-4daf-f53d-1ed94c8415f5"
      },
      "id": "G-UIFrmOSpQ2",
      "execution_count": 44,
      "outputs": [
        {
          "output_type": "stream",
          "name": "stdout",
          "text": [
            "annotator1\n"
          ]
        }
      ]
    },
    {
      "cell_type": "markdown",
      "source": [
        "## Create annotator-2, CAUTION - do this only if needed."
      ],
      "metadata": {
        "id": "prnJnaAoMsEq"
      },
      "id": "prnJnaAoMsEq"
    },
    {
      "cell_type": "code",
      "source": [
        "user = rg.User.create(\n",
        "    username=userdata.get('annotator2_username'),\n",
        "    first_name=\"Annotator2\",\n",
        "    last_name=\"Annotator2\",\n",
        "    password=userdata.get('annotator2_password'),\n",
        "    role=\"annotator\",\n",
        "    workspaces=[\"admin\"]\n",
        ")"
      ],
      "metadata": {
        "id": "rYg2-2rmMoww"
      },
      "id": "rYg2-2rmMoww",
      "execution_count": 45,
      "outputs": []
    },
    {
      "cell_type": "markdown",
      "id": "2ZyEUBBjbK7k",
      "metadata": {
        "id": "2ZyEUBBjbK7k"
      },
      "source": [
        "-------------\n",
        "\n"
      ]
    }
  ],
  "metadata": {
    "colab": {
      "provenance": [],
      "include_colab_link": true
    },
    "kernelspec": {
      "display_name": "Python 3",
      "name": "python3"
    },
    "language_info": {
      "codemirror_mode": {
        "name": "ipython",
        "version": 3
      },
      "file_extension": ".py",
      "mimetype": "text/x-python",
      "name": "python",
      "nbconvert_exporter": "python",
      "pygments_lexer": "ipython3",
      "version": "3.9.18"
    },
    "vscode": {
      "interpreter": {
        "hash": "2584bca9d226488c39a669ff1ce19d7ca5f410e2d3aa9b82f20653edd0d96bfc"
      }
    }
  },
  "nbformat": 4,
  "nbformat_minor": 5
}