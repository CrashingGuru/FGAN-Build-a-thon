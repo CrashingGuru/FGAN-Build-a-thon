{
  "cells": [
    {
      "cell_type": "markdown",
      "metadata": {
        "id": "view-in-github",
        "colab_type": "text"
      },
      "source": [
        "<a href=\"https://colab.research.google.com/github/CrashingGuru/FGAN-Build-a-thon/blob/main/Notebooks2023/3.Annotator_assignment.ipynb\" target=\"_parent\"><img src=\"https://colab.research.google.com/assets/colab-badge.svg\" alt=\"Open In Colab\"/></a>"
      ]
    },
    {
      "cell_type": "markdown",
      "source": [
        "**Created**: 20 Feb 2024\n",
        "\n",
        "Aaron, Israel, Frank, Raymond, Vishnu.\n",
        "\n",
        "Modification History:\n",
        "\n",
        "20 Feb 2024: Aaron, Israel, Frank, Raymond, Vishnu: Created\n",
        "\n",
        "\n",
        "Pre-requisites:\n",
        "\n",
        "the following notebooks are already run:\n",
        "\n",
        "1. Create the raw dataset in HF hub.\n",
        "\n",
        "2. Configure the argilla dataset using https://colab.research.google.com/github/vrra/FGAN-Build-a-thon/blob/main/Notebooks2023/Argilla_configure_dataset-v1.ipynb\n",
        "\n",
        "3. add records in the argilla dataset from the raw dataset\n",
        "\n",
        "4. partially annotate the dataset in UI - offline\n",
        "\n",
        "5. Save the annotated dataset into HF hub\n",
        "\n",
        "Description:\n",
        "Once the initial annotation is done (and dusted), this notebook configures more annotators (to join the fun)."
      ],
      "metadata": {
        "id": "6kQl8j1Rpc5B"
      },
      "id": "6kQl8j1Rpc5B"
    },
    {
      "cell_type": "markdown",
      "id": "fbc7acc7",
      "metadata": {
        "id": "fbc7acc7"
      },
      "source": [
        "## Install Libraries\n",
        "\n",
        "Install the latest version of Argilla in Colab, along with other libraries and models used in this notebook."
      ]
    },
    {
      "cell_type": "code",
      "execution_count": null,
      "id": "f808bb22",
      "metadata": {
        "id": "f808bb22"
      },
      "outputs": [],
      "source": [
        "!pip install argilla datasets"
      ]
    },
    {
      "cell_type": "markdown",
      "id": "00b2e199",
      "metadata": {
        "id": "00b2e199"
      },
      "source": [
        "## Secretes needed\n",
        "\n"
      ]
    },
    {
      "cell_type": "markdown",
      "id": "a93bc742",
      "metadata": {
        "id": "a93bc742"
      },
      "source": [
        "\n",
        "* `ARGILLA_API_URL`: It is the url of the Argilla Server.\n",
        "  * If you're using HF Spaces, it is constructed as `https://[your-owner-name]-[your_space_name].hf.space`.\n",
        "* `ARGILLA_API_KEY`: It is the API key of the Argilla Server. It is `owner` by default.\n",
        "* `HF_TOKEN`: It is the Hugging Face API token. It is only needed if you're using a [private HF Space](https://docs.argilla.io/en/latest/getting_started/installation/deployments/huggingface-spaces.html#deploy-argilla-on-spaces). You can configure it in your profile: [Setting > Access Tokens](https://huggingface.co/settings/tokens).\n",
        "* `workspace`: admin\n"
      ]
    },
    {
      "cell_type": "code",
      "execution_count": 2,
      "id": "215b5b39",
      "metadata": {
        "id": "215b5b39"
      },
      "outputs": [],
      "source": [
        "import argilla as rg\n",
        "from argilla._constants import DEFAULT_API_KEY"
      ]
    },
    {
      "cell_type": "code",
      "execution_count": null,
      "id": "19c56015",
      "metadata": {
        "id": "19c56015"
      },
      "outputs": [],
      "source": [
        "from google.colab import userdata\n",
        "api_url= userdata.get('my_argilla_url')\n",
        "api_key= userdata.get('my_argilla_key')\n",
        "\n",
        "# Assumption: admin doubles up as owner.\n",
        "\n",
        "import argilla as rg\n",
        "rg.init(api_url=api_url, api_key=api_key)"
      ]
    },
    {
      "cell_type": "markdown",
      "source": [
        "## Assume: the dataset is (locked and) loaded already."
      ],
      "metadata": {
        "id": "ONl6I8aARQal"
      },
      "id": "ONl6I8aARQal"
    },
    {
      "cell_type": "code",
      "source": [
        "custom_dataset = rg.FeedbackDataset.from_argilla(name=\"fgan-annotate-dataset\",\n",
        "                                                 workspace=\"admin\")"
      ],
      "metadata": {
        "id": "v7Q3ykKAOLVG"
      },
      "id": "v7Q3ykKAOLVG",
      "execution_count": 4,
      "outputs": []
    },
    {
      "cell_type": "code",
      "source": [
        "user = rg.User.me()\n",
        "print(user)"
      ],
      "metadata": {
        "id": "LULSBfe0SdK8",
        "outputId": "d357a434-e882-4472-fa78-f1c0c83c5ae4",
        "colab": {
          "base_uri": "https://localhost:8080/"
        }
      },
      "id": "LULSBfe0SdK8",
      "execution_count": 6,
      "outputs": [
        {
          "output_type": "stream",
          "name": "stdout",
          "text": [
            "User(id=12fff55e-c7f3-46a9-b4dd-b21b26672ffb, username=fgan-admin, role=owner, api_key=fgan-admin.paul.apikey, first_name=Owner, last_name=None, inserted_at=2024-02-11 15:19:05.506182, updated_at=2024-02-11 15:19:05.506182)\n"
          ]
        }
      ]
    },
    {
      "cell_type": "code",
      "source": [
        "user = rg.User.create(\n",
        "    username=\"ray\",\n",
        "    first_name=\"Raymond\",\n",
        "    last_name=\"Edibo\",\n",
        "    password=\"Ray12345\",\n",
        "    role=\"annotator\",\n",
        "    workspaces=[\"admin\"]\n",
        ")"
      ],
      "metadata": {
        "id": "G-UIFrmOSpQ2"
      },
      "id": "G-UIFrmOSpQ2",
      "execution_count": 8,
      "outputs": []
    },
    {
      "cell_type": "markdown",
      "id": "2ZyEUBBjbK7k",
      "metadata": {
        "id": "2ZyEUBBjbK7k"
      },
      "source": [
        "-------------\n",
        "\n"
      ]
    }
  ],
  "metadata": {
    "colab": {
      "provenance": [],
      "include_colab_link": true
    },
    "kernelspec": {
      "display_name": "Python 3",
      "name": "python3"
    },
    "language_info": {
      "codemirror_mode": {
        "name": "ipython",
        "version": 3
      },
      "file_extension": ".py",
      "mimetype": "text/x-python",
      "name": "python",
      "nbconvert_exporter": "python",
      "pygments_lexer": "ipython3",
      "version": "3.9.18"
    },
    "vscode": {
      "interpreter": {
        "hash": "2584bca9d226488c39a669ff1ce19d7ca5f410e2d3aa9b82f20653edd0d96bfc"
      }
    }
  },
  "nbformat": 4,
  "nbformat_minor": 5
}