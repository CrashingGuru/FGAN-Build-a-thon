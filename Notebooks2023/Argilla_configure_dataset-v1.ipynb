{
  "cells": [
    {
      "cell_type": "markdown",
      "metadata": {
        "id": "view-in-github",
        "colab_type": "text"
      },
      "source": [
        "<a href=\"https://colab.research.google.com/github/vrra/FGAN-Build-a-thon/blob/main/Notebooks2023/Argilla_configure_dataset-v1.ipynb\" target=\"_parent\"><img src=\"https://colab.research.google.com/assets/colab-badge.svg\" alt=\"Open In Colab\"/></a>"
      ]
    },
    {
      "cell_type": "markdown",
      "source": [
        "Created: 31 Dec 2023 (Happy New Year!!)\n",
        "\n",
        "Aaron, Kennedy, Israel, Vishnu.\n",
        "\n",
        "Modification History:\n",
        "\n",
        "4 Jan 2024:\n",
        "Aaron, Frank, Othniel, Vishnu: Changed the data schema to a simpler format. Bye-bye \"for_supervised_fine_tuning\" format.\n",
        "\n",
        "Description: This notebook configures the dataset.\n",
        "\n",
        "Pre-requisites:\n",
        "the following notebooks are already run:\n",
        "\n",
        "1. Create the raw dataset in HF hub.\n",
        "\n",
        "2. Manually Create a HF Spaces deployment of Argilla.\n",
        "\n",
        "This notebook will Configure the argilla dataset\n",
        "\n",
        "//And later you may need to\n",
        "\n",
        "//add records in the argilla dataset from the raw dataset\n",
        "\n",
        "//annotate the dataset in UI"
      ],
      "metadata": {
        "id": "6kQl8j1Rpc5B"
      },
      "id": "6kQl8j1Rpc5B"
    },
    {
      "cell_type": "markdown",
      "id": "fbc7acc7",
      "metadata": {
        "id": "fbc7acc7"
      },
      "source": [
        "## Install Libraries\n",
        "\n",
        "Install the latest version of Argilla in Colab, along with other libraries and models used in this notebook."
      ]
    },
    {
      "cell_type": "code",
      "execution_count": null,
      "id": "f808bb22",
      "metadata": {
        "id": "f808bb22"
      },
      "outputs": [],
      "source": [
        "!pip install argilla"
      ]
    },
    {
      "cell_type": "markdown",
      "id": "EwDfn8E7W7jD",
      "metadata": {
        "id": "EwDfn8E7W7jD"
      },
      "source": [
        "Prerequisites\n",
        "\n",
        "Deploy Argilla Server on [HF Spaces](https://huggingface.co/new-space?template=argilla/argilla-template-space).\n",
        "\n",
        "\n",
        "More info on Installation [here](../getting_started/installation/deployments/deployments.html)."
      ]
    },
    {
      "cell_type": "markdown",
      "id": "00b2e199",
      "metadata": {
        "id": "00b2e199"
      },
      "source": [
        "## Secretes needed\n",
        "\n"
      ]
    },
    {
      "cell_type": "markdown",
      "id": "a93bc742",
      "metadata": {
        "id": "a93bc742"
      },
      "source": [
        "\n",
        "* `ARGILLA_API_URL`: It is the url of the Argilla Server.\n",
        "  * If you're using HF Spaces, it is constructed as `https://[your-owner-name]-[your_space_name].hf.space`.\n",
        "* `ARGILLA_API_KEY`: It is the API key of the Argilla Server. It is `owner` by default.\n",
        "* `HF_TOKEN`: It is the Hugging Face API token. It is only needed if you're using a [private HF Space](https://docs.argilla.io/en/latest/getting_started/installation/deployments/huggingface-spaces.html#deploy-argilla-on-spaces). You can configure it in your profile: [Setting > Access Tokens](https://huggingface.co/settings/tokens).\n",
        "* `workspace`: admin\n"
      ]
    },
    {
      "cell_type": "code",
      "execution_count": 2,
      "id": "215b5b39",
      "metadata": {
        "id": "215b5b39"
      },
      "outputs": [],
      "source": [
        "import argilla as rg\n",
        "from argilla._constants import DEFAULT_API_KEY"
      ]
    },
    {
      "cell_type": "code",
      "execution_count": 3,
      "id": "19c56015",
      "metadata": {
        "colab": {
          "base_uri": "https://localhost:8080/"
        },
        "id": "19c56015",
        "outputId": "7a4f4526-8182-4544-fb03-24e9309bcb7a"
      },
      "outputs": [
        {
          "output_type": "stream",
          "name": "stderr",
          "text": [
            "/usr/local/lib/python3.10/dist-packages/argilla/client/client.py:168: UserWarning: No workspace configuration was detected. To work with Argilla datasets, specify a valid workspace name on `rg.init` or set it up through the `rg.set_workspace` function.\n",
            "  warnings.warn(\n"
          ]
        }
      ],
      "source": [
        "from google.colab import userdata\n",
        "api_url= userdata.get('my_argilla_url')\n",
        "api_key= userdata.get('my_argilla_key')\n",
        "\n",
        "import argilla as rg\n",
        "rg.init(api_url=api_url, api_key=api_key)\n",
        "\n",
        "# # If you want to use your private HF Space\n",
        "# rg.init(extra_headers={\"Authorization\": f\"Bearer {hf_token}\"})"
      ]
    },
    {
      "cell_type": "markdown",
      "id": "4146f0d7",
      "metadata": {
        "id": "4146f0d7"
      },
      "source": [
        "### Use a Custom Template\n"
      ]
    },
    {
      "cell_type": "code",
      "execution_count": 4,
      "id": "96b161c4",
      "metadata": {
        "colab": {
          "base_uri": "https://localhost:8080/"
        },
        "id": "96b161c4",
        "outputId": "40e98640-a1a9-4ba5-d06f-c937c2b28c34"
      },
      "outputs": [
        {
          "output_type": "execute_result",
          "data": {
            "text/plain": [
              "FeedbackDataset(\n",
              "   fields=[TextField(name='background', title='Background', required=True, type='text', use_markdown=False), TextField(name='prompt', title='Prompt', required=True, type='text', use_markdown=False), TextField(name='response', title='Final Response', required=True, type='text', use_markdown=False)]\n",
              "   questions=[TextQuestion(name='response_correction', title='Response_correction', description='If you think the response is not accurate, please, correct it.', required=True, type='text', use_markdown=False)]\n",
              "   guidelines=Please, read the question carefully and try to answer it as accurately as possible.)\n",
              "   metadata_properties=[])\n",
              ")"
            ]
          },
          "metadata": {},
          "execution_count": 4
        }
      ],
      "source": [
        "#Create a custom dataset configuration\n",
        "custom_dataset = rg.FeedbackDataset(\n",
        "    fields = [\n",
        "        rg.TextField(name=\"background\"),\n",
        "        rg.TextField(name=\"prompt\"),\n",
        "        rg.TextField(name=\"response\", title=\"Final Response\"),\n",
        "    ],\n",
        "    questions=[\n",
        "        rg.TextQuestion(\n",
        "            name=\"response_correction\",\n",
        "            description=\"If you think the response is not accurate, please, correct it.\",\n",
        "            required=True,\n",
        "        ),\n",
        "    ],\n",
        "    guidelines=\"Please, read the question carefully and try to answer it as accurately as possible.\"\n",
        ")\n",
        "custom_dataset\n"
      ]
    },
    {
      "cell_type": "code",
      "execution_count": 5,
      "id": "dc956805",
      "metadata": {
        "colab": {
          "base_uri": "https://localhost:8080/"
        },
        "id": "dc956805",
        "outputId": "ba82450c-952c-4d96-a1fe-c92c3417daee"
      },
      "outputs": [
        {
          "output_type": "stream",
          "name": "stderr",
          "text": [
            "INFO:argilla.client.feedback.dataset.local.mixins:✓ Dataset succesfully pushed to Argilla\n",
            "INFO:argilla.client.feedback.dataset.local.mixins:RemoteFeedbackDataset(\n",
            "   id=9d63097e-8e18-4341-b446-64f59a8e2759\n",
            "   name=fgan-annotate-dataset\n",
            "   workspace=Workspace(id=6196e1fe-7cc5-4ef4-b608-d98a8bc8fbc8, name=admin, inserted_at=2024-01-02 14:17:38.856061, updated_at=2024-01-02 14:17:38.856061)\n",
            "   url=https://vishnuramov-itu-t-build-a-thon.hf.space/dataset/9d63097e-8e18-4341-b446-64f59a8e2759/annotation-mode\n",
            "   fields=[RemoteTextField(id=UUID('1afd1754-1dc6-48a8-951f-b7f37ce8e270'), client=None, name='background', title='Background', required=True, type='text', use_markdown=False), RemoteTextField(id=UUID('0de91bf8-000a-4393-9f40-0aa775fb89a8'), client=None, name='prompt', title='Prompt', required=True, type='text', use_markdown=False), RemoteTextField(id=UUID('f8e4f450-f39d-4761-a899-18fe65dabfd8'), client=None, name='response', title='Final Response', required=True, type='text', use_markdown=False)]\n",
            "   questions=[RemoteTextQuestion(id=UUID('75262994-2509-444b-ab61-039783bb86ae'), client=None, name='response_correction', title='Response_correction', description=None, required=True, type='text', use_markdown=False)]\n",
            "   guidelines=Please, read the question carefully and try to answer it as accurately as possible.\n",
            "   metadata_properties=[]\n",
            ")\n"
          ]
        }
      ],
      "source": [
        "try:\n",
        "    remote_dataset= custom_dataset.push_to_argilla(name=\"fgan-annotate-dataset\", workspace=\"admin\")\n",
        "except:\n",
        "    pass"
      ]
    },
    {
      "cell_type": "markdown",
      "id": "2ZyEUBBjbK7k",
      "metadata": {
        "id": "2ZyEUBBjbK7k"
      },
      "source": [
        "-------------\n",
        "\n"
      ]
    }
  ],
  "metadata": {
    "colab": {
      "provenance": [],
      "include_colab_link": true
    },
    "kernelspec": {
      "display_name": "Python 3",
      "name": "python3"
    },
    "language_info": {
      "codemirror_mode": {
        "name": "ipython",
        "version": 3
      },
      "file_extension": ".py",
      "mimetype": "text/x-python",
      "name": "python",
      "nbconvert_exporter": "python",
      "pygments_lexer": "ipython3",
      "version": "3.9.18"
    },
    "vscode": {
      "interpreter": {
        "hash": "2584bca9d226488c39a669ff1ce19d7ca5f410e2d3aa9b82f20653edd0d96bfc"
      }
    }
  },
  "nbformat": 4,
  "nbformat_minor": 5
}