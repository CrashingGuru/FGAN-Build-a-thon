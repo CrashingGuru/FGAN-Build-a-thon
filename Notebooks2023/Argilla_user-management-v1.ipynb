{
  "cells": [
    {
      "cell_type": "markdown",
      "metadata": {
        "id": "view-in-github",
        "colab_type": "text"
      },
      "source": [
        "<a href=\"https://colab.research.google.com/github/vrra/FGAN-Build-a-thon/blob/main/Notebooks2023/Argilla_user-management-v1.ipynb\" target=\"_parent\"><img src=\"https://colab.research.google.com/assets/colab-badge.svg\" alt=\"Open In Colab\"/></a>"
      ]
    },
    {
      "cell_type": "markdown",
      "source": [
        "Created: 2 Jan 2024 (Happy New Year!!)\n",
        "\n",
        "Aaron, Othniel, Kennedy, Vishnu.\n",
        "\n",
        "This notebook manages users in argilla."
      ],
      "metadata": {
        "id": "6kQl8j1Rpc5B"
      },
      "id": "6kQl8j1Rpc5B"
    },
    {
      "cell_type": "markdown",
      "id": "fbc7acc7",
      "metadata": {
        "id": "fbc7acc7"
      },
      "source": [
        "## Install Libraries\n",
        "\n",
        "Install the latest version of Argilla in Colab, along with other libraries and models used in this notebook."
      ]
    },
    {
      "cell_type": "code",
      "execution_count": 1,
      "id": "f808bb22",
      "metadata": {
        "colab": {
          "base_uri": "https://localhost:8080/"
        },
        "id": "f808bb22",
        "outputId": "de84f596-47eb-4f75-848f-1e0b22a77650"
      },
      "outputs": [
        {
          "output_type": "stream",
          "name": "stdout",
          "text": [
            "Collecting argilla\n",
            "  Downloading argilla-1.21.0-py3-none-any.whl (3.1 MB)\n",
            "\u001b[2K     \u001b[90m━━━━━━━━━━━━━━━━━━━━━━━━━━━━━━━━━━━━━━━━\u001b[0m \u001b[32m3.1/3.1 MB\u001b[0m \u001b[31m12.6 MB/s\u001b[0m eta \u001b[36m0:00:00\u001b[0m\n",
            "\u001b[?25hCollecting httpx<=0.25,>=0.15 (from argilla)\n",
            "  Downloading httpx-0.25.0-py3-none-any.whl (75 kB)\n",
            "\u001b[2K     \u001b[90m━━━━━━━━━━━━━━━━━━━━━━━━━━━━━━━━━━━━━━━━\u001b[0m \u001b[32m75.7/75.7 kB\u001b[0m \u001b[31m10.6 MB/s\u001b[0m eta \u001b[36m0:00:00\u001b[0m\n",
            "\u001b[?25hCollecting deprecated~=1.2.0 (from argilla)\n",
            "  Downloading Deprecated-1.2.14-py2.py3-none-any.whl (9.6 kB)\n",
            "Requirement already satisfied: packaging>=20.0 in /usr/local/lib/python3.10/dist-packages (from argilla) (23.2)\n",
            "Requirement already satisfied: pandas<2.0.0,>=1.0.0 in /usr/local/lib/python3.10/dist-packages (from argilla) (1.5.3)\n",
            "Requirement already satisfied: pydantic<2.0,>=1.10.7 in /usr/local/lib/python3.10/dist-packages (from argilla) (1.10.13)\n",
            "Requirement already satisfied: wrapt<1.15,>=1.13 in /usr/local/lib/python3.10/dist-packages (from argilla) (1.14.1)\n",
            "Requirement already satisfied: numpy<1.24.0 in /usr/local/lib/python3.10/dist-packages (from argilla) (1.23.5)\n",
            "Requirement already satisfied: tqdm>=4.27.0 in /usr/local/lib/python3.10/dist-packages (from argilla) (4.66.1)\n",
            "Collecting backoff (from argilla)\n",
            "  Downloading backoff-2.2.1-py3-none-any.whl (15 kB)\n",
            "Collecting monotonic (from argilla)\n",
            "  Downloading monotonic-1.6-py2.py3-none-any.whl (8.2 kB)\n",
            "Requirement already satisfied: rich!=13.1.0 in /usr/local/lib/python3.10/dist-packages (from argilla) (13.7.0)\n",
            "Requirement already satisfied: typer<0.10.0,>=0.6.0 in /usr/local/lib/python3.10/dist-packages (from argilla) (0.9.0)\n",
            "Requirement already satisfied: certifi in /usr/local/lib/python3.10/dist-packages (from httpx<=0.25,>=0.15->argilla) (2023.11.17)\n",
            "Collecting httpcore<0.19.0,>=0.18.0 (from httpx<=0.25,>=0.15->argilla)\n",
            "  Downloading httpcore-0.18.0-py3-none-any.whl (76 kB)\n",
            "\u001b[2K     \u001b[90m━━━━━━━━━━━━━━━━━━━━━━━━━━━━━━━━━━━━━━━━\u001b[0m \u001b[32m76.0/76.0 kB\u001b[0m \u001b[31m10.6 MB/s\u001b[0m eta \u001b[36m0:00:00\u001b[0m\n",
            "\u001b[?25hRequirement already satisfied: idna in /usr/local/lib/python3.10/dist-packages (from httpx<=0.25,>=0.15->argilla) (3.6)\n",
            "Requirement already satisfied: sniffio in /usr/local/lib/python3.10/dist-packages (from httpx<=0.25,>=0.15->argilla) (1.3.0)\n",
            "Requirement already satisfied: python-dateutil>=2.8.1 in /usr/local/lib/python3.10/dist-packages (from pandas<2.0.0,>=1.0.0->argilla) (2.8.2)\n",
            "Requirement already satisfied: pytz>=2020.1 in /usr/local/lib/python3.10/dist-packages (from pandas<2.0.0,>=1.0.0->argilla) (2023.3.post1)\n",
            "Requirement already satisfied: typing-extensions>=4.2.0 in /usr/local/lib/python3.10/dist-packages (from pydantic<2.0,>=1.10.7->argilla) (4.5.0)\n",
            "Requirement already satisfied: markdown-it-py>=2.2.0 in /usr/local/lib/python3.10/dist-packages (from rich!=13.1.0->argilla) (3.0.0)\n",
            "Requirement already satisfied: pygments<3.0.0,>=2.13.0 in /usr/local/lib/python3.10/dist-packages (from rich!=13.1.0->argilla) (2.16.1)\n",
            "Requirement already satisfied: click<9.0.0,>=7.1.1 in /usr/local/lib/python3.10/dist-packages (from typer<0.10.0,>=0.6.0->argilla) (8.1.7)\n",
            "Requirement already satisfied: anyio<5.0,>=3.0 in /usr/local/lib/python3.10/dist-packages (from httpcore<0.19.0,>=0.18.0->httpx<=0.25,>=0.15->argilla) (3.7.1)\n",
            "Collecting h11<0.15,>=0.13 (from httpcore<0.19.0,>=0.18.0->httpx<=0.25,>=0.15->argilla)\n",
            "  Downloading h11-0.14.0-py3-none-any.whl (58 kB)\n",
            "\u001b[2K     \u001b[90m━━━━━━━━━━━━━━━━━━━━━━━━━━━━━━━━━━━━━━━━\u001b[0m \u001b[32m58.3/58.3 kB\u001b[0m \u001b[31m7.7 MB/s\u001b[0m eta \u001b[36m0:00:00\u001b[0m\n",
            "\u001b[?25hRequirement already satisfied: mdurl~=0.1 in /usr/local/lib/python3.10/dist-packages (from markdown-it-py>=2.2.0->rich!=13.1.0->argilla) (0.1.2)\n",
            "Requirement already satisfied: six>=1.5 in /usr/local/lib/python3.10/dist-packages (from python-dateutil>=2.8.1->pandas<2.0.0,>=1.0.0->argilla) (1.16.0)\n",
            "Requirement already satisfied: exceptiongroup in /usr/local/lib/python3.10/dist-packages (from anyio<5.0,>=3.0->httpcore<0.19.0,>=0.18.0->httpx<=0.25,>=0.15->argilla) (1.2.0)\n",
            "Installing collected packages: monotonic, h11, deprecated, backoff, httpcore, httpx, argilla\n",
            "Successfully installed argilla-1.21.0 backoff-2.2.1 deprecated-1.2.14 h11-0.14.0 httpcore-0.18.0 httpx-0.25.0 monotonic-1.6\n"
          ]
        }
      ],
      "source": [
        "!pip install argilla"
      ]
    },
    {
      "cell_type": "markdown",
      "id": "EwDfn8E7W7jD",
      "metadata": {
        "id": "EwDfn8E7W7jD"
      },
      "source": [
        "Prerequisites\n",
        "\n",
        "Deploy Argilla Server on [HF Spaces](https://huggingface.co/new-space?template=argilla/argilla-template-space).\n",
        "\n",
        "\n",
        "More info on Installation [here](../getting_started/installation/deployments/deployments.html)."
      ]
    },
    {
      "cell_type": "markdown",
      "id": "00b2e199",
      "metadata": {
        "id": "00b2e199"
      },
      "source": [
        "## Secretes needed\n",
        "\n"
      ]
    },
    {
      "cell_type": "markdown",
      "id": "a93bc742",
      "metadata": {
        "id": "a93bc742"
      },
      "source": [
        "\n",
        "* `ARGILLA_API_URL`: It is the url of the Argilla Server.\n",
        "  * If you're using HF Spaces, it is constructed as `https://[your-owner-name]-[your_space_name].hf.space`.\n",
        "* `ARGILLA_API_KEY`: It is the API key of the Argilla Server. It is `owner` by default.\n",
        "* `HF_TOKEN`: It is the Hugging Face API token. It is only needed if you're using a [private HF Space](https://docs.argilla.io/en/latest/getting_started/installation/deployments/huggingface-spaces.html#deploy-argilla-on-spaces). You can configure it in your profile: [Setting > Access Tokens](https://huggingface.co/settings/tokens).\n",
        "* `workspace`: admin\n"
      ]
    },
    {
      "cell_type": "code",
      "execution_count": 2,
      "id": "215b5b39",
      "metadata": {
        "id": "215b5b39"
      },
      "outputs": [],
      "source": [
        "import argilla as rg\n",
        "from argilla._constants import DEFAULT_API_KEY"
      ]
    },
    {
      "cell_type": "code",
      "execution_count": 3,
      "id": "19c56015",
      "metadata": {
        "colab": {
          "base_uri": "https://localhost:8080/"
        },
        "id": "19c56015",
        "outputId": "ac19f35b-e67c-409a-d7b0-cad44bd85af8"
      },
      "outputs": [
        {
          "output_type": "stream",
          "name": "stderr",
          "text": [
            "/usr/local/lib/python3.10/dist-packages/argilla/client/client.py:168: UserWarning: No workspace configuration was detected. To work with Argilla datasets, specify a valid workspace name on `rg.init` or set it up through the `rg.set_workspace` function.\n",
            "  warnings.warn(\n"
          ]
        }
      ],
      "source": [
        "from google.colab import userdata\n",
        "api_url= userdata.get('my_argilla_url')\n",
        "api_key= userdata.get('my_argilla_key')\n",
        "\n",
        "import argilla as rg\n",
        "rg.init(api_url=api_url, api_key=api_key)\n",
        "\n",
        "# # If you want to use your private HF Space\n",
        "# rg.init(extra_headers={\"Authorization\": f\"Bearer {hf_token}\"})"
      ]
    },
    {
      "cell_type": "code",
      "source": [
        "#list all users\n",
        "for u in rg.User.list():\n",
        "  print(u)"
      ],
      "metadata": {
        "id": "iAOSrISohkDX",
        "outputId": "0ca398ec-5361-4eb8-fa1d-288d941cd67d",
        "colab": {
          "base_uri": "https://localhost:8080/"
        }
      },
      "id": "iAOSrISohkDX",
      "execution_count": 4,
      "outputs": [
        {
          "output_type": "stream",
          "name": "stdout",
          "text": [
            "User(id=d42d35a8-f271-475f-93ab-3f774a77fcbd, username=fgan-admin, role=owner, api_key=fgan-admin.paul.apikey, first_name=Owner, last_name=None, inserted_at=2023-12-30 16:09:58.982085, updated_at=2023-12-30 16:09:58.982085)\n",
            "User(id=643f5e91-fbb9-4657-9214-7d0f6e60798a, username=fgan-build-a-thon-annotator, role=annotator, api_key=geIbxgkJSB0jWhUh50GTrLgFvycqx53bzy0-xFmiAUSalJ6an6oyRRrELJp9svqmTYkgHEf1x-pda47aTZaGDy7KLYeksG_t8PWk5G--Od4, first_name=fgan, last_name=annotator, inserted_at=2024-01-02 09:45:41.091585, updated_at=2024-01-02 09:45:41.091585)\n"
          ]
        }
      ]
    },
    {
      "cell_type": "code",
      "source": [
        "#CAUTION: deletes and creates annotator"
      ],
      "metadata": {
        "id": "1Ds8ReD5ks7w"
      },
      "id": "1Ds8ReD5ks7w",
      "execution_count": null,
      "outputs": []
    },
    {
      "cell_type": "code",
      "source": [
        "user=rg.User.from_name(\"fgan-build-a-thon-annotator\")\n",
        "user\n",
        "user.delete()"
      ],
      "metadata": {
        "id": "IqjNxmXkjeHD"
      },
      "id": "IqjNxmXkjeHD",
      "execution_count": 5,
      "outputs": []
    },
    {
      "cell_type": "code",
      "source": [
        "user = rg.User.create(\n",
        "    username=\"fgan-build-a-thon-annotator\",\n",
        "    first_name=\"fgan\",\n",
        "    last_name=\"annotator\",\n",
        "    password=\"annotator-pass\",\n",
        "    role=\"annotator\",\n",
        "    workspaces=[\"admin\"]\n",
        ")"
      ],
      "metadata": {
        "id": "u3isYMGHj8BA"
      },
      "id": "u3isYMGHj8BA",
      "execution_count": 6,
      "outputs": []
    },
    {
      "cell_type": "markdown",
      "id": "2ZyEUBBjbK7k",
      "metadata": {
        "id": "2ZyEUBBjbK7k"
      },
      "source": [
        "-------------\n",
        "\n"
      ]
    }
  ],
  "metadata": {
    "colab": {
      "provenance": [],
      "include_colab_link": true
    },
    "kernelspec": {
      "display_name": "Python 3",
      "name": "python3"
    },
    "language_info": {
      "codemirror_mode": {
        "name": "ipython",
        "version": 3
      },
      "file_extension": ".py",
      "mimetype": "text/x-python",
      "name": "python",
      "nbconvert_exporter": "python",
      "pygments_lexer": "ipython3",
      "version": "3.9.18"
    },
    "vscode": {
      "interpreter": {
        "hash": "2584bca9d226488c39a669ff1ce19d7ca5f410e2d3aa9b82f20653edd0d96bfc"
      }
    }
  },
  "nbformat": 4,
  "nbformat_minor": 5
}