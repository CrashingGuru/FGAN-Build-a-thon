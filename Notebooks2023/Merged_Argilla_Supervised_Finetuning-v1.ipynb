{
  "cells": [
    {
      "cell_type": "markdown",
      "metadata": {
        "id": "view-in-github",
        "colab_type": "text"
      },
      "source": [
        "<a href=\"https://colab.research.google.com/github/CrashingGuru/FGAN-Build-a-thon/blob/main/Notebooks2023/Merged_Argilla_Supervised_Finetuning-v1.ipynb\" target=\"_parent\"><img src=\"https://colab.research.google.com/assets/colab-badge.svg\" alt=\"Open In Colab\"/></a>"
      ]
    },
    {
      "cell_type": "markdown",
      "source": [
        "## Header"
      ],
      "metadata": {
        "id": "WCFLlBKa3cT0"
      },
      "id": "WCFLlBKa3cT0"
    },
    {
      "cell_type": "markdown",
      "source": [
        "\n",
        "**Created**: 11 Feb 2024  \n",
        "\n",
        "Vishnu.\n",
        "\n",
        "Modification History: Created to do cell-by-cell merge of https://colab.research.google.com/github/CrashingGuru/FGAN-Build-a-thon/blob/main/Notebooks2023/Fine_tune_Mistral_7b_model_with_DPO.ipynb\n",
        "with\n",
        "https://colab.research.google.com/github/CrashingGuru/FGAN-Build-a-thon/blob/main/Notebooks2023/Argilla_Supervised_Finetuning-v1.ipynb\n",
        "The standalone notebook where we tried argilla trainer is “Crashing and Burning”\n",
        "So, now, the only way is to replace Argillatrainer with DPO trainer from the new notebook\n",
        "\n",
        "Description:\n",
        "\n",
        "This notebook uses the dataset from remote argilla and applies it for DPO Finetuning based on annotated data.\n",
        "\n",
        "Prerequisites:\n",
        "\n",
        "the following notebooks are already run:\n",
        "\n",
        "0. Create the raw dataset in HF hub.\n",
        "\n",
        "1. Manually create a HF spaces deployment of Argilla\n",
        "\n",
        "2. Configure the argilla dataset use https://github.com/CrashingGuru/FGAN-Build-a-thon/blob/main/Notebooks2023/1.Argilla_configure_dataset-v1.ipynb\n",
        "\n",
        "2. add records in the argilla dataset from the raw dataset https://github.com/CrashingGuru/FGAN-Build-a-thon/blob/main/Notebooks2023/2.Read-semi-annotated-push-to-argilla.ipynb\n",
        "\n",
        "3. annotated the dataset in UI\n",
        "\n",
        "and finally here we do -- Pull from argilla and apply the annotated data for DPO Finetuning."
      ],
      "metadata": {
        "id": "6kQl8j1Rpc5B"
      },
      "id": "6kQl8j1Rpc5B"
    },
    {
      "cell_type": "markdown",
      "id": "fbc7acc7",
      "metadata": {
        "id": "fbc7acc7"
      },
      "source": [
        "## Install Libraries\n",
        "\n",
        "Install the latest version of Argilla in Colab, along with other libraries and models used in this notebook."
      ]
    },
    {
      "cell_type": "code",
      "source": [
        "!pip install -q datasets trl peft"
      ],
      "metadata": {
        "id": "xtAk7JQyuW5l"
      },
      "id": "xtAk7JQyuW5l",
      "execution_count": 4,
      "outputs": []
    },
    {
      "cell_type": "code",
      "execution_count": null,
      "id": "f808bb22",
      "metadata": {
        "id": "f808bb22"
      },
      "outputs": [],
      "source": [
        "!pip install argilla datasets"
      ]
    },
    {
      "cell_type": "code",
      "source": [
        "!pip install -q bitsandbytes sentencepiece wandb"
      ],
      "metadata": {
        "id": "BkdlQI-hua6n"
      },
      "id": "BkdlQI-hua6n",
      "execution_count": null,
      "outputs": []
    },
    {
      "cell_type": "markdown",
      "id": "EwDfn8E7W7jD",
      "metadata": {
        "id": "EwDfn8E7W7jD"
      },
      "source": [
        "Prerequisites\n",
        "\n",
        "Deploy Argilla Server on [HF Spaces](https://huggingface.co/new-space?template=argilla/argilla-template-space).\n",
        "\n",
        "\n",
        "More info on Installation [here](../getting_started/installation/deployments/deployments.html)."
      ]
    },
    {
      "cell_type": "markdown",
      "id": "00b2e199",
      "metadata": {
        "id": "00b2e199"
      },
      "source": [
        "## Secretes needed\n",
        "\n"
      ]
    },
    {
      "cell_type": "markdown",
      "id": "a93bc742",
      "metadata": {
        "id": "a93bc742"
      },
      "source": [
        "\n",
        "* `ARGILLA_API_URL`: It is the url of the Argilla Server.\n",
        "  * If you're using HF Spaces, it is constructed as `https://[your-owner-name]-[your_space_name].hf.space`.\n",
        "* `ARGILLA_API_KEY`: It is the API key of the Argilla Server. It is `owner` by default.\n",
        "* `HF_TOKEN`: It is the Hugging Face API token. It is only needed if you're using a [private HF Space](https://docs.argilla.io/en/latest/getting_started/installation/deployments/huggingface-spaces.html#deploy-argilla-on-spaces). You can configure it in your profile: [Setting > Access Tokens](https://huggingface.co/settings/tokens).\n",
        "* `workspace`: admin\n",
        "* wandb : the api key (created free of cost from https://wandb.ai/home\n"
      ]
    },
    {
      "cell_type": "code",
      "source": [
        "import os\n",
        "import gc\n",
        "import torch\n",
        "\n",
        "import transformers\n",
        "from transformers import AutoModelForCausalLM, AutoTokenizer, TrainingArguments, BitsAndBytesConfig\n",
        "from datasets import load_dataset\n",
        "from peft import LoraConfig, PeftModel, get_peft_model, prepare_model_for_kbit_training\n",
        "from trl import DPOTrainer\n",
        "import bitsandbytes as bnb\n",
        "from google.colab import userdata\n",
        "import wandb"
      ],
      "metadata": {
        "colab": {
          "base_uri": "https://localhost:8080/"
        },
        "id": "DEfR7_cBu_Yf",
        "outputId": "dfdec664-4406-4511-a954-78139959a0ab"
      },
      "id": "DEfR7_cBu_Yf",
      "execution_count": 5,
      "outputs": [
        {
          "output_type": "stream",
          "name": "stderr",
          "text": [
            "\u001b[34m\u001b[1mwandb\u001b[0m: W&B API key is configured. Use \u001b[1m`wandb login --relogin`\u001b[0m to force relogin\n",
            "\u001b[34m\u001b[1mwandb\u001b[0m: \u001b[33mWARNING\u001b[0m If you're specifying your api key in code, ensure this code is not shared publicly.\n",
            "\u001b[34m\u001b[1mwandb\u001b[0m: \u001b[33mWARNING\u001b[0m Consider setting the WANDB_API_KEY environment variable, or running `wandb login` from the command line.\n",
            "\u001b[34m\u001b[1mwandb\u001b[0m: Appending key for api.wandb.ai to your netrc file: /root/.netrc\n"
          ]
        }
      ]
    },
    {
      "cell_type": "code",
      "source": [
        "# Defined in the secrets tab in Google Colab\n",
        "hf_token = userdata.get('HF_TOKEN')\n",
        "wb_token = userdata.get('wandb')\n",
        "wandb.login(key=wb_token)"
      ],
      "metadata": {
        "id": "RnQPZOZ12Sl1"
      },
      "id": "RnQPZOZ12Sl1",
      "execution_count": null,
      "outputs": []
    },
    {
      "cell_type": "code",
      "source": [
        "model_name = \"mistralai/Mistral-7B-v0.1\"\n",
        "new_model = \"ITU-BuildaThon-Mistral-7B\""
      ],
      "metadata": {
        "id": "iH5wbvQ-2Lle"
      },
      "id": "iH5wbvQ-2Lle",
      "execution_count": null,
      "outputs": []
    },
    {
      "cell_type": "code",
      "execution_count": 6,
      "id": "215b5b39",
      "metadata": {
        "id": "215b5b39"
      },
      "outputs": [],
      "source": [
        "import argilla as rg\n",
        "from argilla._constants import DEFAULT_API_KEY"
      ]
    },
    {
      "cell_type": "markdown",
      "source": [
        "## Access Argilla secret and URL"
      ],
      "metadata": {
        "id": "GhEhNvZF2B7a"
      },
      "id": "GhEhNvZF2B7a"
    },
    {
      "cell_type": "code",
      "execution_count": null,
      "id": "19c56015",
      "metadata": {
        "id": "19c56015"
      },
      "outputs": [],
      "source": [
        "from google.colab import userdata\n",
        "api_url= userdata.get('my_argilla_url')\n",
        "api_key= userdata.get('my_argilla_key')\n",
        "\n",
        "import argilla as rg\n",
        "rg.init(api_url=api_url, api_key=api_key)\n",
        "\n",
        "# # If you want to use your private HF Space\n",
        "# rg.init(extra_headers={\"Authorization\": f\"Bearer {hf_token}\"})"
      ]
    },
    {
      "cell_type": "markdown",
      "source": [
        "## Access HF Login and Token"
      ],
      "metadata": {
        "id": "zAmK3c3v15zm"
      },
      "id": "zAmK3c3v15zm"
    },
    {
      "cell_type": "code",
      "source": [
        "hf_token = userdata.get('my_hf_write_token')\n",
        "from huggingface_hub import login\n",
        "login(hf_token)"
      ],
      "metadata": {
        "colab": {
          "base_uri": "https://localhost:8080/"
        },
        "id": "URcAAJRC-NOw",
        "outputId": "7054b065-d70e-40d2-ab89-2cb66599d146"
      },
      "id": "URcAAJRC-NOw",
      "execution_count": 9,
      "outputs": [
        {
          "output_type": "stream",
          "name": "stdout",
          "text": [
            "Token will not been saved to git credential helper. Pass `add_to_git_credential=True` if you want to set the git credential as well.\n",
            "Token is valid (permission: write).\n",
            "Your token has been saved to /root/.cache/huggingface/token\n",
            "Login successful\n"
          ]
        }
      ]
    },
    {
      "cell_type": "markdown",
      "source": [
        "## Format dataset"
      ],
      "metadata": {
        "id": "tekQX7jE12U7"
      },
      "id": "tekQX7jE12U7"
    },
    {
      "cell_type": "code",
      "source": [
        "#refer: https://docs.argilla.io/en/latest/tutorials_and_integrations/tutorials/feedback/training-llm-mistral-sft.html\n",
        "from typing import Dict, Iterator, Any\n",
        "from argilla.feedback import TrainingTask\n",
        "\n",
        "dataset = rg.FeedbackDataset.from_argilla(name=\"fgan-annotate-dataset\", workspace=\"admin\")\n",
        "\n",
        "def formatting_func(sample: Dict[str, Any]) -> Iterator[str]:\n",
        "    if ANNOTATED_ONLY:\n",
        "        # Discard if there are no annotations...\n",
        "        if not sample[\"quality\"]:\n",
        "            return\n",
        "\n",
        "        # or if it is annotated as \"Bad\" or discarded.\n",
        "        first_annotation = sample[\"quality\"][0]\n",
        "        if first_annotation[\"value\"] == \"Bad\" or first_annotation[\"status\"] == \"discarded\":\n",
        "            return\n",
        "\n",
        "    # Filter out responses that are likely low quality\n",
        "    if len(sample[\"response\"]) <= 2:\n",
        "        return\n",
        "\n",
        "    # Add </s><s> between all prompt-response pairs\n",
        "    prompt = sample[\"prompt\"]\n",
        "    prompt = prompt.replace(\"<human>:\", f\"{tokenizer.eos_token}{tokenizer.bos_token}<human>:\")\n",
        "    prompt = prompt[prompt.find(\"<human>:\"):]\n",
        "    # Add response and optionally the background to the full text.\n",
        "    output = prompt + \" \" + sample[\"response\"]\n",
        "    if sample[\"background\"]:\n",
        "        output = sample[\"background\"] + \" \" + output\n",
        "    output = output + tokenizer.eos_token\n",
        "    # We expect one less <s> than </s>, because the Mistral tokenizer will automatically add the BOS\n",
        "    # at the start of the text when this text is tokenized. When that's done, the format will be exactly\n",
        "    # what we want\n",
        "    assert output.count(\"<s>\") + 1 == output.count(\"</s>\")\n",
        "    return output\n",
        "\n",
        "# Save columns\n",
        "original_columns = dataset.column_names\n",
        "\n",
        "# Tokenizer\n",
        "tokenizer = AutoTokenizer.from_pretrained(model_name)\n",
        "tokenizer.pad_token = tokenizer.eos_token\n",
        "tokenizer.padding_side = \"left\"\n",
        "\n",
        "ANNOTATED_ONLY = False\n",
        "\n",
        "task = TrainingTask.for_supervised_fine_tuning(formatting_func)\n",
        "formatted_dataset = dataset.prepare_for_training(framework=\"trl\", task=task)\n",
        "formatted_dataset\n",
        "\n",
        "# Print sample\n",
        "dataset[1]\n"
      ],
      "metadata": {
        "id": "IVGH2T0u1x3N"
      },
      "id": "IVGH2T0u1x3N",
      "execution_count": null,
      "outputs": []
    },
    {
      "cell_type": "markdown",
      "source": [
        "## Train model with DPO"
      ],
      "metadata": {
        "id": "SXjI5kqm0uEC"
      },
      "id": "SXjI5kqm0uEC"
    },
    {
      "cell_type": "code",
      "source": [
        "# LoRA configuration\n",
        "peft_config = LoraConfig(\n",
        "    r=16,\n",
        "    lora_alpha=16,\n",
        "    lora_dropout=0.05,\n",
        "    bias=\"none\",\n",
        "    task_type=\"CAUSAL_LM\",\n",
        "    target_modules=['k_proj', 'gate_proj', 'v_proj', 'up_proj', 'q_proj', 'o_proj', 'down_proj']\n",
        ")\n",
        "\n",
        "# Model to fine-tune\n",
        "model = AutoModelForCausalLM.from_pretrained(\n",
        "    model_name,\n",
        "    torch_dtype=torch.float16,\n",
        "    load_in_4bit=True\n",
        ")\n",
        "model.config.use_cache = False\n",
        "\n",
        "# Reference model\n",
        "ref_model = AutoModelForCausalLM.from_pretrained(\n",
        "    model_name,\n",
        "    torch_dtype=torch.float16,\n",
        "    load_in_4bit=True\n",
        ")\n",
        "\n",
        "# Training arguments\n",
        "training_args = TrainingArguments(\n",
        "    per_device_train_batch_size=4,\n",
        "    gradient_accumulation_steps=4,\n",
        "    gradient_checkpointing=True,\n",
        "    learning_rate=5e-5,\n",
        "    lr_scheduler_type=\"cosine\",\n",
        "    max_steps=200,\n",
        "    save_strategy=\"no\",\n",
        "    logging_steps=1,\n",
        "    output_dir=new_model,\n",
        "    optim=\"paged_adamw_32bit\",\n",
        "    warmup_steps=100,\n",
        "    bf16=True,\n",
        "    report_to=\"wandb\",\n",
        ")\n",
        "\n",
        "# Create DPO trainer\n",
        "dpo_trainer = DPOTrainer(\n",
        "    model,\n",
        "    ref_model,\n",
        "    args=training_args,\n",
        "    train_dataset=dataset,\n",
        "    tokenizer=tokenizer,\n",
        "    peft_config=peft_config,\n",
        "    beta=0.1,\n",
        "    max_prompt_length=1024,\n",
        "    max_length=1536,\n",
        ")\n",
        "\n",
        "# Fine-tune model with DPO\n",
        "dpo_trainer.train()"
      ],
      "metadata": {
        "id": "mW1zBsY20w5w"
      },
      "id": "mW1zBsY20w5w",
      "execution_count": null,
      "outputs": []
    },
    {
      "cell_type": "markdown",
      "source": [
        "## Upload model"
      ],
      "metadata": {
        "id": "BXbvsKvk2tdh"
      },
      "id": "BXbvsKvk2tdh"
    },
    {
      "cell_type": "code",
      "source": [
        "# Save artifacts\n",
        "dpo_trainer.model.save_pretrained(\"final_checkpoint\")\n",
        "tokenizer.save_pretrained(\"final_checkpoint\")\n",
        "\n",
        "# Flush memory\n",
        "del dpo_trainer, model, ref_model\n",
        "gc.collect()\n",
        "torch.cuda.empty_cache()\n",
        "\n",
        "# Reload model in FP16 (instead of NF4)\n",
        "base_model = AutoModelForCausalLM.from_pretrained(\n",
        "    model_name,\n",
        "    return_dict=True,\n",
        "    torch_dtype=torch.float16,\n",
        ")\n",
        "tokenizer = AutoTokenizer.from_pretrained(model_name)\n",
        "\n",
        "# Merge base model with the adapter\n",
        "model = PeftModel.from_pretrained(base_model, \"final_checkpoint\")\n",
        "model = model.merge_and_unload()\n",
        "\n",
        "# Save model and tokenizer\n",
        "model.save_pretrained(new_model)\n",
        "tokenizer.save_pretrained(new_model)\n",
        "\n",
        "# Push them to the HF Hub\n",
        "model.push_to_hub(new_model, use_temp_dir=False, token=hf_token)\n",
        "tokenizer.push_to_hub(new_model, use_temp_dir=False, token=hf_token)"
      ],
      "metadata": {
        "id": "HfatJG7t1C7J"
      },
      "id": "HfatJG7t1C7J",
      "execution_count": null,
      "outputs": []
    },
    {
      "cell_type": "markdown",
      "source": [
        "## Inference"
      ],
      "metadata": {
        "id": "NDM3YKQ51Jvs"
      },
      "id": "NDM3YKQ51Jvs"
    },
    {
      "cell_type": "code",
      "source": [
        "# Format prompt\n",
        "message = [\n",
        "    {\"role\": \"system\", \"content\": \"You are a helpful assistant chatbot.\"},\n",
        "    {\"role\": \"user\", \"content\": \"What is a Large Language Model?\"}\n",
        "]\n",
        "tokenizer = AutoTokenizer.from_pretrained(new_model)\n",
        "prompt = tokenizer.apply_chat_template(message, add_generation_prompt=True, tokenize=False)\n",
        "\n",
        "# Create pipeline\n",
        "pipeline = transformers.pipeline(\n",
        "    \"text-generation\",\n",
        "    model=new_model,\n",
        "    tokenizer=tokenizer\n",
        ")\n",
        "\n",
        "# Generate text\n",
        "sequences = pipeline(\n",
        "    prompt,\n",
        "    do_sample=True,\n",
        "    temperature=0.7,\n",
        "    top_p=0.9,\n",
        "    num_return_sequences=1,\n",
        "    max_length=200,\n",
        ")\n",
        "print(sequences[0]['generated_text'])"
      ],
      "metadata": {
        "id": "AJTWPPO21Y4d"
      },
      "id": "AJTWPPO21Y4d",
      "execution_count": null,
      "outputs": []
    },
    {
      "cell_type": "markdown",
      "source": [
        "## copied from old notebook"
      ],
      "metadata": {
        "id": "4bA-wSsZ4iqD"
      },
      "id": "4bA-wSsZ4iqD"
    },
    {
      "cell_type": "code",
      "source": [
        "\n",
        "\n"
      ],
      "metadata": {
        "id": "bdBJU5Rv7qK_"
      },
      "id": "bdBJU5Rv7qK_",
      "execution_count": null,
      "outputs": []
    },
    {
      "cell_type": "code",
      "source": [],
      "metadata": {
        "id": "CLejEs6t_fio"
      },
      "id": "CLejEs6t_fio",
      "execution_count": null,
      "outputs": []
    },
    {
      "cell_type": "code",
      "source": [
        "print(formatted_dataset[80][\"text\"])"
      ],
      "metadata": {
        "id": "ACIJTaIa_00y"
      },
      "id": "ACIJTaIa_00y",
      "execution_count": null,
      "outputs": []
    },
    {
      "cell_type": "code",
      "source": [
        "from transformers import DataCollatorForLanguageModeling\n",
        "\n",
        "data_collator = DataCollatorForLanguageModeling(tokenizer, mlm=False)\n",
        "data_collator([tokenizer(formatted_dataset[0][\"text\"])])"
      ],
      "metadata": {
        "id": "aBzCTKZmAJMv"
      },
      "id": "aBzCTKZmAJMv",
      "execution_count": null,
      "outputs": []
    },
    {
      "cell_type": "code",
      "source": [
        "from transformers import DataCollatorForSeq2Seq, BatchEncoding\n",
        "\n",
        "class DataCollatorForSeq2SeqCopyLabels(DataCollatorForSeq2Seq):\n",
        "    def __call__(self, features, return_tensors=None) -> BatchEncoding:\n",
        "        for feature in features:\n",
        "            if \"labels\" not in feature:\n",
        "                feature[\"labels\"] = feature[\"input_ids\"].copy()\n",
        "        return super().__call__(features, return_tensors=return_tensors)"
      ],
      "metadata": {
        "id": "1XXnTX0BAQ_x"
      },
      "id": "1XXnTX0BAQ_x",
      "execution_count": null,
      "outputs": []
    },
    {
      "cell_type": "code",
      "source": [
        "data_collator = DataCollatorForSeq2SeqCopyLabels(tokenizer)\n",
        "data_collator([tokenizer(formatted_dataset[0][\"text\"])])"
      ],
      "metadata": {
        "id": "NflKkrYNAWky"
      },
      "id": "NflKkrYNAWky",
      "execution_count": null,
      "outputs": []
    },
    {
      "cell_type": "code",
      "source": [
        "from typing import Optional\n",
        "import torch\n",
        "from transformers import TrainerCallback, TrainerControl, TrainerState, GenerationConfig, TrainingArguments, PreTrainedModel, PreTrainedTokenizer\n",
        "\n",
        "\n",
        "class GenerationCallback(TrainerCallback):\n",
        "    def __init__(self, prompt: str) -> None:\n",
        "        super().__init__()\n",
        "        self.prompt = prompt\n",
        "\n",
        "    def on_evaluate(self, args: TrainingArguments, state: TrainerState, control: TrainerControl, model: Optional[PreTrainedModel] = None, tokenizer: Optional[PreTrainedTokenizer] = None, **kwargs):\n",
        "        # Tokenize the prompt and send it to the right device\n",
        "        inputs = tokenizer(self.prompt, return_tensors=\"pt\").to(model.device)\n",
        "\n",
        "        with torch.no_grad():\n",
        "            outputs = model.generate(\n",
        "                **inputs,\n",
        "                generation_config=GenerationConfig(\n",
        "                    max_new_tokens=50,\n",
        "                    pad_token_id=tokenizer.pad_token_id,\n",
        "                    eos_token_id=tokenizer.eos_token_id,\n",
        "                ),\n",
        "            )\n",
        "            print(tokenizer.batch_decode(outputs, skip_special_tokens=False)[0])\n",
        "\n",
        "\n",
        "generation_callback = GenerationCallback(\"<human>: what are autonomous networks? <bot>:\")"
      ],
      "metadata": {
        "id": "jnTQcL-cAkX4"
      },
      "id": "jnTQcL-cAkX4",
      "execution_count": null,
      "outputs": []
    },
    {
      "cell_type": "code",
      "source": [
        "!pip install trl>=0.5.0"
      ],
      "metadata": {
        "id": "4VAbyZdGBBwQ"
      },
      "id": "4VAbyZdGBBwQ",
      "execution_count": null,
      "outputs": []
    },
    {
      "cell_type": "code",
      "source": [
        "from argilla.feedback import ArgillaTrainer\n",
        "\n",
        "trainer = ArgillaTrainer(\n",
        "    dataset=dataset,\n",
        "    model=model,\n",
        "    tokenizer=tokenizer,\n",
        "    task=task,\n",
        "    framework=\"trl\",\n",
        "    train_size=0.99,\n",
        ")"
      ],
      "metadata": {
        "id": "igdttB57A4pu"
      },
      "id": "igdttB57A4pu",
      "execution_count": null,
      "outputs": []
    },
    {
      "cell_type": "code",
      "source": [
        "!pip install peft"
      ],
      "metadata": {
        "id": "oYzmJG3VBS1Z"
      },
      "id": "oYzmJG3VBS1Z",
      "execution_count": null,
      "outputs": []
    },
    {
      "cell_type": "code",
      "source": [
        "from peft import LoraConfig, TaskType\n",
        "\n",
        "peft_config = LoraConfig(\n",
        "    task_type=TaskType.CAUSAL_LM,\n",
        "    inference_mode=False,\n",
        "    r=8,\n",
        "    lora_alpha=16,\n",
        "    lora_dropout=0.05,\n",
        "    target_modules=[\"q_proj\", \"v_proj\"],\n",
        ")\n",
        "trainer.update_config(\n",
        "    data_collator=data_collator,\n",
        "    callbacks=[generation_callback],\n",
        "    peft_config=peft_config,\n",
        "    max_seq_length=1024,\n",
        ")"
      ],
      "metadata": {
        "id": "ToeIMjj7BOKR"
      },
      "id": "ToeIMjj7BOKR",
      "execution_count": null,
      "outputs": []
    },
    {
      "cell_type": "code",
      "source": [
        "trainer.update_config(\n",
        "    per_device_train_batch_size=3,\n",
        "    per_device_eval_batch_size=3,\n",
        "    eval_accumulation_steps=16,\n",
        "    max_steps=3000,\n",
        "    logging_steps=50,\n",
        "    learning_rate=5e-5,\n",
        "    save_strategy=\"no\",\n",
        "    evaluation_strategy=\"steps\",\n",
        "    eval_steps=500,\n",
        "    lr_scheduler_type=\"cosine\",\n",
        "    warmup_ratio=0.1,\n",
        "    remove_unused_columns=False,\n",
        "    fp16=True,\n",
        "    num_train_epochs=1,\n",
        ")"
      ],
      "metadata": {
        "id": "_fidAVOcBcPC"
      },
      "id": "_fidAVOcBcPC",
      "execution_count": null,
      "outputs": []
    },
    {
      "cell_type": "code",
      "source": [
        "trainer.train(\"Mistral-7B-v0.1-chat-OIG-3k\")"
      ],
      "metadata": {
        "id": "SnL3l0-vBhVP"
      },
      "id": "SnL3l0-vBhVP",
      "execution_count": null,
      "outputs": []
    }
  ],
  "metadata": {
    "colab": {
      "provenance": [],
      "gpuType": "T4",
      "toc_visible": true,
      "include_colab_link": true
    },
    "kernelspec": {
      "display_name": "Python 3",
      "name": "python3"
    },
    "language_info": {
      "codemirror_mode": {
        "name": "ipython",
        "version": 3
      },
      "file_extension": ".py",
      "mimetype": "text/x-python",
      "name": "python",
      "nbconvert_exporter": "python",
      "pygments_lexer": "ipython3",
      "version": "3.9.18"
    },
    "vscode": {
      "interpreter": {
        "hash": "2584bca9d226488c39a669ff1ce19d7ca5f410e2d3aa9b82f20653edd0d96bfc"
      }
    },
    "accelerator": "GPU"
  },
  "nbformat": 4,
  "nbformat_minor": 5
}