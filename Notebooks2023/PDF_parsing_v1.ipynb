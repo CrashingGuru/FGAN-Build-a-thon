{
  "nbformat": 4,
  "nbformat_minor": 0,
  "metadata": {
    "colab": {
      "provenance": [],
      "authorship_tag": "ABX9TyPtmT0gUvEBZY4qjfEAYNCF",
      "include_colab_link": true
    },
    "kernelspec": {
      "name": "python3",
      "display_name": "Python 3"
    },
    "language_info": {
      "name": "python"
    },
    "widgets": {
      "application/vnd.jupyter.widget-state+json": {
        "037e869ce9a1490c9f08a1c9ae1376f1": {
          "model_module": "@jupyter-widgets/controls",
          "model_name": "HBoxModel",
          "model_module_version": "1.5.0",
          "state": {
            "_dom_classes": [],
            "_model_module": "@jupyter-widgets/controls",
            "_model_module_version": "1.5.0",
            "_model_name": "HBoxModel",
            "_view_count": null,
            "_view_module": "@jupyter-widgets/controls",
            "_view_module_version": "1.5.0",
            "_view_name": "HBoxView",
            "box_style": "",
            "children": [
              "IPY_MODEL_3de1302f929042199cdaa7e97ec8dc56",
              "IPY_MODEL_498905aa7dba4326bcc4ebca14269a9d",
              "IPY_MODEL_5f573617a86f43d99274a578eaf1dc70"
            ],
            "layout": "IPY_MODEL_03633e99c1e94abf83a80cbd684388b2"
          }
        },
        "3de1302f929042199cdaa7e97ec8dc56": {
          "model_module": "@jupyter-widgets/controls",
          "model_name": "HTMLModel",
          "model_module_version": "1.5.0",
          "state": {
            "_dom_classes": [],
            "_model_module": "@jupyter-widgets/controls",
            "_model_module_version": "1.5.0",
            "_model_name": "HTMLModel",
            "_view_count": null,
            "_view_module": "@jupyter-widgets/controls",
            "_view_module_version": "1.5.0",
            "_view_name": "HTMLView",
            "description": "",
            "description_tooltip": null,
            "layout": "IPY_MODEL_696a733aa2a445909f62625071cd4856",
            "placeholder": "​",
            "style": "IPY_MODEL_8c247a5464ce4cd5877ff8257e764606",
            "value": "Use-case-AN.parquet: 100%"
          }
        },
        "498905aa7dba4326bcc4ebca14269a9d": {
          "model_module": "@jupyter-widgets/controls",
          "model_name": "FloatProgressModel",
          "model_module_version": "1.5.0",
          "state": {
            "_dom_classes": [],
            "_model_module": "@jupyter-widgets/controls",
            "_model_module_version": "1.5.0",
            "_model_name": "FloatProgressModel",
            "_view_count": null,
            "_view_module": "@jupyter-widgets/controls",
            "_view_module_version": "1.5.0",
            "_view_name": "ProgressView",
            "bar_style": "success",
            "description": "",
            "description_tooltip": null,
            "layout": "IPY_MODEL_2ea40fbd21d34bfa8086cc9440352116",
            "max": 121946,
            "min": 0,
            "orientation": "horizontal",
            "style": "IPY_MODEL_a45a85f9f4aa4dabb1a28bc85e24537e",
            "value": 121946
          }
        },
        "5f573617a86f43d99274a578eaf1dc70": {
          "model_module": "@jupyter-widgets/controls",
          "model_name": "HTMLModel",
          "model_module_version": "1.5.0",
          "state": {
            "_dom_classes": [],
            "_model_module": "@jupyter-widgets/controls",
            "_model_module_version": "1.5.0",
            "_model_name": "HTMLModel",
            "_view_count": null,
            "_view_module": "@jupyter-widgets/controls",
            "_view_module_version": "1.5.0",
            "_view_name": "HTMLView",
            "description": "",
            "description_tooltip": null,
            "layout": "IPY_MODEL_2529cf6a195344b197dcce4cf0ed0e55",
            "placeholder": "​",
            "style": "IPY_MODEL_75670e5233914438ac1c53bf86e4eb50",
            "value": " 122k/122k [00:00&lt;00:00, 66.0kB/s]"
          }
        },
        "03633e99c1e94abf83a80cbd684388b2": {
          "model_module": "@jupyter-widgets/base",
          "model_name": "LayoutModel",
          "model_module_version": "1.2.0",
          "state": {
            "_model_module": "@jupyter-widgets/base",
            "_model_module_version": "1.2.0",
            "_model_name": "LayoutModel",
            "_view_count": null,
            "_view_module": "@jupyter-widgets/base",
            "_view_module_version": "1.2.0",
            "_view_name": "LayoutView",
            "align_content": null,
            "align_items": null,
            "align_self": null,
            "border": null,
            "bottom": null,
            "display": null,
            "flex": null,
            "flex_flow": null,
            "grid_area": null,
            "grid_auto_columns": null,
            "grid_auto_flow": null,
            "grid_auto_rows": null,
            "grid_column": null,
            "grid_gap": null,
            "grid_row": null,
            "grid_template_areas": null,
            "grid_template_columns": null,
            "grid_template_rows": null,
            "height": null,
            "justify_content": null,
            "justify_items": null,
            "left": null,
            "margin": null,
            "max_height": null,
            "max_width": null,
            "min_height": null,
            "min_width": null,
            "object_fit": null,
            "object_position": null,
            "order": null,
            "overflow": null,
            "overflow_x": null,
            "overflow_y": null,
            "padding": null,
            "right": null,
            "top": null,
            "visibility": null,
            "width": null
          }
        },
        "696a733aa2a445909f62625071cd4856": {
          "model_module": "@jupyter-widgets/base",
          "model_name": "LayoutModel",
          "model_module_version": "1.2.0",
          "state": {
            "_model_module": "@jupyter-widgets/base",
            "_model_module_version": "1.2.0",
            "_model_name": "LayoutModel",
            "_view_count": null,
            "_view_module": "@jupyter-widgets/base",
            "_view_module_version": "1.2.0",
            "_view_name": "LayoutView",
            "align_content": null,
            "align_items": null,
            "align_self": null,
            "border": null,
            "bottom": null,
            "display": null,
            "flex": null,
            "flex_flow": null,
            "grid_area": null,
            "grid_auto_columns": null,
            "grid_auto_flow": null,
            "grid_auto_rows": null,
            "grid_column": null,
            "grid_gap": null,
            "grid_row": null,
            "grid_template_areas": null,
            "grid_template_columns": null,
            "grid_template_rows": null,
            "height": null,
            "justify_content": null,
            "justify_items": null,
            "left": null,
            "margin": null,
            "max_height": null,
            "max_width": null,
            "min_height": null,
            "min_width": null,
            "object_fit": null,
            "object_position": null,
            "order": null,
            "overflow": null,
            "overflow_x": null,
            "overflow_y": null,
            "padding": null,
            "right": null,
            "top": null,
            "visibility": null,
            "width": null
          }
        },
        "8c247a5464ce4cd5877ff8257e764606": {
          "model_module": "@jupyter-widgets/controls",
          "model_name": "DescriptionStyleModel",
          "model_module_version": "1.5.0",
          "state": {
            "_model_module": "@jupyter-widgets/controls",
            "_model_module_version": "1.5.0",
            "_model_name": "DescriptionStyleModel",
            "_view_count": null,
            "_view_module": "@jupyter-widgets/base",
            "_view_module_version": "1.2.0",
            "_view_name": "StyleView",
            "description_width": ""
          }
        },
        "2ea40fbd21d34bfa8086cc9440352116": {
          "model_module": "@jupyter-widgets/base",
          "model_name": "LayoutModel",
          "model_module_version": "1.2.0",
          "state": {
            "_model_module": "@jupyter-widgets/base",
            "_model_module_version": "1.2.0",
            "_model_name": "LayoutModel",
            "_view_count": null,
            "_view_module": "@jupyter-widgets/base",
            "_view_module_version": "1.2.0",
            "_view_name": "LayoutView",
            "align_content": null,
            "align_items": null,
            "align_self": null,
            "border": null,
            "bottom": null,
            "display": null,
            "flex": null,
            "flex_flow": null,
            "grid_area": null,
            "grid_auto_columns": null,
            "grid_auto_flow": null,
            "grid_auto_rows": null,
            "grid_column": null,
            "grid_gap": null,
            "grid_row": null,
            "grid_template_areas": null,
            "grid_template_columns": null,
            "grid_template_rows": null,
            "height": null,
            "justify_content": null,
            "justify_items": null,
            "left": null,
            "margin": null,
            "max_height": null,
            "max_width": null,
            "min_height": null,
            "min_width": null,
            "object_fit": null,
            "object_position": null,
            "order": null,
            "overflow": null,
            "overflow_x": null,
            "overflow_y": null,
            "padding": null,
            "right": null,
            "top": null,
            "visibility": null,
            "width": null
          }
        },
        "a45a85f9f4aa4dabb1a28bc85e24537e": {
          "model_module": "@jupyter-widgets/controls",
          "model_name": "ProgressStyleModel",
          "model_module_version": "1.5.0",
          "state": {
            "_model_module": "@jupyter-widgets/controls",
            "_model_module_version": "1.5.0",
            "_model_name": "ProgressStyleModel",
            "_view_count": null,
            "_view_module": "@jupyter-widgets/base",
            "_view_module_version": "1.2.0",
            "_view_name": "StyleView",
            "bar_color": null,
            "description_width": ""
          }
        },
        "2529cf6a195344b197dcce4cf0ed0e55": {
          "model_module": "@jupyter-widgets/base",
          "model_name": "LayoutModel",
          "model_module_version": "1.2.0",
          "state": {
            "_model_module": "@jupyter-widgets/base",
            "_model_module_version": "1.2.0",
            "_model_name": "LayoutModel",
            "_view_count": null,
            "_view_module": "@jupyter-widgets/base",
            "_view_module_version": "1.2.0",
            "_view_name": "LayoutView",
            "align_content": null,
            "align_items": null,
            "align_self": null,
            "border": null,
            "bottom": null,
            "display": null,
            "flex": null,
            "flex_flow": null,
            "grid_area": null,
            "grid_auto_columns": null,
            "grid_auto_flow": null,
            "grid_auto_rows": null,
            "grid_column": null,
            "grid_gap": null,
            "grid_row": null,
            "grid_template_areas": null,
            "grid_template_columns": null,
            "grid_template_rows": null,
            "height": null,
            "justify_content": null,
            "justify_items": null,
            "left": null,
            "margin": null,
            "max_height": null,
            "max_width": null,
            "min_height": null,
            "min_width": null,
            "object_fit": null,
            "object_position": null,
            "order": null,
            "overflow": null,
            "overflow_x": null,
            "overflow_y": null,
            "padding": null,
            "right": null,
            "top": null,
            "visibility": null,
            "width": null
          }
        },
        "75670e5233914438ac1c53bf86e4eb50": {
          "model_module": "@jupyter-widgets/controls",
          "model_name": "DescriptionStyleModel",
          "model_module_version": "1.5.0",
          "state": {
            "_model_module": "@jupyter-widgets/controls",
            "_model_module_version": "1.5.0",
            "_model_name": "DescriptionStyleModel",
            "_view_count": null,
            "_view_module": "@jupyter-widgets/base",
            "_view_module_version": "1.2.0",
            "_view_name": "StyleView",
            "description_width": ""
          }
        }
      }
    }
  },
  "cells": [
    {
      "cell_type": "markdown",
      "metadata": {
        "id": "view-in-github",
        "colab_type": "text"
      },
      "source": [
        "<a href=\"https://colab.research.google.com/github/vrra/FGAN-Build-a-thon/blob/main/Notebooks2023/PDF_parsing_v1.ipynb\" target=\"_parent\"><img src=\"https://colab.research.google.com/assets/colab-badge.svg\" alt=\"Open In Colab\"/></a>"
      ]
    },
    {
      "cell_type": "markdown",
      "source": [
        "Created: 23 Dec 2023\n",
        "Aaron, Frank, Sunday, Kennedy and Vishnu.\n",
        "Contact: vishnu.n@ieee.org\n",
        "\n",
        "This notebook parses a given PDF,\n",
        "Creates a parquet file corresponding to it and uploads into HF dataset repo https://huggingface.co/datasets/vishnuramov\n",
        "\n",
        "Revision history\n",
        "\n",
        "28 Dec 2023\n",
        "\n",
        "-"
      ],
      "metadata": {
        "id": "b8Yf2dPDa1RO"
      }
    },
    {
      "cell_type": "code",
      "execution_count": null,
      "metadata": {
        "id": "zJlAYL0TsjYT"
      },
      "outputs": [],
      "source": [
        "!pip install pypdf\n",
        "!pip install langchain\n",
        "!pip install pandas\n",
        "!pip install huggingface_hub\n",
        "!pip install datasets\n"
      ]
    },
    {
      "cell_type": "markdown",
      "source": [
        "Here are the Imports"
      ],
      "metadata": {
        "id": "rRq9kbYPa476"
      }
    },
    {
      "cell_type": "code",
      "source": [
        "import pandas as pd\n",
        "from huggingface_hub import login\n",
        "from google.colab import userdata\n",
        "import os"
      ],
      "metadata": {
        "id": "zyxFcmFCakW4"
      },
      "execution_count": 7,
      "outputs": []
    },
    {
      "cell_type": "markdown",
      "source": [
        "Now we read the data from the pdf file."
      ],
      "metadata": {
        "id": "l8Zh5Tdzawh0"
      }
    },
    {
      "cell_type": "code",
      "source": [
        "url = input('Enter the URL: ')\n",
        "print(f'You entered {url}')\n",
        "\n",
        "#extract the filename from the URL above.\n",
        "#attach it to the path as shown below to\n",
        "#form the colab filename /content/sample_data/<<url filename>>\n",
        "#then go get it.\n",
        "input_path, input_name = os.path.split(url)\n",
        "filename = '/content/sample_data/'+input_name\n",
        "print(filename)"
      ],
      "metadata": {
        "colab": {
          "base_uri": "https://localhost:8080/"
        },
        "id": "GmqSqi3vKNfw",
        "outputId": "70f3b46d-c859-40e6-de62-005fb9167f3d"
      },
      "execution_count": 13,
      "outputs": [
        {
          "output_type": "stream",
          "name": "stdout",
          "text": [
            "Enter the URL: https://www.itu.int/en/ITU-T/focusgroups/an/Documents/Use-case-AN.pdf\n",
            "You entered https://www.itu.int/en/ITU-T/focusgroups/an/Documents/Use-case-AN.pdf\n",
            "https://www.itu.int/en/ITU-T/focusgroups/an/Documents\n",
            "/content/sample_data/Use-case-AN.pdf\n"
          ]
        }
      ]
    },
    {
      "cell_type": "code",
      "source": [
        "os.system('wget {} -O {}'.format(url, filename))\n"
      ],
      "metadata": {
        "id": "fOcN5x8VSJnU",
        "outputId": "fdabefab-ae0a-44e1-8488-16a2c1959b3d",
        "colab": {
          "base_uri": "https://localhost:8080/"
        }
      },
      "execution_count": 15,
      "outputs": [
        {
          "output_type": "execute_result",
          "data": {
            "text/plain": [
              "0"
            ]
          },
          "metadata": {},
          "execution_count": 15
        }
      ]
    },
    {
      "cell_type": "code",
      "source": [
        "from langchain.document_loaders import PyPDFLoader\n",
        "loader = PyPDFLoader(filename)\n",
        "pages = loader.load_and_split()\n",
        "simple_data_container = []\n",
        "\n",
        "for i in range(len(pages)):\n",
        "  print(\"Physical Page =\",\n",
        "      i,\n",
        "      \"logical page given by the loader = \",\n",
        "      pages[i].metadata['page'],\n",
        "      \"of \",\n",
        "      pages[i].metadata['source'],\n",
        "      \"content = \",\n",
        "      pages[i].page_content)\n",
        "  simple_data_container.append(\n",
        "      [i,\n",
        "       pages[i].metadata['source'],\n",
        "       pages[i].page_content])\n",
        "  print(\"*****************************\")\n",
        "\n",
        "df = pd.DataFrame(simple_data_container,\n",
        "                  columns=['page_number', 'document_source', 'page_content'])\n",
        "df.head(10)\n",
        "\n",
        "#cut the extension from the filename.\n",
        "#attach .parquet to it\n",
        "#then write the parquet file.\n",
        "parquet_filename = os.path.splitext(filename)[0]+'.parquet'\n",
        "print(parquet_filename)\n"
      ],
      "metadata": {
        "id": "o6zl0NzlvBRb"
      },
      "execution_count": null,
      "outputs": []
    },
    {
      "cell_type": "code",
      "source": [
        "df.to_parquet(parquet_filename)"
      ],
      "metadata": {
        "id": "PIKVki9JTOSf"
      },
      "execution_count": 18,
      "outputs": []
    },
    {
      "cell_type": "markdown",
      "source": [
        "*access* the HF hub,\n",
        "upload the dataset into it\n"
      ],
      "metadata": {
        "id": "MSeMw839a72I"
      }
    },
    {
      "cell_type": "code",
      "source": [
        "hf_token=userdata.get('my_hf_write_token')\n",
        "login(hf_token)"
      ],
      "metadata": {
        "id": "dYzmNTRSd6v8",
        "outputId": "28259097-c716-4530-9580-9b9a5c0fbab7",
        "colab": {
          "base_uri": "https://localhost:8080/"
        }
      },
      "execution_count": 19,
      "outputs": [
        {
          "output_type": "stream",
          "name": "stdout",
          "text": [
            "Token will not been saved to git credential helper. Pass `add_to_git_credential=True` if you want to set the git credential as well.\n",
            "Token is valid (permission: write).\n",
            "Your token has been saved to /root/.cache/huggingface/token\n",
            "Login successful\n"
          ]
        }
      ]
    },
    {
      "cell_type": "markdown",
      "source": [
        "CAUTION: Make sure the dataset exists before proceeding.\n",
        "\n",
        "Go to https://huggingface.co/vishnuramov\n",
        "\n",
        "and check if the dataset\n",
        "\n",
        "vishnuramov/ITU-AN-usecases-1 exists.\n",
        "\n",
        "If not, one should create it."
      ],
      "metadata": {
        "id": "bSyr8d0HVGCh"
      }
    },
    {
      "cell_type": "code",
      "source": [
        "from huggingface_hub import HfApi\n",
        "api = HfApi()\n",
        "api.upload_file(\n",
        "    path_or_fileobj=parquet_filename,\n",
        "    path_in_repo=parquet_filename,\n",
        "    repo_id=\"vishnuramov/ITU-AN-usecases-1\",\n",
        "    repo_type=\"dataset\",\n",
        ")\n",
        "print(\"Check https://huggingface.co/vishnuramov\")"
      ],
      "metadata": {
        "id": "zyAD5ambfOKc",
        "outputId": "8d04f758-b1c3-401f-a508-d39c5350e495",
        "colab": {
          "base_uri": "https://localhost:8080/",
          "height": 66,
          "referenced_widgets": [
            "037e869ce9a1490c9f08a1c9ae1376f1",
            "3de1302f929042199cdaa7e97ec8dc56",
            "498905aa7dba4326bcc4ebca14269a9d",
            "5f573617a86f43d99274a578eaf1dc70",
            "03633e99c1e94abf83a80cbd684388b2",
            "696a733aa2a445909f62625071cd4856",
            "8c247a5464ce4cd5877ff8257e764606",
            "2ea40fbd21d34bfa8086cc9440352116",
            "a45a85f9f4aa4dabb1a28bc85e24537e",
            "2529cf6a195344b197dcce4cf0ed0e55",
            "75670e5233914438ac1c53bf86e4eb50"
          ]
        }
      },
      "execution_count": 21,
      "outputs": [
        {
          "output_type": "display_data",
          "data": {
            "text/plain": [
              "Use-case-AN.parquet:   0%|          | 0.00/122k [00:00<?, ?B/s]"
            ],
            "application/vnd.jupyter.widget-view+json": {
              "version_major": 2,
              "version_minor": 0,
              "model_id": "037e869ce9a1490c9f08a1c9ae1376f1"
            }
          },
          "metadata": {}
        },
        {
          "output_type": "stream",
          "name": "stdout",
          "text": [
            "Check https://huggingface.co/vishnuramov\n"
          ]
        }
      ]
    },
    {
      "cell_type": "markdown",
      "source": [
        "TBD: Create a notebook which reads\n",
        "\n",
        "dataset(s) from the HF dataset repo https://huggingface.co/datasets/vishnuramov:\n",
        "and analyses it ."
      ],
      "metadata": {
        "id": "dcAKh3jTj_t8"
      }
    }
  ]
}