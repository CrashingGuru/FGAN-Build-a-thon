{
  "cells": [
    {
      "cell_type": "markdown",
      "metadata": {
        "id": "view-in-github",
        "colab_type": "text"
      },
      "source": [
        "<a href=\"https://colab.research.google.com/github/vrra/FGAN-Build-a-thon/blob/main/Notebooks2023/Read-semi-annotated-push-to-argilla.ipynb\" target=\"_parent\"><img src=\"https://colab.research.google.com/assets/colab-badge.svg\" alt=\"Open In Colab\"/></a>"
      ]
    },
    {
      "cell_type": "markdown",
      "source": [
        "Created: 3 Jan 2024\n",
        "\n",
        "Aaron, Othniel, Vishnu.\n",
        "\n",
        "This notebook pulls records from HF hub (semi annotated dataset) and pushes them to HF spaces argilla (for 100% annotation).\n",
        "\n",
        "Pre-requisites:\n",
        "\n",
        "the following notebooks are already run:\n",
        "\n",
        "1. Create the raw dataset in HF hub.\n",
        "\n",
        "2. Configure the argilla dataset\n",
        "\n",
        "3. add records in the argilla dataset from the raw dataset\n",
        "\n",
        "and perhaps you need to\n",
        "\n",
        "x% annotate the dataset in UI - offline"
      ],
      "metadata": {
        "id": "6kQl8j1Rpc5B"
      },
      "id": "6kQl8j1Rpc5B"
    },
    {
      "cell_type": "markdown",
      "id": "fbc7acc7",
      "metadata": {
        "id": "fbc7acc7"
      },
      "source": [
        "## Install Libraries\n",
        "\n",
        "Install the latest version of Argilla in Colab, along with other libraries and models used in this notebook."
      ]
    },
    {
      "cell_type": "code",
      "execution_count": 1,
      "id": "f808bb22",
      "metadata": {
        "colab": {
          "base_uri": "https://localhost:8080/"
        },
        "id": "f808bb22",
        "outputId": "637d3e3e-d059-41ba-8ed4-1e8905b3c83c"
      },
      "outputs": [
        {
          "output_type": "stream",
          "name": "stdout",
          "text": [
            "Collecting argilla\n",
            "  Downloading argilla-1.21.0-py3-none-any.whl (3.1 MB)\n",
            "\u001b[2K     \u001b[90m━━━━━━━━━━━━━━━━━━━━━━━━━━━━━━━━━━━━━━━━\u001b[0m \u001b[32m3.1/3.1 MB\u001b[0m \u001b[31m12.8 MB/s\u001b[0m eta \u001b[36m0:00:00\u001b[0m\n",
            "\u001b[?25hCollecting datasets\n",
            "  Downloading datasets-2.16.1-py3-none-any.whl (507 kB)\n",
            "\u001b[2K     \u001b[90m━━━━━━━━━━━━━━━━━━━━━━━━━━━━━━━━━━━━━━━━\u001b[0m \u001b[32m507.1/507.1 kB\u001b[0m \u001b[31m30.1 MB/s\u001b[0m eta \u001b[36m0:00:00\u001b[0m\n",
            "\u001b[?25hCollecting httpx<=0.25,>=0.15 (from argilla)\n",
            "  Downloading httpx-0.25.0-py3-none-any.whl (75 kB)\n",
            "\u001b[2K     \u001b[90m━━━━━━━━━━━━━━━━━━━━━━━━━━━━━━━━━━━━━━━━\u001b[0m \u001b[32m75.7/75.7 kB\u001b[0m \u001b[31m7.0 MB/s\u001b[0m eta \u001b[36m0:00:00\u001b[0m\n",
            "\u001b[?25hCollecting deprecated~=1.2.0 (from argilla)\n",
            "  Downloading Deprecated-1.2.14-py2.py3-none-any.whl (9.6 kB)\n",
            "Requirement already satisfied: packaging>=20.0 in /usr/local/lib/python3.10/dist-packages (from argilla) (23.2)\n",
            "Requirement already satisfied: pandas<2.0.0,>=1.0.0 in /usr/local/lib/python3.10/dist-packages (from argilla) (1.5.3)\n",
            "Requirement already satisfied: pydantic<2.0,>=1.10.7 in /usr/local/lib/python3.10/dist-packages (from argilla) (1.10.13)\n",
            "Requirement already satisfied: wrapt<1.15,>=1.13 in /usr/local/lib/python3.10/dist-packages (from argilla) (1.14.1)\n",
            "Requirement already satisfied: numpy<1.24.0 in /usr/local/lib/python3.10/dist-packages (from argilla) (1.23.5)\n",
            "Requirement already satisfied: tqdm>=4.27.0 in /usr/local/lib/python3.10/dist-packages (from argilla) (4.66.1)\n",
            "Collecting backoff (from argilla)\n",
            "  Downloading backoff-2.2.1-py3-none-any.whl (15 kB)\n",
            "Collecting monotonic (from argilla)\n",
            "  Downloading monotonic-1.6-py2.py3-none-any.whl (8.2 kB)\n",
            "Requirement already satisfied: rich!=13.1.0 in /usr/local/lib/python3.10/dist-packages (from argilla) (13.7.0)\n",
            "Requirement already satisfied: typer<0.10.0,>=0.6.0 in /usr/local/lib/python3.10/dist-packages (from argilla) (0.9.0)\n",
            "Requirement already satisfied: filelock in /usr/local/lib/python3.10/dist-packages (from datasets) (3.13.1)\n",
            "Requirement already satisfied: pyarrow>=8.0.0 in /usr/local/lib/python3.10/dist-packages (from datasets) (10.0.1)\n",
            "Collecting pyarrow-hotfix (from datasets)\n",
            "  Downloading pyarrow_hotfix-0.6-py3-none-any.whl (7.9 kB)\n",
            "Collecting dill<0.3.8,>=0.3.0 (from datasets)\n",
            "  Downloading dill-0.3.7-py3-none-any.whl (115 kB)\n",
            "\u001b[2K     \u001b[90m━━━━━━━━━━━━━━━━━━━━━━━━━━━━━━━━━━━━━━━━\u001b[0m \u001b[32m115.3/115.3 kB\u001b[0m \u001b[31m9.1 MB/s\u001b[0m eta \u001b[36m0:00:00\u001b[0m\n",
            "\u001b[?25hRequirement already satisfied: requests>=2.19.0 in /usr/local/lib/python3.10/dist-packages (from datasets) (2.31.0)\n",
            "Requirement already satisfied: xxhash in /usr/local/lib/python3.10/dist-packages (from datasets) (3.4.1)\n",
            "Collecting multiprocess (from datasets)\n",
            "  Downloading multiprocess-0.70.15-py310-none-any.whl (134 kB)\n",
            "\u001b[2K     \u001b[90m━━━━━━━━━━━━━━━━━━━━━━━━━━━━━━━━━━━━━━━━\u001b[0m \u001b[32m134.8/134.8 kB\u001b[0m \u001b[31m8.4 MB/s\u001b[0m eta \u001b[36m0:00:00\u001b[0m\n",
            "\u001b[?25hRequirement already satisfied: fsspec[http]<=2023.10.0,>=2023.1.0 in /usr/local/lib/python3.10/dist-packages (from datasets) (2023.6.0)\n",
            "Requirement already satisfied: aiohttp in /usr/local/lib/python3.10/dist-packages (from datasets) (3.9.1)\n",
            "Requirement already satisfied: huggingface-hub>=0.19.4 in /usr/local/lib/python3.10/dist-packages (from datasets) (0.20.1)\n",
            "Requirement already satisfied: pyyaml>=5.1 in /usr/local/lib/python3.10/dist-packages (from datasets) (6.0.1)\n",
            "Requirement already satisfied: attrs>=17.3.0 in /usr/local/lib/python3.10/dist-packages (from aiohttp->datasets) (23.1.0)\n",
            "Requirement already satisfied: multidict<7.0,>=4.5 in /usr/local/lib/python3.10/dist-packages (from aiohttp->datasets) (6.0.4)\n",
            "Requirement already satisfied: yarl<2.0,>=1.0 in /usr/local/lib/python3.10/dist-packages (from aiohttp->datasets) (1.9.4)\n",
            "Requirement already satisfied: frozenlist>=1.1.1 in /usr/local/lib/python3.10/dist-packages (from aiohttp->datasets) (1.4.1)\n",
            "Requirement already satisfied: aiosignal>=1.1.2 in /usr/local/lib/python3.10/dist-packages (from aiohttp->datasets) (1.3.1)\n",
            "Requirement already satisfied: async-timeout<5.0,>=4.0 in /usr/local/lib/python3.10/dist-packages (from aiohttp->datasets) (4.0.3)\n",
            "Requirement already satisfied: certifi in /usr/local/lib/python3.10/dist-packages (from httpx<=0.25,>=0.15->argilla) (2023.11.17)\n",
            "Collecting httpcore<0.19.0,>=0.18.0 (from httpx<=0.25,>=0.15->argilla)\n",
            "  Downloading httpcore-0.18.0-py3-none-any.whl (76 kB)\n",
            "\u001b[2K     \u001b[90m━━━━━━━━━━━━━━━━━━━━━━━━━━━━━━━━━━━━━━━━\u001b[0m \u001b[32m76.0/76.0 kB\u001b[0m \u001b[31m6.9 MB/s\u001b[0m eta \u001b[36m0:00:00\u001b[0m\n",
            "\u001b[?25hRequirement already satisfied: idna in /usr/local/lib/python3.10/dist-packages (from httpx<=0.25,>=0.15->argilla) (3.6)\n",
            "Requirement already satisfied: sniffio in /usr/local/lib/python3.10/dist-packages (from httpx<=0.25,>=0.15->argilla) (1.3.0)\n",
            "Requirement already satisfied: typing-extensions>=3.7.4.3 in /usr/local/lib/python3.10/dist-packages (from huggingface-hub>=0.19.4->datasets) (4.5.0)\n",
            "Requirement already satisfied: python-dateutil>=2.8.1 in /usr/local/lib/python3.10/dist-packages (from pandas<2.0.0,>=1.0.0->argilla) (2.8.2)\n",
            "Requirement already satisfied: pytz>=2020.1 in /usr/local/lib/python3.10/dist-packages (from pandas<2.0.0,>=1.0.0->argilla) (2023.3.post1)\n",
            "Requirement already satisfied: charset-normalizer<4,>=2 in /usr/local/lib/python3.10/dist-packages (from requests>=2.19.0->datasets) (3.3.2)\n",
            "Requirement already satisfied: urllib3<3,>=1.21.1 in /usr/local/lib/python3.10/dist-packages (from requests>=2.19.0->datasets) (2.0.7)\n",
            "Requirement already satisfied: markdown-it-py>=2.2.0 in /usr/local/lib/python3.10/dist-packages (from rich!=13.1.0->argilla) (3.0.0)\n",
            "Requirement already satisfied: pygments<3.0.0,>=2.13.0 in /usr/local/lib/python3.10/dist-packages (from rich!=13.1.0->argilla) (2.16.1)\n",
            "Requirement already satisfied: click<9.0.0,>=7.1.1 in /usr/local/lib/python3.10/dist-packages (from typer<0.10.0,>=0.6.0->argilla) (8.1.7)\n",
            "Requirement already satisfied: anyio<5.0,>=3.0 in /usr/local/lib/python3.10/dist-packages (from httpcore<0.19.0,>=0.18.0->httpx<=0.25,>=0.15->argilla) (3.7.1)\n",
            "Collecting h11<0.15,>=0.13 (from httpcore<0.19.0,>=0.18.0->httpx<=0.25,>=0.15->argilla)\n",
            "  Downloading h11-0.14.0-py3-none-any.whl (58 kB)\n",
            "\u001b[2K     \u001b[90m━━━━━━━━━━━━━━━━━━━━━━━━━━━━━━━━━━━━━━━━\u001b[0m \u001b[32m58.3/58.3 kB\u001b[0m \u001b[31m5.7 MB/s\u001b[0m eta \u001b[36m0:00:00\u001b[0m\n",
            "\u001b[?25hRequirement already satisfied: mdurl~=0.1 in /usr/local/lib/python3.10/dist-packages (from markdown-it-py>=2.2.0->rich!=13.1.0->argilla) (0.1.2)\n",
            "Requirement already satisfied: six>=1.5 in /usr/local/lib/python3.10/dist-packages (from python-dateutil>=2.8.1->pandas<2.0.0,>=1.0.0->argilla) (1.16.0)\n",
            "Requirement already satisfied: exceptiongroup in /usr/local/lib/python3.10/dist-packages (from anyio<5.0,>=3.0->httpcore<0.19.0,>=0.18.0->httpx<=0.25,>=0.15->argilla) (1.2.0)\n",
            "Installing collected packages: monotonic, pyarrow-hotfix, h11, dill, deprecated, backoff, multiprocess, httpcore, httpx, datasets, argilla\n",
            "Successfully installed argilla-1.21.0 backoff-2.2.1 datasets-2.16.1 deprecated-1.2.14 dill-0.3.7 h11-0.14.0 httpcore-0.18.0 httpx-0.25.0 monotonic-1.6 multiprocess-0.70.15 pyarrow-hotfix-0.6\n"
          ]
        }
      ],
      "source": [
        "!pip install argilla datasets"
      ]
    },
    {
      "cell_type": "markdown",
      "id": "EwDfn8E7W7jD",
      "metadata": {
        "id": "EwDfn8E7W7jD"
      },
      "source": [
        "Prerequisites\n",
        "\n",
        "Deploy Argilla Server on [HF Spaces](https://huggingface.co/new-space?template=argilla/argilla-template-space).\n",
        "\n",
        "\n",
        "More info on Installation [here](../getting_started/installation/deployments/deployments.html)."
      ]
    },
    {
      "cell_type": "markdown",
      "id": "00b2e199",
      "metadata": {
        "id": "00b2e199"
      },
      "source": [
        "## Secretes needed\n",
        "\n"
      ]
    },
    {
      "cell_type": "markdown",
      "id": "a93bc742",
      "metadata": {
        "id": "a93bc742"
      },
      "source": [
        "\n",
        "* `ARGILLA_API_URL`: It is the url of the Argilla Server.\n",
        "  * If you're using HF Spaces, it is constructed as `https://[your-owner-name]-[your_space_name].hf.space`.\n",
        "* `ARGILLA_API_KEY`: It is the API key of the Argilla Server. It is `owner` by default.\n",
        "* `HF_TOKEN`: It is the Hugging Face API token. It is only needed if you're using a [private HF Space](https://docs.argilla.io/en/latest/getting_started/installation/deployments/huggingface-spaces.html#deploy-argilla-on-spaces). You can configure it in your profile: [Setting > Access Tokens](https://huggingface.co/settings/tokens).\n",
        "* `workspace`: admin\n"
      ]
    },
    {
      "cell_type": "code",
      "execution_count": 2,
      "id": "215b5b39",
      "metadata": {
        "id": "215b5b39"
      },
      "outputs": [],
      "source": [
        "import argilla as rg\n",
        "from argilla._constants import DEFAULT_API_KEY"
      ]
    },
    {
      "cell_type": "code",
      "execution_count": 3,
      "id": "19c56015",
      "metadata": {
        "colab": {
          "base_uri": "https://localhost:8080/"
        },
        "id": "19c56015",
        "outputId": "e98bd18f-5a9e-443f-ec6a-7ec1b2796090"
      },
      "outputs": [
        {
          "output_type": "stream",
          "name": "stderr",
          "text": [
            "/usr/local/lib/python3.10/dist-packages/argilla/client/client.py:168: UserWarning: No workspace configuration was detected. To work with Argilla datasets, specify a valid workspace name on `rg.init` or set it up through the `rg.set_workspace` function.\n",
            "  warnings.warn(\n"
          ]
        }
      ],
      "source": [
        "from google.colab import userdata\n",
        "api_url= userdata.get('my_argilla_url')\n",
        "api_key= userdata.get('my_argilla_key')\n",
        "\n",
        "import argilla as rg\n",
        "rg.init(api_url=api_url, api_key=api_key)\n",
        "\n",
        "# # If you want to use your private HF Space\n",
        "# rg.init(extra_headers={\"Authorization\": f\"Bearer {hf_token}\"})"
      ]
    },
    {
      "cell_type": "code",
      "source": [
        "from datasets import load_dataset\n",
        "\n",
        "# Load and inspect a semi annotated dataset from the Hugging Face Hub\n",
        "# (and not the pre-processed or annotated dataset in the spaces).\n",
        "# vishnuramov/itu_annotated_dataset is the semi annotated dataset name in HF hub\n",
        "# (and not annotated dataset in the spaces nor the raw dataset in the HF Hub)\n",
        "hf_dataset = load_dataset('vishnuramov/itu_annotated_dataset')"
      ],
      "metadata": {
        "id": "FoC0W9IUZuJR",
        "outputId": "d1408bd5-dd91-4bf6-a04d-cc14c4faad2b",
        "colab": {
          "base_uri": "https://localhost:8080/",
          "height": 235,
          "referenced_widgets": [
            "caa5da6a2d1445ddb70a62cde2470ab6",
            "d54ea2c8e61448a99137830b67021eb2",
            "926ae381c0a74173955013fc64a733cf",
            "b099d2e5044f4ea48585fcb2f9248363",
            "e745e07c0ea443dd84bb4f75df332541",
            "b2b0a714c80f49c4b84b5125d21dc10f",
            "765c3a6eadc84ad7a12f1a2b8a8e859c",
            "c355536ddb1b4920a5abbdee447214da",
            "31983e8ea55c4551bd09a30242191a76",
            "973cf17d48bb453588312234cd2e5667",
            "815f2b64106946d5af8e2d71d1a718fa",
            "421fc8f24b6b428ca4f18827faed321b",
            "5d4edc94c21a45e08c3f22a6f3c90ef8",
            "60fa5bf8bd164e3cb980e13637eeeb5c",
            "1fe0dfcd10a241df99d13f1e3250dcae",
            "1d2c7102b65a44f2947133ebe2567b28",
            "2dee450c1e954995acdd7804646fdf56",
            "3fc6aeb267fc46898ce9e7826c07e045",
            "ab00f8b4294d4117b26275000e2b92a3",
            "ca3af3513e5540658b890a86d2ba650f",
            "b7c357bee0b34fc38ec4eced1b8b5a9b",
            "2fecd5aedd764f15be15350acfadd5e4",
            "22ad983cfed54a9ab3a1951814d7057a",
            "718ce52436df480a8c12b69acf8926a6",
            "3d8506f4e9314e8fbe12f520b8460eab",
            "10909278b3a14011bd395713a6064088",
            "e5f83eb2dc5a43babcd34e282925adae",
            "ab891db2a57442489461bbe92361876b",
            "9f9c0e8ddee54d2b9a558664ed345d10",
            "27996bb0606a4ce0bbff8b6f19f5a200",
            "43be1df3c80d4636820f283af362f186",
            "4a3cbc8f27f34ac593bc703a2b2366b7",
            "9d947121f23449a1bbbed410e4ed0243"
          ]
        }
      },
      "id": "FoC0W9IUZuJR",
      "execution_count": 34,
      "outputs": [
        {
          "output_type": "stream",
          "name": "stderr",
          "text": [
            "/usr/local/lib/python3.10/dist-packages/huggingface_hub/utils/_token.py:72: UserWarning: \n",
            "The secret `HF_TOKEN` does not exist in your Colab secrets.\n",
            "To authenticate with the Hugging Face Hub, create a token in your settings tab (https://huggingface.co/settings/tokens), set it as secret in your Google Colab and restart your session.\n",
            "You will be able to reuse this secret in all of your notebooks.\n",
            "Please note that authentication is recommended but still optional to access public models or datasets.\n",
            "  warnings.warn(\n"
          ]
        },
        {
          "output_type": "display_data",
          "data": {
            "text/plain": [
              "Downloading readme:   0%|          | 0.00/9.42k [00:00<?, ?B/s]"
            ],
            "application/vnd.jupyter.widget-view+json": {
              "version_major": 2,
              "version_minor": 0,
              "model_id": "caa5da6a2d1445ddb70a62cde2470ab6"
            }
          },
          "metadata": {}
        },
        {
          "output_type": "display_data",
          "data": {
            "text/plain": [
              "Downloading data:   0%|          | 0.00/129k [00:00<?, ?B/s]"
            ],
            "application/vnd.jupyter.widget-view+json": {
              "version_major": 2,
              "version_minor": 0,
              "model_id": "421fc8f24b6b428ca4f18827faed321b"
            }
          },
          "metadata": {}
        },
        {
          "output_type": "display_data",
          "data": {
            "text/plain": [
              "Generating train split: 0 examples [00:00, ? examples/s]"
            ],
            "application/vnd.jupyter.widget-view+json": {
              "version_major": 2,
              "version_minor": 0,
              "model_id": "22ad983cfed54a9ab3a1951814d7057a"
            }
          },
          "metadata": {}
        }
      ]
    },
    {
      "cell_type": "code",
      "source": [
        "for record in hf_dataset['train']:\n",
        "  if (len(record['response'])):\n",
        "     print((record['response'][0]['value']))"
      ],
      "metadata": {
        "colab": {
          "base_uri": "https://localhost:8080/",
          "height": 81
        },
        "id": "JfIORbdif26R",
        "outputId": "1d147569-41cc-4ed2-a6f3-84827afd6a78"
      },
      "id": "JfIORbdif26R",
      "execution_count": 35,
      "outputs": [
        {
          "output_type": "display_data",
          "data": {
            "text/plain": [
              "\u001b[31m╭─\u001b[0m\u001b[31m──────────────────────────────\u001b[0m\u001b[31m \u001b[0m\u001b[1;31mTraceback \u001b[0m\u001b[1;2;31m(most recent call last)\u001b[0m\u001b[31m \u001b[0m\u001b[31m───────────────────────────────\u001b[0m\u001b[31m─╮\u001b[0m\n",
              "\u001b[31m│\u001b[0m in \u001b[92m<cell line: 1>\u001b[0m:\u001b[94m3\u001b[0m                                                                              \u001b[31m│\u001b[0m\n",
              "\u001b[31m╰──────────────────────────────────────────────────────────────────────────────────────────────────╯\u001b[0m\n",
              "\u001b[1;91mTypeError: \u001b[0mstring indices must be integers\n"
            ],
            "text/html": [
              "<pre style=\"white-space:pre;overflow-x:auto;line-height:normal;font-family:Menlo,'DejaVu Sans Mono',consolas,'Courier New',monospace\"><span style=\"color: #800000; text-decoration-color: #800000\">╭─────────────────────────────── </span><span style=\"color: #800000; text-decoration-color: #800000; font-weight: bold\">Traceback </span><span style=\"color: #bf7f7f; text-decoration-color: #bf7f7f; font-weight: bold\">(most recent call last)</span><span style=\"color: #800000; text-decoration-color: #800000\"> ────────────────────────────────╮</span>\n",
              "<span style=\"color: #800000; text-decoration-color: #800000\">│</span> in <span style=\"color: #00ff00; text-decoration-color: #00ff00\">&lt;cell line: 1&gt;</span>:<span style=\"color: #0000ff; text-decoration-color: #0000ff\">3</span>                                                                              <span style=\"color: #800000; text-decoration-color: #800000\">│</span>\n",
              "<span style=\"color: #800000; text-decoration-color: #800000\">╰──────────────────────────────────────────────────────────────────────────────────────────────────╯</span>\n",
              "<span style=\"color: #ff0000; text-decoration-color: #ff0000; font-weight: bold\">TypeError: </span>string indices must be integers\n",
              "</pre>\n"
            ]
          },
          "metadata": {}
        }
      ]
    },
    {
      "cell_type": "code",
      "source": [
        "#Create a custom dataset configuration\n",
        "feedback_dataset = rg.FeedbackDataset(\n",
        "    fields=[\n",
        "        rg.TextField(name=\"prompt\"),\n",
        "        rg.TextField(name=\"context\"),\n",
        "        rg.TextField(name=\"response\")\n",
        "    ],\n",
        "    questions=[\n",
        "        rg.TextQuestion(\n",
        "            name=\"answer_correction\",\n",
        "            description=\"If you think the response is not accurate, please, correct it.\",\n",
        "            required=True,\n",
        "        ),\n",
        "    ],\n",
        "    guidelines=\"Please, read the question carefully and try to answer it as accurately as possible.\"\n",
        ")"
      ],
      "metadata": {
        "id": "tHXR1at_Ie-l"
      },
      "id": "tHXR1at_Ie-l",
      "execution_count": 11,
      "outputs": []
    },
    {
      "cell_type": "code",
      "source": [
        "custom_dataset = feedback_dataset.push_to_argilla(name=\"itu-annotate-custom-dataset\", workspace=\"admin\")\n"
      ],
      "metadata": {
        "colab": {
          "base_uri": "https://localhost:8080/"
        },
        "id": "a9gFhyb4EAeT",
        "outputId": "89976b71-cac5-4b12-9433-daf3d4d0cce4"
      },
      "id": "a9gFhyb4EAeT",
      "execution_count": 30,
      "outputs": [
        {
          "output_type": "stream",
          "name": "stderr",
          "text": [
            "INFO:argilla.client.feedback.dataset.local.mixins:✓ Dataset succesfully pushed to Argilla\n",
            "INFO:argilla.client.feedback.dataset.local.mixins:RemoteFeedbackDataset(\n",
            "   id=47ee36b9-61f0-444c-b707-70bfad333c2f\n",
            "   name=itu-annotate-custom-dataset\n",
            "   workspace=Workspace(id=6196e1fe-7cc5-4ef4-b608-d98a8bc8fbc8, name=admin, inserted_at=2024-01-02 14:17:38.856061, updated_at=2024-01-02 14:17:38.856061)\n",
            "   url=https://vishnuramov-itu-t-build-a-thon.hf.space/dataset/47ee36b9-61f0-444c-b707-70bfad333c2f/annotation-mode\n",
            "   fields=[RemoteTextField(id=UUID('fa9deb90-82c1-464e-8ec5-412084f74328'), client=None, name='prompt', title='Prompt', required=True, type='text', use_markdown=False), RemoteTextField(id=UUID('85f6721f-499f-4664-a4a9-acb97cf05d56'), client=None, name='context', title='Context', required=True, type='text', use_markdown=False), RemoteTextField(id=UUID('a768130f-2dff-4e8f-bbfd-7557a60330aa'), client=None, name='response', title='Response', required=True, type='text', use_markdown=False)]\n",
            "   questions=[RemoteTextQuestion(id=UUID('e3c3337b-b396-4194-867f-a2bdac1968fb'), client=None, name='answer_correction', title='Answer_correction', description=None, required=True, type='text', use_markdown=False)]\n",
            "   guidelines=Please, read the question carefully and try to answer it as accurately as possible.\n",
            "   metadata_properties=[]\n",
            ")\n"
          ]
        }
      ]
    },
    {
      "cell_type": "code",
      "source": [
        "records = [\n",
        "    rg.FeedbackRecord(\n",
        "        fields={\"prompt\": record[\"prompt\"],\n",
        "                \"context\": record['context'],\n",
        "                \"response\":\"\"\n",
        "                }\n",
        "    )\n",
        "    for record in hf_dataset['train']\n",
        "    ]"
      ],
      "metadata": {
        "id": "n_lW5aAAYIZQ"
      },
      "id": "n_lW5aAAYIZQ",
      "execution_count": 31,
      "outputs": []
    },
    {
      "cell_type": "code",
      "source": [
        "for i, record in enumerate(hf_dataset['train']):\n",
        "    print(i)\n",
        "    print(record)\n",
        "    if (len(record['response'])):\n",
        "      records[i].fields['response'] = record['response'][0]['value']\n",
        "\n",
        "    #if (len(record['response'])):\n",
        "    #    fields{(\"response\"): }"
      ],
      "metadata": {
        "colab": {
          "base_uri": "https://localhost:8080/"
        },
        "id": "77wUYtAVYPH7",
        "outputId": "c8dcaaa5-27b7-4775-ea2a-23b9d2b441a9"
      },
      "id": "77wUYtAVYPH7",
      "execution_count": 32,
      "outputs": [
        {
          "output_type": "stream",
          "name": "stdout",
          "text": [
            "0\n",
            "{'prompt': 'I n t e r n a t i o n a l  T e l e c o m m u n i c a t i o n  U n i o n  \\n  \\nITU-T  Technical Specification  \\nTELECOMMUNICATION  \\nSTANDARDIZATION SECTOR  \\nOF ITU   \\n(28 October  2021 ) \\n \\nITU-T Focus Group on Autonomous Networks  \\n Technical Specification  \\nUse cases for Autonomous Networks', 'context': '/content/sample_data/Use-case-AN.pdf page number= 0', 'response': [{'user_id': '01f1f7c8-9437-450e-85aa-ace2973d8439', 'value': 'Background: ITU has published Use cases for Autonomous Networks. <human>: who publishes use cases for autonomous networks? <bot>: ITU.', 'status': 'submitted'}], 'response-suggestion': None, 'response-suggestion-metadata': {'type': None, 'score': None, 'agent': None}, 'external_id': None, 'metadata': '{}'}\n",
            "1\n",
            "{'prompt': 'Error! Reference source not found.  (2021 -10)  i Summary  \\nThis is a deliverable of the ITU -T Focus Group on Autonomous Networks (FG -AN).  \\nThis document analyses use cases for autonomous networks. It provides use case descriptions and \\nindicates the basic set of possible requirements for each use case. The use cases are divided into \\ncategories, priorities are indicated, and actor -interaction d iagrams are added.  \\n \\nKeywords  \\nArtificial Intelligence, autonomous networks, components, machine learning, requirements, use \\ncases  \\n \\nContributors:  Abhay Shanker Verma  \\nTEC, Ministry of Communications  \\nIndia  Email: as.verm a@gov.in     \\n Abhishek Dandekar  \\nFraunhofer HHI  \\nGermany  Email: abhishek.girish.dandekar@hhi -\\nextern.fraunhofer.de     \\n Abhishek Thakur  \\nInstitute for Development and Research \\nin Banking Technology (IDRBT)  \\nIndia  Email: AbhishekT@idrbt.ac.in   \\n Albert Cabellos -Aparicio  \\nBarcelona Neural Networking  \\nUniversitat Politècnica de Catalunya  \\nBarcelona, Spain  Email: alberto.cabellos@upc.edu    \\n Albert López -Brescó  \\nBarcelona Neural Networking  \\nUniversitat Politècnica de Catalunya  \\nBarcelona, Spain  Email: alopez@ac.upc.edu   \\n Alfons Mittermaier  \\nHighstreet Technologies GmbH  \\nGermany  Email: alfons.mittermaier@highstreet -\\ntechnologies.com    \\n Ammar Muthanna  \\nSPbSUT  \\nRussian Federation  Email: ammarexpress@gmail.com   \\n Andrey Kucheryavy  \\nITU-T SG11 Chairman  Email: akouch@mail.ru   \\n Ashish S Sharma  \\nFraunhofer HHI  \\nGermany  Email: \\nashish.sanjay.sharma@hhi.fraunhofer.de     \\n Bing Qian  \\nChina Telecom  \\nChina  Tel: +8618511588556  \\nEmail: qianbing@chinatelecom.cn   \\n Chi Wang  \\nMicrosoft  Email: wang.chi@microsoft.com', 'context': '/content/sample_data/Use-case-AN.pdf page number= 1', 'response': [{'user_id': '01f1f7c8-9437-450e-85aa-ace2973d8439', 'value': 'Background: ITU use case document analyses use cases for autonomous networks. It provides use case descriptions and indicates the basic set of possible requirements for each use case. The use cases are divided into categories, priorities are indicated, and actor-interaction diagrams are added. <human>: what are the contents of ITU use cases document for autonomous networks? <bot>: ITU use case document analyses use cases for autonomous networks. It provides use case descriptions and indicates the basic set of possible requirements for each use case. The use cases are divided into categories, priorities are indicated, and actor-interaction diagrams are added. ', 'status': 'submitted'}], 'response-suggestion': None, 'response-suggestion-metadata': {'type': None, 'score': None, 'agent': None}, 'external_id': None, 'metadata': '{}'}\n",
            "2\n",
            "{'prompt': 'Error! Reference source not found.  (2021 -10)  ii  Cleverson Veloso NAHUM  \\nFederal University of Pará  \\nBrazil  Email:  cleversonahum@gmail.com    \\n Dan Xu  \\nChina Telecom  \\nChina  Tel: +86 10 5090 2570  \\nEmail: xudan6@chinatelecom.cn   \\n Gerhard Wieser  \\nFRINX  \\nSlovakia  Email: gwieser@frinx.io   \\n Gokhan Kalem  \\nTurkcell Teknoloji  \\nTurkey  Email: gokhan.kalem@turkcell.com.tr   \\n Guillaume Quintard  Email: guillaume.quintard@gmail.com    \\n Jiaxin Wei  \\nChina Unicom  \\nChina  Email: weijx29@chinaunicom.cn   \\n Jose Alcaraz Calero  \\nUniversity of the West of Scotland \\n(UWS)  \\nUnited Kingdom  Email: Jose.Alcaraz -Calero@uws.ac.uk   \\n Julius Schulz -Zander  \\nFraunhofer HHI  \\nGermany  Email:  julius.schulz -\\nzander@hhi.fraunhofer.de      \\n Khakimov Abdukodir  \\nSPbSUT  \\nRussian Federation  Email: khakimov -aa@rudn.ru   \\n \\n Laurent Ciavaglia  \\nRakuten Mobile  \\nJapan  Email: laurent.ciavaglia@rakuten.com   \\n Liya Yuan  \\nZTE Corporation  \\nChina  Email: yuan.liya@zte.com.cn   \\n Marco Gramaglia  \\nUniversity Carlos III of Madrid  \\nSpain  Email: mgramagl@it.uc3m.es   \\n \\n Michaela Blott  \\nXilinx  \\nUnited States  Email: mblott@xilinx.com   \\n Michele Polese  \\nNortheastern University  \\nUnited States  Email: m.polese@northeastern.edu   \\n Miquel Ferriol -Galmés  \\nBarcelona Neural Networking  \\nUniversitat Politècnica de Catalunya  \\nSpain  Email: mferriol@ac.upc.edu', 'context': '/content/sample_data/Use-case-AN.pdf page number= 2', 'response': [{'user_id': '01f1f7c8-9437-450e-85aa-ace2973d8439', 'value': 'Background: there are various members of ITU focus group on autonomous networks who authored the ITU use cases document. <human>: who authored the ITU use cases document for autonomous networks? <bot>: ITU use case document for autonomous networks was authored by members of ITU focus group on autonomous networks.', 'status': 'submitted'}], 'response-suggestion': None, 'response-suggestion-metadata': {'type': None, 'score': None, 'agent': None}, 'external_id': None, 'metadata': '{}'}\n",
            "3\n",
            "{'prompt': 'Error! Reference source not found.  (2021 -10)  iii  N. V. Narendra Kumar  \\nInstitute for Development and Research \\nin Banking Technology (IDRBT)  \\nIndia  Email: NVNarendra@idrbt.ac.in   \\n Nik Sultana  \\nIllinois Institute of Technology  \\nUnited States  Email: nsultana1@iit.edu    \\n Ozgur Ercetin  \\nProfessor, Electronics  Engineering   \\nSabanci University  \\nTurkey  Email: oercetin@sabanciuniv.edu     \\n Pål Hermunn Johansen  \\nVarnish Software  \\nSweden  Email: hermunn@varnish -software.com   \\n Paul Harvey  \\nRakuten Mobile  \\nJapan  Email: paul.harvey@rakuten.com  \\n Pradipta Biswas  \\nIndian Institute of Science (IISc)  \\nIndia  Email: pradipta@iisc.ac.in   \\n Qi Sun  \\nChina Mobile  \\nChina  Email: sunqiyjy@chinamobile.com   \\n Qi Wang  \\nUniversity of the West of Scotland \\n(UWS)  \\nUnited Kingdom  Email: Qi.Wang@uws.ac.uk   \\n Ranjana Sivaram  \\nTEC, Ministry of Communications  \\nIndia  Email: ranjana.sivaram@gov.in   \\n Salih Ergut  \\nOredata  \\nTurkey  Email: salih.ergut@oredata.com    \\n Shabnam Sultana  \\nHighstreet Technologies GmbH  \\nGermany  Email: shabnam.sultana@highstreet -\\ntechnologies.com    \\n Sirko Straube  \\nDFKI  \\nGermany  Email: sirko.straube@dfki.de   \\n V. Udaya Sankar  \\nSRM University -AP \\nIndia  Email: udayasankar.v@srmap.edu.in   \\n Vijay Kumar Roy  \\nTEC, Ministry of Communications  \\nIndia  Email: vk.roy@gov.in', 'context': '/content/sample_data/Use-case-AN.pdf page number= 3', 'response': [{'user_id': '01f1f7c8-9437-450e-85aa-ace2973d8439', 'value': 'Background:  ITU use cases document on autonomous networks include use cases from different countries around the world. <human>: who authored the ITU use cases document for autonomous networks? <bot>: ITU use case document for autonomous networks was authored by members of ITU focus group on autonomous networks from around the world.', 'status': 'submitted'}], 'response-suggestion': None, 'response-suggestion-metadata': {'type': None, 'score': None, 'agent': None}, 'external_id': None, 'metadata': '{}'}\n",
            "4\n",
            "{'prompt': 'Error! Reference source not found.  (2021 -10)  iv  Vishnu Ram O.V.  \\nIndependent Expert  \\nIndia  Email: vishnu.n@ieee.org    \\n Wei Gao  \\nChina Unicom  \\nChina  Email: gaow25@chinaunicom.cn   \\n Yongsheng Liu  \\nChina Unicom  \\nChina  Email: liuys170@chinaunicom.cn', 'context': '/content/sample_data/Use-case-AN.pdf page number= 4', 'response': [], 'response-suggestion': None, 'response-suggestion-metadata': {'type': None, 'score': None, 'agent': None}, 'external_id': None, 'metadata': '{}'}\n",
            "5\n",
            "{'prompt': 'Error! Reference source not found.  (2021 -10)  v CONTENTS  \\n Page  \\n1 SCOPE  ................................ ................................ ................................ ................................ ................................ ..... 1 \\n2 REFERENCES  ................................ ................................ ................................ ................................ ........................  1 \\n3 TERMS AND DEFINITIONS  ................................ ................................ ................................ ...............................  1 \\n3.1 TERMS DEFINED ELSEWHERE ................................ ................................ ................................ ................................ . 1 \\n3.2 TERMS DEFINED HERE  ................................ ................................ ................................ ................................ ...........  1 \\n4 ABBREVIATI ONS  ................................ ................................ ................................ ................................ .................  2 \\n5 CONVENTIONS  ................................ ................................ ................................ ................................ .....................  3 \\n6 INTRODUCTION  ................................ ................................ ................................ ................................ ...................  3 \\n7 USE CASES  ................................ ................................ ................................ ................................ .............................  4 \\n7.1 IMPORT AND EXPORT OF KNOWLEDGE FOR AUTONOMOUS NETWORK  ................................ ................................ .... 4 \\n7.2 CONFIGURING AND DRIVING SIMULATORS FROM AUTONOMOUS COMPONENTS IN THE NETWORK  .........................  6 \\n7.3 PEER-IN-LOOP (INCLUDING HUMANS )................................ ................................ ................................ ....................  8 \\n7.4 CONFIGURING AND DRIVING AUTOMATION LOOPS FROM AUTONOMOUS COMPONENTS IN THE NETWORK  .............  9 \\n7.5 DOMAIN ANALYTICS SERVICES FOR E2E  SERVICE MANAGEMENT  ................................ ................................ ....... 11 \\n7.6 AUTOMATION AND INTELLIGENT OPERATION , MAINTENANCE AND MANAGEMENT (OAM)  OF RADIO NETWORK  13 \\n7.7 INTELLIGENT ENERGY SAVING FOR DATA CENTRES  ................................ ................................ .............................  14 \\n7.8 AUTONOMOUS MASSIVE MIMO  ................................ ................................ ................................ ..........................  15 \\n7.9 NETWORK RESOURCE ALLOCATION FOR EMERGENCY MANAGEMENT BASED ON CLOSED  LOOP ANALYSIS  ..........  16 \\n7.10 INTER -DOMAIN SERVICE AUTOMATION (IDSA)  - FOR MICROFINANCE  ................................ ............................  20 \\n7.11 AUTONOMOUS VERTICAL -DRIVEN EDGE SERVICE AND MIDDLE -MILE CONNECTIVITY FOR RURAL FINANCIAL \\nINCLUSION (FI) ................................ ................................ ................................ ................................ .............................  23 \\n7.12 SIGNALLING FLOWS FOR AUTONOMOUS IMT-2020  NETWORK  ................................ ................................ ....... 26 \\n7.13 PLUG/PLAY OF NETWORK INSTANCE  ................................ ................................ ................................ ...............  27 \\n7.14 “GENERATIVE ADVERSARIAL SANDBOX ”: (OR HYBRID CLOSED LOOPS ) ................................ .........................  28 \\n7.15 OPEN, INTEGRATED , LOG ANALYSIS  ................................ ................................ ................................ ...............  29 \\n7.16 COMPOSE -ABLE , HIERARCHICAL CLOSED LOOPS  ................................ ................................ ............................  30', 'context': '/content/sample_data/Use-case-AN.pdf page number= 5', 'response': [{'user_id': '01f1f7c8-9437-450e-85aa-ace2973d8439', 'value': 'Background:  ITU use cases document includes a section per use case. <human>: what is the structure of  the ITU use cases document for autonomous networks? <bot>: ITU use cases document includes a section per use case.\\n', 'status': 'submitted'}], 'response-suggestion': None, 'response-suggestion-metadata': {'type': None, 'score': None, 'agent': None}, 'external_id': None, 'metadata': '{}'}\n",
            "6\n",
            "{'prompt': '7.16 COMPOSE -ABLE , HIERARCHICAL CLOSED LOOPS  ................................ ................................ ............................  30 \\n7.17 QUALITY OF EXPERIENCE (QOE) PREDICTION AS -A-SERVICE (QP AAS) ................................ .........................  30 \\n7.18 AUTONOMY APPLIED TO CDN S ................................ ................................ ................................ ......................  33 \\n7.19 ANALYSIS -DRIVEN EVOLUTION IN VIRTUALIZED RAN  BASED ON DEVOPS  ................................ .....................  35 \\n7.20 EVOLVING EDGE APPLICATIONS FOR VERTICALS USING PRIVATE 5G ................................ ..............................  37 \\n7.21 EXPERIMENTATION AND “FIRE-DRILLS ” FOR PUBLIC SAFETY NETWORKS  ................................ .......................  39 \\n7.22 MACHINE LEARNING FOR NETWORK AUTOMATION  ................................ ................................ ........................  40 \\n7.23 AUTONOMOUS AGENTS (WITH VARIED COMPETENCE ) IN NETWORKS  ................................ .............................  42 \\n7.24 AUTOMATED , ADAPTIVE ACCELERATION FOR AI @ EDGE  ................................ ................................ ..............  44 \\n7.25 ASSISTIVE NETWORKS : ADAPTATION OF COMMUNICATION SYSTEM BASED ON CHANGING USER ACCESSIBILITY \\nNEEDS   ................................ ................................ ................................ ................................ ................................ ....... 45 \\n7.26 EV-AS-A-SERVICE : ACHIEVING ZERO TOUCH EVOLUTION IN A DELEGATED AUTONOMY CASE  .......................  47 \\n7.27 EXPERIMENTATION AS A SERVICE : DIGITAL TWINS AS PLATFORMS FOR EXPERIMENTATION  ..........................  50 \\n7.28 EVOLUTION FROM SCENARIO -SPECIFIC , EXPLICIT -COORDINATION TO COORDINATION -FREE INTEROPERABILITY \\n(ACHIEVED USING DATA -DRIVEN APPROACHES ) ................................ ................................ ................................ ...........  52 \\n7.29 INTELLIGENT MAINTENANCE ASSISTANCE SYSTEM  ................................ ................................ .........................  54 \\n7.30 DEMAND FORECASTING AND LIVE SERVICE MIGRATION METHODS IN EDGE COMPUTING SYSTEMS  .................  57 \\n7.31 OPENCN:  AN OPEN REPOSITORY OF INTENTS FOR CONTROLLERS AND MODULES  ................................ ...........  59 \\n7.32 AI ENABLED GAME THEORY -BASED MECHANISM FOR RESOURCE ALLOCATION  ................................ ..............  61 \\n7.33 SERVICE AUTOMATION USING WORKFLOWS  ................................ ................................ ................................ ... 66 \\n7.34 DISAGGREGATION AND PLACEMENT OF IN -NETWORK PROGRAMS  ................................ ................................ .. 69 \\n7.35 A FAST AND LIGHTWEIGHT AUTO ML LIBRARY (FLAML)  ................................ ................................ ..............  71 \\n7.36 CONNECTED AI (CAI)  TESTBED : TESTBED FOR 5G CONNECTED ARTIFICIAL INTELLIGENCE ON VIRTUALIZED \\nNETWORKS ................................ ................................ ................................ ................................ ................................ .... 73 \\n7.37 NEGOTIATED BOUNDARIES IN AN FOR SEAMLESS NETWORK SHARING ................................ ...........................  75 \\n7.38 AN ENABLED END -TO-END SUPPLY CHAIN  ................................ ................................ ................................ ..... 78 \\n7.39 TOWARDS OPENNESS IN AN ................................ ................................ ................................ ...........................  80 \\n7.40 AWARENESS IN AN ................................ ................................ ................................ ................................ ........  82', 'context': '/content/sample_data/Use-case-AN.pdf page number= 6', 'response': [{'user_id': '01f1f7c8-9437-450e-85aa-ace2973d8439', 'value': 'Background:  there are 40 use cases in the ITU use cases document for autonomous networks. <human>: how many use cases are in the ITU use cases document for autonomous networks? <bot>: there are 40 use cases in the ITU use cases document for autonomous networks. ', 'status': 'submitted'}], 'response-suggestion': None, 'response-suggestion-metadata': {'type': None, 'score': None, 'agent': None}, 'external_id': None, 'metadata': '{}'}\n",
            "7\n",
            "{'prompt': '7.40 AWARENESS IN AN ................................ ................................ ................................ ................................ ........  82 \\nBIBLIOGRAPHY  ................................ ................................ ................................ ................................ ...........................  85', 'context': '/content/sample_data/Use-case-AN.pdf page number= 7', 'response': [], 'response-suggestion': None, 'response-suggestion-metadata': {'type': None, 'score': None, 'agent': None}, 'external_id': None, 'metadata': '{}'}\n",
            "8\n",
            "{'prompt': 'Error! Reference source not found.  (2021 -10)  1 Technical Specification   \\nUse cases for Autonomous Networks  \\n \\n1 Scope  \\nThis Technical Specification analyses use cases for autonomous networks. It provides use case \\ndescriptions and indicates the basic set of possible requirements for each use case. The use cases are \\ndivided into categories, priorities are indicated,  and acto r-interaction diagrams are added.  \\n2 References  \\n[ITU -T Y.3172]  ITU-T Recommendation Y.3172 (2019), Architectural framework for \\nmachine learning in future networks including IMT -2020 . \\n[ITU -T Y.3173]  ITU-T Recommendation Y.3173 (2020), Framework for evalua ting \\nintelligence levels of future networks including IMT -2020 .   \\n[ITU -T Y.3174]  ITU-T Recommendation Y.3174 (2020), Framework for data handling to \\nenable machine learning in future networks including IMT -2020 .   \\n[ITU -T Y.3176]  ITU-T Recommendation Y.3 176 (2020), Machine learning marketplace \\nintegration in future networks including IMT -2020 .   \\n[ITU -T Y.3179]  ITU-T Recommendation Y.3179 (2021), Architectural framework for \\nmachine learning model serving in future networks including IMT -2020 .   \\n3 Terms and  definitions  \\n3.1 Terms defined elsewhere  \\nThis Technical Specification  uses the following terms defined elsewhere:  \\n3.1.1 application service  [b-ITU-T X.1121] : a service like mobile banking, mobile commerce, and \\nso on.  \\n3.1.2 network service [b-ITU-T Y.3515] : a collection of network functions with a well specified \\nbehaviour.  \\n3.2 Terms defined here  \\nThis Technical Specification defines the following terms:  \\n3.2.1 autonomous network (AN) components : logical functions which work together to achieve \\nautonomous behaviour including evolution, exploration and adaption.  \\nNOTE – Examples of AN components are knowledge base and AN Sandbox. There may be other \\ncomponents enabling evolution, exploration and adaptation.  \\n3.2.2 autonomous network (AN) configuration : a set of parameters which are input to the AN, \\nwhich may control its behaviour.  \\n3.2.3  autonomous network (AN) sandbox :  an AN component which hosts simulators (which act \\nas data generators and provi de action sinks), provide data handling interfaces to real network. This \\ncomponent is based on ML Sandbox [ITU -T Y.3172], but broader to include all types of AN \\nexperimentation as against only AI/ML model testing and validation.', 'context': '/content/sample_data/Use-case-AN.pdf page number= 8', 'response': [{'user_id': '01f1f7c8-9437-450e-85aa-ace2973d8439', 'value': 'Background:  ITU Technical Specification analyses use cases for autonomous networks. It provides use case descriptions and indicates a basic set of possible requirements for each use case. The use cases are divided into categories and further details on the use cases such as priorities are indicated, and actor-interaction diagrams are added.<human>: where can I find the use case requirements for autonomous networks? <bot>: ITU Technical Specification analyses use cases for autonomous networks. It provides use case descriptions and indicates a basic set of possible requirements for each use case. <human>: what are actor-interaction diagrams? <bot>: ITU Technical Specification analyses use cases for autonomous networks. It provides use case descriptions and indicates a basic set of possible requirements for each use case. actor-interaction diagrams shows the messaging and coordination between various actors involved in a particular use case. <human>: what are the basic references for ITU use cases on autonomous networks? <bot>: ITU-T Y.3172, ITU-T Y.3173, ITU-T Y.3174, ITU-T Y.3176, ITU-T Y.3179 are the fundamental references for ITU use cases on autonomous networks. <human>: define autonomous network (AN) components? <bot>:  autonomous network (AN) components  are logical functions which work together to achieve autonomous behaviour including evolution, exploration and adaption. NOTE – Examples of AN components are knowledge base and AN Sandbox. There may be other\\ncomponents enabling evolution, exploration and adaptation.\\n<human>: define autonomous network (AN) configuration? <bot>: a set of parameters which are input to the AN,\\nwhich may control its behaviour.\\n<human>: define autonomous network (AN) sandbox? <bot>:  an AN component which hosts simulators (which act\\nas data generators and provide action sinks), provide data handling interfaces to real network. This\\ncomponent is based on ML Sandbox [ITU -T Y.3172], but broader to include all types of AN\\nexperimentation as against only AI/ML model testing and validation.\\n', 'status': 'submitted'}], 'response-suggestion': None, 'response-suggestion-metadata': {'type': None, 'score': None, 'agent': None}, 'external_id': None, 'metadata': '{}'}\n",
            "9\n",
            "{'prompt': 'Error! Reference source not found.  (2021 -10)  2 3.2.4  industry vertical a pplications : Software realization of a workflow created by application \\nservices [ITU -T X.1121], to serve their customers’ specific needs.  \\nNOTE – e.g., a set of cloud native services which implement loan management in banking industry vertical.  \\n3.2.5  indu stry vertical solution provider : a domain specific business enterprise with specific \\ncustomer needs, a part of which may need the services of an ICT network.  \\nNOTE – e.g. A bank which offers financial services to its customers and uses a 5G network to conn ect to its \\ncustomers.  \\n3.2.6  knowledge : a collection of resources that helps in solving a specific type of problem.  \\nNOTE – Examples of resources are description of a problem along with the description of corresponding \\npotential solutions to that type of problem. The descriptions may be in the form of standard metadata. \\nResources may include possible causes of the problem, corresponding solutions and their advantages, \\ndisadvantages and optimization approaches etc. Problems may have sub -problems e.g., QoE p roblems may \\nhave sub -problems including coverage problems and/or interference problems.  \\n3.2.7  knowledge base: a logical collection of knowledge that are related in a specific manner.  \\nNOTE – Examples of logical collection are grouping of knowledge resource s with labels specifying their \\ncommon relationship, graph of knowledge resources with edges representing the relationships, etc. \\nKnowledge base may be used to solve problems in a particular domain such as access networks or core \\nnetworks, etc.  \\n4 Abbreviation s \\nAI Artificial Intelligence  \\nAN Autonomous Networks  \\nCI/CD  continuous integration and continuous delivery  \\nCN Controller  \\nER Emergency Response  \\nGNN  Graph Neural Networks  \\nGUI Graphical User Interface  \\nIDSA  Inter -domain Service Automation  \\nKB Knowledge Base  \\nKPI Key Performance Indicator  \\nLCM  Life Cycle Management  \\nMIMO  Multiple Input Multiple Output  \\nML Machine Learning  \\nMLFO  Machine Learning Function Orchestrator  \\nmMTC  Massive Machine Type Communications  \\nMNO  Mobile Network Operator  \\nNF Network Function  \\nOSS Operational Support S ystem  \\nnRT RIC  Near Real Time RIC  \\nQoE Quality of Experience', 'context': '/content/sample_data/Use-case-AN.pdf page number= 9', 'response': [{'user_id': '01f1f7c8-9437-450e-85aa-ace2973d8439', 'value': '<human>: define industry vertical applications? <bot>:  Software realization of a workflow created by application\\nservices [ITU -T X.1121], to serve their customers’ specific needs.\\nNOTE – e.g., a set of cloud native services which implement loan management in banking industry vertical.\\n<human>: define industry vertical solution provider? <bot>:  a domain specific business enterprise with specific\\ncustomer needs, a part of which may need the services of an ICT network.\\nNOTE – e.g. A bank which offers financial services to its customers and uses a 5G network to connect to its customers.\\n<human>: define knowledge? <bot>:  a collection of resources that helps in solving a specific type of problem.\\nNOTE – Examples of resources are description of a problem along with the description of corresponding\\npotential solutions to that type of problem. The descriptions may be in the form of standard metadata.\\nResources may include possible causes of the problem, corresponding solutions and their advantages,\\ndisadvantages and optimization approaches etc. Problems may have sub -problems e.g., QoE problems may\\nhave sub-problems including coverage problems and/or interference problems.\\n<human>: define knowledge base? <bot>:  a logical collection of knowledge that are related in a specific manner.\\nNOTE – Examples of logical collection are grouping of knowledge resources with labels specifying their\\ncommon relationship, graph of knowledge resources with edges representing the relationships, etc.\\nKnowledge base may be used to solve problems in a particular domain such as access networks or core.\\n', 'status': 'submitted'}], 'response-suggestion': None, 'response-suggestion-metadata': {'type': None, 'score': None, 'agent': None}, 'external_id': None, 'metadata': '{}'}\n",
            "10\n",
            "{'prompt': 'Error! Reference source not found.  (2021 -10)  3 QoS Quality of Service  \\nQPaaS  Quality of Experience (QoE) Prediction as -a-Service  \\nRAN  Radio Access Network  \\nRIC RAN intelligent Controller  \\nRSRP  Reference Signal Received Power  \\nSINR  signal -to-interference -plus-noise ratio  \\nSLA  Service Level Agreement  \\nTOSCA  Topology and Orchestration Specification for Cloud Applications  \\nURLLC  Ultra -reliable low -latency communication  \\nZSM  Zero Touch Service Management  \\n5 Conventions  \\nIn this Technical Specification, in alignment with the conventions of [Supplement 55 to ITU -T Y-\\nseries Recommendations] possible requirements which are derived from a given use case, are \\nclassified as follows:  \\nThe keywords \"it is critical\" indicate a poss ible requirement which would be necessary to be \\nfulfilled (e.g., by an implementation) and enabled to provide the benefits of the use case.  \\nThe keywords \"it is expected\" indicate a possible requirement which would be important but not \\nabsolutely necessary  to be fulfilled (e.g., by an implementation). Thus, this possible requirement \\nwould not need to be enabled to provide complete benefits of the use case.  \\nThe keywords \"it is of added value\" indicate a possible requirement which would be optional to be \\nfulfilled (e.g., by an implementation), without implying any sense of importance regarding its \\nfulfilment. Thus, this possible requirement would not need to be enabled to provide complete \\nbenefits of the use case.  \\n6 Introduction  \\nAs the demand and expectation of communication networks has grown, so have user subscription \\nand new service expectation. Network operators must find new ways to address these pressures \\nwhile at the same time controlling operational cost. Autonomous networks are those that possess the \\nability to monitor, operate, recover, heal, protect, optimize, and reconfigure themselves; these are \\ncommonly known as the self -* properties. The impact of autonomy on the network will be in all \\nareas including planning, security, audit, inventory, optimis ation, orchestration, and quality of \\nexperience. In this context, the main concepts studied by FG AN are exploratory evolution, real -\\ntime responsive experimentation and dynamic adaptation.   \\nUse cases studied in this document are based on contributions and discussions with domain experts \\nor mentors. There are various types of use cases including those which are directly describing \\nvarious autonomous behaviours and those which describe the applications which benefit from them. \\nCollation of u se cases included specific effort to study the impacts to the key concepts under study \\nin the FG  AN. Effort was made to derive requirements and further to classify the requirements. A \\nrelation to the architecture is provided in the form of guidance to comp onents derived from the use \\ncases.  \\nThe main learnings from this use case analysis are:  \\n• while the use cases for AN are quite varied and requires support from domain experts, a \\ncommon refrain has been the application of the key concepts mentioned above.  \\n• use case analysis may need to be continued as the field is still evolving.', 'context': '/content/sample_data/Use-case-AN.pdf page number= 10', 'response': [], 'response-suggestion': None, 'response-suggestion-metadata': {'type': None, 'score': None, 'agent': None}, 'external_id': None, 'metadata': '{}'}\n",
            "11\n",
            "{'prompt': 'Error! Reference source not found.  (2021 -10)  4 • derivation of architecture concepts and proof of concepts from the use cases is important.  \\n7 Use cases  \\n7.1 Import and export of knowledge for autonomous network  \\nUse case id  FG-AN-usecase -001 \\nUse case name  Use of knowledge in autonomous network  \\nBase contribution  [FGAN -I-12-R1] \\nCreation date  21/January/2021  \\nUse case context  Discussions during ITU webinar on autonomous networks (3 November 2020)  \\nUse case description  To satisfy the key concepts of autonomous networks (evolution, experimentation \\nand adaptation) while minimizing human intervention requires knowledge. This \\nknowledge may include representation of data about the environment in which the \\nautonomous system is operating, possibl e actions and consequences, key \\nconfiguration options, potential parameter indices and other types of logic. This use \\ncase concerns use of knowledge in the actors in the AN.  \\nFollowing are related steps in this use case scenario:  \\n1. Knowledge is imported from outside or peer entities of autonomous network \\ncomponents  \\n2. Knowledge is referred internally in autonomous network components e.g. for \\ndriving evolution, driving exploration, configuration of automation loops etc.  \\n3. Generate report for human cons umption  \\n4. Knowledge is stored and updated within the autonomous network components  \\n5. Knowledge is exported from autonomous network components to outside or \\npeer entities.  \\n \\nOpen issues  - Representation mechanisms and transfer protocols for knowledge.  \\n- Capabilities of knowledge base (KB) component that allows storage, query, export, \\nimport and modification of knowledge using standard mechanisms is under study.  \\n- reference points and interfaces between AN and KB is yet to defined.  \\nUse case category  Cat 1 : describes a scenario related to core autonomous behaviour itself.   \\nReference  • [b-Clark], [b -AN2020], [b -Jimenez -Ruiz], [b -Myklebust ], [b-Turing]  \\n7.1.1 Use case requirements  \\nCritical requirements  \\n● AN-UC01-REQ -001: It is critical that AN enable exchange of knowledge between the various \\ncomponents in the AN implementing the various key AN functionalities like evolution, exploration \\nand adaptation.  \\n● AN-UC01-REQ -002: It is critical that AN enable optimization of knowledge bases.  \\nNOTE – Examples of optimizations applied on the knowledge bases are access policies, granularity of \\nstorage, interconnection between various knowledge bases and relation between problems and solutions, \\naddition of new knowl edge.  \\n● AN-UC01-REQ -003: It is critical that AN enable creation of reports on the use of knowledge \\nbases, for consumption of humans and machines.  \\nNOTE – Example of contents of reports are metrics on access by various components in the AN, other \\nnetwork ser vices in and outside its administrative domains.  \\n● AN-UC01-REQ -004: It is critical that AN enable exchange of knowledge between various \\ncomponents in the AN, and other network services in the same administrative domain.', 'context': '/content/sample_data/Use-case-AN.pdf page number= 11', 'response': [], 'response-suggestion': None, 'response-suggestion-metadata': {'type': None, 'score': None, 'agent': None}, 'external_id': None, 'metadata': '{}'}\n",
            "12\n",
            "{'prompt': 'Error! Reference source not found.  (2021 -10)  5 ● AN-UC01-REQ -005: It is critical th at AN use knowledge base for mapping high level use \\ncase description to controller description.  \\nNOTE – Controller description may use languages such as TOSCA, whereas use case descriptions may be \\nunstructured. The high -level use case description is to be c onverted to a structured controller specification, \\nalso known as Intent, by AN orchestrator. In this process of “conversion”, it may utilize the help of humans \\n(using GUIs) who can better understand unstructured information, and/or auto -controller generato rs. \\nExpected requirements  \\n● AN-UC01-REQ -006: It is expected that AN enable exchange of knowledge between various \\ncomponents in the AN, and entities in other administrative domains.  \\nNOTE – Examples of entities in other administrative domains are network ser vices which are not \\nimplementing AN functionalities.  \\nAdded value requirements  \\n● AN-UC01-REQ -007: it is of added value that AN use Auto -controller generators that are \\nfunctions which generate controller specifications, using the existing repository in openC N, the \\nknowledge base and an analytics function aided by AI/ML e.g., GNN, recommendation engine.  \\n \\n7.1.2 Use case specific figures  \\n \\nNOTE 1 – multiple AN components (1  … n) may be present in the system.  \\nFigure 1: actor interaction for Use of knowledge in autonomous network', 'context': '/content/sample_data/Use-case-AN.pdf page number= 12', 'response': [], 'response-suggestion': None, 'response-suggestion-metadata': {'type': None, 'score': None, 'agent': None}, 'external_id': None, 'metadata': '{}'}\n",
            "13\n",
            "{'prompt': 'Error! Reference source not found.  (2021 -10)  6 NOTE 2 – actor interaction captured in this figure may not reflect the strict time sequence of activities .  \\n7.2 Configuring and driving simulators from autonomous components in the network  \\nUse case id  FG-AN-usecase -002 \\nUse case name  Configuring and driving simulators from autonomous components in the network  \\nBase contribution  [FGAN -I-12-R1] \\nCreation date  21/January/2021  \\nUse case context  Discussions during ITU workshop on autonomous networks, discussions during \\nreview of ITU SG 13 work item on Sandbox, discussions during ITU AI/ML in 5G \\nChallenge 2020.  \\nUse case description  To explore and experiment with various scenarios in autonomous behaviour, the \\nautonomous network component requires access to simulators. Simulators help \\nevaluate the outcome of possible options without potential adverse fallouts in the \\nreal network. Long te rm study of simulation results is common by human \\nresearchers to understand the evolutionary needs of the network too.  In this respect, \\nautonomous network components need to interface with, configure and drive the \\ndifferent simulators.   \\nFollowing are rel ated steps in this use case scenario:  \\n1. Autonomous network components decide the scenarios for exploration and \\nexperimentation.  \\n2. Autonomous network components interact with the Sandbox to configure \\nspecific simulators which can perform the required experimentation.  \\n3. Sandbox monitors the simulators and reports the completion of simulations.  \\n4. The results are analysed by Autonomous network components and further \\nactions (like updating knowledge base) are taken.  \\n \\nOpen issues  1. Are simulators encapsulated in Sandbox? Or are they open to direct interface \\nfrom autonomous network components?  \\n2. There are heterogeneous simulators and uniform interface with simulators do \\nnot exist. This makes their interface and configuration non -standard and difficult  \\nto implement.  \\n3. Additional scenarios like addition of new simulation capabilities, flagging of \\nnew requirement for simulation etc. need to be handled.  \\nUse case category  Cat 1: describes a scenario related to core autonomous behaviour itself.   \\nReference  [b-Y.ML -IMT2020 -SANDBOX]  \\n7.2.1 Use case requirements  \\nCritical requirements  Figure 2: Component cloud for Use of knowledge in autonomous network', 'context': '/content/sample_data/Use-case-AN.pdf page number= 13', 'response': [], 'response-suggestion': None, 'response-suggestion-metadata': {'type': None, 'score': None, 'agent': None}, 'external_id': None, 'metadata': '{}'}\n",
            "14\n",
            "{'prompt': 'Error! Reference source not found.  (2021 -10)  7 ● AN-UC02-REQ -001: It is critical that AN components arrive at potential scenarios for \\nexploration and experimentation.  \\nNOTE – AN components may independently arrive at different scenar ios for exploration and \\nexperimentation based on several factors like the functionalities they implement, current status of their \\nknowledge, etc. e.g., exploration strategies for access control may be based on game theory approaches or \\ncombinatorial optimization approaches.  \\n● AN-UC02-REQ -002: It is critical that autonomous networks (AN) components trigger \\nexperimentation in AN Sandbox.  \\nNOTE – AN compone nts may independently trigger experimentation by configuring simulators in the AN \\nSandbox.   \\n● AN-UC02-REQ -003: It is critical that autonomous networks (AN) Sandbox collate, aggregate \\ntriggers for experimentation to form a coherent, experimentation pipelin e, the execution of which is \\nmonitored and reported by AN Sandbox to AN components.  \\n● AN-UC02-REQ -004: It is critical that autonomous networks (AN) components analyse the \\nreports from the AN sandbox while considering the steps in AN behaviour.  \\nNOTE – the steps in AN behaviour which depends on the analysis of reports from AN sandbox includes \\nsteps in evolution and update of knowledge  \\n7.2.2 Use case specific figures  \\n \\nFigure 3: actor interaction for Configuring and driving simulators from autonomous components in \\nthe network', 'context': '/content/sample_data/Use-case-AN.pdf page number= 14', 'response': [], 'response-suggestion': None, 'response-suggestion-metadata': {'type': None, 'score': None, 'agent': None}, 'external_id': None, 'metadata': '{}'}\n",
            "15\n",
            "{'prompt': 'Error! Reference source not found.  (2021 -10)  8  \\nFigure 4: Component cloud for Configuring and driving simulators from autonomous components \\nin the network  \\n7.3 Peer -in-loop (including humans)  \\nUse case id  FG-AN-usecase -003 \\nUse case name  Peer-in-loop (including humans)  \\nBase contribution  [FGAN -I-12-R1] \\nCreation date  21/January/2021  \\nUse case context  Discussions during ITU workshop on autonomous networks, discussions during \\nreview of ITU SG 13 work item on MLFO, discussions during ITU AI/ML in 5G \\nChallenge 2020.  \\nUse case description  To guide the autonomous behaviour autonomous network component requires \\naccess to peers. Peers include humans and other autonomous entities. Exchange of \\ninformation with peers help in taking better decisions. In this respect, autonomous \\nnetwork components need to interface with, exchange information with various \\nother autonomous network components and humans.   \\n \\nFollowing are related steps in this use case scenario:  \\n1. Autonomous network components decide to take guidance from other \\nautonomous entities (peers like humans).  \\n2. A message exchange with the peer is initiated.  \\n3. The results of the exchange are analysed by Autonomous network components \\nand further actions (like updating knowledge base) are taken.  \\n \\nOpen issues  1. Are some peers more equal than others (e.g. humans)?  \\n2. What are the messages exchanged? e.g. request for comments? report on status? \\ncapability exchange?  \\nUse case category  Cat 1: describes a scenario related to core autonomous behaviour itself.   \\nReference  [b-Y.ML -IMT2020 -MLFO]  \\n7.3.1 Use case requirements  \\nCritical requirements  \\n● AN-UC03-REQ -001: It is critical that autonomous networks (AN) components enable \\nsynchronous or asynchronous, interoperable exchange of feedback or information from peers \\nregarding the dec isions and choices related to AN behaviour.  \\nNOTE 1 – Peers may include humans and machines. Feedback may include exchange of information \\nregarding AN behaviour such as evolution, experimentation and adaptation. Contents of the information', 'context': '/content/sample_data/Use-case-AN.pdf page number= 15', 'response': [], 'response-suggestion': None, 'response-suggestion-metadata': {'type': None, 'score': None, 'agent': None}, 'external_id': None, 'metadata': '{}'}\n",
            "16\n",
            "{'prompt': 'Error! Reference source not found.  (2021 -10)  9 exchanged may include capabilities and status of components i n the AN e.g., knowledge base, orchestration, \\nsimulators, etc.  \\nNOTE 2 – Format of information exchange is for future study.  \\n7.3.2 Use case specific figures  \\n \\nFigure 5: actor interaction for Peer -in-loop (including humans)  \\n \\nFigure 6: Component cloud for Peer -in-loop (including humans)  \\n7.4 Configuring and driving automation loops from autonomous components in the network  \\nUse case id  FG-AN-usecase -004 \\nUse case name  Configuring and driving automation loops from autonomous components in the \\nnetwork  \\nBase contribution  [FGAN -I-12-R1] \\nCreation date  21/January/2021  \\nUse case context  Inspired by discussions on “demand mapping” during Y.3173 and discussions \\nduring ITU AI/ML in 5G Challenge 2020.  \\nUse case description  There are different automation loops in various domains of the network, already \\nproposed by different standards bodies and industry bodies. To reflect the decisions \\nof autonomous behaviour in the network, the autonomous network component \\nrequires access to  automation loops. Automation loops help implement the decisions \\ntaken by the autonomous component in the network. Moreover, it is possible that', 'context': '/content/sample_data/Use-case-AN.pdf page number= 16', 'response': [], 'response-suggestion': None, 'response-suggestion-metadata': {'type': None, 'score': None, 'agent': None}, 'external_id': None, 'metadata': '{}'}\n",
            "17\n",
            "{'prompt': 'Error! Reference source not found.  (2021 -10)  10 automation loops provide valuable inputs for autonomous components to be \\nconsidered for say further experimenta tion.   \\n \\nIn this respect, autonomous network components need to interface with, configure \\nand drive the different automation loops.   \\n \\nFollowing are related steps in this use case scenario:  \\n1. Autonomous network components decide the configurations of automat ion \\nloops.  \\n2. Autonomous network components interact with the automation loops to \\nconfigure specific scenarios which can perform the required automation.  \\n3. Automation loops monitor the automation and reports the status of automation.  \\n4. The results are analysed by  Autonomous network components and further \\nactions (like updating knowledge base) are taken.  \\nNOTE - Please see [ML5G -I-221] for an example of “influencing analytics service” \\nfor E2E service management. Question -8 discussed the possibility for ZSM \\nframework consumer to select and provision the type of ML model to be used for \\ndomain specific analytics in ZSM scope.  \\nOpen issues  1. Where are the automation loops hosted? Are they open to direct interface from \\nautonomous network components?  \\n2. There are heterogeneous automation loops and uniform interface do not exist. \\nThis makes their interface and configuration non -standard and difficult to \\nimplement.  \\n3. Additional scenarios like addition of new automation capabilities, flagging of \\nnew requirement for auto mation etc. need to be handled.  \\nUse case category  Cat 1: describes a scenario related to core autonomous behaviour itself.   \\nReference  • [ITU -T Y.3173]  \\n7.4.1 Use case requirements  \\nCritical requirements  \\n● AN-UC04-REQ -001: It is critical that autonomous networks (AN) components decide the \\ntype of closed loops and manage the closed loops.  \\nNOTE – AN components may decide the type and structure of closed loops based on their analysis of \\nreports, monitoring and other information exchanges. Management of closed loops may include instantiating, \\ndeletion, updating , and other operations on closed loops.  \\n● AN-UC04-REQ -002: It is critical that autonomous networks (AN) components consider the \\ncapability and flexibility offered by closed loops to configure them to perform specific automation \\ntasks.  \\n● AN-UC04-REQ -003: It is critical that closed loops m onitor the specific parameters of \\nautomation tasks and report them to AN components.  \\nNOTE – specific parameters of automation tasks may include data input to automation, analytics used in the \\nclosed loop, actions taken as part of automation. It may also i nclude failures, error logs, etc.  \\n● AN-UC04-REQ -004: It is critical that AN components consider the reports from closed loops \\nwhile deciding the AN behaviour.  \\nNOTE – Examples of AN behaviour are evolution, experimentation and adaptation.', 'context': '/content/sample_data/Use-case-AN.pdf page number= 17', 'response': [], 'response-suggestion': None, 'response-suggestion-metadata': {'type': None, 'score': None, 'agent': None}, 'external_id': None, 'metadata': '{}'}\n",
            "18\n",
            "{'prompt': 'Error! Reference source not found.  (2021 -10)  11 7.4.2 Use case specifi c figures  \\n \\nFigure 7: actor interaction for Configuring and driving automation loops from autonomous \\ncomponents in the network  \\n \\nFigure 8: Component cloud for Configuring and driving automation loops from autonomous \\ncomponents in the network  \\n7.5 Domain analytics services for E2E service management  \\nUse case id  FG-AN-usecase -005 \\nUse case name  Domain analytics services for E2E service management  \\nBase contribution  [FGAN -I-12-R1] \\nCreation date  21/January/2021  \\nUse case context  Based on discussions with ETSI ZSM via [ML5G -I-221]', 'context': '/content/sample_data/Use-case-AN.pdf page number= 18', 'response': [], 'response-suggestion': None, 'response-suggestion-metadata': {'type': None, 'score': None, 'agent': None}, 'external_id': None, 'metadata': '{}'}\n",
            "19\n",
            "{'prompt': 'Error! Reference source not found.  (2021 -10)  12 Based on presentations on [FGAN -I-135].  \\nUse case description  Section 6.5.3.2 of [ETSI ZSM ARCH] describes the domain analytics services \\nwhich provide domain -specific in sights and generate domain -specific predictions \\nbased on data collected by domain data collection services and other data.  \\n \\nFollowing are related steps in this use case scenario:  \\n1. Autonomous network components act as a ZSM service consumer.  \\n2. ZSM provides closed loop (CL) management and other domain and cross \\ndomain services (including analytics) to AN components.  \\n3. Discovery of ZSM services is done by AN components  \\n4. ZSM service performs the E2E service management based on the interaction \\nwith autonom ous network component.  \\na. examples of interactions are: managing subscriptions, configuring \\nanalytics, request analysis results, etc. See Clause 6.5.3.2.1 of \\n[ETSI ZSM ARCH]  \\nb. Other Examples in the context of Zero Touch provisioning \\nmentioned in [FGAN -I-135].  \\nOpen issues  Open issues (refer also those discussed in [ML5G -I-221]).  \\n1. Hierarchies of CL may be deployed in other AN domains and ZSM domains. In \\nthis case interoperability of these deployments may be studied.  \\n2. how to integrate ZSM services as “service -x”? \\nUse case category  Cat 2: describes a scenario related to application of autonomous behaviour in the \\nnetwork.   \\nReference  [b-ETSI GS ZSM 002] \\n7.5.1 Use case requirements  \\nCritical requirements  \\n● AN-UC05-REQ -001: It is critical that AN support discovery and consumption of the services \\nprovided by different types of closed loop service automation frameworks.  \\nNOTE  – Examples of different types of closed loop service automation frameworks are ETSI ZSM [ETSI \\nZSM ARC H] and FRINX machine [FGAN -I-135]. Examples of actions taken by AN after the consumption \\nof services provided by closed loop service automation frameworks are managing subscriptions, configuring \\nanalytics, request analysis results, etc.  \\n7.5.2 Use case specific f igures  \\n \\nFigure 9: Component cloud for Domain analytics services for E2E service management', 'context': '/content/sample_data/Use-case-AN.pdf page number= 19', 'response': [], 'response-suggestion': None, 'response-suggestion-metadata': {'type': None, 'score': None, 'agent': None}, 'external_id': None, 'metadata': '{}'}\n",
            "20\n",
            "{'prompt': 'Error! Reference source not found.  (2021 -10)  13 7.6 Automation and intelligent operation, maintenance and management  (OAM ) of radio \\nnetwork  \\nUse case id  FG-AN-usecase -006 \\nUse case name  Automation and intelligent OAM(operation, maintenance and management) \\nof radio network  \\nBase contribution  [FGAN -I-008] \\nDescription  Background : Dynamic radio environment, network structure, user \\nbehaviour, and user distribution drive the network needs to  be monitored \\nand optimised continually. Currently, it consumes experts a lot of time and \\nlabor work to discover problems, analyze  root cause, and then formulating \\nsolutions of radio networks. Therefore, AI and big data technology is \\nnecessary to achieve f ull process automation and intelligent management of \\nwireless network.  \\nSpecifically, wireless network autonomous management  includes  real -time \\nmonitoring of data quality, quasi -real-time diagnosis of abnormal cells, root \\ncause analysis, recommended solut ions, and evaluation of processing effects.  \\n⚫ Real-time monitoring of data quality  \\nIt is needed to firstly collect real -time data from the 4/5G integrated network \\nmanagement, then compares the consistency of the number of network \\nelements from the data, and achieves data quality monitoring and warning \\nthrough the visualization panel.  \\n⚫ Quasi -real-time diagnosis of abnormal cells  \\nUsing several categories of KPI performance indicators, the ML  algorithm  \\n(e.g. OneClassSVM ) is used to diagnose network elements in t hese \\ncategories of scenarios such as residential and colleges on a daily/weekly \\nbasis, and distribute them to frontline managers according to the abnormal \\nprobability.  \\n⚫ Root cause analysis and recommended solutions  \\nThrough collecting tens of thousands of expert experiences, and radio \\nnetwork knowledge bases have been established through knowledge graphs \\nto develop intelligent recommendation algorithms and search engines, and to \\ndirectly  provide reasons and recommend solutions of each abnormal  \\nnetwork element to first -line experts, thus reducing troubleshooting time and \\nerror rate.  \\n⚫ Evaluation of processing effects  \\nThrough a mature evaluation system, the effectiveness of the solution to \\neach abnormal problem is evaluated after the implementation, and then the \\nknowledge base and recommendation algorithm are optimized, and the \\nintelligence level of the entire process is continuously improved.  \\nCategory   Category 1 - Use case for autonomous behaviour  \\nReference  None  \\n7.6.1 Use case requireme nts \\nCritical requirements  \\n● AN-UC06-REQ -001: It is critical that autonomous networks enable discovery of problems in \\nunderlay networks, analysis of root cause, and formulation of solutions.', 'context': '/content/sample_data/Use-case-AN.pdf page number= 20', 'response': [], 'response-suggestion': None, 'response-suggestion-metadata': {'type': None, 'score': None, 'agent': None}, 'external_id': None, 'metadata': '{}'}\n",
            "21\n",
            "{'prompt': 'Error! Reference source not found.  (2021 -10)  14 NOTE  – Wireless network autonomous management may include real -time monitoring of data quality, \\nquasi -real-time diagnosis of abnormal cells, root cause analysis, recommended solutions, and evaluation of \\nprocessing effects.  \\n● AN-UC06-REQ -002: It is critical that AN enables data quality and monitoring and \\nvisualization.  \\nNOTE  – Data quality may need real -time monitoring, evaluation with respect to openKB, and reporting may \\nbe done using an online GUI or a report to human. Data quality may be u seful to analytics services.  \\n● AN-UC06-REQ -003: It is critical that AN enables capturing and using the knowledge from \\ndomain experts and AI/ML mechanisms for recommendation of solution for root cause analysis.  \\nNOTE  – Example of representation formats for knowledge is knowledge graphs.  \\nExpected requirements  \\n● AN-UC06-REQ -004: It is expected that AN uses AI and big data technology to achieve full \\nprocess automation and intelligent management of wireless network.  \\nAdded value require ments  \\n● AN-UC06-REQ -005: It is of added value that a varying set of KPIs are monitored to identify \\nfaults.  \\n● AN-UC06-REQ -006: It is of added value that AN solutions may be monitored optimized and \\ncontinuously improved (themselves).  \\nNOTE  – e.g. the OpenKB and recommendation algorithms may be optimized.  \\n7.6.2 Use case specific figures  \\nNone . \\n7.7 Intelligent energy saving for data centres  \\nUse case id  FG-AN-usecase -007 \\nUse case name  Intelligent Energy Saving for Data Centers  \\nBase contribution  [FGAN -I-008] \\nDescription  Background : The rapid growth of mobile Internet, cloud computing and \\nother business drives the need of large -scale data centers. Data centers \\nconsume large amounts of energy to run and maintain their cooling system \\nand facilities, servers and o ther devices. Traditional methods cannot \\nefficiently reduce the energy costs of data centers. Therefore, AI \\nmechanisms are introduced to analyze the monitoring data and adjust the \\nconfigurations automatically.  \\nIntelligent energy saving solution include a s eries of autonomous behaviour, \\nsuch as automatic data acquisition, AI-based energy consumption modelling \\nand inference, facilities parameters control policies decision, facilities \\nadjustment actions implementation, energy saving result evaluation and \\ncontr ol policies continuous optimization.  \\nCategory   Category 2 - Application of autonomous behaviour  \\nReference  None  \\n7.7.1 Use case requirements  \\nCritical requirements', 'context': '/content/sample_data/Use-case-AN.pdf page number= 21', 'response': [], 'response-suggestion': None, 'response-suggestion-metadata': {'type': None, 'score': None, 'agent': None}, 'external_id': None, 'metadata': '{}'}\n",
            "22\n",
            "{'prompt': 'Error! Reference source not found.  (2021 -10)  15 ● AN-UC07-REQ -001: It is critical that autonomous networks (AN) support data acquisition, \\nrepresentation, analysis of collected data and adaptation of configurations in underlays such as data \\ncenters.  \\nNOTE  – Data acquisition and data representations may use industry stand ards. Analysis may use ML \\ntechniques. Adaptations may use underlay specific APIs. Adaptations may be arrived at using controllers or \\nworkflows or closed loops . \\nExpected requirements  \\n● AN-UC07-REQ -002: It is expected that autonomous networks (AN) support re presentation, \\nautonomous analysis and continuous optimization of policies.  \\nNOTE  – Policies may be related to domain specific workflows and decisions e.g. energy usage in data \\ncenters.  \\n7.7.2 Use case specific figures  \\nNone.  \\n7.8 Autonomous massive MIMO  \\nUse case id  FG-AN-usecase -008 \\nUse case name  Autonomous Massive MIMO  \\nBase contribution  FGAN -I-30 \\nCreation date  27/January/2021  \\nUse case context   \\nUse case description  Massive MIMO is a key technology in 5G, which can effectively improve the \\nvertical coverage and system capacity in complex scenarios by using large -\\nscale antenna array and three -dimensional beam -forming.  \\nCompared with traditional antenna, there are more d imensions of parameters \\nto adjust for massive MIMO large -scale antenna array, including horizontal \\nlobe width, vertical lobe width, azimuth, dip angle and beam number. Each \\ndimension can be fine adjusted by setting a reasonable step size and \\ntheoretically and there may be tens of thousands possible combination of \\nantenna parameter weights in a cell. Therefore, manual optimization and \\nadjustment based on scenario/service changes can be very hard in \\nconsideration of multi -cell coordination.  \\nThe autonomous mas sive MIMO use case is about helping operators quickly \\nconverge and achieve optimal adjustment of antenna parameters with AI \\ncapabilities of multi -dimensional analysis and prediction. The general \\nworkflow is: 5G base station collects position information fr om UE and sends \\nit to the network management system, which then calculates the distribution \\nof UE and finds the optimal weight combination with ML algorithms based on \\nthe target RSRP/SINR distribution in the current scenario, so as to maximize \\nthe utilizat ion of system capacity and guarantee the user experience.  \\nOpen issues  ⚫ How to achieve a balance between coverage, communication traffic and \\nspectrum efficiency?  \\n⚫ How to ensure a satisfactory speed of parameter adjustment?  \\nUse case category  Cat 2: application of autonomous behaviour  \\nReference', 'context': '/content/sample_data/Use-case-AN.pdf page number= 22', 'response': [], 'response-suggestion': None, 'response-suggestion-metadata': {'type': None, 'score': None, 'agent': None}, 'external_id': None, 'metadata': '{}'}\n",
            "23\n",
            "{'prompt': 'Error! Reference source not found.  (2021 -10)  16 7.8.1 Use case requirements  \\nCritical requirements  \\n● AN-UC08-REQ -001: It is critical that autonomous networks (AN) support identification of \\nparameters which can be optimized, including ML parameters, based on the use case.  \\nNOTE  – Example of use case is parameter optimization for massive MIMO large -scale antenna array, \\nincluding horizontal lobe width, vertical lobe width, azimuth, dip angle and beam number.  \\n● AN-UC08-REQ -002: It is critical that autonomous networks (AN) support identification of \\ndata whi ch can be collected to analyse and infer, based on the use case.  \\nNOTE  – Examples of data are distribution of UE, the target RSRP/SINR distribution in the current scenario.  \\n● AN-UC08-REQ -003: It is critical that autonomous networks (AN) support identificat ion of \\nKPIs which need to be optimized.  \\nNOTE  – Examples of KPIs are system capacity and QoE.  \\n● AN-UC08-REQ -004: It is critical that autonomous networks (AN) support optimization of \\nKPIs in distributed deployments which require multicell coordination.  \\n7.8.2 Use case specific figures  \\nNone . \\n7.9 Network resource allocation for emergency management based on closed loop analysis  \\nUse case id  FG-AN-usecase -9 \\nUse case name  Network resource allocation for emergency management based on closed loop \\nanalysis  \\nBase contribution  FGAN -I-090-R2 \\nCreation date  22/April/2021  \\nUse case context  Discussions during [FGAN -I-055-R1], [FGAN -I-054-R1], [FGAN -I-072] \\nUse case description  Telecommunication systems are critical pillar of emergency management. A set \\nof hierarchical A I/ML based closed loops could be used to intelligently deploy \\nand manage slice for emergency responders in the affected area. A higher \\nclosed loop in the OSS can be used for detecting which area is affected by the \\nemergency and deploy a slice for emergency  responders to that area. It can then \\nset a resource arbitration policy for the lower closed loop in RAN. The lower \\nloop can use this policy to intelligently share RAN resources between the \\npublic and emergency responder slice. It can also intelligently ma nage ML \\npipelines across the edge and emergency responder devices by using split \\nAI/ML models or offloading of inference tasks from the devices to the edge.  \\nFollowing are related steps in this use case scenario:  \\n1. MNO may instruct OSS to detect certain set o f emergencies and \\nprovide connectivity to emergency responders according to predefined \\nSLA.  \\n \\nNOTE - e.g. this input may be provided using an operator intent.  \\n \\n2. OSS might deploy a closed loop to achieve this. It might collect data \\nfrom sources like network analytics data, social media scraping, input \\nfrom emergency responders etc.', 'context': '/content/sample_data/Use-case-AN.pdf page number= 23', 'response': [], 'response-suggestion': None, 'response-suggestion-metadata': {'type': None, 'score': None, 'agent': None}, 'external_id': None, 'metadata': '{}'}\n",
            "24\n",
            "{'prompt': 'Error! Reference source not found.  (2021 -10)  17 NOTE - e.g. such inputs may be provided from nRT -RICs or other \\nxNFs in the network.  \\n \\n3. OSS might use AI/ML models to detect emergency and deploy an ER \\nslice to the location. It might also create high level strategy/policy to \\nreallocate resources among the slices.  \\n \\nNOTE - e.g. such closed loops may be hosted in non -RT RIC and may \\nbe used for  predictive resource allocations to specific edge locations \\nbased on predicted needs, in turn based on detected emergency.  \\nNOTE - the policy to reallocate resources may depend, among other \\nthings, on the type of emergency e.g. a natural disaster, earth quak e, a \\nlaw and order situation, traffic accidents, etc.  \\n \\n4. RAN domain might use this high -level strategy/policy and possibly \\nother inputs from emergency responders to create a closed loop to \\narbitrate resources among RAN NSSIs.  \\n \\nNOTE - e.g. such closed loops ma y be hosted nearer to edge e.g. nRT \\nRIC. The policy input from higher loop may indicate, among other \\nthings, the different sources of data for the lower loop.  \\n \\n5. RAN domain closed loop might also decide to offload inference tasks \\nfrom ER devices to the edge or use split AI/ML model to run inference \\ntasks on edge and ER device. This decision might be taken based on \\navailable network and compute resources.  \\n \\nNOTE - e.g. some layers of the AI/ML model may be hosted in the \\nwearable devices of the emergency responde rs, which will help in say \\nlocating of persons under distress using various inputs.  \\nRelation with autonomous behavior -  \\n1. Workflows for the closed loops are independent of each other. The \\nonly interaction between closed loops is via high level intents over t he \\ninter-loop interface.  \\n2. Closed loops can create new closed loops in other network domains \\nwithout human intervention.  \\n3. Although loops are deployed in hierarchical fashion, each loop has the \\nability to evolve independently. It can use different models and ML \\npipelines as required. Each loop may move up or down the autonomy \\nlevels as defined in [ITU -T Y.3173].  \\n4. Closed loops have ability to split and provision AI/ML models to other \\nclosed loops in automated fashion.   \\n5. By making closed loops in edge domain autonomous, we also enable \\nlesser orchestration delay, better privacy and flexibility for verticals \\n(e.g., industrial campus networks).  \\n6. Higher loops can use historical knowledge available to them to \\noptimize and generalize lower loops using high -level intent. This \\nincreases efficiency of lower loops while preserving their autonomy. \\n(e.g., higher loop might know certain kind of ML models are good for \\ncyclone emergency management based on previous cyclones.)  \\n \\nNOTE: This use case might be well aligned w ith the use case “Composable, \\nhierarchical closed loops” in [FGAN -I-072] and others above.  \\nOpen issues (as seen by \\nthe proponent)  1. The \"propagation\" and \"escalation\" of intents is something which needs \\nstudy.', 'context': '/content/sample_data/Use-case-AN.pdf page number= 24', 'response': [], 'response-suggestion': None, 'response-suggestion-metadata': {'type': None, 'score': None, 'agent': None}, 'external_id': None, 'metadata': '{}'}\n",
            "25\n",
            "{'prompt': 'Error! Reference source not found.  (2021 -10)  18 2.  mixing the concept of \"declarative\" poli cies with \"top -level\" intent with the \\nconcept of (propagation/escalation) needs study.  \\n3. recursive decomposition coupled with recursive policy mapping  \\n4. The components (“nodes”) of the high -level service are decomposed into \\nmore concrete services (possib ly recursively). Declarative policies must be \\n“translated” into more concrete declarative policies on the decomposed services \\nin conjunction. – how to do this?  \\n5. By coupling “event/condition/action” control loops with TOSCA’s \\nsubstitution mapping feature,  you can make these control loops “cascading”, \\ni.e. they can propagate down from high -level abstract “intent” statements to \\nlow-level device reconfigurations, and they can escalate back up if necessary. \\nThis is an aspect of TOSCA policies that needs study.   \\nNotes on use case \\ncategory  Cat 1: describes a scenario related to core autonomous behavior itself.   \\nNotes on priority of the \\nuse case  High  \\nhas the potential to impact future network architectures and use cases.  \\nReference   [b-ETSI GS ZSM 001]  \\n7.9.1 Use case requirements  \\nCritical requirements  \\n● AN-UC09-REQ -001: it is critical that AN allow interaction between closed loops via high \\nlevel intents.  \\nNOTE – Closed loops may create new closed loops in other network domains without human intervention.  \\n● AN-UC09-REQ -002: it is critical that AN allow each loop to evolve independently, using \\ndifferent analytical, optimization mechanisms including ML models and ML pipelines as required.  \\nNOTE – Each loop may move up or down the autonomy levels  as defined in [ITU -T Y.3173]  \\n \\nExpected requirements  \\n● AN-UC09-REQ -003: it is expected that Closed loops have ability to provision or recommend  \\nAI/ML models to other closed loops in automated fashion.  \\n● AN-UC09-REQ -004: it is expected that closed loops in edge domain may be autonomous, in \\norder to enable lesser orchestration delay, better privacy and flexibility for verticals (e.g., industrial \\ncampus networks).  \\n● AN-UC09-REQ -005: it is expected that higher loops use the knowledge base available to \\nthem to optimize and generalize lower loops using high -level intent.  \\nNOTE –This increases efficiency of lower loops while preserving their autonomy. (e.g., higher loop might \\nknow certa in kind of ML models are good for cyclone emergency management based on previous cyclones.)', 'context': '/content/sample_data/Use-case-AN.pdf page number= 25', 'response': [], 'response-suggestion': None, 'response-suggestion-metadata': {'type': None, 'score': None, 'agent': None}, 'external_id': None, 'metadata': '{}'}\n",
            "26\n",
            "{'prompt': 'Error! Reference source not found.  (2021 -10)  19 7.9.2 Use case specific figures  \\n \\nFigure 10: actor interaction for Network resource allocation for emergency management based on \\nclosed loop analysis  \\nNOTE 1 – Create a high -level abstract model for closed loops, and then create declarative policies for that \\nhigh-level model that express the “intent” of creating ML pipelines. The components (“nodes”) of the high -\\nlevel service are decomposed into more concrete ser vices (possibly recursively). Declarative policies must be \\n“translated” into more concrete declarative policies on the decomposed services in conjunction. For example, \\n“non -RT” level service may impose certain closed loop requirements on a RIC that impleme nts the ML \\npipeline. “nRT” level service may impose some other closed loop requirements on a RIC that implements \\nthat ML pipeline. This recursive decomposition coupled with recursive policy mapping happens all the way \\ndown until service components can get realized on the available resources. At that point, the low -level \\ndeclarative policies must be translated somehow into imperative policies (e.g. if jitter exceeds a certain \\nthreshold, re -prioritize the traffic associated with the service).  \\nNOTE 2  – “imperative” policies that use the “event/condition/action” pattern, vs. declarative policies use a \\n“capabilities/context/constraints” pattern. Declarative policies are more suitable for top -level “intent” \\nstatements, but they need to be translated (by th e orchestrator) into corresponding “imperative” policies in \\norder to be actionable. The \"propagation\" and \"escalation\" of intents: the “event/condition/action” statements \\nare the control loops you’re referring to that make sure that service components comp ly with desired \\nbehavior at all times. By coupling “event/condition/action” control loops with TOSCA’s substitution \\nmapping feature, you can make these control loops “cascading”, i.e. they can propagate down from high -\\nlevel abstract “intent” statements to low-level device reconfigurations, and they can escalate back up if \\nnecessary.   \\nNOTE 3  – The events are generated (using notifications) by nodes in the service topology model. The \\nconditions are evaluated based on attribute values of nodes in the service t opology model. The actions are \\nperformed on the service topology model first, and then propagated to the external world (the “resources”)', 'context': '/content/sample_data/Use-case-AN.pdf page number= 26', 'response': [], 'response-suggestion': None, 'response-suggestion-metadata': {'type': None, 'score': None, 'agent': None}, 'external_id': None, 'metadata': '{}'}\n",
            "27\n",
            "{'prompt': 'Error! Reference source not found.  (2021 -10)  20 7.10 Inter -domain service automation (IDSA) - for microfinance  \\nUse case id  FG-AN-usecase -010 \\nUse case name  Inter -domain se rvice automation (IDSA) - for microfinance  \\nBase contribution  AN-I-060 \\nCreation date  29/March/2021  \\nUse case context  Discussions regarding cloud interoperability in 5G use case lab  \\nUse case description  Microfinance applications may be hosted by non -experts in 5G or any form of cloud \\n/ ICT technologies. The end -user requirements are domain -specific e.g. loan \\nmanagement, banking account/ledger management etc. The main stakeholders who \\nare enterprises (e.g.  banks) may be knowledgeable and would like to focus only in \\ntheir business workflows (as against cloud / ICT technologies). The underlying \\ncloud infrastructure (for that matter the application design) and the network \\ninfrastructure (5G, 6G, or (x+1)G) is immaterial to a bank / finance manager.  \\nHowever, from a technology perspective the following rewards are desired to be \\nreaped:  \\n1. Give the best end -user experience: e.g. reduce down -time for services, reduced \\nlatencies for services, security and data priv acy, intelligent services, by exploiting \\nthe best cloud service deployment  for the microfinance application. e.g. edge, load \\nbalancing, secure messaging across multi -cloud, hybrid -cloud, AI/ML services via \\ndistributed cloud, etc.  \\n2. Insulate the end -user f rom xG -> (x+1)G migration: by providing interoperable, \\nstandard, backward compatible networking abstraction technologies. Integrating \\nservice lifecycle management pipeline  provides agility to service development and \\ntesting.  \\n3. Mitigate the risk of increa sed integration service costs : by using open source \\ntechnologies, standards, benchmarking, automating in test beds.  \\n4. Automate: reducing human involvement  reduces training costs for banks, \\noperational costs in networks and brings other benefits like intelligent fault isolation \\nwithout depending on 3rd party service providers.  \\nNOTE - devops [ b-ISO/IEC 23167] [ b-ITU-T Y.3515], CI/CD [ b-ITU-T Y.3525] are \\nexampl es of service lifecycle management pipelines.  \\nFollowing are related steps in this use case scenario:  \\n1. Intent based cloud service specification  \\n2. processing of intent  and development, validation in Sandbox/testbed. Testbed \\ncomponents (e.g. simulators, data mod els) are selected based on intent.  \\n3. Evaluation and analysis of test results  based on key parameter indices (KPI) \\nspecifications in the intent.  \\n4. derivation of optimal configuration, cloud service deployment , management \\nand orchestration.  \\n5. intent based network service deployment , management and orchestration.  \\n6. Single “cockpit” for monitoring  the services  \\n7. Autonomous, Intelligence -guided, technology -agnostic migration  of services \\nfrom one version of underlying technology to another e.g. xG -> (x+1)G and \\nedge -> fog.  \\n8. Reports  from various parts of the underlying technologies are provided to \\nhumans in regular intervals or event based.  \\n \\nOpen issues (as seen \\nby the proponent)  1. Handling of accounting for such services is not clear.', 'context': '/content/sample_data/Use-case-AN.pdf page number= 27', 'response': [], 'response-suggestion': None, 'response-suggestion-metadata': {'type': None, 'score': None, 'agent': None}, 'external_id': None, 'metadata': '{}'}\n",
            "28\n",
            "{'prompt': 'Error! Reference source not found.  (2021 -10)  21 Notes on use case \\ncategory  Cat 2: describes a scenario related to application of autonomous behaviour in the \\nnetwork.   \\nNotes on priority of \\nthe use case  High  \\n- Enables vertical driven applications and network evolution.  \\nReference    \\n7.10.1  Use case requirements  \\nCritical requirements  \\n● AN-UC10-REQ -001: It is critical that autonomous networks (AN) consider inputs from \\nindustry vertical solution provider regarding the required service characteristics, using an intent -\\nbased mechanism, while deciding the development and deployment options for industry vert ical \\napplications and network services.  \\nNOTE  – AN can autonomously decide the best possible development and deployment option for network \\nservices which can support the verticals. This has to be based on the requirements of the applications [ITU -T \\nY.3178] . E.g. for banking applications, service characteristics may include latency on banking transactions, \\nmean time between service failures, level of privacy of each field in the customer profile, etc. Examples of \\ndeployment options may include edge, core clo ud, enterprise network, using specific hardware etc.  \\n● AN-UC10-REQ -002: It is critical that, AN abstracts the management (creation, deletion and \\nupdate) of the industry vertical applications and network services, from the industry vertical \\nsolution provide r.  \\nNOTE  – underlying domain orchestration, network specific technologies and APIs are abstracted by AN \\ntowards the industry vertical solution provider. E.g. banking applications may be hosted as web applications \\n(on popular web frameworks with or without an accompanying mobile component), enterprise applications \\n(e.g. J2EE based). They may be instantiated as cloud -native applications, may use distributed architecture \\nacross private/public clouds etc. Service management infrastructure supporting the applica tions may include \\nbrokers, workflow managers and schedulers. Irrespective of such deployment and management variance, AN \\nprovides abstracted interfaces to verticals which hides such complexities.  \\n● AN-UC10-REQ -003: It is critical that, AN validates any ch anges to the application and \\nnetwork services in a sandbox environment before applying it in the network.  \\nNOTE  – Autonomous behaviour may result in automated creation, deletion and update of applications and/or \\nnetwork services. The impact of such modified  applications and/or network services has to be studied before \\nthey are applied in the network. This may be done by using a testbed or sandbox with simulators or even a \\ndigital twin-based  environment. Specific emphasis may be applied on maintaining compati bility of the \\nmodifications with the applications and network services in the network.  \\n● AN-UC10-REQ -004: It is critical that, AN continuously monitors the application and network \\nservices in the network.  \\nNOTE  – monitoring may be done to find erroneous behaviour, faults, gaps in architecture, design, bugs, etc. \\nMonitoring may identify the gaps in end -to-end service implementations with respect to changing intents of \\nthe verticals. Thus, monitoring may also be use d to find the need for evolution in underlying network \\ndomains.  \\n● AN-UC10-REQ -005: It is critical that, AN produces regular and asynchronous reports for \\nhuman consumption.  \\nNOTE  – reports to humans may summarize all monitored values, analysis, decision poin ts and explanations \\nfor such decisions by the AN.', 'context': '/content/sample_data/Use-case-AN.pdf page number= 28', 'response': [], 'response-suggestion': None, 'response-suggestion-metadata': {'type': None, 'score': None, 'agent': None}, 'external_id': None, 'metadata': '{}'}\n",
            "29\n",
            "{'prompt': 'Error! Reference source not found.  (2021 -10)  22 Expected requirements  \\n● AN-UC10-REQ -006: It is expected that, AN provide automated triggers to service lifecycle \\nmanagement pipeline for management (creation, deletion and update) of application and network \\nservices.  \\nNOTE  1 – devops [ b-ISO/IEC TS 23167] , [b-ITU-T Y.3515], CI/CD [ b-ITU-T Y.3525] are examples of \\nservice lifecycle management pipelines.  \\nNOTE  2 – As part of management of applications, AN may analyse the gaps, faults and issues in the curre nt \\ndesign and implementation of end -to-end service. Mitigation of such issues may be triggered to the devops \\npipeline. However, the level of automation of the solution may depend on the capabilities of the devops \\npipeline.  \\n● AN-UC10-REQ -007: It is expecte d that, the AN configuration includes the set of reference \\npoints which may be used for integration into end -to-end network services and applications.  \\nNOTE  – Even though AN exposes abstracted interfaces for application management to verticals, to achieve \\nthe integration of network services, AN may use open interfaces or closed black boxes. The availability of \\nopen interfaces and corresponding components is to be made known to AN via configurations. Such \\nconfigurations may be dynamically changing based on a vailability of new components and interfaces.  \\n● AN-UC10-REQ -008: It is expected that, the AN proposes “recipes” of network services and \\napplications which may satisfy a particular intent from the vertical.  \\nNOTE  – Recipes may include a combination of exis ting application components, network service \\ncomponents, corresponding configuration options, etc.  \\n● AN-UC10-REQ -009: It is expected that, the AN is updated at runtime by the underlying \\ndomain orchestration about the supported set of reference points in th e domain, available set of \\nnetwork service and application components, which may be used for integration into end -to-end \\nnetwork services and applications.  \\nNOTE  – Runtime changes, triggered by the operator or 3rd parties, in the underlying domains are made aware \\nto the AN. Such updates may be abstracted and passed by the AN to the verticals, where relevant, for \\ninformation or policy decisions.  \\nAdded value requirements  \\n● AN-UC10-REQ -010: It is of added value that,  the AN proposes a modified “recipe” of \\nnetwork services and applications which may bridge a gap, fix a fault or solve issues in the current \\ndesign and implementation of end -to-end services.  \\nNOTE  – Modified recipe may be based on analysis of gaps, issues, or faults encountered while monitoring of \\nnetwork services and applications.', 'context': '/content/sample_data/Use-case-AN.pdf page number= 29', 'response': [], 'response-suggestion': None, 'response-suggestion-metadata': {'type': None, 'score': None, 'agent': None}, 'external_id': None, 'metadata': '{}'}\n",
            "30\n",
            "{'prompt': 'Error! Reference source not found.  (2021 -10)  23 7.10.2  Use case specific figures  \\n     \\nFigure 12: actor  interaction  for Inter -domain service automation (IDSA) - for microfinance  \\n \\n7.11 Autonomous vertical -driven edge service and middle -mile connectivity for rural \\nfinancial inclusion (FI)  \\nUse case id  FG-AN-usecase -011 \\nUse case name  Autonomous vertical -driven edge service and middle -mile connectivity for rural \\nfinancial inclusion (FI)  \\nBase contribution  AN-I-060 \\nCreation date  31/March/2021  \\nUse case context  Discussions regarding rural broadband architecture(s) and feedback from survey to \\nbanks during summer 2020  \\nFigure 10: Inter -domain service automation', 'context': '/content/sample_data/Use-case-AN.pdf page number= 30', 'response': [], 'response-suggestion': None, 'response-suggestion-metadata': {'type': None, 'score': None, 'agent': None}, 'external_id': None, 'metadata': '{}'}\n",
            "31\n",
            "{'prompt': 'Error! Reference source not found.  (2021 -10)  24 Use case description  Digital Financial Inclusion in many geographies are limited because of lack of \\nnetwork availability and low reliability of connection.  Frequently bank branches \\nhave to fall back on costly and complex connectivity through satellites. Other than \\nthe capital  and operational aspects, the bank staff also needs to handle the link \\nfailover and maintenance activities in case of issues. Furthermore, such solutions do \\nnot allow local community to utilize the network.  \\nAutonomous last hop connectivity both through 4G /5G as well as other non 3GPP \\nheterogeneous networks need to be seamlessly enabled to operate in an affordable \\nmanner. The solution is likely to provide the following benefits:  \\n1. Based on the requirements from the verticals, provide connectivity for rural  FI \\nsites independent of network providers/large -Telco.  \\n2. Allow the connectivity to be shared with local community to ensure better return \\non investments.  \\n3. Edge compute and related infrastructure can enable more compelling deployments \\nfor digital FI as well as other verticals (e.g. short term tele -commute / interviews \\netc.).  \\n4. Automate operations and security audits: reducing human involvement in \\nmaintaining and running the edge / last hop reduces training costs for banks, \\noperational costs in networks and brings other benefits like intelligent fault isolation \\nwithout depending on 3rd party service providers, continuous audit of deployed \\nsolution for security etc.  \\nFollowing are related sub -systems and associated steps in this use case scenario:  \\n1. Deploy mi cro-servers/nano -data-centres for the edge.  \\n2. Enable heterogeneous network connectivity.  \\n3. Autonomous, Intelligence -guided handling of alignment / interference / \\nmobility related challenges for various last hop approaches.  \\n4. Automate on -boarding of community u sers and community specific apps, their \\nbilling/payments etc.  \\n5. Single “cockpit” for monitoring the services and health of infra to local -bank -\\nstaff/managed -service -provider.  \\n6. Reports from various parts of the underlying technologies are provided to \\nhumans in  regular intervals or event based. This includes sharing of usage details \\nwith authorized management systems, These reports may be used for tracking \\nthe usage at a granular level, mapped to the vertical and the tracking the \\ncorresponding benefits from the infrastructure e.g. for the purpose of extending \\nsubsidies to such infrastructure.  \\n \\nOpen issues (as seen \\nby the proponent)  1. Policy framework for such an autonomous community network anchored by a \\nspecific vertical needs to be understood.  \\nNotes on use case \\ncategory  Cat 2: describes a scenario related to application of autonomous behaviour in the \\nnetwork.   \\nNotes on priority of \\nthe use case  High  \\n- Enables vertical driven applications and network evolution.  \\nReference    \\n7.11.1  Use case requirements  \\nCritical requirements  \\n● AN-UC11-REQ -001: It is critical that autonomous networks (AN) utilize heterogeneous \\nnetwork connectivity options at the edge, in the last -mile, including the commissioning,', 'context': '/content/sample_data/Use-case-AN.pdf page number= 31', 'response': [], 'response-suggestion': None, 'response-suggestion-metadata': {'type': None, 'score': None, 'agent': None}, 'external_id': None, 'metadata': '{}'}\n",
            "32\n",
            "{'prompt': 'Error! Reference source not found.  (2021 -10)  25 provisioning, configuration, integration, main tenance and optimization, in a seamless, real -time and \\neasy-to-use manner.  \\nNOTE  – Especially in rural settings the technology of choice may vary considerably depending on various \\nfactors like availability of technology, ease of deployment, low power consu mption, etc. Currently, in such \\ndeployments, it is invariably upon the industry vertical solution provider to also take on the responsibility of \\nintegrating and maintaining these varied last mile connectivity options. It is important that AN brings \\ntogethe r various such technologies under one umbrella, at the edge, to provide seamless integration and \\nmaintenance. Some of the operations in the lifecycle of the last mile connectivity may need real -time \\ninterventions, some of it may need deep domain expertise and some of it may require training – all of which \\nmay not be possible in certain rural settings.  \\n● AN-UC11-REQ -002: It is critical that autonomous networks (AN) enable sharing of the \\nvarious network connectivity options at the edge, across the community driven industry vertical \\napplications.  \\nNOTE  – With an emphasis on providing maximum connectivity and application services to the local \\ncommunity, the best available option for connectivity need to be chosen, if needed, dynamically.  \\n● AN-UC11-REQ -003: It is critical that autonomous networks (AN) enable onboarding of \\nindustry vertical applications at run -time.  \\nNOTE  – Evolution of needs in a local community may result in changing application requirements.  \\n● AN-UC11-REQ -004: It is critical that autonomous netw orks (AN) enable common, open, \\ninteroperable, adaptable mechanisms for managing end -users, based on the needs of the local \\ncommunity.  \\nNOTE  – Onboarding, billing, problem -resolutions and other end -user management functions need to be \\nagnostic, community -driven at the edge. Based on the use cases, the mechanisms for end -user management \\nhas to adapt. E.g. for low -mobility rural areas, a relevant tariff plan needs to be offered.  \\n● AN-UC11-REQ -005: It is critical that autonomous networks (AN) enable a single -window of \\nmonitoring the heterogeneous underlying technologies.  \\nNOTE  – Complexities of monitoring, administering, maintaining the complexities of the underlying \\ntechnologies need to be hidden from the industry vertical solution provider as well as the local communities.  \\n7.11.2  Use case specific figures', 'context': '/content/sample_data/Use-case-AN.pdf page number= 32', 'response': [], 'response-suggestion': None, 'response-suggestion-metadata': {'type': None, 'score': None, 'agent': None}, 'external_id': None, 'metadata': '{}'}\n",
            "33\n",
            "{'prompt': 'Error! Reference source not found.  (2021 -10)  26  \\nFigure 11: Actors in Autonomous vertical -driven edge service  \\n7.12 Signalling flows for autonomous IMT -2020 network  \\nUse case id  FG-AN-usecase -012 \\nUse case name  Signalling flows for autonomous IMT -2020 network  \\nBase contribution  AN-I-064  \\nCreation date  21 March 2021  \\nUse case context  Signalling flows between data analysis function and other network functions, to \\nachieve self -analysis and self -optimization  \\nUse case description  Data analysis function (DAF) is introduced in IMT -2020 network [ b-ITU-T \\nY.3104]. The signalling flow between DAF and other network functions(e.g. SMF, \\nPCF, NACF and AF) describes data collection and analysis result providing.  \\nThe procedure in Figure 1 is used by DAF to collect data on event (s) related to \\nSMF by invoking SmfEv entSubscription service.  \\n \\nFigure 1 Signalling flow for Data Collection from SMF  \\n1. The DAF subscribe to or unsubscribe from a (set of) Events(e.g. UE IP \\naddress, UP path change, PDU Session Establishment/ Release, and etc.) by \\ninvoking the SmfEventSubscr iption_Subscribe service operation.  \\n2. The SMF notifies the DAF (e.g. with the event report) by invoking \\nSmfEventSubscription_Notify service operation.  \\n1. SmfEventSu bscription _Subscribe /\\nSmfEventSu bscription _Unsubscribe\\n2. SmfEventSub scription _ NotifyDAF SMF', 'context': '/content/sample_data/Use-case-AN.pdf page number= 33', 'response': [], 'response-suggestion': None, 'response-suggestion-metadata': {'type': None, 'score': None, 'agent': None}, 'external_id': None, 'metadata': '{}'}\n",
            "34\n",
            "{'prompt': 'Error! Reference source not found.  (2021 -10)  27 The procedure in Figure 2 is used by NF service consumers (e.g. SMF) to request \\nanalytics information from DAF by invoking DafAnalysis_Request service.  \\n \\nFigure 2 Signalling flow for Analytics Subscribe/Unsubscribe from DAF  \\n1. SMF  subscribes to or unsubscribe from a (set of) data analytic events by \\ninvoking the DafAnalysisSubscriptions_Subscrib e service operation.  \\n-Subscription requirements of data analytic events may include:  \\n-Load information of UPF  \\n2. The DAF notifies the SMF  about analysis events by invoking \\nDafAnalysisSubscriptions _Notify service operation.  \\nUse case category  ▪ Cat 1: aut onomous behaviour in IMT -2020 network  \\nReference  • [b-Q.IMT2020 -PIAS ] \\n7.12.1  Use case requirements  \\nCritical requirements  \\n● AN-UC012-REQ -001: It is critical that autonomous networks (AN) enable flexible \\nprovisioning and subscription of analysis parameters in network functions.  \\nNOTE  – Examples of analysis parameters are events, notifications, corresponding information and event \\nhanding control lers. Network functions may dynamically provision or subscribe to controllers and \\ncorresponding parameters.  \\n7.12.2  Use case specific figures  \\nNone.  \\n7.13 Plug/play of network instance  \\nUse case id  FG-AN-usecase -013 \\nUse case name  Plug/play of network instance  \\nBase contribution  AN-I-072 \\nCreation date  13 April 2021  \\nUse case context  Discussions regarding FGAN -I-017 and deep dive  \\nUse case description  Benefits of open architecture approach include:  \\n*) reducing CAPEX through a prosperous multi -vendor ecosystem with scale \\neconomics. However, more the number of interfaces, more the effort in integration. \\nThis needs to be mitigated using automation.  \\n \\n*) Rich application space enabled using hierarchical controllers. The hierarchical  \\ncontrol loops with varying time criticalities (<10ms (at edge) < 1s (at near edge) < \\nmulti -second (at orchestrator)) were discussed in FGAN -I-017. However, \\nprovisioning of applications at various levels and corresponding coord ination with \\ncapabilities of the network functions is a challenge.  \\n1. DafAnalysisSu bscriptions _Subscribe\\n2. DafAnalysisSub scriptions _ NotifySMF DAF', 'context': '/content/sample_data/Use-case-AN.pdf page number= 34', 'response': [], 'response-suggestion': None, 'response-suggestion-metadata': {'type': None, 'score': None, 'agent': None}, 'external_id': None, 'metadata': '{}'}\n",
            "35\n",
            "{'prompt': 'Error! Reference source not found.  (2021 -10)  28  \\nIn this context, we introduce the use case “Plug/play of network instance” in open \\narchitecture.  \\nNOTE - The network instance can be network resource, network function, network \\nslice and net work services [ b-ETSI GS ZSM 001].  \\n \\nFollowing are related steps in this use case scenario:  \\n9. Addition of SRCs [ITU -T Y.3172]: network instance is plugged into the \\nnetwork. Data collection functions supported by this new SRCs are analysed.  \\n10. Bottom -up bootstrapping of infrastructure layer (using cloud orchestration), \\nnetwork as a service (NaaS, using ONAP), services layer (using service \\norchestration), based on these new SRCs.  \\nOR \\nTop down bootstrapping of apps, services, NaaS, infrastructure, based on these \\nnew SRCs.  \\n \\nOpen issues  E2E automation frameworks for composition of infrastructure, NaaS and services \\ndo not exist.  \\nUse case category  Cat 1: describes a scenario related to core autonomous behaviour itself.   \\nReference   \\n7.13.1  Use case requirements  \\nCritical requirements  \\n● AN-UC013-REQ -001: It is critical that autonomous networks (AN) enable plug and play of \\nnetwork functions in the underlay and subsequent seamless participation of such network functions \\nin the AN functions.  \\nNOTE – Examples of AN functions are creation and hosting of controllers. Plug and play may be executed \\nby manual or autonomous mechanisms.  \\n7.13.2  Use case specific figures  \\nNone.  \\n7.14 “Generative adversarial Sandbox”: (or hybrid closed loops)  \\nUse case id  FG-AN-usecase -014 \\nUse case name  “Generative adversarial Sandbox”:  (or hybrid closed loops)  \\nBase contribution  FGAN -I-017 \\nCreation date  13/Apr/2021  \\nUse case context  Discussions regarding FGAN -I-017 and deep dive  \\nUse case description  In addition to open interfaces between various RAN components, a rich ecosystem \\nof simulators is evolving. This allows implementation of various “hybrid” closed \\nloops – part of the closed loop (e.g. data generation) is implemented in simulators \\nwhereas res t of the closed loop (e.g. analysis and action) are implemented in another \\npart of the test network using real network functions (NF).  \\n \\nIn this context, we introduce the use case “Generative adversarial Sandbox: or \\nhybrid closed loops”.  \\n \\nFollowing are rel ated steps in this use case scenario:  \\n5. Based on the inputs from the NF (e.g. data from SRC) and existing closed loops, \\nsimulator configurations and capabilities are autonomously scripted.  \\n6. Hybrid closed loops are autonomously composed – with parts of the closed loop \\nin real NF and parts of it in simulators.', 'context': '/content/sample_data/Use-case-AN.pdf page number= 35', 'response': [], 'response-suggestion': None, 'response-suggestion-metadata': {'type': None, 'score': None, 'agent': None}, 'external_id': None, 'metadata': '{}'}\n",
            "36\n",
            "{'prompt': 'Error! Reference source not found.  (2021 -10)  29 7. Similar to Generative adversarial Networks, hybrid closed loops are evaluated \\nand tested using 2 -part network – one simulated and another real network \\nfunctions.  \\n8. The results are analysed and ranked.  \\nOpen issues  4. does the open interfaces extend to simulators?  \\n5. how to rank the experiments?  \\n6. data models may be different in various interfaces with simulators.  \\nUse case category  Cat 1: describes a scenario related to core autonomous behaviour itself.   \\nReferen ce   \\n7.14.1  Use case requirements  \\nCritical requirements  \\n● AN-UC014-REQ -001: It is critical that autonomous networks (AN) enable creation of hybrid \\nclosed loops with parts of the closed loops hosted in real network functions as against other parts of \\nit in simulated network functions.  \\nNOTE – Examples of parts of closed loops are  modules which generate data, modules which implement \\ndomain specific functions, modules which provide APIs for implementation of adapting decisions from \\ncontrollers . \\n● AN-UC014-REQ -002: It is critical that autonomous networks (AN) enable testing and \\nvalid ation of closed loops using the parts of hosted in simulated network functions.  \\nNOTE – Examples of such testing are robustness related test scenarios, security and vulnerability testing \\nscenarios.  \\n7.14.2  Use case specific figures  \\nNone.  \\n7.15 Open, integrated, log anal ysis \\nUse case id  FG-AN-usecase -015 \\nUse case name  Open, integrated, log analysis  \\nBase Contribution  FG AN 2nd virtual meeting  \\nCreation date  FGAN -I-017 \\nUse case context  Discussions regarding FGAN -I-017 and deep dive  \\nUse case description  Fault prediction and isolation based on log analysis is an important existing use case. \\nLogs are generally implemented in unstructured text with no standard formats. With \\na disaggregated network service implementation, correlating logs from various \\nvendors  becomes a challenge. This throws cold water on the fault prediction and \\nfault isolation algorithms based on logs.   \\n \\nIn this context, we introduce the use case “Open, integrated, log analysis”.  \\n \\nFollowing are related steps in this use case scenario:  \\n4. Collection of logs from various open interfaces and NFs  \\n5. Correlation and Analysis of the collected logs, across various open interfaces \\nand NFs.  \\n6. Identification of optimization mechanisms based on log analysis.  \\n \\nOpen issues   \\nUse case category  Cat 2: descri bes a scenario related to application of autonomous behaviour in the \\nnetwork.     \\nReference', 'context': '/content/sample_data/Use-case-AN.pdf page number= 36', 'response': [], 'response-suggestion': None, 'response-suggestion-metadata': {'type': None, 'score': None, 'agent': None}, 'external_id': None, 'metadata': '{}'}\n",
            "37\n",
            "{'prompt': 'Error! Reference source not found.  (2021 -10)  30 7.15.1  Use case requirements  \\nCritical requirements  \\n● AN-UC015-REQ -001: It is critical that autonomous networks (AN) enable correlation and \\nidentification of relevant logs, their access using open interfaces, analysis and resulting optimization \\nof network underlays to apply specific adaptations.  \\n7.15.2  Use case specific figures  \\nNone. \\n7.16 Compose -able, hierarchical closed loops  \\nUse case id  FG-AN-usecase -016 \\nUse case name  Compose -able, hierarchical closed loops  \\nBase contribution  FGAN -I-017 \\nCreation date  13/Apr/2021  \\nUse case context  Discussions regarding FGAN -I-017 and deep dive  \\nUse case description  There are different automation loops in different levels of the architecture. High \\nlevel use cases (like log -analysis based fault prediction) require access to capabilities \\nof various network instances. This in turn may be provided by multiple vendors or \\nopensource providers. Thus, provisioning and management of closed loops should \\nbe driven hierarchically.   \\nIn this context, we introduce the use case “Compose -able, hierarchical closed loops”.  \\nFollowing are related steps in this use cas e scenario:  \\n5. declarative specifications decide the high level aspects of closed loops.  \\n6. they are in turn correlated with declarative specifications for network services.  \\n7. these are in turn used to generate detailed declarative specifications for closed \\nloops in different parts of the network.  \\n8. orchestrators at various levels generate commands to provision and manage the \\nclosed loops based on these generated declarative specifications.  \\n9. the declarative specifications and/or closed loop components may be \\nstored/up dated for regeneration of closed loops at any point of time.  \\nOpen issues   \\nUse case category  Cat 1: describes a scenario related to core autonomous behaviour itself.   \\nReference   \\n7.16.1  Use case requirements  \\nCritical requirements  \\n● AN-UC016-REQ -001: It is critical that autonomous networks (AN) enable composition of \\nhierarchical closed loops using declarative specifications.  \\n● AN-UC016-REQ -002: It is critical that autonomous networks (AN) enable derivation of \\ncontrollers or closed loops at various levels of the network.  \\n● AN-UC016-REQ -003: It is critical that autonomous networks (AN) enable management of \\ndeclarative specifications of closed loops or controllers.  \\nNOTE – Management operations on declarative specifications may include creation, storage, update , delete, \\netc. \\n7.16.2  Use case specific figures  \\n7.17 Quality of Experience (QoE) Prediction as -a-Service (QPaaS)  \\nUse case id  FG-AN-usecase -017', 'context': '/content/sample_data/Use-case-AN.pdf page number= 37', 'response': [], 'response-suggestion': None, 'response-suggestion-metadata': {'type': None, 'score': None, 'agent': None}, 'external_id': None, 'metadata': '{}'}\n",
            "38\n",
            "{'prompt': 'Error! Reference source not found.  (2021 -10)  31 Use case name  Quality of Experience (QoE) Prediction as -a-Service (QPaaS)  \\nBase contribution  FGAN -I-110 \\nCreation date  16 June 2021  \\nUse case context  \"Review of academic papers on QoE Predictions.\" FGAN -I-110 \\nUse case description  Intelligent and autonomous troubleshooting is a crucial enabler for the current 5G \\nand future 6G networks.  Autonomous troubleshooting is chall enging for several \\nreasons, one of which is the availability of a wide range of applications that future \\nnetworks will support.   \\nTraditionally, the methods to gain insight into the delivered quality of service and \\nthe users\\' experience have been through controlled laboratory experiments, where \\nusers\\' opinions have been collected. The results are then reported in Mean Opinion \\nScores (MOS), corresponding to the average of users\\' views. These methods are \\noften referred to as subjective quality assess ment, and there are standardized \\nmethods for conducting them.  \\nIn this use case, an application or network service (NS) provider will use a QoE -\\nPrediction -as-a-Service (QPaaS) autonomous system to conduct and follow -up QoE \\nmeasurement and prediction.   \\nFirstly, the autonomous system will conduct subjective tests to measure the user \\nexperience from participating users.  The locations and specifications of which users \\nwill be selected and how the users\\' responses affect the QoE will depend on the \\napplication a nd will be learned by the autonomous system.  The autonomous system \\nwill also measure relevant user parameters to map user opinions and application \\nKPIs.   \\nSecondly, the autonomous system will follow applicable network KPIs and map \\nnetwork and application KPIs.   \\nThirdly, based on this mapping, the autonomous system will enable the application \\nprovider to predict the QoE of its users based on network KPIs regardless of their \\nparticipation.  The autonomous system continuously (or periodically) improve the \\nprediction accuracy by random subjective tests or user behavior analysis.  \\nRelated steps in this use case scenario are:.  \\n• Application or network service (NS) provider demands and deploys QoE \\nprediction as -a-service (QPaaS) from a third -party server.   \\no Applicat ion or NS provider provides a mechanism to collect/use \\nuser feedback  and network metrics .   \\n• Identify a method of measurement for QoE:  \\no Perform subjective tests, e.g., video streaming, two -way \\ncommunications, etc.  User opinions on a scale of 1 -5 or thumbs \\nup/down.  \\no Perform user behavior analysis, e.g., gaming, AR/VR, driver \\nassistance, etc.  In a group of gamers connected via various CSP \\n(communication service providers), if the gamers from a particular \\nCSP face delays or a specific cell site (geographic area ) is facing \\nlatency, the gaming scores and avatar -behaviour itself leave enough \\nclues on the QoE. Similarly, on AR/VR, the level of \\nengagement/interaction, or in assisted driving, the level of \\ncoordination between vehicles, can be measured.  \\n• QPaaS server, c ollects/processes network and application KPIs.  \\n• QPaaS server determines a mapping between application KPIs and \\napplication QoE metric (MoS) using (supervised) machine learning.  \\no This mapping may be used by the application server for future \\nobjective testing  of user QoE.', 'context': '/content/sample_data/Use-case-AN.pdf page number= 38', 'response': [], 'response-suggestion': None, 'response-suggestion-metadata': {'type': None, 'score': None, 'agent': None}, 'external_id': None, 'metadata': '{}'}\n",
            "39\n",
            "{'prompt': 'Error! Reference source not found.  (2021 -10)  32 • QPaaS server collects/processes relevant network service KPIs and forms a \\nmapping between network KPI and application KPI (or MoS) using \\n(supervised) machine learning.  \\no The NS provider may use this mapping for future objective testing \\nof netw ork performance given the application.  \\n• Perform periodic verification with subjective tests/user feedback, and \\nimprove learning based on the results.  \\nDue to various applications, QoE measurement and prediction is a significant issue \\nin future networks.  The network should be able to autonomously perform QoE \\nmeasurement and mapping of network KPI to QoE metrics.  \\nNOTE - as applications and network services evolve, so do their corresponding KPIs \\nand the mappings (user satisfaction parameters, to ap plication KPIs, and to network \\nKPIs). See related open issues below which handles information exchange between \\nevolving applications and NS and QPaaS.  \\nOpen issues (as seen \\nby the proponent)  • How are application KPIs provisioned in the QPaaS server? How is this done \\nfor new applications? Can we transfer knowledge gained from Sandbox in on -\\nboarding new applications and services and corresponding mappings?  \\n• How do you access relevant network KPIs?   \\n• How are network KPIs provisioned in QPaaS server? How is th is done for new \\nNS (network services)?  \\n• How do you select users to collect data from?  \\n• How do you ensure the privacy of the user and network service data?  E.g., \\nfederated learning may allow privacy for user data.  \\n• How much training data do you need to colle ct for objective QoE measurement?  \\n• Can you perform reinforcement learning to improve the QoE model?  \\n \\nNotes on use case \\ncategory  • Cat 2: describes a scenario related to the application of autonomous behavior in \\nthe network.   \\nNotes on priority of \\nthe use case  High.  \\nQoE is an essential metric for user satisfaction.  Although QoE measurement is well \\nanalyzed in the context of video st reaming, there is no general definition for a wide \\nvariety of applications.  This autonomous service will allow future application \\ndevelopers to model and track the QoE of their applications online.  QoE tracking \\nwill enable application developers to updat e network slices dynamically.  \\nReference  [b-Jahromi], [b -Pierucci ], [b-Bouraqia ], [b-Liu] \\n7.17.1  Use case requirements  \\nCritical requirements  \\n● AN-UC017-REQ -001: It is critical that autonomous networks (AN) use both subjective \\ninformation from users and QoE information derived and analysed from network services to arrive \\nat the application QoE metric.  \\nNOTE  – subjective information from users may include user opi nions and subject measures e.g. opinions on \\na scale of 1 -5 or thumbs up/down about a streamed video. Examples of QoE information derived and \\nanalysed from network services are the level of engagement/interaction in an online game, or analysis of \\ngaming sco res and avatar behaviour.  \\n● AN-UC017-REQ -002: It is critical that autonomous networks (AN) learn and update the \\nprocess of information collection from users and derivation from network services.', 'context': '/content/sample_data/Use-case-AN.pdf page number= 39', 'response': [], 'response-suggestion': None, 'response-suggestion-metadata': {'type': None, 'score': None, 'agent': None}, 'external_id': None, 'metadata': '{}'}\n",
            "40\n",
            "{'prompt': 'Error! Reference source not found.  (2021 -10)  33 NOTE  1 – For example the parameters collected, the mechanisms for collecting and the sample set for \\ncollection may be learnt and updated. Also the mapping between the application QoE metric and the \\ninformation collected from users and derived from network services may evolve over a period of analysis.  \\nNOTE  2 – the mapping between the application QoE metric and the information collected from users and \\nderived from network services may be modelled using AI/ML techniques.  \\n● AN-UC017-REQ -003: It is critical that autonomous networks (AN) evolve and update the \\nmapping between application QoE metric, network KPIs a nd application KPIs.  \\nNOTE  – the process of evolution and updation may be triggered by application feature additions, network \\nservice updates or user device updates.  \\nExpected requirements  \\n● AN-UC017-REQ -004: It is expected that autonomous networks (AN) enable the plugin of \\nQoE prediction algorithms which may be integrated based on abstract APIs exposed from AN, \\nwhich are agnostic to the type of application and the specific underlying network technology.   \\n7.17.2  Use case specific figures  \\n \\nFigure 12: actor  interaction for Quality of Experience (QoE) Prediction as -a-Service (QPaaS)  \\n7.18 Autonomy applied to CDNs  \\nUse case id  FG-AN-usecase -18  \\nUse case name  Autonomy applied to CDNs  \\nBase contribution  FGAN -I-079, FGAN -I-019 \\nCreation date  15/April/2021  \\nUse case context  Discussions regarding AN -I-019, FGAN -I-079 \\nUse case description  [AN-I-019] intro duced Autonomous content delivery networks (CDN), especially \\nlooking at a few key aspects of CDN and what makes them unique, focusing on \\nseveral of their properties and approaches we can leverage to increase their \\nautonomy.  With increasing bandwidth of ne tworks, proliferation in the connected \\ndevices, increasing demand of content (e.g. live video, cloud gaming, 360 video), \\nbuild -your-own approach to CDNs enabled by cloud services, cloud based CDNs', 'context': '/content/sample_data/Use-case-AN.pdf page number= 40', 'response': [], 'response-suggestion': None, 'response-suggestion-metadata': {'type': None, 'score': None, 'agent': None}, 'external_id': None, 'metadata': '{}'}\n",
            "41\n",
            "{'prompt': 'Error! Reference source not found.  (2021 -10)  34 are attractive but with several challenges. However caching  based on data analysis \\nremains unsolved while CDN providers struggle to provide rich content at high QoE.   \\n[AN-I-019] called out specific aspects that need programmability - routing, caching \\nand eviction. Importance of logging and metrics were called out on request/response \\nmetadata, timing information, internal logic decisions.  \\nCurrent implementations of closed loops for managing CDNs are simplistic e.g. \\nStandard auto scaling in the context of CDN, increasing the stream -per-node \\napproach by hardware beef -up (better compute, more cores, more memory, L1 \\ncache, networking including PCIe 4.0, cryptographic acceleration)  \\nThere exists an opportunity to better QoE using evolution and experimentation \\nconcepts in FG AN.  \\nThe following considerations are important to note in the context of autonomous \\nCDNs:  \\n1) metric for success: CDNs usually define their success based on whether they can \\nserve the user traffic. But this has a cyclic effect because the ability to attract traffic \\ndepends on how well CDNs process the traffic they currently have. The challenging  \\npart is the metric used to judge the CDN,  \\nexamples:  \\na) incorporating the current number of requests into the score  would be useful.  \\nb) if there is anonymised access to user quality of experience (QoE) data, how \\nfast the page loaded, it would be a useful metric.  \\nc) another option is to measure the response time from the CDN (usually \\nabridged to the hit ratio)  \\nd) include other overlays in the measurement e.g. control planes, service \\nmanagement, tiered storage design.  \\ne) going beyond auto scaling to h ealing, load balancing and edge compute, \\nconcurrency,  \\n2) adapting the possible caching strategies:  \\nMemory intensive contents require large memory in CDN.  \\na) based on the treatment of various type of content and CDN use cases in the \\ncache. e.g. live vide o that is cached for a brief period of time, VoD, live \\ntranscoding.  \\nTo reduce the time to live (TTL) to avoid keeping infrequently popular objects \\nin cache  \\nb) bypass the cache for large objects, or for certain classes of users, or particular \\nextensions  \\nc) use the disk, or explicitly forbid it  \\nd) take advantage of flexibility provided by virtual cache  \\n3) as far as open source and standards go: (decouple the components)  \\na) open -caching is pushing to provide a subset of metrics  \\nb) perhaps an opportunity to der ive “upstream” gaps in standards and lead an \\nopensource proof of concept (PoC).  \\nc) study of an open, interoperable CDN components – e.g. caching, transcoding, \\nanalytics which can help independent evolution of the CDN pipeline, while \\ntaking advantage of the  work in other bodies e.g. encode/decode, AI, graphics. \\nand hardware evolution e.g. compute/mem/network/acceleration.  \\nd) similarly, take advantage of the software deployment trajectory towards cloud \\nnative.  \\nFollowing are related steps in this use case sc enario:  \\n1. outer -loop: Represent the “QoS/QoE requirements” in an intent, deployment \\nconsiderations (e.g. hardware, cloud) are to be captured in the intent. \\nsoftware/CDN pipeline considerations are to be captured here too.', 'context': '/content/sample_data/Use-case-AN.pdf page number= 41', 'response': [], 'response-suggestion': None, 'response-suggestion-metadata': {'type': None, 'score': None, 'agent': None}, 'external_id': None, 'metadata': '{}'}\n",
            "42\n",
            "{'prompt': 'Error! Reference source not found.  (2021 -10)  35 2. based on analysis, derive the cache policy, action: auto scaling/traffic routing, \\ngeographic location (e.g. edge), decide storage configurations, APIs and \\nconcurrency mechanisms.  \\n3. experiment to determine a good combo of KPIs, data measurement, polici es, \\naction areas (e.g. scaling, positioning)  \\n4. inner -loop: Adapt the CDN and corresponding configurations based on the \\nabove, with tangible, demonstrable benefits in QoE.  \\n5. feedback to intent evolution – to step 1 above.  \\nOpen issues (as seen \\nby the prop onent)  1. Can we capture the app -specific constraints (e.g. hit ratio) in a standard fashion? \\n(for inputs to perhaps other SDOs)  \\n2. what are the traffic characteristics relevant to CDNs for 6G?  \\nNotes on use case \\ncategory  Cat 2: describes a scenario relate d to application of autonomous behaviour in the \\nnetwork.   \\n7.18.1  Use case requirements  \\nCritical requirements  \\n● AN-UC018-REQ -001: it is critical that AN enables representation of QoS/QoE requirements \\nin an intent, and additionally deployment considerations (e.g. hardware, cloud) and software/CDN \\npipeline considerations are to be captured in the intent. are to be captured here too.  \\n \\n● AN-UC018-REQ -002:  it is critical that AN enable adaptations based on analysis.  \\n  \\n● AN-UC018-REQ -003: it is critical that AN enable experiment to determine a good combo of \\nKPIs, data measurement, policies, action areas (e.g. scaling, positioning)  \\n \\n● AN-UC018-REQ -004: it is critical that AN enable the tracing of adaptations on \\nconfigurations to tangible, demonstrable benefits in QoE.  \\n \\n● AN-UC018-REQ -005: it is critical that AN enable feedback to intent evolution.  \\nNOTE  – Feedback may include parameters for representation in the intent, additional deployment \\nconsiderations, and adaptations.  \\n7.18.2  Use case specific figures  \\nNone.  \\n7.19 Analysis -driven evolution in virtualized RAN based on devops  \\nUse case id  FG-AN-usecase -19 \\nUse case name  Analysis -driven evolution in virtualized RAN based on devops  \\nBase Contribution  AN-I-072 \\nCreation date  22/April/2021  \\nUse case context  Discussions in the FG AN meeting during [AN -I-072] \\nUse case description  \\n  \\nOpen radio access network (e.g. O -RAN) a rchitectures allow disaggregated \\nevolution of RAN components. Programmability and interfaces exposed by \\nRAN components in open RANs allow developers the opportunity to create \\napplications (e.g. xApps) based on data from RAN.  \\nIn parallel, development metho dologies like devops are being applied to \\nenable rapid introduction of services to networks.   \\nAt the same time, technology evolution in the form of 6G is in progress.  \\nThis use case links the dev and ops cycle on one side to the programmability \\noffered by new RAN architectures like O -RAN.', 'context': '/content/sample_data/Use-case-AN.pdf page number= 42', 'response': [], 'response-suggestion': None, 'response-suggestion-metadata': {'type': None, 'score': None, 'agent': None}, 'external_id': None, 'metadata': '{}'}\n",
            "43\n",
            "{'prompt': 'Error! Reference source not found.  (2021 -10)  36 An analysis of RAN services and applications (e.g. data, messages, interfaces, \\nlogs, etc from xApps and rApps) can provide valuable i nformation regarding \\nsoftware evolution and technology evolution and deployment evolution.  \\n \\nFollowing are related steps in this use case scenario (with O -RAN as example \\narchitecture):  \\n1. Analysis of heterogeneous RAN components, corresponding splits, \\ncapabilities, deployment options and interfaces and data models (e.g. E2 \\nnodes and E2AP support).  \\n2. Analyse the information in the near real time RAN intelligent controller \\n(nRT RIC)  \\n3. Discover the capabilities of various RAN nodes and instantiate (potenti ally \\ncloud -native versions of ) applications (e.g. xApps) based on RIC SDKs.  \\n4. Provision and analyse the closed loops at near real time RIC.  \\n5. In correlation with the non RT RIC, analyse the devops cycle at the near \\nreal time RIC to provision new types of CNFs in the near real time RIC and \\nnew types of E2 nodes (or new capability -needs in E2 nodes).  \\n6. In the non RT RIC, analyse the devops cycles of near RT RIC, new \\ncapability needs of E2 nodes, arrive at new use cases  (e.g. what are the users \\nnot able to do with the current network and why?)  \\n \\nDescribe the relation with autonomous behaviour (if any).  \\n- this use case is related to the evolution and experimentation aspects. It \\ntakes advantage of the increased data gathered from RAN via the \\nopen interfaces and the devops style of RIC application development \\nto automate specific aspects of the evolution process.  \\nOpen issues (as seen by \\nthe proponent)  - E2AP message structure may need to be predetermined and has to be agreed \\nwith E2 node vendors.  \\n- unified RIC SDK space is needed.  \\nNotes on use case \\ncategory  Cat 1: describes a scenario related to core autonomous behaviour itself.   \\nNotes on priority of the \\nuse case  High  \\n- has the potential to impact future network architectures and use cases.  \\nReferences  • [b-DISH -AWS] , [b-ONF -auto-service]   \\n7.19.1  Use case requirements  \\nCritical requirements  \\n● AN-UC019-REQ -001: it is critical that AN enables analysis of heterogeneous RAN \\ncomponents, corresponding splits, capabilities, deployment options and interfaces and data models  \\nNOTE  – e.g. E2 nodes and E2AP support.  \\n  \\n● AN-UC019-REQ -002: it is critical that AN enables discovery of the capabilities of various \\nRAN nodes and instantiate (potentially cloud -native versions of) applications.  \\nNOTE  – Examples of applications are xApps.  \\n \\n● AN-UC019-REQ -003: it is critical that AN enables provisioning and analysis of clo sed loops \\nat near real time locations.  \\nNOTE  – near real time RIC is an example of near real time location.  \\n \\n● AN-UC019-REQ -004: it is critical that AN in correlation with the orchestrator, analyse the \\ndevops cycle at the near real time locations to provisi on new types of network functions in the near \\nreal time locations', 'context': '/content/sample_data/Use-case-AN.pdf page number= 43', 'response': [], 'response-suggestion': None, 'response-suggestion-metadata': {'type': None, 'score': None, 'agent': None}, 'external_id': None, 'metadata': '{}'}\n",
            "44\n",
            "{'prompt': 'Error! Reference source not found.  (2021 -10)  37 NOTE  – Further examples of new types of network functions are new types of E2 nodes (or new capability -\\nneeds in E2 nodes).  \\n7.19.2  Use case specific figures  \\nNone.  \\n7.20 Evolving edge applications for verticals using private 5G  \\nUse case id  FG-AN-usecase -20 \\nUse case name  Evolving Edge applications for verticals using Private 5G  \\nBase contribution  [AN-I-065] \\nCreation date  22/April/2021  \\nUse case context  Discussions during [AN-I-065] \\nUse case description  Vertical network applications like corrosion detection and intruder detection \\nneeds to be enabled at the edge using AI/ML. These applications allow : \\nInspection and surveillance  \\nservices for critical industrial infrastructu res. Multi -domain (core and edge) \\ne2e deployment of applications, on demand, is needed.  \\n5G orchestration platform allows distributed deployment of applications, \\nespecially in exploiting the capabilities at an edge environment. This allows \\nnetwork operators  to manage the unique KPIs of services at edge sites without \\nexposing the network architecture.  \\nBy providing an environment to develop and deploy edge applications, to \\nserve specific needs of verticals, network operators are able to create an \\necosystem fo r value creation, especially for domain -focussed small \\nbusinesses.  \\n \\nFollowing are related steps in this use case scenario:  \\n1. enterprises deploy private 5G network slices at edge  \\n2. the applications and KPIs are analysed at the edge  \\n3. network management and optimization approaches are triggered based on \\nthis analysis  \\n4. tailor made applications which are specifically tuned for the needs of the \\nenterprise are offered to the enterprise.  \\n \\nNOTE - this fits well with the concept of NetApps and network applicati on \\norchestrator (NAO) [AN -I-065], decoupling the network operations logic \\nfrom service provider logic and providing clear business roles.  \\n \\n6. the process facilitates experimentation and evaluation of candidate \\nsolutions.  \\n5. edge network evolution and adaptation is triggered based on the analysis.  \\n \\nDescribe the relation with autonomous behaviour (if any).  \\n- this use case is related to the evolution and experimentation aspects. It \\ntakes advantage of the increased deployment flexibility provided by \\nprivate  5G networks. edge -core information exchange is used to \\ntrigger experimentation and adaptation of the edge.  \\n- there is also an expectation of alignment with domain specific \\nexperiments and matching KPIs based on innovations in the verticals.  \\nOpen issues (as seen by \\nthe proponent)  - lack of standard mechanisms for representing and experimenting with \\ndigital twin -like mechanisms for experimenting.  \\n- lack of standards in edge -core communication for evolution and \\nadaptation.  \\n- lack of repository for domain -specific 3rd party applications which can \\nbe deployed at the edge.  \\n- lack of inputs and experts from verticals.', 'context': '/content/sample_data/Use-case-AN.pdf page number= 44', 'response': [], 'response-suggestion': None, 'response-suggestion-metadata': {'type': None, 'score': None, 'agent': None}, 'external_id': None, 'metadata': '{}'}\n",
            "45\n",
            "{'prompt': 'Error! Reference source not found.  (2021 -10)  38 Notes on use case \\ncategory  Cat 1: describes a scenario related to core autonomous behaviour itself.   \\nNotes on priority of the \\nuse case  High  \\n- has the potential to impact future service deployment at the edge  \\n- standards gaps are visible.  \\n- potential collaboration with EU projects.  \\nReferences  •  \\n7.20.1  Use case requirements  \\nCritical requirements  \\n● AN-UC020-REQ -001: It is critical that autonomous networks (AN) interface with network \\napplication orchestration platforms at edge networks to provide both local, vertical -specific, \\nincluding real time analytics as well as remote, general, including non -real time analytics .  \\nNOTE  – network application orchestration platforms may coordinate with edge analytics and edge service \\nmanagement to abstract the edge network architecture to the AN.  \\n● AN-UC020-REQ -002: It is critical that autonomous networks (AN) provide both network \\nmanagement and optimization and application management and optimization services to application \\norchestration platforms at the edge.  \\nNOTE  – while network management and optimization provides specific inputs to the edge about the network \\narchitecture, appl ication management and optimization services may provide specific inputs on placement, \\nfunctionalities and other aspects of applications.  \\nExpected requirements  \\n● AN-UC020-REQ -003: It is expected that autonomous networks (AN), provide tailor -made \\nrecipes f or application management and optimization specific to verticals deployed at the edge.  \\nNOTE  – these recipes may be the result of offline, generalized analytics at the AN. These recipes may be \\nconsidered by NAO while designing, developing and deploying applications at the edge.  \\nAdded value requirements  \\n● AN-UC020-REQ -004: It is of added value that autonomous networks (AN), consider \\nfeedback from NAO, and continuously optimize the tailor -made recipes for application \\nmanagement and optimization specific to verticals deployed at the edge.  \\nNOTE  – the feedback from NAO will not contain the details of net work architecture or user details at the \\nedge.', 'context': '/content/sample_data/Use-case-AN.pdf page number= 45', 'response': [], 'response-suggestion': None, 'response-suggestion-metadata': {'type': None, 'score': None, 'agent': None}, 'external_id': None, 'metadata': '{}'}\n",
            "46\n",
            "{'prompt': 'Error! Reference source not found.  (2021 -10)  39 7.20.2  Use case specific figures  \\n \\nFigure 13: actor  interaction for Evolving Edge applications for verticals using Private 5G  \\n7.21 Experimentation and “fire-drills” for public safety networks  \\nUse case id  FG-AN-usecase -21 \\nUse case name  Experimentation and “fire-drills” for public safety networks  \\nBase contribution  [AN-I-055-R1] \\nCreation date  22/April/2021  \\nUse case context  Discussions during [AN -I-055-R1] \\nUse case description  Emergency response and public safety needs resilient, on -demand network \\nsetup and management. This will require inputs from verticals including \\nemergency responders. Experimentation and trial runs may be mandated in \\ncertain regions.  \\nBased on th e new technologies used in evolving the networks, there are \\ndifferent ways of deploying public safety networks. To validate the readiness \\nof such networks, experiments need to be designed, even for the rare \\nscenarios. In fact for public safety networks, th e design of rare scenarios is \\nmore important than the “sunny -day” success scenarios.  \\nIt is also important that the experimentation matches step with the evolution \\nof technologies used for implementing the public safety networks.  \\n \\nFollowing are related st eps in this use case scenario:  \\n- step 0: continuous analysis of external inputs and creation of strategies for \\nexperiments (experiments are equivalent to \"fire drills\")  \\n- step 1: closed loops are formed in sandboxes, \"fire drills\" are conducted and \\nanalyse d. \\n- step-2: based on the “success” or failure of the rare scenarios, network \\noptimization may be triggered.  \\n \\nDescribe the relation with autonomous behaviour (if any).  \\n- this use case is related to the evolution and experimentation aspects. It \\napplies the principle similar to GAN for experimenting, validating the \\npreparedness of public safety networks.', 'context': '/content/sample_data/Use-case-AN.pdf page number= 46', 'response': [], 'response-suggestion': None, 'response-suggestion-metadata': {'type': None, 'score': None, 'agent': None}, 'external_id': None, 'metadata': '{}'}\n",
            "47\n",
            "{'prompt': 'Error! Reference source not found.  (2021 -10)  40 Open issues (as seen by \\nthe proponent)   \\n- need mechanisms for representing the current state of readiness of the \\nnetwork to handle emergencies.  \\n- need mechanisms for modelling and automation and validation of \\nsuch controlled experiments in the context of public safety networks  \\nNotes on use case \\ncategory  Cat 1: describes a scenario related to core autonomous behaviour itself.   \\nNotes on priority of the \\nuse case  High  \\n- addresses an important end -user scenario  \\n- potential collaboration with other groups working in the area of public \\nsafety networks.  \\nReference   \\n7.21.1  Use case requirements  \\nCritical requirements  \\n● AN-UC021-REQ -001: It is critical that autonomous networks (AN) enable continuous \\nanalysis of external inputs and creation of strategies for experiments.  \\n \\n● AN-UC021-REQ -002: It is critical that autonomous networks (AN) enable closed loops \\nformation in sandboxes, where specific tests could be c onducted and analysed on those closed \\nloops.  \\n● AN-UC021-REQ -003: It is critical that autonomous networks (AN) trigger network \\noptimizations based on the “success” or failure of the rare scenarios in sandboxes.  \\n7.21.2  Use case specific figures  \\nNone.  \\n7.22 Machine learni ng for network automation  \\nUse case id  FG-AN-usecase -22 \\nUse case name  Machine Learning for Network Automation  \\nBase contribution  AN-I-014 \\nCreation date  02/Feb/2021  \\nUse case context  Discussions regarding AN -I-014 \\nUse case description  [AN-I-014] introduced Machine Learning -enabled network automation and the \\nrequired “tailoring” of ML apps for networks.  \\n[AN-I-014] called out specific aspects that need consideration in network while \\napplying ML: requirements from each domain, specificiti es (time, data and \\nerror) of each domain. Reference architecture was discussed including a ML \\norchestration layer. Considerations on algorithm design including trade -offs \\nwere discussed.  \\nThe concept of “sub -problems” in networks and the limited role of ML  were \\ndiscussed too. The challenge in mix -match of data with ML (with respect to \\nsecurity, location, interoperability, etc) was discussed. A potentially top -down \\napproach to service optimization was discussed.   \\nFollowing are the additional considerations in this use case:  \\n1. Domain specific characteristics (called “specificities” in AN-I-14) may not be \\nknown beforehand to the solution designer, especially given the loosely coupled \\narchitecture of future networks and ML.  \\n2. In addition to domain -specificiti es, service based specificities may be \\nimportant too. Even in case of multi -domain services, specificities could be \\ncaptured per -domain, E2E, at service level. So when we add new tenants, we', 'context': '/content/sample_data/Use-case-AN.pdf page number= 47', 'response': [], 'response-suggestion': None, 'response-suggestion-metadata': {'type': None, 'score': None, 'agent': None}, 'external_id': None, 'metadata': '{}'}\n",
            "48\n",
            "{'prompt': 'Error! Reference source not found.  (2021 -10)  41 need a way to dynamically capture their specificities + the domai ns which their \\ncorresponding specificities.  \\n3. Agile dev and deployments in future networks may need dynamic discovery \\nof trade -offs per service. Considering the service life cycle as day -0 (design), \\nday-1 (deployment), day -2 (monitor), day -3 (optimization ), day -4 (re -design), \\nday-5 (evolution), feedback loops are important to enable rapid development and \\nreduce time to market for new services.  \\n4. run -time discovery of “sub -problems”  \\n \\nFollowing are related steps in this use case scenario:  \\n1. ML pipelines c onfigure policies in the network based on the network QoS \\nfeedback.  \\n2. Service metrics and related policies are provisioned in the ML pipelines \\nbased on the monitoring and analysis of errors.  \\n \\n3. service redesign and optimization is triggered based on “su b-problems” and \\n“specificities” discovered.  \\n4. network/domain specificities are tracked and similarly optimization \\nproblems are tracked. These are input to the service evolution.  \\n \\nOpen issues (as seen by \\nthe proponent)  1. Considering \"achieve optimal operation in one domain only is risky\" and \\n\"cross -tenant metrics exchange\" is needed, and considering the SA5 1:many \\nrelationship with vendors in 28.530, what are the possible feedback from the \\nCSP and CSCs? Other than the stock \"metric feedback\" a nd \"policy\" to the NF, \\nis there an orthogonal feedback to \"ev\" to \"dev\" which can potentially create new \\nNFs?  \\n2. How do we discover “sub -problems” on the fly?  \\n3. How to do dynamic discovery of trade -offs per service?  \\n4. what tools we have to “design algori thm”?  \\nNotes on use case \\ncategory  Cat 2: describes a scenario related to application of autonomous behaviour in \\nthe network.   \\nNotes on priority of the \\nuse case  High  \\n- has the potential to impact future service development and evolution.  \\n- reuses MLFO and Y.3 172 architecture.  \\nReference   \\n7.22.1  Use case requirements  \\nCritical requirements  \\n● AN-UC022-REQ -001: It is critical that autonomous networks (AN) enable, in case of multi -\\ndomain services, specificities per -domain, E2E.  \\nNOTE  – This includes a way to dynamically, autonomously capture their specificities + the domains which \\ntheir corresponding specificiti es. \\n● AN-UC022-REQ -002: it is critical that AN enable agile dev and deployments in future \\nnetworks dynamic discovery of trade -offs per service.  \\nNOTE  – Considering the service life cycle as day -0 (design), day -1 (deployment), day -2 (monitor), day -3 \\n(optimi zation), day -4 (re-design), day -5 (evolution), feedback loops are important to enable rapid development \\nand reduce time to market for new services.  \\n● AN-UC022-REQ -003. it is critical that AN enable run -time discovery of “sub -problems”.  \\n7.22.2  Use case specific fi gures  \\nNone.', 'context': '/content/sample_data/Use-case-AN.pdf page number= 48', 'response': [], 'response-suggestion': None, 'response-suggestion-metadata': {'type': None, 'score': None, 'agent': None}, 'external_id': None, 'metadata': '{}'}\n",
            "49\n",
            "{'prompt': 'Error! Reference source not found.  (2021 -10)  42 7.23 Autonomous agents (with varied competence) in networks  \\nUse case id  FG-AN-usecase -23 \\nUse case name  Autonomous agents (with varied competence) in networks  \\nBase contribution  FGAN -I-052_att  \\nCreation date  04/Mar/2021  \\nUse case context  Discussions regarding FGAN -I-052_att  \\nUse case description  [AN-I-052] introduced autonomous Systems in hostile environments. Estimation and \\njudgement of competence as key criteria for det ermining the right level of autonomy was the \\nfocus. Levels of autonomy for unmanned systems were introduced, especially ranging from \\n“sub-functions” to single functions to single system to teams. A framework for robot autonomy \\nwas discussed with correspond ing guidelines. Based on these, the characteristics for operations \\nin hostile environments were listed.  \\n[AN-I-052] called out the requirements for operations with autonomous systems. Relation \\nbetween the needed level of autonomy depending on environment a nd type of task in contrast \\nto capabilities of the system in combination with policies. Systems should provide the best \\npossible support and hence the autonomy level has to be adjusted such that humans only have \\nto intervene when it is necessary and makes sense. Due to dynamics during missions in hostile \\nenvironments, the systems have to adapt their autonomy level at run -time (or humans have to \\ndo it) according to the situation and the corresponding requirements. The existing stage levels \\nof autonomy have t o be extended by the ability of switching the level in run -time (judgement \\nby design vs. judgement in run time)  \\n \\nA simple workflow scheme for autonomy with varying autonomy levels was discussed. This \\nincluded task specification by human and task understand ing, feasibility check, task planning, \\ntask execution by system. Request for support to human and control by human can be to any of \\nthese workflow steps. Monitoring of performance levels by humans and learning by the system \\nare added steps.   \\n \\nAutonomy lev el and dependency on competence were discussed. Competence analysis as a \\nweighted function of capabilities needed, capabilities existing, existing options for actions and \\nexisting constraints was described.  \\nFollowing are the additional considerations in th is use case:  \\n1. Taking telco service design, development, deployment and operations (ops) as an example - \\nthe levels of autonomy may be applied in follows:  \\n(a) service design is done by designers (100% designer interaction, no ops interaction)  \\n(b) existi ng software development kits (SDKs) and application programming interfaces (APIs) \\nare exercised to create applications (e.g. rApps or xApps) – (high level designer interaction, \\nhigh code but low ops interaction)  \\n(c) configuration of existing or new service s in real time environments (e.g. distributed unit \\n(DU) – mid level designer interaction, high ops involvement).  \\n(d) service deployment and QoE measurement in customer premises (e.g. VoD – no code, low \\ndesigner interaction, collaborative, high ops involve ment).  \\nThus, it may be relevant to consider the nature of the task in addition to the type of environment. \\ne.g. for the ops engineers design phase is a “difficult environment” (due to low involvement) \\nand for the service designers customer premises is a “difficul t environment” (due to constraints \\nin site visits).  \\n \\nThus, it may be relevant to consider a multi -agent system where the agents have varied \\ncompetences (capabilities + options for actions + constraints).   \\n \\nFollowing are related steps in this use case sce nario:  \\n1. Problem detected in the network (e.g. video performance degradation for customers)', 'context': '/content/sample_data/Use-case-AN.pdf page number= 49', 'response': [], 'response-suggestion': None, 'response-suggestion-metadata': {'type': None, 'score': None, 'agent': None}, 'external_id': None, 'metadata': '{}'}\n",
            "50\n",
            "{'prompt': 'Error! Reference source not found.  (2021 -10)  43 - e.g. scenario: ops agents collect debug data. analysis agents with matching capabilities are \\ndeployed at the nRT RIC and triggered to analyse the data.  \\n2. fault isolation (e.g. in CU, DU, user plane, control plane)  \\n- e.g. scenario: collaborative analysis is used to pin -point the cause of failure. this may \\ninvolve multi -agent team communication to do the steps in the workflow described in AN -I-\\n052 \\n3. fault correction (e.g. parameter configuration)  \\n- e.g. scenario: may involve service upgrade or software reconfig.  \\n4. analysis of task performance by agents  \\n- e.g. scenario: collaborative analysis is used to collect data from the agents – including whe re \\nthe human interactions were needed.  \\n5. trigger creation of new agents with new capabilities.  \\n- e.g. scenario: location and capabilities are selected based on the next higher level of \\nautonomy to reduce human interaction in this scenario.  \\nOpen issues (as seen \\nby the proponent)  - need coordination of multi -agent systems to avoid conflicts.  \\n- need mechanisms for adapting autonomy based on competence at run -time and \\nflagging human (or higher level) assistance  \\n- need multi -domain orchestration to positio n the agents at various network domains.  \\n- In some cases, hardware capability adaptation may be needed which may need new \\nphysical network functions (PNF).  \\nNotes on use case \\ncategory  Cat 2: describes a scenario related to application of autonomous behaviour  in the network.   \\nNotes on priority of \\nthe use case  High  \\n- has the potential to impact future service development and evolution.  \\nReference  [b-Beyerer], [b -Hesse]  \\n7.23.1  Use case requirements  \\nCritical requirements  \\n● AN-UC023-REQ -001: It is critical that autonomous networks (AN) enable, autonomous \\nagents to collect debug data.  \\nNOTE – For example analysis agents with matching capabilities are deployed at the nRT RIC and triggered \\nto analyse the data.  \\n● AN-UC023-REQ -002: It is critical  that autonomous networks (AN) enable, fault isolation \\n(e.g. in CU, DU, user plane, control plane) using collaborative analysis is used to pin -point the \\ncause of failure.  \\nNOTE - this may involve multi -agent team communication to do the steps in the workfl ow. \\n● AN-UC023-REQ -003: It is critical that autonomous networks (AN) enable, fault correction \\n(e.g. parameter configuration) using service upgrade or software reconfig.  \\n● AN-UC023-REQ -004: It is critical that autonomous networks (AN) enable analysis of tas k \\nperformance by agents  \\nNOTE  – Collaborative analysis is used to collect data from the agents – including where the human \\ninteractions were needed.  \\n● AN-UC023-REQ -005: It is critical that autonomous networks (AN) enable creation of new \\nagents with new capa bilities.  \\nNOTE  – Example location and capabilities are selected based on the next higher level of autonomy to reduce \\nhuman interaction in this scenario.  \\n7.23.2  Use case specific figures  \\nNone.', 'context': '/content/sample_data/Use-case-AN.pdf page number= 50', 'response': [], 'response-suggestion': None, 'response-suggestion-metadata': {'type': None, 'score': None, 'agent': None}, 'external_id': None, 'metadata': '{}'}\n",
            "51\n",
            "{'prompt': 'Error! Reference source not found.  (2021 -10)  44 7.24 Automated, adaptive acceleration for AI @ edge  \\nUse case id  FG-AN-usecase -24 \\nUse case name  Automated, adaptive acceleration for AI @ edge  \\nBase contribution  FGAN -I-046 \\nCreation date  04/Mar/2021  \\nUse case context  Discussions regarding FGAN -I-046 \\nUse case description  [AN-I-046] introduced Spatial Architectures whi ch scale performance & \\nresources to meet the application requirements and Scaling to fit into available \\nresources – in the context of DNN. It also discussed that reduced precision can \\nbe highly effective to reach  \\ncommunication requirements. Spatial archite ctures can exploit custom \\narithmetic at a greater degree. Further, it discussed topologies fully co designed \\nfor hardware architecture, where the Circuit is the DNN [ b-Umuroglu ]. Adjust \\nthe parameters of DNN (=lookup table (LUT) contents) while iterating o n \\ntraining dataset until accuracy.  \\n[AN-I-046] showed results (with an example of intrusion detection) that spatial \\nprocessing, customized arithmetic and learned circuits can help scale to \\ncommunication throughput and latency requirements.  \\nI-046 also talked about [FINN -R] and Providing tool s and platforms for \\nexploration of DNN compute architectures. ML engineers can create specialized \\nhardware architectures on an FPGA with spatial architectures and custom \\nprecision.  Design and runtime software tools (e.g. FINN) for DNN to FPGA \\ndevelopment starting with training or learning reduced precision DNNs, using \\nONNX based intermediate representation, perform optimization on this \\nintermediate representation, to create a DNN hardware IP, was discussed.  \\n \\nThus, it may be relevant to consider the follow ing aspects for this specific use \\ncase:  \\n1) AI -enabled applications are increasingly being deployed at the edge. Low \\nlatency, low power consumption and small footprint are considerations for AI \\napplications at the edge. Accelerated, AI -enabled applications at the edge are \\nimportant enablers for future networks.  \\n2) As AI technology evolves, AI models evolve, the acceleration platform must \\nalso be adaptable and at the same time satisfying the requirements above. Also, \\nreduced time to market, development time and cost to reach production \\nreadiness, are important factors influencing deployment decisions by network \\noperators. fully customized circuit board is developed for each application may \\nnot fit this bill.  \\n3) pluggable solutions into a larger edge applicati on, providing both the \\nflexibility of a custom implementation with the ease -of-use and reduced time -\\nto-market of an off -the-shelf solution, are needed.  \\n4) Adaptive computing includes hardware that can be highly optimized for \\nspecific applications such as Field Programmable Gate Arrays (FPGAs). In \\naddition to FPGAs, new types of adaptive hardware such as adaptive System -\\non-Chip (SoC) which contains FPGA fabric, coupled with one or more \\nembedded CPU subsystems, have been introduced recen tly. \\n5) prebuilt platforms and APIs, software tools enable full customization of the \\nadaptive hardware, enabling even more flexibility and optimization. This can be \\nused to design highly flexible, yet efficient systems at the edge.  \\n6) exploiting the develo pment and adoption of standards in interface and \\nprotocols at the edge, different AI -enabled edge applications can use similar \\nhardware components.  \\n  \\nFollowing are related steps in this use case scenario:', 'context': '/content/sample_data/Use-case-AN.pdf page number= 51', 'response': [], 'response-suggestion': None, 'response-suggestion-metadata': {'type': None, 'score': None, 'agent': None}, 'external_id': None, 'metadata': '{}'}\n",
            "52\n",
            "{'prompt': 'Error! Reference source not found.  (2021 -10)  45 1. Given an AI/ML model layered architecture, the following considerations \\nneeds to be applied – (a) concurrency in processing of layers, (b) \\nfragmentation/buffering between layers vs. offloading of layers into compute \\n(c) precision vs. performance and energy efficiency.  \\n2. given the specific goals and co nstraints of the AI/ML model, consider the \\ntarget platform architecture and “sacrificable” precision to explore the model \\narchitecture and layer compositions.  \\n3. transformation of a AI/ML model -> intermediate representation -> \\noptimization -> hardware imp lementation -> evaluation -> back to \\ntraining/modelling.  \\n4. derive feedback for hardware adaptation  and design.  \\nOpen issues (as seen by \\nthe proponent)  - the role played by MLFO is not clear (need further study).  \\n- the intersection with Y.3179 has to be studied further.  \\n- dependencies with specific hardware architectures and specific types of \\nneural network (NN) topologies need further study.  \\n- the role played by training techniques need further study  \\n- the role played by cycle -faithful simulators like [scalesi m] has to be \\nstudied further.  \\nNotes on use case \\ncategory  Cat 2: describes a scenario related to application of autonomous behaviour in \\nthe network.   \\nNotes on priority of the \\nuse case  High  \\n- has the potential to impact AI/ML operations and optimization in \\nrelation with hardware evolution.  \\nReference  [b-Blott ], [b-Xilinx], [b-Umuroglu ], [b-SCALE -Sim]  \\n7.24.1  Use case requirements  \\nCritical requirements  \\n● AN-UC024-REQ -001: It is critical that autonomous networks (AN) enable, analysis of \\nconcurrency in processing of layers in a DNN, fragmentation/buffering between layers vs. \\noffloading of layers into compute and analysis of precision vs. performance and energy efficiency.  \\n \\n● AN-UC024-REQ -002: It is critical that autonomous networks (AN) consider the target \\nplatform architecture and “sacrificable” precision to explore the ML model architecture and layer \\ncompositions.  \\n \\n● AN-UC024-REQ -003: It is critical that autonomous networks (AN) enable transformation of \\na AI/ML model -> intermediate representation -> optimization -> hardware implementation -> \\nevaluation -> back to training/modelling.  \\n \\n● AN-UC024-REQ -004: It is critical that autonomous networks (AN) derive feedback for \\nhardware adaptation  and design.  \\n7.24.2  Use case specific figures  \\nNone.  \\n7.25 Assistive networks : Adaptation of communication system based on changing user \\naccessibility needs  \\nUse case id  FG-AN-usecase -25 \\nUse case name  Assistive networks: Adaptation of communication system based on changing user \\naccessibility needs.  \\nBase contribution  Editor, Discussions about common user profile (CUP)  \\nCreation date  10/May/2021  \\nUse case context  Discussions about common user profile (CUP)', 'context': '/content/sample_data/Use-case-AN.pdf page number= 52', 'response': [], 'response-suggestion': None, 'response-suggestion-metadata': {'type': None, 'score': None, 'agent': None}, 'external_id': None, 'metadata': '{}'}\n",
            "53\n",
            "{'prompt': 'Error! Reference source not found.  (2021 -10)  46 Use case description  \\n This contribution attempts to describe a use case where:  \\nFor both disabled and the able-bodied, as the accessibility requirements evolve, \\nadaptations need to be applied on the network, device and user profiles need to \\nalign with the changing needs of the user.  \\nThe scope of assistive technologies needs to be broadened to “assistive networ ks”. \\nAssistive networks can be thought of E2E network slices that include assistive, \\nadaptive, and rehabilitative connectivity for persons with specific needs. It also \\nincludes the automated mechanisms used in selecting, locating, using and \\ncustomizing the  networks. Assistive networks promote greater independence by \\nenabling people to connect to the devices and network more autonomously.  \\nEnvironmental models exist for surroundings but building on top of such \\nenvironment models to adapt the connectivity to t he user with specific \\nrequirements is the need of the hour.  \\nUser model and simulations are needed to provide inputs to AN.  \\nDevelopment of standard definitions are needed for application model, assistive \\nnetwork, context modelling, environmental model and c ommon user profile, \\nmetadata, simulation and virtual instance in the context of AN.  \\nIndividualization needs to be added as an important dimension of AN for future \\nnetworks.  \\nReuse of common user profile (CUP) to automate the collection, analysis and \\nadaptat ion of the network and applications is proposed here.  \\n \\nFollowing are related steps in this use case scenario:  \\n \\n1. Environment model including the network environment is built for the user.  \\ne.g. radio propagation models, signal strengths with respect areas,  mobility \\nprediction models.  \\n \\n2. User model is accessed and updated.  \\ne.g. user specific constraints, user inside a car wearing seat belt has limited \\nmobility within the car. Similarly for elderly and children, persons under \\nemergency needs.  \\n \\n3. Simulations are used (offline and/or real time) to determine the changes and \\nadaptations needed in the network to satisfy the needs of the user.  \\ne.g. digital twins which include environment simulations and user specific criteria.  \\n \\n4. Adaptations are applie d to the network and the context.  \\ne.g. drone based coverage is provided, reconfigurable intelligent surface (RIS) \\nconfigurations or beam configurations to provide better coverage.  \\n \\n5. generalizations and evolutions are studied for applicability in a larger  context.  \\ne.g. continuous update of models, transfer of model parameters across domains for \\neasy learning, evolution of network simulators and context for new encountered \\nscenarios.  \\nDescribe the relation with autonomous behaviour (if any).  \\n- this use case i s related to adding environment sensing and adaptation to \\ninclude inclusivity in the evolution and experimentation aspects. It takes \\nadvantage of the existing studies in Q11/9.  \\nOpen issues (as seen \\nby the proponent)  - standard mechanisms for capturing envir onment in the context of network \\nrequires further study.  \\n- simulations and experiments in relation to user model, specific user needs \\nand network characteristics needs further study.', 'context': '/content/sample_data/Use-case-AN.pdf page number= 53', 'response': [], 'response-suggestion': None, 'response-suggestion-metadata': {'type': None, 'score': None, 'agent': None}, 'external_id': None, 'metadata': '{}'}\n",
            "54\n",
            "{'prompt': 'Error! Reference source not found.  (2021 -10)  47 Notes on use case \\ncategory  Cat 2: describes a scenario related to application of autonomous behaviour in the \\nnetwork.   \\nNotes on priority of \\nthe use case  High  \\n- has the potential to evolve assistive future network architectures and \\nfurther enable new use cases.  \\nReferences   [b-J.acc -us-prof] , [b-Biswas] , [b-AVA -1], [b-AVA -2], [b-ISO/IEC 24756] , [b-ISO \\n9241 -129], [b-KUKA ] \\n7.25.1  Use case requirements  \\nCritical requirements  \\n● AN-UC025-REQ -001: It is critical that autonomous networks (AN) enable, creation and \\nrepresentation of environment model including the network environment for the user with assistive \\nneeds.  \\nNOTE  – e.g. radio propagation models, signal strengths with respect areas, mobility  prediction models.  \\n● AN-UC025-REQ -002: It is critical that autonomous networks (AN) enable updation of user \\nmodel.  \\nNOTE  – e.g. user specific constraints, user inside a car wearing seat belt has limited mobility within \\nthe car. Similarly for elderly and ch ildren, persons under emergency needs.  \\n● AN-UC025-REQ -003: It is critical that autonomous networks (AN) enable Simulations \\n(offline and/or real time) to determine the changes and adaptations needed in the network to satisfy \\nthe needs of the user.  \\nNOTE  – e.g. digital twins which include environment simulations and user specific criteria.  \\n● AN-UC025-REQ -004: It is critical that autonomous networks (AN) enable Adaptations \\napplied to the network and the context.  \\nNOTE  – e.g. drone based coverage is provided, rec onfigurable intelligent surface (RIS) configurations or \\nbeam configurations to provide better coverage.  \\n● AN-UC025-REQ -005: It is critical that autonomous networks (AN) enable generalizations \\nand evolutions which are studied for applicability in a larger c ontext.  \\nNOTE  – e.g. continuous update of models, transfer of model parameters across domains for easy learning, \\nevolution of network simulators and context for new encountered scenarios.  \\n7.25.2  Use case specific figures  \\nNone.  \\n7.26 Ev-as-a-service: Achieving zero touch evolution in a delegated autonomy case  \\nUse case id  FG-AN-usecase -26 \\nUse case name  Ev-as-a-service: Achieving zero touch evolution in a delegated autonomy case.  \\nCreated by  Editor  \\nMentor  Laurent Ciavaglia  \\nCreation date  10/May/2021  \\nUse case context  Discussions during and after FGAN -I-005 \\nUse case description  \\n This contribution attempts to describe a use case where:  \\n- A multi -domain architecture is assumed.  Each domain may have its \\nown orchestrator.', 'context': '/content/sample_data/Use-case-AN.pdf page number= 54', 'response': [], 'response-suggestion': None, 'response-suggestion-metadata': {'type': None, 'score': None, 'agent': None}, 'external_id': None, 'metadata': '{}'}\n",
            "55\n",
            "{'prompt': 'Error! Reference source not found.  (2021 -10)  48 NOTE - Example in FG -AN-usecase -20, NAO is mentioned. \\nMANO/NFVO is used in the NFV domain, service orchestrator may be \\nused similar to ONAP in the communication domain.   \\n- Closed loops are assumed in each domain, managed by the \\ncorresponding orchestrators.  \\n- (For the purposes of this use case), it is assumed that each closed loop \\nenables autonomous behaviour in that domain for specific use cases \\ne.g. resource scaling based on load.  \\nNOTE - The autonomous behaviour enabled by use case specific closed \\nloops and managed by domain orchestrators can be extended to any \\nnumber of management domains.  \\n- Current frameworks [ITU -T Y.3172 ], [ITU -T Y.3179 ], [b-ETSI ZSM \\n002] assume offline development and provi sioning of services which \\nform the closed loops. e.g. AI/ML model training based on data from \\nthe network, followed by model serving in the network.  \\n- This use case introduces an evolution (Ev) function which analyses the \\ninputs from the closed loops (and ot her context information in the \\ndomain orchestrator) to trigger creation of new services which can \\ncater to the evolving needs of the domains.  \\n- The triggers may be input to devops pipeline. This may result in \\ncreation of new framework services or new applica tions or new VNFs \\nor new configurations or new AI/ML models etc  \\n- These may then be tested and evaluated in an experimental setup (e.g. \\nDigital twins, Sandbox, etc) and deployed in corresponding domains \\nusing the domain orchestrators.  \\n \\nIn summary, the use ca se proposes to monitor, identify the need for ev, \\ngenerate new f() to support this need, “(re -)inject” that function through devops \\npipeline into the closed loops. Note that this may require multi -domain \\ncoordination to modify the closed loops and may be c hallenging from an \\nimplementation perspective. Implementation may depend on the capabilities \\nprovided by the underlying closed loop frameworks e.g. ZSM.  \\n \\nLevels of “mutation” of CL:  \\nThere can be a spectrum of adaptation changes to the closed loops (CL):  \\na) no adaptation at all – same input to the CL, always leads to the same output.  \\nb) limited adaptation – CL improves utility over time, so same input may not \\nlead to the same output (after improvement).  \\nc) full -fledged evolution, involving development and i njection of new \\nfunctions.  \\nThe capability of underlying closed loop frameworks may be factor in deciding \\nthe level of adaptation possible in the AN.  \\n \\nDivision of responsibility between the controller and the CL:  \\n1) “dumb” vs. “intelligent” closed loops:  dumb CL may allow full fledged re -\\nconfigurations and re -injections of functions which may allow overall mutation \\nof its functionality over time. Whereas an “intelligent” closed loop may use its \\nintelligence to limit external influence by the controller. I n any case, the \\ndomain orchestrator should know the mutation -capabilities of the CL. In case \\nof limitations encountered for adaptations, the CL (or domain orchestrator) \\nshould be able to escalate the requirement to higher domains.  \\n2) timescale of Ev has to  be agreed between the CL and the orchestrator.   \\n \\nFollowing are related (example) steps in this use case scenario:  \\n \\n1. Enterprise/vertical provides intent for application/service  \\n2. A corresponding slice is created by NAO.', 'context': '/content/sample_data/Use-case-AN.pdf page number= 55', 'response': [], 'response-suggestion': None, 'response-suggestion-metadata': {'type': None, 'score': None, 'agent': None}, 'external_id': None, 'metadata': '{}'}\n",
            "56\n",
            "{'prompt': 'Error! Reference source not found.  (2021 -10)  49 3. Corresponding resources are allocated by NFV MANO  \\n4. NSaaS may be instantiated using ONAP/SO.  \\n5. use case specific closed loops are instantiated in each domain e.g. power \\noptimization, interference management, resource utilization, self -x. \\n6. Ev as a Service is instanti ated in the zero touch framework.  \\n7. Based on the analysis of inputs from use case specific closed loops and \\ndomain orchestrators, Ev triggers configurations, updates, service instantiation, \\nnew closed loops, even new service development (using triggers to  Devops \\npipeline).  \\n8. After testing and validation, such updates are reflected in the domains and \\nuse case specific closed loops.  \\nDescribe the relation with autonomous behaviour (if any).  \\n- This use case proposes Ev -as-a-service scenario in relation to zero -\\ntouch frameworks.  \\nOpen issues (as seen by \\nthe proponent)  - interfaces between NAO and other orchestrators are to be studied.  \\n- interface with devops pipeline is not automated (as of now).  \\n- Human interaction in the process is to be studied  \\n- Whet her AI/ML services need special treatment in this process?  \\n- what supporting enablers are needed to enable Ev? How do we evaluate \\nwhether the proposed Ev meets the KPIs?  \\nNotes on use case \\ncategory  Cat 2: describes a scenario related to application of autono mous behaviour in \\nthe network.   \\nNotes on priority of the \\nuse case  High  \\n- enables integration and interaction with zero touch frameworks.  \\nReferences  [b-ETSI GS ZSM 001] , [b-ETSI GS ZSM 002] , [b-ETSI GR ZSM 009 -3], [b-\\nCiavaglia -1], [b-ETSI GS ZSM 013] , [ITU -T Y.3172] , [ITU -T Y.3179]  \\n7.26.1  Use case requirements  \\nCritical requirements  \\n● AN-UC026-REQ -001: It is critical that evolution function (Ev) in autonomous networks (AN) \\nanalyses the inputs from domain specific closed loops (and other context information in the domain \\norchestrator) to trigger management (creation, update and delete) of network services, which may in \\nturn participate in the closed loops.  \\nNOTE  – The management (creation, update and delete) of network services, over a number of iterations, \\nmay result in evolution.  \\n● AN-UC026-REQ -002: it is critical that the modifications to network services and applications \\nmay be tested and evaluated in an experimental setup and deployed in corresponding domains using \\nthe domain orchestrators.  \\nNOTE  – Examples o f experimental setups used for testing and evaluation of network services and \\napplications are Digital twins, Sandbox, etc.  \\nExpected requirements  \\n● AN-UC026-REQ -003: it is expected that management of network services or applications or \\nVNFs or configurations or AI/ML models is done at runtime in coordination with devops pipelines.  \\n● AN-UC026-REQ -004: it is expected that domain specific closed loops allow management of \\nnetwork services or applications or VNFs or configurations or AI/ML models in coordination with \\nAN components.  \\nNOTE  – There can be a spectrum of adaptation changes (levels of “mutation”) of network services:  \\na) no adaptation at all', 'context': '/content/sample_data/Use-case-AN.pdf page number= 56', 'response': [], 'response-suggestion': None, 'response-suggestion-metadata': {'type': None, 'score': None, 'agent': None}, 'external_id': None, 'metadata': '{}'}\n",
            "57\n",
            "{'prompt': 'Error! Reference source not found.  (2021 -10)  50 b) limited adaptation – improves utility over time  \\nc) full -fledged evolution, involving development and injection of new functions.  \\nThe capability of underlying closed loop frameworks may be factor in deciding the level of evolution and \\nadaptation possible in the AN.  \\n \\nAdded value requirements  \\n● AN-UC026-REQ -005: It is of added value that Ev function in autonomous networks (AN) act \\nas consumer of mutation functions provided by underlying service management frameworks and in \\nturn provides evolution service to underlying service management frameworks.  \\nNOTE  – Example of a service management framework is ETSI  ZSM [ b-ETSI GS ZSM 001].  \\n7.26.2  Use case specific figures  \\nNone.  \\n7.27 Experimentation as a service: Digital twins as platforms for experimentation  \\nUse case id  FG-AN-usecase -27 \\nUse case name  Experimentation as a service: Digital twins as platforms for experimentation.  \\nBase contribution  FGAN -I-058 \\nCreation date  10/May/2021  \\nUse case context  Discussions d uring presentation of FGAN -I-058 \\nUse case description  \\n [FGAN -I-058] described  a digital twin as a representation of a physical and/ or \\nlogical object. The contribution proposed to build Digital Twins of Computer \\nNetwork infrastructures. Some examples of the (hypothetical) questions which \\ncould be answered using digital twins were l isted as: Which is the best network \\nupgrade given a budget? Which is the best link upgrade to accommodate a new \\ncustomer? Can we support a new customer SLA with the current network \\ncapacity? etc.  \\nThe impact of digital twins in Network Planning and Upgradin g, \\nTroubleshooting and Performance Analysis, What -if Analysis were described \\nin [FGAN -I-058]. This makes digital twins a perfect environment for \\nexperimentation in the context of autonomous networks.  \\n[FGAN -I-058] took the approach of using neural networks (NN) to build digital \\ntwins. The approach using graph ne ural networks (GNN) was described. It \\ngeneralizes to unseen topologies, routings and traffics. Specific example of \\nRoutenet was described. RouteNet can generalize to unseen topologies, \\nroutings and traffic matrices.  \\nDRL+GNN looks as a promising technique for real -time network optimization \\nwas introduced in [ FGAN -I-058]. \\nAutonomous networks (AN) aim to remove the human from the control loop. \\nThis poses hard ch allenges to offer 100% guarantees once the AN products are \\ndeployed in networks. In order to achieve mature solutions for autonomous \\nnetwork control, it will be essential for AN vendors to validate in advance that \\ntheir products will operate successfully i n the target customer networks, before \\nthey are actually deployed.  \\nA DT can be used to estimate accurately the resulting network performance of \\nan experimentation approach and the effect after applying the actions produced \\nby the AN, thus determining what  network scenarios are well -supported by the \\nproduct. After a comprehensive validation test, the vendor can apply the \\nadaptations to the network.', 'context': '/content/sample_data/Use-case-AN.pdf page number= 57', 'response': [], 'response-suggestion': None, 'response-suggestion-metadata': {'type': None, 'score': None, 'agent': None}, 'external_id': None, 'metadata': '{}'}\n",
            "58\n",
            "{'prompt': 'Error! Reference source not found.  (2021 -10)  51 Following are examples of scenarios in this use case:  \\n \\nScenario -1: preparation of DT:  import network configurations (may include \\nclosed loops?) into digital twin. This sets the stage for preparation of \\nsimulations in the DT.  \\n \\nScenario -2: trigger of DT for simulations : update of network configurations \\nin digital twin (if any, by engineer), followed by simulations in digital twin and \\ngeneration of asynchronous events. These events are consumed by AN engine \\nand may in turn result in experimental configurations/updates from the AN \\nengine towards the DT. This cycle may continue based on the sequ ence of \\nsimulations and scenarios in the DT. The validation of KPIs in the DT as a \\nresult of experimentation and adaptations by the AN engine is an important \\nstep. \\n \\nScenario -3: trigger of AN engine by operator : update of network \\npolicy/configurations by en gineer, which triggers AN engine to corresponding \\nexperiments or configurations towards the digital twin. Experimentation may \\nbe configured in the digital twin and corresponding events and KPIs may be \\nused to evaluation the result of the experimentation. T his may result in \\nselecting the best possible sequence of actions or adaptations towards the \\nnetwork. The validation of the AN engine actions is an important step here.  \\n \\nScenario -4: trigger based on evolution : Other triggers for experiments in AN \\nengine ma y include inputs from evolution functionality. Experimentation and \\nevaluation of actions or adaptations towards the network are same as above.  \\n \\nFollowing are related steps in this use case scenario:  \\n1. Import environment into DT, trigger simulations in DT and validate the \\nresults, especially the use case specific closed loops.  \\n2. AN -triggered experiments and adaptations are tested using corresponding \\nsimulator settings in DT and evaluating the impact in simulations.  \\nDescribe the relation with autonomous beh aviour (if any).  \\n- this use case is related to the concept of experimentation.  \\nOpen issues (as seen by \\nthe proponent)  - what are the features of the digital twin? what are the APIs that the \\ndigital twin expose?  \\n- how to configure closed loops in DT?  \\n- we discussed “a marketplace of DTs and you choose the one that fits \\nyour particular needs” – this needs further study.  \\n- If a DT is trained with certain capabilities, can we transfer the training \\nusing p2p interface to new DT?  \\n- How to take advantage of GNNs for generalisability and \\nexplainability?  \\n- Are there standard interfaces for integrating AI/ML with digital twin? \\nIs Y.3172 applicable here?  \\nNotes on use case \\ncategory  Cat 2: describes a scenario related to application of autonomous behaviour in \\nthe network.   \\nNotes on priority of the \\nuse case  High  \\n \\nReferences  [b-Rusek] , [b-Almasan]', 'context': '/content/sample_data/Use-case-AN.pdf page number= 58', 'response': [], 'response-suggestion': None, 'response-suggestion-metadata': {'type': None, 'score': None, 'agent': None}, 'external_id': None, 'metadata': '{}'}\n",
            "59\n",
            "{'prompt': 'Error! Reference source not found.  (2021 -10)  52 7.27.1  Use case requirements  \\nCritical requirements  \\n● AN-UC027-REQ -001: It is critical that AN enable import of simulation environment into DT, \\ntrigger simulations in DT and validate the results, especially the use case specific closed loops.  \\n \\n● AN-UC027-REQ -002: It is critical that AN -triggered experiments and adaptations are tested \\nusing corresponding simulator settings in DT and the impact in simulated environment is evaluated.  \\n7.27.2  Use case specific figures  \\n \\n \\nFigure 14: Experimentation as a service  \\n7.28 Evolution from scenario -specific, explicit -coordination to coor dination -free \\ninteroperability (achieved using data -driven approaches)  \\nUse case id  FG-AN-usecase -28 \\nUse case name  Evolution from scenario -specific, explicit -coordination to coordination -free \\ninteroperability (achieved using data -driven approaches)  \\nBase contributions  [FGAN -I-091], [FGAN -I-029] \\nCreation date  27/May/2021  \\nUse case context  Discussions during [FGAN -I-091], [FGAN -I-029] \\nUse case description  Deep learning is being used to address challenging problems in wireless \\ncommunications such as modulation recognition, radio fingerprinting and many \\nother scenarios. The advantages of this approach include the capability to \\naddress wide -range of scenarios,  where a mathematical model is difficult to \\nmake (e.g. channel estimation, beam management for future networks).  \\nExisting solutions mostly rely on explicit coordination between the transmitter \\n(TX) and the receiver (RX), introducing problems of interopera bility and \\nnecessity for standards. Such signalling messages eat into the costly spectrum \\nand complicate protocol design.  \\nA data -driven approach based on neural networks (NN) is an alternative to \\nachieve coordination -free interoperability.', 'context': '/content/sample_data/Use-case-AN.pdf page number= 59', 'response': [], 'response-suggestion': None, 'response-suggestion-metadata': {'type': None, 'score': None, 'agent': None}, 'external_id': None, 'metadata': '{}'}\n",
            "60\n",
            "{'prompt': 'Error! Reference source not found.  (2021 -10)  53 Example -1 for the use case:  \\nMillimeter wave (mmWave) communication with large antenna arrays is a \\npromising technique to enable extremely high data rates. Because of their \\nhighly directional transmissions, radios operating at millimeter wave \\n(mmWave) frequencies need to  perform beam management to establish and \\nmaintain reliable mmWave links. Transmitter (TX) and the receiver (RX) need \\nto coordinate to select the beam pair that yields the highest beamforming gain.  \\nCurrently 5G NR defines the stages of exhaustive beam swe ep (EBS) as: initial \\naccess (IA) and beam tracking. For both IA and beam tracking, the 3rd \\nGeneration Partnership Project (3GPP) NR standard for 5G communications \\nutilizes synchronization signal blocks (SSBs).  \\nBeam management for the IA procedure in 3GPP NR involves:  \\n1) beam sweep: base station transmits directional Synchronization Signals \\n(SSs) to cover all the TXBs of a certain codebook. Each beam is swept with an \\nSSB, which is a group of 4 OFDM symbols and 240 subcarriers in frequency.  \\n2) beam measureme nt: the User Equipment (UE) itself, if configured for \\ndirectional reception, performs a directional scan, measuring the quality of each \\nbeam pair  \\n3) beam decision: the UE selects the beam to be used to perform initial access  \\n4) beam reporting: During the next SSB in the selected direction, the UE \\nacquires information on the time and frequency resources in which the base \\nstation will be in receive mode for the random access message using the same \\nTXB  \\nI-091 explained receiver can associate Signal -to-Nois e-Ratio (SNR) levels to \\nbeams without explicit coordination with the transmitter. pilot -less estimation \\ntechnique. the RX infers the Angle of Arrival (AoA) and the TXB by passively \\neavesdropping on data transmissions to other users in the network. leveragi ng a \\ndata-driven approach based on convolutional neural networks (CNNs) to \\nachieve coordination -free beam management in mmWave networks. based on a \\nunique “signature” of the beam from the impairments . \\ninferring (i) the Angle of Arrival (AoA) of the beam an d (ii) the actual beam \\nbeing used by the transmitter through waveform -level deep learning on ongoing \\ntransmissions between the TX to other receivers.  \\nExperimentation: experimental data collection campaign with two software -\\ndefined radio testbeds, and by us ing multiple antennas, codebooks, gains and \\nlocations (iv) 3 different AoAs; (v) multiple TX and RX locations.  \\nEvaluation criteria: An upper bound on the expected search time of the \\nproposed algorithm. The proposed technique reduces latency by up to 7x wit h \\nrespect to the 5G NR initial beam sweep in a default configuration and with a \\n12-beam codebook.  \\nFollowing are related steps in this use case scenario:  \\n1. Based on the analysis of data from the network, reference points are selected \\nby Ev() where data -driven NN based approaches can be applied to reduce \\nsignalling. Ev() should cherry -pick the reference points which has the best \\ntrade -offs in terms of benefits (e.g. spectral efficiency, latency, etc) as against \\nthe cost of training. Ev() should also help in understanding the experimentation \\napproaches to follow.  \\n2. Based on the scenario under study (for evolution), experimentation is setup  \\nand data sources are provisioned and ML pipelines are setup [Y.3172].', 'context': '/content/sample_data/Use-case-AN.pdf page number= 60', 'response': [], 'response-suggestion': None, 'response-suggestion-metadata': {'type': None, 'score': None, 'agent': None}, 'external_id': None, 'metadata': '{}'}\n",
            "61\n",
            "{'prompt': \"Error! Reference source not found.  (2021 -10)  54 3. Based on the evaluation of the AI/ML models in the sandbox, they are \\ninjected into the network functions (NFs).  \\n4. Control and data flows are modified according to the evolved netwo rk. \\nRelation with autonomous behaviour -  \\nOpen issues (as seen by \\nthe proponent)   \\nNotes on use case \\ncategory  Cat 1: describes a scenario related to core autonomous behavior itself.   \\nNotes on priority of the \\nuse case  High  \\nhas the potential to impact fut ure network architectures and use cases.  \\nReference  [b-O’Shea -1], [b-O’Shea -2], [b-Jagannath] , [b-Mao] , [b-AI4Good -1], [b-\\nAI4Good -2], [b-AI4Good -3]  \\n7.28.1  Use case requirements  \\nCritical requirements  \\n● AN-UC028-REQ -001: It is critical that AN enable selection of reference points are based on \\nevolution where data -driven NN based approaches can be applied to reduce signalling.  \\nNOTE  – Ev() should cherry -pick the reference points which has the best trade -offs in terms of b enefits (e.g. \\nspectral efficiency, latency, etc) as against the cost of training. Ev() should also help in understanding the \\nexperimentation approaches to follow.  \\n● AN-UC028-REQ -002: It is critical that AN enable, based on the scenario under study (for \\nevolution), experimentation setup and data sources provisioning and ML pipelines setup [ ITU-T \\nY.3172].  \\n● AN-UC028-REQ -003: It is critical that AN enable, injection of ML models into the network \\nfunctions (NFs), Based on the evaluation of the AI/ML models in the sandbox,  \\n● AN-UC028-REQ -004: It is critical that AN enable, modification of Control and data flows \\naccording to the evolved network.  \\n7.28.2  Use case specific figures  \\nNone.  \\n7.29 Intelligent maintenance assistance system  \\nUse case id  FG-AN-usecase -029 \\nUse case name  Intelligent Maintenance Assistance System  \\nBase contribution  FGAN -I-108 \\nCreation date  24/June/2021  \\nUse case context  Discussions in the weekly meeting during presentation of FGAN -I-108 \\nUse case description  The intelligent maintenance assistance system is an intelligent service system for \\nnetwork operation and maintenance. The system combines AI algorithms and AR \\ncapabilities to provide intelligent assistance for front line staff of operators in aspects \\nof networ k operation and maintenance.  \\nThe system includes backstage support system and AR glasses app. The backstage \\nsupport system is deployed in cloud servers in the form of micro -service, and is \\nconnected with the network management system of operators to exchan ge data. The \\nAR glasses app is used for staff's on -site work.  \\n \\nThe backstage support system provides the following functions.  \\n1. AI algorithms and AR capabilities for system. Developers can also use these \\nalgorithms to develop applications.\", 'context': '/content/sample_data/Use-case-AN.pdf page number= 61', 'response': [], 'response-suggestion': None, 'response-suggestion-metadata': {'type': None, 'score': None, 'agent': None}, 'external_id': None, 'metadata': '{}'}\n",
            "62\n",
            "{'prompt': 'Error! Reference source not found.  (2021 -10)  55 1) AI algorith ms include Bar code / QR code recognition, OCR, device port \\nrecognition.  \\n2) AR capabilities include image recognition and tracking, 3D object recognition \\nand tracking, visual simultaneous localization and mapping (SLAM).  \\n2. The data management function can  help implement equipment data \\ntransmission, storage, and management, including network resource data, \\nequipment status data, equipment operation data, etc.  \\n3. The system management function includes user management, authority \\nmanagement, system operation management, parameters configuration and other \\nfunctions to ensure the stable and reliable operation of the system.  \\nThe AR glasses app provides the following functions.  \\n1. Information collection. Staff can collect pictures through the camera of AR \\nglasses and  upload them to the backstage support system. The AI \\nalgorithms in the backstage support system can recognize the collected \\npictures and save the recognition results. Here, the staff can collect the text \\ninformation of the labels of devices to supplement a nd update the \\ninformation in the backstage support system.  \\n2. Data visualization. The data managed in the backstage support system can \\nbe displayed on the AR glasses. This function can provide the display of \\nalarm information, base station information, equipm ent information, \\nelectricity consumption and network status, to assist the network operation \\nand maintenance of staff.  \\n3. Remote guidance of experts. Through the camera of AR glasses, experts \\nget the situation of the work site and provide remote guidance.  \\n \\nThe steps in this use case are as below:  \\n1. Using AR glasses (and other external sensors), collect data about the \\nenvironment, which includes equipment label, port, electricity consumption etc. \\nThis step may include barcode / QR code recognition, OCR, Device port \\nrecognition etc.  \\n \\n2. AI based co gnition analysis, perception visualization and other analysis \\nalgorithms are applied on the collected data to create a virtual model of planning \\nand design to real environment to assist network designers. This step may include \\napplication of Image recognit ion and tracking, 3D object recognition and tracking, \\nVisual SLAM.  \\n \\n3. This model is then used in conjunction with real data for maintenance and \\noptimization by intelligence maintenance assistance system. This step may involve \\nquery of the virtual model, a nalysis of real alarms, cell data, along with the virtual \\nmodel, to create intelligence assistance for frontline workers. This step may use \\nnetwork data management, system management and core algorithms for the whole \\nsystem. The output from this step may i nclude 3D models which can be rendered \\nin AR glasses, AI processed network information for display, real -time remote \\nguidance information.   \\n \\n4. As the network services evolve and new network functions are plugged in \\n(virtual or physical), the following evolution steps are applied:  \\na. AR app is updated to collect new data, including new equipment data, and \\nnew sensors and new environment information.  \\nb. backstage support system is updated with new data management systems, \\ncore algorithms etc', 'context': '/content/sample_data/Use-case-AN.pdf page number= 62', 'response': [], 'response-suggestion': None, 'response-suggestion-metadata': {'type': None, 'score': None, 'agent': None}, 'external_id': None, 'metadata': '{}'}\n",
            "63\n",
            "{'prompt': 'Error! Reference source not found.  (2021 -10)  56  \\n5. Perio dic or asynchronous reports are produced for human consumption \\nregarding the operation of intelligent maintenance assistant system.   \\n \\n6. A software development kit (SDK) may be exposed to 3rd party developers who \\nmay develop new applications to analyse the  AR-collected data. This may in turn \\nhelp operators to provide new value -added applications in the intelligent \\nmaintenance assistant system.  \\nOpen issues (as seen \\nby the proponent)  1. How autonomy can be applied to simply this process or enhance to enable more?  \\n2. The bidirectional relationship: how the (real world) AR+AI system feeds the \\n(digital world) network management & ops (databases) + how the network supports \\nthe AI+AR system, e.g. by providing inventory and processes information and \\naccess to controls？ \\nNotes on use case \\ncategory  Cat 2: describes a scenario related to application of autonomous behaviour in the \\nnetwork.   \\nNotes on priority of \\nthe use case  High  \\nhas the potential to impact future service development and evolution.  \\nReference   \\n7.29.1  Use case requirements  \\nCritical requirements  \\n● AN-UC029-REQ -001: It is critical that autonomous networks (AN) enable collection of \\nenvironment data related to network operation and maintenance using automated techniques such as \\naugmented reality (AR) glasses.  \\n● AN-UC029-REQ -002: It is critical that autonomous network s (AN) enable analysis of \\nenvironment data related to network operation and maintenance using cloud and AI techniques.  \\n● AN-UC029-REQ -003: It is critical that autonomous networks (AN) provide intelligent \\nassistance, rendered using automated techniques such  as AR, for network operation and \\nmaintenance.  \\nNOTE  – The intelligent assistance may be produced using analysis by AI/ML on the collected data from AR . \\n● AN-UC029-REQ -004: It is critical that autonomous networks (AN) update the data collection \\nmechanisms and data analysis mechanisms along with the result rendering mechanisms based on \\nthe analysis by AI/ML on the collected data from AR and the evolution of the underlay networks.  \\n● AN-UC029-REQ -005: It is critical that autonomous networks (AN) pro vide periodic and/or \\nasynchronous updates to humans about the operation of the intelligent assistant system.  \\nExpected requirements  \\n● AN-UC029-REQ -006: It is expected that autonomous networks (AN) enable exposure of \\nprogramming capabilities to 3rd party dev elopers for creation of novel applications which can help \\nautomated operation and maintenance of network, including evolution and adaptation of network \\nfunctions.  \\nNOTE  – Such novel applications may analyse the data collected using AR, suggest new data collection \\nmechanisms based on gaps in collected data, suggest new analytical methods, or suggest new targets for \\napplication of analysis.', 'context': '/content/sample_data/Use-case-AN.pdf page number= 63', 'response': [], 'response-suggestion': None, 'response-suggestion-metadata': {'type': None, 'score': None, 'agent': None}, 'external_id': None, 'metadata': '{}'}\n",
            "64\n",
            "{'prompt': 'Error! Reference source not found.  (2021 -10)  57 7.29.2  Use case specific figure s \\n \\n7.30 Demand forecasting and live service migration methods in edge computing systems  \\nUse case id  FG-AN-usecase -030 \\nUse case name  Demand forecasting and live service migration methods in edge computing \\nsystems  \\nBase contribution  FGAN -I-109 \\nCreation date  01 July 2021  \\nUse case context  Discussions in the weekly meeting during presentation of FGAN -I-109 \\nUse case description  Virtualization and cloudification of services have enabled automation, flexible \\nplacement and programmability to network topology. Efficiency of service delivery \\ncan be significantly improved using these techniques. However, there are significant \\nchallenge s to host Ultra -reliable low -latency communication (URLLC) and massive \\nmachine type communications (mMTC) services in 5G, in centralized topologies. \\nMonitoring of networks by telco operators have revealed that network topology is \\nnot static and load is not  uniform over a long service time.  \\nThis use case describes a dynamic network topology and service placement using \\nthe Genetic Algorithm to analyze and predict services. In addition, an efficient \\nforecasting and live migration methods of service as an appl ication to edge \\ncomputing systems are introduced. This approach can enable intelligent allocation \\nof operator equipment resources, for providing flexible and efficient topologies. \\nSimulation based analysis of results proved that the network equipment effic iency \\ncan significantly be increased by these techniques.  \\n \\nThe optimization of mobile edge computing network performance for a service by \\naddressing the service placement problem is described below:  \\n \\n“Match -making” and analytics service is hosted by REx p latform, exposed as APIs \\nto 3rd party service providers. Services (e.g. gaming) can now utilize the resources \\nat the edge efficiently. Edge network reports the resource status (and other metadata) \\nto the REx platform via the “REx client”@the edge. 3rd party service provider \\nFigure 15: Figure 16: Actor interaction for intelligent maintenance', 'context': '/content/sample_data/Use-case-AN.pdf page number= 64', 'response': [], 'response-suggestion': None, 'response-suggestion-metadata': {'type': None, 'score': None, 'agent': None}, 'external_id': None, 'metadata': '{}'}\n",
            "65\n",
            "{'prompt': 'Error! Reference source not found.  (2021 -10)  58 interfaces with the REx platform via “REx client”@service provider for service \\ndeployment at the edge.  \\n \\nIn addition, the following extensions are proposed:  \\n- REx platform will host “composition” service for controllers (closed loops).  \\n- Edge networks will expose APIs to deploy and manage controllers  \\n- REx platform will analyse the requirements from applications and manage \\nthe composition service towards the edge networks.  \\n- The sub/pub mechanism described in [FGAN -I-109_att] is extended to \\ninclude controller metadata.  \\n1. Registration of MEC on the platform will include controller \\ncapabilities.  \\n2. Pub MEC status information to the platform will include controller \\nstatus.  \\n3. Service provider subscribed to this platform receives information \\nabout available  MECs along with the controllers.  \\n \\n1. Connection, Discovery and capability exchange (info exchange) between the \\nhosted (prediction) service and clients (e.g. REx server and client) on the network \\noperator side (edge) and the (application) service provider s on the ISP side.  \\n \\n2. Data (including traffic characteristics and controller metadata) is measured and \\nanalysed to predict the resource utilization and automation at the edge.  \\n \\n3. Placement of services, migration, and composition of corresponding control lers \\nare managed by REx platform.  \\nOpen issues (as seen \\nby the proponent)  #where is the prediction done? is it done at edge Rex client or Rex server?  \\n#is the prediction online?real -time?  \\n#Is the use of the intelligent aspects (genetic algorithm) trained/evolved/updated \\nonline as the system runs, or is there an a priori training step.  \\n#in slide 8: can we show where is the prediction done?  \\n#where is the migration decision taken?  \\n#slide -6: can we map the arrow numbers to the step numbers in the pseudo code in \\nslide 7?  \\n#Investigate service composition.  \\n#investigate the trust aspects – how to relate/fit.  \\n#investigate autonomy metrics – to describe the achievement of the use case. in \\nterms of sec, availability – workflow execution vs. adaptability.   \\nNotes on use case \\ncategory  Cat 2: describes a scenario related to application of autonomous behaviour in the \\nnetwork.   \\nNotes on priority of \\nthe use case  High  \\nhas the potential to impact future service development and evolution.  \\nReference  [b-AI4Good -4]  \\n7.30.1  Use case requirements  \\nCritical requirements  \\n● AN-UC030-REQ -001: it is critical that AN integrate with Edge networks that will expose APIs \\nto deploy and manage controllers  \\n \\n● AN-UC030-REQ -002: it is critical that AN enable analysis of the requirements from \\napplications and manage the composition service towards the edge networks.  \\n \\n● AN-UC030-REQ -003: it is critical that AN enable sub/pub mechanism including controller \\nmetadata.', 'context': '/content/sample_data/Use-case-AN.pdf page number= 65', 'response': [], 'response-suggestion': None, 'response-suggestion-metadata': {'type': None, 'score': None, 'agent': None}, 'external_id': None, 'metadata': '{}'}\n",
            "66\n",
            "{'prompt': 'Error! Reference source not found.  (2021 -10)  59 NOTE  – Thus, Registration of MEC on the platform will include controller capabilities. Pub MEC status \\ninformation to the platform will include controller status. Service provider subscribed to this platform receives \\ninformation about available MECs along with the contr ollers.  \\n \\n● AN-UC030-REQ -004: it is critical that AN enable Connection, Discovery and capability \\nexchange (info exchange) between the hosted (prediction) service and clients on the network operator \\nside (edge) and the (application) service providers on the  ISP side.  \\n \\n● AN-UC030-REQ -005: it is critical that Placement of services, migration, and composition of \\ncorresponding controllers are managed by domain specific orchestrators.  \\n7.30.2  Use case specific figures  \\n \\n \\nFigure 17: actor interaction for Demand forecasting and live service migration  \\n7.31 OpenCN: An open repository of intents for controllers and modules  \\nUse case id  FG-AN-usecase -031 \\nUse case name  OpenCN: An open repository of intents for controllers and modules  \\nBase contribution  None  \\nCreation date  21 July 2021  \\nUse case context  Discussions during 3rd virtual meeting of FG AN, ITU -T Y.3176, Webinars \\nsupporting ITU AI/ML in 5G Challenge  \\nUse case description   \\nAs controllers/closed loops evolve to solve practical problems in the networks, this \\nuse case aims to provide a baseline repository (called OpenCN ) of intents for \\ndifferent forms of controllers. As in the case of various opensource repositories and \\nAI/ML marketplaces, an open repository will form a baseline for reusable definitions  \\nfor controllers, provide components for composing and chaining toge ther \\ncontrollers. In addition, open repo will increase trust in controllers.  \\nMetadata related to controllers which describes the controllers and related modules \\nwould be enables discovery and other related services like subscription/publication', 'context': '/content/sample_data/Use-case-AN.pdf page number= 66', 'response': [], 'response-suggestion': None, 'response-suggestion-metadata': {'type': None, 'score': None, 'agent': None}, 'external_id': None, 'metadata': '{}'}\n",
            "67\n",
            "{'prompt': 'Error! Reference source not found.  (2021 -10)  60 of new con trollers etc. Metadata also allows to specify guidelines for integrating \\ncontrollers with service -x and underlays.  \\nNot only does the baseline intents allow stakeholders to reuse, extend and \\ninteroperate controller implementations, but it also allows the de velopment of an \\necosystem of services around it – providing customizations (adaptations), \\nintegrations (post experimentations) and finally evolutions.   \\nNOTE - collaboration/integration of OpenCN with closed loop frameworks e.g. \\nETSI ZSM may be explored.  \\n \\nSteps in the use case are as follows:  \\n- Initial version of controllers are formed from intent or composition from modules \\n(by evolution controllers)  \\n- These may be stored in the repo labelled as “untested” or candidate controllers  \\n- Experimentation (Ex) ma nager pulls the candidates from the repo and (uses AN \\nsandbox to) evaluate and test and compare the controllers  \\n- Evolution (Ev) manager uses the open repo to pull and apply ev strategies  \\n- Operational (Op) controllers are stored in the open repo and pulle d and deployed \\nin underlays by various closed loop automation frameworks.  \\nNOTE - Standardized intent formats may be used for storing controllers.  \\n \\nOpen issues (as seen \\nby the proponent)  - there is no unified standard format for intents for closed loops  \\n- there are no opensource solutions to convert intents to closed loops.  \\n \\nNotes on use case \\ncategory  Cat 1: describes a scenario related to core autonomous behaviour itself.  \\n \\nNotes on priority of \\nthe use case  High  \\nhas the potential to impact future service development and evolution.  \\nReference    \\n7.31.1  Use case requirements  \\nCritical requirements  \\n● AN-UC031-REQ -001: it is critical that AN enable storage of controllers in an open repository.  \\nNOTE  – Experimentation (Ex) manager pulls the candidates from the repo and (uses AN sandbox to) evaluate \\nand test and compare the controllers. Evolution (Ev) manager uses the op en repo to pull and apply ev strategies. \\nOperational (Op) controllers are stored in the open repo and pulled and deployed in underlays by various closed \\nloop automation frameworks.', 'context': '/content/sample_data/Use-case-AN.pdf page number= 67', 'response': [], 'response-suggestion': None, 'response-suggestion-metadata': {'type': None, 'score': None, 'agent': None}, 'external_id': None, 'metadata': '{}'}\n",
            "68\n",
            "{'prompt': 'Error! Reference source not found.  (2021 -10)  61 7.31.2  Use case specific figures  \\n \\n \\nFigure 18: actor interaction for open repository of intents  \\n7.32 AI enabled game theory -based mechanism for resource allocation  \\nUse case id  FG-AN-usecase -032 \\nUse case name  AI enabled Game theory based mechanism for resource allocation  \\nBase contribution  FGAN -I-134 \\nCreation date  06 July 2021  \\nUse case context  Discussions during 3rd virtual meeting of ITU FG AN  \\nUse case description         With the advent of Internet of Things, large number of devices may be trying to \\nconnect to the network. Macro base station may be capacity limited to serve these \\ndevices. An alternative is device to device communication, but complexity of \\nalgorithms  and privacy concerns are limiting factors here. Another option is \\ndeploying small base stations known as small cells and each small cell try to serve \\nset of users.  \\nMicrocell, metro cell, Pico cell and femtocells are collectively known as small cells \\nand network containing all these base stations are termed as Heterogeneous \\nnetworks. To optimize the use of bandwidth, we assume co -channel deployment \\nmechanisms, macro cell and small cells will share the same set of sub -channels. \\nTransmission among small cell s may cause interference not only among them but \\nalso to the macro cell users. Hence we need to consider efficient resource allocation \\nalgorithms to mitigate interference among them so as to satisfy QoS constraints of \\nall the devices/users.  \\n       Distrib uted algorithms may be needed to mitigate the interference since there \\nmay not be coordination (e.g. X2 interface) among the small cells.  \\n       In this scenario, we would like to propose distributed resource allocation \\n(subchannel allocation and power al location to each subchannel) so as to satisfy QoS \\nrequirements of all the devices. NOTE - Game theory based model is proposed and \\nto reach equilibrium points we will be proposing both traditional based algorithms \\nlike ML algorithms.', 'context': '/content/sample_data/Use-case-AN.pdf page number= 68', 'response': [], 'response-suggestion': None, 'response-suggestion-metadata': {'type': None, 'score': None, 'agent': None}, 'external_id': None, 'metadata': '{}'}\n",
            "69\n",
            "{'prompt': 'Error! Reference source not found.  (2021 -10)  62 Story -1 for the use ca se: In an enterprise deployment of small cell, say in a factory \\nfloor,  low latency  is required for certain UEs, e.g. robotic arms or self -guided \\nvehicles such as in Industry 4.0 use cases. Macro cell coverage is limited in such \\nindoor factory floors and interference is a problem. Resource allocation for low -\\nlatency UEs in the presence o f interference and low coverage by macro is the \\nproblem addressed in this “story”.  \\n● Co-existence of UEs that require low latency service and that does not \\nrequire low latency service  \\no Each small cell can allocate certain channels (power has to be \\nallocated via game theory) to UEs that require low latency (high \\npriority basis) and for other UEs it can allocate channel and power \\nby playing game model  \\no Power allocation is based on UEs rate requirement  \\n● Serving UEs that all require low latency  \\no The small cell that serves these users can act as a leader and other \\ncells can act as a follower.  \\no Here priority will go to the leader and after allocation of resource \\nby this cell, all others will allocate resources accordingly by playing \\nstackelberg game model.  \\n● Given th e measurements such as channel gains observed by user on a \\nparticular subchannel along with Interference plus noise on that channel → \\nwe need to allocate channel and power per subchannel so as to satisfy user \\nrequirements (e.g., rate, low latency)  \\no Here chan nel allocation matrix and power per subchannel (Known \\nas Nash Equilibrium -NE point) has to be computed iteratively via \\ngame theory approach. We can use three different kind of \\nalgorithms such as traditional optimised algorithm, reinforcement \\nlearning algor ithm and genetic algorithm.  \\no We can compare the above algorithms for better usage.  \\no Once we create data set that consists of various measurements -\\nchannel gains, interference plus noise, set of sub channels, user per \\ncell, user requirements along with NE poi nt → we can train the \\nsupervised learning model and this model sits at the Small BSs to \\nobtain subchannel allocation and power per subchannel depends on \\nthe local measurements along with other inputs at each small BSs.  \\no #compare the output from SL with trad itional methods.  \\n \\n● Suppose there are multiple users try to access the channel at a particular \\ntime and resources are scarce, then we need to schedule the users into \\ndifferent frame durations (msec). For this we consider auctioning \\nmechanism to schedule the user in a particul ar time slot. Utility for each \\nauction is a function of user requirements such as rate, latency etc.,  \\n● Once we perform user scheduling, then we can allocate channel and \\npower per channel according to algorithm described above.  \\n● In the above procedure we are  performing both time domain and \\nfrequency domain scheduling separately.  \\n \\nstory -2: surveillance videos – high UL rate is required for cameras – macro cell \\ncoverage and interference is problem. Allocation for rate -required UEs in the \\npresence of interferenc e and low coverage by macro. Priority allocation for UL \\nintensive UEs to achieve QoS.  \\n \\nstory -3: power constrained – wearables etc – privacy – user specific data cannot be \\nexposed to 3rd party – to do analytics, no data should be taken out of the trust zone  \\n(enterprise or private network). All AI/ML, analytics etc needs to be done within the \\nprivate network.', 'context': '/content/sample_data/Use-case-AN.pdf page number= 69', 'response': [], 'response-suggestion': None, 'response-suggestion-metadata': {'type': None, 'score': None, 'agent': None}, 'external_id': None, 'metadata': '{}'}\n",
            "70\n",
            "{'prompt': 'Error! Reference source not found.  (2021 -10)  63 The steps in the use case (related to autonomy) are:  \\n \\n1. Controllers are formed based on, e.g. Intents and/or Evolution (Ev) to optimize \\nresource allocation with various considerations including latency, throughput or \\nprivacy preserving analytics.  \\n2. Modelling of inter -controller interaction using game theory: “Players” in the \\ngame would be the equivalence classes of controllers.  “players” may be selected \\nfrom the evolvable population.  \\n \\n3. (Initial) Strategies/gains/payoffs are defined and initialized for each equivalence \\nclass and game is modeled.  \\n4. Players [controllers] can be cooperating or non -cooperating. They may \\nparticipate in the ga me based on trust.  \\n \\n5. Modelling of strategies/gains/payoff for each player (controller) may change \\nbased on Evolution.  \\n6. Use experimentation (Ex) to study the model (strategies/gains ) which is evolved \\nand the elements of trust in this game can be studied. And also to investigate the \\nstrategies for maximizing the gains, either by cooperation or non -cooperation.  \\n \\n7. Adaptations to be applied to the Controllers are arrived at – in the form of \\nchanges to strategies, gains/payoffs and trust. Formation o f new “players” may be \\npart of adaptation.  \\n \\n8. Outer loop:  Collect the data from the set of solutions, train the AI/ML model. \\ninfer the equilibrium from the new input data using trained model.  \\n \\nOpen issues (as seen \\nby the proponent)  1. what are the control lers trying to achieve as players? – use case story.  \\n2. How to quantify computational cost?  \\n3. how to evaluate whether other controllers (players) are trustable (among \\nthemselves, whereas so far FG have thought of whether controllers are \\ntrusted/deployable)? – take this aspect of trust an input from another layer.  \\na. #using AI/ML to overcome some of the disadv . of game theory. \\nWhat are those? – “the different Nash equilibria and the approaches \\nto reach them could be learnt over some experiments using AI/ML. \\nAnd then the learnings could be used to optimize these \\nexperiments”.  \\n4. in the context of trust: players can be selfish, transparent. This \\nunderstanding may change as Ev progress. Trust index can be studied. – \\n“this is a new problem”  \\n5. how to use RL (need quick feedback) here? use real network or simulated \\ndata? – Use different RL mechanisms like 0 regret. Use simu lated data. \\n#convergence may take long time in RL. Use DTwin to introduce RL in AN.  \\n6. Small cell coverage is small, num of users is less, so the distribution of \\nservice requirement is sparse (?). – as the coverage density increases, to \\nserve large num of users… capacity also increases…specific indoor \\nscenario like factory…but for the resour ce allocation may be more \\ncomplicated for macro cell.. interference with macro may be considered.. \\ngame with macro (coordination with macro) may be considered later.  \\n \\nNotes on use case \\ncategory  Cat 1: describes a scenario related to core autonomous behaviour itself.  \\n  \\nNotes on priority of \\nthe use case  High  \\nJustification: the architecture components derived and introduced here will help in \\ndefining meta -evolution controllers [I -98]. \\nReference  [b-Sankar -1, [b-Sankar -2], [b-Ahmad ], [b-Al-Turjman] , [b-Ciavaglia -2]', 'context': '/content/sample_data/Use-case-AN.pdf page number= 70', 'response': [], 'response-suggestion': None, 'response-suggestion-metadata': {'type': None, 'score': None, 'agent': None}, 'external_id': None, 'metadata': '{}'}\n",
            "71\n",
            "{'prompt': 'Error! Reference source not found.  (2021 -10)  64 7.32.1  Use case requirements  \\nCritical requirements  \\n● AN-UC032-REQ -001: It is critical that autonomous networks (AN) enable characterisation of \\ncontrollers using metadata, which may be updated dynamically based on monitoring of the \\ncontrollers.  \\nNOTE  – The metadata associated with controllers would be used for modelling controllers as players. \\nExample – the closed loops aiming to optimize transmit power and those intending to optimize coverage may \\nbe modelled as players in a game.  \\nExpected requirements  \\n● AN-UC032-REQ -002: It is expected that autonomous networks (AN) enable experimentation \\nwith various gaming strategies, payoffs and equilibria with controllers are players.  \\nNOTE  – Experimentation may be conducted in the Sandbox and coordinated e.g. by exper imentation \\nmanager, may result in analysis of strategies, payoffs and equilibria.  \\n● AN-UC032-REQ -003: It is expected that autonomous networks (AN) enable classification of \\ncontrollers with respect to trustability of controllers.  \\nNOTE  – Parameters related to measurement of trust as applied to controllers and the methods of \\nclassification may be out of scope of this particular use case.  \\n● AN-UC032-REQ -004: It is expected that autonomous networks (AN) enable analysis of \\nexperimentation resu lts with AI/ML based techniques.  \\nNOTE  – Learnings from AI/ML may be used in optimizing the gaming strategies, payoffs and equilibria.  \\n● AN-UC032-REQ -005: It is expected that autonomous networks (AN) enable adaptation of \\ncontrollers with new strategies.  \\nNOTE  – Learnings from AI/ML may be used in optimizing the gaming strategies, payoffs and equilibria.  \\n● AN-UC032-REQ -006: It is expected that autonomous networks (AN) enable derivation and \\napplication of different combinations of game theory mec hanisms such as auction theory based on \\nthe use case specification.  \\nNOTE  – Use case specification may be captured and formalized in the form of Intent. Derivation of game \\ntheory mechanisms such as auctioneer may use human or automated mechanisms. Applicati on or integration \\nof such mechanisms in underlays may use specific architecture and interface considerations such as in Open \\nRAN.', 'context': '/content/sample_data/Use-case-AN.pdf page number= 71', 'response': [], 'response-suggestion': None, 'response-suggestion-metadata': {'type': None, 'score': None, 'agent': None}, 'external_id': None, 'metadata': '{}'}\n",
            "72\n",
            "{'prompt': 'Error! Reference source not found.  (2021 -10)  65 7.32.2  Use case specific figure  \\n \\n \\nFigure 20: component cloud for AI enabled Game theory  based resource allocation  \\n \\nFigure 19: AI enabled Game theory  based resource allocation', 'context': '/content/sample_data/Use-case-AN.pdf page number= 72', 'response': [], 'response-suggestion': None, 'response-suggestion-metadata': {'type': None, 'score': None, 'agent': None}, 'external_id': None, 'metadata': '{}'}\n",
            "73\n",
            "{'prompt': 'Error! Reference source not found.  (2021 -10)  66  \\nFigure 21: AI enabled Game theory  based resource allocation  \\n7.33 Service automation using workflows  \\nUse case id  FG-AN-usecase -033 \\nUse case name  Service automation using workflows  \\nBase contribution  FGAN -I-135 \\nCreation date  27 July 2021  \\nUse case context  Follow up  discussions after TIP webinar on automation  \\nUse case description  Network automation scenarios in fut ure networks include large scale automation of \\nmanagement of network devices, services and retrieval of operational state data \\nfrom a network. User specific workflows, along with modularized tasks are one of \\nthe mechanisms to achieve this automation.  \\nComb ined with an interworking of OpenConfig NETCONF & YANG models, \\nvendor native models, and the CLI, use specific, customized solutions can be \\ncreated and dockerized containers can be designed and tested.  \\nThe workflows are defined using a JSON based domain sp ecific language (DSL) \\nby wiring a set of tasks together. The tasks are either control tasks (fork, \\nconditional, etc.) or application tasks (i.e. encoding a file) that are executed on a \\nremote device. Atomic tasks are chained together into more complex work flows.  \\nNOTE - The FRINX Machine distribution comes pre -loaded with a number of \\nstandardized workflows.  \\n \\nSteps in this use case are as follows:  \\nStep-1: create or compose workflow:   \\nOperations or functions on workflows include: In addition to create, the workflow \\ndesigner can also   \\n- edit a workflow  \\n- delete a workflow  \\nThese operations may be achieved using a workflow manager.  \\nThis may include an API based interface or a GUI based i nterface.  \\nA graphical user interface may be used to create, edit or run workflows and monitor \\nany open tasks.  The GUI may also help in explainability.  \\nNOTE - This would help to on -board new services (e.g. in network underlays) and \\nview their status.', 'context': '/content/sample_data/Use-case-AN.pdf page number= 73', 'response': [], 'response-suggestion': None, 'response-suggestion-metadata': {'type': None, 'score': None, 'agent': None}, 'external_id': None, 'metadata': '{}'}\n",
            "74\n",
            "{'prompt': 'Error! Reference source not found.  (2021 -10)  67  \\nNOT E- the composing step (from the GUI) may produce output in a generic form \\n(e.g. TOSCA or YANG) and translating this representation of workflows into \\ndeployable instances can be using a generic and can take different types of inputs \\nand produce different ty pes outputs.  \\nStep-2: store in  Resource database : workflow specification and execution data \\nare stored in a resource database.  \\n \\nStep-3: link Tasks : A task corresponds to a worker utilized in the workflow. Tasks \\nin our workflow may receive input parameters and execution logic of our task may \\nbe implemented in python functions called worker. Worker tasks may be registered \\nin the main python file “main.py” in the same directory where you just created your \\nworker.  \\nNOTE - All workers which one want to use in Fri nx Machine must be included in \\nthis file.  \\n \\nStep-5: deploy  workflows: Workflows may be deployed on simulated underlays and \\ntheir performance and benchmarking may be tested and monitored. Workflows may \\nalso be deployed on real network underlays once their pe rformance in the \\nexperimentation is satisfactory.  \\n \\nStep-4: Monitor:  The following service states may be mapped to workflows:  \\n- experimental state: workflows which are deployed in the sandbox are in \\nexperimental state. In combination with simulators, these are tested and \\nexperimented upon.  \\n- evolutionary state: workflows which are in ev state are selected for \\nevolution, and based on ev strategies, various experiments may be designed \\nfor them.  \\n- deployed state: workflows which are in deployed state are in combination \\nwith service -x, acting upon real underlays. They may be monitored for \\nperformance and other parameters.  \\n \\nDescription of the relation (if any) of the use case with autonomous behavi our or \\nthe key technical enablers.  \\n- In the context of the use case, controllers (closed loops) are represented as \\nworkflows. Modules are modelled as tasks.  \\n- controller specification and module specifications are created using designer, \\nsanity checked an d stored  in the resource db.  \\n- workflow manager is used to visualize the controllers, monitor and analyse  \\n- deploy will link service -x with controllers  \\n \\nOpen issues (as seen \\nby the proponent)  • FFS \\nNotes on use case \\ncategory   \\n• Cat 1: describes a scenario related to core autonomous behaviour itself.  \\n  \\nNotes on priority of \\nthe use case  High  \\nJustification: gives potential collaboration opportunities and reuse possibilities.  \\nReference  [b-FRINX -1], [b-FRINX ], [b-TIP 5G ]  \\n7.33.1  Use case requirements  \\n● AN-UC033-REQ -001: It is critical that autonomous networks (AN) enable creation of \\ncontrollers in a generic format agnostic to the type and characteristics of the underlay network.', 'context': '/content/sample_data/Use-case-AN.pdf page number= 74', 'response': [], 'response-suggestion': None, 'response-suggestion-metadata': {'type': None, 'score': None, 'agent': None}, 'external_id': None, 'metadata': '{}'}\n",
            "75\n",
            "{'prompt': 'Error! Reference source not found.  (2021 -10)  68 NOTE  – The generic format may not include deployment spe cific details. This allows design time flexibility \\nand abstraction.  \\n● AN-UC033-REQ -002: It is critical that autonomous networks (AN) enable translation of \\ncontroller specifications from generic format to include underlay specific details.  \\nNOTE  – The translation of controller specifications may include, for example, steps like replacing and \\naugmenting abstracted parameters with underlay specific parameters and such customizations.   \\n● AN-UC033-REQ -003: It is critical that autonomous networks (AN) en able storage of generic \\nand underlay -specific representation of controllers in a repository.  \\nExpected requirements  \\n● AN-UC033-REQ -004: It is expected that autonomous networks (AN) enable different \\nimplementations of translation from generic to underlay -specific representation of controllers.  \\nNOTE  – Workflow managers which implement the translation may be provided by different vendors.  \\n● AN-UC033-REQ -005: It is expected that autonomous networks (AN) enable storage of \\ndifferent classes of controllers in a repository.  \\nNOTE  – Examples of different classes of controllers are (a) initial representation of controllers, (b) those \\nwhich are experimented with corresponding metadata (results), (c) those which are deployed with \\ncorresponding metadata  (from monitoring).  \\n7.33.2  Use case specific figures  \\n \\nFigure 22: actor interaction for Service automation using workflows', 'context': '/content/sample_data/Use-case-AN.pdf page number= 75', 'response': [], 'response-suggestion': None, 'response-suggestion-metadata': {'type': None, 'score': None, 'agent': None}, 'external_id': None, 'metadata': '{}'}\n",
            "76\n",
            "{'prompt': 'Error! Reference source not found.  (2021 -10)  69  \\nFigure 23: Component cloud  for Service automation using workflows  \\n7.34 Disaggregation and placement of in -network programs  \\nUse case id  FG-AN-usecase -034 \\nUse case name  Disaggregation and Placement of In -Network Programs  \\nBase contribution  [FGAN -I-124] \\nCreation date  08 Sep 2021  \\nUse case context  Follow up discussions after [FGAN -I-124] \\nUse case description  Concepts and tools based on the overarching vision of Software -Defined \\nNetworking such as host based (packet processing), Middleboxes, NFV (Network \\nFunction Virtualization), OpenFlow and configurable flo w tables, and \\nProgrammable switch ASICs are well known. Support for P4 Language \\nconsortium has grown over time and it has been central to enabling dataplane \\nprogrammability. In -Network Programs such as Forward Error Correction (FEC), \\ntraffic compression, e ncapsulation/decapsulation, etc are typical applications in \\ndataplanes. However, the current programming paradigms map dataplane \\nprograms 1:1 to devices and resource dedicated to the program, executing on a \\nsingle target, limiting to the scope of “programm ability of the network” and hence \\ncreating a mismatch with the overarching vision of SDN.  \\nDecomposing of dataplane programs into a suitable mix of dataplanes is needed.  \\n \\nSteps in this use case are as follows:  \\n \\nA. “loosely coupled” integration of flightplan with AN:  \\nStep-1: Given a controller specification, selection of “in -network controllers” e.g. \\nDataplane programs, is made by the selection controller.  \\n \\nStep-2: Flightplan helps in segmenting, planning and allocation/mapping to \\ndevices.  \\n \\nStep-3: Other forms of “underlays” e.g. FRINX Machine, ZSM managed domains, \\nwould host their own ways of achieving the above mentioned integration of \\ncontrollers in their service domains. This forms the “application” (or deployment) \\nside of controller lifecycle.', 'context': '/content/sample_data/Use-case-AN.pdf page number= 76', 'response': [], 'response-suggestion': None, 'response-suggestion-metadata': {'type': None, 'score': None, 'agent': None}, 'external_id': None, 'metadata': '{}'}\n",
            "77\n",
            "{'prompt': 'Error! Reference source not found.  (2021 -10)  70  \\nB. “tightly coupled” integration of flightplan with AN  \\n \\nStep-4: As mentioned in slide 27 of [FGAN -I-124_att], flightplan may interface and \\n“collaborate” with AN orchestrator (or different controllers in the AN domain) to \\nachieve the following:  \\na) segmenta tion of dataplane programs  based factors known to AN e.g. resource \\nneeds, overall E2E controller deployments across different domains like ZSM or \\nFRINX.  \\nb) Diagnose and debug and analyse various “possibilities” for solutions.  \\nc) hand -over control between v arious dataplanes  \\nd) placement of controllers  \\ne) analysis of performance KPIs  \\n \\nStep-5: “suggest” or “bubble up” changes or evolutions to controllers based on \\nflightplan’s analysis of constraints and KPIs.  \\nOpen issues (as seen \\nby the proponent)  • Currently flightplan does not do step -4 and 5 above. It is TBD how to achieve \\nthese.  \\n• Reference points and interfaces for integration between flightplan and AN are \\nto be studied and TBD.  \\nNotes on use case \\ncategory   \\n• Cat 1: describes a scenario related to co re autonomous behaviour itself.  \\n  \\nNotes on priority of \\nthe use case  High  \\nJustification: gives potential collaboration opportunities and reuse possibilities.  \\nReference  [b-Flightplan]  \\n7.34.1  Use case requirements  \\n● AN-UC034-REQ -001: it is critical that AN support both loosely coupled and tightly coupled \\nintegration mechanisms with underlays.  \\nNOTE  1 – Examples of underlays are workflow management mechanisms like FRINX, closed loop \\nautomation frameworks like ETSI ZSM, and in -network dataplane program manageme nt mechanisms like \\nFlightplan. Example of loosely coupled integration is passing down intents from AN to Flightplan (which \\nfurther analyses it to derive program profile). Example of tightly coupled integration is exchange of granular \\ninformation e.g. curre nt resource allocation status, current KPIs monitored, providing control and visibility \\nover placement of controllers in devices.  \\nNOTE  2 – The loosely coupled integration allows for more autonomy in the underlay.  \\n● AN-UC034-REQ -002: it is critical that und erlays support loosely coupled integration \\nmechanisms with AN.  \\n \\n● AN-UC034-REQ -003: it is critical that AN support discovery of capability with respect to \\nlevel of integration provided by the underlay.  \\n \\n● AN-UC034-REQ -004: it is critical that AN decide the “application” and deployment of \\ncontrollers to various underlays based on the E2E requirements of the use case.  \\n \\n● AN-UC034-REQ -005: it is expected that underlays support tightly coupled integration \\nmechanisms with AN.  \\n7.34.2  Use case specific figures', 'context': '/content/sample_data/Use-case-AN.pdf page number= 77', 'response': [], 'response-suggestion': None, 'response-suggestion-metadata': {'type': None, 'score': None, 'agent': None}, 'external_id': None, 'metadata': '{}'}\n",
            "78\n",
            "{'prompt': 'Error! Reference source not found.  (2021 -10)  71  \\nFigure 24: Disaggregation and Placement of In -Network Programs  \\n7.35 A fast and lightweight a utoML library  (FLAML ) \\nUse case id  FG-AN-usecase -035 \\nUse case name  FLAML: A Fast and Lightweight AutoML Library  \\nBase contribution  FGAN -I-134 \\nCreation date  16 Sep 2021  \\nUse case context   \\nUse case description  Currently, selecting learners and hyper parameters for each learner is a tedious and \\nmanual task. Fast and Lightweight AutoML (FLAML) is a lightweight Python \\nlibrary that finds accurate machine learning models automatically, efficiently and \\neconomically.  \\nFLAML leverages the structure of the search space to choose a search order \\noptimized for both cost and error. For example, the system tends to propose cheap \\nconfigurations at the beginning stage of the search, but quickly moves to \\nconfigurations with high model complexity and large sample size when needed in \\nthe later stage of the search.  \\nFLAML integrates several simple but effective search strategies into an adaptive \\nsystem.  \\nFLAML can:  \\n1. optimize with low latency  \\n2. Can handle large datasets  \\n3. not restri cted to fixed set of configs  \\n4. easy to add new/custom learners  \\n5. can cold start.  \\n \\nSome of the optimizations done are related to :  \\n1. which trials to invoke  \\n2. in what order?  \\n \\nSome of the proposed properties of optimizations in FLAML are:  \\n1. suitable sample size  \\n2. Resample  \\n3. fair chance  \\n4. optimal trial', 'context': '/content/sample_data/Use-case-AN.pdf page number= 78', 'response': [], 'response-suggestion': None, 'response-suggestion-metadata': {'type': None, 'score': None, 'agent': None}, 'external_id': None, 'metadata': '{}'}\n",
            "79\n",
            "{'prompt': 'Error! Reference source not found.  (2021 -10)  72  \\nSteps related to use case:  \\n1. Overall use case for autonomous network is specified in the intent to AN.  \\n2. The requirements for ML use case and hence ML intents are derived from the \\noverall use case.  \\n3. Based on the knowledge base [or human guidance], AN configures FLAML with \\nthe ML intent.  \\n4. It is left to FLAML to select the learner, do trials, and adapt/optimize the ML \\nmodel’s parameters.  \\n5. it is left to FLAML to tightly or loosely couple with the AN domain, to utilize its \\nexperimentation manager, analytics or Sandbox or knowledge base (KB).  \\nOpen issues (as seen \\nby the proponent)  • what are the experimentation/trials? where do they come in?  \\n• How do you determine the order for t rials? and what detail you need from the \\ndomain e.g. do we require knowledge from the domain to apply this? if so, where \\nis it captured / used?  \\n• How to integrate this with overall architecture?  \\n• How to compare FLAML with competitors?  \\n• What is the level of autonomy available to FLAML?  \\nNotes on use case \\ncategory   \\n• Cat 1: describes a scenario related to core autonomous behaviour itself.  \\n  \\nNotes on priority of \\nthe use case  High  \\nJustification: gives potential collaboration opportunities and reuse possibilities . \\nReference  [b-Wang -1], [b-FLAML], [b-Microsoft] , [b-Wu-1], [b-Wu-2]  \\n7.35.1  Use case requirements  \\n● AN-UC035-REQ -001: it is critical that AN enable capturing of overall use case in an AN \\nintent and derivation of requirements for ML use case and hence ML intents from the overall use \\ncase.  \\n● AN-UC035-REQ -002: it is critical that Based on the knowledge base [or human guidance], \\nAN configures ML optimization tools with the ML intent.  \\nNOTE  – FLAML is an example of ML optimization tool. It is left to FLAML to s elect the learner, do trials, \\nand adapt/optimize the ML model’s parameters.  \\n● AN-UC035-REQ -003: it is critical that based on the capabilities of the ML optimization tool, \\nAN tightly or loosely couples with the tool, to utilize its experimentation manager,  analytics or \\nSandbox or knowledge base (KB).', 'context': '/content/sample_data/Use-case-AN.pdf page number= 79', 'response': [], 'response-suggestion': None, 'response-suggestion-metadata': {'type': None, 'score': None, 'agent': None}, 'external_id': None, 'metadata': '{}'}\n",
            "80\n",
            "{'prompt': 'Error! Reference source not found.  (2021 -10)  73 7.35.2  Use case specific figures  \\n \\nFigure 25: FLAML Controller for AutoML  \\n \\n \\nFigure 26: actor interaction for FLAML  \\n7.36 Connected AI (CAI) testbed: Testbed for 5G connected artificial intelligence on \\nvirtualized networks  \\nUse case id  FG-AN-usecase -036 \\nUse case name  Connected AI (CAI) testbed: Testbed for 5G Connected Artificial Intelligence on \\nVirtualized Networks  \\nBase contribution  FGAN -I-148 \\nCreation date  22 Sep 2021  \\nUse case context  Presentation by LASSE/UFPA on 29 Sep 2021 [adhoc meeting of FG AN]', 'context': '/content/sample_data/Use-case-AN.pdf page number= 80', 'response': [], 'response-suggestion': None, 'response-suggestion-metadata': {'type': None, 'score': None, 'agent': None}, 'external_id': None, 'metadata': '{}'}\n",
            "81\n",
            "{'prompt': 'Error! Reference source not found.  (2021 -10)  74 Use case description  5G testbe ds are an important alternative to simulators and many have been recently \\ndescribed, emphasizing aspects such as cloud functionalities, management and \\norchestration. This use case describes a 5G mobile network testbed with a \\nvirtualized and orchestrated st ructure using containers, which focuses on \\nintegration to artificial  intelligence (AI) applications.  \\nTwo use cases are described, one for RAN slicing and another for the placement of \\nVNFs according to application requirements. Focus is on application of AI to RAN \\nand transport network, including fronthaul and backhaul.  \\nThe SDN and RAN controllers work as information sources about the network.  \\nThey also work as agents to dynamically change the mobile and the computer \\nnetwork. An AI agent performs different actions in the testbed according to the \\napplication, using the information provide d by SDN and RAN controllers to  \\ntrain and execute in test stage its neural networks. The ML workloads are \\norchestrated along the cluster to provide the AI agent processes.  \\n \\nSteps related to use case:  \\n1. Overall use case for autonomous network is specified in the intent to AN.  \\n2. The requirements for AI Agent and hence ML intents are derived from the overall \\nuse case.  \\n3. Based on the knowledge base [or human guidance], AN configures AI Agent with \\nthe ML intent.  \\n4. It is left to AI Agent to select the model, and optimize the ML model’s parameters.  \\n5. It is left to AI Agent to tightly or loosely couple with the AN domain, to utilize \\nits experimentation manager, analytics or Sandbox or knowledge base (KB).  \\nOpen issues (as seen \\nby the proponent)  • Mapping to pipe line [ ITU-T Y.3172] and relation to FLAML use case.  \\nNotes on use case \\ncategory   \\n• Cat 2  \\n  \\nNotes on priority of \\nthe use case  High  \\nJustification: gives potential collaboration opportunities and reuse possibilities.  \\nReference  [b-Nahum]  \\n \\n7.36.1  Use case requirements  \\n● AN-UC036-REQ -001: it is critical that Based on the knowledge base [or human guidance], \\nAN configures AI agents.  \\nNOTE  – AI agents may in turn select the model and optimize the ML model’s parameters in the ML pipeline \\nto be deployed in the un derlay.  \\n● AN-UC036-REQ -002: it is critical that based on the capabilities of the AI agent, AN tightly \\nor loosely couples with the AI agent, to utilize its experimentation manager, analytics or Sandbox or \\nknowledge base (KB).  \\n7.36.2  Use case specific figures', 'context': '/content/sample_data/Use-case-AN.pdf page number= 81', 'response': [], 'response-suggestion': None, 'response-suggestion-metadata': {'type': None, 'score': None, 'agent': None}, 'external_id': None, 'metadata': '{}'}\n",
            "82\n",
            "{'prompt': 'Error! Reference source not found.  (2021 -10)  75  \\nFigure 27: Connected AI (CAI) testbed  \\n7.37 Negotiated boundaries in AN for seamless network sharing  \\nUse case id  FG-AN-usecase -037 \\nUse case name  Negotiated boundaries in AN for seamless network sharing  \\nBase contribution   \\nCreation date  28/09/2021  \\nUse case context  Dynamic network sharing in AN  \\nUse case description  We see different networks operated and deployed by different operators. \\nGenerally, the networks also operate in shared settings. The operators or interested \\nparties like Mobile Virtual Network Ope rators(MVNOs) share the network for \\nvarious reasons like reduce CAPEX and OPEX(reduce TCO in general), providing \\ncoverage for the users. There are some underlying arrangements for sharing the \\nnetwork like RAN sharing, spectrum sharing, core network and tra nsport network \\nsharing. These arrangements are governed by the agreement between the interested \\nparties.  The arrangements possibly could be network slicing, 3GPP based network \\nsharing or some custom vendor solution. The arrangements are rigid and not \\nflexible because of a prior agreement between the parties. The prior agreement \\ncreates a boundary between the operators, and any change in the boundary requires \\na revisit to the agreement. E.g. the changes are forming new agreements with \\ndifferent operators, wi thdrawing the existing agreement, and changing service \\nlevel agreements (SLA).   \\nFrom the AN perspective, the strict boundary is a roadblock towards autonomy. \\nThe boundaries shall be flexible, scale in and out dynamically without involving \\nany central autho rity(here operator/human). The AN decides the scaling of \\nboundaries(in/out) based on the requirement. The control loops, intent or some \\nprediction algorithm can generate requirements for the action of AN. The AN shall \\nadapt and provide the associated manag ement like policing, billing and other \\nconfigured elements related to the shared arrangement between the interested \\nparties. The AN shall have the capability to negotiate the boundaries through the \\nadapted agreements between the interested parties. The neg otiation of boundaries \\nmeans the AN can independently change the agreements in runtime.  \\nConsider the following example of load balancing:', 'context': '/content/sample_data/Use-case-AN.pdf page number= 82', 'response': [], 'response-suggestion': None, 'response-suggestion-metadata': {'type': None, 'score': None, 'agent': None}, 'external_id': None, 'metadata': '{}'}\n",
            "83\n",
            "{'prompt': 'Error! Reference source not found.  (2021 -10)  76 1. Consider a scenario of base stations deployed by different operators in a \\nsingle coverage area.   \\n2. The base station is l oaded, and there is a need to balance the load for \\nserving the users with the desired quality of service.  \\n3. In the case of non -AN, the base station can balance the load to different \\noperators base stations. However, it can only scale out to the pre -defined \\noperators in the agreement, and those base stations can also be loaded. To \\nscale out to the other base stations, it needs an operator(human) in the loop \\nwho then complete the sharing agreement and provision arrangements.  \\n4. In AN case, the base station can ide ntify the requirement to load balance \\nthe users to other base stations. The AN acts independently to adapt the \\nagreement and scale its coverage via other base stations with reduced \\nintervention of operator(human). The AN provision the associated \\nagreements  dynamically as per the requirement.  \\nOpen issues  1. It may require AN to trust other operator’s AN  \\nQ1. side -effect: standard/interoperable format for derived context: “federated AN”. \\nsharing data/derived context, knowledge, insights, generated from AN, may be \\ngeneralized and applicable across operators if possible. Representation of KB \\n(generalized) may  be useful, but practically it may be use case specific. e.g. standard \\nrepresentation of config for BS. //federated learning is just an analogous domain and \\nnot a normative detail here.   \\nUse case category  Cat 2: describes a scenario related to applicatio n of autonomous behaviour in the \\nnetwork.   \\nReference    \\n7.37.1  Use case requirements  \\nCritical requirements  \\n● AN-UC037-REQ -001: It is critical that autonomous networks support seamless autonomous \\nbehaviour in case of underlay networks that support scaling across shared resource pools and across \\nadministrative domains.  \\nNOTE  1 – Examples of seamless autonomous behaviour may include inclusion (or exclusion) of new \\ncontrollers or closed loops or services or devices into the scaled AN domain.   \\nNOTE  2 – Examples  of shared resource pools are CPU cores, memory, RAN resources like spectrum \\nfrequencies, or network resources like ports.  \\nNOTE  3 – Examples of administrative domains are base stations, transport network or core network \\nfunctions which are owned, maintain ed and operated by different network operators.  \\nExpected requirements  \\n● AN-UC037-REQ -002: It is expected that autonomous networks reuse existing mechanisms \\nfor dynamic management of agreements between different administrative domains of network \\noperators to achieve seamless autonomous behaviour in case of underlay networks that support \\nscaling across shared resource pools and across administrative domains.  \\nNOTE  – Examples of existing mechanisms for dynamic management of agreements are block -chain  \\nmechanisms or smart contracts.  \\n7.37.2  Use case specific figures', 'context': '/content/sample_data/Use-case-AN.pdf page number= 83', 'response': [], 'response-suggestion': None, 'response-suggestion-metadata': {'type': None, 'score': None, 'agent': None}, 'external_id': None, 'metadata': '{}'}\n",
            "84\n",
            "{'prompt': 'Error! Reference source not found.  (2021 -10)  77  \\nFigure 28: actor interaction for Negotiated boundaries in AN for seamless network sharing : part -1 \\n \\nFigure 29: actor interaction for Negotiated b oundaries in AN for seamless network sharing : part -2', 'context': '/content/sample_data/Use-case-AN.pdf page number= 84', 'response': [], 'response-suggestion': None, 'response-suggestion-metadata': {'type': None, 'score': None, 'agent': None}, 'external_id': None, 'metadata': '{}'}\n",
            "85\n",
            "{'prompt': \"Error! Reference source not found.  (2021 -10)  78 7.38 AN enabled end -to-end supply chain  \\nUse case id  FG-AN-usecase -038 \\nUse case name  AN enabled end -to-end supply chain  \\nBase contribution   \\nCreation date  28/09/2021  \\nUse case context  Orchestration of supply chain in the AN  \\nUse case description  Today the supply chain for the networks is highly operator dependent. The \\noperator drives the choice of equipment, procurement, testing and deployment. The \\nplanning tools can help to automate th e deployment process. There are companies \\ndeploying drones for inspection and monitoring of deployed base stations  [b-\\nSharma ]. Such inspection by drones is a step towards automation and autonomy. \\nThe domains like Mission Critical require the on -demand depl oyment of the \\nnetwork. The operator in the loop for such mission -critical deployment could incur \\ndelays for emergency services. The supply chain's end -to-end orchestration final \\nstage is physically deployed network equipment from the supply chain perspecti ve. \\nThe deployment means the network equipment is up and running. The network \\nequipment could be virtual or physical. In a ultra -dense deployment world, the \\nscale of equipment in numbers is very large and require autonomous management. \\nIt is very difficult  for an operator to manage millions of equipment deployed in \\ndifferent geographies.  \\nWe see that the end -to-end orchestration of the supply chain needs a revisit in the \\nAN context. There is a need to delegate the control from the operator to AN and \\nremove the dependency of the operator. The AN can act independently and decide \\nthe orchestration of the supply chain as per the requirements. We understand that \\nAN cannot do everything like physical things - power -up of equipment, cabling, \\nbut it can certainly sc hedule those events, notify required teams, and monitor \\nprogress. Furthermore, the AN exposes interfaces for operators or orchestrators to \\nfeed the vendor lists, equipment lists for bootstrapping and update process. The \\nAN drives the end -to-end supply chai n orchestration with minimal intervention of \\nthe operator in run time.   \\nConsider the following example:  \\n1. The operator feeds the list of vendors or procurement of equipment in AN. \\nIt is similar to the source of the image in the docker file. Over a period of \\ntime, the AN could learn which equipment from which vendor and rate the \\nvendors based on the performance of their equipment.  \\n2. AN identifies the need to provision network equipment for various reasons \\nlike replacement for fault equipment, expansion of the network's capacity, \\nnew sites, upgrade, emergency deployment.  \\n3. AN understands the need possibly through some optimization algorithm, \\ndirect requirement through intents, other orchestration mechanisms, \\nprediction -based control loops.  \\n4. AN drives the supply cha in by procuring, testing the equipment and finally \\ndeploying the equipment. The testing requires operator intervention for \\nphysical activities. The AN runs the automated test procedures and tallies \\nthe results to decide the deployment of equipment.  \\n5. AN conf igures the underlying equipment and newly deployed equipment \\nfor integration to go live.  \\nOpen issues  1.Required interfaces to communicate with operator and orchestration mechanisms.  \\nUse case category  Cat 2: describes a scenario related to application of autonomous behaviour in the \\nnetwork.   \\nReference  [b-Sharma]\", 'context': '/content/sample_data/Use-case-AN.pdf page number= 85', 'response': [], 'response-suggestion': None, 'response-suggestion-metadata': {'type': None, 'score': None, 'agent': None}, 'external_id': None, 'metadata': '{}'}\n",
            "86\n",
            "{'prompt': 'Error! Reference source not found.  (2021 -10)  79 7.38.1  Use case requirements  \\nCritical requirements  \\n● AN-UC038 -REQ -001: It is critical that autonomous networks support interface towards and \\norchestration of software and hardware inventory management systems in underlays.  \\n● AN-UC038 -REQ -002: It is critical that autonomous networks support interface towards \\nrespective teams (human or bot) or operations centre of the software and hardware \\ncomponents/equipment/systems.  \\nNOTE  – Examples of orchestration of inventory management systems are repres enting and triggering \\naddition, deletion and changes in the inventory. Benefits of such orchestration mechanisms may include \\nproactive and rapid adaptation of controllers and predictive management of supply chains.  \\n7.38.2  Use case specific figures  \\n \\nFigure 30: AN enabled end -to-end supply chain  part-1', 'context': '/content/sample_data/Use-case-AN.pdf page number= 86', 'response': [], 'response-suggestion': None, 'response-suggestion-metadata': {'type': None, 'score': None, 'agent': None}, 'external_id': None, 'metadata': '{}'}\n",
            "87\n",
            "{'prompt': 'Error! Reference source not found.  (2021 -10)  80  \\nFigure 31: AN enabled end -to-end supply chain  part-2 \\n7.39 Towards openness in AN  \\nUse case id  FG-AN-usecase -039 \\nUse case name  Towards Openness in AN  \\nBase contribution   \\nCreation date  28/09/2021  \\nUse case context  Inclusion of other control loops in AN  \\nUse case description  We envisage that future networks are heterogeneous AN and control loops are an \\nessential part of AN. There could be various control loops  deployed at various \\nendpoints in a heterogeneous AN. The various endpoints could be the edge, cloud, \\ndevices like switches, routers, user terminals, customer premises equipment, in \\ngeneral, a control loop possibly in every network equipment. We see that t he \\ndifferent vendors would develop various control loops for delivering specific \\nfunctionality of the AN, focusing on improving cost, efficiency, performance, \\nscalability factors. Also, no single vendor would develop the entire AN. It will be a \\nplug and pl ay design. In such a scenario, there is a need for AN to adopt an open \\ndesign for inclusiveness. The inclusive design helps the AN to plug any control \\nloop from any vendor based on its requirement. AN act independently without \\ninvolving any central authori ty to include the third -party control loops. To enable \\nsuch inclusive design, the AN shall expose an interface to integrate control loops. \\nThe interface requires meta -data about control loops. AN independently manages \\nthe lifecycle of the control loops. AN  requires the capability to test and configure \\nthe control loops. The vendors would use such an interface to develop the \\napplication (control loop), knowing that it will help integrate their application. \\nSuch a design helps the ecosystem to provide innovat ive solutions. There could be \\na control loop application store, where vendors can publish their control loops, and \\nany AN can use it like an android/iOS application or Linux packages. A vendor \\ndoes not need to publish the control loop in the application st ore. AN can fetch the \\ncontrol loop from the required location defined in the system.   \\n \\nConsider the following example:  \\n1. AN identifies the need to deploy a control loop for a particular service or \\nupdate the existing control(maybe evolutionary)', 'context': '/content/sample_data/Use-case-AN.pdf page number= 87', 'response': [], 'response-suggestion': None, 'response-suggestion-metadata': {'type': None, 'score': None, 'agent': None}, 'external_id': None, 'metadata': '{}'}\n",
            "88\n",
            "{'prompt': 'Error! Reference source not found.  (2021 -10)  81 2. Based on the requirement, AN search the control loop either in the \\napplication store or at a pre -configured location  \\n3. AN download the control loop, test it in a sandbox environment and \\nconfigures it. The configuration provides control loops providing access to \\nresources . The resources could be data, storage, network, placement, \\nsecurity  \\n4. Once configured, AN deploys the control loop and continuously monitors \\nthe performance of the control loop  \\n5. AN also configures the SLA and billing settings for the vendor  \\nOpen issues  1. Required interfaces for control loops, billing and SLA  \\n \\nUse case category  Cat 2: describes a scenario related to application of autonomous behaviour in the \\nnetwork.   \\nReference   \\n7.39.1  Use case requirements   \\nCritical requirements  \\n● AN-UC039 -REQ -001: It is critical that autonomous networks support identifying the need for \\na control loop, enable the selection, evaluation, integration and monitoring of control loops in \\ndifferent underlays.  \\nNOTE  – AN may use metadata based selection of control loops fr om open repositories. Evaluation of control \\nloops may be done using Sandboxes. The control loops are local(internal) or third -party developed.', 'context': '/content/sample_data/Use-case-AN.pdf page number= 88', 'response': [], 'response-suggestion': None, 'response-suggestion-metadata': {'type': None, 'score': None, 'agent': None}, 'external_id': None, 'metadata': '{}'}\n",
            "89\n",
            "{'prompt': 'Error! Reference source not found.  (2021 -10)  82 7.39.2  Use case specific figures  \\n \\nFigure 32: Towards Openness in AN  \\n7.40 Awareness in AN  \\nUse case id  FG-AN-usecase -040 \\nUse case name  Awareness in AN  \\nBase contribution   \\nCreation date  28/09/2021  \\nUse case context  Discover and leverage nearby control loops and AN  \\nUse case description  Today we have heterogeneous networks (HetNet) with networks like RAN, Core, \\ntransport and convergence of wireless and wireline of different technologies. The \\nevolution of HetNet technologies would comprise control loops in the journey \\ntowards AN. Multiple control loops from different vendors and operators surround \\nAN at any given location or endpoint in such a HetNet scenario. AN need to be \\naware of the surrounding control loops or other AN in general. It could be for \\nvarious reasons like collaboration, coo rdination, security, training machine \\nlearning model, split learning, offload. AN must have an interface to communicate \\nand interact with other control loops in different AN and control loops within the \\nAN. The interface shall enable other control loops to  be autonomous, discover', 'context': '/content/sample_data/Use-case-AN.pdf page number= 89', 'response': [], 'response-suggestion': None, 'response-suggestion-metadata': {'type': None, 'score': None, 'agent': None}, 'external_id': None, 'metadata': '{}'}\n",
            "90\n",
            "{'prompt': 'Error! Reference source not found.  (2021 -10)  83 each other, communicate directly with other control loops without involving any \\ncentralized entity. The control loops within the AN may have a centralized entity, \\nbut communication with the external control loop is without a centra lized entity. \\nThe AN is self -sufficient to act independently. The interface could use the concept \\npresented in FGAN -I-086.  \\n \\nConsider the following example of usage of interface:  \\n \\n1. The discovery of nearby control loops and AN is available at edge nodes  \\n2. An e dge node AN_1 entity running some application and because of heavy \\nburst load in the requests, it runs short of compute and storage to maintain \\nthe desired quality of service  \\n3. The AN_1 node identifies the problem based on the feedback, monitoring, \\nany logic /algorithm. It seeks out help in the form of collaboration to \\noffload the requests using the interface  \\n4. Another AN edge node AN_2 responds with its capability and SLA \\nparameters. The AN_1 evaluates and decide to offload the requests to \\nAN_2.  \\n5. AN_1 and AN_2 uses the interface to configure the routing and policy to \\ndivert the traffic to AN_2 and initiate the offload process.  \\n6. AN_1 uses the interface to release all the resources and bill the usage as \\nper the SLA once the load reduces  \\nOpen issues  1. Required interfaces for control loops, billing and SLA  \\nQuestion – role of taxonomies, ontologies? —if this provides the mechanism to \\ncapture the info about the peers, e.g. catalog tagged with the metadata. A flat logical \\narrangement is possible, which can b e operationalized in many ways.  \\nQ2: Is peering an absolute must? would a hierarchical structure achieve the same \\nfunction? Scope of peer “interaction” has to be studied wrt hierarchical, perhaps in \\nadjacent geographic/domains.  \\nQ3. Scope of peer interactio n has to be granular, flexible, based on dei  \\nUse case category  Cat 2: describes a scenario related to application of autonomous behaviour in the \\nnetwork.   \\nReference   \\n7.40.1  Use case requirements  \\nCritical requirements  \\n● AN-UC040 -REQ -001: It is critical that autonomous networks support peer interaction \\nbetween  different controller instances.  \\nNOTE  – Examples of peer interaction are capability discovery and exchange, and resource pooling. Peer \\ninteraction may be achieved without involving a centralized entity.  \\n7.40.2  Use case specific figures', 'context': '/content/sample_data/Use-case-AN.pdf page number= 90', 'response': [], 'response-suggestion': None, 'response-suggestion-metadata': {'type': None, 'score': None, 'agent': None}, 'external_id': None, 'metadata': '{}'}\n",
            "91\n",
            "{'prompt': 'Error! Reference source not found.  (2021 -10)  84  \\nFigure 33: actor interaction for Aware ness in AN  – part 1  \\n \\nFigure 34: actor interaction for Awareness in AN  – part 2', 'context': '/content/sample_data/Use-case-AN.pdf page number= 91', 'response': [], 'response-suggestion': None, 'response-suggestion-metadata': {'type': None, 'score': None, 'agent': None}, 'external_id': None, 'metadata': '{}'}\n",
            "92\n",
            "{'prompt': 'Error! Reference source not found.  (2021 -10)  85 Bibliography  \\n[b-Ahmad]  Ahmad, I., Narmeen, R., Nguyen, L. D. and Ha, D.-B. \\n(2019),  Quality -of-Service Aware Game Theory -Based \\nUplink Power Control for 5G Heterogeneous Networks . \\nSpringer Journal of M obile Networks and Applications, Vol. \\n24, No. 2, pp. 556 –563. \\n[b-AI4Good -1] AI for Good Webinar: Leveraging AI & machine learning to \\noptimize today’s 5G radio access network systems and to \\nbuild the foundation of tomorrow’s 6G wireless systems , 27 \\nNovember 2020  \\nhttps://aiforgood.itu.int/events/leveraging -ai-machine -\\nlearning -to-optimize -todays -5g-radio -access -network -\\nsystems -and-to-build -the-foundation -of-tomorrows -6g-\\nwireless -systems/   \\n[b-AI4Good -2] AI for Good Webinar: The road towards an AI -native ai r \\ninterface for 6G , 18 November 2020.  \\nhttps://aiforgood.itu.int/events/the -road-towards -an-ai-\\nnative -air-interface -for-6g/  \\n[b-AI4Good -3] AI for Good Webi nar: Machine learning for joint sensing \\nand communication in future millimeter wave IEEE 802.11 \\nWLANs , 25 May 2021.  \\nhttps://aiforgood.itu.int/events/machine -learning -for-joint-\\nsensing -and-communication -in-future -millimeter -wave -\\nieee-802-11-wlans/   \\n[b-AI4Good -4] AI for Good Webinar: Service migration algorithms in \\ndistributed edge computing systems , 9 July 2021  \\nhttps://aiforgood.itu.int/event/service -migration -\\nalgorithms -in-distributed -edge -computing -systems/   \\n[b-Almasan]  Almasan, P., Suárez -Varela, J., Badia -Sampera, A., Rusek, \\nK., Barlet -Ros, P., & Cabellos -Aparicio, A. (2019). Deep \\nReinforcement Learning meets Graph Neural Networks: An \\noptimal routing use case . arXiv: Networking and Internet \\nArchitecture.  \\n[b-Al-Turjman ] Al-Turjman, F., Ever,  E. and Zahmatkesh , H. (2019) , Small \\nCells in the Forthcoming 5G/IoT: Traffic Modelling and \\nDeployment Overview . IEEE Communications Surveys & \\nTutorials, Vol. 21, No. 1, pp. 28 -65. \\n[b-AN2020]  ITU Webinar on Towards a truly Autonomous  Network , 3 \\nNovember 2020: https://www.itu.int/en/ITU -\\nT/webinars/20201103/Pages/default.aspx  \\n[b-AVA -1] ITU Technical Report (2013), Part 2: Vocabulary for ITU -\\nT Focus Group on Audiovisual Media Accessibility (FG \\nAVA) .', 'context': '/content/sample_data/Use-case-AN.pdf page number= 92', 'response': [], 'response-suggestion': None, 'response-suggestion-metadata': {'type': None, 'score': None, 'agent': None}, 'external_id': None, 'metadata': '{}'}\n",
            "93\n",
            "{'prompt': \"Error! Reference source not found.  (2021 -10)  86 [b-AVA -2] ITU Technical Report (2013), Part 3: Using audiovisual \\nmedia – A taxonomy of participation . \\n[b-Beyerer ] Beyerer, J., Deserno, T., Straube, S., Tchouchenkov, I. and \\nWedler, A. (2021), Kompetent im Einsatz  : Variable \\nAutonomie Lernender Système in lebensfeindlichen \\nUmgebungen . Whitepaper aus der  Plattform Lernende \\nSysteme, München . \\n[b-Biswas]  Biswas, P., Halder, A. Maheshwary, K. and Arjun, S. \\n(2017), Inclusive Personlization of User Interfaces . In \\nproceedings of International Conference on Research into \\nDesign  ICoRD 2017: Research into Design for \\nCommunities, Vol. 1, pp 295 -306. \\n[b-Blott ] Blott, M., Preußer, T. B., Fraser, N. J., Gambardella, G., \\nO’brien, K., Umuroglu, Y., Leeser, M. and Vissers , K. \\n(2018), FINN -R: An end -to-end deep -learning framework \\nfor fast exploration of quantized neural networks . ACM \\nTransactions on Reconfigurable Tec hnology and Systems \\n(TRETS) Vol. 11, No. 3, pp. 1-23. \\n[b-Bouraqia ] Bouraqia, K., Sabir, E., Sadik, M. and Ladid , L. (2020), \\nQuality of experience for streaming services: \\nMeasurements, challenges and insights . IEEE Access, Vol. \\n8, pp. 13341 –13361.  \\n[b-Ciavaglia -1] Ciavaglia, L.  (2021), Next -Generation Closed -Loop \\nAutomation . IEEE Tutorial, May 17.  \\nhttps://www.slideshare.net/LaurentCiavaglia/ne xtgeneratio\\nn-closedloop -automation -an-inside -view   \\n[b-Ciavaglia -2] Ciavaglia, L., Ghamri -Doudane, S., Smirnov, M., \\nDemestichas, P., Stavroulaki, V. -A., Bantouna, A. and \\nSayrac , B.  (2012), Unifying Management of Future \\nNetworks With Trust . Bell Labs Technical Journal, Vol. 17, \\nNo. 3, pp. 193 -212. \\n[b-Clark]  Clark, D. D. , Partridge, C., Ramming, J. C. and Wroclawski , \\nJ. T.  (2003), A knowledge plane for the internet . In \\nProceedings of the 2003 Conference on Applications, \\ntechnologies, architectures, and protocols for computer \\ncommunications , SIGCOMM '03 , pp. 3-10. \\n[b-DISH -AWS]  Businesswire (2021), DISH and AWS Form Strategic \\nCollaboration to Reinvent 5G Connectivity and Innovation . \\nhttps://www.businesswire.com/news/home/202104210053\\n15/en/DISH -and-AWS -Form -Strategic -Collaboration -to-\\nReinvent -5G-Connectivity -and-Innovation   \\n[b-ETSI GR ZSM 009 -3] Draft Group Report ETSI GR ZSM 009 -3, Zero -Touch \\nNetwork and Service Management (ZSM) Closed -loop \\nautomation: Advanced topics .\", 'context': '/content/sample_data/Use-case-AN.pdf page number= 93', 'response': [], 'response-suggestion': None, 'response-suggestion-metadata': {'type': None, 'score': None, 'agent': None}, 'external_id': None, 'metadata': '{}'}\n",
            "94\n",
            "{'prompt': 'Error! Reference source not found.  (2021 -10)  87 [b-ETSI GS ZSM 001]  Group Specification ETSI GS ZSM 001 (2019), Zero -touch \\nnetwork and Service Management (ZSM); Requirements \\nbased on documented scenarios . \\n[b-ETSI GS ZSM 00 2] Group Specification ETSI GS ZSM 002 (2019), Zero -touch \\nnetwork and Service Management (ZSM);  Reference \\nArchitecture . \\n[b-ETSI GS ZSM 013]  Draft Group Specification ETSI GS Z SM 013,  Zero -touch \\nnetwork and Service Management (ZSM);  Automation of \\nCI/CD for ZSM services and managed services . \\n[b-FLAML]  FLAML Demo (2021), Fast and Lightweight AutoML - a \\nbrief overview , https://youtu.be/YRbLmDjrjsc   \\n[b-Flightplan]  Flightplan, https://flightplan.cis.upenn.edu/   \\n[b-FRINX -1] FRINX Machine Introduction , https://docs.frinx.io/frinx -\\nmachine/getting -started/getting -started -with-frinx -\\nmachine.html   \\n[b-FRINX -2] FRINX Github repository, https://github.com/FRINXio .  \\n[b-Hesse]  Hesse, T., Peylo, C., Balhmann, C., Elbe, A. Camargo, I. N. \\nand Slusallek, P. (2021), Potenziale für \\nindustrieübergreifendes Flottenlernen KI -\\nMobilitätsdatenplattform zur Risi kominimierung des \\nautomatisierten Fahrens . Whitepaper aus der Plattform  \\nLernende Systeme, München . \\n[b-ISO 9241 -129] ISO 9241 -129 (2010), Ergonomics of human -system \\ninteraction — Part 129: Guidance on software \\nindividualization . \\n[b-ISO/IEC 23167 ] ISO/IEC TS 23167  (2020), Information technology — Cloud \\ncomputing — Common technologies and techniques . \\n[b-ISO/IEC 24756 ] ISO/IEC 24756  (2009), Information technology — \\nFramework for specifying a common access profile (CAP) \\nof needs and capabilities of us ers, systems, and their \\nenvironments . \\n[b-ITU-T X.1121]  Recommendation ITU -T X.1121 (2004), Framework of \\nsecurity technologies for mobile end -to-end data \\ncommunications .   \\n[b-ITU-T Y.3104]  Recommendation ITU -T Y.3104 (2018), Architecture of the \\nIMT-2020 network . \\n[b-ITU-T Y.3515]  Recommendation ITU -T Y.3515 (2017), Cloud computing - \\nFunctional architecture of Network as a Service .', 'context': '/content/sample_data/Use-case-AN.pdf page number= 94', 'response': [], 'response-suggestion': None, 'response-suggestion-metadata': {'type': None, 'score': None, 'agent': None}, 'external_id': None, 'metadata': '{}'}\n",
            "95\n",
            "{'prompt': 'Error! Reference source not found.  (2021 -10)  88 [b-ITU-T Y.3525]  Recommendation ITU -T Y.3525 (2020), Cloud c omputing - \\nRequirements for cloud service development and operation \\nmanagement .   \\n[b-J.acc -us-prof] Draft Recommendation J.acc -us-prof, Common user profile \\nformat for audiovisual content . \\n[b-Jagannath]  Jagannath, J., Polosky, N., Jagannath, A., Restuccia, F., and \\nMelodia , T. (2019), Machine Learning for Wireless \\nCommunications in the Internet of Things: A Comprehensive \\nSurvey . Ad Hoc Networks  Vol. 93, p. 101913 . \\n[b-Jahromi]  Jahromi, H. and  Delaney, D. (2018) , An Application \\nAwareness Framework Based on SDN and Machine \\nLearning: Defining the Roadmap and Challenges . In 13th \\nAPCA International Conference on Control and Soft \\nComputing (CONTROLO) , pp. 411-416.  \\n[b-Jimenez -Ruiz]  Jimenez -Ruiz, E. (2021), Semantic Web Technologies and \\nKnowledge Graphs . Teaching notes, University of London . \\nhttps://github.com/turing -knowledge -\\ngraphs/teaching/tree/main/city  \\n[b-KUKA]  KUKA - Robots & Automation  (2021), Robot  AI makes \\nrobots safer for robot -human collaboration, even without \\nprogramming .  \\nhttps://www.youtube.com/watch?v=e0eKrM0_oyQ  \\n[b-Liu] Liu, L., Hu, H., Luo, Y. and Wen, Y. (2020 ), When wireless \\nvideo streaming meets AI: A deep learning approach . IEEE \\nWireless Communications, Vol. 27, No. 2, pp. 127 –133. \\n[b-Mao]  Mao,  Q., Hu, F. and Hao  Q. (2018) , Deep Learning for \\nIntelligent Wireless Networks: A Comprehensive Survey . In \\nIEEE Communications Surveys & Tutorials, Vol. 20, No. 4, \\npp. 2595 -2621 . \\n[b-Microsoft]  Microsoft (2021), FLAML - Fast and Lightweight AutoML , \\nhttps://github.com/microsoft/FLAML   \\n[b-Myklebust ] Myklebust, E. B., Jiménez -Ruiz,  E., Chen, J., Wolf, R. and \\nTollefsen , K. E.  (2021) , Prediction of Adverse Biological \\nEffects of Chemicals Using Knowledge Graph Embeddings . \\nSemantic Web Journal, 0 (0) 1, IOS Press . \\n[b-Nahum]  Nahum, C. V., Pinto, L., Tavare s, V. B., Batista, P., Lins, S., \\nLinder, N. and Klautau, A. (2020), Testbed for 5G \\nConnected Artificial Intelligence  on Virtualized Networks . \\nIEEE Access, Vol. 8, pp. 223202 -223213 . \\n[b-O’Shea -1] O’Shea , T. J.  and Hoydis , J. (2017), An Introduction to Deep  \\nLearning for the Physical Laye r. IEEE Transactions on', 'context': '/content/sample_data/Use-case-AN.pdf page number= 95', 'response': [], 'response-suggestion': None, 'response-suggestion-metadata': {'type': None, 'score': None, 'agent': None}, 'external_id': None, 'metadata': '{}'}\n",
            "96\n",
            "{'prompt': \"Error! Reference source not found.  (2021 -10)  89 Cognitive Communications and Networking, Vol. 3, No. 4, \\npp. 563 –575. \\n[b-O’Shea -2] O’Shea, T. J., Roy, T. and Clancy, T. C. (2018), Over -the-\\nAir Deep Learning Based Radio Signal Classification . IEEE \\nJournal of Selected Topics in Signal Processing, Vol. 12, \\nNo. 1, pp. 168 –179. \\n[b-ONF]  The Open Networking Foundation (ONF) (2021), The Open \\nNetworking Foundation, AirHop, Facebook and Telecom \\nInfra Project Demonstrate First O -RAN Aligned, xApp -\\nPowered Open RAN Solution .  \\nhttps://opennetworking.org/news -and-events/press -\\nreleases/the -open -networking -foundation -airhop -facebook -\\nand-telecom -infra -project -demonstrate -first-o-ran-aligned -\\nxapp -powered -open -ran-\\nsolution/?ut m_source=ONF+Master+List&utm_campaign=\\nb8631125bb -Edge+Spotl   \\n[b-Pierucci ] Pierucci, L. (2015), The quality of experience perspective \\ntoward 5g technology . IEEE Wireless Communications, \\nVol. 22, No. 4, pp. 10 –16. \\n[b-Q.IMT2020 -PIAS ] Draft Recommendation ITU -T Q.IMT2020 -PIAS, Protocol \\nfor providing intelligent analysis services in IMT -2020 \\nnetwork . \\n[b-Rusek]  Rusek, K., Suárez -Varela, J., Mestres, A., Barlet -Ros, P. and \\nCabellos -Aparicio, A., (2019 ), Unveiling the potential of \\nGraph Ne ural Networks for network modeling and \\noptimization in SDN . In Proceedings of the 2019 ACM \\nSymposium on SDN Research (SOSR '19 ), pp. 140 -151 \\n[b-Sankar -1] Sankar , V. U. and Sharma,  V. (2016), QoS Provisioning for \\nMultiple Femtocells via Game Theory . Elsevier Journal of \\nComputer Networks, Vol 102,  pp.70 -82. \\n[b-Sankar -2] Sankar , V. U. and Sharma,  V. (2014), Pricing and Power \\nallocation in Femtocells using Stackelberg Game Theory . \\nIn: International Conference on Signal Processing and \\nCommunications (SP COM), Jul 22-25, Banaglore, India .  \\n[b-SCALE -Sim]  SCALE -Sim tutorial – ASPLOS 2021, https://scalesim -\\nproject.github.io/tutorials -2021 -asplos.html   \\n[b-Sharma]  Sharma, R. (2020),  Rakuten Mobile to Use Drones to Carry \\nOut Mobile Base Station Inspections .  \\nhttps://www.thefastmode.com/technology -solutions/16814 -\\nrakuten -mobile -to-use-drones -to-carry -out-mobile -base-\\nstation -inspections   \\n[b-TIP 5G]  TIP 5G Open Automation: Vision of Reality , July 2021.\", 'context': '/content/sample_data/Use-case-AN.pdf page number= 96', 'response': [], 'response-suggestion': None, 'response-suggestion-metadata': {'type': None, 'score': None, 'agent': None}, 'external_id': None, 'metadata': '{}'}\n",
            "97\n",
            "{'prompt': 'Error! Reference source not found.  (2021 -10)  90 https://hopin.com/events/tip -5g-open -automation -vision -of-\\nreality   \\n[b-Turing]  The Alan Turing Institute (2021) , Knowledge graphs . \\nhttps://www.turing.ac.uk/research/interest -\\ngroups/knowledge -graphs  \\n[b-Umuroglu ] Umuroglu, Y., Akhauri, Y., Fraser, N. J. and Blott , M. \\n(2020),  LogicNets: Co -Designed Neural Networks and \\nCircuits for Extreme -Throughput Applications . In 30th \\nInternational Conference on Field -Programmable Logic and \\nApplications (FPL) , pp. 291 -297 \\n[b-Wang -1] Wang, C., Wu, Q., Weimer, M. and Zhu, E. (2021), FLAML: \\nA Fast and Lightweight AutoML Library . In Fourth \\nConferenc e on Machine Learning and Systems (MLSys \\n2021)  \\n[b-Wang -2] Wang, C., Wu, Q., Huang, S. and Saied, A. (2021), \\nEconomical Hyperparameter Optimization With Blended \\nSearch Strategy .  In the Ninth International Conference on \\nLearning Representations (ICLR 2021) . \\n[b-Wu-1] Wu, Q., Wang, C. and Huang , S. (2021), Frugal \\nOptimization for Cost -related Hyperparameters . In \\nProceedings of the AAAI Conference on Artificial \\nIntelligence , Vol. 35 , No. 12: AAAI -21. \\n[b-Wu-2] Wu, Q., Wang, C., Lang ford, J., M ineiro, P. and Rossi, M. \\n(2021), ChaCha for Online AutoML . In Proceedings of the \\n38th International Conference on Machine Learning, PMLR \\n139, pp. 11263 -11273  \\n[b-Xilinx]  Xilinx (2021), Accelerate Your AI -Enabled Edge Solution \\nwith Adaptive Computing, Introducing Adaptive System -on-\\nModules (SOMs) . \\n[b-Y.ML -IMT2020 -MLFO ] Draft Recommendation ITU -T Y.ML -IMT2020 -MLFO , \\nRequirements and architecture for machine learning \\nfunction orchestrator . \\n[b-Y.ML -IMT2020 -SANDBOX]  Draft Recommendation  ITU-T Y.ML -IMT2020 -\\nSANDBOX , Machine learning sandbox for future networks \\nincluding IMT -2020: requirements and architecture \\nframework . \\n___________________', 'context': '/content/sample_data/Use-case-AN.pdf page number= 97', 'response': [], 'response-suggestion': None, 'response-suggestion-metadata': {'type': None, 'score': None, 'agent': None}, 'external_id': None, 'metadata': '{}'}\n"
          ]
        }
      ]
    },
    {
      "cell_type": "code",
      "source": [
        "custom_dataset.add_records(records)\n"
      ],
      "metadata": {
        "colab": {
          "base_uri": "https://localhost:8080/",
          "height": 33,
          "referenced_widgets": [
            "6d3e3750440149dfbb3ead065d2f1416",
            "a0596d5e0dc7432a9a360305ece21a83"
          ]
        },
        "id": "i4GpEzy9YVcV",
        "outputId": "332df2a5-62e6-42f7-a73e-b844daa2795b"
      },
      "id": "i4GpEzy9YVcV",
      "execution_count": 33,
      "outputs": [
        {
          "output_type": "display_data",
          "data": {
            "text/plain": [
              "Output()"
            ],
            "application/vnd.jupyter.widget-view+json": {
              "version_major": 2,
              "version_minor": 0,
              "model_id": "6d3e3750440149dfbb3ead065d2f1416"
            }
          },
          "metadata": {}
        },
        {
          "output_type": "display_data",
          "data": {
            "text/plain": [],
            "text/html": [
              "<pre style=\"white-space:pre;overflow-x:auto;line-height:normal;font-family:Menlo,'DejaVu Sans Mono',consolas,'Courier New',monospace\"></pre>\n"
            ]
          },
          "metadata": {}
        },
        {
          "output_type": "display_data",
          "data": {
            "text/plain": [
              "\n"
            ],
            "text/html": [
              "<pre style=\"white-space:pre;overflow-x:auto;line-height:normal;font-family:Menlo,'DejaVu Sans Mono',consolas,'Courier New',monospace\">\n",
              "</pre>\n"
            ]
          },
          "metadata": {}
        }
      ]
    },
    {
      "cell_type": "markdown",
      "id": "2ZyEUBBjbK7k",
      "metadata": {
        "id": "2ZyEUBBjbK7k"
      },
      "source": [
        "-------------\n",
        "\n"
      ]
    }
  ],
  "metadata": {
    "colab": {
      "provenance": [],
      "include_colab_link": true
    },
    "kernelspec": {
      "display_name": "Python 3",
      "name": "python3"
    },
    "language_info": {
      "codemirror_mode": {
        "name": "ipython",
        "version": 3
      },
      "file_extension": ".py",
      "mimetype": "text/x-python",
      "name": "python",
      "nbconvert_exporter": "python",
      "pygments_lexer": "ipython3",
      "version": "3.9.18"
    },
    "vscode": {
      "interpreter": {
        "hash": "2584bca9d226488c39a669ff1ce19d7ca5f410e2d3aa9b82f20653edd0d96bfc"
      }
    },
    "widgets": {
      "application/vnd.jupyter.widget-state+json": {
        "caa5da6a2d1445ddb70a62cde2470ab6": {
          "model_module": "@jupyter-widgets/controls",
          "model_name": "HBoxModel",
          "model_module_version": "1.5.0",
          "state": {
            "_dom_classes": [],
            "_model_module": "@jupyter-widgets/controls",
            "_model_module_version": "1.5.0",
            "_model_name": "HBoxModel",
            "_view_count": null,
            "_view_module": "@jupyter-widgets/controls",
            "_view_module_version": "1.5.0",
            "_view_name": "HBoxView",
            "box_style": "",
            "children": [
              "IPY_MODEL_d54ea2c8e61448a99137830b67021eb2",
              "IPY_MODEL_926ae381c0a74173955013fc64a733cf",
              "IPY_MODEL_b099d2e5044f4ea48585fcb2f9248363"
            ],
            "layout": "IPY_MODEL_e745e07c0ea443dd84bb4f75df332541"
          }
        },
        "d54ea2c8e61448a99137830b67021eb2": {
          "model_module": "@jupyter-widgets/controls",
          "model_name": "HTMLModel",
          "model_module_version": "1.5.0",
          "state": {
            "_dom_classes": [],
            "_model_module": "@jupyter-widgets/controls",
            "_model_module_version": "1.5.0",
            "_model_name": "HTMLModel",
            "_view_count": null,
            "_view_module": "@jupyter-widgets/controls",
            "_view_module_version": "1.5.0",
            "_view_name": "HTMLView",
            "description": "",
            "description_tooltip": null,
            "layout": "IPY_MODEL_b2b0a714c80f49c4b84b5125d21dc10f",
            "placeholder": "​",
            "style": "IPY_MODEL_765c3a6eadc84ad7a12f1a2b8a8e859c",
            "value": "Downloading readme: 100%"
          }
        },
        "926ae381c0a74173955013fc64a733cf": {
          "model_module": "@jupyter-widgets/controls",
          "model_name": "FloatProgressModel",
          "model_module_version": "1.5.0",
          "state": {
            "_dom_classes": [],
            "_model_module": "@jupyter-widgets/controls",
            "_model_module_version": "1.5.0",
            "_model_name": "FloatProgressModel",
            "_view_count": null,
            "_view_module": "@jupyter-widgets/controls",
            "_view_module_version": "1.5.0",
            "_view_name": "ProgressView",
            "bar_style": "success",
            "description": "",
            "description_tooltip": null,
            "layout": "IPY_MODEL_c355536ddb1b4920a5abbdee447214da",
            "max": 9423,
            "min": 0,
            "orientation": "horizontal",
            "style": "IPY_MODEL_31983e8ea55c4551bd09a30242191a76",
            "value": 9423
          }
        },
        "b099d2e5044f4ea48585fcb2f9248363": {
          "model_module": "@jupyter-widgets/controls",
          "model_name": "HTMLModel",
          "model_module_version": "1.5.0",
          "state": {
            "_dom_classes": [],
            "_model_module": "@jupyter-widgets/controls",
            "_model_module_version": "1.5.0",
            "_model_name": "HTMLModel",
            "_view_count": null,
            "_view_module": "@jupyter-widgets/controls",
            "_view_module_version": "1.5.0",
            "_view_name": "HTMLView",
            "description": "",
            "description_tooltip": null,
            "layout": "IPY_MODEL_973cf17d48bb453588312234cd2e5667",
            "placeholder": "​",
            "style": "IPY_MODEL_815f2b64106946d5af8e2d71d1a718fa",
            "value": " 9.42k/9.42k [00:00&lt;00:00, 224kB/s]"
          }
        },
        "e745e07c0ea443dd84bb4f75df332541": {
          "model_module": "@jupyter-widgets/base",
          "model_name": "LayoutModel",
          "model_module_version": "1.2.0",
          "state": {
            "_model_module": "@jupyter-widgets/base",
            "_model_module_version": "1.2.0",
            "_model_name": "LayoutModel",
            "_view_count": null,
            "_view_module": "@jupyter-widgets/base",
            "_view_module_version": "1.2.0",
            "_view_name": "LayoutView",
            "align_content": null,
            "align_items": null,
            "align_self": null,
            "border": null,
            "bottom": null,
            "display": null,
            "flex": null,
            "flex_flow": null,
            "grid_area": null,
            "grid_auto_columns": null,
            "grid_auto_flow": null,
            "grid_auto_rows": null,
            "grid_column": null,
            "grid_gap": null,
            "grid_row": null,
            "grid_template_areas": null,
            "grid_template_columns": null,
            "grid_template_rows": null,
            "height": null,
            "justify_content": null,
            "justify_items": null,
            "left": null,
            "margin": null,
            "max_height": null,
            "max_width": null,
            "min_height": null,
            "min_width": null,
            "object_fit": null,
            "object_position": null,
            "order": null,
            "overflow": null,
            "overflow_x": null,
            "overflow_y": null,
            "padding": null,
            "right": null,
            "top": null,
            "visibility": null,
            "width": null
          }
        },
        "b2b0a714c80f49c4b84b5125d21dc10f": {
          "model_module": "@jupyter-widgets/base",
          "model_name": "LayoutModel",
          "model_module_version": "1.2.0",
          "state": {
            "_model_module": "@jupyter-widgets/base",
            "_model_module_version": "1.2.0",
            "_model_name": "LayoutModel",
            "_view_count": null,
            "_view_module": "@jupyter-widgets/base",
            "_view_module_version": "1.2.0",
            "_view_name": "LayoutView",
            "align_content": null,
            "align_items": null,
            "align_self": null,
            "border": null,
            "bottom": null,
            "display": null,
            "flex": null,
            "flex_flow": null,
            "grid_area": null,
            "grid_auto_columns": null,
            "grid_auto_flow": null,
            "grid_auto_rows": null,
            "grid_column": null,
            "grid_gap": null,
            "grid_row": null,
            "grid_template_areas": null,
            "grid_template_columns": null,
            "grid_template_rows": null,
            "height": null,
            "justify_content": null,
            "justify_items": null,
            "left": null,
            "margin": null,
            "max_height": null,
            "max_width": null,
            "min_height": null,
            "min_width": null,
            "object_fit": null,
            "object_position": null,
            "order": null,
            "overflow": null,
            "overflow_x": null,
            "overflow_y": null,
            "padding": null,
            "right": null,
            "top": null,
            "visibility": null,
            "width": null
          }
        },
        "765c3a6eadc84ad7a12f1a2b8a8e859c": {
          "model_module": "@jupyter-widgets/controls",
          "model_name": "DescriptionStyleModel",
          "model_module_version": "1.5.0",
          "state": {
            "_model_module": "@jupyter-widgets/controls",
            "_model_module_version": "1.5.0",
            "_model_name": "DescriptionStyleModel",
            "_view_count": null,
            "_view_module": "@jupyter-widgets/base",
            "_view_module_version": "1.2.0",
            "_view_name": "StyleView",
            "description_width": ""
          }
        },
        "c355536ddb1b4920a5abbdee447214da": {
          "model_module": "@jupyter-widgets/base",
          "model_name": "LayoutModel",
          "model_module_version": "1.2.0",
          "state": {
            "_model_module": "@jupyter-widgets/base",
            "_model_module_version": "1.2.0",
            "_model_name": "LayoutModel",
            "_view_count": null,
            "_view_module": "@jupyter-widgets/base",
            "_view_module_version": "1.2.0",
            "_view_name": "LayoutView",
            "align_content": null,
            "align_items": null,
            "align_self": null,
            "border": null,
            "bottom": null,
            "display": null,
            "flex": null,
            "flex_flow": null,
            "grid_area": null,
            "grid_auto_columns": null,
            "grid_auto_flow": null,
            "grid_auto_rows": null,
            "grid_column": null,
            "grid_gap": null,
            "grid_row": null,
            "grid_template_areas": null,
            "grid_template_columns": null,
            "grid_template_rows": null,
            "height": null,
            "justify_content": null,
            "justify_items": null,
            "left": null,
            "margin": null,
            "max_height": null,
            "max_width": null,
            "min_height": null,
            "min_width": null,
            "object_fit": null,
            "object_position": null,
            "order": null,
            "overflow": null,
            "overflow_x": null,
            "overflow_y": null,
            "padding": null,
            "right": null,
            "top": null,
            "visibility": null,
            "width": null
          }
        },
        "31983e8ea55c4551bd09a30242191a76": {
          "model_module": "@jupyter-widgets/controls",
          "model_name": "ProgressStyleModel",
          "model_module_version": "1.5.0",
          "state": {
            "_model_module": "@jupyter-widgets/controls",
            "_model_module_version": "1.5.0",
            "_model_name": "ProgressStyleModel",
            "_view_count": null,
            "_view_module": "@jupyter-widgets/base",
            "_view_module_version": "1.2.0",
            "_view_name": "StyleView",
            "bar_color": null,
            "description_width": ""
          }
        },
        "973cf17d48bb453588312234cd2e5667": {
          "model_module": "@jupyter-widgets/base",
          "model_name": "LayoutModel",
          "model_module_version": "1.2.0",
          "state": {
            "_model_module": "@jupyter-widgets/base",
            "_model_module_version": "1.2.0",
            "_model_name": "LayoutModel",
            "_view_count": null,
            "_view_module": "@jupyter-widgets/base",
            "_view_module_version": "1.2.0",
            "_view_name": "LayoutView",
            "align_content": null,
            "align_items": null,
            "align_self": null,
            "border": null,
            "bottom": null,
            "display": null,
            "flex": null,
            "flex_flow": null,
            "grid_area": null,
            "grid_auto_columns": null,
            "grid_auto_flow": null,
            "grid_auto_rows": null,
            "grid_column": null,
            "grid_gap": null,
            "grid_row": null,
            "grid_template_areas": null,
            "grid_template_columns": null,
            "grid_template_rows": null,
            "height": null,
            "justify_content": null,
            "justify_items": null,
            "left": null,
            "margin": null,
            "max_height": null,
            "max_width": null,
            "min_height": null,
            "min_width": null,
            "object_fit": null,
            "object_position": null,
            "order": null,
            "overflow": null,
            "overflow_x": null,
            "overflow_y": null,
            "padding": null,
            "right": null,
            "top": null,
            "visibility": null,
            "width": null
          }
        },
        "815f2b64106946d5af8e2d71d1a718fa": {
          "model_module": "@jupyter-widgets/controls",
          "model_name": "DescriptionStyleModel",
          "model_module_version": "1.5.0",
          "state": {
            "_model_module": "@jupyter-widgets/controls",
            "_model_module_version": "1.5.0",
            "_model_name": "DescriptionStyleModel",
            "_view_count": null,
            "_view_module": "@jupyter-widgets/base",
            "_view_module_version": "1.2.0",
            "_view_name": "StyleView",
            "description_width": ""
          }
        },
        "421fc8f24b6b428ca4f18827faed321b": {
          "model_module": "@jupyter-widgets/controls",
          "model_name": "HBoxModel",
          "model_module_version": "1.5.0",
          "state": {
            "_dom_classes": [],
            "_model_module": "@jupyter-widgets/controls",
            "_model_module_version": "1.5.0",
            "_model_name": "HBoxModel",
            "_view_count": null,
            "_view_module": "@jupyter-widgets/controls",
            "_view_module_version": "1.5.0",
            "_view_name": "HBoxView",
            "box_style": "",
            "children": [
              "IPY_MODEL_5d4edc94c21a45e08c3f22a6f3c90ef8",
              "IPY_MODEL_60fa5bf8bd164e3cb980e13637eeeb5c",
              "IPY_MODEL_1fe0dfcd10a241df99d13f1e3250dcae"
            ],
            "layout": "IPY_MODEL_1d2c7102b65a44f2947133ebe2567b28"
          }
        },
        "5d4edc94c21a45e08c3f22a6f3c90ef8": {
          "model_module": "@jupyter-widgets/controls",
          "model_name": "HTMLModel",
          "model_module_version": "1.5.0",
          "state": {
            "_dom_classes": [],
            "_model_module": "@jupyter-widgets/controls",
            "_model_module_version": "1.5.0",
            "_model_name": "HTMLModel",
            "_view_count": null,
            "_view_module": "@jupyter-widgets/controls",
            "_view_module_version": "1.5.0",
            "_view_name": "HTMLView",
            "description": "",
            "description_tooltip": null,
            "layout": "IPY_MODEL_2dee450c1e954995acdd7804646fdf56",
            "placeholder": "​",
            "style": "IPY_MODEL_3fc6aeb267fc46898ce9e7826c07e045",
            "value": "Downloading data: 100%"
          }
        },
        "60fa5bf8bd164e3cb980e13637eeeb5c": {
          "model_module": "@jupyter-widgets/controls",
          "model_name": "FloatProgressModel",
          "model_module_version": "1.5.0",
          "state": {
            "_dom_classes": [],
            "_model_module": "@jupyter-widgets/controls",
            "_model_module_version": "1.5.0",
            "_model_name": "FloatProgressModel",
            "_view_count": null,
            "_view_module": "@jupyter-widgets/controls",
            "_view_module_version": "1.5.0",
            "_view_name": "ProgressView",
            "bar_style": "success",
            "description": "",
            "description_tooltip": null,
            "layout": "IPY_MODEL_ab00f8b4294d4117b26275000e2b92a3",
            "max": 128994,
            "min": 0,
            "orientation": "horizontal",
            "style": "IPY_MODEL_ca3af3513e5540658b890a86d2ba650f",
            "value": 128994
          }
        },
        "1fe0dfcd10a241df99d13f1e3250dcae": {
          "model_module": "@jupyter-widgets/controls",
          "model_name": "HTMLModel",
          "model_module_version": "1.5.0",
          "state": {
            "_dom_classes": [],
            "_model_module": "@jupyter-widgets/controls",
            "_model_module_version": "1.5.0",
            "_model_name": "HTMLModel",
            "_view_count": null,
            "_view_module": "@jupyter-widgets/controls",
            "_view_module_version": "1.5.0",
            "_view_name": "HTMLView",
            "description": "",
            "description_tooltip": null,
            "layout": "IPY_MODEL_b7c357bee0b34fc38ec4eced1b8b5a9b",
            "placeholder": "​",
            "style": "IPY_MODEL_2fecd5aedd764f15be15350acfadd5e4",
            "value": " 129k/129k [00:01&lt;00:00, 69.7kB/s]"
          }
        },
        "1d2c7102b65a44f2947133ebe2567b28": {
          "model_module": "@jupyter-widgets/base",
          "model_name": "LayoutModel",
          "model_module_version": "1.2.0",
          "state": {
            "_model_module": "@jupyter-widgets/base",
            "_model_module_version": "1.2.0",
            "_model_name": "LayoutModel",
            "_view_count": null,
            "_view_module": "@jupyter-widgets/base",
            "_view_module_version": "1.2.0",
            "_view_name": "LayoutView",
            "align_content": null,
            "align_items": null,
            "align_self": null,
            "border": null,
            "bottom": null,
            "display": null,
            "flex": null,
            "flex_flow": null,
            "grid_area": null,
            "grid_auto_columns": null,
            "grid_auto_flow": null,
            "grid_auto_rows": null,
            "grid_column": null,
            "grid_gap": null,
            "grid_row": null,
            "grid_template_areas": null,
            "grid_template_columns": null,
            "grid_template_rows": null,
            "height": null,
            "justify_content": null,
            "justify_items": null,
            "left": null,
            "margin": null,
            "max_height": null,
            "max_width": null,
            "min_height": null,
            "min_width": null,
            "object_fit": null,
            "object_position": null,
            "order": null,
            "overflow": null,
            "overflow_x": null,
            "overflow_y": null,
            "padding": null,
            "right": null,
            "top": null,
            "visibility": null,
            "width": null
          }
        },
        "2dee450c1e954995acdd7804646fdf56": {
          "model_module": "@jupyter-widgets/base",
          "model_name": "LayoutModel",
          "model_module_version": "1.2.0",
          "state": {
            "_model_module": "@jupyter-widgets/base",
            "_model_module_version": "1.2.0",
            "_model_name": "LayoutModel",
            "_view_count": null,
            "_view_module": "@jupyter-widgets/base",
            "_view_module_version": "1.2.0",
            "_view_name": "LayoutView",
            "align_content": null,
            "align_items": null,
            "align_self": null,
            "border": null,
            "bottom": null,
            "display": null,
            "flex": null,
            "flex_flow": null,
            "grid_area": null,
            "grid_auto_columns": null,
            "grid_auto_flow": null,
            "grid_auto_rows": null,
            "grid_column": null,
            "grid_gap": null,
            "grid_row": null,
            "grid_template_areas": null,
            "grid_template_columns": null,
            "grid_template_rows": null,
            "height": null,
            "justify_content": null,
            "justify_items": null,
            "left": null,
            "margin": null,
            "max_height": null,
            "max_width": null,
            "min_height": null,
            "min_width": null,
            "object_fit": null,
            "object_position": null,
            "order": null,
            "overflow": null,
            "overflow_x": null,
            "overflow_y": null,
            "padding": null,
            "right": null,
            "top": null,
            "visibility": null,
            "width": null
          }
        },
        "3fc6aeb267fc46898ce9e7826c07e045": {
          "model_module": "@jupyter-widgets/controls",
          "model_name": "DescriptionStyleModel",
          "model_module_version": "1.5.0",
          "state": {
            "_model_module": "@jupyter-widgets/controls",
            "_model_module_version": "1.5.0",
            "_model_name": "DescriptionStyleModel",
            "_view_count": null,
            "_view_module": "@jupyter-widgets/base",
            "_view_module_version": "1.2.0",
            "_view_name": "StyleView",
            "description_width": ""
          }
        },
        "ab00f8b4294d4117b26275000e2b92a3": {
          "model_module": "@jupyter-widgets/base",
          "model_name": "LayoutModel",
          "model_module_version": "1.2.0",
          "state": {
            "_model_module": "@jupyter-widgets/base",
            "_model_module_version": "1.2.0",
            "_model_name": "LayoutModel",
            "_view_count": null,
            "_view_module": "@jupyter-widgets/base",
            "_view_module_version": "1.2.0",
            "_view_name": "LayoutView",
            "align_content": null,
            "align_items": null,
            "align_self": null,
            "border": null,
            "bottom": null,
            "display": null,
            "flex": null,
            "flex_flow": null,
            "grid_area": null,
            "grid_auto_columns": null,
            "grid_auto_flow": null,
            "grid_auto_rows": null,
            "grid_column": null,
            "grid_gap": null,
            "grid_row": null,
            "grid_template_areas": null,
            "grid_template_columns": null,
            "grid_template_rows": null,
            "height": null,
            "justify_content": null,
            "justify_items": null,
            "left": null,
            "margin": null,
            "max_height": null,
            "max_width": null,
            "min_height": null,
            "min_width": null,
            "object_fit": null,
            "object_position": null,
            "order": null,
            "overflow": null,
            "overflow_x": null,
            "overflow_y": null,
            "padding": null,
            "right": null,
            "top": null,
            "visibility": null,
            "width": null
          }
        },
        "ca3af3513e5540658b890a86d2ba650f": {
          "model_module": "@jupyter-widgets/controls",
          "model_name": "ProgressStyleModel",
          "model_module_version": "1.5.0",
          "state": {
            "_model_module": "@jupyter-widgets/controls",
            "_model_module_version": "1.5.0",
            "_model_name": "ProgressStyleModel",
            "_view_count": null,
            "_view_module": "@jupyter-widgets/base",
            "_view_module_version": "1.2.0",
            "_view_name": "StyleView",
            "bar_color": null,
            "description_width": ""
          }
        },
        "b7c357bee0b34fc38ec4eced1b8b5a9b": {
          "model_module": "@jupyter-widgets/base",
          "model_name": "LayoutModel",
          "model_module_version": "1.2.0",
          "state": {
            "_model_module": "@jupyter-widgets/base",
            "_model_module_version": "1.2.0",
            "_model_name": "LayoutModel",
            "_view_count": null,
            "_view_module": "@jupyter-widgets/base",
            "_view_module_version": "1.2.0",
            "_view_name": "LayoutView",
            "align_content": null,
            "align_items": null,
            "align_self": null,
            "border": null,
            "bottom": null,
            "display": null,
            "flex": null,
            "flex_flow": null,
            "grid_area": null,
            "grid_auto_columns": null,
            "grid_auto_flow": null,
            "grid_auto_rows": null,
            "grid_column": null,
            "grid_gap": null,
            "grid_row": null,
            "grid_template_areas": null,
            "grid_template_columns": null,
            "grid_template_rows": null,
            "height": null,
            "justify_content": null,
            "justify_items": null,
            "left": null,
            "margin": null,
            "max_height": null,
            "max_width": null,
            "min_height": null,
            "min_width": null,
            "object_fit": null,
            "object_position": null,
            "order": null,
            "overflow": null,
            "overflow_x": null,
            "overflow_y": null,
            "padding": null,
            "right": null,
            "top": null,
            "visibility": null,
            "width": null
          }
        },
        "2fecd5aedd764f15be15350acfadd5e4": {
          "model_module": "@jupyter-widgets/controls",
          "model_name": "DescriptionStyleModel",
          "model_module_version": "1.5.0",
          "state": {
            "_model_module": "@jupyter-widgets/controls",
            "_model_module_version": "1.5.0",
            "_model_name": "DescriptionStyleModel",
            "_view_count": null,
            "_view_module": "@jupyter-widgets/base",
            "_view_module_version": "1.2.0",
            "_view_name": "StyleView",
            "description_width": ""
          }
        },
        "22ad983cfed54a9ab3a1951814d7057a": {
          "model_module": "@jupyter-widgets/controls",
          "model_name": "HBoxModel",
          "model_module_version": "1.5.0",
          "state": {
            "_dom_classes": [],
            "_model_module": "@jupyter-widgets/controls",
            "_model_module_version": "1.5.0",
            "_model_name": "HBoxModel",
            "_view_count": null,
            "_view_module": "@jupyter-widgets/controls",
            "_view_module_version": "1.5.0",
            "_view_name": "HBoxView",
            "box_style": "",
            "children": [
              "IPY_MODEL_718ce52436df480a8c12b69acf8926a6",
              "IPY_MODEL_3d8506f4e9314e8fbe12f520b8460eab",
              "IPY_MODEL_10909278b3a14011bd395713a6064088"
            ],
            "layout": "IPY_MODEL_e5f83eb2dc5a43babcd34e282925adae"
          }
        },
        "718ce52436df480a8c12b69acf8926a6": {
          "model_module": "@jupyter-widgets/controls",
          "model_name": "HTMLModel",
          "model_module_version": "1.5.0",
          "state": {
            "_dom_classes": [],
            "_model_module": "@jupyter-widgets/controls",
            "_model_module_version": "1.5.0",
            "_model_name": "HTMLModel",
            "_view_count": null,
            "_view_module": "@jupyter-widgets/controls",
            "_view_module_version": "1.5.0",
            "_view_name": "HTMLView",
            "description": "",
            "description_tooltip": null,
            "layout": "IPY_MODEL_ab891db2a57442489461bbe92361876b",
            "placeholder": "​",
            "style": "IPY_MODEL_9f9c0e8ddee54d2b9a558664ed345d10",
            "value": "Generating train split: "
          }
        },
        "3d8506f4e9314e8fbe12f520b8460eab": {
          "model_module": "@jupyter-widgets/controls",
          "model_name": "FloatProgressModel",
          "model_module_version": "1.5.0",
          "state": {
            "_dom_classes": [],
            "_model_module": "@jupyter-widgets/controls",
            "_model_module_version": "1.5.0",
            "_model_name": "FloatProgressModel",
            "_view_count": null,
            "_view_module": "@jupyter-widgets/controls",
            "_view_module_version": "1.5.0",
            "_view_name": "ProgressView",
            "bar_style": "success",
            "description": "",
            "description_tooltip": null,
            "layout": "IPY_MODEL_27996bb0606a4ce0bbff8b6f19f5a200",
            "max": 1,
            "min": 0,
            "orientation": "horizontal",
            "style": "IPY_MODEL_43be1df3c80d4636820f283af362f186",
            "value": 1
          }
        },
        "10909278b3a14011bd395713a6064088": {
          "model_module": "@jupyter-widgets/controls",
          "model_name": "HTMLModel",
          "model_module_version": "1.5.0",
          "state": {
            "_dom_classes": [],
            "_model_module": "@jupyter-widgets/controls",
            "_model_module_version": "1.5.0",
            "_model_name": "HTMLModel",
            "_view_count": null,
            "_view_module": "@jupyter-widgets/controls",
            "_view_module_version": "1.5.0",
            "_view_name": "HTMLView",
            "description": "",
            "description_tooltip": null,
            "layout": "IPY_MODEL_4a3cbc8f27f34ac593bc703a2b2366b7",
            "placeholder": "​",
            "style": "IPY_MODEL_9d947121f23449a1bbbed410e4ed0243",
            "value": " 98/0 [00:00&lt;00:00, 2289.59 examples/s]"
          }
        },
        "e5f83eb2dc5a43babcd34e282925adae": {
          "model_module": "@jupyter-widgets/base",
          "model_name": "LayoutModel",
          "model_module_version": "1.2.0",
          "state": {
            "_model_module": "@jupyter-widgets/base",
            "_model_module_version": "1.2.0",
            "_model_name": "LayoutModel",
            "_view_count": null,
            "_view_module": "@jupyter-widgets/base",
            "_view_module_version": "1.2.0",
            "_view_name": "LayoutView",
            "align_content": null,
            "align_items": null,
            "align_self": null,
            "border": null,
            "bottom": null,
            "display": null,
            "flex": null,
            "flex_flow": null,
            "grid_area": null,
            "grid_auto_columns": null,
            "grid_auto_flow": null,
            "grid_auto_rows": null,
            "grid_column": null,
            "grid_gap": null,
            "grid_row": null,
            "grid_template_areas": null,
            "grid_template_columns": null,
            "grid_template_rows": null,
            "height": null,
            "justify_content": null,
            "justify_items": null,
            "left": null,
            "margin": null,
            "max_height": null,
            "max_width": null,
            "min_height": null,
            "min_width": null,
            "object_fit": null,
            "object_position": null,
            "order": null,
            "overflow": null,
            "overflow_x": null,
            "overflow_y": null,
            "padding": null,
            "right": null,
            "top": null,
            "visibility": null,
            "width": null
          }
        },
        "ab891db2a57442489461bbe92361876b": {
          "model_module": "@jupyter-widgets/base",
          "model_name": "LayoutModel",
          "model_module_version": "1.2.0",
          "state": {
            "_model_module": "@jupyter-widgets/base",
            "_model_module_version": "1.2.0",
            "_model_name": "LayoutModel",
            "_view_count": null,
            "_view_module": "@jupyter-widgets/base",
            "_view_module_version": "1.2.0",
            "_view_name": "LayoutView",
            "align_content": null,
            "align_items": null,
            "align_self": null,
            "border": null,
            "bottom": null,
            "display": null,
            "flex": null,
            "flex_flow": null,
            "grid_area": null,
            "grid_auto_columns": null,
            "grid_auto_flow": null,
            "grid_auto_rows": null,
            "grid_column": null,
            "grid_gap": null,
            "grid_row": null,
            "grid_template_areas": null,
            "grid_template_columns": null,
            "grid_template_rows": null,
            "height": null,
            "justify_content": null,
            "justify_items": null,
            "left": null,
            "margin": null,
            "max_height": null,
            "max_width": null,
            "min_height": null,
            "min_width": null,
            "object_fit": null,
            "object_position": null,
            "order": null,
            "overflow": null,
            "overflow_x": null,
            "overflow_y": null,
            "padding": null,
            "right": null,
            "top": null,
            "visibility": null,
            "width": null
          }
        },
        "9f9c0e8ddee54d2b9a558664ed345d10": {
          "model_module": "@jupyter-widgets/controls",
          "model_name": "DescriptionStyleModel",
          "model_module_version": "1.5.0",
          "state": {
            "_model_module": "@jupyter-widgets/controls",
            "_model_module_version": "1.5.0",
            "_model_name": "DescriptionStyleModel",
            "_view_count": null,
            "_view_module": "@jupyter-widgets/base",
            "_view_module_version": "1.2.0",
            "_view_name": "StyleView",
            "description_width": ""
          }
        },
        "27996bb0606a4ce0bbff8b6f19f5a200": {
          "model_module": "@jupyter-widgets/base",
          "model_name": "LayoutModel",
          "model_module_version": "1.2.0",
          "state": {
            "_model_module": "@jupyter-widgets/base",
            "_model_module_version": "1.2.0",
            "_model_name": "LayoutModel",
            "_view_count": null,
            "_view_module": "@jupyter-widgets/base",
            "_view_module_version": "1.2.0",
            "_view_name": "LayoutView",
            "align_content": null,
            "align_items": null,
            "align_self": null,
            "border": null,
            "bottom": null,
            "display": null,
            "flex": null,
            "flex_flow": null,
            "grid_area": null,
            "grid_auto_columns": null,
            "grid_auto_flow": null,
            "grid_auto_rows": null,
            "grid_column": null,
            "grid_gap": null,
            "grid_row": null,
            "grid_template_areas": null,
            "grid_template_columns": null,
            "grid_template_rows": null,
            "height": null,
            "justify_content": null,
            "justify_items": null,
            "left": null,
            "margin": null,
            "max_height": null,
            "max_width": null,
            "min_height": null,
            "min_width": null,
            "object_fit": null,
            "object_position": null,
            "order": null,
            "overflow": null,
            "overflow_x": null,
            "overflow_y": null,
            "padding": null,
            "right": null,
            "top": null,
            "visibility": null,
            "width": "20px"
          }
        },
        "43be1df3c80d4636820f283af362f186": {
          "model_module": "@jupyter-widgets/controls",
          "model_name": "ProgressStyleModel",
          "model_module_version": "1.5.0",
          "state": {
            "_model_module": "@jupyter-widgets/controls",
            "_model_module_version": "1.5.0",
            "_model_name": "ProgressStyleModel",
            "_view_count": null,
            "_view_module": "@jupyter-widgets/base",
            "_view_module_version": "1.2.0",
            "_view_name": "StyleView",
            "bar_color": null,
            "description_width": ""
          }
        },
        "4a3cbc8f27f34ac593bc703a2b2366b7": {
          "model_module": "@jupyter-widgets/base",
          "model_name": "LayoutModel",
          "model_module_version": "1.2.0",
          "state": {
            "_model_module": "@jupyter-widgets/base",
            "_model_module_version": "1.2.0",
            "_model_name": "LayoutModel",
            "_view_count": null,
            "_view_module": "@jupyter-widgets/base",
            "_view_module_version": "1.2.0",
            "_view_name": "LayoutView",
            "align_content": null,
            "align_items": null,
            "align_self": null,
            "border": null,
            "bottom": null,
            "display": null,
            "flex": null,
            "flex_flow": null,
            "grid_area": null,
            "grid_auto_columns": null,
            "grid_auto_flow": null,
            "grid_auto_rows": null,
            "grid_column": null,
            "grid_gap": null,
            "grid_row": null,
            "grid_template_areas": null,
            "grid_template_columns": null,
            "grid_template_rows": null,
            "height": null,
            "justify_content": null,
            "justify_items": null,
            "left": null,
            "margin": null,
            "max_height": null,
            "max_width": null,
            "min_height": null,
            "min_width": null,
            "object_fit": null,
            "object_position": null,
            "order": null,
            "overflow": null,
            "overflow_x": null,
            "overflow_y": null,
            "padding": null,
            "right": null,
            "top": null,
            "visibility": null,
            "width": null
          }
        },
        "9d947121f23449a1bbbed410e4ed0243": {
          "model_module": "@jupyter-widgets/controls",
          "model_name": "DescriptionStyleModel",
          "model_module_version": "1.5.0",
          "state": {
            "_model_module": "@jupyter-widgets/controls",
            "_model_module_version": "1.5.0",
            "_model_name": "DescriptionStyleModel",
            "_view_count": null,
            "_view_module": "@jupyter-widgets/base",
            "_view_module_version": "1.2.0",
            "_view_name": "StyleView",
            "description_width": ""
          }
        },
        "6d3e3750440149dfbb3ead065d2f1416": {
          "model_module": "@jupyter-widgets/output",
          "model_name": "OutputModel",
          "model_module_version": "1.0.0",
          "state": {
            "_dom_classes": [],
            "_model_module": "@jupyter-widgets/output",
            "_model_module_version": "1.0.0",
            "_model_name": "OutputModel",
            "_view_count": null,
            "_view_module": "@jupyter-widgets/output",
            "_view_module_version": "1.0.0",
            "_view_name": "OutputView",
            "layout": "IPY_MODEL_a0596d5e0dc7432a9a360305ece21a83",
            "msg_id": "",
            "outputs": [
              {
                "output_type": "display_data",
                "data": {
                  "text/plain": "Pushing records to Argilla... \u001b[38;2;249;38;114m━━━━━━━━━━━━━━━━━━━━━━━━━━━━━━━━━━━━━━━\u001b[0m\u001b[38;5;237m╺\u001b[0m \u001b[35m 98%\u001b[0m \u001b[36m0:00:01\u001b[0m\n",
                  "text/html": "<pre style=\"white-space:pre;overflow-x:auto;line-height:normal;font-family:Menlo,'DejaVu Sans Mono',consolas,'Courier New',monospace\">Pushing records to Argilla... <span style=\"color: #f92672; text-decoration-color: #f92672\">━━━━━━━━━━━━━━━━━━━━━━━━━━━━━━━━━━━━━━━</span><span style=\"color: #3a3a3a; text-decoration-color: #3a3a3a\">╺</span> <span style=\"color: #800080; text-decoration-color: #800080\"> 98%</span> <span style=\"color: #008080; text-decoration-color: #008080\">0:00:01</span>\n</pre>\n"
                },
                "metadata": {}
              }
            ]
          }
        },
        "a0596d5e0dc7432a9a360305ece21a83": {
          "model_module": "@jupyter-widgets/base",
          "model_name": "LayoutModel",
          "model_module_version": "1.2.0",
          "state": {
            "_model_module": "@jupyter-widgets/base",
            "_model_module_version": "1.2.0",
            "_model_name": "LayoutModel",
            "_view_count": null,
            "_view_module": "@jupyter-widgets/base",
            "_view_module_version": "1.2.0",
            "_view_name": "LayoutView",
            "align_content": null,
            "align_items": null,
            "align_self": null,
            "border": null,
            "bottom": null,
            "display": null,
            "flex": null,
            "flex_flow": null,
            "grid_area": null,
            "grid_auto_columns": null,
            "grid_auto_flow": null,
            "grid_auto_rows": null,
            "grid_column": null,
            "grid_gap": null,
            "grid_row": null,
            "grid_template_areas": null,
            "grid_template_columns": null,
            "grid_template_rows": null,
            "height": null,
            "justify_content": null,
            "justify_items": null,
            "left": null,
            "margin": null,
            "max_height": null,
            "max_width": null,
            "min_height": null,
            "min_width": null,
            "object_fit": null,
            "object_position": null,
            "order": null,
            "overflow": null,
            "overflow_x": null,
            "overflow_y": null,
            "padding": null,
            "right": null,
            "top": null,
            "visibility": null,
            "width": null
          }
        }
      }
    }
  },
  "nbformat": 4,
  "nbformat_minor": 5
}