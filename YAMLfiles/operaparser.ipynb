{
 "cells": [
  {
   "cell_type": "markdown",
   "id": "77588bcc",
   "metadata": {},
   "source": [
    "[![Open In Colab](https://colab.research.google.com/assets/colab-badge.svg)](https://github.com/vrra/FGAN-Build-a-thon-2022/blob/master/YAML%20files/operaparser.ipynb)"
   ]
  },
  {
   "cell_type": "code",
   "execution_count": 1,
   "id": "1949e960",
   "metadata": {},
   "outputs": [
    {
     "name": "stdout",
     "output_type": "stream",
     "text": [
      "Hit:1 http://archive.ubuntu.com/ubuntu focal InRelease\n",
      "Get:2 http://security.ubuntu.com/ubuntu focal-security InRelease [114 kB]\n",
      "Get:3 http://archive.ubuntu.com/ubuntu focal-updates InRelease [114 kB]\n",
      "Get:4 http://archive.ubuntu.com/ubuntu focal-backports InRelease [108 kB][33m\u001b[33m\n",
      "Get:5 http://security.ubuntu.com/ubuntu focal-security/multiverse amd64 Packages [27.5 kB]\n",
      "Get:6 http://security.ubuntu.com/ubuntu focal-security/main amd64 Packages [2032 kB]\n",
      "Get:7 http://archive.ubuntu.com/ubuntu focal-updates/restricted amd64 Packages [1513 kB]\n",
      "Get:8 http://security.ubuntu.com/ubuntu focal-security/universe amd64 Packages [883 kB]\n",
      "Get:9 http://archive.ubuntu.com/ubuntu focal-updates/multiverse amd64 Packages [30.2 kB]\u001b[33m\n",
      "Get:10 http://archive.ubuntu.com/ubuntu focal-updates/universe amd64 Packages [1161 kB]m\n",
      "Get:11 http://security.ubuntu.com/ubuntu focal-security/restricted amd64 Packages [1398 kB]3m\n",
      "Get:12 http://archive.ubuntu.com/ubuntu focal-updates/main amd64 Packages [2483 kB]\u001b[33m\u001b[33m\n",
      "Get:13 http://archive.ubuntu.com/ubuntu focal-backports/main amd64 Packages [54.2 kB]33m\u001b[33m\u001b[33m\u001b[33m\u001b[33m\n",
      "Get:14 http://archive.ubuntu.com/ubuntu focal-backports/universe amd64 Packages [27.1 kB]\n",
      "Fetched 9946 kB in 3s (3764 kB/s)33m                          \u001b[0m\u001b[33m\u001b[33m\n",
      "Reading package lists... Done\n",
      "Building dependency tree       \n",
      "Reading state information... Done\n",
      "73 packages can be upgraded. Run 'apt list --upgradable' to see them.\n"
     ]
    }
   ],
   "source": [
    "!apt update"
   ]
  },
  {
   "cell_type": "code",
   "execution_count": 2,
   "id": "2440fa0d",
   "metadata": {},
   "outputs": [
    {
     "name": "stdout",
     "output_type": "stream",
     "text": [
      "Reading package lists... Done\n",
      "Building dependency tree       \n",
      "Reading state information... Done\n",
      "The following additional packages will be installed:\n",
      "  libpython3.8 libpython3.8-dev libpython3.8-minimal libpython3.8-stdlib\n",
      "  python-pip-whl python3.8 python3.8-dev python3.8-minimal python3.8-venv\n",
      "Suggested packages:\n",
      "  python3-setuptools python3.8-doc binfmt-support\n",
      "The following NEW packages will be installed:\n",
      "  python-pip-whl python-wheel-common python3-venv python3-wheel python3.8-venv\n",
      "The following packages will be upgraded:\n",
      "  libpython3.8 libpython3.8-dev libpython3.8-minimal libpython3.8-stdlib\n",
      "  python3.8 python3.8-dev python3.8-minimal\n",
      "7 upgraded, 5 newly installed, 0 to remove and 66 not upgraded.\n",
      "Need to get 12.6 MB of archives.\n",
      "After this operation, 2488 kB of additional disk space will be used.\n",
      "Get:1 http://archive.ubuntu.com/ubuntu focal-updates/main amd64 python3.8-dev amd64 3.8.10-0ubuntu1~20.04.5 [514 kB]\n",
      "Get:2 http://archive.ubuntu.com/ubuntu focal-updates/main amd64 libpython3.8-dev amd64 3.8.10-0ubuntu1~20.04.5 [3951 kB]\n",
      "Get:3 http://archive.ubuntu.com/ubuntu focal-updates/main amd64 libpython3.8 amd64 3.8.10-0ubuntu1~20.04.5 [1625 kB]3m\u001b[33m\u001b[33m\u001b[33m\u001b[33m\u001b[33m\u001b[33m\u001b[33m\u001b[33m\u001b[33m\u001b[33m\u001b[33m\u001b[33m\u001b[33m\n",
      "Get:4 http://archive.ubuntu.com/ubuntu focal-updates/main amd64 python3.8 amd64 3.8.10-0ubuntu1~20.04.5 [387 kB]m\u001b[33m\u001b[33m\u001b[33m\u001b[33m\u001b[33m\n",
      "Get:5 http://archive.ubuntu.com/ubuntu focal-updates/main amd64 libpython3.8-stdlib amd64 3.8.10-0ubuntu1~20.04.5 [1675 kB]\n",
      "Get:6 http://archive.ubuntu.com/ubuntu focal-updates/main amd64 python3.8-minimal amd64 3.8.10-0ubuntu1~20.04.5 [1905 kB]3m\u001b[33m\u001b[33m\u001b[33m\u001b[33m\n",
      "Get:7 http://archive.ubuntu.com/ubuntu focal-updates/main amd64 libpython3.8-minimal amd64 3.8.10-0ubuntu1~20.04.5 [717 kB]\u001b[33m\u001b[33m\u001b[33m\u001b[33m\u001b[33m\u001b[33m\n",
      "Get:8 http://archive.ubuntu.com/ubuntu focal-updates/universe amd64 python-pip-whl all 20.0.2-5ubuntu1.6 [1805 kB]\n",
      "Get:9 http://archive.ubuntu.com/ubuntu focal/universe amd64 python3-wheel all 0.34.2-1 [23.8 kB]3m\u001b[33m\u001b[33m\u001b[33m\u001b[33m\u001b[33m\u001b[33m\u001b[33m\u001b[33m\u001b[33m\n",
      "Get:10 http://archive.ubuntu.com/ubuntu focal/universe amd64 python-wheel-common all 0.34.2-1 [5080 B]\n",
      "Get:11 http://archive.ubuntu.com/ubuntu focal-updates/universe amd64 python3.8-venv amd64 3.8.10-0ubuntu1~20.04.5 [5444 B]\n",
      "Get:12 http://archive.ubuntu.com/ubuntu focal/universe amd64 python3-venv amd64 3.8.2-0ubuntu2 [1228 B]\n",
      "Fetched 12.6 MB in 43s (295 kB/s)                                              \u001b[0m\u001b[33m\n",
      "debconf: unable to initialize frontend: Dialog\n",
      "debconf: (No usable dialog-like program is installed, so the dialog based frontend cannot be used. at /usr/share/perl5/Debconf/FrontEnd/Dialog.pm line 76, <> line 12.)\n",
      "debconf: falling back to frontend: Readline\n",
      "\n",
      "(Reading database ... 45720 files and directories currently installed.)\n",
      "Preparing to unpack .../00-python3.8-dev_3.8.10-0ubuntu1~20.04.5_amd64.deb ...\n",
      "\u001b7\u001b[24;0f\u001b[42m\u001b[30mProgress: [  0%]\u001b[49m\u001b[39m [..........................................................] \u001b8\u001b7\u001b[24;0f\u001b[42m\u001b[30mProgress: [  2%]\u001b[49m\u001b[39m [#.........................................................] \u001b8Unpacking python3.8-dev (3.8.10-0ubuntu1~20.04.5) over (3.8.10-0ubuntu1~20.04.2) ...\n",
      "\u001b7\u001b[24;0f\u001b[42m\u001b[30mProgress: [  4%]\u001b[49m\u001b[39m [##........................................................] \u001b8Preparing to unpack .../01-libpython3.8-dev_3.8.10-0ubuntu1~20.04.5_amd64.deb ...\n",
      "\u001b7\u001b[24;0f\u001b[42m\u001b[30mProgress: [  6%]\u001b[49m\u001b[39m [###.......................................................] \u001b8Unpacking libpython3.8-dev:amd64 (3.8.10-0ubuntu1~20.04.5) over (3.8.10-0ubuntu1~20.04.2) ...\n",
      "\u001b7\u001b[24;0f\u001b[42m\u001b[30mProgress: [  8%]\u001b[49m\u001b[39m [####......................................................] \u001b8Preparing to unpack .../02-libpython3.8_3.8.10-0ubuntu1~20.04.5_amd64.deb ...\n",
      "\u001b7\u001b[24;0f\u001b[42m\u001b[30mProgress: [ 10%]\u001b[49m\u001b[39m [#####.....................................................] \u001b8Unpacking libpython3.8:amd64 (3.8.10-0ubuntu1~20.04.5) over (3.8.10-0ubuntu1~20.04.2) ...\n",
      "\u001b7\u001b[24;0f\u001b[42m\u001b[30mProgress: [ 12%]\u001b[49m\u001b[39m [#######...................................................] \u001b8Preparing to unpack .../03-python3.8_3.8.10-0ubuntu1~20.04.5_amd64.deb ...\n",
      "\u001b7\u001b[24;0f\u001b[42m\u001b[30mProgress: [ 14%]\u001b[49m\u001b[39m [########..................................................] \u001b8Unpacking python3.8 (3.8.10-0ubuntu1~20.04.5) over (3.8.10-0ubuntu1~20.04.2) ...\n",
      "\u001b7\u001b[24;0f\u001b[42m\u001b[30mProgress: [ 16%]\u001b[49m\u001b[39m [#########.................................................] \u001b8Preparing to unpack .../04-libpython3.8-stdlib_3.8.10-0ubuntu1~20.04.5_amd64.deb ...\n",
      "\u001b7\u001b[24;0f\u001b[42m\u001b[30mProgress: [ 18%]\u001b[49m\u001b[39m [##########................................................] \u001b8Unpacking libpython3.8-stdlib:amd64 (3.8.10-0ubuntu1~20.04.5) over (3.8.10-0ubuntu1~20.04.2) ...\n",
      "\u001b7\u001b[24;0f\u001b[42m\u001b[30mProgress: [ 20%]\u001b[49m\u001b[39m [###########...............................................] \u001b8Preparing to unpack .../05-python3.8-minimal_3.8.10-0ubuntu1~20.04.5_amd64.deb ...\n",
      "\u001b7\u001b[24;0f\u001b[42m\u001b[30mProgress: [ 22%]\u001b[49m\u001b[39m [#############.............................................] \u001b8Unpacking python3.8-minimal (3.8.10-0ubuntu1~20.04.5) over (3.8.10-0ubuntu1~20.04.2) ...\n",
      "\u001b7\u001b[24;0f\u001b[42m\u001b[30mProgress: [ 24%]\u001b[49m\u001b[39m [##############............................................] \u001b8Preparing to unpack .../06-libpython3.8-minimal_3.8.10-0ubuntu1~20.04.5_amd64.deb ...\n",
      "\u001b7\u001b[24;0f\u001b[42m\u001b[30mProgress: [ 27%]\u001b[49m\u001b[39m [###############...........................................] \u001b8Unpacking libpython3.8-minimal:amd64 (3.8.10-0ubuntu1~20.04.5) over (3.8.10-0ubuntu1~20.04.2) ...\n",
      "\u001b7\u001b[24;0f\u001b[42m\u001b[30mProgress: [ 29%]\u001b[49m\u001b[39m [################..........................................] \u001b8Selecting previously unselected package python-pip-whl.\n",
      "Preparing to unpack .../07-python-pip-whl_20.0.2-5ubuntu1.6_all.deb ...\n",
      "\u001b7\u001b[24;0f\u001b[42m\u001b[30mProgress: [ 31%]\u001b[49m\u001b[39m [#################.........................................] \u001b8Unpacking python-pip-whl (20.0.2-5ubuntu1.6) ...\n",
      "\u001b7\u001b[24;0f\u001b[42m\u001b[30mProgress: [ 33%]\u001b[49m\u001b[39m [##################........................................] \u001b8Selecting previously unselected package python3-wheel.\n",
      "Preparing to unpack .../08-python3-wheel_0.34.2-1_all.deb ...\n",
      "\u001b7\u001b[24;0f\u001b[42m\u001b[30mProgress: [ 35%]\u001b[49m\u001b[39m [####################......................................] \u001b8Unpacking python3-wheel (0.34.2-1) ...\n",
      "\u001b7\u001b[24;0f\u001b[42m\u001b[30mProgress: [ 37%]\u001b[49m\u001b[39m [#####################.....................................] \u001b8Selecting previously unselected package python-wheel-common.\n",
      "Preparing to unpack .../09-python-wheel-common_0.34.2-1_all.deb ...\n",
      "\u001b7\u001b[24;0f\u001b[42m\u001b[30mProgress: [ 39%]\u001b[49m\u001b[39m [######################....................................] \u001b8Unpacking python-wheel-common (0.34.2-1) ...\n",
      "\u001b7\u001b[24;0f\u001b[42m\u001b[30mProgress: [ 41%]\u001b[49m\u001b[39m [#######################...................................] \u001b8Selecting previously unselected package python3.8-venv.\n",
      "Preparing to unpack .../10-python3.8-venv_3.8.10-0ubuntu1~20.04.5_amd64.deb ...\n",
      "\u001b7\u001b[24;0f\u001b[42m\u001b[30mProgress: [ 43%]\u001b[49m\u001b[39m [########################..................................] \u001b8Unpacking python3.8-venv (3.8.10-0ubuntu1~20.04.5) ...\n",
      "\u001b7\u001b[24;0f\u001b[42m\u001b[30mProgress: [ 45%]\u001b[49m\u001b[39m [##########################................................] \u001b8Selecting previously unselected package python3-venv.\n",
      "Preparing to unpack .../11-python3-venv_3.8.2-0ubuntu2_amd64.deb ...\n",
      "\u001b7\u001b[24;0f\u001b[42m\u001b[30mProgress: [ 47%]\u001b[49m\u001b[39m [###########################...............................] \u001b8Unpacking python3-venv (3.8.2-0ubuntu2) ...\n",
      "\u001b7\u001b[24;0f\u001b[42m\u001b[30mProgress: [ 49%]\u001b[49m\u001b[39m [############################..............................] \u001b8Setting up libpython3.8-minimal:amd64 (3.8.10-0ubuntu1~20.04.5) ...\n",
      "\u001b7\u001b[24;0f\u001b[42m\u001b[30mProgress: [ 51%]\u001b[49m\u001b[39m [#############################.............................] \u001b8\u001b7\u001b[24;0f\u001b[42m\u001b[30mProgress: [ 53%]\u001b[49m\u001b[39m [##############################............................] \u001b8Setting up python3-wheel (0.34.2-1) ...\n",
      "\u001b7\u001b[24;0f\u001b[42m\u001b[30mProgress: [ 55%]\u001b[49m\u001b[39m [###############################...........................] \u001b8\u001b7\u001b[24;0f\u001b[42m\u001b[30mProgress: [ 57%]\u001b[49m\u001b[39m [#################################.........................] \u001b8Setting up python-wheel-common (0.34.2-1) ...\n",
      "\u001b7\u001b[24;0f\u001b[42m\u001b[30mProgress: [ 59%]\u001b[49m\u001b[39m [##################################........................] \u001b8\u001b7\u001b[24;0f\u001b[42m\u001b[30mProgress: [ 61%]\u001b[49m\u001b[39m [###################################.......................] \u001b8Setting up python3.8-minimal (3.8.10-0ubuntu1~20.04.5) ...\n",
      "\u001b7\u001b[24;0f\u001b[42m\u001b[30mProgress: [ 63%]\u001b[49m\u001b[39m [####################################......................] \u001b8\u001b7\u001b[24;0f\u001b[42m\u001b[30mProgress: [ 65%]\u001b[49m\u001b[39m [#####################################.....................] \u001b8Setting up python-pip-whl (20.0.2-5ubuntu1.6) ...\n",
      "\u001b7\u001b[24;0f\u001b[42m\u001b[30mProgress: [ 67%]\u001b[49m\u001b[39m [#######################################...................] \u001b8\u001b7\u001b[24;0f\u001b[42m\u001b[30mProgress: [ 69%]\u001b[49m\u001b[39m [########################################..................] \u001b8Setting up libpython3.8-stdlib:amd64 (3.8.10-0ubuntu1~20.04.5) ...\n",
      "\u001b7\u001b[24;0f\u001b[42m\u001b[30mProgress: [ 71%]\u001b[49m\u001b[39m [#########################################.................] \u001b8\u001b7\u001b[24;0f\u001b[42m\u001b[30mProgress: [ 73%]\u001b[49m\u001b[39m [##########################################................] \u001b8Setting up python3.8 (3.8.10-0ubuntu1~20.04.5) ...\n",
      "\u001b7\u001b[24;0f\u001b[42m\u001b[30mProgress: [ 76%]\u001b[49m\u001b[39m [###########################################...............] \u001b8\u001b7\u001b[24;0f\u001b[42m\u001b[30mProgress: [ 78%]\u001b[49m\u001b[39m [############################################..............] \u001b8Setting up libpython3.8:amd64 (3.8.10-0ubuntu1~20.04.5) ...\n",
      "\u001b7\u001b[24;0f\u001b[42m\u001b[30mProgress: [ 80%]\u001b[49m\u001b[39m [##############################################............] \u001b8\u001b7\u001b[24;0f\u001b[42m\u001b[30mProgress: [ 82%]\u001b[49m\u001b[39m [###############################################...........] \u001b8Setting up python3.8-venv (3.8.10-0ubuntu1~20.04.5) ...\n",
      "\u001b7\u001b[24;0f\u001b[42m\u001b[30mProgress: [ 84%]\u001b[49m\u001b[39m [################################################..........] \u001b8\u001b7\u001b[24;0f\u001b[42m\u001b[30mProgress: [ 86%]\u001b[49m\u001b[39m [#################################################.........] \u001b8Setting up python3-venv (3.8.2-0ubuntu2) ...\n",
      "\u001b7\u001b[24;0f\u001b[42m\u001b[30mProgress: [ 88%]\u001b[49m\u001b[39m [##################################################........] \u001b8\u001b7\u001b[24;0f\u001b[42m\u001b[30mProgress: [ 90%]\u001b[49m\u001b[39m [####################################################......] \u001b8Setting up libpython3.8-dev:amd64 (3.8.10-0ubuntu1~20.04.5) ...\n",
      "\u001b7\u001b[24;0f\u001b[42m\u001b[30mProgress: [ 92%]\u001b[49m\u001b[39m [#####################################################.....] \u001b8\u001b7\u001b[24;0f\u001b[42m\u001b[30mProgress: [ 94%]\u001b[49m\u001b[39m [######################################################....] \u001b8Setting up python3.8-dev (3.8.10-0ubuntu1~20.04.5) ...\n",
      "\u001b7\u001b[24;0f\u001b[42m\u001b[30mProgress: [ 96%]\u001b[49m\u001b[39m [#######################################################...] \u001b8\u001b7\u001b[24;0f\u001b[42m\u001b[30mProgress: [ 98%]\u001b[49m\u001b[39m [########################################################..] \u001b8Processing triggers for libc-bin (2.31-0ubuntu9.7) ...\n",
      "Processing triggers for mime-support (3.64ubuntu1) ...\n",
      "\n",
      "\u001b7\u001b[0;24r\u001b8\u001b[1A\u001b[J"
     ]
    }
   ],
   "source": [
    "!apt install -y python3-venv python3-wheel python-wheel-common"
   ]
  },
  {
   "cell_type": "code",
   "execution_count": 25,
   "id": "7dd9b624",
   "metadata": {},
   "outputs": [
    {
     "name": "stdout",
     "output_type": "stream",
     "text": [
      "Requirement already satisfied: opera==0.6.5 in /usr/local/lib/python3.8/dist-packages (0.6.5)\n",
      "Requirement already satisfied: pyyaml>=3.10 in /usr/local/lib/python3.8/dist-packages (from opera==0.6.5) (5.4.1)\n",
      "Requirement already satisfied: ansible>=2.8 in /usr/local/lib/python3.8/dist-packages (from opera==0.6.5) (6.1.0)\n",
      "Requirement already satisfied: shtab>=1.3.3 in /usr/local/lib/python3.8/dist-packages (from opera==0.6.5) (1.5.5)\n",
      "Requirement already satisfied: ansible-core~=2.13.1 in /usr/local/lib/python3.8/dist-packages (from ansible>=2.8->opera==0.6.5) (2.13.2)\n",
      "Requirement already satisfied: resolvelib<0.9.0,>=0.5.3 in /usr/local/lib/python3.8/dist-packages (from ansible-core~=2.13.1->ansible>=2.8->opera==0.6.5) (0.8.1)\n",
      "Requirement already satisfied: cryptography in /usr/local/lib/python3.8/dist-packages (from ansible-core~=2.13.1->ansible>=2.8->opera==0.6.5) (37.0.4)\n",
      "Requirement already satisfied: jinja2>=3.0.0 in /usr/local/lib/python3.8/dist-packages (from ansible-core~=2.13.1->ansible>=2.8->opera==0.6.5) (3.0.3)\n",
      "Requirement already satisfied: packaging in /usr/local/lib/python3.8/dist-packages (from ansible-core~=2.13.1->ansible>=2.8->opera==0.6.5) (21.3)\n",
      "Requirement already satisfied: MarkupSafe>=2.0 in /usr/local/lib/python3.8/dist-packages (from jinja2>=3.0.0->ansible-core~=2.13.1->ansible>=2.8->opera==0.6.5) (2.1.1)\n",
      "Requirement already satisfied: cffi>=1.12 in /usr/local/lib/python3.8/dist-packages (from cryptography->ansible-core~=2.13.1->ansible>=2.8->opera==0.6.5) (1.15.0)\n",
      "Requirement already satisfied: pyparsing!=3.0.5,>=2.0.2 in /usr/local/lib/python3.8/dist-packages (from packaging->ansible-core~=2.13.1->ansible>=2.8->opera==0.6.5) (3.0.7)\n",
      "Requirement already satisfied: pycparser in /usr/local/lib/python3.8/dist-packages (from cffi>=1.12->cryptography->ansible-core~=2.13.1->ansible>=2.8->opera==0.6.5) (2.21)\n",
      "\u001b[33mWARNING: Running pip as the 'root' user can result in broken permissions and conflicting behaviour with the system package manager. It is recommended to use a virtual environment instead: https://pip.pypa.io/warnings/venv\u001b[0m\u001b[33m\n",
      "\u001b[0m\u001b[33mWARNING: You are using pip version 22.0.4; however, version 22.1.2 is available.\n",
      "You should consider upgrading via the '/usr/bin/python -m pip install --upgrade pip' command.\u001b[0m\u001b[33m\n",
      "\u001b[0m"
     ]
    }
   ],
   "source": [
    "!pip install opera==0.6.5"
   ]
  },
  {
   "cell_type": "code",
   "execution_count": 47,
   "id": "56209ee8",
   "metadata": {},
   "outputs": [
    {
     "name": "stdout",
     "output_type": "stream",
     "text": [
      "The clean state deploy option might have unexpected consequences on the already deployed blueprint.\n",
      "Do you want to continue? (Y/n): [Worker_0]   Deploying source_node_0\n",
      "[Worker_0]     Executing create on source_node_0\n",
      "[Worker_0]   Deployment of source_node_0 complete\n",
      "[Worker_0]   Deploying workstation_0\n",
      "[Worker_0]   Deployment of workstation_0 complete\n",
      "[Worker_0]   Deploying ml_node_0\n",
      "[Worker_0]     Executing create on ml_node_0\n",
      "[Worker_0]   Deployment of ml_node_0 complete\n",
      "[Worker_0]   Deploying sink_node_0\n",
      "[Worker_0]     Executing create on sink_node_0\n",
      "[Worker_0]   Deployment of sink_node_0 complete\n",
      "yes: standard output: Broken pipe\n"
     ]
    }
   ],
   "source": [
    "!yes |opera deploy service.yaml -c"
   ]
  },
  {
   "cell_type": "code",
   "execution_count": 48,
   "id": "6d65107c",
   "metadata": {},
   "outputs": [
    {
     "name": "stdout",
     "output_type": "stream",
     "text": [
      "output_attribute_csv_file:\n",
      "  description: Sample source data\n",
      "  value: downloadmodel.com\n",
      "output_sink_uri:\n",
      "  description: Sink REST API to set values\n",
      "  value: postconfig.com\n",
      "output_src_URI:\n",
      "  description: Rest API to fetch data\n",
      "  value: downloadsource.com\n",
      "\n"
     ]
    }
   ],
   "source": [
    "!opera outputs"
   ]
  },
  {
   "cell_type": "code",
   "execution_count": 49,
   "id": "5c10e863",
   "metadata": {},
   "outputs": [
    {
     "name": "stdout",
     "output_type": "stream",
     "text": [
      "[Worker_0]   Undeploying sink_node_0\n",
      "[Worker_0]   Undeployment of sink_node_0 complete\n",
      "[Worker_0]   Undeploying ml_node_0\n",
      "[Worker_0]   Undeployment of ml_node_0 complete\n",
      "[Worker_0]   Undeploying source_node_0\n",
      "[Worker_0]   Undeployment of source_node_0 complete\n",
      "[Worker_0]   Undeploying workstation_0\n",
      "[Worker_0]   Undeployment of workstation_0 complete\n"
     ]
    }
   ],
   "source": [
    "!opera undeploy"
   ]
  },
  {
   "cell_type": "code",
   "execution_count": null,
   "id": "e578f574",
   "metadata": {},
   "outputs": [],
   "source": []
  }
 ],
 "metadata": {
  "kernelspec": {
   "display_name": "Python 3.7.4 64-bit",
   "language": "python",
   "name": "python3"
  },
  "language_info": {
   "codemirror_mode": {
    "name": "ipython",
    "version": 3
   },
   "file_extension": ".py",
   "mimetype": "text/x-python",
   "name": "python",
   "nbconvert_exporter": "python",
   "pygments_lexer": "ipython3",
   "version": "3.7.4"
  },
  "vscode": {
   "interpreter": {
    "hash": "da816bfb4fc193208868a0e8d5e0aadd085f9c3004d83a433cf6c0b041182abd"
   }
  }
 },
 "nbformat": 4,
 "nbformat_minor": 5
}
