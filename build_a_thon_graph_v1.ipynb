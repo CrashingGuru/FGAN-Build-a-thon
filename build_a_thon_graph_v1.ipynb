{
  "nbformat": 4,
  "nbformat_minor": 0,
  "metadata": {
    "colab": {
      "name": "build-a-thon-graph-v1.ipynb",
      "provenance": [],
      "collapsed_sections": [],
      "authorship_tag": "ABX9TyMCvHIo9m7UCCug0P3JuC4s",
      "include_colab_link": true
    },
    "kernelspec": {
      "name": "python3",
      "display_name": "Python 3"
    },
    "language_info": {
      "name": "python"
    }
  },
  "cells": [
    {
      "cell_type": "markdown",
      "metadata": {
        "id": "view-in-github",
        "colab_type": "text"
      },
      "source": [
        "<a href=\"https://colab.research.google.com/github/vrra/Students-mentoring-2022/blob/main/build_a_thon_graph_v1.ipynb\" target=\"_parent\"><img src=\"https://colab.research.google.com/assets/colab-badge.svg\" alt=\"Open In Colab\"/></a>"
      ]
    },
    {
      "cell_type": "markdown",
      "source": [
        "Created: 14 Apr 2022.   \n",
        "Contact: Vishnu Ram OV.   \n",
        "vishnu.n@ieee.org.   \n",
        "Licence: available for all purposes under the sun\n"
      ],
      "metadata": {
        "id": "xvVYTJnpc8NW"
      }
    },
    {
      "cell_type": "markdown",
      "source": [
        "Refer: https://neo4j.com/docs/aura/auradb/getting-started/create-database/"
      ],
      "metadata": {
        "id": "TOxLkcQAfFsO"
      }
    },
    {
      "cell_type": "markdown",
      "source": [
        "step-1: install neo4j"
      ],
      "metadata": {
        "id": "Seq4Lm-HdDJY"
      }
    },
    {
      "cell_type": "code",
      "execution_count": 1,
      "metadata": {
        "colab": {
          "base_uri": "https://localhost:8080/"
        },
        "id": "hKFE_mBLcWJL",
        "outputId": "f1236a23-3eff-43cf-b4fe-50fe764d46d4"
      },
      "outputs": [
        {
          "output_type": "stream",
          "name": "stdout",
          "text": [
            "Collecting neo4j\n",
            "  Downloading neo4j-4.4.2.tar.gz (89 kB)\n",
            "\u001b[?25l\r\u001b[K     |███▋                            | 10 kB 22.5 MB/s eta 0:00:01\r\u001b[K     |███████▎                        | 20 kB 12.8 MB/s eta 0:00:01\r\u001b[K     |███████████                     | 30 kB 9.5 MB/s eta 0:00:01\r\u001b[K     |██████████████▋                 | 40 kB 8.4 MB/s eta 0:00:01\r\u001b[K     |██████████████████▎             | 51 kB 4.4 MB/s eta 0:00:01\r\u001b[K     |██████████████████████          | 61 kB 5.2 MB/s eta 0:00:01\r\u001b[K     |█████████████████████████▋      | 71 kB 5.5 MB/s eta 0:00:01\r\u001b[K     |█████████████████████████████▎  | 81 kB 5.7 MB/s eta 0:00:01\r\u001b[K     |████████████████████████████████| 89 kB 3.9 MB/s \n",
            "\u001b[?25hRequirement already satisfied: pytz in /usr/local/lib/python3.7/dist-packages (from neo4j) (2018.9)\n",
            "Building wheels for collected packages: neo4j\n",
            "  Building wheel for neo4j (setup.py) ... \u001b[?25l\u001b[?25hdone\n",
            "  Created wheel for neo4j: filename=neo4j-4.4.2-py3-none-any.whl size=115365 sha256=a5f9aa53c6fb70b9a54b813953a627820e3a3c16d6dc17fb25482d7defe20325\n",
            "  Stored in directory: /root/.cache/pip/wheels/10/d6/28/95029d7f69690dbc3b93e4933197357987de34fbd44b50a0e4\n",
            "Successfully built neo4j\n",
            "Installing collected packages: neo4j\n",
            "Successfully installed neo4j-4.4.2\n"
          ]
        }
      ],
      "source": [
        "pip install neo4j\n"
      ]
    },
    {
      "cell_type": "markdown",
      "source": [
        "step-2: imports"
      ],
      "metadata": {
        "id": "P49wR7FPejI6"
      }
    },
    {
      "cell_type": "code",
      "source": [
        "from neo4j import GraphDatabase\n",
        "import logging\n",
        "from neo4j.exceptions import ServiceUnavailable"
      ],
      "metadata": {
        "id": "CMXk5yZcd-Jt"
      },
      "execution_count": 3,
      "outputs": []
    },
    {
      "cell_type": "markdown",
      "source": [
        "step-3: define helper class"
      ],
      "metadata": {
        "id": "QJsfeO0Ve03C"
      }
    },
    {
      "cell_type": "code",
      "source": [
        "\n",
        "\n",
        "class App:\n",
        "\n",
        "    def __init__(self, uri, user, password):\n",
        "        self.driver = GraphDatabase.driver(uri, auth=(user, password))\n",
        "\n",
        "    def close(self):\n",
        "        # Don't forget to close the driver connection when you are finished with it\n",
        "        self.driver.close()\n",
        "\n",
        "    def create_friendship(self, person1_name, person2_name):\n",
        "        with self.driver.session() as session:\n",
        "            # Write transactions allow the driver to handle retries and transient errors\n",
        "            result = session.write_transaction(\n",
        "                self._create_and_return_friendship, person1_name, person2_name)\n",
        "            for row in result:\n",
        "                print(\"Created friendship between: {p1}, {p2}\".format(p1=row['p1'], p2=row['p2']))\n",
        "\n",
        "    @staticmethod\n",
        "    def _create_and_return_friendship(tx, person1_name, person2_name):\n",
        "        # To learn more about the Cypher syntax, see https://neo4j.com/docs/cypher-manual/current/\n",
        "        # The Reference Card is also a good resource for keywords https://neo4j.com/docs/cypher-refcard/current/\n",
        "        query = (\n",
        "            \"CREATE (p1:Person { name: $person1_name }) \"\n",
        "            \"CREATE (p2:Person { name: $person2_name }) \"\n",
        "            \"CREATE (p1)-[:KNOWS]->(p2) \"\n",
        "            \"RETURN p1, p2\"\n",
        "        )\n",
        "        result = tx.run(query, person1_name=person1_name, person2_name=person2_name)\n",
        "        try:\n",
        "            return [{\"p1\": row[\"p1\"][\"name\"], \"p2\": row[\"p2\"][\"name\"]}\n",
        "                    for row in result]\n",
        "        # Capture any errors along with the query and data for traceability\n",
        "        except ServiceUnavailable as exception:\n",
        "            logging.error(\"{query} raised an error: \\n {exception}\".format(\n",
        "                query=query, exception=exception))\n",
        "            raise\n",
        "\n",
        "    def find_person(self, person_name):\n",
        "        with self.driver.session() as session:\n",
        "            result = session.read_transaction(self._find_and_return_person, person_name)\n",
        "            for row in result:\n",
        "                print(\"Found person: {row}\".format(row=row))\n",
        "\n",
        "    @staticmethod\n",
        "    def _find_and_return_person(tx, person_name):\n",
        "        query = (\n",
        "            \"MATCH (p:Person) \"\n",
        "            \"WHERE p.name = $person_name \"\n",
        "            \"RETURN p.name AS name\"\n",
        "        )\n",
        "        result = tx.run(query, person_name=person_name)\n",
        "        return [row[\"name\"] for row in result]"
      ],
      "metadata": {
        "id": "FccBUxEIeKf_"
      },
      "execution_count": 4,
      "outputs": []
    },
    {
      "cell_type": "markdown",
      "source": [
        "step-4: connect to DB"
      ],
      "metadata": {
        "id": "Pjilh9vPe4LY"
      }
    },
    {
      "cell_type": "code",
      "source": [
        "# Aura queries use an encrypted connection using the \"neo4j+s\" URI scheme\n",
        "uri = \"neo4j+s://a4270446.databases.neo4j.io\"\n",
        "user = \"neo4j\"\n",
        "password = \"here-take-my-passwd\"\n",
        "app = App(uri, user, password)\n",
        "app.create_friendship(\"Alice\", \"David\")\n",
        "app.find_person(\"Alice\")\n",
        "app.close()"
      ],
      "metadata": {
        "colab": {
          "base_uri": "https://localhost:8080/"
        },
        "id": "6p2nMvmodNw4",
        "outputId": "7eb4cdc5-3e45-4f98-d892-7240979c6a3d"
      },
      "execution_count": 7,
      "outputs": [
        {
          "output_type": "stream",
          "name": "stdout",
          "text": [
            "Created friendship between: Alice, David\n",
            "Found person: Alice\n",
            "Found person: Alice\n"
          ]
        }
      ]
    }
  ]
}