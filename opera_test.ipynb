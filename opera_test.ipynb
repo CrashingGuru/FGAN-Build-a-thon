{
  "cells": [
    {
      "cell_type": "markdown",
      "id": "91e43aee",
      "metadata": {},
      "source": [
        "Step 1: Insallation of xopera 0.6.5, code can be adapted to work with latest version"
      ]
    },
    {
      "cell_type": "markdown",
      "id": "95a40230",
      "metadata": {},
      "source": [
        "[![Open In Colab](https://colab.research.google.com/assets/colab-badge.svg)](https://colab.research.google.com/github/vrra/FGAN-Build-a-thon-2022/blob/main/Notebooks2022/build_a_thon_graph_v1.ipynb)"
      ]
    },
    {
      "cell_type": "code",
      "execution_count": null,
      "id": "VOV4s7zF0iTR",
      "metadata": {
        "colab": {
          "base_uri": "https://localhost:8080/"
        },
        "id": "VOV4s7zF0iTR",
        "outputId": "15d902d3-5127-4c68-f488-860a202af45c"
      },
      "outputs": [],
      "source": [
        "!pip install opera==0.6.5"
      ]
    },
    {
      "cell_type": "markdown",
      "id": "3059e577",
      "metadata": {},
      "source": [
        "Step 2: Clone the repository"
      ]
    },
    {
      "cell_type": "code",
      "execution_count": null,
      "id": "11b85c15",
      "metadata": {
        "colab": {
          "base_uri": "https://localhost:8080/"
        },
        "id": "11b85c15",
        "outputId": "a5fd21a8-eab4-4b18-d4fb-fdd38287977f"
      },
      "outputs": [],
      "source": [
        "!git clone -b 54-upload-yaml-files https://github.com/vrra/FGAN-Build-a-thon-2022.git"
      ]
    },
    {
      "cell_type": "markdown",
      "id": "225a4548",
      "metadata": {},
      "source": [
        "Step 3: Move into the folder"
      ]
    },
    {
      "cell_type": "code",
      "execution_count": null,
      "id": "e07190d1",
      "metadata": {
        "colab": {
          "base_uri": "https://localhost:8080/"
        },
        "id": "e07190d1",
        "outputId": "84fc51e5-f625-45e3-dc22-8d15476301aa"
      },
      "outputs": [],
      "source": [
        "%cd FGAN-Build-a-thon-2022/"
      ]
    },
    {
      "cell_type": "markdown",
      "id": "ff5c5c97",
      "metadata": {},
      "source": [
        "Step 4: Deploy the service template .."
      ]
    },
    {
      "cell_type": "code",
      "execution_count": null,
      "id": "1d6c97d6",
      "metadata": {
        "colab": {
          "base_uri": "https://localhost:8080/"
        },
        "id": "1d6c97d6",
        "outputId": "a9b00493-578f-4b9d-c2fe-7ee8ffbe9b97"
      },
      "outputs": [],
      "source": [
        "!opera deploy service.yaml"
      ]
    },
    {
      "cell_type": "markdown",
      "id": "ac9ca82e",
      "metadata": {},
      "source": [
        "Step 5: Undeploy the nodes, its always good to undeploy before reploying after making changes to the service template"
      ]
    },
    {
      "cell_type": "code",
      "execution_count": null,
      "id": "1121d327",
      "metadata": {
        "colab": {
          "base_uri": "https://localhost:8080/"
        },
        "id": "1121d327",
        "outputId": "3ed3c449-992f-4a2c-9e2b-b2911652c976"
      },
      "outputs": [],
      "source": [
        "!opera undeploy "
      ]
    }
  ],
  "metadata": {
    "colab": {
      "name": "opera_test.ipynb",
      "provenance": []
    },
    "kernelspec": {
      "display_name": "Python 3.7.4 64-bit",
      "language": "python",
      "name": "python3"
    },
    "language_info": {
      "codemirror_mode": {
        "name": "ipython",
        "version": 3
      },
      "file_extension": ".py",
      "mimetype": "text/x-python",
      "name": "python",
      "nbconvert_exporter": "python",
      "pygments_lexer": "ipython3",
      "version": "3.7.4"
    },
    "vscode": {
      "interpreter": {
        "hash": "da816bfb4fc193208868a0e8d5e0aadd085f9c3004d83a433cf6c0b041182abd"
      }
    }
  },
  "nbformat": 4,
  "nbformat_minor": 5
}
